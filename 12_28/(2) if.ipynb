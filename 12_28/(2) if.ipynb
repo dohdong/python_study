{
 "cells": [
  {
   "cell_type": "markdown",
   "id": "51127f12-bba4-4cf8-8589-98d65fb8f250",
   "metadata": {},
   "source": [
    "### 오후 시작."
   ]
  },
  {
   "cell_type": "markdown",
   "id": "c62d07c4-25f0-42d2-a552-da2fa33ae3e5",
   "metadata": {},
   "source": [
    "###### if 문 "
   ]
  },
  {
   "cell_type": "code",
   "execution_count": 14,
   "id": "4d44c3e4-a316-4ded-89d9-27c436224fbd",
   "metadata": {},
   "outputs": [],
   "source": [
    "age2 = 10\n",
    "if (age2 >= 20) :\n",
    "    print('성인입니다')"
   ]
  },
  {
   "cell_type": "code",
   "execution_count": 12,
   "id": "1db8de8a-ae15-4600-a004-fc9e348e02b1",
   "metadata": {},
   "outputs": [
    {
     "name": "stdout",
     "output_type": "stream",
     "text": [
      "성인입니다\n",
      "당신의 나이는 20입니다\n"
     ]
    }
   ],
   "source": [
    "age = 20\n",
    "if (age >= 20):\n",
    "    print( '성인입니다')\n",
    "    print( '당신의 나이는 %d입니다' %(age))"
   ]
  },
  {
   "cell_type": "code",
   "execution_count": 15,
   "id": "4fa40c7e-c150-47ab-8982-0c5e2ab121a6",
   "metadata": {},
   "outputs": [
    {
     "name": "stdout",
     "output_type": "stream",
     "text": [
      "성인입니다\n",
      "당신의 나이는 20 입니다\n"
     ]
    }
   ],
   "source": [
    "age = 20\n",
    "if (age >= 20):\n",
    "    print( '성인입니다')\n",
    "    print( '당신의 나이는',age,'입니다' )"
   ]
  },
  {
   "cell_type": "code",
   "execution_count": 18,
   "id": "ea5009e8-f7a3-4fd3-b992-581e634577ff",
   "metadata": {},
   "outputs": [
    {
     "name": "stdin",
     "output_type": "stream",
     "text": [
      "당신의 나이를 입력하세요 24\n"
     ]
    },
    {
     "name": "stdout",
     "output_type": "stream",
     "text": [
      "성인입니다\n",
      "당신의 나이는 24입니다\n",
      "당신은 1998년도에 태어났군요!\n"
     ]
    }
   ],
   "source": [
    "age = int(input('당신의 나이를 입력하세요'))\n",
    "born = 2021-age+1\n",
    "\n",
    "\n",
    "if (age >= 20):\n",
    "    print('성인입니다')\n",
    "    print('당신의 나이는 %d입니다' %(age))\n",
    "    print('당신은 %d년도에 태어났군요!' %(born))"
   ]
  },
  {
   "cell_type": "code",
   "execution_count": 22,
   "id": "44c983eb-570e-4f25-96be-8541b75db2f1",
   "metadata": {},
   "outputs": [
    {
     "name": "stdin",
     "output_type": "stream",
     "text": [
      "당신의 나이를 입력하세요 24.9\n"
     ]
    },
    {
     "name": "stdout",
     "output_type": "stream",
     "text": [
      "성인입니다\n",
      "당신의 나이는 24.90입니다\n",
      "당신은 1997년도에 태어났군요!\n"
     ]
    }
   ],
   "source": [
    "age = float(input('당신의 나이를 입력하세요'))\n",
    "born = 2021-age+1\n",
    "\n",
    "\n",
    "if age >= 20:\n",
    "    print('성인입니다')\n",
    "    print('당신의 나이는 %.2f입니다' %(age))\n",
    "    print('당신은 %d년도에 태어났군요!' %(born))"
   ]
  },
  {
   "cell_type": "code",
   "execution_count": 27,
   "id": "2e53718e-0fb6-4d64-a499-bccd924b8c66",
   "metadata": {},
   "outputs": [
    {
     "name": "stdin",
     "output_type": "stream",
     "text": [
      "당신의 나이를 입력하세요 39\n"
     ]
    },
    {
     "name": "stdout",
     "output_type": "stream",
     "text": [
      "성인입니다\n"
     ]
    }
   ],
   "source": [
    "age = int(input('당신의 나이를 입력하세요'))\n",
    "\n",
    "\n",
    "if age >= 40:\n",
    "    print('중년입니다')\n",
    "\n",
    "elif age >= 20 :\n",
    "    print('성인입니다')\n",
    "    \n",
    "else :\n",
    "    print('성인이 아닙니다')"
   ]
  },
  {
   "cell_type": "code",
   "execution_count": 30,
   "id": "5407262b-f351-48de-8fa1-35acd5b87bd9",
   "metadata": {},
   "outputs": [
    {
     "name": "stdin",
     "output_type": "stream",
     "text": [
      "당신의 나이를 입력하세요 77\n"
     ]
    },
    {
     "name": "stdout",
     "output_type": "stream",
     "text": [
      "중년입니다\n"
     ]
    }
   ],
   "source": [
    "age = int(input('당신의 나이를 입력하세요'))\n",
    "\n",
    "\n",
    "if age >= 80:\n",
    "    print('노년입니다')\n",
    "\n",
    "elif age >= 40 :\n",
    "    print('중년입니다')\n",
    "    \n",
    "elif age >= 20 :\n",
    "    print('성인입니다')\n",
    "    \n",
    "elif age >= 10 :\n",
    "    print('청소년입니다')\n",
    "    \n",
    "else :\n",
    "    print('어린이입니다')"
   ]
  },
  {
   "cell_type": "code",
   "execution_count": 41,
   "id": "11590d12-cb69-419f-af05-0bc34c62c385",
   "metadata": {},
   "outputs": [
    {
     "name": "stdin",
     "output_type": "stream",
     "text": [
      "성적을 입력하세요 78\n"
     ]
    },
    {
     "name": "stdout",
     "output_type": "stream",
     "text": [
      "B 학점 입니다.\n"
     ]
    }
   ],
   "source": [
    "score = int(input('성적을 입력하세요'))\n",
    "\n",
    "if score >= 90 :\n",
    "    print('A 학점 입니다~ 축하드려요')\n",
    "    \n",
    "elif score >= 70 :\n",
    "    print('B 학점 입니다.')\n",
    "    \n",
    "elif score >= 50 :\n",
    "    print('C 학점.')\n",
    "    \n",
    "elif score >= 30 :\n",
    "    print('D ')\n",
    "    \n",
    "else :\n",
    "    print('F학점 입니다. 공부하세요!')\n",
    "\n",
    "    "
   ]
  },
  {
   "cell_type": "code",
   "execution_count": 45,
   "id": "f394dd10-0af4-4db5-a54d-19cd5994d3b8",
   "metadata": {},
   "outputs": [
    {
     "name": "stdin",
     "output_type": "stream",
     "text": [
      "숫자를 입력하세요 34\n"
     ]
    },
    {
     "name": "stdout",
     "output_type": "stream",
     "text": [
      "0\n",
      "짝수입니다.\n"
     ]
    }
   ],
   "source": [
    "num = int(input('숫자를 입력하세요'))\n",
    "\n",
    "num2 = num % 2 \n",
    "\n",
    "print(num2)\n",
    "\n",
    "if num2 == 0 :\n",
    "    print('짝수입니다.')\n",
    "    \n",
    "else :\n",
    "    print('홀수입니다.')"
   ]
  },
  {
   "cell_type": "code",
   "execution_count": 46,
   "id": "d46c61ce-0181-4f0d-8aab-62e6177466cd",
   "metadata": {},
   "outputs": [
    {
     "name": "stdout",
     "output_type": "stream",
     "text": [
      "<class 'int'>\n"
     ]
    }
   ],
   "source": [
    "print(type(num2))"
   ]
  },
  {
   "cell_type": "code",
   "execution_count": 59,
   "id": "57e94cca-1eb6-45ca-b08d-a53717f15680",
   "metadata": {
    "collapsed": true,
    "jupyter": {
     "outputs_hidden": true
    },
    "tags": []
   },
   "outputs": [
    {
     "name": "stdin",
     "output_type": "stream",
     "text": [
      "아무 숫자나 주세요 34\n"
     ]
    },
    {
     "name": "stdout",
     "output_type": "stream",
     "text": [
      "양수이고\n",
      "짝수네요\n"
     ]
    }
   ],
   "source": [
    "num = int(input('아무 숫자나 주세요'))\n",
    "\n",
    "if num > 0 :\n",
    "    print('양수이고')\n",
    "    if num % 2 == 0 :\n",
    "        print('짝수네요')\n",
    "    else :\n",
    "        print('홀수네요')\n",
    "\n",
    "else :\n",
    "    print('음수이고')\n",
    "    if num % 2 == 0 :\n",
    "        print('짝수네요')\n",
    "    else :\n",
    "        print('홀수네요')"
   ]
  },
  {
   "cell_type": "markdown",
   "id": "7ca95f28-ec78-4be3-9189-8e6ba133cdc6",
   "metadata": {},
   "source": [
    "## 반복문~"
   ]
  },
  {
   "cell_type": "code",
   "execution_count": 106,
   "id": "b0818446-971b-4bba-82e3-87a6597ed150",
   "metadata": {},
   "outputs": [
    {
     "name": "stdout",
     "output_type": "stream",
     "text": [
      "1\n",
      "2\n",
      "3\n",
      "4\n",
      "5\n",
      "6\n",
      "7\n",
      "8\n",
      "9\n",
      "10\n"
     ]
    }
   ],
   "source": [
    "i = 1\n",
    "\n",
    "\n",
    "while i <=10:\n",
    "    print(i)\n",
    "    i = i +1                                     #증가를 쓰지 않으면 무한루프니까 꼭 쓰자!\n",
    "    \n",
    "    \n"
   ]
  },
  {
   "cell_type": "code",
   "execution_count": 82,
   "id": "ba336741-ea31-4a75-9e3a-38e78fa02287",
   "metadata": {},
   "outputs": [
    {
     "name": "stdout",
     "output_type": "stream",
     "text": [
      "hello 1\n",
      "hello 2\n",
      "hello 3\n",
      "hello 4\n",
      "hello 5\n",
      "hello 6\n",
      "hello 7\n",
      "hello 8\n",
      "hello 9\n",
      "hello 10\n"
     ]
    }
   ],
   "source": [
    "i = 1\n",
    "while i <= 10:\n",
    "    print('hello',i)\n",
    "    i = i+1"
   ]
  },
  {
   "cell_type": "code",
   "execution_count": 84,
   "id": "4d0930a6-df33-4e63-aab0-6b05f25d278b",
   "metadata": {},
   "outputs": [
    {
     "name": "stdout",
     "output_type": "stream",
     "text": [
      "hello 1\n",
      "hello 2\n",
      "hello 3\n",
      "hello 4\n",
      "hello 5\n",
      "hello 6\n",
      "hello 7\n",
      "hello 8\n",
      "hello 9\n",
      "hello 10\n"
     ]
    }
   ],
   "source": [
    "i = 1\n",
    "while i <= 10:\n",
    "    print('hello %d' %i)\n",
    "    i = i+1"
   ]
  },
  {
   "cell_type": "code",
   "execution_count": 77,
   "id": "5c448373-9429-4f73-ad84-3d6978e74da0",
   "metadata": {},
   "outputs": [
    {
     "name": "stdout",
     "output_type": "stream",
     "text": [
      "1\n",
      "3\n",
      "5\n",
      "7\n",
      "9\n"
     ]
    }
   ],
   "source": [
    "i = 1\n",
    "while i <= 10:\n",
    "    print(i)\n",
    "    i=i+2"
   ]
  },
  {
   "cell_type": "code",
   "execution_count": 90,
   "id": "0e956f14-f7db-48cf-909c-d5bb71a86c76",
   "metadata": {
    "collapsed": true,
    "jupyter": {
     "outputs_hidden": true
    },
    "tags": []
   },
   "outputs": [
    {
     "name": "stdout",
     "output_type": "stream",
     "text": [
      "0\n",
      "짝수\n",
      "1\n",
      "홀수\n",
      "2\n",
      "짝수\n",
      "3\n",
      "홀수\n",
      "4\n",
      "짝수\n",
      "5\n",
      "홀수\n",
      "6\n",
      "짝수\n",
      "7\n",
      "홀수\n",
      "8\n",
      "짝수\n",
      "9\n",
      "홀수\n",
      "10\n",
      "짝수\n"
     ]
    }
   ],
   "source": [
    "i = 0\n",
    "while i <= 10:\n",
    "    \n",
    "    print(i)\n",
    "    if i % 2 == 0 :\n",
    "        print('짝수')\n",
    "    else :\n",
    "        print('홀수')\n",
    "    i=i+1"
   ]
  },
  {
   "cell_type": "code",
   "execution_count": 91,
   "id": "ce525c56-0cb6-41f9-9ac4-ee8a1fa6a013",
   "metadata": {
    "collapsed": true,
    "jupyter": {
     "outputs_hidden": true
    },
    "tags": []
   },
   "outputs": [
    {
     "name": "stdout",
     "output_type": "stream",
     "text": [
      "짝수\n",
      "홀수\n",
      "짝수\n",
      "홀수\n",
      "짝수\n",
      "홀수\n",
      "짝수\n",
      "홀수\n",
      "짝수\n",
      "홀수\n",
      "짝수\n"
     ]
    }
   ],
   "source": [
    "i = 0\n",
    "while i <= 10:\n",
    "    if i % 2 == 0 :\n",
    "        print('짝수')\n",
    "    else :\n",
    "        print('홀수')\n",
    "    i=i+1"
   ]
  },
  {
   "cell_type": "code",
   "execution_count": 108,
   "id": "2e5e4d84-8fae-4384-a0df-bef5b075f717",
   "metadata": {
    "tags": []
   },
   "outputs": [
    {
     "name": "stdout",
     "output_type": "stream",
     "text": [
      "5\n",
      "10\n",
      "15\n",
      "20\n",
      "25\n",
      "30\n",
      "35\n",
      "40\n",
      "45\n",
      "50\n",
      "55\n",
      "60\n",
      "65\n",
      "70\n",
      "75\n",
      "80\n",
      "85\n",
      "90\n",
      "95\n",
      "100\n"
     ]
    }
   ],
   "source": [
    "i = 1\n",
    "while i <= 100:\n",
    "\n",
    "    if i % 5 == 0:\n",
    "        print(i)\n",
    "    i=i+1"
   ]
  },
  {
   "cell_type": "code",
   "execution_count": 104,
   "id": "c9756d23-7276-447a-afc2-6195d2ff9dc4",
   "metadata": {},
   "outputs": [
    {
     "name": "stdout",
     "output_type": "stream",
     "text": [
      "1.0\n",
      "2.0\n",
      "3.0\n",
      "4.0\n",
      "5.0\n",
      "6.0\n",
      "7.0\n",
      "8.0\n",
      "9.0\n",
      "10.0\n",
      "<class 'float'>\n"
     ]
    }
   ],
   "source": [
    "i1 = 1\n",
    "i = float(i1)\n",
    "while i <=10:\n",
    "    print(i)\n",
    "    i = i + 1\n",
    "\n",
    "print(type(i))\n",
    "\n"
   ]
  },
  {
   "cell_type": "markdown",
   "id": "1d6e91fc-733e-490b-8745-7d65086310d6",
   "metadata": {},
   "source": [
    "###### for 문 시작~"
   ]
  },
  {
   "cell_type": "code",
   "execution_count": 110,
   "id": "80b08111-d8cb-4df0-a5e9-6fda778e4064",
   "metadata": {},
   "outputs": [
    {
     "name": "stdout",
     "output_type": "stream",
     "text": [
      "range(0, 10)\n"
     ]
    }
   ],
   "source": [
    "print(range(10))"
   ]
  },
  {
   "cell_type": "code",
   "execution_count": 116,
   "id": "6757ba79-dbe0-4970-8a3f-38a0d525cd88",
   "metadata": {},
   "outputs": [
    {
     "name": "stdout",
     "output_type": "stream",
     "text": [
      "0\n",
      "1\n",
      "2\n",
      "3\n",
      "4\n"
     ]
    }
   ],
   "source": [
    "for i in range(5) :\n",
    "    print(i)"
   ]
  },
  {
   "cell_type": "code",
   "execution_count": 120,
   "id": "9aa7615f-a5bc-410c-9dd0-14ed6b9352bc",
   "metadata": {},
   "outputs": [
    {
     "name": "stdout",
     "output_type": "stream",
     "text": [
      "1\n",
      "2\n",
      "3\n",
      "4\n",
      "5\n",
      "6\n",
      "7\n",
      "8\n",
      "9\n",
      "10\n"
     ]
    }
   ],
   "source": [
    "for i in range(10):\n",
    "    print(i+1)"
   ]
  },
  {
   "cell_type": "code",
   "execution_count": 125,
   "id": "2625e7ec-8cc2-4f00-825f-6011fc6a0109",
   "metadata": {},
   "outputs": [
    {
     "name": "stdout",
     "output_type": "stream",
     "text": [
      "range(0, 10)\n"
     ]
    }
   ],
   "source": [
    "print(range(0, 10))"
   ]
  },
  {
   "cell_type": "markdown",
   "id": "9740c800-256f-4ad8-8972-6e9dd763c91d",
   "metadata": {},
   "source": [
    "List, Tuple, Set , Dictionary.\n",
    "\n",
    "list 생성은    a = list( )    type은 리스트. \n",
    "\n",
    "list 기호는 [] tuple은 ( ) set은 { }\n",
    "\n",
    "list 만들때 a = list() or a = [1,2,3]\n",
    "tuple b=tuple() b=(1,2,3)\n",
    "set c=set() c = {1,2,3}\n",
    "\n",
    "set은 중복값x, 순서 유지x\n",
    "list는 순서도 지켜지고, 중복도 허용됨.\n",
    "tuple은 값을 못바꿈, 수정삭제가 안됨."
   ]
  },
  {
   "cell_type": "code",
   "execution_count": 127,
   "id": "fe3a6e13-fe6b-41dd-8f68-942bbcd69f61",
   "metadata": {},
   "outputs": [
    {
     "name": "stdout",
     "output_type": "stream",
     "text": [
      "['사과', '배', '귤', '샤인머스캣', '바나나']\n"
     ]
    }
   ],
   "source": [
    "fruits = ['사과', '배', '귤', '샤인머스캣', '바나나']\n",
    "print(fruits)"
   ]
  },
  {
   "cell_type": "code",
   "execution_count": 128,
   "id": "aa002b75-51a9-4abb-a5cc-d818f778c7cc",
   "metadata": {},
   "outputs": [
    {
     "name": "stdout",
     "output_type": "stream",
     "text": [
      "<class 'list'>\n"
     ]
    }
   ],
   "source": [
    "print(type(fruits))"
   ]
  },
  {
   "cell_type": "code",
   "execution_count": 132,
   "id": "f06049a1-5cc7-4ed3-ae41-d9c73f0f5712",
   "metadata": {},
   "outputs": [
    {
     "name": "stdout",
     "output_type": "stream",
     "text": [
      "5\n"
     ]
    }
   ],
   "source": [
    "print(len(fruits))"
   ]
  },
  {
   "cell_type": "code",
   "execution_count": 133,
   "id": "5cb58a72-40f7-412f-92ae-66b472497e8a",
   "metadata": {},
   "outputs": [
    {
     "name": "stdout",
     "output_type": "stream",
     "text": [
      "사과\n"
     ]
    }
   ],
   "source": [
    "print(fruits[0])"
   ]
  },
  {
   "cell_type": "code",
   "execution_count": 134,
   "id": "c04d564a-f720-49a1-a0a7-b0f3bacaa5e0",
   "metadata": {},
   "outputs": [
    {
     "name": "stdout",
     "output_type": "stream",
     "text": [
      "샤인머스캣\n"
     ]
    }
   ],
   "source": [
    "print(fruits[3])"
   ]
  },
  {
   "cell_type": "code",
   "execution_count": 135,
   "id": "9ed52c7b-1a26-4f2b-aa37-e593b032f72d",
   "metadata": {},
   "outputs": [
    {
     "name": "stdout",
     "output_type": "stream",
     "text": [
      "<class 'str'>\n"
     ]
    }
   ],
   "source": [
    "print(type(fruits[0]))"
   ]
  },
  {
   "cell_type": "code",
   "execution_count": 137,
   "id": "d39d4dc1-bf4d-4d84-89a1-d62304c98533",
   "metadata": {},
   "outputs": [
    {
     "name": "stdout",
     "output_type": "stream",
     "text": [
      "사과\n",
      "배\n",
      "귤\n",
      "샤인머스캣\n",
      "바나나\n"
     ]
    }
   ],
   "source": [
    "for i in fruits:\n",
    "    print (i) "
   ]
  },
  {
   "cell_type": "code",
   "execution_count": 141,
   "id": "444e181c-873c-4ae8-afcb-f3620518bf7a",
   "metadata": {},
   "outputs": [
    {
     "name": "stdout",
     "output_type": "stream",
     "text": [
      "나는 사과를 좋아합니다\n",
      "나는 배를 좋아합니다\n",
      "나는 귤를 좋아합니다\n",
      "나는 샤인머스캣를 좋아합니다\n",
      "나는 바나나를 좋아합니다\n"
     ]
    }
   ],
   "source": [
    "for i in fruits:\n",
    "    print('나는 %s를 좋아합니다' %(i))"
   ]
  },
  {
   "cell_type": "code",
   "execution_count": 148,
   "id": "15b942de-d94c-47b2-b7c2-22f7b67a6c37",
   "metadata": {},
   "outputs": [
    {
     "name": "stdout",
     "output_type": "stream",
     "text": [
      "['사과', '배', '귤', '샤인머스캣', '바나나']\n"
     ]
    }
   ],
   "source": [
    "fruits = ['사과', '배', '귤', '샤인머스캣', '바나나']\n",
    "print(fruits)"
   ]
  },
  {
   "cell_type": "code",
   "execution_count": 155,
   "id": "8eb151dc-92c1-4530-bf02-afc4f8961a2d",
   "metadata": {},
   "outputs": [
    {
     "name": "stdout",
     "output_type": "stream",
     "text": [
      "['배', '귤', '샤인머스캣', '바나나']\n"
     ]
    }
   ],
   "source": [
    "print(fruits[1:])"
   ]
  },
  {
   "cell_type": "code",
   "execution_count": 157,
   "id": "3299f338-25bf-4397-a66e-ab43b6a386a1",
   "metadata": {},
   "outputs": [],
   "source": [
    "fruits[0] = \"오렌지\""
   ]
  },
  {
   "cell_type": "code",
   "execution_count": 158,
   "id": "c9229824-5f7b-4e1a-9ece-1f249951c8f7",
   "metadata": {},
   "outputs": [
    {
     "name": "stdout",
     "output_type": "stream",
     "text": [
      "['오렌지', '배', '귤', '샤인머스캣', '바나나']\n"
     ]
    }
   ],
   "source": [
    "print(fruits)"
   ]
  },
  {
   "cell_type": "code",
   "execution_count": 160,
   "id": "8e478d7f-8719-49e0-b5d3-f135d7886b69",
   "metadata": {},
   "outputs": [
    {
     "name": "stdin",
     "output_type": "stream",
     "text": [
      "당신이 좋아하는 과일은 무엇입니까? 딸기\n"
     ]
    }
   ],
   "source": [
    "new = input('당신이 좋아하는 과일은 무엇입니까?')\n"
   ]
  },
  {
   "cell_type": "code",
   "execution_count": 164,
   "id": "0b3997b5-ae94-4b42-906d-681e1ec64e20",
   "metadata": {},
   "outputs": [],
   "source": [
    "fruits[4] = new"
   ]
  },
  {
   "cell_type": "code",
   "execution_count": 163,
   "id": "ea9c9cca-0eee-4cd4-bb37-06af15b3064c",
   "metadata": {},
   "outputs": [
    {
     "name": "stdout",
     "output_type": "stream",
     "text": [
      "['오렌지', '배', '귤', '샤인머스캣', '딸기']\n"
     ]
    }
   ],
   "source": [
    "print(fruits)"
   ]
  },
  {
   "cell_type": "code",
   "execution_count": 165,
   "id": "b1a29fca-4a92-4c25-b73d-3b609c58a936",
   "metadata": {},
   "outputs": [
    {
     "name": "stdin",
     "output_type": "stream",
     "text": [
      "당신이 좋아하는 과일은 무엇입니까? 두리안\n"
     ]
    }
   ],
   "source": [
    "fruits[4] = input('당신이 좋아하는 과일은 무엇입니까?')"
   ]
  },
  {
   "cell_type": "code",
   "execution_count": 166,
   "id": "5f52c9b1-a2f2-4e78-9a3a-855baf7df107",
   "metadata": {},
   "outputs": [
    {
     "name": "stdout",
     "output_type": "stream",
     "text": [
      "['오렌지', '배', '귤', '샤인머스캣', '두리안']\n"
     ]
    }
   ],
   "source": [
    "print(fruits)"
   ]
  },
  {
   "cell_type": "code",
   "execution_count": 168,
   "id": "3bfabcf3-8217-4a81-a325-9d4d3d893227",
   "metadata": {},
   "outputs": [],
   "source": [
    "number = [ 3, 4, 28, 19, 24, 7, 8, 44, 49, 10 ]"
   ]
  },
  {
   "cell_type": "code",
   "execution_count": 178,
   "id": "4a3fb9b9-0e55-41c5-b3ed-ee4f68be6189",
   "metadata": {},
   "outputs": [
    {
     "name": "stdout",
     "output_type": "stream",
     "text": [
      "[3, 4, 28, 19, 24, 7, 8, 44, 49, 10]\n"
     ]
    }
   ],
   "source": [
    "print(number)"
   ]
  },
  {
   "cell_type": "code",
   "execution_count": 179,
   "id": "559a6246-2092-4fef-aba0-b3379005d43c",
   "metadata": {},
   "outputs": [
    {
     "name": "stdout",
     "output_type": "stream",
     "text": [
      "<class 'list'>\n"
     ]
    }
   ],
   "source": [
    "print(type(number))"
   ]
  },
  {
   "cell_type": "code",
   "execution_count": 180,
   "id": "0c8bd3d7-674f-4ace-936c-db6e8f035a02",
   "metadata": {},
   "outputs": [
    {
     "name": "stdout",
     "output_type": "stream",
     "text": [
      "7\n"
     ]
    }
   ],
   "source": [
    "print(number[5])"
   ]
  },
  {
   "cell_type": "code",
   "execution_count": 181,
   "id": "571d9c64-f4ac-4f5c-85de-9303361a10fe",
   "metadata": {},
   "outputs": [
    {
     "name": "stdout",
     "output_type": "stream",
     "text": [
      "10\n"
     ]
    }
   ],
   "source": [
    "print(len(number))"
   ]
  },
  {
   "cell_type": "code",
   "execution_count": 219,
   "id": "a6bd1135-40fc-45f4-9a05-3d75df01c0b1",
   "metadata": {},
   "outputs": [
    {
     "name": "stdout",
     "output_type": "stream",
     "text": [
      "3\n",
      "4\n",
      "28\n",
      "19\n",
      "24\n",
      "7\n",
      "8\n",
      "44\n",
      "49\n",
      "10\n"
     ]
    }
   ],
   "source": [
    "for i in number:\n",
    "    print(i)"
   ]
  },
  {
   "cell_type": "code",
   "execution_count": 304,
   "id": "8fb4f1b1-6104-4d6b-9157-a84c8c928068",
   "metadata": {},
   "outputs": [
    {
     "name": "stdout",
     "output_type": "stream",
     "text": [
      "4\n",
      "28\n"
     ]
    }
   ],
   "source": [
    "for n in number[1:3] :\n",
    "    print(n)\n",
    "    \n"
   ]
  },
  {
   "cell_type": "code",
   "execution_count": 235,
   "id": "d369baef-5f39-4bc7-8c7c-fcb6b0893265",
   "metadata": {},
   "outputs": [
    {
     "name": "stdout",
     "output_type": "stream",
     "text": [
      "3\n",
      "7\n",
      "35\n",
      "54\n",
      "78\n",
      "85\n",
      "93\n",
      "137\n",
      "186\n",
      "196\n"
     ]
    }
   ],
   "source": [
    "add = 0\n",
    "for n in number : \n",
    "    \n",
    "    add = add + n\n",
    "    print(add)"
   ]
  },
  {
   "cell_type": "code",
   "execution_count": 236,
   "id": "973b8c08-732a-457b-821d-ebed801e5e8b",
   "metadata": {},
   "outputs": [
    {
     "name": "stdout",
     "output_type": "stream",
     "text": [
      "196\n"
     ]
    }
   ],
   "source": [
    "print(add)"
   ]
  },
  {
   "cell_type": "code",
   "execution_count": 22,
   "id": "89709c05-c9ed-4bfa-af19-03199b37511f",
   "metadata": {},
   "outputs": [
    {
     "name": "stdout",
     "output_type": "stream",
     "text": [
      "1\n",
      "2\n",
      "3\n",
      "4\n",
      "5\n",
      "6\n",
      "7\n",
      "8\n",
      "9\n",
      "10\n"
     ]
    }
   ],
   "source": [
    "for i in range(10):\n",
    "    i = i +1 \n",
    "    print(i)"
   ]
  },
  {
   "cell_type": "code",
   "execution_count": 253,
   "id": "b6938cb0-11a6-4d0b-94fa-f283aac825e0",
   "metadata": {},
   "outputs": [
    {
     "name": "stdout",
     "output_type": "stream",
     "text": [
      "0\n",
      "1\n",
      "3\n",
      "6\n",
      "10\n",
      "15\n",
      "21\n",
      "28\n",
      "36\n",
      "45\n"
     ]
    }
   ],
   "source": [
    "a34 = 0\n",
    "for i in range(10):\n",
    "    a34 = a34 +i\n",
    "    print(a34)"
   ]
  },
  {
   "cell_type": "code",
   "execution_count": 264,
   "id": "3e5f20e6-7f97-44b5-8c1c-e1d2b5d939c3",
   "metadata": {},
   "outputs": [
    {
     "name": "stdout",
     "output_type": "stream",
     "text": [
      "5050\n"
     ]
    }
   ],
   "source": [
    "new2 = 0\n",
    "for i in range(100):\n",
    "    new2 = new2 + i+1\n",
    "print(new2)"
   ]
  },
  {
   "cell_type": "code",
   "execution_count": 310,
   "id": "b1ff83a9-6c21-464d-8b0a-5304d8784028",
   "metadata": {},
   "outputs": [
    {
     "name": "stdout",
     "output_type": "stream",
     "text": [
      "<class 'list'>\n",
      "28\n"
     ]
    }
   ],
   "source": [
    "number = [ 3, 4, 28, 19, 24, 7, 8, 44, 49, 10 ] #여기서 짝수만 더하고 짝수 갯수만 찍어보라.\n",
    "\n",
    "print(type(number))\n",
    "\n",
    "numberInt = int(number[2])\n",
    "print(numberInt)"
   ]
  },
  {
   "cell_type": "code",
   "execution_count": 289,
   "id": "b590b2f1-d0ec-46e4-ac3b-e2fd6be9cd61",
   "metadata": {},
   "outputs": [
    {
     "name": "stdout",
     "output_type": "stream",
     "text": [
      "4\n",
      "28\n",
      "24\n",
      "8\n",
      "44\n",
      "10\n",
      "짝수 개수는 6개 입니다.\n"
     ]
    }
   ],
   "source": [
    "cnt = 0\n",
    "for i in number :\n",
    "    if i % 2 == 0:\n",
    "        print(i)\n",
    "        cnt = cnt +1\n",
    "        # print(cnt)\n",
    "        \n",
    "print('짝수 개수는 %d개 입니다.' %cnt)\n",
    "\n",
    "    "
   ]
  },
  {
   "cell_type": "code",
   "execution_count": 290,
   "id": "22187e04-2c12-4a13-b58d-985fc6d97406",
   "metadata": {},
   "outputs": [
    {
     "name": "stdout",
     "output_type": "stream",
     "text": [
      "4\n",
      "28\n",
      "24\n",
      "8\n",
      "44\n",
      "10\n",
      "118\n",
      "짝수 총 합은 118입니다.\n"
     ]
    }
   ],
   "source": [
    "add5 = 0\n",
    "for i in number :\n",
    "    if i % 2 == 0:\n",
    "        print(i)\n",
    "        add5 = add5 + i\n",
    "        # print(add5)\n",
    "print(add5)\n",
    "print('짝수 총 합은 %d입니다.' %add5)"
   ]
  },
  {
   "cell_type": "code",
   "execution_count": 298,
   "id": "e743428d-55c7-47c6-9adf-7530e3728941",
   "metadata": {},
   "outputs": [
    {
     "ename": "TypeError",
     "evalue": "'int' object is not iterable",
     "output_type": "error",
     "traceback": [
      "\u001b[1;31m---------------------------------------------------------------------------\u001b[0m",
      "\u001b[1;31mTypeError\u001b[0m                                 Traceback (most recent call last)",
      "\u001b[1;32m~\\AppData\\Local\\Temp/ipykernel_1964/2944146907.py\u001b[0m in \u001b[0;36m<module>\u001b[1;34m\u001b[0m\n\u001b[1;32m----> 1\u001b[1;33m \u001b[0ma\u001b[0m \u001b[1;33m=\u001b[0m \u001b[0mlist\u001b[0m\u001b[1;33m(\u001b[0m\u001b[1;36m2\u001b[0m\u001b[1;33m)\u001b[0m\u001b[1;33m\u001b[0m\u001b[1;33m\u001b[0m\u001b[0m\n\u001b[0m",
      "\u001b[1;31mTypeError\u001b[0m: 'int' object is not iterable"
     ]
    }
   ],
   "source": [
    "a = list(2)"
   ]
  },
  {
   "cell_type": "code",
   "execution_count": 293,
   "id": "1e2a6ceb-5d40-474b-83e2-f6d294cae37a",
   "metadata": {},
   "outputs": [
    {
     "name": "stdout",
     "output_type": "stream",
     "text": [
      "['h', 'e', 'l', 'l', 'o', ' ', 'w', 'o', 'r', 'l', 'd']\n"
     ]
    }
   ],
   "source": [
    "b = list('hello world')\n",
    "print(b)"
   ]
  },
  {
   "cell_type": "code",
   "execution_count": 294,
   "id": "6c0127b2-89ff-4220-81be-2da38f999f80",
   "metadata": {},
   "outputs": [
    {
     "name": "stdout",
     "output_type": "stream",
     "text": [
      "11\n"
     ]
    }
   ],
   "source": [
    "print(len(b))"
   ]
  },
  {
   "cell_type": "code",
   "execution_count": 295,
   "id": "06f28973-6249-4873-b2e2-d973bad7fac8",
   "metadata": {},
   "outputs": [
    {
     "ename": "TypeError",
     "evalue": "list expected at most 1 argument, got 2",
     "output_type": "error",
     "traceback": [
      "\u001b[1;31m---------------------------------------------------------------------------\u001b[0m",
      "\u001b[1;31mTypeError\u001b[0m                                 Traceback (most recent call last)",
      "\u001b[1;32m~\\AppData\\Local\\Temp/ipykernel_1964/824995186.py\u001b[0m in \u001b[0;36m<module>\u001b[1;34m\u001b[0m\n\u001b[1;32m----> 1\u001b[1;33m \u001b[0mc\u001b[0m \u001b[1;33m=\u001b[0m \u001b[0mlist\u001b[0m\u001b[1;33m(\u001b[0m\u001b[1;34m'hello'\u001b[0m\u001b[1;33m,\u001b[0m \u001b[1;34m'world'\u001b[0m\u001b[1;33m)\u001b[0m\u001b[1;33m\u001b[0m\u001b[1;33m\u001b[0m\u001b[0m\n\u001b[0m",
      "\u001b[1;31mTypeError\u001b[0m: list expected at most 1 argument, got 2"
     ]
    }
   ],
   "source": [
    "c = list('hello', 'world')"
   ]
  },
  {
   "cell_type": "code",
   "execution_count": 297,
   "id": "ad726bd6-ddd0-414a-96c4-9570b81b9111",
   "metadata": {},
   "outputs": [
    {
     "name": "stdout",
     "output_type": "stream",
     "text": [
      "['hello', 'world']\n"
     ]
    }
   ],
   "source": [
    "d = ['hello', 'world']\n",
    "print(d)"
   ]
  },
  {
   "cell_type": "code",
   "execution_count": 317,
   "id": "606b9445-42e0-4c26-8da6-6bf0933c8828",
   "metadata": {},
   "outputs": [
    {
     "name": "stdout",
     "output_type": "stream",
     "text": [
      "1\n",
      "1\n",
      "2\n",
      "3\n",
      "3\n",
      "6\n",
      "4\n",
      "10\n",
      "5\n",
      "15\n",
      "6\n",
      "21\n",
      "7\n",
      "28\n",
      "8\n",
      "36\n",
      "9\n",
      "45\n",
      "10\n",
      "55\n"
     ]
    }
   ],
   "source": [
    "i= 1\n",
    "add9 = 0\n",
    "for i in range(10):\n",
    "    i = i+1\n",
    "    add9 = add9 + i\n",
    "    print(i)\n",
    "    print(add9)"
   ]
  },
  {
   "cell_type": "code",
   "execution_count": 3,
   "id": "057c6dfc-501b-4ff4-9f5a-70f5e01c26f7",
   "metadata": {},
   "outputs": [
    {
     "name": "stdout",
     "output_type": "stream",
     "text": [
      "0\n",
      ", 1\n",
      ", 2\n",
      ", 3\n",
      ", 4\n",
      ", 5\n",
      ", 6\n",
      ", 7\n",
      ", 8\n",
      ", 9\n",
      ", 10\n",
      ", 11\n",
      ", 12\n",
      ", 13\n"
     ]
    }
   ],
   "source": [
    "n = 13\n",
    "a = 0\n",
    "b = 1\n",
    "\n",
    "print('0')\n",
    "\n",
    "while b <= n:\n",
    "    print(', %d' %b )\n",
    "    b = b+1"
   ]
  },
  {
   "cell_type": "code",
   "execution_count": 14,
   "id": "37c3e317-9e56-4dd0-bc51-db1c7d300900",
   "metadata": {},
   "outputs": [
    {
     "name": "stdout",
     "output_type": "stream",
     "text": [
      "1\n",
      "1\n",
      "2\n",
      "3\n",
      "5\n",
      "8\n",
      "13\n"
     ]
    }
   ],
   "source": [
    "n=13\n",
    "a=0;b=1\n",
    "while b<=n:\n",
    "    print(b)\n",
    "    a,b = b,a+b"
   ]
  },
  {
   "cell_type": "code",
   "execution_count": 13,
   "id": "f30655b6-9a82-4552-b9d5-88c3969c8137",
   "metadata": {},
   "outputs": [
    {
     "name": "stdout",
     "output_type": "stream",
     "text": [
      "0\n",
      "2\n",
      "4\n",
      "6\n",
      "8\n",
      "10\n",
      "12\n",
      "14\n",
      "16\n",
      "18\n"
     ]
    }
   ],
   "source": [
    "i =1\n",
    "for i in range(10):\n",
    "    i = i + i\n",
    "    print('%d' %i)\n"
   ]
  },
  {
   "cell_type": "code",
   "execution_count": 15,
   "id": "1105e8e6-590b-45e4-8231-aecd43019b51",
   "metadata": {},
   "outputs": [
    {
     "ename": "SyntaxError",
     "evalue": "invalid syntax (Temp/ipykernel_1928/331481151.py, line 1)",
     "output_type": "error",
     "traceback": [
      "\u001b[1;36m  File \u001b[1;32m\"C:\\Users\\BIT\\AppData\\Local\\Temp/ipykernel_1928/331481151.py\"\u001b[1;36m, line \u001b[1;32m1\u001b[0m\n\u001b[1;33m    for(i=3; i<=n; i++) {\u001b[0m\n\u001b[1;37m         ^\u001b[0m\n\u001b[1;31mSyntaxError\u001b[0m\u001b[1;31m:\u001b[0m invalid syntax\n"
     ]
    }
   ],
   "source": [
    "    for(i=3; i<=n; i++) {\n",
    "      result = one + two;   // 직전(n-1)과 직직전(n-2) 값을 더해서 돌려줌 \n",
    "      one = two;      // 직직전(n-2) = 직전(n-1)\n",
    "      two = result;     // 직전(n-1) = 현재값(now)"
   ]
  },
  {
   "cell_type": "markdown",
   "id": "46f9370b-cf1b-4925-bf18-cfb498b0b098",
   "metadata": {},
   "source": [
    "##### 피보나치~ "
   ]
  },
  {
   "cell_type": "code",
   "execution_count": 4,
   "id": "d247865a-da46-49fe-91a4-4bb5e96c1ef6",
   "metadata": {},
   "outputs": [
    {
     "name": "stdout",
     "output_type": "stream",
     "text": [
      "1\n",
      "2\n",
      "3\n",
      "5\n",
      "8\n",
      "13\n",
      "21\n",
      "34\n",
      "55\n",
      "89\n"
     ]
    }
   ],
   "source": [
    "a1 = 0\n",
    "b2 = 1\n",
    "\n",
    "for c in range(10) :\n",
    "    c = a1+b2\n",
    "    a1 = b2\n",
    "    b2 = c\n",
    "    \n",
    "    print(c)  #첫번째 에 print(c)는 왜 1이 나왔는가? =>  처음 c = a+b 니까 1이 되었네 ㄷㄷ\n",
    "    "
   ]
  },
  {
   "cell_type": "code",
   "execution_count": null,
   "id": "2079b84a-070c-4bb1-866e-93db360485af",
   "metadata": {},
   "outputs": [],
   "source": []
  }
 ],
 "metadata": {
  "kernelspec": {
   "display_name": "Python 3 (ipykernel)",
   "language": "python",
   "name": "python3"
  },
  "language_info": {
   "codemirror_mode": {
    "name": "ipython",
    "version": 3
   },
   "file_extension": ".py",
   "mimetype": "text/x-python",
   "name": "python",
   "nbconvert_exporter": "python",
   "pygments_lexer": "ipython3",
   "version": "3.9.7"
  }
 },
 "nbformat": 4,
 "nbformat_minor": 5
}
