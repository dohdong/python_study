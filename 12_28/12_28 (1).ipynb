{
 "cells": [
  {
   "cell_type": "markdown",
   "id": "86f20da7-e6ab-4e99-9b6e-9b56d7f30de3",
   "metadata": {},
   "source": [
    "#### input, 여러개 받아서 나타내기, 연산자, ★int, float로 자료형 바꾸기 "
   ]
  },
  {
   "cell_type": "code",
   "execution_count": 7,
   "id": "5ea247b3-c92e-4339-b683-4496647967b0",
   "metadata": {},
   "outputs": [
    {
     "name": "stdout",
     "output_type": "stream",
     "text": [
      "57\n",
      "57\n",
      "<class 'str'>\n",
      "<class 'str'>\n"
     ]
    }
   ],
   "source": [
    "a = '5'\n",
    "b = '7'\n",
    "c = a+b\n",
    "print(a+b)\n",
    "print(c)\n",
    "\n",
    "print(type(c))\n",
    "print(type(a+b))"
   ]
  },
  {
   "cell_type": "code",
   "execution_count": 33,
   "id": "9a5f643a-0144-4a8a-8d55-9468911decc2",
   "metadata": {},
   "outputs": [
    {
     "name": "stdin",
     "output_type": "stream",
     "text": [
      "숫자를 입력하세요 3\n"
     ]
    },
    {
     "name": "stdout",
     "output_type": "stream",
     "text": [
      "3\n",
      "3\n"
     ]
    },
    {
     "ename": "TypeError",
     "evalue": "unsupported operand type(s) for +: 'int' and 'str'",
     "output_type": "error",
     "traceback": [
      "\u001b[1;31m---------------------------------------------------------------------------\u001b[0m",
      "\u001b[1;31mTypeError\u001b[0m                                 Traceback (most recent call last)",
      "\u001b[1;32m~\\AppData\\Local\\Temp/ipykernel_460/3955164628.py\u001b[0m in \u001b[0;36m<module>\u001b[1;34m\u001b[0m\n\u001b[0;32m      8\u001b[0m \u001b[0mprint\u001b[0m\u001b[1;33m(\u001b[0m\u001b[0mx\u001b[0m\u001b[1;33m)\u001b[0m\u001b[1;33m\u001b[0m\u001b[1;33m\u001b[0m\u001b[0m\n\u001b[0;32m      9\u001b[0m \u001b[1;33m\u001b[0m\u001b[0m\n\u001b[1;32m---> 10\u001b[1;33m \u001b[0mprint\u001b[0m\u001b[1;33m(\u001b[0m \u001b[0mx\u001b[0m \u001b[1;33m+\u001b[0m \u001b[0my\u001b[0m \u001b[1;33m)\u001b[0m \u001b[1;31m#데이터 타입이 달라서 계산 안됨.\u001b[0m\u001b[1;33m\u001b[0m\u001b[1;33m\u001b[0m\u001b[0m\n\u001b[0m\u001b[0;32m     11\u001b[0m \u001b[1;33m\u001b[0m\u001b[0m\n\u001b[0;32m     12\u001b[0m \u001b[0mprint\u001b[0m\u001b[1;33m(\u001b[0m\u001b[0mtype\u001b[0m\u001b[1;33m(\u001b[0m\u001b[0my\u001b[0m\u001b[1;33m)\u001b[0m\u001b[1;33m)\u001b[0m\u001b[1;33m\u001b[0m\u001b[1;33m\u001b[0m\u001b[0m\n",
      "\u001b[1;31mTypeError\u001b[0m: unsupported operand type(s) for +: 'int' and 'str'"
     ]
    }
   ],
   "source": [
    "x = 3\n",
    "\n",
    "y = input('숫자를 입력하세요')\n",
    "\n",
    "\n",
    "\n",
    "print(y)\n",
    "print(x)\n",
    "\n",
    "print( x + y ) #데이터 타입이 달라서 계산 안됨.\n",
    "\n",
    "print(type(y))\n",
    "print(type(x))"
   ]
  },
  {
   "cell_type": "code",
   "execution_count": 38,
   "id": "4e2b05fd-f9ca-4e6b-815b-9053075ba772",
   "metadata": {},
   "outputs": [
    {
     "name": "stdin",
     "output_type": "stream",
     "text": [
      "숫자를 입력하세요 3\n",
      "숫자를 입력하세요 4\n"
     ]
    },
    {
     "name": "stdout",
     "output_type": "stream",
     "text": [
      "3\n",
      "<class 'int'>\n",
      "7\n"
     ]
    }
   ],
   "source": [
    "x = input('숫자를 입력하세요')\n",
    "\n",
    "y = input('숫자를 입력하세요')\n",
    "\n",
    "x1 = int(x)\n",
    "y1 = int(y)\n",
    "\n",
    "print(x1)\n",
    "print(type(x1))\n",
    "\n",
    "z1 = x1 + y1\n",
    "\n",
    "print( z1 ) "
   ]
  },
  {
   "cell_type": "code",
   "execution_count": 42,
   "id": "3727b38c-aacb-4a0d-ab22-d7af339c99b4",
   "metadata": {
    "tags": []
   },
   "outputs": [
    {
     "name": "stdout",
     "output_type": "stream",
     "text": [
      "x = 3\n"
     ]
    },
    {
     "name": "stdin",
     "output_type": "stream",
     "text": [
      "y를 입력하시오 4\n"
     ]
    },
    {
     "name": "stdout",
     "output_type": "stream",
     "text": [
      "x+y = 7\n"
     ]
    }
   ],
   "source": [
    "x = 3\n",
    "print('x = 3')\n",
    "y = input('y를 입력하시오')\n",
    "\n",
    "y1 = int(y)\n",
    "\n",
    "print('x+y =', x + y1)"
   ]
  },
  {
   "cell_type": "code",
   "execution_count": 77,
   "id": "c5d1da5e-2c4a-46fd-9d30-81bc659eb29b",
   "metadata": {
    "tags": []
   },
   "outputs": [
    {
     "name": "stdout",
     "output_type": "stream",
     "text": [
      "x = 3\n"
     ]
    },
    {
     "name": "stdin",
     "output_type": "stream",
     "text": [
      "y를 입력하시오 4\n"
     ]
    },
    {
     "name": "stdout",
     "output_type": "stream",
     "text": [
      "3\n",
      "<class 'str'>\n",
      "<class 'str'>\n",
      "x+y = 34\n"
     ]
    }
   ],
   "source": [
    "x = 3\n",
    "print('x = 3')\n",
    "y = input('y를 입력하시오')\n",
    "\n",
    "x1 = str(x) \n",
    "\n",
    "print(x1)\n",
    "print(type(x1))\n",
    "\n",
    "print(type(y))\n",
    "\n",
    "print('x+y =', x1 + y)"
   ]
  },
  {
   "cell_type": "code",
   "execution_count": 54,
   "id": "ed96f9aa-84b6-4628-b269-d393f603ead7",
   "metadata": {},
   "outputs": [
    {
     "name": "stdin",
     "output_type": "stream",
     "text": [
      "국어점수를 입력하세요 3\n",
      "영어점수를 입력하세요 4\n",
      "수학점수를 입력하세요 3\n"
     ]
    },
    {
     "name": "stdout",
     "output_type": "stream",
     "text": [
      "3.3333333333333335\n",
      "<class 'float'>\n",
      "3\n"
     ]
    }
   ],
   "source": [
    "국어 = input('국어점수를 입력하세요')\n",
    "영어 = input('영어점수를 입력하세요')\n",
    "수학 = input('수학점수를 입력하세요')\n",
    "\n",
    "국어int = int(국어)\n",
    "영어int = int(영어)\n",
    "수학int = int(수학)\n",
    "\n",
    "평균 = (국어int + 영어int + 수학int)/3\n",
    "\n",
    "print(평균)\n",
    "print(type(평균))\n",
    "\n",
    "평균int = int(평균)\n",
    "\n",
    "print(평균int)\n"
   ]
  },
  {
   "cell_type": "code",
   "execution_count": 76,
   "id": "f90eac9d-53da-4267-9d89-243c76bc2261",
   "metadata": {},
   "outputs": [
    {
     "ename": "TypeError",
     "evalue": "can only concatenate str (not \"float\") to str",
     "output_type": "error",
     "traceback": [
      "\u001b[1;31m---------------------------------------------------------------------------\u001b[0m",
      "\u001b[1;31mTypeError\u001b[0m                                 Traceback (most recent call last)",
      "\u001b[1;32m~\\AppData\\Local\\Temp/ipykernel_2872/2522454462.py\u001b[0m in \u001b[0;36m<module>\u001b[1;34m\u001b[0m\n\u001b[1;32m----> 1\u001b[1;33m \u001b[0mprint\u001b[0m\u001b[1;33m(\u001b[0m\u001b[1;34m'평균은'\u001b[0m\u001b[1;33m+\u001b[0m\u001b[0m평균\u001b[0m\u001b[1;33m+\u001b[0m\u001b[1;34m'입니다'\u001b[0m\u001b[1;33m)\u001b[0m\u001b[1;33m\u001b[0m\u001b[1;33m\u001b[0m\u001b[0m\n\u001b[0m",
      "\u001b[1;31mTypeError\u001b[0m: can only concatenate str (not \"float\") to str"
     ]
    }
   ],
   "source": [
    "print('평균은'+평균+'입니다')           #문자열+실수+문자열이라서 계산이 안됨. "
   ]
  },
  {
   "cell_type": "code",
   "execution_count": 92,
   "id": "b1653deb-8c31-4b12-afe0-a2936d13f0b7",
   "metadata": {},
   "outputs": [
    {
     "name": "stdout",
     "output_type": "stream",
     "text": [
      "점수 총 합은 10, 평균은 3.33 입니다.\n",
      "--------------------------------------------------\n"
     ]
    }
   ],
   "source": [
    "total = 국어int + 수학int + 영어int\n",
    "\n",
    "print('점수 총 합은 %d, 평균은 %.2f 입니다.' %(total, 평균)) # %d 와 %f 에 대해 배웠고, \n",
    "                                                            # 소수점 둘째자리 까지는  %.2f 이다.\n",
    "\n",
    "print('-' * 50)\n",
    "\n"
   ]
  },
  {
   "cell_type": "code",
   "execution_count": 34,
   "id": "e01ac28c-e31d-4add-bf93-b24b42980be3",
   "metadata": {},
   "outputs": [
    {
     "name": "stdin",
     "output_type": "stream",
     "text": [
      "a를 입력하시오 a\n"
     ]
    },
    {
     "name": "stdout",
     "output_type": "stream",
     "text": [
      "kia\n",
      "kia\n"
     ]
    }
   ],
   "source": [
    "a = input('a를 입력하시오')\n",
    "print('ki'+a)\n",
    "print('ki%s'%a)"
   ]
  },
  {
   "cell_type": "code",
   "execution_count": 64,
   "id": "c7a7c9a8-d13e-479e-b532-379746855554",
   "metadata": {},
   "outputs": [
    {
     "name": "stdout",
     "output_type": "stream",
     "text": [
      "a\n"
     ]
    }
   ],
   "source": [
    "print(a)"
   ]
  },
  {
   "cell_type": "code",
   "execution_count": 65,
   "id": "1ab34b84-2d1f-4345-b238-c178d2f04e6e",
   "metadata": {},
   "outputs": [
    {
     "name": "stdout",
     "output_type": "stream",
     "text": [
      "7\n"
     ]
    }
   ],
   "source": [
    "print(b)"
   ]
  },
  {
   "cell_type": "code",
   "execution_count": 68,
   "id": "2a3022f9-44ec-4585-b74e-44f4b672859c",
   "metadata": {},
   "outputs": [
    {
     "name": "stdin",
     "output_type": "stream",
     "text": [
      "이름을 입력하세요 성빈\n"
     ]
    },
    {
     "name": "stdout",
     "output_type": "stream",
     "text": [
      "성빈\n"
     ]
    },
    {
     "data": {
      "text/plain": [
       "'성빈'"
      ]
     },
     "execution_count": 68,
     "metadata": {},
     "output_type": "execute_result"
    }
   ],
   "source": [
    "이름 = input('이름을 입력하세요')\n",
    "print(이름)\n",
    "이름"
   ]
  },
  {
   "cell_type": "code",
   "execution_count": 70,
   "id": "6b911721-7fe1-41c7-a404-476d88625699",
   "metadata": {},
   "outputs": [
    {
     "name": "stdout",
     "output_type": "stream",
     "text": [
      "내 이름은성빈입니다.\n"
     ]
    }
   ],
   "source": [
    "print('내 이름은'+이름+'입니다.')"
   ]
  },
  {
   "cell_type": "code",
   "execution_count": 71,
   "id": "e49b3d4d-6d0d-4929-bb52-e598ac488b50",
   "metadata": {},
   "outputs": [
    {
     "name": "stdout",
     "output_type": "stream",
     "text": [
      "내 이름은 성빈 입니다.\n"
     ]
    }
   ],
   "source": [
    "print('내 이름은',이름,'입니다.')"
   ]
  },
  {
   "cell_type": "code",
   "execution_count": 95,
   "id": "a514216d-1a9d-4335-8621-8e8e45eca13f",
   "metadata": {},
   "outputs": [
    {
     "name": "stdin",
     "output_type": "stream",
     "text": [
      "이름을 입력하세요 박성빈\n",
      "국어점수를 입력하세요 80\n",
      "영어점수를 입력하세요 90\n",
      "수학점수를 입력하세요 95\n"
     ]
    }
   ],
   "source": [
    "이름 = input('이름을 입력하세요')\n",
    "\n",
    "국어 = input('국어점수를 입력하세요')\n",
    "영어 = input('영어점수를 입력하세요')\n",
    "수학 = input('수학점수를 입력하세요')\n",
    "\n",
    "국어int = int(국어)\n",
    "영어int = int(영어)\n",
    "수학int = int(수학)\n",
    "\n",
    "평균 = (국어int + 영어int + 수학int)/3\n",
    "total = 국어int + 수학int + 영어int\n",
    "\n"
   ]
  },
  {
   "cell_type": "code",
   "execution_count": 127,
   "id": "b3e1817c-745e-4dcb-b732-843d85c5ea28",
   "metadata": {},
   "outputs": [
    {
     "name": "stdout",
     "output_type": "stream",
     "text": [
      "이름\t국어\t영어\t수학\t총점\t평균\t\n",
      "--------------------------------------------------\n",
      "박성빈\t80\t90\t95\t265\t88\n"
     ]
    }
   ],
   "source": [
    "total1 = str(total)\n",
    "평균1 = str(평균)\n",
    "\n",
    "\n",
    "print('이름\\t' +'국어\\t'+'영어\\t'+'수학\\t'+'총점\\t'+'평균\\t')\n",
    "\n",
    "print('-' * 50)\n",
    "\n",
    "print('%s\\t%s\\t%s\\t%s\\t%d\\t%d' % (이름, 국어 , 영어 , 수학 , total ,평균))\n",
    "\n",
    "\n",
    "\n"
   ]
  },
  {
   "cell_type": "code",
   "execution_count": 125,
   "id": "d4568dab-afab-4db7-80eb-cd55b1f2e1f7",
   "metadata": {},
   "outputs": [
    {
     "name": "stdout",
     "output_type": "stream",
     "text": [
      "박성빈\t80\t90\t95\t265\t88\n"
     ]
    }
   ],
   "source": [
    "print('%s\\t%s\\t%s\\t%s\\t%d\\t%d' % (이름, 국어 , 영어 , 수학 , total ,평균))"
   ]
  },
  {
   "cell_type": "code",
   "execution_count": 133,
   "id": "30da49de-efef-45bb-8652-524b409868ec",
   "metadata": {},
   "outputs": [
    {
     "name": "stdin",
     "output_type": "stream",
     "text": [
      "이름을 입력하세요 박성빈\n",
      "국어점수를 입력하세요 80\n",
      "영어점수를 입력하세요 90\n",
      "수학점수를 입력하세요 55\n"
     ]
    },
    {
     "name": "stdout",
     "output_type": "stream",
     "text": [
      "이름\t국어\t영어\t수학\t총점\t평균\t\n",
      "--------------------------------------------------\n",
      "박성빈\t 80\t 90\t 55\t 225\t 75.000000\n"
     ]
    }
   ],
   "source": [
    "name = input('이름을 입력하세요')\n",
    "\n",
    "kor = input('국어점수를 입력하세요')\n",
    "eng = input('영어점수를 입력하세요')\n",
    "math = input('수학점수를 입력하세요')\n",
    "\n",
    "\n",
    "kor1 = int(kor)\n",
    "eng1 = int(eng)\n",
    "math1 = int(math)\n",
    "\n",
    "avg = (kor1 + eng1 + math1)/3\n",
    "total = kor1 + eng1 + math1\n",
    "\n",
    "print('이름\\t' +'국어\\t'+'영어\\t'+ '수학\\t'+'총점\\t'+'평균\\t')\n",
    "\n",
    "print('-' * 50)\n",
    "\n",
    "print('%s\\t %d\\t %d\\t %d\\t %d\\t %f' % (name, kor1, eng1 , math1 , total ,avg))"
   ]
  },
  {
   "cell_type": "code",
   "execution_count": 146,
   "id": "68eadc54-7ede-4f46-b0c1-a65720ee0292",
   "metadata": {},
   "outputs": [
    {
     "name": "stdin",
     "output_type": "stream",
     "text": [
      "이름을 입력하세요 박성빈\n",
      "국어점수를 입력하세요 70\n",
      "영어점수를 입력하세요 80\n",
      "수학점수를 입력하세요 95\n"
     ]
    },
    {
     "name": "stdout",
     "output_type": "stream",
     "text": [
      "이름\t국어\t영어\t수학\t총점\t평균\t\n",
      "--------------------------------------------------\n",
      "박성빈\t 70\t 80\t 95\t 245\t 81.666667\n"
     ]
    }
   ],
   "source": [
    "name = input('이름을 입력하세요')\n",
    "kor = int(input('국어점수를 입력하세요'))\n",
    "eng = int(input('영어점수를 입력하세요'))\n",
    "math = int(input('수학점수를 입력하세요'))\n",
    "\n",
    "avg = (kor + eng + math)/3\n",
    "total = kor + eng + math\n",
    "\n",
    "print('이름\\t' +'국어\\t'+'영어\\t'+ '수학\\t'+'총점\\t'+'평균\\t')\n",
    "\n",
    "print('-' * 50)\n",
    "\n",
    "print('%s\\t %d\\t %d\\t %d\\t %d\\t %f' % (name, kor, eng , math , total ,avg))\n"
   ]
  },
  {
   "cell_type": "markdown",
   "id": "5b79083a-9662-4a97-9f9f-e93b072a6633",
   "metadata": {},
   "source": [
    "##### print('%s\\t %d\\t %d\\t %d\\t %d\\t %f' % (name, kor, eng , math , total ,avg)) 이 문장 거의 매드무비급 ㄷㄷ;"
   ]
  },
  {
   "cell_type": "code",
   "execution_count": 138,
   "id": "831221f1-7f15-4869-958b-acc99ccb3f23",
   "metadata": {},
   "outputs": [
    {
     "name": "stdout",
     "output_type": "stream",
     "text": [
      "이름\t국어\t영어\t수학\t총점\t평균\t\n"
     ]
    }
   ],
   "source": [
    "print('이름\\t국어\\t영어\\t수학\\t총점\\t평균\\t')"
   ]
  },
  {
   "cell_type": "code",
   "execution_count": 147,
   "id": "6514ca5c-6300-4c04-8ce5-ee7dbdc97d29",
   "metadata": {},
   "outputs": [
    {
     "name": "stdout",
     "output_type": "stream",
     "text": [
      "박성빈 \t 70 \t 80 \t 95 \t 245 \t 81.66666666666667\n"
     ]
    }
   ],
   "source": [
    "print(name,'\\t',kor,'\\t',eng,'\\t',math,'\\t',total,'\\t',avg)"
   ]
  },
  {
   "cell_type": "code",
   "execution_count": 148,
   "id": "d6d27aa2-fd1a-4338-bf1e-169f011d9f34",
   "metadata": {},
   "outputs": [
    {
     "name": "stdout",
     "output_type": "stream",
     "text": [
      "박성빈\t 70 \t 80 \t 95 \t 245 \t 81.66666666666667\n"
     ]
    }
   ],
   "source": [
    "print(name+'\\t',kor,'\\t',eng,'\\t',math,'\\t',total,'\\t',avg)"
   ]
  },
  {
   "cell_type": "code",
   "execution_count": 156,
   "id": "a4c43ab8-1a53-4aac-8d46-f20c280ffae5",
   "metadata": {},
   "outputs": [
    {
     "name": "stdin",
     "output_type": "stream",
     "text": [
      "이름이 뭐에요? 박성빈\n",
      "국어 점수? 88\n",
      "영어 점수? 90\n",
      "수학 점수? 96\n"
     ]
    }
   ],
   "source": [
    "name = input('이름이 뭐에요?')\n",
    "kor = int(input('국어 점수?'))\n",
    "eng = int(input('영어 점수?'))\n",
    "math = int(input('수학 점수?'))\n",
    "\n",
    "total = kor + eng + math\n",
    "avg = (kor + eng + math)/3"
   ]
  },
  {
   "cell_type": "code",
   "execution_count": 159,
   "id": "a57e6b53-25a5-4dbd-b15c-a98b30786670",
   "metadata": {},
   "outputs": [
    {
     "name": "stdout",
     "output_type": "stream",
     "text": [
      "이름\t국어\t영어\t수학\t총점\t평균\n",
      "--------------------------------------------------\n",
      "박성빈\t 88\t 90\t 96\t 274\t 91.333333\n"
     ]
    }
   ],
   "source": [
    "print('이름\\t국어\\t영어\\t수학\\t총점\\t평균')\n",
    "print('-'*50)\n",
    "\n",
    "print('%s\\t %d\\t %d\\t %d\\t %d\\t %f' %(name, kor , eng, math, total, avg))"
   ]
  },
  {
   "cell_type": "code",
   "execution_count": 160,
   "id": "5851956d-7cd7-4b52-ae5e-8fd0b97b41af",
   "metadata": {},
   "outputs": [
    {
     "name": "stdout",
     "output_type": "stream",
     "text": [
      "True\n"
     ]
    }
   ],
   "source": [
    "data = 40\n",
    "score = 80\n",
    "\n",
    "print( data < score) "
   ]
  },
  {
   "cell_type": "code",
   "execution_count": 161,
   "id": "c06e9b93-27ef-4d63-b859-667a3b30fd8d",
   "metadata": {},
   "outputs": [
    {
     "name": "stdout",
     "output_type": "stream",
     "text": [
      "True\n"
     ]
    }
   ],
   "source": [
    "print( data <= score)"
   ]
  },
  {
   "cell_type": "code",
   "execution_count": 162,
   "id": "07495494-0b3b-4e69-81ea-5e12608a1d4c",
   "metadata": {},
   "outputs": [
    {
     "name": "stdout",
     "output_type": "stream",
     "text": [
      "False\n"
     ]
    }
   ],
   "source": [
    "print( data > score)"
   ]
  },
  {
   "cell_type": "code",
   "execution_count": 163,
   "id": "1c2ef58c-621e-4d13-bd06-e5f1fdc01c1a",
   "metadata": {},
   "outputs": [
    {
     "name": "stdout",
     "output_type": "stream",
     "text": [
      "False\n"
     ]
    }
   ],
   "source": [
    "print( data == score)"
   ]
  },
  {
   "cell_type": "code",
   "execution_count": 164,
   "id": "685fd8a2-1322-46a3-88a5-27c675e6e7fd",
   "metadata": {},
   "outputs": [
    {
     "name": "stdout",
     "output_type": "stream",
     "text": [
      "True\n"
     ]
    }
   ],
   "source": [
    "print(data != score)"
   ]
  },
  {
   "cell_type": "code",
   "execution_count": 167,
   "id": "1eb8fcdd-7a06-480c-9346-8bac551938a0",
   "metadata": {},
   "outputs": [
    {
     "name": "stdout",
     "output_type": "stream",
     "text": [
      "True\n",
      "<class 'bool'>\n"
     ]
    }
   ],
   "source": [
    "ex = data < score\n",
    "print( ex)\n",
    "print( type(ex))"
   ]
  },
  {
   "cell_type": "code",
   "execution_count": 168,
   "id": "364d5510-13bf-4fb1-a585-9278587787e4",
   "metadata": {},
   "outputs": [
    {
     "name": "stdout",
     "output_type": "stream",
     "text": [
      "<class 'bool'>\n"
     ]
    }
   ],
   "source": [
    "print(type(data != score))"
   ]
  },
  {
   "cell_type": "code",
   "execution_count": 3,
   "id": "5c064ef7-e6bb-40e2-854f-3088d0e9cd15",
   "metadata": {},
   "outputs": [
    {
     "name": "stdout",
     "output_type": "stream",
     "text": [
      "4\n"
     ]
    }
   ],
   "source": [
    "all = 100\n",
    "dice = 6\n",
    "\n",
    "a = all % dice \n",
    "print(a)"
   ]
  },
  {
   "cell_type": "code",
   "execution_count": 1,
   "id": "4087fc85-9dfa-4818-aa49-09d3964af406",
   "metadata": {},
   "outputs": [
    {
     "name": "stdout",
     "output_type": "stream",
     "text": [
      "hello\n"
     ]
    }
   ],
   "source": [
    "print('hello')"
   ]
  },
  {
   "cell_type": "code",
   "execution_count": 11,
   "id": "363d25d2-7dfe-4404-bf87-d1c2b782771a",
   "metadata": {},
   "outputs": [],
   "source": [
    "data = 40"
   ]
  },
  {
   "cell_type": "code",
   "execution_count": 10,
   "id": "6b8324d2-91b8-4b3e-a1d5-cb3ac023322f",
   "metadata": {},
   "outputs": [],
   "source": [
    "score = 80"
   ]
  },
  {
   "cell_type": "code",
   "execution_count": 12,
   "id": "4ce1c81e-2e4b-4bc2-b6be-4c61642a6db4",
   "metadata": {},
   "outputs": [
    {
     "name": "stdout",
     "output_type": "stream",
     "text": [
      "True\n"
     ]
    }
   ],
   "source": [
    "print(score >= 0 and score <=100)"
   ]
  },
  {
   "cell_type": "code",
   "execution_count": 13,
   "id": "fa373762-616a-4d04-9b31-6a9fa7dac6dc",
   "metadata": {},
   "outputs": [
    {
     "name": "stdout",
     "output_type": "stream",
     "text": [
      "True\n"
     ]
    }
   ],
   "source": [
    "print(score >= 0 or score <= 100)"
   ]
  },
  {
   "cell_type": "code",
   "execution_count": 15,
   "id": "704dc317-1003-4ec4-8fc8-8a632a70f055",
   "metadata": {},
   "outputs": [
    {
     "name": "stdin",
     "output_type": "stream",
     "text": [
      "첫번째 값을 입력하세요 89\n",
      "두번째 값을 입력하세요 29\n"
     ]
    }
   ],
   "source": [
    "score1 = int(input('첫번째 값을 입력하세요'))\n",
    "score2 = int(input('두번째 값을 입력하세요'))"
   ]
  },
  {
   "cell_type": "code",
   "execution_count": 16,
   "id": "1b9d2fc7-e432-4b27-8c65-303b72c4f32c",
   "metadata": {},
   "outputs": [
    {
     "name": "stdout",
     "output_type": "stream",
     "text": [
      "첫번째 값이 더 크다 True\n"
     ]
    }
   ],
   "source": [
    "print('첫번째 값이 더 크다', score1 > score2)"
   ]
  },
  {
   "cell_type": "code",
   "execution_count": 17,
   "id": "4c09b8f5-1dc5-4ea2-9d83-b3fbff093ae3",
   "metadata": {},
   "outputs": [
    {
     "name": "stdout",
     "output_type": "stream",
     "text": [
      "두번째 값이 더 크다 False\n"
     ]
    }
   ],
   "source": [
    "print('두번째 값이 더 크다', score1 < score2)"
   ]
  },
  {
   "cell_type": "code",
   "execution_count": 18,
   "id": "0d6f8558-62aa-4b8f-a110-4dc1051f894d",
   "metadata": {},
   "outputs": [
    {
     "name": "stdout",
     "output_type": "stream",
     "text": [
      "<class 'bool'>\n"
     ]
    }
   ],
   "source": [
    "print(type(score1>score2))"
   ]
  },
  {
   "cell_type": "code",
   "execution_count": 19,
   "id": "8567f139-6018-4b0c-96a4-879ffb1894ca",
   "metadata": {},
   "outputs": [
    {
     "name": "stdout",
     "output_type": "stream",
     "text": [
      "1\n",
      "None\n"
     ]
    }
   ],
   "source": [
    "print(print(1))"
   ]
  },
  {
   "cell_type": "code",
   "execution_count": 20,
   "id": "48fc079c-bdbf-4ad0-a0c4-86ae69e3bc0c",
   "metadata": {},
   "outputs": [
    {
     "name": "stdout",
     "output_type": "stream",
     "text": [
      "1\n"
     ]
    }
   ],
   "source": [
    "print((((((1))))))"
   ]
  },
  {
   "cell_type": "code",
   "execution_count": 21,
   "id": "5f68990b-391f-48fc-9508-09af8374415a",
   "metadata": {},
   "outputs": [
    {
     "name": "stdout",
     "output_type": "stream",
     "text": [
      "10\n"
     ]
    }
   ],
   "source": [
    "print((((((1)))))*10)"
   ]
  },
  {
   "cell_type": "code",
   "execution_count": 23,
   "id": "25ac2e1a-6226-46f0-941b-066163e93324",
   "metadata": {},
   "outputs": [
    {
     "name": "stdin",
     "output_type": "stream",
     "text": [
      "Say something.. hi\n"
     ]
    },
    {
     "name": "stdout",
     "output_type": "stream",
     "text": [
      "I can hear what you said :  hi\n"
     ]
    }
   ],
   "source": [
    "message = input('Say something..')\n",
    "print('I can hear what you said : ' , message)"
   ]
  },
  {
   "cell_type": "code",
   "execution_count": 25,
   "id": "335bd79b-ec6c-4a92-91c1-72be3320ff29",
   "metadata": {},
   "outputs": [
    {
     "name": "stdout",
     "output_type": "stream",
     "text": [
      "2\n"
     ]
    }
   ],
   "source": [
    "    print(2)"
   ]
  },
  {
   "cell_type": "markdown",
   "id": "b9245439-c207-434a-84d2-390547e77bdf",
   "metadata": {},
   "source": [
    "##### 영타연습... ㅋㅋ Enemy"
   ]
  },
  {
   "cell_type": "code",
   "execution_count": null,
   "id": "71413b87-528a-428b-a10f-06a26f68f2d6",
   "metadata": {},
   "outputs": [],
   "source": [
    "i wake up to the sounds of the silence that alllows \n",
    "for my mind to run around wiht my ear up to the ground\n",
    "i'm searching to behold the stories that are told \n",
    "when my back is to the world that was smiling when i turned \n",
    "\n",
    "Tell you you're the greatest \n",
    "BUt once you turn they hate us \n",
    "\n",
    "Oh the misery\n",
    "Everybody wants to be my enemy\n",
    "Spare the sympathy \n",
    "Everybody wants to be my enemyyyy\n",
    "my enemy\n",
    "But I'm ready\n",
    "\n",
    "\n"
   ]
  },
  {
   "cell_type": "code",
   "execution_count": null,
   "id": "053c88ae-a02f-4049-9f05-4f2ef248ddc6",
   "metadata": {},
   "outputs": [],
   "source": []
  },
  {
   "cell_type": "code",
   "execution_count": 26,
   "id": "f3058c51-c02d-4af3-9fca-e3031eaead19",
   "metadata": {},
   "outputs": [
    {
     "data": {
      "text/plain": [
       "' 이 문장에서는 에러가 발생합니다'"
      ]
     },
     "execution_count": 26,
     "metadata": {},
     "output_type": "execute_result"
    }
   ],
   "source": [
    "    \"\"\" 이 문장에서는 에러가 발생합니다\"\"\""
   ]
  },
  {
   "cell_type": "code",
   "execution_count": 32,
   "id": "c0ad5ef5-dd00-4728-b87f-1a20c408c8f1",
   "metadata": {},
   "outputs": [
    {
     "data": {
      "text/plain": [
       "' \\n이 문장에서는 에러가 발생합니다\\n'"
      ]
     },
     "execution_count": 32,
     "metadata": {},
     "output_type": "execute_result"
    }
   ],
   "source": [
    "\"\"\" \n",
    "이 문장에서는 에러가 발생합니다\n",
    "\"\"\"\n",
    "\n",
    "#주석이 안되나봄.. 뭐지"
   ]
  },
  {
   "cell_type": "code",
   "execution_count": null,
   "id": "03b02951-b374-4d5d-89f3-3ddedda9d89e",
   "metadata": {},
   "outputs": [],
   "source": []
  }
 ],
 "metadata": {
  "kernelspec": {
   "display_name": "Python 3 (ipykernel)",
   "language": "python",
   "name": "python3"
  },
  "language_info": {
   "codemirror_mode": {
    "name": "ipython",
    "version": 3
   },
   "file_extension": ".py",
   "mimetype": "text/x-python",
   "name": "python",
   "nbconvert_exporter": "python",
   "pygments_lexer": "ipython3",
   "version": "3.9.7"
  }
 },
 "nbformat": 4,
 "nbformat_minor": 5
}
