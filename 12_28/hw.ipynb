{
 "cells": [
  {
   "cell_type": "markdown",
   "id": "02e91966-35b9-43a7-a328-17ba306b28b4",
   "metadata": {},
   "source": [
    "###### 2번~"
   ]
  },
  {
   "cell_type": "code",
   "execution_count": 30,
   "id": "3169994f-ce01-4ee1-bed1-e88170f9f7d7",
   "metadata": {},
   "outputs": [],
   "source": [
    "group = [ 13, 54, 278, 29, 6, 94, 83, 921, 728, 1228]"
   ]
  },
  {
   "cell_type": "code",
   "execution_count": 34,
   "id": "239d3d5a-07f4-429d-a664-39c490a03217",
   "metadata": {},
   "outputs": [
    {
     "name": "stdout",
     "output_type": "stream",
     "text": [
      "13\n",
      "54\n",
      "278\n",
      "278\n",
      "278\n",
      "278\n",
      "278\n",
      "921\n",
      "921\n",
      "1228\n"
     ]
    }
   ],
   "source": [
    "max1 = group[0]\n",
    "i = 0\n",
    "\n",
    "for i in group :\n",
    "    if i > max1 :\n",
    "        max1 = i\n",
    "    print(max1)"
   ]
  },
  {
   "cell_type": "code",
   "execution_count": 35,
   "id": "ba84a673-e042-4921-bd28-bb1023702d77",
   "metadata": {},
   "outputs": [
    {
     "name": "stdout",
     "output_type": "stream",
     "text": [
      "13\n",
      "13\n",
      "13\n",
      "13\n",
      "6\n",
      "6\n",
      "6\n",
      "6\n",
      "6\n",
      "6\n",
      "6\n"
     ]
    }
   ],
   "source": [
    "min1 = group[0]\n",
    "i = 0\n",
    "\n",
    "for i in group :\n",
    "    if i < min1 :\n",
    "        min1 = i\n",
    "    print(min1)\n",
    "print(min1)"
   ]
  },
  {
   "cell_type": "code",
   "execution_count": 15,
   "id": "fc38e2c0-929c-4453-9e61-26e27267c458",
   "metadata": {},
   "outputs": [
    {
     "name": "stdin",
     "output_type": "stream",
     "text": [
      "a 주세요 24\n",
      "b 주세요 654\n",
      "c 주세요 12\n"
     ]
    }
   ],
   "source": [
    "a = int(input('a 주세요'))\n",
    "b = int(input('b 주세요'))\n",
    "c = int(input('c 주세요'))\n"
   ]
  },
  {
   "cell_type": "code",
   "execution_count": 16,
   "id": "6c2f81f4-92bf-4482-bbe5-647ea808bced",
   "metadata": {},
   "outputs": [
    {
     "name": "stdout",
     "output_type": "stream",
     "text": [
      "b가 제일 크다\n"
     ]
    }
   ],
   "source": [
    "if a > b and a > c:\n",
    "    print('a가 제일 크다')\n",
    "elif b > a and b > c:\n",
    "    print('b가 제일 크다')\n",
    "else :\n",
    "    print('c가 제일 크다')"
   ]
  },
  {
   "cell_type": "markdown",
   "id": "433c37ba-607b-46c2-a935-1101a8eb866e",
   "metadata": {},
   "source": [
    "######  3번~"
   ]
  },
  {
   "cell_type": "code",
   "execution_count": 38,
   "id": "af8251fa-0e56-4da5-924b-fc0d4a154288",
   "metadata": {},
   "outputs": [
    {
     "name": "stdout",
     "output_type": "stream",
     "text": [
      "최대값은 17 이다\n",
      "최소값은 4 이다\n"
     ]
    }
   ],
   "source": [
    "if a > b and a>c:\n",
    "    x = a\n",
    "elif b>a and b>c:\n",
    "    x = b\n",
    "else :\n",
    "    x = c\n",
    "print ('최대값은 %d 이다' %x)\n",
    "\n",
    "if a < b and a<c:\n",
    "    y = a\n",
    "elif b<a and b<c:\n",
    "    y = b\n",
    "else :\n",
    "    y = c\n",
    "print('최소값은 %d 이다' %y)"
   ]
  },
  {
   "cell_type": "code",
   "execution_count": 41,
   "id": "e1ccdbc6-2ece-4922-8da3-5aae67c683c5",
   "metadata": {},
   "outputs": [
    {
     "name": "stdout",
     "output_type": "stream",
     "text": [
      "a가 제일 작다.\n"
     ]
    }
   ],
   "source": [
    "if a > b :\n",
    "    if a > c:\n",
    "        print('a가 제일 크다.')\n",
    "    elif a < c:\n",
    "        print( 'c가 제일 크다.')\n",
    "elif a < b :\n",
    "    if a > c:\n",
    "        print('c가 제일 작다.')\n",
    "    elif a < c:\n",
    "        print('a가 제일 작다.')  #문제가 있음. 이건 다음에.\n",
    "        \n"
   ]
  },
  {
   "cell_type": "code",
   "execution_count": 17,
   "id": "9564b17f-36e6-435c-8c34-818def0dffb4",
   "metadata": {},
   "outputs": [
    {
     "ename": "SyntaxError",
     "evalue": "invalid syntax (Temp/ipykernel_948/3382001443.py, line 4)",
     "output_type": "error",
     "traceback": [
      "\u001b[1;36m  File \u001b[1;32m\"C:\\Users\\BIT\\AppData\\Local\\Temp/ipykernel_948/3382001443.py\"\u001b[1;36m, line \u001b[1;32m4\u001b[0m\n\u001b[1;33m    while ran10 == get :\u001b[0m\n\u001b[1;37m    ^\u001b[0m\n\u001b[1;31mSyntaxError\u001b[0m\u001b[1;31m:\u001b[0m invalid syntax\n"
     ]
    }
   ],
   "source": [
    "ran10 = 48\n",
    "get = int(input('1~100중에 하나 주세요')\n",
    "\n",
    "while ran10 == get :      \n",
    "    if ran10 == get:\n",
    "        print('축하')\n",
    "    elif ran10 <= get:\n",
    "        print('up')\n",
    "    else:\n",
    "        print('down')\n",
    "          \n",
    "\n",
    "          "
   ]
  },
  {
   "cell_type": "markdown",
   "id": "2035e916-468f-4b9d-af94-8814f9ebc2d4",
   "metadata": {},
   "source": [
    "######   1번~"
   ]
  },
  {
   "cell_type": "code",
   "execution_count": 26,
   "id": "53ef51f2-b5dd-44ec-9720-b8fe25c736a4",
   "metadata": {},
   "outputs": [
    {
     "name": "stdin",
     "output_type": "stream",
     "text": [
      "1~100사이 숫자를 주세요 39\n"
     ]
    },
    {
     "name": "stdout",
     "output_type": "stream",
     "text": [
      "up\n"
     ]
    },
    {
     "name": "stdin",
     "output_type": "stream",
     "text": [
      "1~100사이 숫자를 주세요 48\n"
     ]
    },
    {
     "name": "stdout",
     "output_type": "stream",
     "text": [
      "정답입니다 2번만에 맞췄습니다. 축하합니다.\n"
     ]
    }
   ],
   "source": [
    "ran10 = 48\n",
    "get = 0\n",
    "count = 1\n",
    "\n",
    "while ran10 != get :\n",
    "    get = int(input('1~100사이 숫자를 주세요'))\n",
    "    if ran10 == get:\n",
    "        print('정답입니다 %d번만에 맞췄습니다. 축하합니다.' %count)\n",
    "        \n",
    "    elif ran10 <= get :\n",
    "        print('down')\n",
    "        count = count +1\n",
    "    else :\n",
    "        print('up')\n",
    "        count = count +1\n",
    "        "
   ]
  },
  {
   "cell_type": "code",
   "execution_count": 44,
   "id": "1ea7a5ca-2d50-4646-9866-a024a9111ea3",
   "metadata": {},
   "outputs": [
    {
     "name": "stdin",
     "output_type": "stream",
     "text": [
      "1~100사이 숫자를 주세요 23\n"
     ]
    },
    {
     "name": "stdout",
     "output_type": "stream",
     "text": [
      "up기회가 4번 남았습니다\n"
     ]
    },
    {
     "name": "stdin",
     "output_type": "stream",
     "text": [
      "1~100사이 숫자를 주세요 23\n"
     ]
    },
    {
     "name": "stdout",
     "output_type": "stream",
     "text": [
      "up기회가 3번 남았습니다\n"
     ]
    },
    {
     "name": "stdin",
     "output_type": "stream",
     "text": [
      "1~100사이 숫자를 주세요 23\n"
     ]
    },
    {
     "name": "stdout",
     "output_type": "stream",
     "text": [
      "up기회가 2번 남았습니다\n"
     ]
    },
    {
     "name": "stdin",
     "output_type": "stream",
     "text": [
      "1~100사이 숫자를 주세요 23\n"
     ]
    },
    {
     "name": "stdout",
     "output_type": "stream",
     "text": [
      "up기회가 1번 남았습니다\n"
     ]
    },
    {
     "name": "stdin",
     "output_type": "stream",
     "text": [
      "1~100사이 숫자를 주세요 23\n"
     ]
    },
    {
     "name": "stdout",
     "output_type": "stream",
     "text": [
      "up기회가 0번 남았습니다\n",
      "기회가 끝났습니다.\n"
     ]
    }
   ],
   "source": [
    "ran10 = 48\n",
    "get = 0\n",
    "count = 1\n",
    "\n",
    "while ran10 != get and count <= 5 :\n",
    "    get = int(input('1~100사이 숫자를 주세요'))\n",
    "    if ran10 == get:\n",
    "        print('정답입니다 %d번만에 맞췄습니다. 축하합니다.' %count)\n",
    "        \n",
    "    elif ran10 <= get :\n",
    "        print('down 기회가 %d번 남았습니다' %(5-count))\n",
    "\n",
    "        if (5-count) == 0 :\n",
    "            print('기회가 끝났습니다.')\n",
    "            \n",
    "        count = count +1\n",
    "        \n",
    "        \n",
    "    elif ran10 >= get :\n",
    "        print('up기회가 %d번 남았습니다' %(5-count))\n",
    "\n",
    "        if (5-count) == 0 :\n",
    "            print('기회가 끝났습니다.')\n",
    "            \n",
    "        count = count +1\n",
    "     "
   ]
  },
  {
   "cell_type": "code",
   "execution_count": null,
   "id": "4eacaaa4-822e-48b6-b9c8-23952841d4ab",
   "metadata": {},
   "outputs": [],
   "source": []
  },
  {
   "cell_type": "code",
   "execution_count": null,
   "id": "5b18049c-5425-4ac9-a789-1b939b437d52",
   "metadata": {},
   "outputs": [],
   "source": []
  }
 ],
 "metadata": {
  "kernelspec": {
   "display_name": "Python 3 (ipykernel)",
   "language": "python",
   "name": "python3"
  },
  "language_info": {
   "codemirror_mode": {
    "name": "ipython",
    "version": 3
   },
   "file_extension": ".py",
   "mimetype": "text/x-python",
   "name": "python",
   "nbconvert_exporter": "python",
   "pygments_lexer": "ipython3",
   "version": "3.9.7"
  }
 },
 "nbformat": 4,
 "nbformat_minor": 5
}
