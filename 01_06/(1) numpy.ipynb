{
 "cells": [
  {
   "cell_type": "code",
   "execution_count": 162,
   "id": "6915e9f9-fe59-4b59-827c-6c567cc39d90",
   "metadata": {},
   "outputs": [],
   "source": [
    "import numpy as np"
   ]
  },
  {
   "cell_type": "code",
   "execution_count": 6,
   "id": "5de1b6c0-f0ab-4765-bd6b-5fd9d56fdb03",
   "metadata": {},
   "outputs": [
    {
     "name": "stdout",
     "output_type": "stream",
     "text": [
      "[1 2 3 4 5]\n"
     ]
    }
   ],
   "source": [
    "arr = np.array([1,2,3,4,5,])\n",
    "\n",
    "print(arr)"
   ]
  },
  {
   "cell_type": "code",
   "execution_count": 30,
   "id": "fa2783f6-63a2-443f-9ac5-7d7f8350f810",
   "metadata": {},
   "outputs": [
    {
     "name": "stdout",
     "output_type": "stream",
     "text": [
      "(5,)\n",
      "int32\n",
      "1\n",
      "5\n",
      "4\n",
      "<memory at 0x0000019DD8513E80>\n"
     ]
    }
   ],
   "source": [
    "print(arr.shape)\n",
    "print(arr.dtype)\n",
    "print(arr.ndim)\n",
    "print(arr.size)\n",
    "print(arr.itemsize)\n",
    "print(arr.data)"
   ]
  },
  {
   "cell_type": "code",
   "execution_count": 56,
   "id": "777e3490-6804-4250-9f68-d1a7b57b1db4",
   "metadata": {},
   "outputs": [
    {
     "name": "stdout",
     "output_type": "stream",
     "text": [
      "[[1 2 3]\n",
      " [3 4 5]]\n",
      "(2, 3)\n",
      "int32\n",
      "2\n",
      "6\n",
      "4\n",
      "<memory at 0x0000019DD8519520>\n"
     ]
    }
   ],
   "source": [
    "#2차원\n",
    "arr1 = np.array([[1,2,3] , [3,4,5]])\n",
    "print(arr1)\n",
    "print(arr1.shape)\n",
    "print(arr1.dtype)\n",
    "print(arr1.ndim)\n",
    "print(arr1.size)\n",
    "print(arr1.itemsize)\n",
    "print(arr1.data)"
   ]
  },
  {
   "cell_type": "code",
   "execution_count": 57,
   "id": "8d037c04-2530-4ff5-a08f-99dcef51b606",
   "metadata": {},
   "outputs": [
    {
     "name": "stdout",
     "output_type": "stream",
     "text": [
      "[[[1 2 3 4]\n",
      "  [3 4 5 6]]\n",
      "\n",
      " [[3 1 2 3]\n",
      "  [5 4 5 6]]]\n",
      "(2, 2, 4)\n",
      "int32\n",
      "3\n",
      "16\n",
      "4\n",
      "<memory at 0x0000019DD8466E50>\n"
     ]
    }
   ],
   "source": [
    "#3차원 ㄷㄷ... 그렇구나\n",
    "arr2 = np.array([[[1, 2, 3,4], [3,4, 5, 6]], [[3,1, 2, 3], [5,4, 5, 6]]])\n",
    "print(arr2)\n",
    "print(arr2.shape)\n",
    "print(arr2.dtype)\n",
    "print(arr2.ndim)\n",
    "print(arr2.size)\n",
    "print(arr2.itemsize)\n",
    "print(arr2.data)"
   ]
  },
  {
   "cell_type": "code",
   "execution_count": 60,
   "id": "bbed9adc-a870-4902-b87a-2b77877d16db",
   "metadata": {},
   "outputs": [
    {
     "name": "stdout",
     "output_type": "stream",
     "text": [
      "[[[1 1 1 1]\n",
      "  [1 1 1 1]\n",
      "  [1 1 1 1]]\n",
      "\n",
      " [[1 1 1 1]\n",
      "  [1 1 1 1]\n",
      "  [1 1 1 1]]]\n"
     ]
    }
   ],
   "source": [
    "arr3 = np.ones((2,3,4),dtype=np.int16)\n",
    "print(arr3)"
   ]
  },
  {
   "cell_type": "code",
   "execution_count": 68,
   "id": "6818e3c6-c296-4c7d-854f-f8377d3143e0",
   "metadata": {},
   "outputs": [
    {
     "name": "stdout",
     "output_type": "stream",
     "text": [
      "[[[1. 1. 1. 1.]\n",
      "  [1. 1. 1. 1.]\n",
      "  [1. 1. 1. 1.]]\n",
      "\n",
      " [[1. 1. 1. 1.]\n",
      "  [1. 1. 1. 1.]\n",
      "  [1. 1. 1. 1.]]]\n"
     ]
    }
   ],
   "source": [
    "arr3 = np.ones((2,3,4),)\n",
    "print(arr3)"
   ]
  },
  {
   "cell_type": "code",
   "execution_count": 70,
   "id": "ecf988b6-aa23-41c9-a490-3312700daa77",
   "metadata": {},
   "outputs": [
    {
     "name": "stdout",
     "output_type": "stream",
     "text": [
      "[[7 7]\n",
      " [7 7]]\n"
     ]
    }
   ],
   "source": [
    "arr4 = np.full((2,2),7)\n",
    "print(arr4)"
   ]
  },
  {
   "cell_type": "code",
   "execution_count": 71,
   "id": "10990787-b394-4526-8b5c-6c305d8dd81e",
   "metadata": {},
   "outputs": [
    {
     "name": "stdout",
     "output_type": "stream",
     "text": [
      "[[[9 9 9 9]\n",
      "  [9 9 9 9]\n",
      "  [9 9 9 9]]\n",
      "\n",
      " [[9 9 9 9]\n",
      "  [9 9 9 9]\n",
      "  [9 9 9 9]]]\n"
     ]
    }
   ],
   "source": [
    "arr5 = np.full((2,3,4),9)\n",
    "print(arr5)"
   ]
  },
  {
   "cell_type": "code",
   "execution_count": 77,
   "id": "6cec0ee4-ed04-4cf8-99ab-94e4d1b0f15b",
   "metadata": {},
   "outputs": [
    {
     "name": "stdout",
     "output_type": "stream",
     "text": [
      "[  0.  25.  50.  75. 100.]\n"
     ]
    }
   ],
   "source": [
    "arr7 = np.linspace(0,100,5)\n",
    "print(arr7)"
   ]
  },
  {
   "cell_type": "markdown",
   "id": "a874710d-89f8-4144-9e16-96ff76eb51cc",
   "metadata": {},
   "source": [
    "2차원에서는 for 안에 for"
   ]
  },
  {
   "cell_type": "code",
   "execution_count": 163,
   "id": "6a9efc3f-c2b5-4b7d-8458-16a488552e78",
   "metadata": {},
   "outputs": [
    {
     "name": "stdout",
     "output_type": "stream",
     "text": [
      "1\n",
      "2\n",
      "3\n",
      "4\n",
      "4\n",
      "5\n",
      "6\n",
      "4\n"
     ]
    }
   ],
   "source": [
    "import numpy as np\n",
    "\n",
    "arr8 = np.array([[1, 2 ,3,4], [4, 5, 6,4]], dtype = object)\n",
    "\n",
    "for x in arr8:\n",
    "    for y in x:\n",
    "        print(y)"
   ]
  },
  {
   "cell_type": "code",
   "execution_count": 100,
   "id": "5de58c4b-ee08-484d-b40c-6add659be050",
   "metadata": {},
   "outputs": [
    {
     "name": "stdout",
     "output_type": "stream",
     "text": [
      "[1 2 3 4]\n",
      "[1 4]\n"
     ]
    }
   ],
   "source": [
    "print(arr8[0 , : ] )\n",
    "print(arr8[ : , 0])"
   ]
  },
  {
   "cell_type": "code",
   "execution_count": 93,
   "id": "79b83276-637e-41e7-9479-983d86d7f76e",
   "metadata": {},
   "outputs": [
    {
     "name": "stdout",
     "output_type": "stream",
     "text": [
      "1\n",
      "2\n",
      "3\n",
      "10\n",
      "3\n",
      "4\n",
      "5\n",
      "6\n",
      "3\n",
      "1\n",
      "2\n",
      "3\n",
      "5\n",
      "4\n",
      "5\n",
      "6\n"
     ]
    }
   ],
   "source": [
    "arr9 = np.array([[[1, 2, 3,10], [3,4, 5, 6]], [[3,1, 2, 3], [5,4, 5, 6]]])\n",
    "\n",
    "for x in arr9 :\n",
    "    for y in x :\n",
    "        for z in y :\n",
    "            print(z)"
   ]
  },
  {
   "cell_type": "code",
   "execution_count": 103,
   "id": "2d8bfdfe-a7a1-405b-b2b8-3691a4857a92",
   "metadata": {},
   "outputs": [
    {
     "name": "stdout",
     "output_type": "stream",
     "text": [
      "[[[42 42 42 42]\n",
      "  [42 42 42 42]]\n",
      "\n",
      " [[ 3  1  2  3]\n",
      "  [ 5  4  5  6]]]\n",
      "[[[42 42 42 42]\n",
      "  [42 42 42 42]]\n",
      "\n",
      " [[ 3  1  2  3]\n",
      "  [ 5  4  5  6]]]\n"
     ]
    }
   ],
   "source": [
    "x = arr9 \n",
    "arr9[0] = 42\n",
    "\n",
    "print(arr9)\n",
    "print(x)"
   ]
  },
  {
   "cell_type": "code",
   "execution_count": 114,
   "id": "bd090cd2-7d9b-4d41-8dfa-db52a6e86c1f",
   "metadata": {},
   "outputs": [
    {
     "name": "stdout",
     "output_type": "stream",
     "text": [
      "[42  2  3  4  5]\n",
      "[1 2 3 4 5]\n"
     ]
    }
   ],
   "source": [
    "\n",
    "arr = np.array([1, 2, 3, 4, 5])\n",
    "x = arr.copy()\n",
    "arr[0] = 42\n",
    "\n",
    "print(arr)\n",
    "print(x)"
   ]
  },
  {
   "cell_type": "code",
   "execution_count": 106,
   "id": "8d1bd993-d04b-4549-a892-454591aed40d",
   "metadata": {},
   "outputs": [
    {
     "name": "stdout",
     "output_type": "stream",
     "text": [
      "[[[42 42 42 42]\n",
      "  [42 42 42 42]]\n",
      "\n",
      " [[ 3  1  2  3]\n",
      "  [ 5  4  5  6]]]\n"
     ]
    }
   ],
   "source": [
    "print(arr9)\n",
    "\n",
    "\n"
   ]
  },
  {
   "cell_type": "code",
   "execution_count": 124,
   "id": "6efb1eac-c600-4bbc-b205-58c6441eb78e",
   "metadata": {},
   "outputs": [
    {
     "name": "stdout",
     "output_type": "stream",
     "text": [
      "[[[1 2]\n",
      "  [3 4]]\n",
      "\n",
      " [[5 6]\n",
      "  [7 8]]]\n"
     ]
    }
   ],
   "source": [
    "import numpy as np\n",
    "\n",
    "arr = np.array([1, 2, 3, 4, 5, 6, 7, 8])\n",
    "\n",
    "newarr = arr.reshape(2, 2, -1)\n",
    "\n",
    "print(newarr)\n",
    "\n"
   ]
  },
  {
   "cell_type": "code",
   "execution_count": 164,
   "id": "e90d763a-448b-49e8-a79a-0ce78bae0260",
   "metadata": {},
   "outputs": [],
   "source": [
    "import matplotlib.pyplot as plt"
   ]
  },
  {
   "cell_type": "code",
   "execution_count": 165,
   "id": "6f999afa-476c-4e3f-9a8b-d007d5358ff7",
   "metadata": {},
   "outputs": [
    {
     "data": {
      "image/png": "[encoded data removed]",
      "text/plain": [
       "<Figure size 432x288 with 1 Axes>"
      ]
     },
     "metadata": {
      "needs_background": "light"
     },
     "output_type": "display_data"
    }
   ],
   "source": [
    "xpoints = np.array([10,50,60,100])\n",
    "ypoints = np.array([10,30,50,20])\n",
    "\n",
    "plt.rc('font', family = 'Malgun Gothic')\n",
    "plt.plot(xpoints, ypoints, 'y8-.')\n",
    "plt.rcParams['font.size'] = 20\n",
    "plt.xlabel('한글')\n",
    "plt.ylabel('이 되네')\n",
    "\n",
    "plt.show()\n"
   ]
  },
  {
   "cell_type": "code",
   "execution_count": 167,
   "id": "6ebb5e78-2dff-4d25-84b4-f29dd034919c",
   "metadata": {
    "tags": []
   },
   "outputs": [],
   "source": [
    "import matplotlib.font_manager as fm\n",
    "\n",
    "font_list = fm.findSystemFonts(fontext = 'ttf')\n",
    "\n",
    "font_list1 = fm.fontManager.ttflist\n",
    "# for f in font_list1 :\n",
    "#     print(f)"
   ]
  },
  {
   "cell_type": "code",
   "execution_count": 198,
   "id": "d7e12cf0-b28a-4a87-b1b6-66df4f55634a",
   "metadata": {},
   "outputs": [
    {
     "name": "stdout",
     "output_type": "stream",
     "text": [
      "[[3 6 8]\n",
      " [9 5 9]]\n",
      "[[3 6 8]\n",
      " [9 5 9]]\n"
     ]
    }
   ],
   "source": [
    "b = np.random.randint(0,10, (2,3))\n",
    "print(b)\n",
    "np.savetxt('./data/score.csv' , b)\n",
    "\n",
    "b = np.loadtxt('./data/score.csv' , np.int32)\n",
    "print(b)"
   ]
  },
  {
   "cell_type": "code",
   "execution_count": 217,
   "id": "2590c5b2-1b6f-4357-8795-e9023d18aa77",
   "metadata": {},
   "outputs": [],
   "source": [
    "import matplotlib.pyplot as plt"
   ]
  },
  {
   "cell_type": "code",
   "execution_count": 200,
   "id": "84dd81b7-1c5a-41c3-8fc3-182585d41c81",
   "metadata": {},
   "outputs": [
    {
     "data": {
      "image/png": "[encoded data removed]",
      "text/plain": [
       "<Figure size 432x288 with 1 Axes>"
      ]
     },
     "metadata": {
      "needs_background": "light"
     },
     "output_type": "display_data"
    }
   ],
   "source": [
    "xpoints = np.array(b[0 , : ])\n",
    "ypoints = np.array(b[1 , :  ])\n",
    "plt.plot(xpoints, ypoints, 'y8-.')\n",
    "plt.show()"
   ]
  },
  {
   "cell_type": "code",
   "execution_count": 225,
   "id": "e786061a-4ebc-4229-829d-ec95e7cc7bda",
   "metadata": {},
   "outputs": [],
   "source": [
    "b = list()"
   ]
  },
  {
   "cell_type": "code",
   "execution_count": 226,
   "id": "3637f007-0a88-4044-ae0a-fa3c639e9974",
   "metadata": {},
   "outputs": [],
   "source": [
    "b = [[[1, 2, 3,10], [3,4, 5, 6]], [[3,1, 2, 3], [5,4, 5, 6]]]"
   ]
  },
  {
   "cell_type": "code",
   "execution_count": 232,
   "id": "4d8edd54-b26f-4e05-902b-3d8eb66f9c6e",
   "metadata": {},
   "outputs": [
    {
     "data": {
      "image/png": "[encoded data removed]",
      "text/plain": [
       "<Figure size 432x288 with 1 Axes>"
      ]
     },
     "metadata": {
      "needs_background": "light"
     },
     "output_type": "display_data"
    }
   ],
   "source": [
    "from mpl_toolkits.mplot3d import Axes3D\n",
    "import matplotlib.pyplot as plt\n",
    "import numpy as np\n",
    "\n",
    "fig = plt.figure()\n",
    "ax = fig.add_subplot(111, projection='3d')\n",
    "\n",
    "x = np.random.rand(11, 11)\n",
    "y = np.random.rand(11, 11)\n",
    "z = np.random.rand(11, 11)\n",
    "\n",
    "\n",
    "\n",
    "ax.plot_surface(x,y,z)\n",
    "\n",
    "plt.show()"
   ]
  },
  {
   "cell_type": "code",
   "execution_count": 231,
   "id": "d528fa18-e596-461d-b929-1cba28d9555c",
   "metadata": {},
   "outputs": [
    {
     "data": {
      "image/png": "[encoded data removed]",
      "text/plain": [
       "<Figure size 432x288 with 1 Axes>"
      ]
     },
     "metadata": {
      "needs_background": "light"
     },
     "output_type": "display_data"
    }
   ],
   "source": [
    "from mpl_toolkits.mplot3d import axes3d\n",
    "import matplotlib.pyplot as plt\n",
    "import numpy as np\n",
    "\n",
    "\n",
    "fig = plt.figure()\n",
    "ax = fig.add_subplot(111, projection='3d')\n",
    "\n",
    "x = np.linspace(-10, 10, 11)\n",
    "Y = np.transpose(X)\n",
    "Z = np.random.rand(11, 11)\n",
    "\n",
    "ax.plot_surface(X, Y, Z)\n",
    "ax.set_zlim(-10, 10)\n",
    "\n",
    "plt.tight_layout()\n",
    "plt.show()"
   ]
  },
  {
   "cell_type": "code",
   "execution_count": null,
   "id": "8b4baddd-db91-4404-9a05-664d50539c1f",
   "metadata": {},
   "outputs": [],
   "source": []
  }
 ],
 "metadata": {
  "kernelspec": {
   "display_name": "Python 3 (ipykernel)",
   "language": "python",
   "name": "python3"
  },
  "language_info": {
   "codemirror_mode": {
    "name": "ipython",
    "version": 3
   },
   "file_extension": ".py",
   "mimetype": "text/x-python",
   "name": "python",
   "nbconvert_exporter": "python",
   "pygments_lexer": "ipython3",
   "version": "3.9.7"
  }
 },
 "nbformat": 4,
 "nbformat_minor": 5
}
