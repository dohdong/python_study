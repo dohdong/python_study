{
 "cells": [
  {
   "cell_type": "code",
   "execution_count": 3,
   "id": "226eac7e-d894-4aa1-be8d-23fd7da00622",
   "metadata": {},
   "outputs": [
    {
     "data": {
      "text/html": [
       "<div>\n",
       "<style scoped>\n",
       "    .dataframe tbody tr th:only-of-type {\n",
       "        vertical-align: middle;\n",
       "    }\n",
       "\n",
       "    .dataframe tbody tr th {\n",
       "        vertical-align: top;\n",
       "    }\n",
       "\n",
       "    .dataframe thead th {\n",
       "        text-align: right;\n",
       "    }\n",
       "</style>\n",
       "<table border=\"1\" class=\"dataframe\">\n",
       "  <thead>\n",
       "    <tr style=\"text-align: right;\">\n",
       "      <th></th>\n",
       "      <th>날짜</th>\n",
       "      <th>월</th>\n",
       "      <th>사고수</th>\n",
       "      <th>날씨</th>\n",
       "    </tr>\n",
       "  </thead>\n",
       "  <tbody>\n",
       "    <tr>\n",
       "      <th>0</th>\n",
       "      <td>1</td>\n",
       "      <td>1</td>\n",
       "      <td>53</td>\n",
       "      <td>1.0</td>\n",
       "    </tr>\n",
       "    <tr>\n",
       "      <th>1</th>\n",
       "      <td>2</td>\n",
       "      <td>1</td>\n",
       "      <td>95</td>\n",
       "      <td>NaN</td>\n",
       "    </tr>\n",
       "    <tr>\n",
       "      <th>2</th>\n",
       "      <td>3</td>\n",
       "      <td>1</td>\n",
       "      <td>79</td>\n",
       "      <td>NaN</td>\n",
       "    </tr>\n",
       "    <tr>\n",
       "      <th>3</th>\n",
       "      <td>4</td>\n",
       "      <td>1</td>\n",
       "      <td>78</td>\n",
       "      <td>NaN</td>\n",
       "    </tr>\n",
       "    <tr>\n",
       "      <th>4</th>\n",
       "      <td>5</td>\n",
       "      <td>1</td>\n",
       "      <td>68</td>\n",
       "      <td>NaN</td>\n",
       "    </tr>\n",
       "    <tr>\n",
       "      <th>...</th>\n",
       "      <td>...</td>\n",
       "      <td>...</td>\n",
       "      <td>...</td>\n",
       "      <td>...</td>\n",
       "    </tr>\n",
       "    <tr>\n",
       "      <th>361</th>\n",
       "      <td>27</td>\n",
       "      <td>12</td>\n",
       "      <td>40</td>\n",
       "      <td>2.0</td>\n",
       "    </tr>\n",
       "    <tr>\n",
       "      <th>362</th>\n",
       "      <td>28</td>\n",
       "      <td>12</td>\n",
       "      <td>81</td>\n",
       "      <td>2.0</td>\n",
       "    </tr>\n",
       "    <tr>\n",
       "      <th>363</th>\n",
       "      <td>29</td>\n",
       "      <td>12</td>\n",
       "      <td>71</td>\n",
       "      <td>1.0</td>\n",
       "    </tr>\n",
       "    <tr>\n",
       "      <th>364</th>\n",
       "      <td>30</td>\n",
       "      <td>12</td>\n",
       "      <td>89</td>\n",
       "      <td>NaN</td>\n",
       "    </tr>\n",
       "    <tr>\n",
       "      <th>365</th>\n",
       "      <td>31</td>\n",
       "      <td>12</td>\n",
       "      <td>98</td>\n",
       "      <td>1.0</td>\n",
       "    </tr>\n",
       "  </tbody>\n",
       "</table>\n",
       "<p>366 rows × 4 columns</p>\n",
       "</div>"
      ],
      "text/plain": [
       "     날짜   월  사고수   날씨\n",
       "0     1   1   53  1.0\n",
       "1     2   1   95  NaN\n",
       "2     3   1   79  NaN\n",
       "3     4   1   78  NaN\n",
       "4     5   1   68  NaN\n",
       "..   ..  ..  ...  ...\n",
       "361  27  12   40  2.0\n",
       "362  28  12   81  2.0\n",
       "363  29  12   71  1.0\n",
       "364  30  12   89  NaN\n",
       "365  31  12   98  1.0\n",
       "\n",
       "[366 rows x 4 columns]"
      ]
     },
     "execution_count": 3,
     "metadata": {},
     "output_type": "execute_result"
    }
   ],
   "source": [
    "import pandas as pd\n",
    "\n",
    "rA= pd.read_csv('rAnew2.csv')\n",
    "rA"
   ]
  },
  {
   "cell_type": "code",
   "execution_count": 21,
   "id": "3ee64cde-63c0-41c8-9458-0d129ff663d0",
   "metadata": {},
   "outputs": [
    {
     "data": {
      "text/plain": [
       "3629"
      ]
     },
     "execution_count": 21,
     "metadata": {},
     "output_type": "execute_result"
    }
   ],
   "source": [
    "rASun = 0\n",
    "for i in range(52) :\n",
    "    rASun = rASun + (rA['사고수'][(i*7)+4])\n",
    "rASun"
   ]
  },
  {
   "cell_type": "code",
   "execution_count": 12,
   "id": "c870224f-0f66-4f0e-9dad-3b63fd66f613",
   "metadata": {},
   "outputs": [],
   "source": [
    "# 52 일 중이네요 3629 건. 신기하당 ㄷㄷ."
   ]
  },
  {
   "cell_type": "code",
   "execution_count": 20,
   "id": "e697f772-4985-481c-a473-e4a9c3dcc999",
   "metadata": {
    "collapsed": true,
    "jupyter": {
     "outputs_hidden": true
    },
    "tags": []
   },
   "outputs": [
    {
     "name": "stdout",
     "output_type": "stream",
     "text": [
      "68\n",
      "65\n",
      "82\n",
      "49\n",
      "52\n",
      "86\n",
      "98\n",
      "69\n",
      "48\n",
      "55\n",
      "48\n",
      "66\n",
      "69\n",
      "65\n",
      "61\n",
      "65\n",
      "74\n",
      "65\n",
      "69\n",
      "89\n",
      "73\n",
      "81\n",
      "79\n",
      "78\n",
      "71\n",
      "75\n",
      "77\n",
      "102\n",
      "79\n",
      "71\n",
      "74\n",
      "71\n",
      "96\n",
      "73\n",
      "64\n",
      "57\n",
      "80\n",
      "78\n",
      "87\n",
      "50\n",
      "61\n",
      "72\n",
      "84\n",
      "66\n",
      "89\n",
      "71\n",
      "63\n",
      "64\n",
      "61\n",
      "45\n",
      "54\n",
      "40\n"
     ]
    }
   ],
   "source": [
    "for i in range(52) :\n",
    "    print(rA['사고수'][(i*7)+4])"
   ]
  },
  {
   "cell_type": "code",
   "execution_count": 22,
   "id": "79407510-3e0c-44db-9239-ff5189f1b06f",
   "metadata": {},
   "outputs": [],
   "source": [
    "rASun_list = list()\n",
    "\n",
    "\n",
    "for i in range(52) :\n",
    "    rAsun_list.append(rA['사고수'][(i*7)+4])"
   ]
  },
  {
   "cell_type": "code",
   "execution_count": 11,
   "id": "fa5c3226-7741-49c6-b0d4-1d27766458b7",
   "metadata": {},
   "outputs": [
    {
     "data": {
      "text/plain": [
       "52"
      ]
     },
     "execution_count": 11,
     "metadata": {},
     "output_type": "execute_result"
    }
   ],
   "source": [
    "len(rAsun_list)"
   ]
  },
  {
   "cell_type": "code",
   "execution_count": 43,
   "id": "63a818cf-6188-409b-bbe6-fa7df318959e",
   "metadata": {},
   "outputs": [
    {
     "data": {
      "text/plain": [
       "69.78846153846153"
      ]
     },
     "execution_count": 43,
     "metadata": {},
     "output_type": "execute_result"
    }
   ],
   "source": [
    "3629/52"
   ]
  },
  {
   "cell_type": "code",
   "execution_count": 37,
   "id": "aa74cbea-9b13-458f-ab73-4977261a9263",
   "metadata": {},
   "outputs": [
    {
     "data": {
      "text/plain": [
       "99.9423076923077"
      ]
     },
     "execution_count": 37,
     "metadata": {},
     "output_type": "execute_result"
    }
   ],
   "source": [
    "rAMon = 0\n",
    "for i in range(52) :\n",
    "    rAMon = rAMon + (rA['사고수'][(i*7)+5])\n",
    "rAMon\n",
    "5197/52"
   ]
  },
  {
   "cell_type": "code",
   "execution_count": 38,
   "id": "75920e70-4479-4b8e-bf8a-670aca35748a",
   "metadata": {},
   "outputs": [
    {
     "data": {
      "text/plain": [
       "101.78846153846153"
      ]
     },
     "execution_count": 38,
     "metadata": {},
     "output_type": "execute_result"
    }
   ],
   "source": [
    "rATue = 0\n",
    "for i in range(52) :\n",
    "    rATue = rATue + (rA['사고수'][(i*7)+6])\n",
    "rATue\n",
    "5293/52"
   ]
  },
  {
   "cell_type": "code",
   "execution_count": 39,
   "id": "1695b353-b8f4-48a0-8838-8a3dd1481836",
   "metadata": {},
   "outputs": [
    {
     "data": {
      "text/plain": [
       "99.39622641509433"
      ]
     },
     "execution_count": 39,
     "metadata": {},
     "output_type": "execute_result"
    }
   ],
   "source": [
    "rAWed = 0\n",
    "for i in range(53) :\n",
    "    rAWed = rAWed + (rA['사고수'][(i*7)+0])\n",
    "rAWed\n",
    "5268/53"
   ]
  },
  {
   "cell_type": "code",
   "execution_count": 40,
   "id": "a570b58a-427e-4ab9-a0d5-f83abe839fc1",
   "metadata": {},
   "outputs": [
    {
     "data": {
      "text/plain": [
       "101.15094339622641"
      ]
     },
     "execution_count": 40,
     "metadata": {},
     "output_type": "execute_result"
    }
   ],
   "source": [
    "rAThu = 0\n",
    "for i in range(53) :\n",
    "    rAThu = rAThu + (rA['사고수'][(i*7)+1])\n",
    "rAThu\n",
    "5361/53"
   ]
  },
  {
   "cell_type": "code",
   "execution_count": 41,
   "id": "fe6896fb-78f0-4480-9ef4-8c30ae01c963",
   "metadata": {},
   "outputs": [
    {
     "data": {
      "text/plain": [
       "108.53846153846153"
      ]
     },
     "execution_count": 41,
     "metadata": {},
     "output_type": "execute_result"
    }
   ],
   "source": [
    "rAFri = 0\n",
    "for i in range(52) :\n",
    "    rAFri = rAFri + (rA['사고수'][(i*7)+2])\n",
    "rAFri\n",
    "5644/52"
   ]
  },
  {
   "cell_type": "code",
   "execution_count": 42,
   "id": "f3691bcd-a2e7-4cfb-9855-193a3a52ec61",
   "metadata": {},
   "outputs": [
    {
     "data": {
      "text/plain": [
       "92.98076923076923"
      ]
     },
     "execution_count": 42,
     "metadata": {},
     "output_type": "execute_result"
    }
   ],
   "source": [
    "rASat = 0\n",
    "for i in range(52) :\n",
    "    rASat = rASat + (rA['사고수'][(i*7)+3])\n",
    "rASat\n",
    "4835/52"
   ]
  },
  {
   "cell_type": "code",
   "execution_count": 44,
   "id": "c8367434-e4a0-43f3-b2b4-497e75797ff0",
   "metadata": {},
   "outputs": [
    {
     "data": {
      "image/png": "[encoded data removed]",
      "text/plain": [
       "<Figure size 720x432 with 1 Axes>"
      ]
     },
     "metadata": {
      "needs_background": "light"
     },
     "output_type": "display_data"
    }
   ],
   "source": [
    "import matplotlib.pyplot as plt\n",
    "import numpy as np\n",
    "\n",
    "plt.rc('font', family='Malgun Gothic')\n",
    "\n",
    "fig = plt.figure(figsize=(10, 6))\n",
    "\n",
    "\n",
    "x = np.array(['월','화','수','목','금','토','일'])\n",
    "y = np.array([99.94, 101.78, 99.39, 101.15, 108.53, 92.98, 69.78])\n",
    "\n",
    "plt.ylim([50,110])\n",
    "\n",
    "plt.bar(x,y)\n",
    "plt.show()"
   ]
  },
  {
   "cell_type": "code",
   "execution_count": 47,
   "id": "557c077c-a39c-44a7-85f1-a0b96bc37543",
   "metadata": {},
   "outputs": [
    {
     "data": {
      "image/png": "[encoded data removed]",
      "text/plain": [
       "<Figure size 720x576 with 1 Axes>"
      ]
     },
     "metadata": {
      "needs_background": "light"
     },
     "output_type": "display_data"
    }
   ],
   "source": [
    "import matplotlib.pyplot as plt\n",
    "import numpy as np\n",
    "\n",
    "plt.rc('font', family='Malgun Gothic')\n",
    "\n",
    "fig = plt.figure(figsize=(10, 8))\n",
    "\n",
    "\n",
    "x = np.array(['월','화','수','목','금','토','일'])\n",
    "y = np.array([99.94, 101.78, 99.39, 101.15, 108.53, 92.98, 69.78])\n",
    "\n",
    "plt.ylim([50,110])\n",
    "\n",
    "plt.plot(x,y)\n",
    "plt.show()"
   ]
  },
  {
   "cell_type": "code",
   "execution_count": null,
   "id": "027092d0-43ea-4760-accc-6e787d807698",
   "metadata": {},
   "outputs": [],
   "source": []
  }
 ],
 "metadata": {
  "kernelspec": {
   "display_name": "Python 3 (ipykernel)",
   "language": "python",
   "name": "python3"
  },
  "language_info": {
   "codemirror_mode": {
    "name": "ipython",
    "version": 3
   },
   "file_extension": ".py",
   "mimetype": "text/x-python",
   "name": "python",
   "nbconvert_exporter": "python",
   "pygments_lexer": "ipython3",
   "version": "3.9.7"
  }
 },
 "nbformat": 4,
 "nbformat_minor": 5
}
