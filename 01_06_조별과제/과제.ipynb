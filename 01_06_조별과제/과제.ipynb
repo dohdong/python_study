{
 "cells": [
  {
   "cell_type": "code",
   "execution_count": 268,
   "id": "ea62f983-731e-4aed-ae30-94dd557c00af",
   "metadata": {},
   "outputs": [
    {
     "name": "stderr",
     "output_type": "stream",
     "text": [
      "C:\\Users\\BIT\\anaconda3\\lib\\site-packages\\IPython\\core\\interactiveshell.py:3444: FutureWarning: In a future version of pandas all arguments of read_csv except for the argument 'filepath_or_buffer' will be keyword-only\n",
      "  exec(code_obj, self.user_global_ns, self.user_ns)\n"
     ]
    }
   ],
   "source": [
    "import pandas as pd\n",
    "\n",
    "ac= pd.read_csv('accident.csv','\\t')"
   ]
  },
  {
   "cell_type": "code",
   "execution_count": 269,
   "id": "1befb6d5-7687-4707-90b2-9de73202d3b8",
   "metadata": {},
   "outputs": [
    {
     "data": {
      "text/html": [
       "<div>\n",
       "<style scoped>\n",
       "    .dataframe tbody tr th:only-of-type {\n",
       "        vertical-align: middle;\n",
       "    }\n",
       "\n",
       "    .dataframe tbody tr th {\n",
       "        vertical-align: top;\n",
       "    }\n",
       "\n",
       "    .dataframe thead th {\n",
       "        text-align: right;\n",
       "    }\n",
       "</style>\n",
       "<table border=\"1\" class=\"dataframe\">\n",
       "  <thead>\n",
       "    <tr style=\"text-align: right;\">\n",
       "      <th></th>\n",
       "      <th>시도</th>\n",
       "      <th>사고월</th>\n",
       "      <th>구분</th>\n",
       "      <th>2020</th>\n",
       "      <th>2020.1</th>\n",
       "      <th>2020.2</th>\n",
       "      <th>2020.3</th>\n",
       "      <th>2020.4</th>\n",
       "      <th>2020.5</th>\n",
       "      <th>2020.6</th>\n",
       "      <th>...</th>\n",
       "      <th>2020.22</th>\n",
       "      <th>2020.23</th>\n",
       "      <th>2020.24</th>\n",
       "      <th>2020.25</th>\n",
       "      <th>2020.26</th>\n",
       "      <th>2020.27</th>\n",
       "      <th>2020.28</th>\n",
       "      <th>2020.29</th>\n",
       "      <th>2020.30</th>\n",
       "      <th>2020.31</th>\n",
       "    </tr>\n",
       "  </thead>\n",
       "  <tbody>\n",
       "    <tr>\n",
       "      <th>0</th>\n",
       "      <td>시도</td>\n",
       "      <td>사고월</td>\n",
       "      <td>구분</td>\n",
       "      <td>합계</td>\n",
       "      <td>01일</td>\n",
       "      <td>02일</td>\n",
       "      <td>03일</td>\n",
       "      <td>04일</td>\n",
       "      <td>05일</td>\n",
       "      <td>06일</td>\n",
       "      <td>...</td>\n",
       "      <td>22일</td>\n",
       "      <td>23일</td>\n",
       "      <td>24일</td>\n",
       "      <td>25일</td>\n",
       "      <td>26일</td>\n",
       "      <td>27일</td>\n",
       "      <td>28일</td>\n",
       "      <td>29일</td>\n",
       "      <td>30일</td>\n",
       "      <td>31일</td>\n",
       "    </tr>\n",
       "    <tr>\n",
       "      <th>1</th>\n",
       "      <td>서울</td>\n",
       "      <td>01월</td>\n",
       "      <td>사고건수</td>\n",
       "      <td>2,788</td>\n",
       "      <td>53</td>\n",
       "      <td>95</td>\n",
       "      <td>79</td>\n",
       "      <td>78</td>\n",
       "      <td>68</td>\n",
       "      <td>113</td>\n",
       "      <td>...</td>\n",
       "      <td>125</td>\n",
       "      <td>106</td>\n",
       "      <td>60</td>\n",
       "      <td>66</td>\n",
       "      <td>49</td>\n",
       "      <td>66</td>\n",
       "      <td>78</td>\n",
       "      <td>85</td>\n",
       "      <td>89</td>\n",
       "      <td>93</td>\n",
       "    </tr>\n",
       "    <tr>\n",
       "      <th>2</th>\n",
       "      <td>서울</td>\n",
       "      <td>01월</td>\n",
       "      <td>사망자수</td>\n",
       "      <td>18</td>\n",
       "      <td>1</td>\n",
       "      <td>0</td>\n",
       "      <td>0</td>\n",
       "      <td>1</td>\n",
       "      <td>0</td>\n",
       "      <td>1</td>\n",
       "      <td>...</td>\n",
       "      <td>1</td>\n",
       "      <td>0</td>\n",
       "      <td>1</td>\n",
       "      <td>0</td>\n",
       "      <td>1</td>\n",
       "      <td>0</td>\n",
       "      <td>0</td>\n",
       "      <td>1</td>\n",
       "      <td>0</td>\n",
       "      <td>1</td>\n",
       "    </tr>\n",
       "    <tr>\n",
       "      <th>3</th>\n",
       "      <td>서울</td>\n",
       "      <td>01월</td>\n",
       "      <td>부상자수</td>\n",
       "      <td>3,944</td>\n",
       "      <td>89</td>\n",
       "      <td>152</td>\n",
       "      <td>114</td>\n",
       "      <td>97</td>\n",
       "      <td>112</td>\n",
       "      <td>148</td>\n",
       "      <td>...</td>\n",
       "      <td>163</td>\n",
       "      <td>132</td>\n",
       "      <td>89</td>\n",
       "      <td>133</td>\n",
       "      <td>88</td>\n",
       "      <td>81</td>\n",
       "      <td>103</td>\n",
       "      <td>116</td>\n",
       "      <td>125</td>\n",
       "      <td>120</td>\n",
       "    </tr>\n",
       "    <tr>\n",
       "      <th>4</th>\n",
       "      <td>서울</td>\n",
       "      <td>02월</td>\n",
       "      <td>사고건수</td>\n",
       "      <td>2,999</td>\n",
       "      <td>76</td>\n",
       "      <td>52</td>\n",
       "      <td>115</td>\n",
       "      <td>104</td>\n",
       "      <td>128</td>\n",
       "      <td>122</td>\n",
       "      <td>...</td>\n",
       "      <td>90</td>\n",
       "      <td>69</td>\n",
       "      <td>104</td>\n",
       "      <td>80</td>\n",
       "      <td>83</td>\n",
       "      <td>64</td>\n",
       "      <td>82</td>\n",
       "      <td>74</td>\n",
       "      <td>-</td>\n",
       "      <td>-</td>\n",
       "    </tr>\n",
       "  </tbody>\n",
       "</table>\n",
       "<p>5 rows × 35 columns</p>\n",
       "</div>"
      ],
      "text/plain": [
       "   시도  사고월    구분   2020 2020.1 2020.2 2020.3 2020.4 2020.5 2020.6  ...  \\\n",
       "0  시도  사고월    구분     합계    01일    02일    03일    04일    05일    06일  ...   \n",
       "1  서울  01월  사고건수  2,788     53     95     79     78     68    113  ...   \n",
       "2  서울  01월  사망자수     18      1      0      0      1      0      1  ...   \n",
       "3  서울  01월  부상자수  3,944     89    152    114     97    112    148  ...   \n",
       "4  서울  02월  사고건수  2,999     76     52    115    104    128    122  ...   \n",
       "\n",
       "  2020.22 2020.23 2020.24 2020.25 2020.26 2020.27 2020.28 2020.29 2020.30  \\\n",
       "0     22일     23일     24일     25일     26일     27일     28일     29일     30일   \n",
       "1     125     106      60      66      49      66      78      85      89   \n",
       "2       1       0       1       0       1       0       0       1       0   \n",
       "3     163     132      89     133      88      81     103     116     125   \n",
       "4      90      69     104      80      83      64      82      74       -   \n",
       "\n",
       "  2020.31  \n",
       "0     31일  \n",
       "1      93  \n",
       "2       1  \n",
       "3     120  \n",
       "4       -  \n",
       "\n",
       "[5 rows x 35 columns]"
      ]
     },
     "execution_count": 269,
     "metadata": {},
     "output_type": "execute_result"
    }
   ],
   "source": [
    "ac.head()"
   ]
  },
  {
   "cell_type": "code",
   "execution_count": 390,
   "id": "e64bba50-b7b7-4ed5-b505-51257958a430",
   "metadata": {},
   "outputs": [
    {
     "data": {
      "text/html": [
       "<div>\n",
       "<style scoped>\n",
       "    .dataframe tbody tr th:only-of-type {\n",
       "        vertical-align: middle;\n",
       "    }\n",
       "\n",
       "    .dataframe tbody tr th {\n",
       "        vertical-align: top;\n",
       "    }\n",
       "\n",
       "    .dataframe thead th {\n",
       "        text-align: right;\n",
       "    }\n",
       "</style>\n",
       "<table border=\"1\" class=\"dataframe\">\n",
       "  <thead>\n",
       "    <tr style=\"text-align: right;\">\n",
       "      <th></th>\n",
       "      <th>시도</th>\n",
       "      <th>사고월</th>\n",
       "      <th>구분</th>\n",
       "      <th>2020</th>\n",
       "      <th>2020.1</th>\n",
       "      <th>2020.2</th>\n",
       "      <th>2020.3</th>\n",
       "      <th>2020.4</th>\n",
       "      <th>2020.5</th>\n",
       "      <th>2020.6</th>\n",
       "      <th>...</th>\n",
       "      <th>2020.22</th>\n",
       "      <th>2020.23</th>\n",
       "      <th>2020.24</th>\n",
       "      <th>2020.25</th>\n",
       "      <th>2020.26</th>\n",
       "      <th>2020.27</th>\n",
       "      <th>2020.28</th>\n",
       "      <th>2020.29</th>\n",
       "      <th>2020.30</th>\n",
       "      <th>2020.31</th>\n",
       "    </tr>\n",
       "  </thead>\n",
       "  <tbody>\n",
       "    <tr>\n",
       "      <th>4</th>\n",
       "      <td>서울</td>\n",
       "      <td>02월</td>\n",
       "      <td>사고건수</td>\n",
       "      <td>2,999</td>\n",
       "      <td>76</td>\n",
       "      <td>52</td>\n",
       "      <td>115</td>\n",
       "      <td>104</td>\n",
       "      <td>128</td>\n",
       "      <td>122</td>\n",
       "      <td>...</td>\n",
       "      <td>90</td>\n",
       "      <td>69</td>\n",
       "      <td>104</td>\n",
       "      <td>80</td>\n",
       "      <td>83</td>\n",
       "      <td>64</td>\n",
       "      <td>82</td>\n",
       "      <td>74</td>\n",
       "      <td>-</td>\n",
       "      <td>-</td>\n",
       "    </tr>\n",
       "  </tbody>\n",
       "</table>\n",
       "<p>1 rows × 35 columns</p>\n",
       "</div>"
      ],
      "text/plain": [
       "   시도  사고월    구분   2020 2020.1 2020.2 2020.3 2020.4 2020.5 2020.6  ...  \\\n",
       "4  서울  02월  사고건수  2,999     76     52    115    104    128    122  ...   \n",
       "\n",
       "  2020.22 2020.23 2020.24 2020.25 2020.26 2020.27 2020.28 2020.29 2020.30  \\\n",
       "4      90      69     104      80      83      64      82      74       -   \n",
       "\n",
       "  2020.31  \n",
       "4       -  \n",
       "\n",
       "[1 rows x 35 columns]"
      ]
     },
     "execution_count": 390,
     "metadata": {},
     "output_type": "execute_result"
    }
   ],
   "source": [
    "ac[4:5]"
   ]
  },
  {
   "cell_type": "code",
   "execution_count": 271,
   "id": "dabbf794-002b-473b-9d71-b982689fd682",
   "metadata": {},
   "outputs": [
    {
     "data": {
      "text/plain": [
       "'53'"
      ]
     },
     "execution_count": 271,
     "metadata": {},
     "output_type": "execute_result"
    }
   ],
   "source": [
    "ac.loc[1,'2020.1']"
   ]
  },
  {
   "cell_type": "code",
   "execution_count": 272,
   "id": "eb9351be-88f6-4783-8930-941e9ff76198",
   "metadata": {},
   "outputs": [
    {
     "data": {
      "text/plain": [
       "2020.1      53\n",
       "2020.2      95\n",
       "2020.3      79\n",
       "2020.4      78\n",
       "2020.5      68\n",
       "2020.6     113\n",
       "2020.7     123\n",
       "2020.8      93\n",
       "2020.9     103\n",
       "2020.10     90\n",
       "2020.11     84\n",
       "2020.12     65\n",
       "2020.13     96\n",
       "2020.14    107\n",
       "2020.15    108\n",
       "2020.16     98\n",
       "2020.17     92\n",
       "2020.18     98\n",
       "2020.19     82\n",
       "2020.20    110\n",
       "2020.21    136\n",
       "2020.22    125\n",
       "2020.23    106\n",
       "2020.24     60\n",
       "2020.25     66\n",
       "2020.26     49\n",
       "2020.27     66\n",
       "2020.28     78\n",
       "2020.29     85\n",
       "2020.30     89\n",
       "2020.31     93\n",
       "Name: 1, dtype: object"
      ]
     },
     "execution_count": 272,
     "metadata": {},
     "output_type": "execute_result"
    }
   ],
   "source": [
    "ac.iloc[1 ,4:35]"
   ]
  },
  {
   "cell_type": "code",
   "execution_count": 273,
   "id": "d0119ef9-e6d0-4969-b67a-c83cf9d3035f",
   "metadata": {},
   "outputs": [
    {
     "name": "stdout",
     "output_type": "stream",
     "text": [
      "<class 'pandas.core.series.Series'>\n"
     ]
    }
   ],
   "source": [
    "print(type(ac.iloc[1 ,4:35]))"
   ]
  },
  {
   "cell_type": "code",
   "execution_count": 274,
   "id": "c74abf33-9f89-457e-91ca-e26213f7fe51",
   "metadata": {},
   "outputs": [
    {
     "name": "stdout",
     "output_type": "stream",
     "text": [
      "<class 'list'>\n"
     ]
    }
   ],
   "source": [
    "ac_list = list()\n",
    "ac_list = ac.iloc[1 ,4:35].tolist()\n",
    "print(type(ac_list))"
   ]
  },
  {
   "cell_type": "code",
   "execution_count": 275,
   "id": "e942c3f2-f71d-486c-8708-4db3fac6824d",
   "metadata": {},
   "outputs": [
    {
     "name": "stdout",
     "output_type": "stream",
     "text": [
      "['53', '95', '79', '78', '68', '113', '123', '93', '103', '90', '84', '65', '96', '107', '108', '98', '92', '98', '82', '110', '136', '125', '106', '60', '66', '49', '66', '78', '85', '89', '93']\n"
     ]
    }
   ],
   "source": [
    "print(ac_list)"
   ]
  },
  {
   "cell_type": "code",
   "execution_count": 276,
   "id": "acad04b6-cc6c-454c-8437-a02ec7dd1e2f",
   "metadata": {},
   "outputs": [
    {
     "name": "stdout",
     "output_type": "stream",
     "text": [
      "53\n"
     ]
    }
   ],
   "source": [
    "print(ac_list[0])"
   ]
  },
  {
   "cell_type": "code",
   "execution_count": 277,
   "id": "ac9498e1-992d-478e-b2b6-13c5ac5b0289",
   "metadata": {
    "tags": []
   },
   "outputs": [
    {
     "name": "stdout",
     "output_type": "stream",
     "text": [
      "53\n",
      "95\n",
      "79\n",
      "78\n",
      "68\n",
      "113\n",
      "123\n",
      "93\n",
      "103\n",
      "90\n",
      "84\n",
      "65\n",
      "96\n",
      "107\n",
      "108\n",
      "98\n",
      "92\n",
      "98\n",
      "82\n",
      "110\n",
      "136\n",
      "125\n",
      "106\n",
      "60\n",
      "66\n",
      "49\n",
      "66\n",
      "78\n",
      "85\n",
      "89\n"
     ]
    }
   ],
   "source": [
    "for i in range(30):\n",
    "    print(ac.iloc[1 , i+4])"
   ]
  },
  {
   "cell_type": "code",
   "execution_count": 154,
   "id": "37e4f53c-58bd-49ba-8ae5-f7e8be6d6806",
   "metadata": {},
   "outputs": [],
   "source": [
    "acci_list = list()\n",
    "\n",
    "acci_list.append(ac.loc[1])\n",
    "acci_list.append(ac.loc[4])\n",
    "\n",
    "# print(acci_list)"
   ]
  },
  {
   "cell_type": "code",
   "execution_count": 33,
   "id": "4d7b6e6d-d324-4e8f-9af6-121b9cfa1c2e",
   "metadata": {},
   "outputs": [
    {
     "name": "stderr",
     "output_type": "stream",
     "text": [
      "C:\\Users\\BIT\\AppData\\Local\\Temp/ipykernel_13112/1921754010.py:5: DeprecationWarning: executable_path has been deprecated, please pass in a Service object\n",
      "  driver = webdriver.Chrome('driver/chromedriver')\n"
     ]
    },
    {
     "name": "stdout",
     "output_type": "stream",
     "text": [
      "[<selenium.webdriver.remote.webelement.WebElement (session=\"56af97ca7e2db2d1527670ad24b28d8d\", element=\"315032cc-b245-47ca-b709-4a607d5bc0c9\")>]\n"
     ]
    },
    {
     "name": "stderr",
     "output_type": "stream",
     "text": [
      "C:\\Users\\BIT\\AppData\\Local\\Temp/ipykernel_13112/1921754010.py:11: DeprecationWarning: find_elements_by_* commands are deprecated. Please use find_elements() instead\n",
      "  weather = driver.find_elements_by_css_selector('body > div.container > section > div > div.cont-wrap > div.cmp-past-obs > div:nth-child(3) > div > table')\n"
     ]
    }
   ],
   "source": [
    "from selenium import webdriver\n",
    "from selenium.webdriver.common.keys import Keys\n",
    "from time import sleep\n",
    "\n",
    "driver = webdriver.Chrome('driver/chromedriver')\n",
    "# driver.implicitly_wait(3)\n",
    "\n",
    "driver.get('https://www.weather.go.kr/w/obs-climate/land/past-obs/obs-by-day.do?stn=108&yy=2017&mm=1&obs=9')\n",
    "# driver.implicitly_wait(1)\n",
    "\n",
    "weather = driver.find_elements_by_css_selector('body > div.container > section > div > div.cont-wrap > div.cmp-past-obs > div:nth-child(3) > div > table')\n",
    "print(weather)\n",
    "\n"
   ]
  },
  {
   "cell_type": "code",
   "execution_count": 36,
   "id": "3c093b92-f532-4b7f-8bcd-b44436dd1cdd",
   "metadata": {},
   "outputs": [
    {
     "name": "stdout",
     "output_type": "stream",
     "text": [
      "일요일 월요일 화요일 수요일 목요일 금요일 토요일\n",
      "1일 2일 3일 4일 5일 6일 7일\n",
      "박무\n",
      "연무 비\n",
      "박무\n",
      "연무 박무\n",
      "연무 박무\n",
      "연무 박무\n",
      "연무\n",
      "8일 9일 10일 11일 12일 13일 14일\n",
      "비\n",
      "박무\n",
      "연무 비\n",
      "박무\n",
      "연무 연무 눈 눈\n",
      "15일 16일 17일 18일 19일 20일 21일\n",
      "연무 눈\n",
      "연무 박무\n",
      "연무 눈\n",
      "박무\n",
      "연무 눈\n",
      "박무\n",
      "연무\n",
      "22일 23일 24일 25일 26일 27일 28일\n",
      "눈\n",
      "연무 연무 연무 비\n",
      "박무\n",
      "연무 비\n",
      "박무\n",
      "황사\n",
      "29일 30일 31일        \n",
      "눈\n",
      "진눈깨비\n",
      "박무 눈\n",
      "박무        \n"
     ]
    }
   ],
   "source": [
    "for i in weather :\n",
    "    print(i.text)"
   ]
  },
  {
   "cell_type": "code",
   "execution_count": 51,
   "id": "6c29ea44-3a7b-46f3-9999-eee28e60cb5a",
   "metadata": {},
   "outputs": [],
   "source": [
    "# 아래사이트는 포기."
   ]
  },
  {
   "cell_type": "code",
   "execution_count": 18,
   "id": "622c19bf-6552-4242-b7ce-6faddf30345f",
   "metadata": {},
   "outputs": [
    {
     "name": "stderr",
     "output_type": "stream",
     "text": [
      "C:\\Users\\BIT\\AppData\\Local\\Temp/ipykernel_13112/3896248825.py:3: DeprecationWarning: executable_path has been deprecated, please pass in a Service object\n",
      "  driver = webdriver.Chrome('driver/chromedriver')\n"
     ]
    },
    {
     "name": "stdout",
     "output_type": "stream",
     "text": [
      "[<selenium.webdriver.remote.webelement.WebElement (session=\"c672ddd4e525d733484ab968b08bf795\", element=\"b5b43c8e-232a-47e3-8dea-3f7c0bf0afe1\")>]\n"
     ]
    },
    {
     "name": "stderr",
     "output_type": "stream",
     "text": [
      "C:\\Users\\BIT\\AppData\\Local\\Temp/ipykernel_13112/3896248825.py:6: DeprecationWarning: find_elements_by_* commands are deprecated. Please use find_elements() instead\n",
      "  weather = driver.find_elements_by_css_selector('body')\n"
     ]
    }
   ],
   "source": [
    "from selenium import webdriver\n",
    "\n",
    "driver = webdriver.Chrome('driver/chromedriver')\n",
    "\n",
    "driver.get('https://www.weather.go.kr/plus/land/current/aws_table_popup.jsp')\n",
    "weather = driver.find_elements_by_css_selector('body')\n",
    "print(weather)"
   ]
  },
  {
   "cell_type": "code",
   "execution_count": 19,
   "id": "dc50786f-83ac-4218-a078-69d3de1977ee",
   "metadata": {},
   "outputs": [
    {
     "name": "stdout",
     "output_type": "stream",
     "text": [
      "[<selenium.webdriver.remote.webelement.WebElement (session=\"c672ddd4e525d733484ab968b08bf795\", element=\"b5b43c8e-232a-47e3-8dea-3f7c0bf0afe1\")>]\n"
     ]
    }
   ],
   "source": [
    "print(weather)"
   ]
  },
  {
   "cell_type": "code",
   "execution_count": 20,
   "id": "8533ead6-a48d-4082-864f-5645c9e6aa8d",
   "metadata": {},
   "outputs": [
    {
     "name": "stdout",
     "output_type": "stream",
     "text": [
      "지역별상세관측자료(AWS)\n",
      " \n"
     ]
    }
   ],
   "source": [
    "for i in weather :\n",
    "    print(i.text)"
   ]
  },
  {
   "cell_type": "code",
   "execution_count": 52,
   "id": "0316222f-a8a0-4343-ac49-add53aa3be24",
   "metadata": {},
   "outputs": [],
   "source": [
    "# 기상청 달력 날씨 사이트에서. 구하기"
   ]
  },
  {
   "cell_type": "code",
   "execution_count": 59,
   "id": "9f2c998e-7ba9-40a6-83cd-02de1510f050",
   "metadata": {},
   "outputs": [
    {
     "name": "stderr",
     "output_type": "stream",
     "text": [
      "C:\\Users\\BIT\\AppData\\Local\\Temp/ipykernel_13112/1707415936.py:5: DeprecationWarning: executable_path has been deprecated, please pass in a Service object\n",
      "  driver = webdriver.Chrome('driver/chromedriver')\n",
      "C:\\Users\\BIT\\AppData\\Local\\Temp/ipykernel_13112/1707415936.py:11: DeprecationWarning: find_elements_by_* commands are deprecated. Please use find_elements() instead\n",
      "  weather = driver.find_elements_by_css_selector('body > div.container > section > div > div.cont-wrap > div.cmp-past-obs > div:nth-child(3) > div > table > tbody > tr:nth-child(1) > td:nth-child(1)')\n"
     ]
    },
    {
     "name": "stdout",
     "output_type": "stream",
     "text": [
      "[<selenium.webdriver.remote.webelement.WebElement (session=\"1a1afb1e3627b7d53b9304cc2da6be71\", element=\"6b668fc0-0148-492f-8b97-1e5c40002767\")>]\n",
      "1일\n"
     ]
    }
   ],
   "source": [
    "from selenium import webdriver\n",
    "from selenium.webdriver.common.keys import Keys\n",
    "from time import sleep\n",
    "\n",
    "driver = webdriver.Chrome('driver/chromedriver')\n",
    "\n",
    "\n",
    "driver.get('https://www.weather.go.kr/w/obs-climate/land/past-obs/obs-by-day.do?stn=108&yy=2017&mm=1&obs=9')\n",
    "\n",
    "\n",
    "weather = driver.find_elements_by_css_selector('body > div.container > section > div > div.cont-wrap > div.cmp-past-obs > div:nth-child(3) > div > table > tbody > tr:nth-child(1) > td:nth-child(1)')\n",
    "print(weather)\n",
    "for i in weather :\n",
    "    print(i.text)"
   ]
  },
  {
   "cell_type": "code",
   "execution_count": 53,
   "id": "307e5efb-2b45-4d5c-ab65-a61b6f114852",
   "metadata": {},
   "outputs": [],
   "source": [
    "# 날짜별로 마지막 (i) 가 다름을 알 수 있음."
   ]
  },
  {
   "cell_type": "code",
   "execution_count": null,
   "id": "0a65d5f8-49ad-4026-8eda-cf8472bad6ea",
   "metadata": {},
   "outputs": [],
   "source": [
    "body > div.container > section > div > div.cont-wrap > div.cmp-past-obs > div:nth-child(3) > div > table > tbody > tr:nth-child(1) > td:nth-child(1)"
   ]
  },
  {
   "cell_type": "code",
   "execution_count": null,
   "id": "71873bb3-0c2f-4331-a370-539549278b70",
   "metadata": {},
   "outputs": [],
   "source": [
    "body > div.container > section > div > div.cont-wrap > div.cmp-past-obs > div:nth-child(3) > div > table > tbody > tr:nth-child(1) > td:nth-child(2)"
   ]
  },
  {
   "cell_type": "code",
   "execution_count": null,
   "id": "e5a2fa7d-9135-417a-b210-a4307319ed5b",
   "metadata": {},
   "outputs": [],
   "source": [
    "body > div.container > section > div > div.cont-wrap > div.cmp-past-obs > div:nth-child(3) > div > table > tbody > tr:nth-child(1) > td:nth-child(3)"
   ]
  },
  {
   "cell_type": "code",
   "execution_count": null,
   "id": "f266a8ff-ef96-4c47-a25f-eea40488fffb",
   "metadata": {},
   "outputs": [],
   "source": [
    "body > div.container > section > div > div.cont-wrap > div.cmp-past-obs > div:nth-child(3) > div > table > tbody > tr:nth-child(1) > td:nth-child(4)"
   ]
  },
  {
   "cell_type": "code",
   "execution_count": 57,
   "id": "cb8fd6de-8f47-46e3-8195-dfc8ff7bd4f0",
   "metadata": {},
   "outputs": [],
   "source": [
    "# 밑에 내용은 tr:nth-child(2) > td:nth-child(i) 로 진행됨을 알 수 있음."
   ]
  },
  {
   "cell_type": "code",
   "execution_count": 55,
   "id": "e5d7b0c1-cd87-409a-9d4f-e3b9413a57c2",
   "metadata": {
    "tags": []
   },
   "outputs": [
    {
     "name": "stderr",
     "output_type": "stream",
     "text": [
      "C:\\Users\\BIT\\AppData\\Local\\Temp/ipykernel_13112/518454062.py:5: DeprecationWarning: executable_path has been deprecated, please pass in a Service object\n",
      "  driver = webdriver.Chrome('driver/chromedriver')\n",
      "C:\\Users\\BIT\\AppData\\Local\\Temp/ipykernel_13112/518454062.py:9: DeprecationWarning: find_elements_by_* commands are deprecated. Please use find_elements() instead\n",
      "  weather = driver.find_elements_by_css_selector('body > div.container > section > div > div.cont-wrap > div.cmp-past-obs > div:nth-child(3) > div > table > tbody > tr:nth-child(2) > td:nth-child(1)')\n"
     ]
    },
    {
     "name": "stdout",
     "output_type": "stream",
     "text": [
      "[<selenium.webdriver.remote.webelement.WebElement (session=\"a45de1f403afe4a0f5dd3a8e6a56530f\", element=\"bb63f397-b27b-4249-8e33-81faf5785a07\")>]\n",
      "박무\n",
      "연무\n"
     ]
    }
   ],
   "source": [
    "\n",
    "from selenium import webdriver\n",
    "from selenium.webdriver.common.keys import Keys\n",
    "from time import sleep\n",
    "\n",
    "driver = webdriver.Chrome('driver/chromedriver')\n",
    "\n",
    "driver.get('https://www.weather.go.kr/w/obs-climate/land/past-obs/obs-by-day.do?stn=108&yy=2017&mm=1&obs=9')\n",
    "\n",
    "weather = driver.find_elements_by_css_selector('body > div.container > section > div > div.cont-wrap > div.cmp-past-obs > div:nth-child(3) > div > table > tbody > tr:nth-child(2) > td:nth-child(1)')\n",
    "print(weather)\n",
    "for i in weather :\n",
    "    print(i.text)"
   ]
  },
  {
   "cell_type": "code",
   "execution_count": null,
   "id": "5e04f051-8ad1-4913-ad50-58ab88fe0666",
   "metadata": {},
   "outputs": [],
   "source": [
    "body > div.container > section > div > div.cont-wrap > div.cmp-past-obs > div:nth-child(3) > div > table > tbody > tr:nth-child(2) > td:nth-child(1)"
   ]
  },
  {
   "cell_type": "code",
   "execution_count": 74,
   "id": "e8cf94ec-6ad9-4632-9e1b-c05afd9406e9",
   "metadata": {},
   "outputs": [
    {
     "name": "stderr",
     "output_type": "stream",
     "text": [
      "C:\\Users\\BIT\\AppData\\Local\\Temp/ipykernel_13112/3769274024.py:5: DeprecationWarning: executable_path has been deprecated, please pass in a Service object\n",
      "  driver = webdriver.Chrome('driver/chromedriver')\n"
     ]
    },
    {
     "name": "stdout",
     "output_type": "stream",
     "text": [
      "[[<selenium.webdriver.remote.webelement.WebElement (session=\"c633a03499b1b6fc148b68504f197955\", element=\"f4053c1f-a5e0-4247-8ce2-070f8ee73eac\")>], [<selenium.webdriver.remote.webelement.WebElement (session=\"c633a03499b1b6fc148b68504f197955\", element=\"f4053c1f-a5e0-4247-8ce2-070f8ee73eac\")>]]\n",
      "[<selenium.webdriver.remote.webelement.WebElement (session=\"c633a03499b1b6fc148b68504f197955\", element=\"f4053c1f-a5e0-4247-8ce2-070f8ee73eac\")>]\n",
      "[<selenium.webdriver.remote.webelement.WebElement (session=\"c633a03499b1b6fc148b68504f197955\", element=\"f4053c1f-a5e0-4247-8ce2-070f8ee73eac\")>]\n"
     ]
    },
    {
     "name": "stderr",
     "output_type": "stream",
     "text": [
      "C:\\Users\\BIT\\AppData\\Local\\Temp/ipykernel_13112/3769274024.py:12: DeprecationWarning: find_elements_by_* commands are deprecated. Please use find_elements() instead\n",
      "  weather_list.append(driver.find_elements_by_css_selector('body > div.container > section > div > div.cont-wrap > div.cmp-past-obs > div:nth-child(3) > div > table > tbody > tr:nth-child(1) > td:nth-child(1)'))\n"
     ]
    }
   ],
   "source": [
    "from selenium import webdriver\n",
    "from selenium.webdriver.common.keys import Keys\n",
    "from time import sleep\n",
    "\n",
    "driver = webdriver.Chrome('driver/chromedriver')\n",
    "\n",
    "\n",
    "driver.get('https://www.weather.go.kr/w/obs-climate/land/past-obs/obs-by-day.do?stn=108&yy=2017&mm=1&obs=9')\n",
    "weather_list = list()\n",
    "\n",
    "for i in range (2) : # for 문을 활용해서 데이터 정리를 해보자..\n",
    "    weather_list.append(driver.find_elements_by_css_selector('body > div.container > section > div > div.cont-wrap > div.cmp-past-obs > div:nth-child(3) > div > table > tbody > tr:nth-child(1) > td:nth-child(1)'))\n",
    "\n",
    "\n",
    "print(weather_list)\n",
    "for i in weather_list :\n",
    "    print(i)"
   ]
  },
  {
   "cell_type": "code",
   "execution_count": 75,
   "id": "b8fe19db-e968-4eff-b949-01a10982484e",
   "metadata": {},
   "outputs": [
    {
     "name": "stdout",
     "output_type": "stream",
     "text": [
      "1일\n",
      "1일\n"
     ]
    }
   ],
   "source": [
    "for i in weather_list :\n",
    "    for n in i :\n",
    "        print(n.text)"
   ]
  },
  {
   "cell_type": "code",
   "execution_count": 87,
   "id": "7381569e-ac2a-49ac-ab2c-f19e7a5af21d",
   "metadata": {},
   "outputs": [],
   "source": [
    "# 반복문으로 일, 내용 을 리스트에 넣는데는 성공"
   ]
  },
  {
   "cell_type": "code",
   "execution_count": 278,
   "id": "98764269-9514-48ab-b518-d4f309dfe3d5",
   "metadata": {},
   "outputs": [
    {
     "name": "stderr",
     "output_type": "stream",
     "text": [
      "C:\\Users\\BIT\\AppData\\Local\\Temp/ipykernel_13112/1258717458.py:5: DeprecationWarning: executable_path has been deprecated, please pass in a Service object\n",
      "  driver = webdriver.Chrome('driver/chromedriver')\n"
     ]
    },
    {
     "name": "stdout",
     "output_type": "stream",
     "text": [
      "[[<selenium.webdriver.remote.webelement.WebElement (session=\"2b8b76dc1d588f4204b2fdfdcdea9c65\", element=\"1344ceaf-e20a-4bd8-bb61-358f971d1044\")>], [<selenium.webdriver.remote.webelement.WebElement (session=\"2b8b76dc1d588f4204b2fdfdcdea9c65\", element=\"a1c837eb-2e7e-4fcc-afa6-a72ba03147e4\")>], [<selenium.webdriver.remote.webelement.WebElement (session=\"2b8b76dc1d588f4204b2fdfdcdea9c65\", element=\"99715aef-7ec6-4384-9197-ead8d980b293\")>], [<selenium.webdriver.remote.webelement.WebElement (session=\"2b8b76dc1d588f4204b2fdfdcdea9c65\", element=\"88ac842f-ea85-40fd-b0cd-ecb8b7f923f5\")>], [<selenium.webdriver.remote.webelement.WebElement (session=\"2b8b76dc1d588f4204b2fdfdcdea9c65\", element=\"40122be3-8937-47ad-92d1-a054f78d9150\")>], [<selenium.webdriver.remote.webelement.WebElement (session=\"2b8b76dc1d588f4204b2fdfdcdea9c65\", element=\"c06d884b-9c50-4529-a7c6-bc6b3abf3827\")>]]\n"
     ]
    },
    {
     "name": "stderr",
     "output_type": "stream",
     "text": [
      "C:\\Users\\BIT\\AppData\\Local\\Temp/ipykernel_13112/1258717458.py:12: DeprecationWarning: find_elements_by_* commands are deprecated. Please use find_elements() instead\n",
      "  weather_list.append(driver.find_elements_by_xpath('/html/body/div[2]/section/div/div[2]/div[2]/div[3]/div/table/tbody/tr[1]/td[{0}]'.format(i)))\n",
      "C:\\Users\\BIT\\AppData\\Local\\Temp/ipykernel_13112/1258717458.py:13: DeprecationWarning: find_elements_by_* commands are deprecated. Please use find_elements() instead\n",
      "  weather_list.append(driver.find_elements_by_xpath('/html/body/div[2]/section/div/div[2]/div[2]/div[3]/div/table/tbody/tr[2]/td[{0}]'.format(i)))\n"
     ]
    }
   ],
   "source": [
    "from selenium import webdriver\n",
    "from selenium.webdriver.common.keys import Keys\n",
    "from time import sleep\n",
    "\n",
    "driver = webdriver.Chrome('driver/chromedriver')\n",
    "\n",
    "\n",
    "driver.get('https://www.weather.go.kr/w/obs-climate/land/past-obs/obs-by-day.do?stn=108&yy=2017&mm=1&obs=9')\n",
    "weather_list = list()\n",
    "\n",
    "for i in range (1,4) : # for 문을 활용해서 데이터 정리를 해보자..\n",
    "    weather_list.append(driver.find_elements_by_xpath('/html/body/div[2]/section/div/div[2]/div[2]/div[3]/div/table/tbody/tr[1]/td[{0}]'.format(i)))\n",
    "    weather_list.append(driver.find_elements_by_xpath('/html/body/div[2]/section/div/div[2]/div[2]/div[3]/div/table/tbody/tr[2]/td[{0}]'.format(i)))\n",
    "\n",
    "\n",
    "print(weather_list)\n"
   ]
  },
  {
   "cell_type": "code",
   "execution_count": 280,
   "id": "b25ea7d3-4fdf-4a95-a9d1-edf687c506d1",
   "metadata": {},
   "outputs": [
    {
     "name": "stdout",
     "output_type": "stream",
     "text": [
      "1일\n",
      "박무\n",
      "연무\n",
      "2일\n",
      "비\n",
      "박무\n",
      "연무\n",
      "3일\n",
      "박무\n",
      "연무\n"
     ]
    }
   ],
   "source": [
    "for i in weather_list :\n",
    "    for n in i :\n",
    "        print(n.text)"
   ]
  },
  {
   "cell_type": "code",
   "execution_count": 384,
   "id": "ba1c37f1-dea1-40c1-8797-cbe455be9a6f",
   "metadata": {
    "tags": []
   },
   "outputs": [
    {
     "name": "stderr",
     "output_type": "stream",
     "text": [
      "C:\\Users\\BIT\\AppData\\Local\\Temp/ipykernel_13112/2650215584.py:5: DeprecationWarning: executable_path has been deprecated, please pass in a Service object\n",
      "  driver = webdriver.Chrome('driver/chromedriver')\n",
      "C:\\Users\\BIT\\AppData\\Local\\Temp/ipykernel_13112/2650215584.py:12: DeprecationWarning: find_elements_by_* commands are deprecated. Please use find_elements() instead\n",
      "  weather_list.extend(driver.find_elements_by_xpath('/html/body/div[2]/section/div/div[2]/div[2]/div[3]/div/table/tbody/tr[2]/td[{0}]'.format(i)))\n",
      "C:\\Users\\BIT\\AppData\\Local\\Temp/ipykernel_13112/2650215584.py:14: DeprecationWarning: find_elements_by_* commands are deprecated. Please use find_elements() instead\n",
      "  weather_list.extend(driver.find_elements_by_xpath('/html/body/div[2]/section/div/div[2]/div[2]/div[3]/div/table/tbody/tr[4]/td[{0}]'.format(i)))\n",
      "C:\\Users\\BIT\\AppData\\Local\\Temp/ipykernel_13112/2650215584.py:16: DeprecationWarning: find_elements_by_* commands are deprecated. Please use find_elements() instead\n",
      "  weather_list.extend(driver.find_elements_by_xpath('/html/body/div[2]/section/div/div[2]/div[2]/div[3]/div/table/tbody/tr[6]/td[{0}]'.format(i)))\n"
     ]
    },
    {
     "name": "stdout",
     "output_type": "stream",
     "text": [
      "[<selenium.webdriver.remote.webelement.WebElement (session=\"94f602cb19520a7ccbf9cad04b2aca3c\", element=\"4d0278e2-f0a8-436a-9165-bcb949f2f295\")>, <selenium.webdriver.remote.webelement.WebElement (session=\"94f602cb19520a7ccbf9cad04b2aca3c\", element=\"c8c9b2b9-73c6-43f5-b513-d94e626e1aed\")>, <selenium.webdriver.remote.webelement.WebElement (session=\"94f602cb19520a7ccbf9cad04b2aca3c\", element=\"e6049436-d60b-4ea3-aec7-b49a4c5734df\")>, <selenium.webdriver.remote.webelement.WebElement (session=\"94f602cb19520a7ccbf9cad04b2aca3c\", element=\"48acd5f5-9fe5-4bf4-b551-de2a3d78da29\")>, <selenium.webdriver.remote.webelement.WebElement (session=\"94f602cb19520a7ccbf9cad04b2aca3c\", element=\"9727f72c-c7e9-41df-a11a-226ff5a31a0d\")>, <selenium.webdriver.remote.webelement.WebElement (session=\"94f602cb19520a7ccbf9cad04b2aca3c\", element=\"5a5f5f97-b9be-4fc3-9278-839fa7656c69\")>, <selenium.webdriver.remote.webelement.WebElement (session=\"94f602cb19520a7ccbf9cad04b2aca3c\", element=\"bad56b48-ccaf-48ca-96de-5e229a71bfac\")>, <selenium.webdriver.remote.webelement.WebElement (session=\"94f602cb19520a7ccbf9cad04b2aca3c\", element=\"758bfa2f-ee9b-471c-a123-1593dd85ac55\")>, <selenium.webdriver.remote.webelement.WebElement (session=\"94f602cb19520a7ccbf9cad04b2aca3c\", element=\"19085371-b996-4660-b26d-2a2d4882694b\")>, <selenium.webdriver.remote.webelement.WebElement (session=\"94f602cb19520a7ccbf9cad04b2aca3c\", element=\"602af2ed-f2d9-45cc-b91e-aa9e3b73ea6b\")>, <selenium.webdriver.remote.webelement.WebElement (session=\"94f602cb19520a7ccbf9cad04b2aca3c\", element=\"9a9f4ca7-e1b5-48ff-b8fe-3edf6af35d17\")>, <selenium.webdriver.remote.webelement.WebElement (session=\"94f602cb19520a7ccbf9cad04b2aca3c\", element=\"14a27570-c087-4266-a93e-10d114fcccec\")>, <selenium.webdriver.remote.webelement.WebElement (session=\"94f602cb19520a7ccbf9cad04b2aca3c\", element=\"067e9c22-2fbc-4677-a666-b9d9835fce1f\")>, <selenium.webdriver.remote.webelement.WebElement (session=\"94f602cb19520a7ccbf9cad04b2aca3c\", element=\"1e15942c-f422-4755-90e6-08e1f8ad5221\")>, <selenium.webdriver.remote.webelement.WebElement (session=\"94f602cb19520a7ccbf9cad04b2aca3c\", element=\"a61bc1b0-c24d-4ab1-8258-289c6d3f04cb\")>, <selenium.webdriver.remote.webelement.WebElement (session=\"94f602cb19520a7ccbf9cad04b2aca3c\", element=\"28d175ad-8bf0-4033-8bda-b49d291a4afb\")>, <selenium.webdriver.remote.webelement.WebElement (session=\"94f602cb19520a7ccbf9cad04b2aca3c\", element=\"43eefd8f-a97e-4ac1-8760-edf7312e24f6\")>, <selenium.webdriver.remote.webelement.WebElement (session=\"94f602cb19520a7ccbf9cad04b2aca3c\", element=\"2a3bb6a6-515c-47b6-a397-045011f5917f\")>, <selenium.webdriver.remote.webelement.WebElement (session=\"94f602cb19520a7ccbf9cad04b2aca3c\", element=\"c8be1a6a-5df8-4549-9153-313a1988e249\")>, <selenium.webdriver.remote.webelement.WebElement (session=\"94f602cb19520a7ccbf9cad04b2aca3c\", element=\"ce0844b9-9880-4551-a41e-eb30a292ccd4\")>, <selenium.webdriver.remote.webelement.WebElement (session=\"94f602cb19520a7ccbf9cad04b2aca3c\", element=\"7974c7e1-1495-418d-b8b0-7192f51391bb\")>, <selenium.webdriver.remote.webelement.WebElement (session=\"94f602cb19520a7ccbf9cad04b2aca3c\", element=\"7825abb8-e229-4d1b-bab1-cfc2cdecd42f\")>, <selenium.webdriver.remote.webelement.WebElement (session=\"94f602cb19520a7ccbf9cad04b2aca3c\", element=\"8666eb00-93f4-4a92-b600-9acb2920dcb8\")>, <selenium.webdriver.remote.webelement.WebElement (session=\"94f602cb19520a7ccbf9cad04b2aca3c\", element=\"972f0828-f6ce-4845-b9c4-1f1b2bbd0f58\")>, <selenium.webdriver.remote.webelement.WebElement (session=\"94f602cb19520a7ccbf9cad04b2aca3c\", element=\"70a37ffc-4627-4c3f-bad9-85c75626e103\")>, <selenium.webdriver.remote.webelement.WebElement (session=\"94f602cb19520a7ccbf9cad04b2aca3c\", element=\"d9fa9ba1-ac24-48c1-a932-93418a5c7191\")>, <selenium.webdriver.remote.webelement.WebElement (session=\"94f602cb19520a7ccbf9cad04b2aca3c\", element=\"5aa31e43-a5d4-49e2-8fa3-277d6ef67b35\")>, <selenium.webdriver.remote.webelement.WebElement (session=\"94f602cb19520a7ccbf9cad04b2aca3c\", element=\"3fd8d979-8c56-41b7-b1c5-35f12a5e07f2\")>, <selenium.webdriver.remote.webelement.WebElement (session=\"94f602cb19520a7ccbf9cad04b2aca3c\", element=\"391a54f3-45c2-4bc4-b87b-311bd00dbd3a\")>, <selenium.webdriver.remote.webelement.WebElement (session=\"94f602cb19520a7ccbf9cad04b2aca3c\", element=\"8aab7a56-33cc-4e9d-b0cd-8b2b23ab0405\")>, <selenium.webdriver.remote.webelement.WebElement (session=\"94f602cb19520a7ccbf9cad04b2aca3c\", element=\"a56fa9d4-78ad-4dbf-b9aa-1272b56bbc4e\")>, <selenium.webdriver.remote.webelement.WebElement (session=\"94f602cb19520a7ccbf9cad04b2aca3c\", element=\"c428c4ad-d2ad-48f8-a4d1-4cb6fc3dcd39\")>]\n"
     ]
    },
    {
     "name": "stderr",
     "output_type": "stream",
     "text": [
      "C:\\Users\\BIT\\AppData\\Local\\Temp/ipykernel_13112/2650215584.py:18: DeprecationWarning: find_elements_by_* commands are deprecated. Please use find_elements() instead\n",
      "  weather_list.extend(driver.find_elements_by_xpath('/html/body/div[2]/section/div/div[2]/div[2]/div[3]/div/table/tbody/tr[8]/td[{0}]'.format(i)))\n",
      "C:\\Users\\BIT\\AppData\\Local\\Temp/ipykernel_13112/2650215584.py:20: DeprecationWarning: find_elements_by_* commands are deprecated. Please use find_elements() instead\n",
      "  weather_list.extend(driver.find_elements_by_xpath('/html/body/div[2]/section/div/div[2]/div[2]/div[3]/div/table/tbody/tr[10]/td[{0}]'.format(i)))\n"
     ]
    }
   ],
   "source": [
    "from selenium import webdriver\n",
    "from selenium.webdriver.common.keys import Keys\n",
    "from time import sleep\n",
    "\n",
    "driver = webdriver.Chrome('driver/chromedriver')\n",
    "\n",
    "\n",
    "driver.get('https://www.weather.go.kr/w/obs-climate/land/past-obs/obs-by-day.do?stn=108&yy=2020&mm=1&obs=9')\n",
    "weather_list = list()\n",
    "\n",
    "for i in range (4,8) : # for 문을 활용해서 데이터 정리를 해보자..\n",
    "    weather_list.extend(driver.find_elements_by_xpath('/html/body/div[2]/section/div/div[2]/div[2]/div[3]/div/table/tbody/tr[2]/td[{0}]'.format(i)))\n",
    "for i in range (1,8) :\n",
    "    weather_list.extend(driver.find_elements_by_xpath('/html/body/div[2]/section/div/div[2]/div[2]/div[3]/div/table/tbody/tr[4]/td[{0}]'.format(i)))\n",
    "for i in range (1,8) :\n",
    "    weather_list.extend(driver.find_elements_by_xpath('/html/body/div[2]/section/div/div[2]/div[2]/div[3]/div/table/tbody/tr[6]/td[{0}]'.format(i)))\n",
    "for i in range (1,8) :\n",
    "    weather_list.extend(driver.find_elements_by_xpath('/html/body/div[2]/section/div/div[2]/div[2]/div[3]/div/table/tbody/tr[8]/td[{0}]'.format(i)))\n",
    "for i in range (1,8) :\n",
    "    weather_list.extend(driver.find_elements_by_xpath('/html/body/div[2]/section/div/div[2]/div[2]/div[3]/div/table/tbody/tr[10]/td[{0}]'.format(i)))\n",
    "\n",
    "print(weather_list)"
   ]
  },
  {
   "cell_type": "code",
   "execution_count": 385,
   "id": "18254f04-e609-4fa7-9b7e-97a7e0060659",
   "metadata": {},
   "outputs": [
    {
     "data": {
      "text/html": [
       "<div>\n",
       "<style scoped>\n",
       "    .dataframe tbody tr th:only-of-type {\n",
       "        vertical-align: middle;\n",
       "    }\n",
       "\n",
       "    .dataframe tbody tr th {\n",
       "        vertical-align: top;\n",
       "    }\n",
       "\n",
       "    .dataframe thead th {\n",
       "        text-align: right;\n",
       "    }\n",
       "</style>\n",
       "<table border=\"1\" class=\"dataframe\">\n",
       "  <thead>\n",
       "    <tr style=\"text-align: right;\">\n",
       "      <th></th>\n",
       "      <th>2020.1</th>\n",
       "      <th>2020.2</th>\n",
       "      <th>2020.3</th>\n",
       "      <th>2020.4</th>\n",
       "      <th>2020.5</th>\n",
       "      <th>2020.6</th>\n",
       "      <th>2020.7</th>\n",
       "      <th>2020.8</th>\n",
       "      <th>2020.9</th>\n",
       "      <th>2020.10</th>\n",
       "      <th>...</th>\n",
       "      <th>2020.22</th>\n",
       "      <th>2020.23</th>\n",
       "      <th>2020.24</th>\n",
       "      <th>2020.25</th>\n",
       "      <th>2020.26</th>\n",
       "      <th>2020.27</th>\n",
       "      <th>2020.28</th>\n",
       "      <th>2020.29</th>\n",
       "      <th>2020.30</th>\n",
       "      <th>2020.31</th>\n",
       "    </tr>\n",
       "  </thead>\n",
       "  <tbody>\n",
       "    <tr>\n",
       "      <th>0</th>\n",
       "      <td>눈\\n박무\\n연무</td>\n",
       "      <td>연무</td>\n",
       "      <td>박무\\n연무</td>\n",
       "      <td>연무</td>\n",
       "      <td>연무</td>\n",
       "      <td>비\\n눈\\n진눈깨비\\n박무</td>\n",
       "      <td>비\\n박무</td>\n",
       "      <td>비\\n진눈깨비\\n박무</td>\n",
       "      <td>박무\\n연무</td>\n",
       "      <td>박무\\n연무</td>\n",
       "      <td>...</td>\n",
       "      <td></td>\n",
       "      <td>연무</td>\n",
       "      <td>박무\\n연무</td>\n",
       "      <td>연무</td>\n",
       "      <td>박무\\n연무</td>\n",
       "      <td>비</td>\n",
       "      <td>비</td>\n",
       "      <td>햇무리</td>\n",
       "      <td></td>\n",
       "      <td>비\\n연무</td>\n",
       "    </tr>\n",
       "  </tbody>\n",
       "</table>\n",
       "<p>1 rows × 31 columns</p>\n",
       "</div>"
      ],
      "text/plain": [
       "      2020.1 2020.2  2020.3 2020.4 2020.5          2020.6 2020.7       2020.8  \\\n",
       "0  눈\\n박무\\n연무     연무  박무\\n연무     연무     연무  비\\n눈\\n진눈깨비\\n박무  비\\n박무  비\\n진눈깨비\\n박무   \n",
       "\n",
       "   2020.9 2020.10  ... 2020.22 2020.23 2020.24 2020.25 2020.26 2020.27  \\\n",
       "0  박무\\n연무  박무\\n연무  ...              연무  박무\\n연무      연무  박무\\n연무       비   \n",
       "\n",
       "  2020.28 2020.29 2020.30 2020.31  \n",
       "0       비     햇무리           비\\n연무  \n",
       "\n",
       "[1 rows x 31 columns]"
      ]
     },
     "execution_count": 385,
     "metadata": {},
     "output_type": "execute_result"
    }
   ],
   "source": [
    "New = pd.DataFrame(\n",
    "    {'2020.1' : weather_list[0].text,\n",
    "     '2020.2' : weather_list[1].text,\n",
    "    '2020.3' : weather_list[2].text,\n",
    "    '2020.4' : weather_list[3].text,\n",
    "    '2020.5' : weather_list[4].text,\n",
    "    '2020.6' : weather_list[5].text,\n",
    "    '2020.7' : weather_list[6].text,\n",
    "    '2020.8' : weather_list[7].text,\n",
    "    '2020.9' : weather_list[8].text,\n",
    "    '2020.10' : weather_list[9].text,\n",
    "    '2020.11' : weather_list[10].text,\n",
    "    '2020.12' : weather_list[11].text,\n",
    "    '2020.13' : weather_list[12].text,\n",
    "    '2020.14' : weather_list[13].text,\n",
    "    '2020.15' : weather_list[14].text,\n",
    "    '2020.16' : weather_list[15].text,\n",
    "    '2020.17' : weather_list[16].text,\n",
    "    '2020.18' : weather_list[17].text,\n",
    "    '2020.19' : weather_list[18].text,\n",
    "    '2020.20' : weather_list[19].text,\n",
    "    '2020.21' : weather_list[20].text,\n",
    "    '2020.22' : weather_list[21].text,\n",
    "    '2020.23' : weather_list[22].text,\n",
    "    '2020.24' : weather_list[23].text,\n",
    "    '2020.25' : weather_list[24].text,\n",
    "    '2020.26' : weather_list[25].text,\n",
    "    '2020.27' : weather_list[26].text,\n",
    "    '2020.28' : weather_list[27].text,\n",
    "    '2020.29' : weather_list[28].text,\n",
    "    '2020.30' : weather_list[29].text,\n",
    "    '2020.31' : weather_list[30].text \n",
    "    },\n",
    "    index=[0])\n",
    "\n",
    "New"
   ]
  },
  {
   "cell_type": "code",
   "execution_count": 387,
   "id": "c982ad5f-3f23-417b-ba42-87fd4ee264ca",
   "metadata": {},
   "outputs": [
    {
     "data": {
      "text/html": [
       "<div>\n",
       "<style scoped>\n",
       "    .dataframe tbody tr th:only-of-type {\n",
       "        vertical-align: middle;\n",
       "    }\n",
       "\n",
       "    .dataframe tbody tr th {\n",
       "        vertical-align: top;\n",
       "    }\n",
       "\n",
       "    .dataframe thead th {\n",
       "        text-align: right;\n",
       "    }\n",
       "</style>\n",
       "<table border=\"1\" class=\"dataframe\">\n",
       "  <thead>\n",
       "    <tr style=\"text-align: right;\">\n",
       "      <th></th>\n",
       "      <th>시도</th>\n",
       "      <th>사고월</th>\n",
       "      <th>구분</th>\n",
       "      <th>2020</th>\n",
       "      <th>2020.1</th>\n",
       "      <th>2020.2</th>\n",
       "      <th>2020.3</th>\n",
       "      <th>2020.4</th>\n",
       "      <th>2020.5</th>\n",
       "      <th>2020.6</th>\n",
       "      <th>...</th>\n",
       "      <th>2020.22</th>\n",
       "      <th>2020.23</th>\n",
       "      <th>2020.24</th>\n",
       "      <th>2020.25</th>\n",
       "      <th>2020.26</th>\n",
       "      <th>2020.27</th>\n",
       "      <th>2020.28</th>\n",
       "      <th>2020.29</th>\n",
       "      <th>2020.30</th>\n",
       "      <th>2020.31</th>\n",
       "    </tr>\n",
       "  </thead>\n",
       "  <tbody>\n",
       "    <tr>\n",
       "      <th>1</th>\n",
       "      <td>서울</td>\n",
       "      <td>01월</td>\n",
       "      <td>사고건수</td>\n",
       "      <td>2,788</td>\n",
       "      <td>53</td>\n",
       "      <td>95</td>\n",
       "      <td>79</td>\n",
       "      <td>78</td>\n",
       "      <td>68</td>\n",
       "      <td>113</td>\n",
       "      <td>...</td>\n",
       "      <td>125</td>\n",
       "      <td>106</td>\n",
       "      <td>60</td>\n",
       "      <td>66</td>\n",
       "      <td>49</td>\n",
       "      <td>66</td>\n",
       "      <td>78</td>\n",
       "      <td>85</td>\n",
       "      <td>89</td>\n",
       "      <td>93</td>\n",
       "    </tr>\n",
       "    <tr>\n",
       "      <th>0</th>\n",
       "      <td>NaN</td>\n",
       "      <td>NaN</td>\n",
       "      <td>NaN</td>\n",
       "      <td>NaN</td>\n",
       "      <td>눈\\n박무\\n연무</td>\n",
       "      <td>연무</td>\n",
       "      <td>박무\\n연무</td>\n",
       "      <td>연무</td>\n",
       "      <td>연무</td>\n",
       "      <td>비\\n눈\\n진눈깨비\\n박무</td>\n",
       "      <td>...</td>\n",
       "      <td></td>\n",
       "      <td>연무</td>\n",
       "      <td>박무\\n연무</td>\n",
       "      <td>연무</td>\n",
       "      <td>박무\\n연무</td>\n",
       "      <td>비</td>\n",
       "      <td>비</td>\n",
       "      <td>햇무리</td>\n",
       "      <td></td>\n",
       "      <td>비\\n연무</td>\n",
       "    </tr>\n",
       "  </tbody>\n",
       "</table>\n",
       "<p>2 rows × 35 columns</p>\n",
       "</div>"
      ],
      "text/plain": [
       "    시도  사고월    구분   2020     2020.1 2020.2  2020.3 2020.4 2020.5  \\\n",
       "1   서울  01월  사고건수  2,788         53     95      79     78     68   \n",
       "0  NaN  NaN   NaN    NaN  눈\\n박무\\n연무     연무  박무\\n연무     연무     연무   \n",
       "\n",
       "           2020.6  ... 2020.22 2020.23 2020.24 2020.25 2020.26 2020.27  \\\n",
       "1             113  ...     125     106      60      66      49      66   \n",
       "0  비\\n눈\\n진눈깨비\\n박무  ...              연무  박무\\n연무      연무  박무\\n연무       비   \n",
       "\n",
       "  2020.28 2020.29 2020.30 2020.31  \n",
       "1      78      85      89      93  \n",
       "0       비     햇무리           비\\n연무  \n",
       "\n",
       "[2 rows x 35 columns]"
      ]
     },
     "execution_count": 387,
     "metadata": {},
     "output_type": "execute_result"
    }
   ],
   "source": [
    "real = pd.concat([ac[1:2],New])\n",
    "real"
   ]
  },
  {
   "cell_type": "code",
   "execution_count": 388,
   "id": "13f0c928-eb3c-4cde-a364-1d274734c67e",
   "metadata": {},
   "outputs": [
    {
     "name": "stdout",
     "output_type": "stream",
     "text": [
      "    시도  사고월    구분   2020     2020.1 2020.2  2020.3 2020.4 2020.5  \\\n",
      "1   서울  01월  사고건수  2,788         53     95      79     78     68   \n",
      "0  NaN  NaN   NaN    NaN  눈\\n박무\\n연무     연무  박무\\n연무     연무     연무   \n",
      "\n",
      "           2020.6  ... 2020.22 2020.23 2020.24 2020.25 2020.26 2020.27  \\\n",
      "1             113  ...     125     106      60      66      49      66   \n",
      "0  비\\n눈\\n진눈깨비\\n박무  ...              연무  박무\\n연무      연무  박무\\n연무       비   \n",
      "\n",
      "  2020.28 2020.29 2020.30 2020.31  \n",
      "1      78      85      89      93  \n",
      "0       비     햇무리           비\\n연무  \n",
      "\n",
      "[2 rows x 35 columns]\n"
     ]
    }
   ],
   "source": [
    "print(real)"
   ]
  },
  {
   "cell_type": "code",
   "execution_count": 389,
   "id": "ba4cee43-d0db-40d7-982e-898e6a8cdf94",
   "metadata": {},
   "outputs": [],
   "source": [
    "real.to_csv('real.csv')"
   ]
  },
  {
   "cell_type": "code",
   "execution_count": null,
   "id": "de1f1a14-f591-4b3c-a3ae-68a4055ddec3",
   "metadata": {},
   "outputs": [],
   "source": [
    "from selenium import webdriver\n",
    "from selenium.webdriver.common.keys import Keys\n",
    "from time import sleep\n",
    "\n",
    "driver = webdriver.Chrome('driver/chromedriver')\n",
    "\n",
    "\n",
    "driver.get('https://www.weather.go.kr/w/obs-climate/land/past-obs/obs-by-day.do?stn=108&yy=2020&mm=1&obs=9')\n",
    "weather_list = list()\n",
    "if \n",
    "for i in range (1,8) : # for 문을 활용해서 데이터 정리를 해보자..\n",
    "    weather_list.extend(driver.find_elements_by_xpath('/html/body/div[2]/section/div/div[2]/div[2]/div[3]/div/table/tbody/tr[2]/td[{0}]'.format(i)))"
   ]
  },
  {
   "cell_type": "code",
   "execution_count": null,
   "id": "84f872a8-1514-421d-b875-b33acb6db4cc",
   "metadata": {},
   "outputs": [],
   "source": [
    "/html/body/div[2]/section/div/div[2]/div[2]/div[3]/div/table/tbody/tr[2]/td[{0}]'.format(i)"
   ]
  },
  {
   "cell_type": "code",
   "execution_count": 380,
   "id": "358defc9-bcef-463c-a7c9-eb99abded2c5",
   "metadata": {},
   "outputs": [],
   "source": [
    "for i in weather_list :\n",
    "    print(i.text)"
   ]
  },
  {
   "cell_type": "code",
   "execution_count": 392,
   "id": "f379ab67-bb8c-454c-84c8-d503a1235177",
   "metadata": {},
   "outputs": [
    {
     "data": {
      "text/html": [
       "<div>\n",
       "<style scoped>\n",
       "    .dataframe tbody tr th:only-of-type {\n",
       "        vertical-align: middle;\n",
       "    }\n",
       "\n",
       "    .dataframe tbody tr th {\n",
       "        vertical-align: top;\n",
       "    }\n",
       "\n",
       "    .dataframe thead th {\n",
       "        text-align: right;\n",
       "    }\n",
       "</style>\n",
       "<table border=\"1\" class=\"dataframe\">\n",
       "  <thead>\n",
       "    <tr style=\"text-align: right;\">\n",
       "      <th></th>\n",
       "      <th>시도</th>\n",
       "      <th>사고월</th>\n",
       "      <th>구분</th>\n",
       "      <th>2020</th>\n",
       "      <th>2020.1</th>\n",
       "      <th>2020.2</th>\n",
       "      <th>2020.3</th>\n",
       "      <th>2020.4</th>\n",
       "      <th>2020.5</th>\n",
       "      <th>2020.6</th>\n",
       "      <th>...</th>\n",
       "      <th>2020.22</th>\n",
       "      <th>2020.23</th>\n",
       "      <th>2020.24</th>\n",
       "      <th>2020.25</th>\n",
       "      <th>2020.26</th>\n",
       "      <th>2020.27</th>\n",
       "      <th>2020.28</th>\n",
       "      <th>2020.29</th>\n",
       "      <th>2020.30</th>\n",
       "      <th>2020.31</th>\n",
       "    </tr>\n",
       "  </thead>\n",
       "  <tbody>\n",
       "    <tr>\n",
       "      <th>10</th>\n",
       "      <td>서울</td>\n",
       "      <td>04월</td>\n",
       "      <td>사고건수</td>\n",
       "      <td>2,724</td>\n",
       "      <td>81</td>\n",
       "      <td>105</td>\n",
       "      <td>98</td>\n",
       "      <td>80</td>\n",
       "      <td>65</td>\n",
       "      <td>94</td>\n",
       "      <td>...</td>\n",
       "      <td>93</td>\n",
       "      <td>102</td>\n",
       "      <td>110</td>\n",
       "      <td>109</td>\n",
       "      <td>74</td>\n",
       "      <td>112</td>\n",
       "      <td>102</td>\n",
       "      <td>122</td>\n",
       "      <td>76</td>\n",
       "      <td>-</td>\n",
       "    </tr>\n",
       "  </tbody>\n",
       "</table>\n",
       "<p>1 rows × 35 columns</p>\n",
       "</div>"
      ],
      "text/plain": [
       "    시도  사고월    구분   2020 2020.1 2020.2 2020.3 2020.4 2020.5 2020.6  ...  \\\n",
       "10  서울  04월  사고건수  2,724     81    105     98     80     65     94  ...   \n",
       "\n",
       "   2020.22 2020.23 2020.24 2020.25 2020.26 2020.27 2020.28 2020.29 2020.30  \\\n",
       "10      93     102     110     109      74     112     102     122      76   \n",
       "\n",
       "   2020.31  \n",
       "10       -  \n",
       "\n",
       "[1 rows x 35 columns]"
      ]
     },
     "execution_count": 392,
     "metadata": {},
     "output_type": "execute_result"
    }
   ],
   "source": [
    "ac[10:11]"
   ]
  },
  {
   "cell_type": "code",
   "execution_count": null,
   "id": "c8f0d9d7-ff72-4d81-a676-2aa1f4e1dd97",
   "metadata": {},
   "outputs": [],
   "source": []
  }
 ],
 "metadata": {
  "kernelspec": {
   "display_name": "Python 3 (ipykernel)",
   "language": "python",
   "name": "python3"
  },
  "language_info": {
   "codemirror_mode": {
    "name": "ipython",
    "version": 3
   },
   "file_extension": ".py",
   "mimetype": "text/x-python",
   "name": "python",
   "nbconvert_exporter": "python",
   "pygments_lexer": "ipython3",
   "version": "3.9.7"
  }
 },
 "nbformat": 4,
 "nbformat_minor": 5
}
