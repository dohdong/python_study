{
 "cells": [
  {
   "cell_type": "code",
   "execution_count": 17,
   "id": "ea62f983-731e-4aed-ae30-94dd557c00af",
   "metadata": {},
   "outputs": [],
   "source": [
    "import pandas as pd\n",
    "\n",
    "a= pd.read_csv('accident.csv')"
   ]
  },
  {
   "cell_type": "code",
   "execution_count": 18,
   "id": "f2d25a0d-507d-4fb1-a1c8-0f273881aa29",
   "metadata": {},
   "outputs": [
    {
     "name": "stdout",
     "output_type": "stream",
     "text": [
      "               발생일  발생시간 발생지_시도 발생지_시군구 법정동명  사고건수  사망자수  중상자수  경상자수  부상신고자수\n",
      "0       2017-01-01     0     서울     강북구  미아동     1     0     1     6       0\n",
      "1       2017-01-01     0     서울     노원구  상계동     1     0     0     1       0\n",
      "2       2017-01-01     0     서울     동작구  상도동     1     0     0     1       0\n",
      "3       2017-01-01     0     서울     서초구  서초동     1     0     0     1       0\n",
      "4       2017-01-01     0     서울     송파구  잠실동     1     0     0     1       0\n",
      "...            ...   ...    ...     ...  ...   ...   ...   ...   ...     ...\n",
      "114438  2019-12-31    22     서울     송파구  송파동     1     0     0     1       0\n",
      "114439  2019-12-31    22     서울    영등포구  대림동     1     0     0     1       0\n",
      "114440  2019-12-31    22     서울     중랑구  면목동     1     0     0     0       1\n",
      "114441  2019-12-31    23     서울     강남구  수서동     1     0     0     1       0\n",
      "114442  2019-12-31    23     서울     강남구  역삼동     1     0     0     0       2\n",
      "\n",
      "[114443 rows x 10 columns]\n"
     ]
    }
   ],
   "source": [
    "print(a)"
   ]
  },
  {
   "cell_type": "code",
   "execution_count": 33,
   "id": "4d7b6e6d-d324-4e8f-9af6-121b9cfa1c2e",
   "metadata": {},
   "outputs": [
    {
     "name": "stderr",
     "output_type": "stream",
     "text": [
      "C:\\Users\\BIT\\AppData\\Local\\Temp/ipykernel_13112/1921754010.py:5: DeprecationWarning: executable_path has been deprecated, please pass in a Service object\n",
      "  driver = webdriver.Chrome('driver/chromedriver')\n"
     ]
    },
    {
     "name": "stdout",
     "output_type": "stream",
     "text": [
      "[<selenium.webdriver.remote.webelement.WebElement (session=\"56af97ca7e2db2d1527670ad24b28d8d\", element=\"315032cc-b245-47ca-b709-4a607d5bc0c9\")>]\n"
     ]
    },
    {
     "name": "stderr",
     "output_type": "stream",
     "text": [
      "C:\\Users\\BIT\\AppData\\Local\\Temp/ipykernel_13112/1921754010.py:11: DeprecationWarning: find_elements_by_* commands are deprecated. Please use find_elements() instead\n",
      "  weather = driver.find_elements_by_css_selector('body > div.container > section > div > div.cont-wrap > div.cmp-past-obs > div:nth-child(3) > div > table')\n"
     ]
    }
   ],
   "source": [
    "from selenium import webdriver\n",
    "from selenium.webdriver.common.keys import Keys\n",
    "from time import sleep\n",
    "\n",
    "driver = webdriver.Chrome('driver/chromedriver')\n",
    "# driver.implicitly_wait(3)\n",
    "\n",
    "driver.get('https://www.weather.go.kr/w/obs-climate/land/past-obs/obs-by-day.do?stn=108&yy=2017&mm=1&obs=9')\n",
    "# driver.implicitly_wait(1)\n",
    "\n",
    "weather = driver.find_elements_by_css_selector('body > div.container > section > div > div.cont-wrap > div.cmp-past-obs > div:nth-child(3) > div > table')\n",
    "print(weather)\n",
    "\n"
   ]
  },
  {
   "cell_type": "code",
   "execution_count": 36,
   "id": "3c093b92-f532-4b7f-8bcd-b44436dd1cdd",
   "metadata": {},
   "outputs": [
    {
     "name": "stdout",
     "output_type": "stream",
     "text": [
      "일요일 월요일 화요일 수요일 목요일 금요일 토요일\n",
      "1일 2일 3일 4일 5일 6일 7일\n",
      "박무\n",
      "연무 비\n",
      "박무\n",
      "연무 박무\n",
      "연무 박무\n",
      "연무 박무\n",
      "연무\n",
      "8일 9일 10일 11일 12일 13일 14일\n",
      "비\n",
      "박무\n",
      "연무 비\n",
      "박무\n",
      "연무 연무 눈 눈\n",
      "15일 16일 17일 18일 19일 20일 21일\n",
      "연무 눈\n",
      "연무 박무\n",
      "연무 눈\n",
      "박무\n",
      "연무 눈\n",
      "박무\n",
      "연무\n",
      "22일 23일 24일 25일 26일 27일 28일\n",
      "눈\n",
      "연무 연무 연무 비\n",
      "박무\n",
      "연무 비\n",
      "박무\n",
      "황사\n",
      "29일 30일 31일        \n",
      "눈\n",
      "진눈깨비\n",
      "박무 눈\n",
      "박무        \n"
     ]
    }
   ],
   "source": [
    "for i in weather :\n",
    "    print(i.text)"
   ]
  },
  {
   "cell_type": "code",
   "execution_count": 18,
   "id": "622c19bf-6552-4242-b7ce-6faddf30345f",
   "metadata": {},
   "outputs": [
    {
     "name": "stderr",
     "output_type": "stream",
     "text": [
      "C:\\Users\\BIT\\AppData\\Local\\Temp/ipykernel_13112/3896248825.py:3: DeprecationWarning: executable_path has been deprecated, please pass in a Service object\n",
      "  driver = webdriver.Chrome('driver/chromedriver')\n"
     ]
    },
    {
     "name": "stdout",
     "output_type": "stream",
     "text": [
      "[<selenium.webdriver.remote.webelement.WebElement (session=\"c672ddd4e525d733484ab968b08bf795\", element=\"b5b43c8e-232a-47e3-8dea-3f7c0bf0afe1\")>]\n"
     ]
    },
    {
     "name": "stderr",
     "output_type": "stream",
     "text": [
      "C:\\Users\\BIT\\AppData\\Local\\Temp/ipykernel_13112/3896248825.py:6: DeprecationWarning: find_elements_by_* commands are deprecated. Please use find_elements() instead\n",
      "  weather = driver.find_elements_by_css_selector('body')\n"
     ]
    }
   ],
   "source": [
    "from selenium import webdriver\n",
    "\n",
    "driver = webdriver.Chrome('driver/chromedriver')\n",
    "\n",
    "driver.get('https://www.weather.go.kr/plus/land/current/aws_table_popup.jsp')\n",
    "weather = driver.find_elements_by_css_selector('body')\n",
    "print(weather)"
   ]
  },
  {
   "cell_type": "code",
   "execution_count": 19,
   "id": "dc50786f-83ac-4218-a078-69d3de1977ee",
   "metadata": {},
   "outputs": [
    {
     "name": "stdout",
     "output_type": "stream",
     "text": [
      "[<selenium.webdriver.remote.webelement.WebElement (session=\"c672ddd4e525d733484ab968b08bf795\", element=\"b5b43c8e-232a-47e3-8dea-3f7c0bf0afe1\")>]\n"
     ]
    }
   ],
   "source": [
    "print(weather)"
   ]
  },
  {
   "cell_type": "code",
   "execution_count": 20,
   "id": "8533ead6-a48d-4082-864f-5645c9e6aa8d",
   "metadata": {},
   "outputs": [
    {
     "name": "stdout",
     "output_type": "stream",
     "text": [
      "지역별상세관측자료(AWS)\n",
      " \n"
     ]
    }
   ],
   "source": [
    "for i in weather :\n",
    "    print(i.text)"
   ]
  },
  {
   "cell_type": "code",
   "execution_count": 38,
   "id": "6c29ea44-3a7b-46f3-9999-eee28e60cb5a",
   "metadata": {},
   "outputs": [],
   "source": [
    "# 위의 사이트는 포기."
   ]
  },
  {
   "cell_type": "code",
   "execution_count": null,
   "id": "9f2c998e-7ba9-40a6-83cd-02de1510f050",
   "metadata": {},
   "outputs": [],
   "source": []
  }
 ],
 "metadata": {
  "kernelspec": {
   "display_name": "Python 3 (ipykernel)",
   "language": "python",
   "name": "python3"
  },
  "language_info": {
   "codemirror_mode": {
    "name": "ipython",
    "version": 3
   },
   "file_extension": ".py",
   "mimetype": "text/x-python",
   "name": "python",
   "nbconvert_exporter": "python",
   "pygments_lexer": "ipython3",
   "version": "3.9.7"
  }
 },
 "nbformat": 4,
 "nbformat_minor": 5
}
