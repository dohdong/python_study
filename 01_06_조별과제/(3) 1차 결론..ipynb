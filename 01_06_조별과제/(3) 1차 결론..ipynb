{
 "cells": [
  {
   "cell_type": "code",
   "execution_count": 104,
   "id": "7deb485d-1f42-4bbf-9070-0b45df978f72",
   "metadata": {
    "tags": []
   },
   "outputs": [
    {
     "data": {
      "text/html": [
       "<div>\n",
       "<style scoped>\n",
       "    .dataframe tbody tr th:only-of-type {\n",
       "        vertical-align: middle;\n",
       "    }\n",
       "\n",
       "    .dataframe tbody tr th {\n",
       "        vertical-align: top;\n",
       "    }\n",
       "\n",
       "    .dataframe thead th {\n",
       "        text-align: right;\n",
       "    }\n",
       "</style>\n",
       "<table border=\"1\" class=\"dataframe\">\n",
       "  <thead>\n",
       "    <tr style=\"text-align: right;\">\n",
       "      <th></th>\n",
       "      <th>날짜</th>\n",
       "      <th>월</th>\n",
       "      <th>사고수</th>\n",
       "      <th>날씨</th>\n",
       "    </tr>\n",
       "  </thead>\n",
       "  <tbody>\n",
       "    <tr>\n",
       "      <th>0</th>\n",
       "      <td>1</td>\n",
       "      <td>1</td>\n",
       "      <td>53</td>\n",
       "      <td>눈\\n박무\\n연무</td>\n",
       "    </tr>\n",
       "    <tr>\n",
       "      <th>1</th>\n",
       "      <td>2</td>\n",
       "      <td>1</td>\n",
       "      <td>95</td>\n",
       "      <td>연무</td>\n",
       "    </tr>\n",
       "    <tr>\n",
       "      <th>2</th>\n",
       "      <td>3</td>\n",
       "      <td>1</td>\n",
       "      <td>79</td>\n",
       "      <td>박무\\n연무</td>\n",
       "    </tr>\n",
       "    <tr>\n",
       "      <th>3</th>\n",
       "      <td>4</td>\n",
       "      <td>1</td>\n",
       "      <td>78</td>\n",
       "      <td>연무</td>\n",
       "    </tr>\n",
       "    <tr>\n",
       "      <th>4</th>\n",
       "      <td>5</td>\n",
       "      <td>1</td>\n",
       "      <td>68</td>\n",
       "      <td>연무</td>\n",
       "    </tr>\n",
       "    <tr>\n",
       "      <th>...</th>\n",
       "      <td>...</td>\n",
       "      <td>...</td>\n",
       "      <td>...</td>\n",
       "      <td>...</td>\n",
       "    </tr>\n",
       "    <tr>\n",
       "      <th>361</th>\n",
       "      <td>27</td>\n",
       "      <td>12</td>\n",
       "      <td>40</td>\n",
       "      <td>비\\n연무</td>\n",
       "    </tr>\n",
       "    <tr>\n",
       "      <th>362</th>\n",
       "      <td>28</td>\n",
       "      <td>12</td>\n",
       "      <td>81</td>\n",
       "      <td>비\\n박무\\n연무</td>\n",
       "    </tr>\n",
       "    <tr>\n",
       "      <th>363</th>\n",
       "      <td>29</td>\n",
       "      <td>12</td>\n",
       "      <td>71</td>\n",
       "      <td>눈\\n박무\\n연무</td>\n",
       "    </tr>\n",
       "    <tr>\n",
       "      <th>364</th>\n",
       "      <td>30</td>\n",
       "      <td>12</td>\n",
       "      <td>89</td>\n",
       "      <td>NaN</td>\n",
       "    </tr>\n",
       "    <tr>\n",
       "      <th>365</th>\n",
       "      <td>31</td>\n",
       "      <td>12</td>\n",
       "      <td>98</td>\n",
       "      <td>눈</td>\n",
       "    </tr>\n",
       "  </tbody>\n",
       "</table>\n",
       "<p>366 rows × 4 columns</p>\n",
       "</div>"
      ],
      "text/plain": [
       "     날짜   월  사고수         날씨\n",
       "0     1   1   53  눈\\n박무\\n연무\n",
       "1     2   1   95         연무\n",
       "2     3   1   79     박무\\n연무\n",
       "3     4   1   78         연무\n",
       "4     5   1   68         연무\n",
       "..   ..  ..  ...        ...\n",
       "361  27  12   40      비\\n연무\n",
       "362  28  12   81  비\\n박무\\n연무\n",
       "363  29  12   71  눈\\n박무\\n연무\n",
       "364  30  12   89        NaN\n",
       "365  31  12   98          눈\n",
       "\n",
       "[366 rows x 4 columns]"
      ]
     },
     "execution_count": 104,
     "metadata": {},
     "output_type": "execute_result"
    }
   ],
   "source": [
    "import pandas as pd\n",
    "\n",
    "rA= pd.read_csv('realAll.csv')\n",
    "\n",
    "rA"
   ]
  },
  {
   "cell_type": "code",
   "execution_count": 105,
   "id": "a0294d65-6baa-46e3-8388-7bade3237861",
   "metadata": {},
   "outputs": [],
   "source": [
    "rA.to_csv('realAll.csv',index=False) #index = False를 해줘야 값만 보내짐."
   ]
  },
  {
   "cell_type": "code",
   "execution_count": 84,
   "id": "be892235-ce75-4197-b077-f5d8e863ae45",
   "metadata": {},
   "outputs": [
    {
     "data": {
      "text/plain": [
       "날짜       0\n",
       "월        0\n",
       "사고수      0\n",
       "날씨     108\n",
       "dtype: int64"
      ]
     },
     "execution_count": 84,
     "metadata": {},
     "output_type": "execute_result"
    }
   ],
   "source": [
    "rA.isnull().sum()"
   ]
  },
  {
   "cell_type": "code",
   "execution_count": 85,
   "id": "9497e5ee-527c-4142-abbe-e35a78bc3fce",
   "metadata": {},
   "outputs": [
    {
     "data": {
      "text/plain": [
       "날짜     366\n",
       "월      366\n",
       "사고수    366\n",
       "날씨     258\n",
       "dtype: int64"
      ]
     },
     "execution_count": 85,
     "metadata": {},
     "output_type": "execute_result"
    }
   ],
   "source": [
    "rA.notnull().sum()"
   ]
  },
  {
   "cell_type": "code",
   "execution_count": null,
   "id": "efd51692-c5b6-4dce-a30c-9d431c0afbe6",
   "metadata": {},
   "outputs": [],
   "source": [
    "# 결측치로 다 제거하고, 사건 수를 더하고...\n",
    "# 결측치로 T,F 로 바꾸고 T를 다 지우고 더해서 \n",
    "# 날씨가 있는 날의 수, 날씨가 없는 날의 수.\n",
    "# 사건의 총 합, 있는날 vs 없는 날.\n",
    "# 날씨 없이 맑은 날 그 사건 / 전체 사건\n",
    "# 날씨 있는 날 이 사건 / 전체 사건.\n",
    "# 그니까 날씨 있는 날 사고가 일어날 확률이 조금은 더 높다. => 아님. ㅠ\n",
    "\n",
    "## 월별 비교? \n",
    "## 2017,2018,2019 를 가져와서 각 년도별 월별 비교? \n",
    "## 그를 통한 1월 (13일날) 날씨가 있or없을 것으로 예상될때 사고 발생 가능성은? \n",
    "## "
   ]
  },
  {
   "cell_type": "code",
   "execution_count": 13,
   "id": "df1f7de1-3546-41b3-bdd8-e92eec6f4ad5",
   "metadata": {},
   "outputs": [],
   "source": [
    "# 비 = 1, 우박 =2, 박무= 3 , 연무 = 4 , 눈 =5 등등이렇게 바꿀수도 있겠네."
   ]
  },
  {
   "cell_type": "code",
   "execution_count": 87,
   "id": "98445ac2-8865-4b2b-b8fa-ec1e446ec5ae",
   "metadata": {},
   "outputs": [
    {
     "data": {
      "text/html": [
       "<div>\n",
       "<style scoped>\n",
       "    .dataframe tbody tr th:only-of-type {\n",
       "        vertical-align: middle;\n",
       "    }\n",
       "\n",
       "    .dataframe tbody tr th {\n",
       "        vertical-align: top;\n",
       "    }\n",
       "\n",
       "    .dataframe thead th {\n",
       "        text-align: right;\n",
       "    }\n",
       "</style>\n",
       "<table border=\"1\" class=\"dataframe\">\n",
       "  <thead>\n",
       "    <tr style=\"text-align: right;\">\n",
       "      <th></th>\n",
       "      <th>날짜</th>\n",
       "      <th>월</th>\n",
       "      <th>사고수</th>\n",
       "      <th>날씨</th>\n",
       "    </tr>\n",
       "  </thead>\n",
       "  <tbody>\n",
       "    <tr>\n",
       "      <th>0</th>\n",
       "      <td>1</td>\n",
       "      <td>1</td>\n",
       "      <td>53</td>\n",
       "      <td>눈\\n박무\\n연무</td>\n",
       "    </tr>\n",
       "    <tr>\n",
       "      <th>1</th>\n",
       "      <td>2</td>\n",
       "      <td>1</td>\n",
       "      <td>95</td>\n",
       "      <td>연무</td>\n",
       "    </tr>\n",
       "    <tr>\n",
       "      <th>2</th>\n",
       "      <td>3</td>\n",
       "      <td>1</td>\n",
       "      <td>79</td>\n",
       "      <td>박무\\n연무</td>\n",
       "    </tr>\n",
       "    <tr>\n",
       "      <th>3</th>\n",
       "      <td>4</td>\n",
       "      <td>1</td>\n",
       "      <td>78</td>\n",
       "      <td>연무</td>\n",
       "    </tr>\n",
       "    <tr>\n",
       "      <th>4</th>\n",
       "      <td>5</td>\n",
       "      <td>1</td>\n",
       "      <td>68</td>\n",
       "      <td>연무</td>\n",
       "    </tr>\n",
       "    <tr>\n",
       "      <th>...</th>\n",
       "      <td>...</td>\n",
       "      <td>...</td>\n",
       "      <td>...</td>\n",
       "      <td>...</td>\n",
       "    </tr>\n",
       "    <tr>\n",
       "      <th>361</th>\n",
       "      <td>27</td>\n",
       "      <td>12</td>\n",
       "      <td>40</td>\n",
       "      <td>비\\n연무</td>\n",
       "    </tr>\n",
       "    <tr>\n",
       "      <th>362</th>\n",
       "      <td>28</td>\n",
       "      <td>12</td>\n",
       "      <td>81</td>\n",
       "      <td>비\\n박무\\n연무</td>\n",
       "    </tr>\n",
       "    <tr>\n",
       "      <th>363</th>\n",
       "      <td>29</td>\n",
       "      <td>12</td>\n",
       "      <td>71</td>\n",
       "      <td>눈\\n박무\\n연무</td>\n",
       "    </tr>\n",
       "    <tr>\n",
       "      <th>364</th>\n",
       "      <td>30</td>\n",
       "      <td>12</td>\n",
       "      <td>89</td>\n",
       "      <td>NaN</td>\n",
       "    </tr>\n",
       "    <tr>\n",
       "      <th>365</th>\n",
       "      <td>31</td>\n",
       "      <td>12</td>\n",
       "      <td>98</td>\n",
       "      <td>눈</td>\n",
       "    </tr>\n",
       "  </tbody>\n",
       "</table>\n",
       "<p>366 rows × 4 columns</p>\n",
       "</div>"
      ],
      "text/plain": [
       "     날짜   월  사고수         날씨\n",
       "0     1   1   53  눈\\n박무\\n연무\n",
       "1     2   1   95         연무\n",
       "2     3   1   79     박무\\n연무\n",
       "3     4   1   78         연무\n",
       "4     5   1   68         연무\n",
       "..   ..  ..  ...        ...\n",
       "361  27  12   40      비\\n연무\n",
       "362  28  12   81  비\\n박무\\n연무\n",
       "363  29  12   71  눈\\n박무\\n연무\n",
       "364  30  12   89        NaN\n",
       "365  31  12   98          눈\n",
       "\n",
       "[366 rows x 4 columns]"
      ]
     },
     "execution_count": 87,
     "metadata": {},
     "output_type": "execute_result"
    }
   ],
   "source": [
    "rA"
   ]
  },
  {
   "cell_type": "code",
   "execution_count": 92,
   "id": "0007e0b4-d8c4-4e2c-af35-3448ae8a1c5e",
   "metadata": {},
   "outputs": [
    {
     "data": {
      "text/plain": [
       "0      53\n",
       "1      95\n",
       "2      79\n",
       "3      78\n",
       "4      68\n",
       "       ..\n",
       "361    40\n",
       "362    81\n",
       "363    71\n",
       "364    89\n",
       "365    98\n",
       "Name: 사고수, Length: 366, dtype: int32"
      ]
     },
     "execution_count": 92,
     "metadata": {},
     "output_type": "execute_result"
    }
   ],
   "source": [
    "rA['사고수'].astype(int)"
   ]
  },
  {
   "cell_type": "code",
   "execution_count": 93,
   "id": "7a9d9ed0-749d-41a3-b02e-2b0b5c87dd30",
   "metadata": {},
   "outputs": [
    {
     "name": "stderr",
     "output_type": "stream",
     "text": [
      "C:\\Users\\BIT\\AppData\\Local\\Temp/ipykernel_7796/1531173734.py:1: FutureWarning: Dropping of nuisance columns in DataFrame reductions (with 'numeric_only=None') is deprecated; in a future version this will raise TypeError.  Select only valid columns before calling the reduction.\n",
      "  rA.sum()\n"
     ]
    },
    {
     "data": {
      "text/plain": [
       "날짜      5767\n",
       "월       2384\n",
       "사고수    35227\n",
       "dtype: int64"
      ]
     },
     "execution_count": 93,
     "metadata": {},
     "output_type": "execute_result"
    }
   ],
   "source": [
    "rA.sum()"
   ]
  },
  {
   "cell_type": "code",
   "execution_count": 88,
   "id": "46a0c9e0-6a4d-4e11-adc1-34c6f6ad81ed",
   "metadata": {},
   "outputs": [],
   "source": [
    "rAw = rA.dropna()"
   ]
  },
  {
   "cell_type": "code",
   "execution_count": 91,
   "id": "330308cd-88e5-4229-bb0c-3af3405edd02",
   "metadata": {},
   "outputs": [
    {
     "data": {
      "text/html": [
       "<div>\n",
       "<style scoped>\n",
       "    .dataframe tbody tr th:only-of-type {\n",
       "        vertical-align: middle;\n",
       "    }\n",
       "\n",
       "    .dataframe tbody tr th {\n",
       "        vertical-align: top;\n",
       "    }\n",
       "\n",
       "    .dataframe thead th {\n",
       "        text-align: right;\n",
       "    }\n",
       "</style>\n",
       "<table border=\"1\" class=\"dataframe\">\n",
       "  <thead>\n",
       "    <tr style=\"text-align: right;\">\n",
       "      <th></th>\n",
       "      <th>날짜</th>\n",
       "      <th>월</th>\n",
       "      <th>사고수</th>\n",
       "      <th>날씨</th>\n",
       "    </tr>\n",
       "  </thead>\n",
       "  <tbody>\n",
       "    <tr>\n",
       "      <th>0</th>\n",
       "      <td>1</td>\n",
       "      <td>1</td>\n",
       "      <td>53</td>\n",
       "      <td>눈\\n박무\\n연무</td>\n",
       "    </tr>\n",
       "    <tr>\n",
       "      <th>1</th>\n",
       "      <td>2</td>\n",
       "      <td>1</td>\n",
       "      <td>95</td>\n",
       "      <td>연무</td>\n",
       "    </tr>\n",
       "    <tr>\n",
       "      <th>2</th>\n",
       "      <td>3</td>\n",
       "      <td>1</td>\n",
       "      <td>79</td>\n",
       "      <td>박무\\n연무</td>\n",
       "    </tr>\n",
       "    <tr>\n",
       "      <th>3</th>\n",
       "      <td>4</td>\n",
       "      <td>1</td>\n",
       "      <td>78</td>\n",
       "      <td>연무</td>\n",
       "    </tr>\n",
       "    <tr>\n",
       "      <th>4</th>\n",
       "      <td>5</td>\n",
       "      <td>1</td>\n",
       "      <td>68</td>\n",
       "      <td>연무</td>\n",
       "    </tr>\n",
       "    <tr>\n",
       "      <th>...</th>\n",
       "      <td>...</td>\n",
       "      <td>...</td>\n",
       "      <td>...</td>\n",
       "      <td>...</td>\n",
       "    </tr>\n",
       "    <tr>\n",
       "      <th>358</th>\n",
       "      <td>24</td>\n",
       "      <td>12</td>\n",
       "      <td>95</td>\n",
       "      <td>박무\\n연무</td>\n",
       "    </tr>\n",
       "    <tr>\n",
       "      <th>361</th>\n",
       "      <td>27</td>\n",
       "      <td>12</td>\n",
       "      <td>40</td>\n",
       "      <td>비\\n연무</td>\n",
       "    </tr>\n",
       "    <tr>\n",
       "      <th>362</th>\n",
       "      <td>28</td>\n",
       "      <td>12</td>\n",
       "      <td>81</td>\n",
       "      <td>비\\n박무\\n연무</td>\n",
       "    </tr>\n",
       "    <tr>\n",
       "      <th>363</th>\n",
       "      <td>29</td>\n",
       "      <td>12</td>\n",
       "      <td>71</td>\n",
       "      <td>눈\\n박무\\n연무</td>\n",
       "    </tr>\n",
       "    <tr>\n",
       "      <th>365</th>\n",
       "      <td>31</td>\n",
       "      <td>12</td>\n",
       "      <td>98</td>\n",
       "      <td>눈</td>\n",
       "    </tr>\n",
       "  </tbody>\n",
       "</table>\n",
       "<p>258 rows × 4 columns</p>\n",
       "</div>"
      ],
      "text/plain": [
       "     날짜   월  사고수         날씨\n",
       "0     1   1   53  눈\\n박무\\n연무\n",
       "1     2   1   95         연무\n",
       "2     3   1   79     박무\\n연무\n",
       "3     4   1   78         연무\n",
       "4     5   1   68         연무\n",
       "..   ..  ..  ...        ...\n",
       "358  24  12   95     박무\\n연무\n",
       "361  27  12   40      비\\n연무\n",
       "362  28  12   81  비\\n박무\\n연무\n",
       "363  29  12   71  눈\\n박무\\n연무\n",
       "365  31  12   98          눈\n",
       "\n",
       "[258 rows x 4 columns]"
      ]
     },
     "execution_count": 91,
     "metadata": {},
     "output_type": "execute_result"
    }
   ],
   "source": [
    "rAw"
   ]
  },
  {
   "cell_type": "code",
   "execution_count": 89,
   "id": "44e181b8-7fd4-4918-a37a-04c7d75604b9",
   "metadata": {
    "tags": []
   },
   "outputs": [
    {
     "data": {
      "text/plain": [
       "0      53\n",
       "1      95\n",
       "2      79\n",
       "3      78\n",
       "4      68\n",
       "       ..\n",
       "358    95\n",
       "361    40\n",
       "362    81\n",
       "363    71\n",
       "365    98\n",
       "Name: 사고수, Length: 258, dtype: int32"
      ]
     },
     "execution_count": 89,
     "metadata": {},
     "output_type": "execute_result"
    }
   ],
   "source": [
    "rAw['사고수'].astype(int)"
   ]
  },
  {
   "cell_type": "code",
   "execution_count": 90,
   "id": "c88e4f0a-50cd-4921-823e-4842039e2929",
   "metadata": {},
   "outputs": [
    {
     "data": {
      "text/plain": [
       "날짜                                                  4002\n",
       "월                                                   1547\n",
       "사고수                                                24495\n",
       "날씨     눈\\n박무\\n연무연무박무\\n연무연무연무비\\n눈\\n진눈깨비\\n박무비\\n박무비\\n진눈깨...\n",
       "dtype: object"
      ]
     },
     "execution_count": 90,
     "metadata": {},
     "output_type": "execute_result"
    }
   ],
   "source": [
    "rAw.sum()"
   ]
  },
  {
   "cell_type": "markdown",
   "id": "ce59aae0-f50b-4ca4-8521-2fea0de72df4",
   "metadata": {},
   "source": [
    "전체 = 35227\n",
    "\n",
    "날씨 있는 날 사고수 = 24495\n",
    "날씨 없는 날 사고수 = 10732\n",
    "\n",
    "2020년은 366일. \n",
    "그중 날씨가 있는 날은 258일\n",
    "없는 날은 108 일. \n",
    "\n",
    "사고는 날씨와 크게 상관이 없다..\n",
    "\n",
    "### 오히려 \n",
    "\n",
    "날씨가 없는 날 사고가 1일에 평균 100건에 가깝고, (평균 99.37건)\n",
    "\n",
    "날씨가 있는 날은 94.94 건으로 날씨가 없는 날보다 4건 넘게 적다.\n",
    "\n"
   ]
  },
  {
   "cell_type": "code",
   "execution_count": null,
   "id": "4d662c7a-c73b-480e-a51f-949fcf152275",
   "metadata": {},
   "outputs": [],
   "source": []
  }
 ],
 "metadata": {
  "kernelspec": {
   "display_name": "Python 3 (ipykernel)",
   "language": "python",
   "name": "python3"
  },
  "language_info": {
   "codemirror_mode": {
    "name": "ipython",
    "version": 3
   },
   "file_extension": ".py",
   "mimetype": "text/x-python",
   "name": "python",
   "nbconvert_exporter": "python",
   "pygments_lexer": "ipython3",
   "version": "3.9.7"
  }
 },
 "nbformat": 4,
 "nbformat_minor": 5
}
