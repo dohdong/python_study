{
 "cells": [
  {
   "cell_type": "markdown",
   "id": "d6b41157-4683-48bf-b1df-3593fc73f2ed",
   "metadata": {},
   "source": [
    "### (1) [ ] 문자 클래스\n",
    "* 정규표현식에서 대괄호 [] 는 대괄호 안에 포함된 문자들 중 하나와 매치를 뜻한다.\n",
    "* [] 안의 두 문자에 -를 사용하면 두 문자 사이의 범위를 뜻한다.\n",
    "* [] 안에서 ^는 반대를 뜻한다."
   ]
  },
  {
   "cell_type": "markdown",
   "id": "b527bee0-6dc2-48b7-bf68-ef0d0fc529c2",
   "metadata": {},
   "source": [
    "* 문자 클래스\t설명\n",
    "* \\d\t숫자 [0-9]와 같다.\n",
    "* \\D\t비숫자 [^0-9]와 같다.\n",
    "* \\w\t숫자 + 문자 [a-zA-Z0-9]와 같다.\n",
    "* \\W\t숫자 + 문자가 아닌 것 [^a-zA-Z0-9]와 같다.\n",
    "* \\s\t공백 [ \\t\\n\\r\\f\\v]와 같다.\n",
    "* \\S\t비공백 [^ \\t\\n\\r\\f\\v]와 같다.\n",
    "* \\b\t단어 경계 (`\\w`와 `\\W`의 경계)\n",
    "* \\B\t비단어 경계"
   ]
  },
  {
   "cell_type": "markdown",
   "id": "1c97b5d3-ef59-4322-af41-1596cbefdf9f",
   "metadata": {},
   "source": [
    "```\n",
    "[abc] # abc 중 하나와 매치\n",
    "---\n",
    "'a' # a와 매치\n",
    "'boy' # b와 매치\n",
    "'dye' # a, b, c 중 어느 문자와도 매치되지 않음\n",
    "\n",
    "[a-c] # [abc]와 같음\n",
    "[0-5] # [012345]와 같음\n",
    "[a-zA-Z] # 모든 알파\n",
    "[0-9] # 숫자\n",
    "\n",
    "[^0-9] # 숫자를 제외한 문자만 매치\n",
    "[^abc] # a, b, c를 제외한 모든 문자와 매치\n",
    "```"
   ]
  },
  {
   "cell_type": "code",
   "execution_count": 2,
   "id": "c00b6fe0-1507-4d9b-b506-ea957e84ccfc",
   "metadata": {},
   "outputs": [
    {
     "name": "stdout",
     "output_type": "stream",
     "text": [
      "<class 're.Pattern'>\n",
      "<re.Match object; span=(0, 1), match='a'>\n",
      "<re.Match object; span=(0, 1), match='b'>\n",
      "<re.Match object; span=(0, 1), match='a'>\n"
     ]
    }
   ],
   "source": [
    "import re   #컴파일 할떄 re 써야함.(내가 정해주는건가?)\n",
    "\n",
    "p = re.compile('[abc]')\n",
    "print(type(p))\n",
    "print(p.match('a'))\n",
    "print(p.match('b'))\n",
    "\n",
    "print(p.match('ac'))"
   ]
  },
  {
   "cell_type": "code",
   "execution_count": 19,
   "id": "7f706eca-a48f-46c4-8c63-414c059318e8",
   "metadata": {},
   "outputs": [
    {
     "data": {
      "text/plain": [
       "<re.Match object; span=(0, 3), match='a\\nb'>"
      ]
     },
     "execution_count": 19,
     "metadata": {},
     "output_type": "execute_result"
    }
   ],
   "source": [
    "import re\n",
    "# 많이 안쓰임.\n",
    "#p = re.compile('a.b')  #이걸로 하면 안나오네 뭐지..\n",
    "p = re.compile('a.b', re.DOTALL)\n",
    "\n",
    "p.match('a\\nb')"
   ]
  },
  {
   "cell_type": "code",
   "execution_count": 40,
   "id": "3487dce1-b6c8-42bb-abc6-900ed6e78f7c",
   "metadata": {},
   "outputs": [
    {
     "name": "stdout",
     "output_type": "stream",
     "text": [
      "['p', 'y', 't', 'h', 'o', 'n']\n",
      "<re.Match object; span=(0, 1), match='P'>\n",
      "<re.Match object; span=(0, 1), match='P'>\n"
     ]
    }
   ],
   "source": [
    "import re\n",
    "\n",
    "#p = re.compile('[a-z]')\n",
    "p = re.compile('[a-z]', re.I)\n",
    "\n",
    "print(p.findall('python'))\n",
    "print(p.match('Python'))\n",
    "print(p.match('PYTHON'))"
   ]
  },
  {
   "cell_type": "markdown",
   "id": "90da1487-9f4b-4520-8c91-c6accf7f5336",
   "metadata": {},
   "source": [
    "### (5) ^ 문자열의 제일 처음과 매치 ★\n",
    "\n",
    "* 문자열이 ^의 뒤에 있는 문자로 시작되면 매치된다. \n",
    "* 여러 줄의 문자열일 경우 첫 줄만 적용된다. (단, re.MULTILINE 옵션이 적용되면 각 줄의 첫 문자를 검사하여 매치된다.)\n",
    "* \\A 는 ^ 와 동일하지만 re.MULTILINE 옵션을 무시하고 항상 문자열 첫 줄의 시작 문자를 검사한다."
   ]
  },
  {
   "cell_type": "code",
   "execution_count": 45,
   "id": "d0129bd3-e31b-4835-8461-6aae65fdd215",
   "metadata": {},
   "outputs": [
    {
     "name": "stdout",
     "output_type": "stream",
     "text": [
      "['python one', 'python two', 'python three']\n",
      "<re.Match object; span=(0, 10), match='python one'>\n"
     ]
    }
   ],
   "source": [
    "import re\n",
    "\n",
    "#p = re.compile(\"^python\\s\\w+\")\n",
    "p = re.compile(\"^python\\s\\w+\", re.MULTILINE) #multiline 과 \\s 등을 확인 가능\n",
    "\n",
    "data = \"\"\"python one\n",
    "life is too short\n",
    "python two\n",
    "you need python hello\n",
    "python three\"\"\"\n",
    "\n",
    "print(p.findall(data))\n",
    "print(p.match(data))"
   ]
  },
  {
   "cell_type": "markdown",
   "id": "bf37776c-aff3-4d4f-85f6-490a1d388705",
   "metadata": {},
   "source": [
    "### (1) match()\n",
    "* 시작부터 일치하는 패턴 찾기\n",
    "* 문자열의 처음 시작부터 검색하여 일치하지 않는 부분이 나올 때까지 찾는다.\n",
    "* 검색의 결과로 re.Match 객체를 리턴한다."
   ]
  },
  {
   "cell_type": "code",
   "execution_count": 47,
   "id": "3f004563-3a9a-4b04-b638-d1c1bb78f335",
   "metadata": {},
   "outputs": [
    {
     "name": "stdout",
     "output_type": "stream",
     "text": [
      "re.compile('[a-z]+')\n"
     ]
    }
   ],
   "source": [
    "import re\n",
    "\n",
    "p = re.compile('[a-z]+') # 영문자 여러개\n",
    "print(p)"
   ]
  },
  {
   "cell_type": "code",
   "execution_count": 66,
   "id": "d5c277d0-5e9f-4617-af1a-cbe55e78201d",
   "metadata": {},
   "outputs": [
    {
     "name": "stdout",
     "output_type": "stream",
     "text": [
      "<re.Match object; span=(0, 5), match='aaaaa'>\n",
      "<re.Match object; span=(0, 9), match='bbbbbbbbb'>\n",
      "None\n",
      "<class 're.Match'>\n"
     ]
    }
   ],
   "source": [
    "print(p.match('aaaaa'))\n",
    "\n",
    "print(p.match('bbbbbbbbb'))\n",
    "\n",
    "print(p.match('1aaaa'))\n",
    "\n",
    "print(type(p.match('aaa1aaa')))"
   ]
  },
  {
   "cell_type": "code",
   "execution_count": 53,
   "id": "acaba2d1-960a-42fc-9f1d-bae5599ae87a",
   "metadata": {},
   "outputs": [
    {
     "name": "stdout",
     "output_type": "stream",
     "text": [
      "<re.Match object; span=(0, 4), match='abab'>\n"
     ]
    }
   ],
   "source": [
    "print(p.match('abab'))"
   ]
  },
  {
   "cell_type": "code",
   "execution_count": 54,
   "id": "fdf25310-88ae-4137-bea7-e7babbb88aae",
   "metadata": {},
   "outputs": [
    {
     "name": "stdout",
     "output_type": "stream",
     "text": [
      "<re.Match object; span=(0, 9), match='wfejiovhn'>\n"
     ]
    }
   ],
   "source": [
    "print(p.match('wfejiovhn3iganov'))"
   ]
  },
  {
   "cell_type": "code",
   "execution_count": 59,
   "id": "70ec0b26-bf96-45ae-a8a2-1dc584fa6b12",
   "metadata": {},
   "outputs": [
    {
     "name": "stdout",
     "output_type": "stream",
     "text": [
      "0\n",
      "7\n"
     ]
    }
   ],
   "source": [
    "x = p.match('asdafds2')\n",
    "print(x.start())\n",
    "print(x.end())"
   ]
  },
  {
   "cell_type": "markdown",
   "id": "16860563-f77c-4fa1-be58-80d705332596",
   "metadata": {},
   "source": [
    "### (2) search\n",
    "* 전체 문자열에서 첫 번째 매치 찾기\n",
    "* 문자열 전체에서 검색하여 ☆처음으로 매치되는 문자열을 찾는다.\n",
    "* 검색의 결과로 re.Match 객체를 리턴한다."
   ]
  },
  {
   "cell_type": "code",
   "execution_count": 70,
   "id": "c723cd98-df47-4dcb-9292-06a167ca3beb",
   "metadata": {},
   "outputs": [
    {
     "name": "stdout",
     "output_type": "stream",
     "text": [
      "re.compile('[a-z]+')\n",
      "<re.Match object; span=(0, 5), match='aaaaa'>\n",
      "<re.Match object; span=(2, 6), match='aaaa'>\n",
      "<re.Match object; span=(0, 2), match='as'>\n",
      "<re.Match object; span=(1, 4), match='bbb'>\n",
      "1\n",
      "5\n"
     ]
    }
   ],
   "source": [
    "import re\n",
    "\n",
    "p = re.compile('[a-z]+') # 영문자 여러개\n",
    "print(p)\n",
    "print(p.search('aaaaa'))\n",
    "\n",
    "print(p.search('11aaaa'))\n",
    "\n",
    "print(p.search('as1abafwea'))\n",
    "\n",
    "print(p.search('1bbb11aaa1'))\n",
    "\n",
    "\n",
    "x = p.search('1bbaf1afs1')\n",
    "print(x.start())\n",
    "print(x.end())"
   ]
  },
  {
   "cell_type": "markdown",
   "id": "deef6f46-e161-497c-b436-0521d34206de",
   "metadata": {},
   "source": [
    "### (3) findall\n",
    "* 모든 매치를 찾아 리스트로 반환\n",
    "* 문자열 내에서 일치하는 모든 패턴을 찾아 리스트로 반환한다."
   ]
  },
  {
   "cell_type": "code",
   "execution_count": 80,
   "id": "655763dc-88e4-4e8f-9cb8-fcd4627316c1",
   "metadata": {},
   "outputs": [
    {
     "name": "stdout",
     "output_type": "stream",
     "text": [
      "['a', 'a', 'a', 'a', 'a']\n",
      "['aa', 'aaa', 'a', 'aa', 'aaa']\n",
      "bb\n",
      "bbbbb\n",
      "bbb\n",
      "b\n"
     ]
    }
   ],
   "source": [
    "print(p.findall('1a1a1a1a1a'))\n",
    "print(p.findall('1aa1aaa1a1aa1aaa'))\n",
    "\n",
    "mylist = p.findall('1bb11bbbbb1bbb1b')   \n",
    "for i in mylist :                         # 문자열로 잘 출력됨을 알 수 있다.\n",
    "    print(i)"
   ]
  },
  {
   "cell_type": "code",
   "execution_count": 81,
   "id": "9f2875d9-1eaa-4799-894b-d02117293759",
   "metadata": {},
   "outputs": [
    {
     "name": "stdout",
     "output_type": "stream",
     "text": [
      "<re.Match object; span=(0, 1), match='a'>\n",
      "<re.Match object; span=(2, 4), match='bb'>\n",
      "<re.Match object; span=(5, 8), match='ccc'>\n"
     ]
    }
   ],
   "source": [
    "iterator = p.finditer('a1bb1ccc')\n",
    "\n",
    "for i in iterator:                   # 반환되는 애가 객체라는 차이점이 있음.\n",
    "    print(i)"
   ]
  },
  {
   "cell_type": "code",
   "execution_count": null,
   "id": "b8fcb3da-761b-43cc-86ac-c9d874dda53a",
   "metadata": {},
   "outputs": [],
   "source": []
  },
  {
   "cell_type": "code",
   "execution_count": 118,
   "id": "51929c4f-878b-467b-be60-52b7d366d2a4",
   "metadata": {},
   "outputs": [
    {
     "name": "stdout",
     "output_type": "stream",
     "text": [
      "['25', '25', '21', '29']\n",
      "['Seongbin', 'Hyeonmin', 'Chaeun', 'Seoul']\n",
      "<class 'list'>\n"
     ]
    }
   ],
   "source": [
    "import re\n",
    "\n",
    "Nameage = '''\n",
    "Seongbin is 25 Hyeonmin is 25\n",
    "Chaeun is 21 Seoul is 29 \n",
    "''' \n",
    "age = re.compile('[0-9]+') # 이 숫자범위로는 어떻게 하지...? 굳. \n",
    "# age = re.compile('\\d{2}')\n",
    "print(age.findall(Nameage))\n",
    "\n",
    "\n",
    "name = re.compile('[A-Z][a-z]*')\n",
    "# name = re.compile('[a-z]+')\n",
    "print(name.findall(Nameage))\n",
    "\n",
    "print(type(name.findall(Nameage)))"
   ]
  },
  {
   "cell_type": "markdown",
   "id": "deec048e-1ea7-4de1-bd45-eb72ee2ae201",
   "metadata": {},
   "source": [
    "이렇게 만든 리스트들을 딕셔너리에 키값은 이름 value 값은 나이로 만들어서 \n",
    "json 으로 만들기...?"
   ]
  },
  {
   "cell_type": "code",
   "execution_count": 150,
   "id": "b61fae44-09c3-4f10-980c-6b39a724a0f6",
   "metadata": {},
   "outputs": [
    {
     "name": "stdout",
     "output_type": "stream",
     "text": [
      "{'Seongbin': '25', 'Hyeonmin': '25', 'Chaeun': '21', 'Seoul': '29'}\n"
     ]
    }
   ],
   "source": [
    "myDict = {}\n",
    "\n",
    "names = name.findall(Nameage)\n",
    "ages = age.findall(Nameage)\n",
    "\n",
    "i = 0\n",
    "for n in names :\n",
    "\n",
    "    myDict[n] = ages[i] # n 으로는 안되서 새로운 i 하나 만들어서 그거 증가시켜서 넣음..\n",
    "    i = i + 1           # 흠.. 지리긴하네... 근데 n 은 증가하는게.. list에서.. 인가..  \n",
    "print(myDict)"
   ]
  },
  {
   "cell_type": "code",
   "execution_count": null,
   "id": "f1b0fcd9-2019-40c2-a8d1-3bf6a364a370",
   "metadata": {},
   "outputs": [],
   "source": []
  },
  {
   "cell_type": "markdown",
   "id": "9c51f4a6-305b-4672-a3db-bd883ba16aff",
   "metadata": {},
   "source": [
    "사이트에 가서, 정보를 전부 긁어다가 전화번호만 뽑아서. phone.txt 파일에\n",
    "전화번호만 저장하는것. \n",
    "requests 쓰고 다 가져다가 전화번호만 뽑아다가 파일에 저장시키기. 흠... ? "
   ]
  },
  {
   "cell_type": "code",
   "execution_count": 175,
   "id": "bd20be03-3909-43c9-8cf5-2d3722961f2a",
   "metadata": {
    "tags": []
   },
   "outputs": [],
   "source": [
    "import requests\n",
    "import json\n",
    "import re\n",
    "response = requests.get( \"http://www.summet.com/dmsi/html/codesamples/addresses.html\")\n",
    "\n",
    "phonebook = response.text\n"
   ]
  },
  {
   "cell_type": "code",
   "execution_count": 264,
   "id": "cd82e74d-1f79-4c02-96ef-69d382b1c442",
   "metadata": {
    "tags": []
   },
   "outputs": [],
   "source": [
    "#print(phonebook)"
   ]
  },
  {
   "cell_type": "code",
   "execution_count": 158,
   "id": "2cb75ffd-7055-42bb-a2bc-eafbb255d785",
   "metadata": {},
   "outputs": [
    {
     "name": "stdout",
     "output_type": "stream",
     "text": [
      "<Response [200]>\n"
     ]
    }
   ],
   "source": [
    "print(response)"
   ]
  },
  {
   "cell_type": "code",
   "execution_count": 173,
   "id": "582196f5-358c-4448-997d-20513969c741",
   "metadata": {},
   "outputs": [],
   "source": [
    "phoneNumber = re.compile('\\(\\d{3}\\)')"
   ]
  },
  {
   "cell_type": "code",
   "execution_count": 265,
   "id": "a33c9998-85fa-4952-9d36-9377b17689ff",
   "metadata": {},
   "outputs": [],
   "source": [
    "#print(phoneNumber.findall(phonebook))"
   ]
  },
  {
   "cell_type": "code",
   "execution_count": 186,
   "id": "78c6c72d-110c-474e-a4f3-bc8ac0e7bc0a",
   "metadata": {},
   "outputs": [],
   "source": [
    "phoneNumber = re.compile('\\(\\d{3}\\) \\d{3}-\\d{4}')"
   ]
  },
  {
   "cell_type": "code",
   "execution_count": 266,
   "id": "12d073b2-70f6-4e3b-b781-c9e92d4d556e",
   "metadata": {},
   "outputs": [],
   "source": [
    "#print(phoneNumber.findall(phonebook))"
   ]
  },
  {
   "cell_type": "code",
   "execution_count": 271,
   "id": "e7488332-6c80-47fc-8384-6d6ed73e5d19",
   "metadata": {},
   "outputs": [],
   "source": [
    "import requests\n",
    "import json\n",
    "import re\n",
    "response = requests.get( \"http://www.summet.com/dmsi/html/codesamples/addresses.html\")\n",
    "phonebook = response.text\n",
    "\n",
    "# 정규식 설정\n",
    "phoneNumber = re.compile('\\(\\d{3}\\) \\d{3}-\\d{4}')\n",
    "\n",
    "f = open(\"phone.txt\",\"w\", encoding=\"utf-8\") \n",
    "p = phoneNumber.findall(phonebook)\n",
    "\n",
    "# f.write(p)          # 그냥 넣으면 리스트 타입은 들어가지지 않으므로\n",
    "                        # 아래와 같이 리스트에서 항목들을 하나 하나 추출해서 \n",
    "                        # 넣어줘야 한다.\n",
    "\n",
    "for i in p :\n",
    "    #print(i)\n",
    "    f.write(i+'\\n')   #넣을때 줄바꿈을 해줘서 출력할때 줄바꿈되어서 나올수있다.\n",
    "\n",
    "f.close()"
   ]
  },
  {
   "cell_type": "code",
   "execution_count": 272,
   "id": "2adae2c0-5624-4f3a-88b7-2202c37d8d73",
   "metadata": {
    "tags": []
   },
   "outputs": [
    {
     "data": {
      "text/plain": [
       "<function TextIOWrapper.close()>"
      ]
     },
     "execution_count": 272,
     "metadata": {},
     "output_type": "execute_result"
    }
   ],
   "source": [
    "f = open(\"phone.txt\",\"r\", encoding=\"utf-8\") \n",
    "#print (  f.read() )   \n",
    "f.close"
   ]
  },
  {
   "cell_type": "code",
   "execution_count": 273,
   "id": "ecb2feca-8a11-44ca-8d0c-2e8aaccbb4d7",
   "metadata": {},
   "outputs": [],
   "source": [
    "import requests\n",
    "import json\n",
    "import re\n",
    "response = requests.get( \"http://www.summet.com/dmsi/html/codesamples/addresses.html\")\n",
    "\n",
    "phonebook1 = response.text\n",
    "phoneName = re.compile('<li>[A-Z][a-z]* [A-Z][a-z]*')\n",
    "\n",
    "f = open(\"name1.txt\",\"w\", encoding=\"utf-8\") \n",
    "p1 = phoneName.findall(phonebook1)\n",
    "\n",
    "for i in p1 :\n",
    "    f.write(i[4:]+'\\n')   \n",
    "f.close()"
   ]
  },
  {
   "cell_type": "code",
   "execution_count": 282,
   "id": "10ea9fc0-67f7-49a8-929b-a02324f08c5e",
   "metadata": {},
   "outputs": [],
   "source": [
    "\n",
    "p1 = phoneName.findall(phonebook1)\n",
    "f = open(\"phoneNew.csv\", \"w\")\n",
    "a = 0\n",
    "for i in p1:\n",
    "    #f.write(i + ',' + number_list[a] + '\\n')\n",
    "    f.write(i + ','+ p[a]+'\\n' )\n",
    "    a = a + 1\n",
    "f.close()"
   ]
  },
  {
   "cell_type": "code",
   "execution_count": null,
   "id": "b013b5fb-9dc5-407c-b53c-5d178eccf498",
   "metadata": {},
   "outputs": [],
   "source": []
  }
 ],
 "metadata": {
  "kernelspec": {
   "display_name": "Python 3 (ipykernel)",
   "language": "python",
   "name": "python3"
  },
  "language_info": {
   "codemirror_mode": {
    "name": "ipython",
    "version": 3
   },
   "file_extension": ".py",
   "mimetype": "text/x-python",
   "name": "python",
   "nbconvert_exporter": "python",
   "pygments_lexer": "ipython3",
   "version": "3.9.7"
  }
 },
 "nbformat": 4,
 "nbformat_minor": 5
}
