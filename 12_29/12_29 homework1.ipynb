{
 "cells": [
  {
   "cell_type": "markdown",
   "id": "519d908e-56ff-4e9a-9699-35dc87f41da8",
   "metadata": {},
   "source": [
    "### 29일 숙제 "
   ]
  },
  {
   "cell_type": "markdown",
   "id": "656a4245-6853-4ff5-b91d-a748daac50e8",
   "metadata": {},
   "source": [
    "1번 문제"
   ]
  },
  {
   "cell_type": "code",
   "execution_count": 5,
   "id": "02c8d023-1b3e-4ca5-af82-a8f200dad700",
   "metadata": {},
   "outputs": [],
   "source": [
    "def print_max (a,b,c) :\n",
    "    \n",
    "    \n",
    "    if a > b and a>c:\n",
    "        x = a\n",
    "    \n",
    "    elif b>a and b>c:\n",
    "        x = b\n",
    "    else :\n",
    "        x = c\n",
    "    print ('가장 큰 수는 %d 이다' %x)\n",
    "    \n",
    "    \n",
    "    "
   ]
  },
  {
   "cell_type": "code",
   "execution_count": 6,
   "id": "ebc1e250-45d6-4e1d-8882-a34f35ff8d85",
   "metadata": {},
   "outputs": [
    {
     "name": "stdin",
     "output_type": "stream",
     "text": [
      "a를 주세요 132\n",
      "b를 주세요 123\n",
      "c를 주세요 6\n"
     ]
    }
   ],
   "source": [
    "a1 = int(input('a를 주세요'))\n",
    "b1 = int(input('b를 주세요'))\n",
    "c1 = int(input('c를 주세요'))"
   ]
  },
  {
   "cell_type": "code",
   "execution_count": 7,
   "id": "d586f630-da7d-4949-b223-c7cc080fcbbd",
   "metadata": {},
   "outputs": [
    {
     "name": "stdout",
     "output_type": "stream",
     "text": [
      "가장 큰 수는 132 이다\n"
     ]
    }
   ],
   "source": [
    "print_max(a1,b1,c1)"
   ]
  },
  {
   "cell_type": "markdown",
   "id": "c7a45347-7d57-4cee-a501-92f0cb6c9b3d",
   "metadata": {},
   "source": [
    "2번 문제"
   ]
  },
  {
   "cell_type": "markdown",
   "id": "f4bc411a-d037-48b4-aeb0-c3eed30c2c05",
   "metadata": {},
   "source": [
    "1 직삼각형 밑변 x 높이 x 0.5\n",
    "2 원의 넓이 파이 x r(반지름) 제곱 \n",
    "3 정사각형 한변 제곱\n",
    "4 직사각형 밑변 x 높이\n",
    "\n",
    "문제가 1. 도형을 선택하시오. 2. 그리고 5개의 함수들을 모두 따로\n",
    "만들어서 계산하기 (직삼각형은 밑변 높이 둘다 제공, 원은 반지름 제공\n",
    "정사각형은 한 변, 직사각형은 가로, 세로 제공 받음.)\n",
    "\n",
    "그래서 1번을 입력하면 가로, 세로 input 받아서 답이 도출됨\n",
    "2는 반지름 하나만 3도 한 변만, 4는 밑변 높이 둘다 제공받아서 계산.\n"
   ]
  },
  {
   "cell_type": "code",
   "execution_count": 1,
   "id": "4cee5ba4-afc3-4ef0-b3cd-ce2ffbb7cf48",
   "metadata": {},
   "outputs": [],
   "source": [
    "def tri (a,b) :\n",
    "    triRe = a * b * 0.5 \n",
    "    print('삼각형 넓이는 %.2f이다' %triRe)\n"
   ]
  },
  {
   "cell_type": "code",
   "execution_count": 4,
   "id": "cb3b333c-41af-410e-b8a0-a3939e658e4e",
   "metadata": {},
   "outputs": [
    {
     "name": "stdin",
     "output_type": "stream",
     "text": [
      "밑변 길이는? 4\n",
      "높이 길이는? 4\n"
     ]
    },
    {
     "name": "stdout",
     "output_type": "stream",
     "text": [
      "삼각형 넓이는 8.00이다\n"
     ]
    }
   ],
   "source": [
    "a1 = int(input('밑변 길이는?'))\n",
    "b1 = int(input('높이 길이는?'))\n",
    "\n",
    "tri(a1,b1)"
   ]
  },
  {
   "cell_type": "code",
   "execution_count": 2,
   "id": "87e0ff38-401e-46d1-90ba-78d51b5f2027",
   "metadata": {},
   "outputs": [],
   "source": [
    "def cir (a) :\n",
    "    cirRe = a * a * 3.14\n",
    "    print('원의 넓이는 %.2f이다.' %cirRe)"
   ]
  },
  {
   "cell_type": "code",
   "execution_count": 7,
   "id": "a7ce17b9-f819-4bfd-8525-5fc688e2c9cf",
   "metadata": {},
   "outputs": [
    {
     "name": "stdin",
     "output_type": "stream",
     "text": [
      "반지름의 길이는? 4\n"
     ]
    },
    {
     "name": "stdout",
     "output_type": "stream",
     "text": [
      "원의 넓이는 50.24이다.\n"
     ]
    }
   ],
   "source": [
    "a2 = int(input('반지름의 길이는?'))\n",
    "\n",
    "cir(a2)"
   ]
  },
  {
   "cell_type": "code",
   "execution_count": 3,
   "id": "93945380-31fe-4d39-9e4b-4d27939fcc17",
   "metadata": {},
   "outputs": [],
   "source": [
    "def squ (a) :\n",
    "    squRe = a * a \n",
    "    print('정사각형의 넓이는 %.2f이다.' %squRe)"
   ]
  },
  {
   "cell_type": "code",
   "execution_count": 21,
   "id": "4354b396-d110-4438-a19c-06cc6ca86eeb",
   "metadata": {},
   "outputs": [
    {
     "name": "stdin",
     "output_type": "stream",
     "text": [
      "정사각형의 한 변의 길이는? 10\n"
     ]
    },
    {
     "name": "stdout",
     "output_type": "stream",
     "text": [
      "정사각형의 넓이는 100.00이다.\n"
     ]
    }
   ],
   "source": [
    "a3 = int(input('정사각형의 한 변의 길이는?'))\n",
    "\n",
    "squ (a3)"
   ]
  },
  {
   "cell_type": "code",
   "execution_count": 4,
   "id": "5fca3bd3-f896-4805-84c0-ace5704b71b8",
   "metadata": {},
   "outputs": [],
   "source": [
    "def rec (a,b) :\n",
    "    recRe = a * b \n",
    "    print('정사각형의 넓이는 %.2f이다.' %recRe)"
   ]
  },
  {
   "cell_type": "code",
   "execution_count": 29,
   "id": "595baa48-0c93-40c5-b5fe-5002f7bc052e",
   "metadata": {},
   "outputs": [
    {
     "name": "stdin",
     "output_type": "stream",
     "text": [
      "직사각형의 밑 변의 길이는? 10\n",
      "직사각형의 높이의 길이는? 5\n"
     ]
    },
    {
     "name": "stdout",
     "output_type": "stream",
     "text": [
      "정사각형의 넓이는 50.00이다.\n"
     ]
    }
   ],
   "source": [
    "a4 = int(input('직사각형의 밑 변의 길이는?'))\n",
    "a5 = int(input('직사각형의 높이의 길이는?'))\n",
    "\n",
    "rec (a4,a5)"
   ]
  },
  {
   "cell_type": "code",
   "execution_count": 5,
   "id": "3cf6deb7-a783-4cb2-9b1c-38617795bd94",
   "metadata": {},
   "outputs": [
    {
     "name": "stdin",
     "output_type": "stream",
     "text": [
      "어느 수식을 실행하시겠어요? 2\n",
      "반지름의 길이는? 10\n"
     ]
    },
    {
     "name": "stdout",
     "output_type": "stream",
     "text": [
      "원의 넓이는 314.00이다.\n"
     ]
    }
   ],
   "source": [
    "question = int(input('어느 수식을 실행하시겠어요?'))\n",
    "\n",
    "if question == 1 :\n",
    "    a1 = int(input('밑변 길이는?'))\n",
    "    b1 = int(input('높이 길이는?'))\n",
    "\n",
    "    tri(a1,b1)\n",
    "\n",
    "elif question == 2 :\n",
    "    a2 = int(input('반지름의 길이는?'))\n",
    "\n",
    "    cir(a2)\n",
    "    \n",
    "elif question == 3 : \n",
    "    a3 = int(input('정사각형의 한 변의 길이는?'))\n",
    "\n",
    "    squ (a3)\n",
    "    \n",
    "elif question == 4 :\n",
    "    a4 = int(input('직사각형의 밑 변의 길이는?'))\n",
    "    a5 = int(input('직사각형의 높이의 길이는?'))\n",
    "\n",
    "    rec (a4,a5)\n",
    "else :\n",
    "    print('1~4번 사이의 번호를 입력해 주세요')\n",
    "    "
   ]
  },
  {
   "cell_type": "code",
   "execution_count": null,
   "id": "c1a6ff9e-d287-4996-8e19-4769234f82cd",
   "metadata": {},
   "outputs": [],
   "source": []
  },
  {
   "cell_type": "code",
   "execution_count": null,
   "id": "5ba6fe11-5e16-491b-bb71-96dcbd93e2bf",
   "metadata": {},
   "outputs": [],
   "source": []
  },
  {
   "cell_type": "markdown",
   "id": "ac7cee7d-03ca-476b-a7d6-60ce274fb87c",
   "metadata": {},
   "source": [
    "3번문제"
   ]
  },
  {
   "cell_type": "code",
   "execution_count": null,
   "id": "b165dd7f-71fa-479f-9ee6-e224d3b1b1e3",
   "metadata": {},
   "outputs": [],
   "source": [
    "대괄호와 함께 출력이 되어야함 [ 10, 4, 6] 과 같이\n",
    "하려면 list.append\n",
    "함수내에서 리스트를 새로 만들어서 .append 해서 출력해야함. 흠... \n",
    "\n",
    "홀수들을 추출하여 홀수만 합 구하는 것. "
   ]
  },
  {
   "cell_type": "code",
   "execution_count": 17,
   "id": "7e84c8ff-487f-4022-906b-d34aa52fa426",
   "metadata": {},
   "outputs": [],
   "source": [
    "\n",
    "\n",
    "def pickup_even (a) :\n",
    "    evenList = list()\n",
    "    for i in a :\n",
    "        \n",
    "        if i % 2 == 0 :\n",
    "            evenList.append(i)\n",
    "    print('받은 수 중 짝수는 %s' %evenList)\n",
    "        \n",
    "    print(type(evenList))\n",
    "\n",
    "\n",
    "\n"
   ]
  },
  {
   "cell_type": "code",
   "execution_count": 18,
   "id": "06df9e0a-8184-4a68-9f53-0aa568cd2a64",
   "metadata": {},
   "outputs": [
    {
     "name": "stdout",
     "output_type": "stream",
     "text": [
      "받은 수 중 짝수는 [2, 4, 6]\n",
      "<class 'list'>\n"
     ]
    }
   ],
   "source": [
    "numList = [ 1,2,3,4,5,6 ]\n",
    "\n",
    "pickup_even(numList)"
   ]
  },
  {
   "cell_type": "code",
   "execution_count": 19,
   "id": "1570d519-6ac2-4f3b-97ba-5f6a8c88d541",
   "metadata": {},
   "outputs": [],
   "source": [
    "\n",
    "\n",
    "def pickup_odd (a) :\n",
    "    add = 0\n",
    "    for n in a :\n",
    "        if n % 2 != 0 :\n",
    "            add = add + n\n",
    "            \n",
    "    print(add)"
   ]
  },
  {
   "cell_type": "code",
   "execution_count": 16,
   "id": "1f2b9b0d-bd0c-4f79-8843-8a35756383cd",
   "metadata": {},
   "outputs": [
    {
     "name": "stdout",
     "output_type": "stream",
     "text": [
      "9\n"
     ]
    }
   ],
   "source": [
    "numList = [ 1,2,3,4,5,6 ]\n",
    "\n",
    "pickup_odd(numList)"
   ]
  },
  {
   "cell_type": "code",
   "execution_count": 20,
   "id": "9dd08138-629d-4e50-8ac1-566cf962d3d4",
   "metadata": {},
   "outputs": [
    {
     "name": "stdin",
     "output_type": "stream",
     "text": [
      "넣을 숫자를 적어주세요 1\n",
      "넣을 숫자를 적어주세요 2\n",
      "넣을 숫자를 적어주세요 3\n"
     ]
    },
    {
     "name": "stdout",
     "output_type": "stream",
     "text": [
      "[1, 2, 3]\n"
     ]
    }
   ],
   "source": [
    "newList11 = list()\n",
    "\n",
    "for i in range(3) :\n",
    "    newList11.append(int(input('넣을 숫자를 적어주세요')))\n",
    "    \n",
    "print(newList11)"
   ]
  },
  {
   "cell_type": "code",
   "execution_count": 24,
   "id": "16bfe785-867a-45f8-9a9c-ac645a2c0330",
   "metadata": {},
   "outputs": [
    {
     "name": "stdout",
     "output_type": "stream",
     "text": [
      "리스트는 [1, 2, 3] 입니다\n"
     ]
    }
   ],
   "source": [
    "print('리스트는 %s 입니다' %newList11)"
   ]
  },
  {
   "cell_type": "code",
   "execution_count": 25,
   "id": "e9182653-a16f-4789-a235-3f4557bd24cb",
   "metadata": {},
   "outputs": [
    {
     "name": "stdout",
     "output_type": "stream",
     "text": [
      "출력은 2입니다\n"
     ]
    }
   ],
   "source": [
    "a = 2\n",
    "print('출력은 %s입니다' %a)"
   ]
  },
  {
   "cell_type": "code",
   "execution_count": 76,
   "id": "103a0838-899c-40af-a6b4-6818e2a88594",
   "metadata": {},
   "outputs": [],
   "source": [
    "\n",
    "def pickup_even (a) :\n",
    "    evenList = list()\n",
    "    for i in a :\n",
    "        \n",
    "            \n",
    "        if i % 2 == 0 :\n",
    "            evenList.append(i)\n",
    "    \n",
    "            \n",
    "    if len(evenList) == 0 :\n",
    "        print('짝수를 받지 못했습니다.')\n",
    "    else :\n",
    "        print('받은 수 중 짝수는 %s' %evenList)\n",
    "\n",
    "        \n",
    "\n"
   ]
  },
  {
   "cell_type": "code",
   "execution_count": 77,
   "id": "7022bb0c-26c6-4b71-a769-2588b8d82f46",
   "metadata": {},
   "outputs": [
    {
     "name": "stdin",
     "output_type": "stream",
     "text": [
      "넣을 숫자를 적어주세요 3\n",
      "넣을 숫자를 적어주세요 5\n",
      "넣을 숫자를 적어주세요 6\n"
     ]
    },
    {
     "name": "stdout",
     "output_type": "stream",
     "text": [
      "[3, 5, 6]\n"
     ]
    }
   ],
   "source": [
    "newList11 = list()\n",
    "\n",
    "for i in range(3) :\n",
    "    newList11.append(int(input('넣을 숫자를 적어주세요')))\n",
    "    \n",
    "print(newList11)"
   ]
  },
  {
   "cell_type": "code",
   "execution_count": 78,
   "id": "6dabc3c0-f560-4342-87b1-0added29cd69",
   "metadata": {},
   "outputs": [
    {
     "name": "stdout",
     "output_type": "stream",
     "text": [
      "받은 수 중 짝수는 [6]\n"
     ]
    }
   ],
   "source": [
    "pickup_even(newList11)"
   ]
  },
  {
   "cell_type": "markdown",
   "id": "6f10361c-e764-4167-a73d-a5be4c260b96",
   "metadata": {},
   "source": [
    "안받았을때만 받지 못했다고 출력... 음.."
   ]
  },
  {
   "cell_type": "code",
   "execution_count": 68,
   "id": "78b9297a-6ef0-46db-8511-ca1720091c34",
   "metadata": {},
   "outputs": [],
   "source": [
    "def pickup_even(m) :\n",
    "    en = []\n",
    "    for c in m :\n",
    "        c % 2 != 1 \n",
    "        print('기재하신 숫자 중 짝수가 존재하지 않습니다.')\n",
    "        \n",
    "    for i in m :    \n",
    "        if i % 2 == 0 : \n",
    "            en.append(i)\n",
    "\n",
    "    print('기재하신 숫자 중 짝수는 %s입니다.'%en)  "
   ]
  },
  {
   "cell_type": "code",
   "execution_count": 69,
   "id": "d4248738-465b-4c6e-b976-242c2ce18459",
   "metadata": {},
   "outputs": [
    {
     "name": "stdin",
     "output_type": "stream",
     "text": [
      "숫자 몇개를 기입하실 예정인가요? 2\n",
      "숫자를 기재해주세요. 3\n",
      "숫자를 기재해주세요. 5\n"
     ]
    },
    {
     "name": "stdout",
     "output_type": "stream",
     "text": [
      "기재하신 숫자 중 짝수가 존재하지 않습니다.\n",
      "기재하신 숫자 중 짝수가 존재하지 않습니다.\n",
      "기재하신 숫자 중 짝수는 []입니다.\n"
     ]
    }
   ],
   "source": [
    "en = [] #list creat\n",
    "y = int(input('숫자 몇개를 기입하실 예정인가요?'))\n",
    "\n",
    "while y > 0 :\n",
    "    z = int(input('숫자를 기재해주세요.'))\n",
    "    en.append(z)\n",
    "    y -= 1\n",
    "pickup_even(en)"
   ]
  },
  {
   "cell_type": "code",
   "execution_count": null,
   "id": "b09ebc22-88e5-437d-b736-69efd6934554",
   "metadata": {},
   "outputs": [],
   "source": []
  }
 ],
 "metadata": {
  "kernelspec": {
   "display_name": "Python 3 (ipykernel)",
   "language": "python",
   "name": "python3"
  },
  "language_info": {
   "codemirror_mode": {
    "name": "ipython",
    "version": 3
   },
   "file_extension": ".py",
   "mimetype": "text/x-python",
   "name": "python",
   "nbconvert_exporter": "python",
   "pygments_lexer": "ipython3",
   "version": "3.9.7"
  }
 },
 "nbformat": 4,
 "nbformat_minor": 5
}
