{
 "cells": [
  {
   "cell_type": "markdown",
   "id": "9f1e924a-e3ba-4665-add5-2badb8ade670",
   "metadata": {},
   "source": [
    "####  함수 "
   ]
  },
  {
   "cell_type": "code",
   "execution_count": 1,
   "id": "25500d63-df73-4a7b-aefc-a6be6e40e5ac",
   "metadata": {},
   "outputs": [],
   "source": [
    "def my_function() :\n",
    "    print('-'*50)\n",
    "    print('my funtion')\n",
    "    print('-'*50)"
   ]
  },
  {
   "cell_type": "code",
   "execution_count": 5,
   "id": "39878c94-f2e5-4084-ac48-e9fde5ad4055",
   "metadata": {},
   "outputs": [
    {
     "name": "stdout",
     "output_type": "stream",
     "text": [
      "--------------------------------------------------\n",
      "my funtion\n",
      "--------------------------------------------------\n",
      "--------------------------------------------------\n",
      "my funtion\n",
      "--------------------------------------------------\n",
      "끝\n"
     ]
    }
   ],
   "source": [
    "my_function()\n",
    "\n",
    "my_function()\n",
    "\n",
    "print('끝')"
   ]
  },
  {
   "cell_type": "code",
   "execution_count": 13,
   "id": "90102960-0819-4c08-81b6-2d88a2c8c20c",
   "metadata": {},
   "outputs": [],
   "source": [
    "\n",
    "def my_function(n,m) : # 여기서 n 이 매개변수 이고 함수를 호출할때도\n",
    "                    # my_function(10) 처럼 n에 인수(매개변수값)를\n",
    "                    # 넣어줘야한다.\n",
    "    print('-' *n)\n",
    "    print(m)\n",
    "    print('-' *n)    "
   ]
  },
  {
   "cell_type": "code",
   "execution_count": null,
   "id": "39cf4691-2f58-4d6f-9d26-d0a526300c09",
   "metadata": {},
   "outputs": [],
   "source": [
    "def my_function(n,msg) : \n",
    "    \n",
    "    print('-' *n)\n",
    "    print(msg)\n",
    "    print('-' *n)\n",
    "     \n",
    "                     #이때 msg가 같은데도 당연히 서로 다른 msg이고\n",
    "                    # 다른 공간에 저장된다.\n",
    "                    # 이를 로컬 변수 라고 한다. 굳."
   ]
  },
  {
   "cell_type": "code",
   "execution_count": 17,
   "id": "d3be7aa3-43b5-4e4d-bbae-dbf5a0e2431e",
   "metadata": {},
   "outputs": [
    {
     "name": "stdout",
     "output_type": "stream",
     "text": [
      "----------\n",
      "hello\n",
      "----------\n"
     ]
    }
   ],
   "source": [
    "def my_function(n) :\n",
    "    print('-' *n)\n",
    "    print('hello')\n",
    "    print('-' *n) \n",
    "my_function(10)"
   ]
  },
  {
   "cell_type": "code",
   "execution_count": 16,
   "id": "b2427cd1-8279-46be-9a83-8ac5ec90d057",
   "metadata": {},
   "outputs": [
    {
     "name": "stdin",
     "output_type": "stream",
     "text": [
      "몇번할까 10\n",
      "바꿔봐 hello\n"
     ]
    },
    {
     "name": "stdout",
     "output_type": "stream",
     "text": [
      "----------\n",
      "hello\n",
      "----------\n"
     ]
    }
   ],
   "source": [
    "x = int(input('몇번할까'))\n",
    "msg = input('바꿔봐')\n",
    "my_function(x, msg)"
   ]
  },
  {
   "cell_type": "code",
   "execution_count": 33,
   "id": "24aa3372-ffe2-40f7-bf12-03e40dd65642",
   "metadata": {},
   "outputs": [],
   "source": [
    "def my_add(n,m) :\n",
    "    \n",
    "    print('%d+%d= %d' %(n,m,(n+m)))"
   ]
  },
  {
   "cell_type": "code",
   "execution_count": 34,
   "id": "3f18766d-7e42-483f-ac10-c00ff0057e3e",
   "metadata": {},
   "outputs": [
    {
     "name": "stdin",
     "output_type": "stream",
     "text": [
      "숫자를 주세요 2\n",
      "숫자를 주세요 3\n"
     ]
    },
    {
     "name": "stdout",
     "output_type": "stream",
     "text": [
      "2+3= 5\n"
     ]
    }
   ],
   "source": [
    "a1 = int(input('숫자를 주세요'))\n",
    "a2 = int(input('숫자를 주세요'))\n",
    "\n",
    "my_add(a1,a2)"
   ]
  },
  {
   "cell_type": "markdown",
   "id": "933a84bd-a314-494c-962f-14cc15ef0976",
   "metadata": {},
   "source": [
    "숫자 임의로 넣지않고 인풋받아서\n",
    "\n",
    "함수를 4개를 만드는것. 합, 차 , 곱 , 나누기. => 매개변수는 2개씩 \n",
    "\n",
    "함수 호출은 4번. 다 따로따로 "
   ]
  },
  {
   "cell_type": "code",
   "execution_count": 42,
   "id": "ef9c0854-90d0-4990-9281-5f99ef9819b0",
   "metadata": {},
   "outputs": [],
   "source": [
    "def my_add1(n,m) :\n",
    "    print('%d + %d = %d' %(n,m,(n+m)))"
   ]
  },
  {
   "cell_type": "code",
   "execution_count": 43,
   "id": "35207459-75d8-424b-81d4-e7ab7d48b9c0",
   "metadata": {},
   "outputs": [],
   "source": [
    "def my_sub(n,m) :\n",
    "    print('%d - %d = %d' %(n, m, (n-m)))"
   ]
  },
  {
   "cell_type": "code",
   "execution_count": 44,
   "id": "3120075d-1c3f-4a94-9a7d-04ab670b1460",
   "metadata": {},
   "outputs": [],
   "source": [
    "def my_multi(n,m) :\n",
    "    print('%d x %d = %d' %(n, m, (n*m)))"
   ]
  },
  {
   "cell_type": "code",
   "execution_count": 45,
   "id": "d23b7608-8bfc-4773-ac0b-6097938f0414",
   "metadata": {},
   "outputs": [],
   "source": [
    "def my_divi(n,m) :\n",
    "    print('%d / %d = %d' %(n, m, (n/m)))"
   ]
  },
  {
   "cell_type": "code",
   "execution_count": 46,
   "id": "7a537ea2-5df0-4a25-8a83-02e19976703c",
   "metadata": {},
   "outputs": [
    {
     "name": "stdin",
     "output_type": "stream",
     "text": [
      "숫자를 주세요 1\n",
      "숫자를 주세요 2\n"
     ]
    },
    {
     "name": "stdout",
     "output_type": "stream",
     "text": [
      "1 + 2 = 3\n"
     ]
    }
   ],
   "source": [
    "a1 = int(input('숫자를 주세요'))\n",
    "a2 = int(input('숫자를 주세요'))\n",
    "\n",
    "my_add1(a1,a2)"
   ]
  },
  {
   "cell_type": "code",
   "execution_count": 52,
   "id": "bf52bc16-27b7-4cd4-bbd4-bfed0ced5973",
   "metadata": {},
   "outputs": [
    {
     "name": "stdin",
     "output_type": "stream",
     "text": [
      "숫자를 주세요 10\n",
      "숫자를 주세요 5\n"
     ]
    },
    {
     "name": "stdout",
     "output_type": "stream",
     "text": [
      "10 - 5 = 5\n"
     ]
    }
   ],
   "source": [
    "a1 = int(input('숫자를 주세요'))\n",
    "a2 = int(input('숫자를 주세요'))\n",
    "\n",
    "my_sub(a1,a2)"
   ]
  },
  {
   "cell_type": "code",
   "execution_count": 48,
   "id": "ac684a14-f04d-42a0-8421-36aafe706283",
   "metadata": {},
   "outputs": [
    {
     "name": "stdin",
     "output_type": "stream",
     "text": [
      "숫자를 주세요 5\n",
      "숫자를 주세요 7\n"
     ]
    },
    {
     "name": "stdout",
     "output_type": "stream",
     "text": [
      "5 x 7 = 35\n"
     ]
    }
   ],
   "source": [
    "a1 = int(input('숫자를 주세요'))\n",
    "a2 = int(input('숫자를 주세요'))\n",
    "\n",
    "my_multi(a1,a2)"
   ]
  },
  {
   "cell_type": "code",
   "execution_count": 49,
   "id": "2c4bd50f-a56c-412a-a93d-715407f4afbc",
   "metadata": {},
   "outputs": [
    {
     "name": "stdin",
     "output_type": "stream",
     "text": [
      "숫자를 주세요 28\n",
      "숫자를 주세요 4\n"
     ]
    },
    {
     "name": "stdout",
     "output_type": "stream",
     "text": [
      "28 / 4 = 7\n"
     ]
    }
   ],
   "source": [
    "a1 = int(input('숫자를 주세요'))\n",
    "a2 = int(input('숫자를 주세요'))\n",
    "\n",
    "my_divi(a1,a2)"
   ]
  },
  {
   "cell_type": "code",
   "execution_count": 59,
   "id": "8deb2bb8-b578-41bf-a60f-d264066b9a2f",
   "metadata": {},
   "outputs": [],
   "source": [
    "def my_sub1(n,m) :\n",
    "    if n>=m :\n",
    "        print('%d - %d = %d' %(n, m, (n-m)))\n",
    "    else :\n",
    "        print('%d - %d = %d' %(m, n, (m-n)))"
   ]
  },
  {
   "cell_type": "code",
   "execution_count": 60,
   "id": "e9a90428-7cf9-4916-9eac-16af4ff10827",
   "metadata": {},
   "outputs": [
    {
     "name": "stdin",
     "output_type": "stream",
     "text": [
      "숫자를 주세요 10\n",
      "숫자를 주세요 4\n"
     ]
    },
    {
     "name": "stdout",
     "output_type": "stream",
     "text": [
      "10 - 4 = 6\n"
     ]
    }
   ],
   "source": [
    "a1 = int(input('숫자를 주세요'))\n",
    "a2 = int(input('숫자를 주세요'))\n",
    "\n",
    "my_sub(a1,a2)\n"
   ]
  },
  {
   "cell_type": "markdown",
   "id": "b4c3f745-42bb-4513-a90a-0d2e1f6d1f1f",
   "metadata": {},
   "source": [
    "아무 숫자를 받아서 1부터 그 숫자까지 더하는 함수"
   ]
  },
  {
   "cell_type": "code",
   "execution_count": 176,
   "id": "f39a97d4-65b8-4ec5-b5c8-3afef0bcd870",
   "metadata": {},
   "outputs": [],
   "source": [
    "i = 0\n",
    "add=0\n",
    "def new_add (add) :\n",
    "    add = 0\n",
    "    for i in range(ran):\n",
    "        \n",
    "        i = i +1\n",
    "        add = add + i\n",
    "        print(add)\n",
    "        \n",
    "\n",
    "    print('1부터 %d까지 합은 %d 입니다' %(ran, add))"
   ]
  },
  {
   "cell_type": "code",
   "execution_count": 177,
   "id": "aaed4ee0-8c65-4596-a167-cdb1bcf5a0e9",
   "metadata": {},
   "outputs": [
    {
     "name": "stdin",
     "output_type": "stream",
     "text": [
      "어디까지 더할까요? 10\n"
     ]
    },
    {
     "name": "stdout",
     "output_type": "stream",
     "text": [
      "1\n",
      "3\n",
      "6\n",
      "10\n",
      "15\n",
      "21\n",
      "28\n",
      "36\n",
      "45\n",
      "55\n",
      "1부터 10까지 합은 55 입니다\n"
     ]
    }
   ],
   "source": [
    "ran = int(input('어디까지 더할까요?'))\n",
    "\n",
    "new_add(ran)"
   ]
  },
  {
   "cell_type": "code",
   "execution_count": 1,
   "id": "549394f7-6c7b-44f3-9cc1-2fa501e40d7d",
   "metadata": {},
   "outputs": [],
   "source": [
    "def mAndn (list1):\n",
    "    max1 = list1[0]\n",
    "    i = 0\n",
    "    \n",
    "    for i in list1 :\n",
    "        if i > max1 :\n",
    "            max1 = i\n",
    "    print(max1)\n",
    "    \n",
    "    min1 = list1[0]\n",
    "    n=0\n",
    "    for n in list1:\n",
    "        if n < min1 :\n",
    "            min1 = n\n",
    "    print(min1)\n",
    "    \n",
    "\n",
    "    print('최대값은 %d 이고 최소값은 %d 입니다' %(max1,min1))"
   ]
  },
  {
   "cell_type": "code",
   "execution_count": 2,
   "id": "a175af2f-e611-4568-b261-9b41791c31f0",
   "metadata": {},
   "outputs": [
    {
     "name": "stdout",
     "output_type": "stream",
     "text": [
      "1231\n",
      "12\n",
      "최대값은 1231 이고 최소값은 12 입니다\n"
     ]
    }
   ],
   "source": [
    "listNew1 = [ 1231, 45, 364, 12, 76 ]\n",
    "\n",
    "mAndn(listNew1)"
   ]
  },
  {
   "cell_type": "code",
   "execution_count": 4,
   "id": "83b06a42-f3fd-4d4b-ba1e-85b3a986dadb",
   "metadata": {},
   "outputs": [
    {
     "name": "stdout",
     "output_type": "stream",
     "text": [
      "<class 'function'>\n"
     ]
    }
   ],
   "source": [
    "print(type(mAndn))"
   ]
  },
  {
   "cell_type": "code",
   "execution_count": null,
   "id": "253c032b-de55-4082-b7ba-37c26a1709bf",
   "metadata": {},
   "outputs": [],
   "source": []
  }
 ],
 "metadata": {
  "kernelspec": {
   "display_name": "Python 3 (ipykernel)",
   "language": "python",
   "name": "python3"
  },
  "language_info": {
   "codemirror_mode": {
    "name": "ipython",
    "version": 3
   },
   "file_extension": ".py",
   "mimetype": "text/x-python",
   "name": "python",
   "nbconvert_exporter": "python",
   "pygments_lexer": "ipython3",
   "version": "3.9.7"
  }
 },
 "nbformat": 4,
 "nbformat_minor": 5
}
