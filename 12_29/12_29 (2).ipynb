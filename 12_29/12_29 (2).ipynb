{
 "cells": [
  {
   "cell_type": "markdown",
   "id": "648a0e95-51bc-4c78-bfd0-736154a7778a",
   "metadata": {},
   "source": [
    "##  점심 이후 dict~ "
   ]
  },
  {
   "cell_type": "code",
   "execution_count": 9,
   "id": "c58cca40-6f21-4986-b7f8-989512ad642d",
   "metadata": {},
   "outputs": [
    {
     "name": "stdout",
     "output_type": "stream",
     "text": [
      "{'name': '성빈', 'age': 24, 'gender': True} <class 'dict'>\n",
      "{} <class 'dict'>\n",
      "{} <class 'dict'>\n",
      "{'name': '현민', 'age': 3, 'age2': 3} <class 'dict'>\n",
      "3\n",
      "현민\n"
     ]
    }
   ],
   "source": [
    "my_dict = {'name':'성빈', 'age': 24, 'gender': True}\n",
    "my_dict2 = dict()\n",
    "my_dict3 = {}\n",
    "\n",
    "print(my_dict, type(my_dict))\n",
    "print(my_dict2, type(my_dict2))\n",
    "print(my_dict3, type(my_dict3))\n",
    "\n",
    "my_dict4 = {'name' : '현민',\n",
    "            'age' : 25 ,\n",
    "            'age' : 3 ,\n",
    "            'age2' : 3 }\n",
    "print(my_dict4, type(my_dict4))\n",
    "print(len(my_dict4))\n",
    "print(my_dict4['name'])  # dict는 [ ] 안에 키값 'name' 을 다 써줘야함."
   ]
  },
  {
   "cell_type": "code",
   "execution_count": 10,
   "id": "50377724-8151-40da-ab72-dc2da432500a",
   "metadata": {},
   "outputs": [
    {
     "name": "stdout",
     "output_type": "stream",
     "text": [
      "dict_keys(['name', 'age', 'gender']) <class 'dict_keys'>\n",
      "dict_values(['성빈', 24, True]) <class 'dict_values'>\n",
      "dict_items([('name', '성빈'), ('age', 24), ('gender', True)]) <class 'dict_items'>\n"
     ]
    }
   ],
   "source": [
    "keys = my_dict.keys() # 키 리스트\n",
    "values = my_dict.values() # 값 리스트\n",
    "items = my_dict.items() # 아이템 리스트\n",
    "print(keys, type(keys))\n",
    "print(values, type(values))\n",
    "print(items, type(items))"
   ]
  },
  {
   "cell_type": "code",
   "execution_count": 11,
   "id": "b573e234-4a57-4300-a807-9e6e08187d78",
   "metadata": {},
   "outputs": [
    {
     "name": "stdout",
     "output_type": "stream",
     "text": [
      "성빈 <class 'str'>\n"
     ]
    }
   ],
   "source": [
    "name = my_dict.get('name')\n",
    "print(name, type(name))"
   ]
  },
  {
   "cell_type": "code",
   "execution_count": 12,
   "id": "31121968-2b05-4d41-83a5-0ae250c7aa99",
   "metadata": {},
   "outputs": [
    {
     "name": "stdout",
     "output_type": "stream",
     "text": [
      "24 <class 'int'>\n"
     ]
    }
   ],
   "source": [
    "age = my_dict.get('age')\n",
    "print(age, type(age))"
   ]
  },
  {
   "cell_type": "code",
   "execution_count": 13,
   "id": "77b176c7-157d-412a-974a-56ad40eaf2c3",
   "metadata": {},
   "outputs": [
    {
     "name": "stdout",
     "output_type": "stream",
     "text": [
      "True <class 'bool'>\n"
     ]
    }
   ],
   "source": [
    "gender = my_dict.get('gender')\n",
    "print(gender, type(gender))"
   ]
  },
  {
   "cell_type": "code",
   "execution_count": 14,
   "id": "93645e95-9a0c-4c37-a7f3-cd869154fafd",
   "metadata": {},
   "outputs": [
    {
     "name": "stdout",
     "output_type": "stream",
     "text": [
      "성빈\n"
     ]
    }
   ],
   "source": [
    "name1 = my_dict['name']\n",
    "print(name)"
   ]
  },
  {
   "cell_type": "code",
   "execution_count": 15,
   "id": "d1b73f56-6ae7-4cb4-ae40-7aecc86f78e2",
   "metadata": {},
   "outputs": [
    {
     "name": "stdout",
     "output_type": "stream",
     "text": [
      "{'name': '성빈', 'age': 24, 'gender': True}\n",
      "{'name': '성빈', 'age': 25, 'gender': True, 'add': 'sangdo'}\n"
     ]
    }
   ],
   "source": [
    "print(my_dict)\n",
    "my_dict['age'] = 25\n",
    "my_dict['add'] = 'sangdo'\n",
    "print(my_dict)"
   ]
  },
  {
   "cell_type": "code",
   "execution_count": 16,
   "id": "41c1862b-0ae5-40bf-88ca-443715f8f1d0",
   "metadata": {},
   "outputs": [
    {
     "name": "stdout",
     "output_type": "stream",
     "text": [
      "[{'name': '성빈', 'age': 23}, {'name': 'no', 'age': 35}]\n"
     ]
    }
   ],
   "source": [
    "person = [ {'name': '성빈', 'age' : 23 },\n",
    "          {'name' : 'no' , 'age' : 35}]\n",
    "\n",
    "print(person)"
   ]
  },
  {
   "cell_type": "code",
   "execution_count": 17,
   "id": "bb4a840a-b2d0-407f-9f3e-9805b276d792",
   "metadata": {},
   "outputs": [],
   "source": [
    "person = {'name': '성빈', 'age' : 23 }"
   ]
  },
  {
   "cell_type": "code",
   "execution_count": 18,
   "id": "349c8c31-6e5f-4330-9672-a09599bc4c13",
   "metadata": {},
   "outputs": [
    {
     "name": "stdout",
     "output_type": "stream",
     "text": [
      "name 성빈\n",
      "age 23\n"
     ]
    }
   ],
   "source": [
    "for n in person :\n",
    "    print(n, person[n])"
   ]
  },
  {
   "cell_type": "markdown",
   "id": "64b5376e-5033-4442-b9ba-c4bf7ae5308d",
   "metadata": {},
   "source": [
    "##  대괄호 안에 중괄호라서 ㄹㅇ 헷갈릴만 함.."
   ]
  },
  {
   "cell_type": "code",
   "execution_count": 19,
   "id": "5f57acba-8548-4fc1-aa0d-8fa964d4d388",
   "metadata": {},
   "outputs": [
    {
     "name": "stdout",
     "output_type": "stream",
     "text": [
      "[{'name': '성빈', 'age': 23}, {'name': '현민', 'age': 35}]\n"
     ]
    }
   ],
   "source": [
    "person1 = [ {'name': '성빈', 'age' : 23 },\n",
    "          {'name' : '현민' , 'age' : 35}]\n",
    "\n",
    "print(person1)"
   ]
  },
  {
   "cell_type": "code",
   "execution_count": 20,
   "id": "5c80115a-c9d7-4c59-ba5f-8828beb47074",
   "metadata": {},
   "outputs": [
    {
     "name": "stdout",
     "output_type": "stream",
     "text": [
      "{'name': '성빈', 'age': 23}\n",
      "{'name': '현민', 'age': 35}\n"
     ]
    }
   ],
   "source": [
    "for i in person1 :\n",
    "    print(i)"
   ]
  },
  {
   "cell_type": "code",
   "execution_count": 21,
   "id": "7cb0c7d9-3521-4666-8e3a-5573b6b7c16b",
   "metadata": {},
   "outputs": [
    {
     "name": "stdout",
     "output_type": "stream",
     "text": [
      "성빈\n",
      "현민\n"
     ]
    }
   ],
   "source": [
    "for i in person1 : \n",
    "                                # print(i)\n",
    "                                # new = i.values()\n",
    "                                # print (new)\n",
    "    print(i.get('name')) \n",
    "    \n",
    "    # 이 상태에서 i 는 dict 이므로 키값만 구한다거나 하는게 가능함."
   ]
  },
  {
   "cell_type": "markdown",
   "id": "830a19bc-0e7c-4f39-8ba4-ee48eb740211",
   "metadata": {},
   "source": [
    "#### dict 활용법 "
   ]
  },
  {
   "cell_type": "code",
   "execution_count": 22,
   "id": "3b958640-3caf-4d6d-b405-6d7f7f4bee8c",
   "metadata": {},
   "outputs": [
    {
     "name": "stdin",
     "output_type": "stream",
     "text": [
      "이름을 주세요 박성빈\n",
      "국어점수는? 10\n",
      "영어점수는? 10\n",
      "수학점수는? 10\n"
     ]
    }
   ],
   "source": [
    "person = dict()\n",
    "\n",
    "name = input('이름을 주세요')\n",
    "kor = int(input('국어점수는?'))\n",
    "eng = int(input('영어점수는?'))\n",
    "math = int(input('수학점수는?'))\n",
    "\n",
    "\n",
    "\n"
   ]
  },
  {
   "cell_type": "code",
   "execution_count": 25,
   "id": "af50221b-0e81-478a-9222-ed17d36eaf5b",
   "metadata": {},
   "outputs": [
    {
     "name": "stdout",
     "output_type": "stream",
     "text": [
      "30\n",
      "{'name11': '박성빈', 'kor11': 10, 'eng11': 10, 'math11': 10, 'add11': 30}\n"
     ]
    }
   ],
   "source": [
    "person['name11'] = name      #dict 에 키 와 값 추가하는 방법.\n",
    "person['kor11'] = kor\n",
    "person['eng11'] = eng\n",
    "person['math11'] = math\n",
    "\n",
    "add = kor + eng + math\n",
    "\n",
    "person['add11'] = add     # 그냥 총점도 dict에 넣은 거  큰의미x\n",
    "\n",
    "print(add)\n",
    "print(person)"
   ]
  },
  {
   "cell_type": "code",
   "execution_count": null,
   "id": "4da33737-735c-4129-a86d-146f571aa1d7",
   "metadata": {},
   "outputs": [],
   "source": []
  },
  {
   "cell_type": "code",
   "execution_count": 26,
   "id": "a9584ce9-ee58-476e-baec-f5d9347cfdf3",
   "metadata": {},
   "outputs": [
    {
     "name": "stdout",
     "output_type": "stream",
     "text": [
      "박성빈\n",
      "30\n"
     ]
    }
   ],
   "source": [
    "print(person.get('name11'))     # dict에서 값을 출력할 때 하는법.\n",
    "print(person['add11'])         # 이게 더 나은듯"
   ]
  },
  {
   "cell_type": "code",
   "execution_count": 27,
   "id": "7bba35d5-2d99-4655-b934-2f9420844206",
   "metadata": {},
   "outputs": [
    {
     "name": "stdout",
     "output_type": "stream",
     "text": [
      "박성빈\n",
      "30\n"
     ]
    }
   ],
   "source": [
    "name13 = person.get('name11')\n",
    "\n",
    "print(name13)\n",
    "\n",
    "add13 = person.get('kor11')+person.get('eng11')+person.get('math11')\n",
    "\n",
    "person['add11'] = person['kor11'] + person['eng11'] + person['math11']\n",
    "    \n",
    "                                # 더할때도 그냥 input을 더할게 아니라\n",
    "                                # dict에서 값을 받아와서 더하자!\n",
    "            \n",
    "print(person['add11'])"
   ]
  },
  {
   "cell_type": "code",
   "execution_count": 7,
   "id": "aa901374-4a04-4e97-9327-ebb6524db6ca",
   "metadata": {},
   "outputs": [
    {
     "name": "stdout",
     "output_type": "stream",
     "text": [
      "박성빈씨는 총점30입니다.\n"
     ]
    }
   ],
   "source": [
    "print('%s씨는 총점%d입니다.' %(name13, add13)) "
   ]
  },
  {
   "cell_type": "code",
   "execution_count": 8,
   "id": "e5c6baf5-8cfc-4446-b1ec-1ce6f0a2d1df",
   "metadata": {},
   "outputs": [
    {
     "name": "stdout",
     "output_type": "stream",
     "text": [
      "{'name11': '박성빈', 'kor11': 10, 'eng11': 10, 'math11': 10, 'add11': 30}\n"
     ]
    }
   ],
   "source": [
    "print(person)"
   ]
  },
  {
   "cell_type": "code",
   "execution_count": 139,
   "id": "351371e5-de79-498d-b335-0d7dd2d82751",
   "metadata": {},
   "outputs": [
    {
     "name": "stdin",
     "output_type": "stream",
     "text": [
      "이름을 주세요 11\n",
      "국어점수는? 11\n",
      "영어점수는? 11\n",
      "수학점수는? 11\n"
     ]
    },
    {
     "name": "stdout",
     "output_type": "stream",
     "text": [
      "{'name': '11', 'kor': 11, 'eng': 11, 'math': 11}\n"
     ]
    },
    {
     "name": "stdin",
     "output_type": "stream",
     "text": [
      "이름을 주세요 22\n",
      "국어점수는? 22\n",
      "영어점수는? 22\n",
      "수학점수는? 22\n"
     ]
    },
    {
     "name": "stdout",
     "output_type": "stream",
     "text": [
      "{'name': '22', 'kor': 22, 'eng': 22, 'math': 22}\n",
      "22\n"
     ]
    }
   ],
   "source": [
    "personNew = dict()\n",
    "\n",
    "for i in range(2) :\n",
    "    \n",
    "    name = input('이름을 주세요')\n",
    "    kor = int(input('국어점수는?'))\n",
    "    eng = int(input('영어점수는?'))\n",
    "    math = int(input('수학점수는?'))\n",
    "    \n",
    "    personNew['name'] = name  \n",
    "    personNew['kor'] = kor\n",
    "    personNew['eng'] = eng\n",
    "    personNew['math'] = math\n",
    "    print(personNew)\n",
    "\n",
    "print(personNew['name'])"
   ]
  },
  {
   "cell_type": "markdown",
   "id": "5c4e6507-27b9-4565-9171-381c8a3e5e56",
   "metadata": {},
   "source": [
    "###  리스트 만들기 지렸다 ㄷㄷ 이렇게 만드는거구나 "
   ]
  },
  {
   "cell_type": "code",
   "execution_count": 29,
   "id": "255fda23-c868-471f-a2cc-0cd5dad1c27b",
   "metadata": {},
   "outputs": [
    {
     "name": "stdin",
     "output_type": "stream",
     "text": [
      "이름을 주세요 박성빈\n",
      "국어점수는? 90\n",
      "영어점수는? 80\n",
      "수학점수는? 70\n"
     ]
    },
    {
     "name": "stdout",
     "output_type": "stream",
     "text": [
      "{'name': '박성빈', 'kor': 90, 'eng': 80, 'math': 70}\n"
     ]
    },
    {
     "name": "stdin",
     "output_type": "stream",
     "text": [
      "이름을 주세요 노현민\n",
      "국어점수는? 60\n",
      "영어점수는? 50\n",
      "수학점수는? 40\n"
     ]
    },
    {
     "name": "stdout",
     "output_type": "stream",
     "text": [
      "{'name': '노현민', 'kor': 60, 'eng': 50, 'math': 40}\n",
      "노현민\n",
      "[{'name': '박성빈', 'kor': 90, 'eng': 80, 'math': 70}, {'name': '노현민', 'kor': 60, 'eng': 50, 'math': 40}]\n"
     ]
    }
   ],
   "source": [
    "\n",
    "person_list = list()\n",
    "\n",
    "for i in range(2) :\n",
    "    \n",
    "    personNew = dict()\n",
    "    \n",
    "    name = input('이름을 주세요')\n",
    "    kor = int(input('국어점수는?'))\n",
    "    eng = int(input('영어점수는?'))\n",
    "    math = int(input('수학점수는?'))\n",
    "    \n",
    "    personNew['name'] = name  \n",
    "    personNew['kor'] = kor\n",
    "    personNew['eng'] = eng\n",
    "    personNew['math'] = math\n",
    "    print(personNew)\n",
    "    \n",
    "    \n",
    "    person_list.append(personNew)\n",
    "\n",
    "   # personNew['name'].get(name)\n",
    "    \n",
    "\n",
    "print(personNew['name'])\n",
    "print(person_list)"
   ]
  },
  {
   "cell_type": "code",
   "execution_count": 40,
   "id": "40168ce0-401f-4e0d-8d61-3b4bc17b794e",
   "metadata": {},
   "outputs": [
    {
     "name": "stdout",
     "output_type": "stream",
     "text": [
      "[{'name': '박성빈', 'kor': 90, 'eng': 80, 'math': 70}, {'name': '노현민', 'kor': 60, 'eng': 50, 'math': 40}]\n"
     ]
    }
   ],
   "source": [
    "print(person_list)"
   ]
  },
  {
   "cell_type": "code",
   "execution_count": 41,
   "id": "7ca80c2e-2fc8-4174-a6b6-1ff4cc4ae84b",
   "metadata": {
    "tags": []
   },
   "outputs": [
    {
     "name": "stdout",
     "output_type": "stream",
     "text": [
      "박성빈\n",
      "노현민\n"
     ]
    }
   ],
   "source": [
    "for i in person_list : \n",
    "                               \n",
    "    print(i.get('name'))        "
   ]
  },
  {
   "cell_type": "code",
   "execution_count": 49,
   "id": "5a9f7dbd-70cc-45f1-816f-13e9217a35dc",
   "metadata": {},
   "outputs": [
    {
     "name": "stdout",
     "output_type": "stream",
     "text": [
      "90\n",
      "60\n"
     ]
    }
   ],
   "source": [
    "for i in person_list : \n",
    "                               \n",
    "    print(i.get('kor'))"
   ]
  },
  {
   "cell_type": "code",
   "execution_count": 44,
   "id": "999502b4-064a-49d4-a693-8f9e7cc00f44",
   "metadata": {},
   "outputs": [
    {
     "name": "stdout",
     "output_type": "stream",
     "text": [
      "<class 'dict'>\n"
     ]
    }
   ],
   "source": [
    "print(type(i))"
   ]
  },
  {
   "cell_type": "code",
   "execution_count": 47,
   "id": "e9316983-4e2d-4f31-ae38-c3123eae3cf1",
   "metadata": {},
   "outputs": [
    {
     "name": "stdout",
     "output_type": "stream",
     "text": [
      "60\n"
     ]
    }
   ],
   "source": [
    "print(personNew.get('kor'))"
   ]
  },
  {
   "cell_type": "code",
   "execution_count": 34,
   "id": "f400907f-a0b6-4fcb-b4a7-6a83be201321",
   "metadata": {},
   "outputs": [
    {
     "name": "stdout",
     "output_type": "stream",
     "text": [
      "노현민\n"
     ]
    }
   ],
   "source": [
    "print(i.get('name'))"
   ]
  },
  {
   "cell_type": "code",
   "execution_count": 51,
   "id": "fd3f1000-9da2-48d9-967a-2f07f4b5a5d9",
   "metadata": {},
   "outputs": [
    {
     "name": "stdout",
     "output_type": "stream",
     "text": [
      "['name', 'kor', 'eng', 'math']\n"
     ]
    }
   ],
   "source": [
    "print(list(i.keys()))"
   ]
  },
  {
   "cell_type": "code",
   "execution_count": 52,
   "id": "07671ce7-31dd-4cf1-b998-3a1258710626",
   "metadata": {},
   "outputs": [
    {
     "name": "stdout",
     "output_type": "stream",
     "text": [
      "['노현민', 60, 50, 40]\n"
     ]
    }
   ],
   "source": [
    "print(list(i.values()))"
   ]
  },
  {
   "cell_type": "code",
   "execution_count": null,
   "id": "1c8379b9-b508-4020-9100-ef8f533c044f",
   "metadata": {},
   "outputs": [],
   "source": []
  }
 ],
 "metadata": {
  "kernelspec": {
   "display_name": "Python 3 (ipykernel)",
   "language": "python",
   "name": "python3"
  },
  "language_info": {
   "codemirror_mode": {
    "name": "ipython",
    "version": 3
   },
   "file_extension": ".py",
   "mimetype": "text/x-python",
   "name": "python",
   "nbconvert_exporter": "python",
   "pygments_lexer": "ipython3",
   "version": "3.9.7"
  }
 },
 "nbformat": 4,
 "nbformat_minor": 5
}
