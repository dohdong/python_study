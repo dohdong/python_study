{
 "cells": [
  {
   "cell_type": "markdown",
   "id": "e8b64904-e7e5-49a1-9a3d-d8c16552c897",
   "metadata": {},
   "source": [
    "######  오전에 일단 while 부터 시작~"
   ]
  },
  {
   "cell_type": "code",
   "execution_count": 2,
   "id": "d136f6b8-6f68-44d4-85ec-c4e4a212ea5c",
   "metadata": {},
   "outputs": [
    {
     "name": "stdout",
     "output_type": "stream",
     "text": [
      "1\n",
      "2\n",
      "4\n",
      "5\n",
      "6\n"
     ]
    }
   ],
   "source": [
    "i = 0\n",
    "while i < 6 :\n",
    "    i = i + 1\n",
    "    \n",
    "    if i == 3 :\n",
    "        continue\n",
    "    print(i)"
   ]
  },
  {
   "cell_type": "code",
   "execution_count": 30,
   "id": "19dcd3e3-352f-46da-84b6-5890a8e80df0",
   "metadata": {},
   "outputs": [
    {
     "name": "stdout",
     "output_type": "stream",
     "text": [
      "1\n",
      "2\n"
     ]
    }
   ],
   "source": [
    "i = 1\n",
    "while i < 6 :\n",
    "    \n",
    "    if i == 3:\n",
    "\n",
    "        break\n",
    "        \n",
    "    print(i)\n",
    "    \n",
    "    i = i + 1     # i++ , i += 1  같은거임.\n",
    "\n"
   ]
  },
  {
   "cell_type": "code",
   "execution_count": 21,
   "id": "a9ee8e07-5023-475c-8807-7d045d92cfa7",
   "metadata": {},
   "outputs": [
    {
     "name": "stdout",
     "output_type": "stream",
     "text": [
      "1\n",
      "2\n",
      "3\n",
      "4\n",
      "5\n",
      "i ~~\n",
      "g\n"
     ]
    }
   ],
   "source": [
    "i = 1\n",
    "while i < 6 : \n",
    "#     if i == 3:\n",
    "\n",
    "#         break\n",
    "    print(i)\n",
    "    i = i + 1 \n",
    "else :\n",
    "    print('i ~~')    # 이 문장은 무조건 실행된다..!\n",
    "                     # 근데 잘 안쓰는 문장이라고 함.\n",
    "    \n",
    "print('g')"
   ]
  },
  {
   "cell_type": "code",
   "execution_count": 24,
   "id": "884f8d1a-450f-48c8-a500-75cca6672b4e",
   "metadata": {},
   "outputs": [
    {
     "name": "stdout",
     "output_type": "stream",
     "text": [
      "2\n",
      "12\n",
      "22\n"
     ]
    }
   ],
   "source": [
    "for x in range(2, 30, 10) :\n",
    "    print(x)"
   ]
  },
  {
   "cell_type": "markdown",
   "id": "d9beb88d-923d-4c99-95ee-fc98ce2e20ac",
   "metadata": {},
   "source": [
    "## 리스트  부터 시작."
   ]
  },
  {
   "cell_type": "code",
   "execution_count": 27,
   "id": "b10e77fc-5af0-4d1d-ad9e-f395aec7966e",
   "metadata": {},
   "outputs": [
    {
     "ename": "IndentationError",
     "evalue": "expected an indented block (Temp/ipykernel_4088/3757353385.py, line 3)",
     "output_type": "error",
     "traceback": [
      "\u001b[1;36m  File \u001b[1;32m\"C:\\Users\\BIT\\AppData\\Local\\Temp/ipykernel_4088/3757353385.py\"\u001b[1;36m, line \u001b[1;32m3\u001b[0m\n\u001b[1;33m    for number in range(len(mark)) :\u001b[0m\n\u001b[1;37m                                    ^\u001b[0m\n\u001b[1;31mIndentationError\u001b[0m\u001b[1;31m:\u001b[0m expected an indented block\n"
     ]
    }
   ],
   "source": [
    "mark = [ 23, 45, 61, 34, 78, 84, 23, 12]\n",
    "\n",
    "for number in range(len(mark)) :\n",
    "    if mark \n"
   ]
  },
  {
   "cell_type": "code",
   "execution_count": 109,
   "id": "4e709c13-44b3-4e7c-bb84-8be6bbda3a8d",
   "metadata": {},
   "outputs": [
    {
     "name": "stdout",
     "output_type": "stream",
     "text": [
      "[] <class 'list'>\n",
      "[] <class 'list'>\n"
     ]
    }
   ],
   "source": [
    "my_fruits = list()\n",
    "my_car = list()\n",
    "\n",
    "print(my_fruits, type(my_fruits))\n",
    "print(my_car, type(my_car))"
   ]
  },
  {
   "cell_type": "code",
   "execution_count": 132,
   "id": "d4df21ab-fb67-4470-b37f-1df49be49e70",
   "metadata": {},
   "outputs": [
    {
     "name": "stdout",
     "output_type": "stream",
     "text": [
      "['orange', 'apple', 'apple'] <class 'list'>\n",
      "['rambo'] <class 'list'>\n"
     ]
    }
   ],
   "source": [
    "my_fruits.append('apple')     # .은 그 앞 리스트에 소속되었다는 의미~\n",
    "print(my_fruits, type(my_fruits))\n",
    "print(my_car, type(my_car))"
   ]
  },
  {
   "cell_type": "code",
   "execution_count": 111,
   "id": "e6f439f3-1ae4-4c89-b821-b1768939b739",
   "metadata": {},
   "outputs": [
    {
     "name": "stdout",
     "output_type": "stream",
     "text": [
      "['apple'] <class 'list'>\n",
      "['rambo'] <class 'list'>\n"
     ]
    }
   ],
   "source": [
    "my_car.append('rambo')\n",
    "print(my_fruits, type(my_fruits))\n",
    "print(my_car, type(my_car))"
   ]
  },
  {
   "cell_type": "code",
   "execution_count": 112,
   "id": "d5547562-3a15-4556-9ecb-4b64990df2f8",
   "metadata": {},
   "outputs": [
    {
     "ename": "TypeError",
     "evalue": "list.append() takes exactly one argument (2 given)",
     "output_type": "error",
     "traceback": [
      "\u001b[1;31m---------------------------------------------------------------------------\u001b[0m",
      "\u001b[1;31mTypeError\u001b[0m                                 Traceback (most recent call last)",
      "\u001b[1;32m~\\AppData\\Local\\Temp/ipykernel_4088/2705262332.py\u001b[0m in \u001b[0;36m<module>\u001b[1;34m\u001b[0m\n\u001b[1;32m----> 1\u001b[1;33m \u001b[0mmy_fruits\u001b[0m\u001b[1;33m.\u001b[0m\u001b[0mappend\u001b[0m\u001b[1;33m(\u001b[0m\u001b[1;34m'banana'\u001b[0m\u001b[1;33m,\u001b[0m\u001b[1;34m'watermelon'\u001b[0m\u001b[1;33m)\u001b[0m \u001b[1;31m#append는 한번에 하나만\u001b[0m\u001b[1;33m\u001b[0m\u001b[1;33m\u001b[0m\u001b[0m\n\u001b[0m\u001b[0;32m      2\u001b[0m                                         \u001b[1;31m#추가 가능하다.\u001b[0m\u001b[1;33m\u001b[0m\u001b[1;33m\u001b[0m\u001b[0m\n",
      "\u001b[1;31mTypeError\u001b[0m: list.append() takes exactly one argument (2 given)"
     ]
    }
   ],
   "source": [
    "my_fruits.append('banana','watermelon') #append는 한번에 하나만 \n",
    "                                        #추가 가능하다."
   ]
  },
  {
   "cell_type": "code",
   "execution_count": 113,
   "id": "2baa8e9f-a84a-42e1-83a3-9b0dc958e2e1",
   "metadata": {},
   "outputs": [],
   "source": [
    "my_fruits.append('watermelon')"
   ]
  },
  {
   "cell_type": "code",
   "execution_count": 114,
   "id": "6725d4ca-f870-4e80-bda0-c0f745fe71fb",
   "metadata": {},
   "outputs": [
    {
     "name": "stdout",
     "output_type": "stream",
     "text": [
      "['apple', 'watermelon'] <class 'list'>\n",
      "['rambo'] <class 'list'>\n"
     ]
    }
   ],
   "source": [
    "print(my_fruits, type(my_fruits))\n",
    "print(my_car, type(my_car))"
   ]
  },
  {
   "cell_type": "code",
   "execution_count": 115,
   "id": "3c083bcb-714d-43de-9716-d4e715455cb7",
   "metadata": {},
   "outputs": [],
   "source": [
    "my_fruits.append('apple')"
   ]
  },
  {
   "cell_type": "code",
   "execution_count": 116,
   "id": "be5b594f-f308-4b91-834a-bfa626f999be",
   "metadata": {},
   "outputs": [
    {
     "name": "stdout",
     "output_type": "stream",
     "text": [
      "['apple', 'watermelon', 'apple'] <class 'list'>\n",
      "['rambo'] <class 'list'>\n"
     ]
    }
   ],
   "source": [
    "print(my_fruits, type(my_fruits))\n",
    "print(my_car, type(my_car))"
   ]
  },
  {
   "cell_type": "code",
   "execution_count": 117,
   "id": "5735194e-53fe-4f21-b787-c40c749d8d7d",
   "metadata": {},
   "outputs": [],
   "source": [
    "my_fruits.insert(0,'orange')"
   ]
  },
  {
   "cell_type": "code",
   "execution_count": 118,
   "id": "19d42908-edda-455a-9a05-fb885c5143c9",
   "metadata": {},
   "outputs": [
    {
     "name": "stdout",
     "output_type": "stream",
     "text": [
      "['orange', 'apple', 'watermelon', 'apple'] <class 'list'>\n"
     ]
    }
   ],
   "source": [
    "print(my_fruits, type(my_fruits))"
   ]
  },
  {
   "cell_type": "code",
   "execution_count": 119,
   "id": "611e538b-3a5b-421f-99d9-5938980af356",
   "metadata": {},
   "outputs": [
    {
     "name": "stdout",
     "output_type": "stream",
     "text": [
      "4\n"
     ]
    }
   ],
   "source": [
    "print(len(my_fruits))"
   ]
  },
  {
   "cell_type": "code",
   "execution_count": 120,
   "id": "66acc985-8ccb-4369-a102-7d179326713d",
   "metadata": {},
   "outputs": [
    {
     "name": "stdout",
     "output_type": "stream",
     "text": [
      "apple\n"
     ]
    }
   ],
   "source": [
    "print(my_fruits[1])"
   ]
  },
  {
   "cell_type": "code",
   "execution_count": 121,
   "id": "0bced309-054c-4792-95e2-18fd485405d5",
   "metadata": {},
   "outputs": [
    {
     "name": "stdout",
     "output_type": "stream",
     "text": [
      "['orange', 'apple', 'apple'] <class 'list'>\n"
     ]
    }
   ],
   "source": [
    "my_fruits.remove(my_fruits[2])\n",
    "print(my_fruits, type(my_fruits))"
   ]
  },
  {
   "cell_type": "code",
   "execution_count": 122,
   "id": "d3f7bec2-1a5e-4697-b3d0-7e498e9d3c85",
   "metadata": {},
   "outputs": [],
   "source": [
    "my_fruits.remove('apple')"
   ]
  },
  {
   "cell_type": "code",
   "execution_count": 123,
   "id": "007bef9b-5466-40ba-af69-890b91836f48",
   "metadata": {},
   "outputs": [
    {
     "name": "stdout",
     "output_type": "stream",
     "text": [
      "['orange', 'apple']\n"
     ]
    }
   ],
   "source": [
    "print(my_fruits)"
   ]
  },
  {
   "cell_type": "code",
   "execution_count": 124,
   "id": "642b4603-d5d3-462b-b492-d01a7592983c",
   "metadata": {},
   "outputs": [
    {
     "name": "stdout",
     "output_type": "stream",
     "text": [
      "['apple', 'orange']\n"
     ]
    }
   ],
   "source": [
    "my_fruits.sort()    #오름차순으로 정렬됨.\n",
    "print(my_fruits)"
   ]
  },
  {
   "cell_type": "code",
   "execution_count": 125,
   "id": "6cec37eb-efeb-4725-8363-f8bba094604d",
   "metadata": {},
   "outputs": [
    {
     "name": "stdout",
     "output_type": "stream",
     "text": [
      "['orange', 'apple']\n"
     ]
    }
   ],
   "source": [
    "my_fruits.sort(reverse = True)   \n",
    "print(my_fruits)"
   ]
  },
  {
   "cell_type": "code",
   "execution_count": 140,
   "id": "b49f8d96-7346-4a0d-86a0-941313ab37fe",
   "metadata": {},
   "outputs": [
    {
     "name": "stdout",
     "output_type": "stream",
     "text": [
      "['orange', 'apple']\n",
      "apple\n",
      "['orange']\n"
     ]
    }
   ],
   "source": [
    "print(my_fruits)\n",
    "a = my_fruits.pop()  # pop은 맨 마지막 녀석을 꺼내오고, 사라진다.\n",
    "                     # shift+tap 누르면 설명을 볼 수 있는데\n",
    "                     # -1 의 의미는 맨 마지막(o)\n",
    "                     # -는 뒤에서부터시작(o) 이다.\n",
    "print(a)\n",
    "print(my_fruits)"
   ]
  },
  {
   "cell_type": "code",
   "execution_count": 127,
   "id": "19ee749d-5bc7-4c4a-af93-5518132b59fb",
   "metadata": {},
   "outputs": [],
   "source": [
    "my_fruits.append('apple')"
   ]
  },
  {
   "cell_type": "code",
   "execution_count": 130,
   "id": "3bac2025-818b-428e-8aa3-5cdbea9d1a24",
   "metadata": {},
   "outputs": [],
   "source": [
    "my_fruits.reverse()"
   ]
  },
  {
   "cell_type": "code",
   "execution_count": 131,
   "id": "bafb94ce-13a2-4de5-9627-3b7a82038e8b",
   "metadata": {},
   "outputs": [
    {
     "name": "stdout",
     "output_type": "stream",
     "text": [
      "['orange', 'apple']\n"
     ]
    }
   ],
   "source": [
    "print(my_fruits)"
   ]
  },
  {
   "cell_type": "code",
   "execution_count": 134,
   "id": "3335b18c-0558-41fe-80ea-d540f69f0095",
   "metadata": {},
   "outputs": [],
   "source": [
    "# 프로그램에서는 입력값(매개변수)이 0개 or 여러개인 경우도 있음.\n",
    "# 출력값(return값)은  0개 or 1개\n"
   ]
  },
  {
   "cell_type": "code",
   "execution_count": 135,
   "id": "87ee42b3-0fa4-4e4b-b6e5-aaabd1ffe3af",
   "metadata": {},
   "outputs": [],
   "source": [
    "a = [ 1, 2, 3, 4, 5, 6]"
   ]
  },
  {
   "cell_type": "code",
   "execution_count": 136,
   "id": "743a2b84-e0f7-4e5b-9996-06bad8cd6cd5",
   "metadata": {},
   "outputs": [
    {
     "name": "stdout",
     "output_type": "stream",
     "text": [
      "[1, 2, 3, 4, 5, 6]\n"
     ]
    }
   ],
   "source": [
    "print(a)"
   ]
  },
  {
   "cell_type": "code",
   "execution_count": 137,
   "id": "bcf23f2b-b7ab-4b03-b935-31f2bca84c7c",
   "metadata": {},
   "outputs": [
    {
     "name": "stdout",
     "output_type": "stream",
     "text": [
      "3\n"
     ]
    }
   ],
   "source": [
    "print(a[2])"
   ]
  },
  {
   "cell_type": "code",
   "execution_count": 138,
   "id": "a44af98d-ed72-43f3-a0be-a530a04851ba",
   "metadata": {},
   "outputs": [
    {
     "name": "stdout",
     "output_type": "stream",
     "text": [
      "5\n"
     ]
    }
   ],
   "source": [
    "print(a[-2])"
   ]
  },
  {
   "cell_type": "code",
   "execution_count": 139,
   "id": "a59a486e-e82a-4cf0-8ac9-a6b572fce6f6",
   "metadata": {},
   "outputs": [
    {
     "name": "stdout",
     "output_type": "stream",
     "text": [
      "6\n"
     ]
    }
   ],
   "source": [
    "print(a[-1])"
   ]
  },
  {
   "cell_type": "markdown",
   "id": "ae30c000-8557-4c06-955d-eafd1492208e",
   "metadata": {},
   "source": [
    "##  튜플~"
   ]
  },
  {
   "cell_type": "code",
   "execution_count": 194,
   "id": "b36b052a-1ffb-4829-96b5-4c2fa350db28",
   "metadata": {},
   "outputs": [
    {
     "name": "stdout",
     "output_type": "stream",
     "text": [
      "() <class 'tuple'>\n",
      "() <class 'tuple'>\n"
     ]
    }
   ],
   "source": [
    "my_car = tuple()\n",
    "my_fruits = ()\n",
    "\n",
    "print(my_fruits, type(my_fruits))\n",
    "print(my_car, type(my_car))"
   ]
  },
  {
   "cell_type": "code",
   "execution_count": 195,
   "id": "c4345428-f2f1-46e6-b69b-5cfdc4376cfd",
   "metadata": {},
   "outputs": [
    {
     "name": "stdout",
     "output_type": "stream",
     "text": [
      "('orange', 'apple', 'melon') <class 'tuple'>\n"
     ]
    }
   ],
   "source": [
    "my_fruits = ('orange', 'apple','melon')\n",
    "print(my_fruits, type(my_fruits))"
   ]
  },
  {
   "cell_type": "code",
   "execution_count": 196,
   "id": "bef2b2c5-f70b-48d2-a96b-086b87eb4baf",
   "metadata": {},
   "outputs": [
    {
     "data": {
      "text/plain": [
       "0"
      ]
     },
     "execution_count": 196,
     "metadata": {},
     "output_type": "execute_result"
    }
   ],
   "source": [
    "my_fruits.index(my_fruits[0])"
   ]
  },
  {
   "cell_type": "code",
   "execution_count": 197,
   "id": "24e444e4-45bd-4d27-b09a-1777d76a3c89",
   "metadata": {},
   "outputs": [
    {
     "data": {
      "text/plain": [
       "'orange'"
      ]
     },
     "execution_count": 197,
     "metadata": {},
     "output_type": "execute_result"
    }
   ],
   "source": [
    "my_fruits[0]"
   ]
  },
  {
   "cell_type": "code",
   "execution_count": 198,
   "id": "2bdb48a4-10fb-4edd-8786-4d3b0eabf67f",
   "metadata": {},
   "outputs": [
    {
     "data": {
      "text/plain": [
       "1"
      ]
     },
     "execution_count": 198,
     "metadata": {},
     "output_type": "execute_result"
    }
   ],
   "source": [
    "my_fruits.index('apple')"
   ]
  },
  {
   "cell_type": "code",
   "execution_count": 199,
   "id": "c139c33e-25c8-4af3-a51c-19c0c5b25b53",
   "metadata": {},
   "outputs": [
    {
     "ename": "TypeError",
     "evalue": "'tuple' object does not support item assignment",
     "output_type": "error",
     "traceback": [
      "\u001b[1;31m---------------------------------------------------------------------------\u001b[0m",
      "\u001b[1;31mTypeError\u001b[0m                                 Traceback (most recent call last)",
      "\u001b[1;32m~\\AppData\\Local\\Temp/ipykernel_4088/3052802433.py\u001b[0m in \u001b[0;36m<module>\u001b[1;34m\u001b[0m\n\u001b[1;32m----> 1\u001b[1;33m \u001b[0mmy_fruits\u001b[0m\u001b[1;33m[\u001b[0m\u001b[1;36m0\u001b[0m\u001b[1;33m]\u001b[0m \u001b[1;33m=\u001b[0m \u001b[1;34m'banana'\u001b[0m\u001b[1;33m\u001b[0m\u001b[1;33m\u001b[0m\u001b[0m\n\u001b[0m",
      "\u001b[1;31mTypeError\u001b[0m: 'tuple' object does not support item assignment"
     ]
    }
   ],
   "source": [
    "my_fruits[0] = 'banana'"
   ]
  },
  {
   "cell_type": "code",
   "execution_count": 200,
   "id": "24227824-cc33-405d-814c-e1035822d0ed",
   "metadata": {},
   "outputs": [],
   "source": [
    "my_fruits_list = list(my_fruits)"
   ]
  },
  {
   "cell_type": "code",
   "execution_count": 201,
   "id": "a4cac4ef-b7a1-4fb4-ae5c-8eba2d235072",
   "metadata": {},
   "outputs": [
    {
     "name": "stdout",
     "output_type": "stream",
     "text": [
      "<class 'list'>\n",
      "<class 'tuple'>\n"
     ]
    }
   ],
   "source": [
    "print(type(my_fruits_list))\n",
    "print(type(my_fruits))"
   ]
  },
  {
   "cell_type": "code",
   "execution_count": 202,
   "id": "db8d0597-a360-4aa6-8820-c2a406934168",
   "metadata": {},
   "outputs": [],
   "source": [
    "my_fruits_list[0] = 'banana'"
   ]
  },
  {
   "cell_type": "code",
   "execution_count": 203,
   "id": "a990b725-15e6-4452-b255-6dee42306d2f",
   "metadata": {},
   "outputs": [
    {
     "name": "stdout",
     "output_type": "stream",
     "text": [
      "['banana', 'apple', 'melon']\n"
     ]
    }
   ],
   "source": [
    "print(my_fruits_list)"
   ]
  },
  {
   "cell_type": "code",
   "execution_count": 204,
   "id": "c6168fe7-206e-4082-b698-8afd079e2942",
   "metadata": {},
   "outputs": [],
   "source": [
    "my_fruits_list.append('sfad')"
   ]
  },
  {
   "cell_type": "code",
   "execution_count": 205,
   "id": "dcb0b301-527f-4eab-b98d-71187381e8ca",
   "metadata": {},
   "outputs": [
    {
     "name": "stdout",
     "output_type": "stream",
     "text": [
      "['banana', 'apple', 'melon', 'sfad']\n"
     ]
    }
   ],
   "source": [
    "print(my_fruits_list)"
   ]
  },
  {
   "cell_type": "code",
   "execution_count": 206,
   "id": "3a46d70c-b90d-406a-aa5f-d9dae6257bd1",
   "metadata": {},
   "outputs": [
    {
     "name": "stdout",
     "output_type": "stream",
     "text": [
      "False\n"
     ]
    }
   ],
   "source": [
    "print('afds' in my_fruits_list)"
   ]
  },
  {
   "cell_type": "code",
   "execution_count": 207,
   "id": "63f5a60c-5f13-408e-8fc5-f4266a657ec4",
   "metadata": {},
   "outputs": [],
   "source": [
    "my_fruits_tuple = tuple(my_fruits_list)"
   ]
  },
  {
   "cell_type": "code",
   "execution_count": 208,
   "id": "5cd1a2b3-0fb9-4d13-854a-f24863a176bc",
   "metadata": {},
   "outputs": [
    {
     "name": "stdout",
     "output_type": "stream",
     "text": [
      "<class 'tuple'>\n"
     ]
    }
   ],
   "source": [
    "print(type(my_fruits_tuple))"
   ]
  },
  {
   "cell_type": "code",
   "execution_count": 209,
   "id": "a428e150-e086-49a7-93fa-5be7ac095dde",
   "metadata": {},
   "outputs": [
    {
     "ename": "AttributeError",
     "evalue": "'tuple' object has no attribute 'append'",
     "output_type": "error",
     "traceback": [
      "\u001b[1;31m---------------------------------------------------------------------------\u001b[0m",
      "\u001b[1;31mAttributeError\u001b[0m                            Traceback (most recent call last)",
      "\u001b[1;32m~\\AppData\\Local\\Temp/ipykernel_4088/119327396.py\u001b[0m in \u001b[0;36m<module>\u001b[1;34m\u001b[0m\n\u001b[1;32m----> 1\u001b[1;33m \u001b[0mmy_fruits_tuple\u001b[0m\u001b[1;33m.\u001b[0m\u001b[0mappend\u001b[0m\u001b[1;33m(\u001b[0m\u001b[1;34m'adsd'\u001b[0m\u001b[1;33m)\u001b[0m\u001b[1;33m\u001b[0m\u001b[1;33m\u001b[0m\u001b[0m\n\u001b[0m",
      "\u001b[1;31mAttributeError\u001b[0m: 'tuple' object has no attribute 'append'"
     ]
    }
   ],
   "source": [
    "my_fruits_tuple.append('adsd')"
   ]
  },
  {
   "cell_type": "code",
   "execution_count": 210,
   "id": "84c0532d-29e0-41df-b1bf-d766e7caeda6",
   "metadata": {},
   "outputs": [
    {
     "data": {
      "text/plain": [
       "1"
      ]
     },
     "execution_count": 210,
     "metadata": {},
     "output_type": "execute_result"
    }
   ],
   "source": [
    "my_fruits_tuple.count('apple')"
   ]
  },
  {
   "cell_type": "code",
   "execution_count": 211,
   "id": "3d9ba459-0a44-429c-b0ab-49dd48920750",
   "metadata": {},
   "outputs": [],
   "source": [
    "my_fruits_list.append('apple')"
   ]
  },
  {
   "cell_type": "code",
   "execution_count": 212,
   "id": "49d6abe9-1100-40d0-9247-30956cbc2229",
   "metadata": {},
   "outputs": [
    {
     "data": {
      "text/plain": [
       "2"
      ]
     },
     "execution_count": 212,
     "metadata": {},
     "output_type": "execute_result"
    }
   ],
   "source": [
    "my_fruits_list.count('apple')"
   ]
  },
  {
   "cell_type": "code",
   "execution_count": 213,
   "id": "ccf0f8de-84a8-4ceb-b57f-e1e50d7438ab",
   "metadata": {},
   "outputs": [
    {
     "name": "stdout",
     "output_type": "stream",
     "text": [
      "['banana', 'apple', 'melon', 'sfad', 'apple']\n"
     ]
    }
   ],
   "source": [
    "print(my_fruits_list)"
   ]
  },
  {
   "cell_type": "code",
   "execution_count": 214,
   "id": "5606e703-99e7-4be1-a196-8dc70ae2fcc3",
   "metadata": {},
   "outputs": [
    {
     "data": {
      "text/plain": [
       "0"
      ]
     },
     "execution_count": 214,
     "metadata": {},
     "output_type": "execute_result"
    }
   ],
   "source": [
    "my_fruits_list.count(2)"
   ]
  },
  {
   "cell_type": "markdown",
   "id": "ee93e889-fe54-4a66-b28f-41f094b2663f",
   "metadata": {},
   "source": [
    "##  set~"
   ]
  },
  {
   "cell_type": "code",
   "execution_count": 215,
   "id": "02f9d58a-ec2a-45db-bc4d-0b7fdacdcdbc",
   "metadata": {},
   "outputs": [
    {
     "name": "stdout",
     "output_type": "stream",
     "text": [
      "set() <class 'set'>\n",
      "{'rambo'} <class 'set'>\n"
     ]
    }
   ],
   "source": [
    "my_fruits = set()\n",
    "my_car = set()\n",
    "\n",
    "my_car.add('rambo')\n",
    "my_car.add('rambo')\n",
    "\n",
    "print(my_fruits, type(my_fruits))\n",
    "print(my_car, type(my_fruits))"
   ]
  },
  {
   "cell_type": "code",
   "execution_count": 216,
   "id": "483e47e4-88cc-4c94-adc6-91d88d297c37",
   "metadata": {},
   "outputs": [
    {
     "name": "stdout",
     "output_type": "stream",
     "text": [
      "<class 'set'>\n"
     ]
    }
   ],
   "source": [
    "my_ex = { '1', '2', '3'}\n",
    "print(type(my_ex))"
   ]
  },
  {
   "cell_type": "code",
   "execution_count": 217,
   "id": "9673d43e-e60e-46d2-9e9b-0fdd28aac826",
   "metadata": {},
   "outputs": [
    {
     "ename": "TypeError",
     "evalue": "set.add() takes exactly one argument (2 given)",
     "output_type": "error",
     "traceback": [
      "\u001b[1;31m---------------------------------------------------------------------------\u001b[0m",
      "\u001b[1;31mTypeError\u001b[0m                                 Traceback (most recent call last)",
      "\u001b[1;32m~\\AppData\\Local\\Temp/ipykernel_4088/2737500863.py\u001b[0m in \u001b[0;36m<module>\u001b[1;34m\u001b[0m\n\u001b[1;32m----> 1\u001b[1;33m \u001b[0mmy_car\u001b[0m\u001b[1;33m.\u001b[0m\u001b[0madd\u001b[0m\u001b[1;33m(\u001b[0m\u001b[1;34m'bmw'\u001b[0m\u001b[1;33m,\u001b[0m\u001b[1;34m'morning'\u001b[0m\u001b[1;33m)\u001b[0m\u001b[1;33m\u001b[0m\u001b[1;33m\u001b[0m\u001b[0m\n\u001b[0m",
      "\u001b[1;31mTypeError\u001b[0m: set.add() takes exactly one argument (2 given)"
     ]
    }
   ],
   "source": [
    "my_car.add('bmw','morning')"
   ]
  },
  {
   "cell_type": "code",
   "execution_count": 218,
   "id": "ad96c963-f4aa-4b3d-b9e8-55d47a24535b",
   "metadata": {},
   "outputs": [],
   "source": [
    "my_car.add('bmw')\n",
    "my_car.add('tico')\n",
    "my_car.add('morning')\n"
   ]
  },
  {
   "cell_type": "code",
   "execution_count": 219,
   "id": "0a933edc-2586-4bc9-a507-df816199c4cf",
   "metadata": {},
   "outputs": [
    {
     "name": "stdout",
     "output_type": "stream",
     "text": [
      "{'tico', 'morning', 'rambo', 'bmw'}\n"
     ]
    }
   ],
   "source": [
    "print(my_car)"
   ]
  },
  {
   "cell_type": "code",
   "execution_count": 220,
   "id": "64ca562b-44c7-4030-890e-0d6151c4c14d",
   "metadata": {},
   "outputs": [
    {
     "ename": "TypeError",
     "evalue": "'set' object is not subscriptable",
     "output_type": "error",
     "traceback": [
      "\u001b[1;31m---------------------------------------------------------------------------\u001b[0m",
      "\u001b[1;31mTypeError\u001b[0m                                 Traceback (most recent call last)",
      "\u001b[1;32m~\\AppData\\Local\\Temp/ipykernel_4088/3785136237.py\u001b[0m in \u001b[0;36m<module>\u001b[1;34m\u001b[0m\n\u001b[1;32m----> 1\u001b[1;33m \u001b[0mprint\u001b[0m\u001b[1;33m(\u001b[0m\u001b[0mmy_car\u001b[0m\u001b[1;33m[\u001b[0m\u001b[1;36m0\u001b[0m\u001b[1;33m]\u001b[0m\u001b[1;33m)\u001b[0m\u001b[1;33m\u001b[0m\u001b[1;33m\u001b[0m\u001b[0m\n\u001b[0m",
      "\u001b[1;31mTypeError\u001b[0m: 'set' object is not subscriptable"
     ]
    }
   ],
   "source": [
    "print(my_car[0])"
   ]
  },
  {
   "cell_type": "code",
   "execution_count": 221,
   "id": "b5c61b92-4c1f-4a4e-841e-f9c540527b34",
   "metadata": {},
   "outputs": [
    {
     "name": "stdout",
     "output_type": "stream",
     "text": [
      "True\n"
     ]
    }
   ],
   "source": [
    "print('tico' in my_car)"
   ]
  },
  {
   "cell_type": "code",
   "execution_count": 222,
   "id": "5cb3fb9b-dd0c-435a-84ac-1d73b0086f27",
   "metadata": {},
   "outputs": [
    {
     "name": "stdout",
     "output_type": "stream",
     "text": [
      "False\n"
     ]
    }
   ],
   "source": [
    "print('afd' in my_car)"
   ]
  },
  {
   "cell_type": "code",
   "execution_count": 223,
   "id": "c5654930-08ef-4239-9539-9c0053c592cb",
   "metadata": {},
   "outputs": [
    {
     "name": "stdout",
     "output_type": "stream",
     "text": [
      "{'tico', 'morning', 'bmw'}\n"
     ]
    }
   ],
   "source": [
    "my_car.remove('rambo')\n",
    "print(my_car)"
   ]
  },
  {
   "cell_type": "code",
   "execution_count": 225,
   "id": "1a687829-924f-4850-9dae-8a7821645049",
   "metadata": {},
   "outputs": [
    {
     "name": "stdout",
     "output_type": "stream",
     "text": [
      "{'tico', 'morning', 'bmw'}\n"
     ]
    }
   ],
   "source": [
    "my_car.discard('adfs')\n",
    "print(my_car)"
   ]
  },
  {
   "cell_type": "markdown",
   "id": "925f5e86-9d1c-45cd-a32f-3dafb1e4ed3c",
   "metadata": {},
   "source": [
    "####  리스트에 점수 추가 예시"
   ]
  },
  {
   "cell_type": "code",
   "execution_count": 226,
   "id": "43838fed-d30c-4886-9fb4-7200caecb5b9",
   "metadata": {},
   "outputs": [],
   "source": [
    "score_list = []"
   ]
  },
  {
   "cell_type": "code",
   "execution_count": 234,
   "id": "6c2436e9-3cd3-482a-b94b-bfa16538aa19",
   "metadata": {},
   "outputs": [
    {
     "name": "stdin",
     "output_type": "stream",
     "text": [
      "점수를 주세요 93\n"
     ]
    }
   ],
   "source": [
    "score = int(input('점수를 주세요'))"
   ]
  },
  {
   "cell_type": "code",
   "execution_count": 235,
   "id": "bc7bdd8d-5906-43c5-872f-84e3238a6468",
   "metadata": {},
   "outputs": [],
   "source": [
    "score_list.append(score)"
   ]
  },
  {
   "cell_type": "code",
   "execution_count": 236,
   "id": "04149be5-a990-4469-8d31-c3343f944adb",
   "metadata": {},
   "outputs": [
    {
     "name": "stdout",
     "output_type": "stream",
     "text": [
      "[84, 93, 93]\n"
     ]
    }
   ],
   "source": [
    "print(score_list)"
   ]
  },
  {
   "cell_type": "code",
   "execution_count": 239,
   "id": "629dea7e-63c5-415b-afc3-32be54259483",
   "metadata": {},
   "outputs": [
    {
     "name": "stdin",
     "output_type": "stream",
     "text": [
      "이건 문자가 들어가나 54\n"
     ]
    }
   ],
   "source": [
    "score2 = input('이건 문자가 들어가나')"
   ]
  },
  {
   "cell_type": "code",
   "execution_count": 240,
   "id": "b64f8dff-9476-4dc6-a855-8327253ee191",
   "metadata": {},
   "outputs": [],
   "source": [
    "score_list.append(score2)"
   ]
  },
  {
   "cell_type": "code",
   "execution_count": 241,
   "id": "20d12a46-3654-49e5-945a-45a08d2667e1",
   "metadata": {},
   "outputs": [
    {
     "name": "stdout",
     "output_type": "stream",
     "text": [
      "54\n"
     ]
    }
   ],
   "source": [
    "print(score2)"
   ]
  },
  {
   "cell_type": "code",
   "execution_count": 257,
   "id": "1cf3f483-135d-4540-a381-8fe4deeac359",
   "metadata": {},
   "outputs": [],
   "source": [
    "score_list = list()"
   ]
  },
  {
   "cell_type": "code",
   "execution_count": 258,
   "id": "4a283f4e-4ea3-4324-835e-c914b861d2eb",
   "metadata": {},
   "outputs": [
    {
     "name": "stdin",
     "output_type": "stream",
     "text": [
      "점수를 주세요 34\n",
      "점수를 주세요 34\n",
      "점수를 주세요 3\n",
      "점수를 주세요 43\n",
      "점수를 주세요 2\n"
     ]
    }
   ],
   "source": [
    "for i in range(5):\n",
    "    score = int(input('점수를 주세요'))\n",
    "    score_list.append(score)"
   ]
  },
  {
   "cell_type": "code",
   "execution_count": 259,
   "id": "4e45b255-f540-4da6-b6a1-1ecc8617bd1d",
   "metadata": {},
   "outputs": [
    {
     "name": "stdout",
     "output_type": "stream",
     "text": [
      "[34, 34, 3, 43, 2]\n"
     ]
    }
   ],
   "source": [
    "print(score_list)"
   ]
  },
  {
   "cell_type": "code",
   "execution_count": null,
   "id": "3576f16e-80c5-41de-aa1d-c3b9117f0096",
   "metadata": {},
   "outputs": [],
   "source": [
    "score_list = []"
   ]
  },
  {
   "cell_type": "markdown",
   "id": "42eb8062-ba0b-490e-9d6a-5d17011ca3d2",
   "metadata": {},
   "source": [
    "# 점심시간 과제! "
   ]
  },
  {
   "cell_type": "markdown",
   "id": "e65e92d1-5c6f-4204-a2c9-cb1e0af4dd6a",
   "metadata": {
    "tags": []
   },
   "source": [
    "input에 쓸수 있는 게 몇번째 점수를 입력하세요. x= input('%d ddd' %n).\n",
    "\n",
    "5명점수를 입력받을때\n",
    "1번째 학생의 점수를 입력하세요. enter\n",
    "2 ...\n",
    "\n",
    "5번째까지 받아서 리스트에 추가.\n",
    "\n",
    "5명의 학생들의 점수의 총합. \n",
    "\n",
    "되면 학생수를 입력하세요 해서 학생수 까지 가변적이게."
   ]
  },
  {
   "cell_type": "code",
   "execution_count": 282,
   "id": "f4aa3e37-0a05-4217-8fed-c1831c2963c2",
   "metadata": {},
   "outputs": [
    {
     "name": "stdin",
     "output_type": "stream",
     "text": [
      "1번째 학생의 점수를 입력하세요 1\n",
      "2번째 학생의 점수를 입력하세요 2\n",
      "3번째 학생의 점수를 입력하세요 3\n",
      "4번째 학생의 점수를 입력하세요 4\n",
      "5번째 학생의 점수를 입력하세요 5\n"
     ]
    },
    {
     "name": "stdout",
     "output_type": "stream",
     "text": [
      "[1, 2, 3, 4, 5]\n",
      "15\n"
     ]
    }
   ],
   "source": [
    "score_list = []\n",
    "add = 0\n",
    "              \n",
    "for i in range(5) :\n",
    "    score = int(input('%d번째 학생의 점수를 입력하세요' %(i+1)))\n",
    "                \n",
    "    score_list.append(score)\n",
    "    add = add+score\n",
    "    \n",
    "print(score_list)\n",
    "print(add)"
   ]
  },
  {
   "cell_type": "code",
   "execution_count": 4,
   "id": "9235ae37-8de4-4e08-8d2b-4f9d5e990763",
   "metadata": {},
   "outputs": [
    {
     "name": "stdin",
     "output_type": "stream",
     "text": [
      "학생수를 정해주세요. 4\n",
      "1번째 학생의 점수를 입력하세요 30\n",
      "2번째 학생의 점수를 입력하세요 50\n",
      "3번째 학생의 점수를 입력하세요 40\n",
      "4번째 학생의 점수를 입력하세요 20\n"
     ]
    },
    {
     "name": "stdout",
     "output_type": "stream",
     "text": [
      "[30, 50, 40, 20]\n",
      "140\n"
     ]
    }
   ],
   "source": [
    "score_list = []\n",
    "add = 0\n",
    "stu = int(input('학생수를 정해주세요.'))\n",
    "              \n",
    "for i in range(stu) :\n",
    "    score = int(input('%d번째 학생의 점수를 입력하세요' %(i+1)))\n",
    "                \n",
    "    score_list.append(score)\n",
    "    add = add+score\n",
    "    \n",
    "print(score_list)\n",
    "print(add)"
   ]
  },
  {
   "cell_type": "code",
   "execution_count": 7,
   "id": "15f349ec-a13b-4f57-a3a6-86c3df16194e",
   "metadata": {},
   "outputs": [
    {
     "name": "stdout",
     "output_type": "stream",
     "text": [
      "1번째 학생의 점수는 30입니다.\n",
      "2번째 학생의 점수는 50입니다.\n",
      "3번째 학생의 점수는 40입니다.\n",
      "4번째 학생의 점수는 20입니다.\n"
     ]
    }
   ],
   "source": [
    "for i in range(stu) :\n",
    "    \n",
    "    print('%s번째 학생의 점수는 %s입니다.' %((i+1) , score_list[i]))"
   ]
  },
  {
   "cell_type": "code",
   "execution_count": 8,
   "id": "58948a92-ac0e-4c3f-a0e7-42ca13fb7d11",
   "metadata": {},
   "outputs": [
    {
     "name": "stdout",
     "output_type": "stream",
     "text": [
      "1번째 학생의 점수는 30입니다.\n",
      "2번째 학생의 점수는 50입니다.\n",
      "3번째 학생의 점수는 40입니다.\n",
      "4번째 학생의 점수는 20입니다.\n"
     ]
    }
   ],
   "source": [
    "for i in range(stu) :\n",
    "    \n",
    "    print('%d번째 학생의 점수는 %d입니다.' %((i+1) , score_list[i]))"
   ]
  },
  {
   "cell_type": "code",
   "execution_count": 46,
   "id": "3cf66e31-96d2-4915-be75-54f559090074",
   "metadata": {},
   "outputs": [
    {
     "name": "stdin",
     "output_type": "stream",
     "text": [
      "학생수는 몇명인가요? 5\n",
      "1번째 학생의 점수를 입력하세요 50\n",
      "2번째 학생의 점수를 입력하세요 30\n",
      "3번째 학생의 점수를 입력하세요 60\n",
      "4번째 학생의 점수를 입력하세요 40\n",
      "5번째 학생의 점수를 입력하세요 30\n"
     ]
    },
    {
     "name": "stdout",
     "output_type": "stream",
     "text": [
      "[50, 30, 60, 40, 30]\n",
      "210\n"
     ]
    }
   ],
   "source": [
    "score_list1 = []\n",
    "add1 = 0\n",
    "i = 0\n",
    "stu1 = int(input('학생수는 몇명인가요?'))\n",
    "\n",
    "while i < stu1 :\n",
    "    score1 = int(input('%d번째 학생의 점수를 입력하세요' %(i+1)))\n",
    "                \n",
    "    score_list1.append(score1)\n",
    "    add1 = add1+score1\n",
    "    \n",
    "    i = i + 1\n",
    "    \n",
    "print(score_list1)\n",
    "print(add1)"
   ]
  },
  {
   "cell_type": "code",
   "execution_count": 48,
   "id": "6f78afd7-aa13-41d0-8c01-375b395fb730",
   "metadata": {},
   "outputs": [
    {
     "name": "stdout",
     "output_type": "stream",
     "text": [
      "1번째 학생의 점수는 50입니다.\n",
      "2번째 학생의 점수는 30입니다.\n",
      "3번째 학생의 점수는 60입니다.\n",
      "4번째 학생의 점수는 40입니다.\n",
      "5번째 학생의 점수는 30입니다.\n"
     ]
    }
   ],
   "source": [
    "i = 0\n",
    "while i < stu1 :\n",
    "\n",
    "    print('%d번째 학생의 점수는 %d입니다.' %((i+1) , score_list1[i]))\n",
    "    i = i+1"
   ]
  },
  {
   "cell_type": "code",
   "execution_count": 47,
   "id": "f6f1e120-1b2d-438e-a131-d27523781d2f",
   "metadata": {},
   "outputs": [
    {
     "name": "stdout",
     "output_type": "stream",
     "text": [
      "1번째 학생의 점수는 50입니다.\n",
      "2번째 학생의 점수는 30입니다.\n",
      "3번째 학생의 점수는 60입니다.\n",
      "4번째 학생의 점수는 40입니다.\n",
      "5번째 학생의 점수는 30입니다.\n"
     ]
    }
   ],
   "source": [
    "i = 0\n",
    "for i in range(stu1) :\n",
    "    \n",
    "    print('%d번째 학생의 점수는 %d입니다.' %((i+1) , score_list1[i]))"
   ]
  },
  {
   "cell_type": "code",
   "execution_count": 63,
   "id": "4d9eda9e-52ab-4195-aaa1-66d0c4740612",
   "metadata": {},
   "outputs": [
    {
     "name": "stdin",
     "output_type": "stream",
     "text": [
      "학생수를 정해주세요. 2\n",
      "1번째 학생의 점수를 입력하세요 1001\n"
     ]
    },
    {
     "name": "stdout",
     "output_type": "stream",
     "text": [
      "잘못된 점수입니다.\n"
     ]
    },
    {
     "name": "stdin",
     "output_type": "stream",
     "text": [
      "2번째 학생의 점수를 입력하세요 39\n"
     ]
    },
    {
     "name": "stdout",
     "output_type": "stream",
     "text": [
      "[39]\n",
      "39\n"
     ]
    }
   ],
   "source": [
    "score_list = []\n",
    "add = 0\n",
    "stu = int(input('학생수를 정해주세요.'))\n",
    "              \n",
    "for i in range(stu) :\n",
    "    score = int(input('%d번째 학생의 점수를 입력하세요' %(i+1)))\n",
    "    if (score > 100 or score < 0) :\n",
    "        print('잘못된 점수입니다.')\n",
    "        \n",
    "    elif score > 0 and 100 > score :\n",
    "        score_list.append(score)\n",
    "        add = add+score\n",
    "    \n",
    "print(score_list)\n",
    "print(add)"
   ]
  },
  {
   "cell_type": "code",
   "execution_count": 65,
   "id": "a2a25016-9adb-47c0-9e11-641f96480053",
   "metadata": {},
   "outputs": [
    {
     "name": "stdin",
     "output_type": "stream",
     "text": [
      "학생수를 정해주세요. 3\n",
      "1번째 학생의 점수를 입력하세요 2313\n"
     ]
    },
    {
     "name": "stdout",
     "output_type": "stream",
     "text": [
      "잘못된 점수입니다.\n"
     ]
    },
    {
     "name": "stdin",
     "output_type": "stream",
     "text": [
      "2번째 학생의 점수를 입력하세요 23\n",
      "3번째 학생의 점수를 입력하세요 13\n"
     ]
    },
    {
     "name": "stdout",
     "output_type": "stream",
     "text": [
      "[23, 13]\n",
      "학생 점수의 총합은 36점 입니다.\n"
     ]
    }
   ],
   "source": [
    "score_list = []\n",
    "add = 0\n",
    "stu = int(input('학생수를 정해주세요.'))\n",
    "              \n",
    "for i in range(stu) :\n",
    "    score = int(input('%d번째 학생의 점수를 입력하세요' %(i+1)))\n",
    "    if score > 100  :\n",
    "        print('잘못된 점수입니다.')\n",
    "        \n",
    "    elif score > 0 and 100 > score :\n",
    "        score_list.append(score)\n",
    "        add = add+score\n",
    "    \n",
    "print(score_list)\n",
    "print('학생 점수의 총합은 %d점 입니다.' %add)"
   ]
  },
  {
   "cell_type": "code",
   "execution_count": null,
   "id": "81228811-c242-44ff-a2f3-5e173fb3c5ec",
   "metadata": {},
   "outputs": [],
   "source": []
  }
 ],
 "metadata": {
  "kernelspec": {
   "display_name": "Python 3 (ipykernel)",
   "language": "python",
   "name": "python3"
  },
  "language_info": {
   "codemirror_mode": {
    "name": "ipython",
    "version": 3
   },
   "file_extension": ".py",
   "mimetype": "text/x-python",
   "name": "python",
   "nbconvert_exporter": "python",
   "pygments_lexer": "ipython3",
   "version": "3.9.7"
  }
 },
 "nbformat": 4,
 "nbformat_minor": 5
}
