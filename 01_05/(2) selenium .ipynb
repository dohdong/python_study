{
 "cells": [
  {
   "cell_type": "markdown",
   "id": "e801204e-0aec-47bc-b31e-752c5c2a8218",
   "metadata": {},
   "source": [
    "html, css, java script 인데\n",
    "\n",
    "자바에서는 동작을 하므로 뷰티풀숲으로 Crawliing 이 안됨.\n",
    "\n",
    "그래서 Selenium으로 해야함."
   ]
  },
  {
   "cell_type": "markdown",
   "id": "522dc27c-4f8b-466f-a7fe-8fc85a42c59f",
   "metadata": {
    "tags": []
   },
   "source": [
    "!pip install selenium"
   ]
  },
  {
   "cell_type": "markdown",
   "id": "e90be54e-f015-4095-90e2-7f4becd2d7a0",
   "metadata": {},
   "source": [
    "naver 키보드 입력하지 않고 로그인 (근데 자동입력방지 나옴)"
   ]
  },
  {
   "cell_type": "code",
   "execution_count": 43,
   "id": "88352726-7cb6-4ca3-9a18-1a95da1cbd18",
   "metadata": {},
   "outputs": [
    {
     "name": "stderr",
     "output_type": "stream",
     "text": [
      "C:\\Users\\BIT\\AppData\\Local\\Temp/ipykernel_7344/2020399645.py:2: DeprecationWarning: executable_path has been deprecated, please pass in a Service object\n",
      "  driver = webdriver.Chrome('driver/chromedriver')\n",
      "C:\\Users\\BIT\\AppData\\Local\\Temp/ipykernel_7344/2020399645.py:5: DeprecationWarning: find_element_by_* commands are deprecated. Please use find_element() instead\n",
      "  elem_login = driver.find_element_by_id(\"id\") #근데 이게 왜 이렇게 되는지 모르겠음.\n",
      "C:\\Users\\BIT\\AppData\\Local\\Temp/ipykernel_7344/2020399645.py:10: DeprecationWarning: find_element_by_* commands are deprecated. Please use find_element() instead\n",
      "  elem_login = driver.find_element_by_id(\"pw\")\n",
      "C:\\Users\\BIT\\AppData\\Local\\Temp/ipykernel_7344/2020399645.py:16: DeprecationWarning: find_element_by_* commands are deprecated. Please use find_element() instead\n",
      "  driver.find_element_by_xpath(xpath).click()\n"
     ]
    }
   ],
   "source": [
    "from selenium import webdriver\n",
    "driver = webdriver.Chrome('driver/chromedriver')\n",
    "driver.get('https://nid.naver.com/nidlogin.login?mode=form&url=https%3A%2F%2Fwww.naver.com')\n",
    "\n",
    "elem_login = driver.find_element_by_id(\"id\") #근데 이게 왜 이렇게 되는지 모르겠음.\n",
    "elem_login.clear()\n",
    "elem_login.send_keys('goodstar7369')\n",
    "\n",
    "\n",
    "elem_login = driver.find_element_by_id(\"pw\")\n",
    "elem_login.clear()\n",
    "elem_login.send_keys(\"\")\n",
    "\n",
    "xpath = \"\"\"//*[@id=\"log.login\"]/span\"\"\"\n",
    "# xpath = \"\"\"//*[@id=\"frmNIDLogin\"]/fieldset/input\"\"\"\n",
    "driver.find_element_by_xpath(xpath).click()"
   ]
  },
  {
   "cell_type": "code",
   "execution_count": 38,
   "id": "7cf51702-99b8-4360-84e5-3a97d7499b91",
   "metadata": {},
   "outputs": [
    {
     "name": "stderr",
     "output_type": "stream",
     "text": [
      "C:\\Users\\BIT\\AppData\\Local\\Temp/ipykernel_7344/2495461501.py:6: DeprecationWarning: executable_path has been deprecated, please pass in a Service object\n",
      "  driver = webdriver.Chrome('driver/chromedriver')\n",
      "C:\\Users\\BIT\\AppData\\Local\\Temp/ipykernel_7344/2495461501.py:12: DeprecationWarning: find_element_by_* commands are deprecated. Please use find_element() instead\n",
      "  search_box = driver.find_element_by_xpath('/html/body/div[1]/div[3]/form/div[1]/div[1]/div[1]/div[2]/div[2]/input')\n"
     ]
    }
   ],
   "source": [
    "from selenium import webdriver\n",
    "from selenium.webdriver.common.keys import Keys\n",
    "from time import sleep\n",
    "\n",
    "\n",
    "driver = webdriver.Chrome('driver/chromedriver') \n",
    "driver.implicitly_wait(10)\n",
    "\n",
    "driver.get(url='https://www.google.com/')\n",
    "\n",
    "\n",
    "search_box = driver.find_element_by_xpath('/html/body/div[1]/div[3]/form/div[1]/div[1]/div[1]/div[2]/div[2]/input')\n",
    "\n",
    "search_box.send_keys('BTS')\n",
    "search_box.send_keys(Keys.RETURN)\n"
   ]
  },
  {
   "cell_type": "code",
   "execution_count": null,
   "id": "5883b63e-b6b9-4064-b18e-cf8daadb37b1",
   "metadata": {},
   "outputs": [],
   "source": [
    "/html/body/div[1]/div[3]/form/div[1]/div[1]/div[1]/div[2]/div[2]/input"
   ]
  },
  {
   "cell_type": "code",
   "execution_count": 54,
   "id": "ce8d2927-1f35-4e09-8165-50b51db42d95",
   "metadata": {},
   "outputs": [
    {
     "name": "stderr",
     "output_type": "stream",
     "text": [
      "C:\\Users\\BIT\\AppData\\Local\\Temp/ipykernel_7344/850981079.py:8: DeprecationWarning: executable_path has been deprecated, please pass in a Service object\n",
      "  driver = webdriver.Chrome('driver/chromedriver')\n",
      "C:\\Users\\BIT\\AppData\\Local\\Temp/ipykernel_7344/850981079.py:11: DeprecationWarning: find_element_by_* commands are deprecated. Please use find_element() instead\n",
      "  content = driver.find_element_by_css_selector('a')\n"
     ]
    }
   ],
   "source": [
    "from selenium import webdriver\n",
    "\n",
    "\n",
    "options = webdriver.ChromeOptions()\n",
    "\n",
    "\n",
    "\n",
    "driver = webdriver.Chrome('driver/chromedriver')\n",
    "driver.get(\"https://www.naver.com\")\n",
    "\n",
    "content = driver.find_element_by_css_selector('a')"
   ]
  },
  {
   "cell_type": "markdown",
   "id": "e6038eaf-ff27-43da-bbeb-3715414cbf7d",
   "metadata": {},
   "source": [
    "selenium으로 하는법.. 인데 잘 모르겠다 ㅠㅜ"
   ]
  },
  {
   "cell_type": "code",
   "execution_count": 60,
   "id": "574270c9-6c3e-488a-976f-98a80943123e",
   "metadata": {},
   "outputs": [
    {
     "name": "stderr",
     "output_type": "stream",
     "text": [
      "C:\\Users\\BIT\\AppData\\Local\\Temp/ipykernel_7344/4052317647.py:3: DeprecationWarning: executable_path has been deprecated, please pass in a Service object\n",
      "  driver = webdriver.Chrome('driver/chromedriver')\n",
      "C:\\Users\\BIT\\AppData\\Local\\Temp/ipykernel_7344/4052317647.py:6: DeprecationWarning: find_elements_by_* commands are deprecated. Please use find_elements() instead\n",
      "  data1 = driver.find_elements_by_css_selector('#sp_nws_all1 > div.news_wrap.api_ani_send > div > a')\n"
     ]
    }
   ],
   "source": [
    "from selenium import webdriver\n",
    "\n",
    "driver = webdriver.Chrome('driver/chromedriver') \n",
    "\n",
    "driver.get('https://search.naver.com/search.naver?where=nexearch&sm=top_hty&fbm=1&ie=utf8&query=bts')\n",
    "data1 = driver.find_elements_by_css_selector('#sp_nws_all1 > div.news_wrap.api_ani_send > div > a')\n"
   ]
  },
  {
   "cell_type": "code",
   "execution_count": 61,
   "id": "982e657e-852e-4ee9-a6dd-228e3aa24311",
   "metadata": {
    "tags": []
   },
   "outputs": [
    {
     "name": "stdout",
     "output_type": "stream",
     "text": [
      "[<selenium.webdriver.remote.webelement.WebElement (session=\"f99e0d9c37d7dd9e7e3f92b6a17b33aa\", element=\"0f55a673-3d4a-4414-ac65-55f3bc74d12a\")>]\n"
     ]
    }
   ],
   "source": [
    "print(data1)"
   ]
  },
  {
   "cell_type": "code",
   "execution_count": 62,
   "id": "e798e5b7-d5d2-438f-b666-1d930e4686b0",
   "metadata": {},
   "outputs": [
    {
     "name": "stdout",
     "output_type": "stream",
     "text": [
      "한 벌에 12만원…BTS도 놀란 ‘BTS 잠옷’ 가격\n"
     ]
    }
   ],
   "source": [
    "for i in data1 :\n",
    "    print(i.text)"
   ]
  },
  {
   "cell_type": "code",
   "execution_count": 135,
   "id": "3db5c34f-6506-4fa9-a257-b455a5c7f05c",
   "metadata": {},
   "outputs": [
    {
     "name": "stderr",
     "output_type": "stream",
     "text": [
      "C:\\Users\\BIT\\AppData\\Local\\Temp/ipykernel_7344/3808682140.py:4: DeprecationWarning: executable_path has been deprecated, please pass in a Service object\n",
      "  driver = webdriver.Chrome('driver/chromedriver')\n",
      "C:\\Users\\BIT\\AppData\\Local\\Temp/ipykernel_7344/3808682140.py:6: DeprecationWarning: find_elements_by_* commands are deprecated. Please use find_elements() instead\n",
      "  data2=driver.find_elements_by_css_selector('body > div:nth-child(6) > div:nth-child(1) > div')\n"
     ]
    }
   ],
   "source": [
    "from selenium import webdriver\n",
    "from selenium.webdriver.common.keys import Keys\n",
    "\n",
    "driver = webdriver.Chrome('driver/chromedriver') \n",
    "driver.get('https://fow.kr/ranking#1')\n",
    "data2=driver.find_elements_by_css_selector('body > div:nth-child(6) > div:nth-child(1) > div')"
   ]
  },
  {
   "cell_type": "code",
   "execution_count": 136,
   "id": "78bd3017-b607-45a5-b850-71a19f5c8107",
   "metadata": {},
   "outputs": [
    {
     "name": "stdout",
     "output_type": "stream",
     "text": [
      "[<selenium.webdriver.remote.webelement.WebElement (session=\"55da0a084779ba0a983d0c5dfa281908\", element=\"a72aeb89-7977-4cce-8e83-02a808740268\")>]\n"
     ]
    }
   ],
   "source": [
    "print(data2)"
   ]
  },
  {
   "cell_type": "code",
   "execution_count": 173,
   "id": "534747c9-f945-46fa-9adc-d648dfd19fa9",
   "metadata": {
    "tags": []
   },
   "outputs": [],
   "source": [
    "# for i in data2 :\n",
    "#     print(i.text)"
   ]
  },
  {
   "cell_type": "code",
   "execution_count": 23,
   "id": "f2feea14-8afc-470a-9cf1-d3d696bbb023",
   "metadata": {},
   "outputs": [
    {
     "name": "stdout",
     "output_type": "stream",
     "text": [
      "[1, 2, 3, 4, 5]\n"
     ]
    }
   ],
   "source": [
    "list1 = [1, 2, 3]\n",
    "list2 = [4, 5]\n",
    "\n",
    "list1.extend(list2)\n",
    "\n",
    "print(list1)"
   ]
  },
  {
   "cell_type": "code",
   "execution_count": 24,
   "id": "a2c15fba-9794-4f38-a962-941bb6e89e52",
   "metadata": {},
   "outputs": [
    {
     "name": "stdout",
     "output_type": "stream",
     "text": [
      "5\n"
     ]
    }
   ],
   "source": [
    "print(len(list1))"
   ]
  },
  {
   "cell_type": "code",
   "execution_count": 38,
   "id": "59454bcc-f770-4c9c-b72a-6fb402d51d65",
   "metadata": {
    "tags": []
   },
   "outputs": [
    {
     "name": "stderr",
     "output_type": "stream",
     "text": [
      "C:\\Users\\BIT\\AppData\\Local\\Temp/ipykernel_7880/4283208488.py:5: DeprecationWarning: executable_path has been deprecated, please pass in a Service object\n",
      "  driver = webdriver.Chrome('driver/chromedriver')\n",
      "C:\\Users\\BIT\\AppData\\Local\\Temp/ipykernel_7880/4283208488.py:14: DeprecationWarning: find_elements_by_* commands are deprecated. Please use find_elements() instead\n",
      "  data2.extend(driver.find_elements_by_css_selector('body > div:nth-child(6) > div:nth-child(1) > div'))\n",
      "C:\\Users\\BIT\\AppData\\Local\\Temp/ipykernel_7880/4283208488.py:16: DeprecationWarning: find_element_by_* commands are deprecated. Please use find_element() instead\n",
      "  driver.find_element_by_xpath(xpath).click()\n"
     ]
    }
   ],
   "source": [
    "from selenium import webdriver\n",
    "from selenium.webdriver.common.keys import Keys\n",
    "from time import sleep\n",
    "\n",
    "driver = webdriver.Chrome('driver/chromedriver') \n",
    "\n",
    "data2 = list()\n",
    "\n",
    "driver.get('https://fow.kr/ranking')\n",
    "xpath = \"\"\"/html/body/div[4]/div[1]/div/input[4]\"\"\"\n",
    "\n",
    "for i in range(2) :\n",
    "    \n",
    "    data2.extend(driver.find_elements_by_css_selector('body > div:nth-child(6) > div:nth-child(1) > div'))\n",
    "    if len(data2) != 0 :\n",
    "        driver.find_element_by_xpath(xpath).click()\n",
    "    \n"
   ]
  },
  {
   "cell_type": "code",
   "execution_count": 36,
   "id": "52821030-e14f-4f99-aff0-9cea5ff0b9f3",
   "metadata": {},
   "outputs": [
    {
     "name": "stdout",
     "output_type": "stream",
     "text": [
      "[<selenium.webdriver.remote.webelement.WebElement (session=\"b411e665dfb9837931369be9bd1091eb\", element=\"9a7750af-7885-4bc8-ad9c-e1cf54390cc7\")>, <selenium.webdriver.remote.webelement.WebElement (session=\"b411e665dfb9837931369be9bd1091eb\", element=\"9a7750af-7885-4bc8-ad9c-e1cf54390cc7\")>]\n"
     ]
    }
   ],
   "source": [
    "print(data2)"
   ]
  },
  {
   "cell_type": "code",
   "execution_count": 40,
   "id": "24ad41c0-80c5-4536-948d-aa36bc70bb0d",
   "metadata": {
    "tags": []
   },
   "outputs": [],
   "source": [
    "# for i in data2 :\n",
    "#     print(i.text)"
   ]
  },
  {
   "cell_type": "code",
   "execution_count": 11,
   "id": "dd5c2695-4712-4a0e-8632-e31228fe2547",
   "metadata": {},
   "outputs": [
    {
     "name": "stderr",
     "output_type": "stream",
     "text": [
      "C:\\Users\\BIT\\AppData\\Local\\Temp/ipykernel_7880/3063759497.py:5: DeprecationWarning: executable_path has been deprecated, please pass in a Service object\n",
      "  driver = webdriver.Chrome('driver/chromedriver')\n"
     ]
    },
    {
     "name": "stdout",
     "output_type": "stream",
     "text": [
      "[<selenium.webdriver.remote.webelement.WebElement (session=\"63615dec4aaace913385a855e6e49d7d\", element=\"8fadfe29-ce57-467f-b6f9-ff22d79e12b7\")>]\n",
      "[<selenium.webdriver.remote.webelement.WebElement (session=\"63615dec4aaace913385a855e6e49d7d\", element=\"8fadfe29-ce57-467f-b6f9-ff22d79e12b7\")>, <selenium.webdriver.remote.webelement.WebElement (session=\"63615dec4aaace913385a855e6e49d7d\", element=\"8fadfe29-ce57-467f-b6f9-ff22d79e12b7\")>]\n"
     ]
    },
    {
     "name": "stderr",
     "output_type": "stream",
     "text": [
      "C:\\Users\\BIT\\AppData\\Local\\Temp/ipykernel_7880/3063759497.py:14: DeprecationWarning: find_elements_by_* commands are deprecated. Please use find_elements() instead\n",
      "  data3.extend(driver.find_elements_by_css_selector('body > div:nth-child(6) > div:nth-child(1) > div'))\n",
      "C:\\Users\\BIT\\AppData\\Local\\Temp/ipykernel_7880/3063759497.py:17: DeprecationWarning: find_element_by_* commands are deprecated. Please use find_element() instead\n",
      "  driver.find_element_by_xpath(xpath).click()\n"
     ]
    }
   ],
   "source": [
    "from selenium import webdriver\n",
    "from selenium.webdriver.common.keys import Keys\n",
    "from time import sleep\n",
    "\n",
    "driver = webdriver.Chrome('driver/chromedriver') \n",
    "\n",
    "data3 = list()\n",
    "\n",
    "driver.get('https://fow.kr/ranking')\n",
    "xpath = \"\"\"/html/body/div[4]/div[1]/div/input[4]\"\"\"\n",
    "\n",
    "for i in range(2) :\n",
    "    \n",
    "    data3.extend(driver.find_elements_by_css_selector('body > div:nth-child(6) > div:nth-child(1) > div'))\n",
    "    print(data3)\n",
    "\n",
    "    driver.find_element_by_xpath(xpath).click()"
   ]
  },
  {
   "cell_type": "code",
   "execution_count": 9,
   "id": "6c850e4e-073f-475c-b688-231070719e30",
   "metadata": {},
   "outputs": [
    {
     "name": "stdout",
     "output_type": "stream",
     "text": [
      "[<selenium.webdriver.remote.webelement.WebElement (session=\"8e46a35f1bc01a3a408050b416e19f4a\", element=\"e34e5d2f-b2ec-4c17-8975-0638d6024fd7\")>, <selenium.webdriver.remote.webelement.WebElement (session=\"8e46a35f1bc01a3a408050b416e19f4a\", element=\"e34e5d2f-b2ec-4c17-8975-0638d6024fd7\")>]\n"
     ]
    }
   ],
   "source": [
    "print(data3)"
   ]
  },
  {
   "cell_type": "code",
   "execution_count": 10,
   "id": "beaad23a-a5c6-4072-b791-e1903b0682ea",
   "metadata": {},
   "outputs": [
    {
     "name": "stdout",
     "output_type": "stream",
     "text": [
      "<selenium.webdriver.remote.webelement.WebElement (session=\"8e46a35f1bc01a3a408050b416e19f4a\", element=\"e34e5d2f-b2ec-4c17-8975-0638d6024fd7\")>\n",
      "<selenium.webdriver.remote.webelement.WebElement (session=\"8e46a35f1bc01a3a408050b416e19f4a\", element=\"e34e5d2f-b2ec-4c17-8975-0638d6024fd7\")>\n"
     ]
    }
   ],
   "source": [
    "for i in data3 :\n",
    "    print(i)"
   ]
  },
  {
   "cell_type": "code",
   "execution_count": 12,
   "id": "eb9d5d96-b197-4f1b-b0f7-7e5dcf219939",
   "metadata": {
    "collapsed": true,
    "jupyter": {
     "outputs_hidden": true
    },
    "tags": []
   },
   "outputs": [
    {
     "ename": "TypeError",
     "evalue": "'WebElement' object is not iterable",
     "output_type": "error",
     "traceback": [
      "\u001b[1;31m---------------------------------------------------------------------------\u001b[0m",
      "\u001b[1;31mTypeError\u001b[0m                                 Traceback (most recent call last)",
      "\u001b[1;32m~\\AppData\\Local\\Temp/ipykernel_7880/1396630415.py\u001b[0m in \u001b[0;36m<module>\u001b[1;34m\u001b[0m\n\u001b[0;32m      1\u001b[0m \u001b[1;32mfor\u001b[0m \u001b[0mi\u001b[0m \u001b[1;32min\u001b[0m \u001b[0mdata3\u001b[0m \u001b[1;33m:\u001b[0m  \u001b[1;31m#이거는 위에가 .append 일때..\u001b[0m\u001b[1;33m\u001b[0m\u001b[1;33m\u001b[0m\u001b[0m\n\u001b[1;32m----> 2\u001b[1;33m     \u001b[1;32mfor\u001b[0m \u001b[0mn\u001b[0m \u001b[1;32min\u001b[0m \u001b[0mi\u001b[0m \u001b[1;33m:\u001b[0m\u001b[1;33m\u001b[0m\u001b[1;33m\u001b[0m\u001b[0m\n\u001b[0m\u001b[0;32m      3\u001b[0m         \u001b[0mprint\u001b[0m\u001b[1;33m(\u001b[0m\u001b[0mn\u001b[0m\u001b[1;33m)\u001b[0m\u001b[1;33m\u001b[0m\u001b[1;33m\u001b[0m\u001b[0m\n",
      "\u001b[1;31mTypeError\u001b[0m: 'WebElement' object is not iterable"
     ]
    }
   ],
   "source": [
    "for i in data3 :  #이거는 위에가 .append 일때..\n",
    "    for n in i :\n",
    "        print(n)"
   ]
  },
  {
   "cell_type": "code",
   "execution_count": 177,
   "id": "5bd0fbef-93a7-4a73-99fa-45e097eb4c7e",
   "metadata": {},
   "outputs": [
    {
     "name": "stdout",
     "output_type": "stream",
     "text": [
      "[[1, 2]]\n"
     ]
    }
   ],
   "source": [
    "list3 = list()\n",
    "list3.append([1,2])\n",
    "print(list3)"
   ]
  },
  {
   "cell_type": "code",
   "execution_count": 178,
   "id": "bf312c28-8c77-474d-a5b3-2dd5ecc7cd14",
   "metadata": {},
   "outputs": [
    {
     "name": "stdout",
     "output_type": "stream",
     "text": [
      "[[1, 2], [3, 4]]\n"
     ]
    }
   ],
   "source": [
    "list3.append([3,4])\n",
    "print(list3)"
   ]
  },
  {
   "cell_type": "code",
   "execution_count": 183,
   "id": "854622f4-bf42-4192-999d-e539892ec865",
   "metadata": {},
   "outputs": [
    {
     "name": "stdout",
     "output_type": "stream",
     "text": [
      "1\n",
      "2\n",
      "3\n",
      "4\n"
     ]
    }
   ],
   "source": [
    "for i in list3 :\n",
    "    for n in i :\n",
    "        print(n)\n",
    "    "
   ]
  },
  {
   "cell_type": "markdown",
   "id": "b80b0a8b-9de1-4300-929b-c4ddbd3ec058",
   "metadata": {},
   "source": [
    "#### 위의 랭킹을 받아와서 출력하는 프로그램은 왜인지 click 이 먼저되는\n",
    "#### 관계로 포기... 화면에서 원하는 정보를 받아오는 시간보다 click 에 드는 \n",
    "#### 시간이 더 짧고, 받아오는데 너무 오래걸려서 click을 먼저 처리해버리는 \n",
    "#### 것이라고 예상되나 진짜 이유는 잘 모름... \n",
    "#### 그래도 클릭도 되고 정보를 리스트에 넣어서 출력도 되니까 만족."
   ]
  },
  {
   "cell_type": "code",
   "execution_count": null,
   "id": "f204b9f1-53b9-471e-9844-04da68b72cac",
   "metadata": {},
   "outputs": [],
   "source": []
  }
 ],
 "metadata": {
  "kernelspec": {
   "display_name": "Python 3 (ipykernel)",
   "language": "python",
   "name": "python3"
  },
  "language_info": {
   "codemirror_mode": {
    "name": "ipython",
    "version": 3
   },
   "file_extension": ".py",
   "mimetype": "text/x-python",
   "name": "python",
   "nbconvert_exporter": "python",
   "pygments_lexer": "ipython3",
   "version": "3.9.7"
  }
 },
 "nbformat": 4,
 "nbformat_minor": 5
}
