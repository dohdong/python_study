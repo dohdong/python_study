{
 "cells": [
  {
   "cell_type": "markdown",
   "id": "e801204e-0aec-47bc-b31e-752c5c2a8218",
   "metadata": {},
   "source": [
    "html, css, java script 인데\n",
    "\n",
    "자바에서는 동작을 하므로 뷰티풀숲으로 Crawliing 이 안됨.\n",
    "\n",
    "그래서 Selenium으로 해야함."
   ]
  },
  {
   "cell_type": "markdown",
   "id": "522dc27c-4f8b-466f-a7fe-8fc85a42c59f",
   "metadata": {
    "tags": []
   },
   "source": [
    "!pip install selenium"
   ]
  },
  {
   "cell_type": "markdown",
   "id": "e90be54e-f015-4095-90e2-7f4becd2d7a0",
   "metadata": {},
   "source": [
    "naver 키보드 입력하지 않고 로그인 (근데 자동입력방지 나옴)"
   ]
  },
  {
   "cell_type": "code",
   "execution_count": 43,
   "id": "88352726-7cb6-4ca3-9a18-1a95da1cbd18",
   "metadata": {},
   "outputs": [
    {
     "name": "stderr",
     "output_type": "stream",
     "text": [
      "C:\\Users\\BIT\\AppData\\Local\\Temp/ipykernel_7344/2020399645.py:2: DeprecationWarning: executable_path has been deprecated, please pass in a Service object\n",
      "  driver = webdriver.Chrome('driver/chromedriver')\n",
      "C:\\Users\\BIT\\AppData\\Local\\Temp/ipykernel_7344/2020399645.py:5: DeprecationWarning: find_element_by_* commands are deprecated. Please use find_element() instead\n",
      "  elem_login = driver.find_element_by_id(\"id\") #근데 이게 왜 이렇게 되는지 모르겠음.\n",
      "C:\\Users\\BIT\\AppData\\Local\\Temp/ipykernel_7344/2020399645.py:10: DeprecationWarning: find_element_by_* commands are deprecated. Please use find_element() instead\n",
      "  elem_login = driver.find_element_by_id(\"pw\")\n",
      "C:\\Users\\BIT\\AppData\\Local\\Temp/ipykernel_7344/2020399645.py:16: DeprecationWarning: find_element_by_* commands are deprecated. Please use find_element() instead\n",
      "  driver.find_element_by_xpath(xpath).click()\n"
     ]
    }
   ],
   "source": [
    "from selenium import webdriver\n",
    "driver = webdriver.Chrome('driver/chromedriver')\n",
    "driver.get('https://nid.naver.com/nidlogin.login?mode=form&url=https%3A%2F%2Fwww.naver.com')\n",
    "\n",
    "elem_login = driver.find_element_by_id(\"id\") #근데 이게 왜 이렇게 되는지 모르겠음.\n",
    "elem_login.clear()\n",
    "elem_login.send_keys('goodstar7369')\n",
    "\n",
    "\n",
    "elem_login = driver.find_element_by_id(\"pw\")\n",
    "elem_login.clear()\n",
    "elem_login.send_keys(\"\")\n",
    "\n",
    "xpath = \"\"\"//*[@id=\"log.login\"]/span\"\"\"\n",
    "# xpath = \"\"\"//*[@id=\"frmNIDLogin\"]/fieldset/input\"\"\"\n",
    "driver.find_element_by_xpath(xpath).click()"
   ]
  },
  {
   "cell_type": "code",
   "execution_count": 38,
   "id": "7cf51702-99b8-4360-84e5-3a97d7499b91",
   "metadata": {},
   "outputs": [
    {
     "name": "stderr",
     "output_type": "stream",
     "text": [
      "C:\\Users\\BIT\\AppData\\Local\\Temp/ipykernel_7344/2495461501.py:6: DeprecationWarning: executable_path has been deprecated, please pass in a Service object\n",
      "  driver = webdriver.Chrome('driver/chromedriver')\n",
      "C:\\Users\\BIT\\AppData\\Local\\Temp/ipykernel_7344/2495461501.py:12: DeprecationWarning: find_element_by_* commands are deprecated. Please use find_element() instead\n",
      "  search_box = driver.find_element_by_xpath('/html/body/div[1]/div[3]/form/div[1]/div[1]/div[1]/div[2]/div[2]/input')\n"
     ]
    }
   ],
   "source": [
    "from selenium import webdriver\n",
    "from selenium.webdriver.common.keys import Keys\n",
    "from time import sleep\n",
    "\n",
    "\n",
    "driver = webdriver.Chrome('driver/chromedriver') \n",
    "driver.implicitly_wait(10)\n",
    "\n",
    "driver.get(url='https://www.google.com/')\n",
    "\n",
    "\n",
    "search_box = driver.find_element_by_xpath('/html/body/div[1]/div[3]/form/div[1]/div[1]/div[1]/div[2]/div[2]/input')\n",
    "\n",
    "search_box.send_keys('BTS')\n",
    "search_box.send_keys(Keys.RETURN)\n"
   ]
  },
  {
   "cell_type": "code",
   "execution_count": null,
   "id": "5883b63e-b6b9-4064-b18e-cf8daadb37b1",
   "metadata": {},
   "outputs": [],
   "source": [
    "/html/body/div[1]/div[3]/form/div[1]/div[1]/div[1]/div[2]/div[2]/input"
   ]
  },
  {
   "cell_type": "code",
   "execution_count": 54,
   "id": "ce8d2927-1f35-4e09-8165-50b51db42d95",
   "metadata": {},
   "outputs": [
    {
     "name": "stderr",
     "output_type": "stream",
     "text": [
      "C:\\Users\\BIT\\AppData\\Local\\Temp/ipykernel_7344/850981079.py:8: DeprecationWarning: executable_path has been deprecated, please pass in a Service object\n",
      "  driver = webdriver.Chrome('driver/chromedriver')\n",
      "C:\\Users\\BIT\\AppData\\Local\\Temp/ipykernel_7344/850981079.py:11: DeprecationWarning: find_element_by_* commands are deprecated. Please use find_element() instead\n",
      "  content = driver.find_element_by_css_selector('a')\n"
     ]
    }
   ],
   "source": [
    "from selenium import webdriver\n",
    "\n",
    "\n",
    "options = webdriver.ChromeOptions()\n",
    "\n",
    "\n",
    "\n",
    "driver = webdriver.Chrome('driver/chromedriver')\n",
    "driver.get(\"https://www.naver.com\")\n",
    "\n",
    "content = driver.find_element_by_css_selector('a')"
   ]
  },
  {
   "cell_type": "markdown",
   "id": "e6038eaf-ff27-43da-bbeb-3715414cbf7d",
   "metadata": {},
   "source": [
    "selenium으로 하는법.. 인데 잘 모르겠다 ㅠㅜ"
   ]
  },
  {
   "cell_type": "code",
   "execution_count": 60,
   "id": "574270c9-6c3e-488a-976f-98a80943123e",
   "metadata": {},
   "outputs": [
    {
     "name": "stderr",
     "output_type": "stream",
     "text": [
      "C:\\Users\\BIT\\AppData\\Local\\Temp/ipykernel_7344/4052317647.py:3: DeprecationWarning: executable_path has been deprecated, please pass in a Service object\n",
      "  driver = webdriver.Chrome('driver/chromedriver')\n",
      "C:\\Users\\BIT\\AppData\\Local\\Temp/ipykernel_7344/4052317647.py:6: DeprecationWarning: find_elements_by_* commands are deprecated. Please use find_elements() instead\n",
      "  data1 = driver.find_elements_by_css_selector('#sp_nws_all1 > div.news_wrap.api_ani_send > div > a')\n"
     ]
    }
   ],
   "source": [
    "from selenium import webdriver\n",
    "\n",
    "driver = webdriver.Chrome('driver/chromedriver') \n",
    "\n",
    "driver.get('https://search.naver.com/search.naver?where=nexearch&sm=top_hty&fbm=1&ie=utf8&query=bts')\n",
    "data1 = driver.find_elements_by_css_selector('#sp_nws_all1 > div.news_wrap.api_ani_send > div > a')\n"
   ]
  },
  {
   "cell_type": "code",
   "execution_count": 61,
   "id": "982e657e-852e-4ee9-a6dd-228e3aa24311",
   "metadata": {
    "tags": []
   },
   "outputs": [
    {
     "name": "stdout",
     "output_type": "stream",
     "text": [
      "[<selenium.webdriver.remote.webelement.WebElement (session=\"f99e0d9c37d7dd9e7e3f92b6a17b33aa\", element=\"0f55a673-3d4a-4414-ac65-55f3bc74d12a\")>]\n"
     ]
    }
   ],
   "source": [
    "print(data1)"
   ]
  },
  {
   "cell_type": "code",
   "execution_count": 62,
   "id": "e798e5b7-d5d2-438f-b666-1d930e4686b0",
   "metadata": {},
   "outputs": [
    {
     "name": "stdout",
     "output_type": "stream",
     "text": [
      "한 벌에 12만원…BTS도 놀란 ‘BTS 잠옷’ 가격\n"
     ]
    }
   ],
   "source": [
    "for i in data1 :\n",
    "    print(i.text)"
   ]
  },
  {
   "cell_type": "code",
   "execution_count": 135,
   "id": "3db5c34f-6506-4fa9-a257-b455a5c7f05c",
   "metadata": {},
   "outputs": [
    {
     "name": "stderr",
     "output_type": "stream",
     "text": [
      "C:\\Users\\BIT\\AppData\\Local\\Temp/ipykernel_7344/3808682140.py:4: DeprecationWarning: executable_path has been deprecated, please pass in a Service object\n",
      "  driver = webdriver.Chrome('driver/chromedriver')\n",
      "C:\\Users\\BIT\\AppData\\Local\\Temp/ipykernel_7344/3808682140.py:6: DeprecationWarning: find_elements_by_* commands are deprecated. Please use find_elements() instead\n",
      "  data2=driver.find_elements_by_css_selector('body > div:nth-child(6) > div:nth-child(1) > div')\n"
     ]
    }
   ],
   "source": [
    "from selenium import webdriver\n",
    "from selenium.webdriver.common.keys import Keys\n",
    "\n",
    "driver = webdriver.Chrome('driver/chromedriver') \n",
    "driver.get('https://fow.kr/ranking#1')\n",
    "data2=driver.find_elements_by_css_selector('body > div:nth-child(6) > div:nth-child(1) > div')"
   ]
  },
  {
   "cell_type": "code",
   "execution_count": 136,
   "id": "78bd3017-b607-45a5-b850-71a19f5c8107",
   "metadata": {},
   "outputs": [
    {
     "name": "stdout",
     "output_type": "stream",
     "text": [
      "[<selenium.webdriver.remote.webelement.WebElement (session=\"55da0a084779ba0a983d0c5dfa281908\", element=\"a72aeb89-7977-4cce-8e83-02a808740268\")>]\n"
     ]
    }
   ],
   "source": [
    "print(data2)"
   ]
  },
  {
   "cell_type": "code",
   "execution_count": 173,
   "id": "534747c9-f945-46fa-9adc-d648dfd19fa9",
   "metadata": {
    "tags": []
   },
   "outputs": [],
   "source": [
    "# for i in data2 :\n",
    "#     print(i.text)"
   ]
  },
  {
   "cell_type": "code",
   "execution_count": 122,
   "id": "15a150c1-68d5-4c57-9df4-aa984e417d61",
   "metadata": {},
   "outputs": [],
   "source": [
    "data2 = list()"
   ]
  },
  {
   "cell_type": "code",
   "execution_count": 169,
   "id": "59454bcc-f770-4c9c-b72a-6fb402d51d65",
   "metadata": {
    "tags": []
   },
   "outputs": [
    {
     "name": "stderr",
     "output_type": "stream",
     "text": [
      "C:\\Users\\BIT\\AppData\\Local\\Temp/ipykernel_7344/198112193.py:5: DeprecationWarning: executable_path has been deprecated, please pass in a Service object\n",
      "  driver = webdriver.Chrome('driver/chromedriver')\n"
     ]
    },
    {
     "name": "stdout",
     "output_type": "stream",
     "text": [
      "[<selenium.webdriver.remote.webelement.WebElement (session=\"364040fdbd7bf37a4c2665531808f4c5\", element=\"0d1cd060-ef7f-4e72-9d71-b135de387e90\")>]\n",
      "[<selenium.webdriver.remote.webelement.WebElement (session=\"364040fdbd7bf37a4c2665531808f4c5\", element=\"0d1cd060-ef7f-4e72-9d71-b135de387e90\")>, <selenium.webdriver.remote.webelement.WebElement (session=\"364040fdbd7bf37a4c2665531808f4c5\", element=\"0d1cd060-ef7f-4e72-9d71-b135de387e90\")>]\n"
     ]
    },
    {
     "name": "stderr",
     "output_type": "stream",
     "text": [
      "C:\\Users\\BIT\\AppData\\Local\\Temp/ipykernel_7344/198112193.py:14: DeprecationWarning: find_elements_by_* commands are deprecated. Please use find_elements() instead\n",
      "  data2.extend(driver.find_elements_by_css_selector('body > div:nth-child(6) > div:nth-child(1) > div'))\n",
      "C:\\Users\\BIT\\AppData\\Local\\Temp/ipykernel_7344/198112193.py:17: DeprecationWarning: find_element_by_* commands are deprecated. Please use find_element() instead\n",
      "  driver.find_element_by_xpath(xpath).click()\n"
     ]
    }
   ],
   "source": [
    "from selenium import webdriver\n",
    "from selenium.webdriver.common.keys import Keys\n",
    "from time import sleep\n",
    "\n",
    "driver = webdriver.Chrome('driver/chromedriver') \n",
    "\n",
    "data2 = list()\n",
    "\n",
    "driver.get('https://fow.kr/ranking')\n",
    "xpath = \"\"\"/html/body/div[4]/div[1]/div/input[4]\"\"\"\n",
    "\n",
    "for i in range(2) :\n",
    "    \n",
    "    data2.extend(driver.find_elements_by_css_selector('body > div:nth-child(6) > div:nth-child(1) > div'))\n",
    "    print(data2)\n",
    "    driver.implicitly_wait(500)\n",
    "    driver.find_element_by_xpath(xpath).click()\n",
    "    \n"
   ]
  },
  {
   "cell_type": "code",
   "execution_count": 147,
   "id": "f2feea14-8afc-470a-9cf1-d3d696bbb023",
   "metadata": {},
   "outputs": [
    {
     "name": "stdout",
     "output_type": "stream",
     "text": [
      "[1, 2, 3, 4, 5]\n"
     ]
    }
   ],
   "source": [
    "list1 = [1, 2, 3]\n",
    "list2 = [4, 5]\n",
    "\n",
    "list1.extend(list2)\n",
    "\n",
    "print(list1)"
   ]
  },
  {
   "cell_type": "code",
   "execution_count": 170,
   "id": "52821030-e14f-4f99-aff0-9cea5ff0b9f3",
   "metadata": {},
   "outputs": [
    {
     "name": "stdout",
     "output_type": "stream",
     "text": [
      "[<selenium.webdriver.remote.webelement.WebElement (session=\"364040fdbd7bf37a4c2665531808f4c5\", element=\"0d1cd060-ef7f-4e72-9d71-b135de387e90\")>, <selenium.webdriver.remote.webelement.WebElement (session=\"364040fdbd7bf37a4c2665531808f4c5\", element=\"0d1cd060-ef7f-4e72-9d71-b135de387e90\")>]\n"
     ]
    }
   ],
   "source": [
    "print(data2)"
   ]
  },
  {
   "cell_type": "code",
   "execution_count": 172,
   "id": "24ad41c0-80c5-4536-948d-aa36bc70bb0d",
   "metadata": {
    "tags": []
   },
   "outputs": [],
   "source": [
    "# for i in data2 :\n",
    "#     print(i.text)"
   ]
  },
  {
   "cell_type": "code",
   "execution_count": 175,
   "id": "dd5c2695-4712-4a0e-8632-e31228fe2547",
   "metadata": {},
   "outputs": [
    {
     "name": "stderr",
     "output_type": "stream",
     "text": [
      "C:\\Users\\BIT\\AppData\\Local\\Temp/ipykernel_7344/1325261145.py:5: DeprecationWarning: executable_path has been deprecated, please pass in a Service object\n",
      "  driver = webdriver.Chrome('driver/chromedriver')\n",
      "C:\\Users\\BIT\\AppData\\Local\\Temp/ipykernel_7344/1325261145.py:14: DeprecationWarning: find_elements_by_* commands are deprecated. Please use find_elements() instead\n",
      "  data3.append(driver.find_elements_by_css_selector('body > div:nth-child(6) > div:nth-child(1) > div'))\n",
      "C:\\Users\\BIT\\AppData\\Local\\Temp/ipykernel_7344/1325261145.py:17: DeprecationWarning: find_element_by_* commands are deprecated. Please use find_element() instead\n",
      "  driver.find_element_by_xpath(xpath).click()\n"
     ]
    },
    {
     "name": "stdout",
     "output_type": "stream",
     "text": [
      "[[<selenium.webdriver.remote.webelement.WebElement (session=\"7dadeb4a50e9a44331957fb23fb52a38\", element=\"50f98578-2ec7-4481-a2b7-16c7b6f78719\")>]]\n",
      "[[<selenium.webdriver.remote.webelement.WebElement (session=\"7dadeb4a50e9a44331957fb23fb52a38\", element=\"50f98578-2ec7-4481-a2b7-16c7b6f78719\")>], [<selenium.webdriver.remote.webelement.WebElement (session=\"7dadeb4a50e9a44331957fb23fb52a38\", element=\"50f98578-2ec7-4481-a2b7-16c7b6f78719\")>]]\n"
     ]
    }
   ],
   "source": [
    "from selenium import webdriver\n",
    "from selenium.webdriver.common.keys import Keys\n",
    "from time import sleep\n",
    "\n",
    "driver = webdriver.Chrome('driver/chromedriver') \n",
    "\n",
    "data3 = list()\n",
    "\n",
    "driver.get('https://fow.kr/ranking')\n",
    "xpath = \"\"\"/html/body/div[4]/div[1]/div/input[4]\"\"\"\n",
    "\n",
    "for i in range(2) :\n",
    "    \n",
    "    data3.append(driver.find_elements_by_css_selector('body > div:nth-child(6) > div:nth-child(1) > div'))\n",
    "    print(data3)\n",
    "\n",
    "    driver.find_element_by_xpath(xpath).click()"
   ]
  },
  {
   "cell_type": "code",
   "execution_count": 176,
   "id": "6c850e4e-073f-475c-b688-231070719e30",
   "metadata": {},
   "outputs": [
    {
     "name": "stdout",
     "output_type": "stream",
     "text": [
      "[[<selenium.webdriver.remote.webelement.WebElement (session=\"7dadeb4a50e9a44331957fb23fb52a38\", element=\"50f98578-2ec7-4481-a2b7-16c7b6f78719\")>], [<selenium.webdriver.remote.webelement.WebElement (session=\"7dadeb4a50e9a44331957fb23fb52a38\", element=\"50f98578-2ec7-4481-a2b7-16c7b6f78719\")>]]\n"
     ]
    }
   ],
   "source": [
    "print(data3)"
   ]
  },
  {
   "cell_type": "code",
   "execution_count": 184,
   "id": "eb9d5d96-b197-4f1b-b0f7-7e5dcf219939",
   "metadata": {},
   "outputs": [
    {
     "name": "stdout",
     "output_type": "stream",
     "text": [
      "<selenium.webdriver.remote.webelement.WebElement (session=\"7dadeb4a50e9a44331957fb23fb52a38\", element=\"50f98578-2ec7-4481-a2b7-16c7b6f78719\")>\n",
      "<selenium.webdriver.remote.webelement.WebElement (session=\"7dadeb4a50e9a44331957fb23fb52a38\", element=\"50f98578-2ec7-4481-a2b7-16c7b6f78719\")>\n"
     ]
    }
   ],
   "source": [
    "for i in data3 :\n",
    "    for n in i :\n",
    "        print(n)"
   ]
  },
  {
   "cell_type": "code",
   "execution_count": 177,
   "id": "5bd0fbef-93a7-4a73-99fa-45e097eb4c7e",
   "metadata": {},
   "outputs": [
    {
     "name": "stdout",
     "output_type": "stream",
     "text": [
      "[[1, 2]]\n"
     ]
    }
   ],
   "source": [
    "list3 = list()\n",
    "list3.append([1,2])\n",
    "print(list3)"
   ]
  },
  {
   "cell_type": "code",
   "execution_count": 178,
   "id": "bf312c28-8c77-474d-a5b3-2dd5ecc7cd14",
   "metadata": {},
   "outputs": [
    {
     "name": "stdout",
     "output_type": "stream",
     "text": [
      "[[1, 2], [3, 4]]\n"
     ]
    }
   ],
   "source": [
    "list3.append([3,4])\n",
    "print(list3)"
   ]
  },
  {
   "cell_type": "code",
   "execution_count": 183,
   "id": "854622f4-bf42-4192-999d-e539892ec865",
   "metadata": {},
   "outputs": [
    {
     "name": "stdout",
     "output_type": "stream",
     "text": [
      "1\n",
      "2\n",
      "3\n",
      "4\n"
     ]
    }
   ],
   "source": [
    "for i in list3 :\n",
    "    for n in i :\n",
    "        print(n)\n",
    "    "
   ]
  },
  {
   "cell_type": "code",
   "execution_count": null,
   "id": "93827e9b-1665-45ef-a8a2-85e3dd5dbe46",
   "metadata": {},
   "outputs": [],
   "source": []
  }
 ],
 "metadata": {
  "kernelspec": {
   "display_name": "Python 3 (ipykernel)",
   "language": "python",
   "name": "python3"
  },
  "language_info": {
   "codemirror_mode": {
    "name": "ipython",
    "version": 3
   },
   "file_extension": ".py",
   "mimetype": "text/x-python",
   "name": "python",
   "nbconvert_exporter": "python",
   "pygments_lexer": "ipython3",
   "version": "3.9.7"
  }
 },
 "nbformat": 4,
 "nbformat_minor": 5
}
