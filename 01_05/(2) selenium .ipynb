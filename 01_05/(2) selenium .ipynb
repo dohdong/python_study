{
 "cells": [
  {
   "cell_type": "markdown",
   "id": "e801204e-0aec-47bc-b31e-752c5c2a8218",
   "metadata": {},
   "source": [
    "html, css, java script 인데\n",
    "\n",
    "자바에서는 동작을 하므로 뷰티풀숲으로 Crawliing 이 안됨.\n",
    "\n",
    "그래서 Selenium으로 해야함."
   ]
  },
  {
   "cell_type": "markdown",
   "id": "522dc27c-4f8b-466f-a7fe-8fc85a42c59f",
   "metadata": {
    "tags": []
   },
   "source": [
    "!pip install selenium"
   ]
  },
  {
   "cell_type": "markdown",
   "id": "e90be54e-f015-4095-90e2-7f4becd2d7a0",
   "metadata": {},
   "source": [
    "naver 키보드 입력하지 않고 로그인 (근데 자동입력방지 나옴)"
   ]
  },
  {
   "cell_type": "code",
   "execution_count": 43,
   "id": "88352726-7cb6-4ca3-9a18-1a95da1cbd18",
   "metadata": {},
   "outputs": [
    {
     "name": "stderr",
     "output_type": "stream",
     "text": [
      "C:\\Users\\BIT\\AppData\\Local\\Temp/ipykernel_7344/2020399645.py:2: DeprecationWarning: executable_path has been deprecated, please pass in a Service object\n",
      "  driver = webdriver.Chrome('driver/chromedriver')\n",
      "C:\\Users\\BIT\\AppData\\Local\\Temp/ipykernel_7344/2020399645.py:5: DeprecationWarning: find_element_by_* commands are deprecated. Please use find_element() instead\n",
      "  elem_login = driver.find_element_by_id(\"id\") #근데 이게 왜 이렇게 되는지 모르겠음.\n",
      "C:\\Users\\BIT\\AppData\\Local\\Temp/ipykernel_7344/2020399645.py:10: DeprecationWarning: find_element_by_* commands are deprecated. Please use find_element() instead\n",
      "  elem_login = driver.find_element_by_id(\"pw\")\n",
      "C:\\Users\\BIT\\AppData\\Local\\Temp/ipykernel_7344/2020399645.py:16: DeprecationWarning: find_element_by_* commands are deprecated. Please use find_element() instead\n",
      "  driver.find_element_by_xpath(xpath).click()\n"
     ]
    }
   ],
   "source": [
    "from selenium import webdriver\n",
    "driver = webdriver.Chrome('driver/chromedriver')\n",
    "driver.get('https://nid.naver.com/nidlogin.login?mode=form&url=https%3A%2F%2Fwww.naver.com')\n",
    "\n",
    "elem_login = driver.find_element_by_id(\"id\") #근데 이게 왜 이렇게 되는지 모르겠음.\n",
    "elem_login.clear()\n",
    "elem_login.send_keys('goodstar7369')\n",
    "\n",
    "\n",
    "elem_login = driver.find_element_by_id(\"pw\")\n",
    "elem_login.clear()\n",
    "elem_login.send_keys(\"\")\n",
    "\n",
    "xpath = \"\"\"//*[@id=\"log.login\"]/span\"\"\"\n",
    "# xpath = \"\"\"//*[@id=\"frmNIDLogin\"]/fieldset/input\"\"\"\n",
    "driver.find_element_by_xpath(xpath).click()"
   ]
  },
  {
   "cell_type": "code",
   "execution_count": 38,
   "id": "7cf51702-99b8-4360-84e5-3a97d7499b91",
   "metadata": {},
   "outputs": [
    {
     "name": "stderr",
     "output_type": "stream",
     "text": [
      "C:\\Users\\BIT\\AppData\\Local\\Temp/ipykernel_7344/2495461501.py:6: DeprecationWarning: executable_path has been deprecated, please pass in a Service object\n",
      "  driver = webdriver.Chrome('driver/chromedriver')\n",
      "C:\\Users\\BIT\\AppData\\Local\\Temp/ipykernel_7344/2495461501.py:12: DeprecationWarning: find_element_by_* commands are deprecated. Please use find_element() instead\n",
      "  search_box = driver.find_element_by_xpath('/html/body/div[1]/div[3]/form/div[1]/div[1]/div[1]/div[2]/div[2]/input')\n"
     ]
    }
   ],
   "source": [
    "from selenium import webdriver\n",
    "from selenium.webdriver.common.keys import Keys\n",
    "from time import sleep\n",
    "\n",
    "\n",
    "driver = webdriver.Chrome('driver/chromedriver') \n",
    "driver.implicitly_wait(10)\n",
    "\n",
    "driver.get(url='https://www.google.com/')\n",
    "\n",
    "\n",
    "search_box = driver.find_element_by_xpath('/html/body/div[1]/div[3]/form/div[1]/div[1]/div[1]/div[2]/div[2]/input')\n",
    "\n",
    "search_box.send_keys('BTS')\n",
    "search_box.send_keys(Keys.RETURN)\n"
   ]
  },
  {
   "cell_type": "code",
   "execution_count": null,
   "id": "5883b63e-b6b9-4064-b18e-cf8daadb37b1",
   "metadata": {},
   "outputs": [],
   "source": [
    "/html/body/div[1]/div[3]/form/div[1]/div[1]/div[1]/div[2]/div[2]/input"
   ]
  },
  {
   "cell_type": "code",
   "execution_count": 54,
   "id": "ce8d2927-1f35-4e09-8165-50b51db42d95",
   "metadata": {},
   "outputs": [
    {
     "name": "stderr",
     "output_type": "stream",
     "text": [
      "C:\\Users\\BIT\\AppData\\Local\\Temp/ipykernel_7344/850981079.py:8: DeprecationWarning: executable_path has been deprecated, please pass in a Service object\n",
      "  driver = webdriver.Chrome('driver/chromedriver')\n",
      "C:\\Users\\BIT\\AppData\\Local\\Temp/ipykernel_7344/850981079.py:11: DeprecationWarning: find_element_by_* commands are deprecated. Please use find_element() instead\n",
      "  content = driver.find_element_by_css_selector('a')\n"
     ]
    }
   ],
   "source": [
    "from selenium import webdriver\n",
    "\n",
    "\n",
    "options = webdriver.ChromeOptions()\n",
    "\n",
    "\n",
    "\n",
    "driver = webdriver.Chrome('driver/chromedriver')\n",
    "driver.get(\"https://www.naver.com\")\n",
    "\n",
    "content = driver.find_element_by_css_selector('a')"
   ]
  },
  {
   "cell_type": "markdown",
   "id": "e6038eaf-ff27-43da-bbeb-3715414cbf7d",
   "metadata": {},
   "source": [
    "selenium으로 하는법.. 인데 잘 모르겠다 ㅠㅜ"
   ]
  },
  {
   "cell_type": "code",
   "execution_count": 60,
   "id": "574270c9-6c3e-488a-976f-98a80943123e",
   "metadata": {},
   "outputs": [
    {
     "name": "stderr",
     "output_type": "stream",
     "text": [
      "C:\\Users\\BIT\\AppData\\Local\\Temp/ipykernel_7344/4052317647.py:3: DeprecationWarning: executable_path has been deprecated, please pass in a Service object\n",
      "  driver = webdriver.Chrome('driver/chromedriver')\n",
      "C:\\Users\\BIT\\AppData\\Local\\Temp/ipykernel_7344/4052317647.py:6: DeprecationWarning: find_elements_by_* commands are deprecated. Please use find_elements() instead\n",
      "  data1 = driver.find_elements_by_css_selector('#sp_nws_all1 > div.news_wrap.api_ani_send > div > a')\n"
     ]
    }
   ],
   "source": [
    "from selenium import webdriver\n",
    "\n",
    "driver = webdriver.Chrome('driver/chromedriver') \n",
    "\n",
    "driver.get('https://search.naver.com/search.naver?where=nexearch&sm=top_hty&fbm=1&ie=utf8&query=bts')\n",
    "data1 = driver.find_elements_by_css_selector('#sp_nws_all1 > div.news_wrap.api_ani_send > div > a')\n"
   ]
  },
  {
   "cell_type": "code",
   "execution_count": 61,
   "id": "982e657e-852e-4ee9-a6dd-228e3aa24311",
   "metadata": {
    "tags": []
   },
   "outputs": [
    {
     "name": "stdout",
     "output_type": "stream",
     "text": [
      "[<selenium.webdriver.remote.webelement.WebElement (session=\"f99e0d9c37d7dd9e7e3f92b6a17b33aa\", element=\"0f55a673-3d4a-4414-ac65-55f3bc74d12a\")>]\n"
     ]
    }
   ],
   "source": [
    "print(data1)"
   ]
  },
  {
   "cell_type": "code",
   "execution_count": 62,
   "id": "e798e5b7-d5d2-438f-b666-1d930e4686b0",
   "metadata": {},
   "outputs": [
    {
     "name": "stdout",
     "output_type": "stream",
     "text": [
      "한 벌에 12만원…BTS도 놀란 ‘BTS 잠옷’ 가격\n"
     ]
    }
   ],
   "source": [
    "for i in data1 :\n",
    "    print(i.text)"
   ]
  },
  {
   "cell_type": "code",
   "execution_count": 135,
   "id": "3db5c34f-6506-4fa9-a257-b455a5c7f05c",
   "metadata": {},
   "outputs": [
    {
     "name": "stderr",
     "output_type": "stream",
     "text": [
      "C:\\Users\\BIT\\AppData\\Local\\Temp/ipykernel_7344/3808682140.py:4: DeprecationWarning: executable_path has been deprecated, please pass in a Service object\n",
      "  driver = webdriver.Chrome('driver/chromedriver')\n",
      "C:\\Users\\BIT\\AppData\\Local\\Temp/ipykernel_7344/3808682140.py:6: DeprecationWarning: find_elements_by_* commands are deprecated. Please use find_elements() instead\n",
      "  data2=driver.find_elements_by_css_selector('body > div:nth-child(6) > div:nth-child(1) > div')\n"
     ]
    }
   ],
   "source": [
    "from selenium import webdriver\n",
    "from selenium.webdriver.common.keys import Keys\n",
    "\n",
    "driver = webdriver.Chrome('driver/chromedriver') \n",
    "driver.get('https://fow.kr/ranking#1')\n",
    "data2=driver.find_elements_by_css_selector('body > div:nth-child(6) > div:nth-child(1) > div')"
   ]
  },
  {
   "cell_type": "code",
   "execution_count": 136,
   "id": "78bd3017-b607-45a5-b850-71a19f5c8107",
   "metadata": {},
   "outputs": [
    {
     "name": "stdout",
     "output_type": "stream",
     "text": [
      "[<selenium.webdriver.remote.webelement.WebElement (session=\"55da0a084779ba0a983d0c5dfa281908\", element=\"a72aeb89-7977-4cce-8e83-02a808740268\")>]\n"
     ]
    }
   ],
   "source": [
    "print(data2)"
   ]
  },
  {
   "cell_type": "code",
   "execution_count": 173,
   "id": "534747c9-f945-46fa-9adc-d648dfd19fa9",
   "metadata": {
    "tags": []
   },
   "outputs": [],
   "source": [
    "# for i in data2 :\n",
    "#     print(i.text)"
   ]
  },
  {
   "cell_type": "code",
   "execution_count": 23,
   "id": "f2feea14-8afc-470a-9cf1-d3d696bbb023",
   "metadata": {},
   "outputs": [
    {
     "name": "stdout",
     "output_type": "stream",
     "text": [
      "[1, 2, 3, 4, 5]\n"
     ]
    }
   ],
   "source": [
    "list1 = [1, 2, 3]\n",
    "list2 = [4, 5]\n",
    "\n",
    "list1.extend(list2)\n",
    "\n",
    "print(list1)"
   ]
  },
  {
   "cell_type": "code",
   "execution_count": 24,
   "id": "a2c15fba-9794-4f38-a962-941bb6e89e52",
   "metadata": {},
   "outputs": [
    {
     "name": "stdout",
     "output_type": "stream",
     "text": [
      "5\n"
     ]
    }
   ],
   "source": [
    "print(len(list1))"
   ]
  },
  {
   "cell_type": "code",
   "execution_count": 38,
   "id": "59454bcc-f770-4c9c-b72a-6fb402d51d65",
   "metadata": {
    "tags": []
   },
   "outputs": [
    {
     "name": "stderr",
     "output_type": "stream",
     "text": [
      "C:\\Users\\BIT\\AppData\\Local\\Temp/ipykernel_7880/4283208488.py:5: DeprecationWarning: executable_path has been deprecated, please pass in a Service object\n",
      "  driver = webdriver.Chrome('driver/chromedriver')\n",
      "C:\\Users\\BIT\\AppData\\Local\\Temp/ipykernel_7880/4283208488.py:14: DeprecationWarning: find_elements_by_* commands are deprecated. Please use find_elements() instead\n",
      "  data2.extend(driver.find_elements_by_css_selector('body > div:nth-child(6) > div:nth-child(1) > div'))\n",
      "C:\\Users\\BIT\\AppData\\Local\\Temp/ipykernel_7880/4283208488.py:16: DeprecationWarning: find_element_by_* commands are deprecated. Please use find_element() instead\n",
      "  driver.find_element_by_xpath(xpath).click()\n"
     ]
    }
   ],
   "source": [
    "from selenium import webdriver\n",
    "from selenium.webdriver.common.keys import Keys\n",
    "from time import sleep\n",
    "\n",
    "driver = webdriver.Chrome('driver/chromedriver') \n",
    "\n",
    "data2 = list()\n",
    "\n",
    "driver.get('https://fow.kr/ranking')\n",
    "xpath = \"\"\"/html/body/div[4]/div[1]/div/input[4]\"\"\"\n",
    "\n",
    "for i in range(2) :\n",
    "    \n",
    "    data2.extend(driver.find_elements_by_css_selector('body > div:nth-child(6) > div:nth-child(1) > div'))\n",
    "    if len(data2) != 0 :\n",
    "        driver.find_element_by_xpath(xpath).click()\n",
    "    \n"
   ]
  },
  {
   "cell_type": "code",
   "execution_count": 36,
   "id": "52821030-e14f-4f99-aff0-9cea5ff0b9f3",
   "metadata": {},
   "outputs": [
    {
     "name": "stdout",
     "output_type": "stream",
     "text": [
      "[<selenium.webdriver.remote.webelement.WebElement (session=\"b411e665dfb9837931369be9bd1091eb\", element=\"9a7750af-7885-4bc8-ad9c-e1cf54390cc7\")>, <selenium.webdriver.remote.webelement.WebElement (session=\"b411e665dfb9837931369be9bd1091eb\", element=\"9a7750af-7885-4bc8-ad9c-e1cf54390cc7\")>]\n"
     ]
    }
   ],
   "source": [
    "print(data2)"
   ]
  },
  {
   "cell_type": "code",
   "execution_count": 39,
   "id": "24ad41c0-80c5-4536-948d-aa36bc70bb0d",
   "metadata": {
    "tags": []
   },
   "outputs": [
    {
     "name": "stdout",
     "output_type": "stream",
     "text": [
      "순위 소환사명 티어 LP 승률 모스트 챔프\n",
      "1위 143167947547 CHALLENGER 1689점 198승 125패 (61.30%)\n",
      "2위 MIDGOD 12 CHALLENGER 1678점 607승 498패 (54.93%)\n",
      "3위 7698 CHALLENGER 1588점 860승 741패 (53.72%)\n",
      "4위 JUGKlNG CHALLENGER 1555점 272승 193패 (58.49%)\n",
      "5위 DRX ZEKA CHALLENGER 1516점 398승 316패 (55.74%)\n",
      "6위 DEL_1396543186339670853 CHALLENGER 1500점 543승 460패 (54.14%)\n",
      "7위 14356798415 CHALLENGER 1471점 196승 109패 (64.26%)\n",
      "8위 쪼렙이다말로하자 CHALLENGER 1471점 953승 854패 (52.74%)\n",
      "9위 신입 서폿 CHALLENGER 1468점 349승 284패 (55.13%)\n",
      "10위 KT Czar CHALLENGER 1468점 906승 794패 (53.29%)\n",
      "11위 우제우스 CHALLENGER 1429점 648승 547패 (54.23%)\n",
      "12위 GGGori CHALLENGER 1416점 460승 365패 (55.76%)\n",
      "13위 HLE OnFleek CHALLENGER 1377점 1307승 1236패 (51.40%)\n",
      "14위 snzll CHALLENGER 1375점 581승 509패 (53.30%)\n",
      "15위 LSB Kael CHALLENGER 1374점 493승 422패 (53.88%)\n",
      "16위 참새크면비둘기 CHALLENGER 1373점 416승 340패 (55.03%)\n",
      "17위 Chieftain00 CHALLENGER 1364점 870승 750패 (53.70%)\n",
      "18위 lIlIIllIlIIllIlI CHALLENGER 1347점 263승 217패 (54.79%)\n",
      "19위 Pnpm CHALLENGER 1344점 332승 247패 (57.34%)\n",
      "20위 CNno1mid shanks CHALLENGER 1336점 539승 464패 (53.74%)\n",
      "21위 꿈에 보이다 CHALLENGER 1309점 281승 208패 (57.46%)\n",
      "22위 UCAL CHALLENGER 1308점 525승 429패 (55.03%)\n",
      "23위 KT Castle CHALLENGER 1305점 801승 735패 (52.15%)\n",
      "24위 은가뉴 CHALLENGER 1305점 467승 375패 (55.46%)\n",
      "25위 Let me sup CHALLENGER 1303점 1145승 1079패 (51.48%)\n",
      "26위 zxckas0dk CHALLENGER 1297점 623승 549패 (53.16%)\n",
      "27위 Gen G Peyz CHALLENGER 1292점 1205승 1122패 (51.78%)\n",
      "28위 GBZJ CHALLENGER 1288점 986승 925패 (51.60%)\n",
      "29위 Pz ZZang CHALLENGER 1283점 293승 219패 (57.23%)\n",
      "30위 HLE Karis1 CHALLENGER 1272점 621승 539패 (53.53%)\n",
      "31위 Kingen CHALLENGER 1268점 787승 684패 (53.50%)\n",
      "32위 zzzusss CHALLENGER 1264점 419승 339패 (55.28%)\n",
      "33위 Walk a dog CHALLENGER 1255점 182승 153패 (54.33%)\n",
      "34위 FA Decky CHALLENGER 1254점 1107승 1022패 (52.00%)\n",
      "35위 DK ShowMaker CHALLENGER 1253점 347승 268패 (56.42%)\n",
      "36위 hao yun bao bei CHALLENGER 1250점 452승 408패 (52.56%)\n",
      "37위 KT VicLa CHALLENGER 1245점 700승 640패 (52.24%)\n",
      "38위 KT Way CHALLENGER 1240점 591승 502패 (54.07%)\n",
      "39위 어쩌라고맞짱뜰까 CHALLENGER 1233점 449승 386패 (53.77%)\n",
      "40위 click parknor CHALLENGER 1227점 383승 301패 (55.99%)\n",
      "41위 vlrhsgody CHALLENGER 1226점 306승 226패 (57.52%)\n",
      "42위 광수야놀자 CHALLENGER 1225점 995승 940패 (51.42%)\n",
      "43위 Tangyuando CHALLENGER 1224점 389승 324패 (54.56%)\n",
      "44위 hope3 CHALLENGER 1212점 649승 601패 (51.92%)\n",
      "45위 아이러니2 CHALLENGER 1211점 697승 606패 (53.49%)\n",
      "46위 Gon123 CHALLENGER 1205점 1026승 942패 (52.13%)\n",
      "47위 독기품기 CHALLENGER 1202점 343승 254패 (57.45%)\n",
      "48위 아아스크림 CHALLENGER 1202점 1521승 1453패 (51.14%)\n",
      "49위 huangshang1 CHALLENGER 1201점 63승 25패 (71.59%)\n",
      "50위 콩나물이좋아요 CHALLENGER 1200점 919승 849패 (51.98%)\n",
      "순위 소환사명 티어 LP 승률 모스트 챔프\n",
      "101위 buxiangwanle CHALLENGER 1087점 927승 887패 (51.10%)\n",
      "102위 thx for all CHALLENGER 1086점 647승 564패 (53.43%)\n",
      "103위 Aljlrpaxljkljxto CHALLENGER 1085점 514승 421패 (54.97%)\n",
      "104위 cxzqweasd CHALLENGER 1085점 292승 235패 (55.41%)\n",
      "105위 역시폭군 CHALLENGER 1084점 393승 331패 (54.28%)\n",
      "106위 디알엑스 태윤 CHALLENGER 1082점 629승 539패 (53.85%)\n",
      "107위 세린냥이 CHALLENGER 1081점 415승 351패 (54.18%)\n",
      "108위 Lehends CHALLENGER 1081점 822승 747패 (52.39%)\n",
      "109위 분신컨트롤 CHALLENGER 1080점 297승 228패 (56.57%)\n",
      "110위 농심라면다내꺼야 CHALLENGER 1079점 842승 767패 (52.33%)\n",
      "111위 병장 이호성 CHALLENGER 1075점 52승 27패 (65.82%)\n",
      "112위 리브 엔비 CHALLENGER 1075점 309승 266패 (53.74%)\n",
      "113위 pzz 1 CHALLENGER 1074점 315승 245패 (56.25%)\n",
      "114위 zhongjuzhizhan CHALLENGER 1073점 456승 393패 (53.71%)\n",
      "115위 어리고싶다 CHALLENGER 1073점 752승 688패 (52.22%)\n",
      "116위 fuzhu carry CHALLENGER 1073점 1034승 975패 (51.47%)\n",
      "117위 hunzi2 CHALLENGER 1065점 450승 356패 (55.83%)\n",
      "118위 HamBak1 CHALLENGER 1060점 318승 251패 (55.89%)\n",
      "119위 yundingzuanyi CHALLENGER 1057점 1147승 1063패 (51.90%)\n",
      "120위 langman de CHALLENGER 1057점 303승 245패 (55.29%)\n",
      "121위 이성조 CHALLENGER 1055점 890승 821패 (52.02%)\n",
      "122위 Twitch아라드 CHALLENGER 1054점 149승 82패 (64.50%)\n",
      "123위 Fisherr CHALLENGER 1053점 985승 931패 (51.41%)\n",
      "124위 DuDu11 CHALLENGER 1051점 735승 657패 (52.80%)\n",
      "125위 TwitchTV Migung CHALLENGER 1051점 574승 503패 (53.30%)\n",
      "126위 디알엑스스 CHALLENGER 1048점 670승 610패 (52.34%)\n",
      "127위 FATE CHALLENGER 1048점 442승 376패 (54.03%)\n",
      "128위 크로꼬 CHALLENGER 1047점 436승 379패 (53.50%)\n",
      "129위 불운소년 CHALLENGER 1046점 승 패 (0.00%)\n",
      "130위 98tiancai CHALLENGER 1045점 5승 2패 (71.43%)\n",
      "131위 Cc3cC CHALLENGER 1043점 286승 202패 (58.61%)\n",
      "132위 qazesc CHALLENGER 1042점 537승 483패 (52.65%)\n",
      "133위 레전드오브롤1244 CHALLENGER 1042점 386승 306패 (55.78%)\n",
      "134위 NS Sylvie CHALLENGER 1041점 660승 591패 (52.76%)\n",
      "135위 dfgfdgfdz CHALLENGER 1040점 1197승 1122패 (51.62%)\n",
      "136위 lairifangchang CHALLENGER 1040점 575승 519패 (52.56%)\n",
      "137위 안죽는피즈 CHALLENGER 1040점 926승 888패 (51.05%)\n",
      "138위 SPG BaeKHo CHALLENGER 1038점 893승 840패 (51.53%)\n",
      "139위 wei lai ke ji CHALLENGER 1036점 505승 472패 (51.69%)\n",
      "140위 T1 Photon1 CHALLENGER 1036점 469승 398패 (54.09%)\n",
      "141위 Shadow FA 03 CHALLENGER 1035점 195승 140패 (58.21%)\n",
      "142위 No longer love CHALLENGER 1034점 627승 522패 (54.57%)\n",
      "143위 JUG242SH CHALLENGER 1033점 181승 133패 (57.64%)\n",
      "144위 HutaOguojia CHALLENGER 1033점 92승 53패 (63.45%)\n",
      "145위 wdbyzmw CHALLENGER 1031점 641승 561패 (53.33%)\n",
      "146위 TOPKING CHALLENGER 1031점 350승 273패 (56.18%)\n",
      "147위 aaassddffgg CHALLENGER 1030점 834승 735패 (53.15%)\n",
      "148위 FA Arad CHALLENGER 1025점 356승 291패 (55.02%)\n",
      "149위 Destiny CHALLENGER 1024점 544승 475패 (53.39%)\n",
      "150위 골목대장 태훈이 CHALLENGER 1021점 613승 548패 (52.80%)\n"
     ]
    }
   ],
   "source": [
    "for i in data2 :\n",
    "    print(i.text)"
   ]
  },
  {
   "cell_type": "code",
   "execution_count": 11,
   "id": "dd5c2695-4712-4a0e-8632-e31228fe2547",
   "metadata": {},
   "outputs": [
    {
     "name": "stderr",
     "output_type": "stream",
     "text": [
      "C:\\Users\\BIT\\AppData\\Local\\Temp/ipykernel_7880/3063759497.py:5: DeprecationWarning: executable_path has been deprecated, please pass in a Service object\n",
      "  driver = webdriver.Chrome('driver/chromedriver')\n"
     ]
    },
    {
     "name": "stdout",
     "output_type": "stream",
     "text": [
      "[<selenium.webdriver.remote.webelement.WebElement (session=\"63615dec4aaace913385a855e6e49d7d\", element=\"8fadfe29-ce57-467f-b6f9-ff22d79e12b7\")>]\n",
      "[<selenium.webdriver.remote.webelement.WebElement (session=\"63615dec4aaace913385a855e6e49d7d\", element=\"8fadfe29-ce57-467f-b6f9-ff22d79e12b7\")>, <selenium.webdriver.remote.webelement.WebElement (session=\"63615dec4aaace913385a855e6e49d7d\", element=\"8fadfe29-ce57-467f-b6f9-ff22d79e12b7\")>]\n"
     ]
    },
    {
     "name": "stderr",
     "output_type": "stream",
     "text": [
      "C:\\Users\\BIT\\AppData\\Local\\Temp/ipykernel_7880/3063759497.py:14: DeprecationWarning: find_elements_by_* commands are deprecated. Please use find_elements() instead\n",
      "  data3.extend(driver.find_elements_by_css_selector('body > div:nth-child(6) > div:nth-child(1) > div'))\n",
      "C:\\Users\\BIT\\AppData\\Local\\Temp/ipykernel_7880/3063759497.py:17: DeprecationWarning: find_element_by_* commands are deprecated. Please use find_element() instead\n",
      "  driver.find_element_by_xpath(xpath).click()\n"
     ]
    }
   ],
   "source": [
    "from selenium import webdriver\n",
    "from selenium.webdriver.common.keys import Keys\n",
    "from time import sleep\n",
    "\n",
    "driver = webdriver.Chrome('driver/chromedriver') \n",
    "\n",
    "data3 = list()\n",
    "\n",
    "driver.get('https://fow.kr/ranking')\n",
    "xpath = \"\"\"/html/body/div[4]/div[1]/div/input[4]\"\"\"\n",
    "\n",
    "for i in range(2) :\n",
    "    \n",
    "    data3.extend(driver.find_elements_by_css_selector('body > div:nth-child(6) > div:nth-child(1) > div'))\n",
    "    print(data3)\n",
    "\n",
    "    driver.find_element_by_xpath(xpath).click()"
   ]
  },
  {
   "cell_type": "code",
   "execution_count": 9,
   "id": "6c850e4e-073f-475c-b688-231070719e30",
   "metadata": {},
   "outputs": [
    {
     "name": "stdout",
     "output_type": "stream",
     "text": [
      "[<selenium.webdriver.remote.webelement.WebElement (session=\"8e46a35f1bc01a3a408050b416e19f4a\", element=\"e34e5d2f-b2ec-4c17-8975-0638d6024fd7\")>, <selenium.webdriver.remote.webelement.WebElement (session=\"8e46a35f1bc01a3a408050b416e19f4a\", element=\"e34e5d2f-b2ec-4c17-8975-0638d6024fd7\")>]\n"
     ]
    }
   ],
   "source": [
    "print(data3)"
   ]
  },
  {
   "cell_type": "code",
   "execution_count": 10,
   "id": "beaad23a-a5c6-4072-b791-e1903b0682ea",
   "metadata": {},
   "outputs": [
    {
     "name": "stdout",
     "output_type": "stream",
     "text": [
      "<selenium.webdriver.remote.webelement.WebElement (session=\"8e46a35f1bc01a3a408050b416e19f4a\", element=\"e34e5d2f-b2ec-4c17-8975-0638d6024fd7\")>\n",
      "<selenium.webdriver.remote.webelement.WebElement (session=\"8e46a35f1bc01a3a408050b416e19f4a\", element=\"e34e5d2f-b2ec-4c17-8975-0638d6024fd7\")>\n"
     ]
    }
   ],
   "source": [
    "for i in data3 :\n",
    "    print(i)"
   ]
  },
  {
   "cell_type": "code",
   "execution_count": 12,
   "id": "eb9d5d96-b197-4f1b-b0f7-7e5dcf219939",
   "metadata": {
    "collapsed": true,
    "jupyter": {
     "outputs_hidden": true
    },
    "tags": []
   },
   "outputs": [
    {
     "ename": "TypeError",
     "evalue": "'WebElement' object is not iterable",
     "output_type": "error",
     "traceback": [
      "\u001b[1;31m---------------------------------------------------------------------------\u001b[0m",
      "\u001b[1;31mTypeError\u001b[0m                                 Traceback (most recent call last)",
      "\u001b[1;32m~\\AppData\\Local\\Temp/ipykernel_7880/1396630415.py\u001b[0m in \u001b[0;36m<module>\u001b[1;34m\u001b[0m\n\u001b[0;32m      1\u001b[0m \u001b[1;32mfor\u001b[0m \u001b[0mi\u001b[0m \u001b[1;32min\u001b[0m \u001b[0mdata3\u001b[0m \u001b[1;33m:\u001b[0m  \u001b[1;31m#이거는 위에가 .append 일때..\u001b[0m\u001b[1;33m\u001b[0m\u001b[1;33m\u001b[0m\u001b[0m\n\u001b[1;32m----> 2\u001b[1;33m     \u001b[1;32mfor\u001b[0m \u001b[0mn\u001b[0m \u001b[1;32min\u001b[0m \u001b[0mi\u001b[0m \u001b[1;33m:\u001b[0m\u001b[1;33m\u001b[0m\u001b[1;33m\u001b[0m\u001b[0m\n\u001b[0m\u001b[0;32m      3\u001b[0m         \u001b[0mprint\u001b[0m\u001b[1;33m(\u001b[0m\u001b[0mn\u001b[0m\u001b[1;33m)\u001b[0m\u001b[1;33m\u001b[0m\u001b[1;33m\u001b[0m\u001b[0m\n",
      "\u001b[1;31mTypeError\u001b[0m: 'WebElement' object is not iterable"
     ]
    }
   ],
   "source": [
    "for i in data3 :  #이거는 위에가 .append 일때..\n",
    "    for n in i :\n",
    "        print(n)"
   ]
  },
  {
   "cell_type": "code",
   "execution_count": 177,
   "id": "5bd0fbef-93a7-4a73-99fa-45e097eb4c7e",
   "metadata": {},
   "outputs": [
    {
     "name": "stdout",
     "output_type": "stream",
     "text": [
      "[[1, 2]]\n"
     ]
    }
   ],
   "source": [
    "list3 = list()\n",
    "list3.append([1,2])\n",
    "print(list3)"
   ]
  },
  {
   "cell_type": "code",
   "execution_count": 178,
   "id": "bf312c28-8c77-474d-a5b3-2dd5ecc7cd14",
   "metadata": {},
   "outputs": [
    {
     "name": "stdout",
     "output_type": "stream",
     "text": [
      "[[1, 2], [3, 4]]\n"
     ]
    }
   ],
   "source": [
    "list3.append([3,4])\n",
    "print(list3)"
   ]
  },
  {
   "cell_type": "code",
   "execution_count": 183,
   "id": "854622f4-bf42-4192-999d-e539892ec865",
   "metadata": {},
   "outputs": [
    {
     "name": "stdout",
     "output_type": "stream",
     "text": [
      "1\n",
      "2\n",
      "3\n",
      "4\n"
     ]
    }
   ],
   "source": [
    "for i in list3 :\n",
    "    for n in i :\n",
    "        print(n)\n",
    "    "
   ]
  },
  {
   "cell_type": "markdown",
   "id": "b80b0a8b-9de1-4300-929b-c4ddbd3ec058",
   "metadata": {},
   "source": [
    "#### 위의 랭킹을 받아와서 출력하는 프로그램은 왜인지 click 이 먼저되는\n",
    "#### 관계로 포기... 화면에서 원하는 정보를 받아오는 시간보다 click 에 드는 \n",
    "#### 시간이 더 짧고, 받아오는데 너무 오래걸려서 click을 먼저 처리해버리는 \n",
    "#### 것이라고 예상되나 진짜 이유는 잘 모름... \n",
    "#### 그래도 클릭도 되고 정보를 리스트에 넣어서 출력도 되니까 만족."
   ]
  },
  {
   "cell_type": "code",
   "execution_count": null,
   "id": "f204b9f1-53b9-471e-9844-04da68b72cac",
   "metadata": {},
   "outputs": [],
   "source": []
  }
 ],
 "metadata": {
  "kernelspec": {
   "display_name": "Python 3 (ipykernel)",
   "language": "python",
   "name": "python3"
  },
  "language_info": {
   "codemirror_mode": {
    "name": "ipython",
    "version": 3
   },
   "file_extension": ".py",
   "mimetype": "text/x-python",
   "name": "python",
   "nbconvert_exporter": "python",
   "pygments_lexer": "ipython3",
   "version": "3.9.7"
  }
 },
 "nbformat": 4,
 "nbformat_minor": 5
}
