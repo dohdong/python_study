{
 "cells": [
  {
   "cell_type": "code",
   "execution_count": 40,
   "id": "71c14889-d531-4bee-84a9-2971cfbd8c46",
   "metadata": {},
   "outputs": [],
   "source": [
    "import requests"
   ]
  },
  {
   "cell_type": "code",
   "execution_count": 4,
   "id": "82c717e8-6934-4ded-a2b2-9b2dfec10377",
   "metadata": {},
   "outputs": [],
   "source": [
    "response = requests.get('http://www.naver.com')\n",
    "naver = response.text"
   ]
  },
  {
   "cell_type": "code",
   "execution_count": 299,
   "id": "e06994ad-9001-4e77-873f-890d3bca9ccf",
   "metadata": {
    "tags": []
   },
   "outputs": [],
   "source": [
    "#print(naver)"
   ]
  },
  {
   "cell_type": "code",
   "execution_count": 54,
   "id": "94c0a5fa-28ab-4444-930a-e6c9d7313d60",
   "metadata": {},
   "outputs": [],
   "source": [
    "response = requests.put('http://httpbin.org/ip')"
   ]
  },
  {
   "cell_type": "code",
   "execution_count": 55,
   "id": "028757b1-cdc3-4a3f-bbd6-40d80a2f4689",
   "metadata": {},
   "outputs": [
    {
     "name": "stdout",
     "output_type": "stream",
     "text": [
      "<class 'requests.models.Response'> <Response [405]>\n",
      "405\n",
      "ISO-8859-1\n",
      "\n",
      "<!DOCTYPE HTML PUBLIC \"-//W3C//DTD HTML 3.2 Final//EN\">\n",
      "<title>405 Method Not Allowed</title>\n",
      "<h1>Method Not Allowed</h1>\n",
      "<p>The method is not allowed for the requested URL.</p>\n",
      "\n",
      "\n",
      "b'<!DOCTYPE HTML PUBLIC \"-//W3C//DTD HTML 3.2 Final//EN\">\\n<title>405 Method Not Allowed</title>\\n<h1>Method Not Allowed</h1>\\n<p>The method is not allowed for the requested URL.</p>\\n'\n"
     ]
    }
   ],
   "source": [
    "print(type(response),response)\n",
    "print(response.status_code)\n",
    "print(response.encoding + '\\n')\n",
    "print(response.text + '\\n')\n",
    "print(response.content )"
   ]
  },
  {
   "cell_type": "code",
   "execution_count": 1,
   "id": "1b4f30aa-6581-4312-b0c2-5629e377a99b",
   "metadata": {
    "tags": []
   },
   "outputs": [],
   "source": [
    "import requests\n",
    "from bs4 import BeautifulSoup\n",
    "\n",
    "response = requests.get('http://www.summet.com/dmsi/html/codesamples/addresses.html')\n",
    "#print(response.text)\n",
    "\n",
    "html_doc = response.text\n",
    "#html_doc (얘는 str 타입이라 .tap 을 해도 많지 않음.) , 반면에 soup이라는 객체로\n",
    "                                    # 넣어주어서 .tap 을 하면 가능한 기능이 많음.\n",
    "    \n",
    "soup = BeautifulSoup(html_doc, 'html.parser') #html 문서로 읽어오겠다는 의미~ \n",
    "#soup              #(        , 'lxml.parser') 로 하면 xml로 읽어옴.\n"
   ]
  },
  {
   "cell_type": "code",
   "execution_count": 58,
   "id": "f384cb94-cc57-46f4-a6fd-5087aeeb2788",
   "metadata": {},
   "outputs": [
    {
     "name": "stdout",
     "output_type": "stream",
     "text": [
      "<title>Sample Addresses!</title>\n",
      "title\n",
      "Sample Addresses!\n"
     ]
    }
   ],
   "source": [
    "print(soup.title)\n",
    "print(soup.title.name)\n",
    "print(soup.title.string)"
   ]
  },
  {
   "cell_type": "code",
   "execution_count": 63,
   "id": "7bc25c72-49d8-4fbb-954a-64b0a2124df7",
   "metadata": {},
   "outputs": [
    {
     "name": "stdout",
     "output_type": "stream",
     "text": [
      "<li>Cecilia Chapman<br/>711-2880 Nulla St.<br/>Mankato Mississippi 96522<br/>(257) 563-7401</li>\n",
      "None\n"
     ]
    }
   ],
   "source": [
    "print(soup.ul.li) #soup.li 만 써도 비슷은 한데 ul에 소속된 애들중에 li 만 찾고 싶으면\n",
    "                 # soup.ul.li 로 ul 밑에 녀석들 중에 li 만 가져오게 되었다. 굳!\n",
    "print(soup.img)"
   ]
  },
  {
   "cell_type": "markdown",
   "id": "19a898c2-895e-455f-9d58-ad5efbc07a80",
   "metadata": {
    "tags": []
   },
   "source": [
    "- find() 함수는 조건을 만족하는 태그를 하나만 가져오는 함수이다 \n",
    "\n",
    "- find_all() 함수는 원하는 태그가 여러 개 있을 경우 해당하는 태그를 한꺼번에 가져오는 함수이다."
   ]
  },
  {
   "cell_type": "code",
   "execution_count": 344,
   "id": "d6a9bcba-326c-49d1-931e-f4204d71ef02",
   "metadata": {},
   "outputs": [
    {
     "name": "stdout",
     "output_type": "stream",
     "text": [
      "<h1> A page full of sample addresses for your parsing enjoyment!</h1>\n",
      "<class 'bs4.element.Tag'>\n",
      "[<h1> A page full of sample addresses for your parsing enjoyment!</h1>]\n",
      "<class 'bs4.element.ResultSet'>\n"
     ]
    }
   ],
   "source": [
    "print(soup.find('h1'))\n",
    "print(type(soup.find('h1')))\n",
    "print(soup.find_all('h1'))\n",
    "print(type(soup.find_all('h1')))  # 뭐지 왜 타입이 클래스 라고 나오지? 근데 출력되는거\n",
    "                                  # 보면 리스트 [] 타입이 맞는거 같은데... 흠...\n",
    "                                  # [] 로 출력되는거 보면 맞다!"
   ]
  },
  {
   "cell_type": "code",
   "execution_count": 350,
   "id": "0977f55e-646c-4f23-b5d0-3cabb5fba572",
   "metadata": {},
   "outputs": [
    {
     "name": "stdout",
     "output_type": "stream",
     "text": [
      "<class 'bs4.element.ResultSet'>\n"
     ]
    }
   ],
   "source": [
    "print(type(soup.find_all('li>a')))\n",
    "#soup.find_all('li')"
   ]
  },
  {
   "cell_type": "markdown",
   "id": "03e84fa9-3d58-4798-90dd-f48feda0ca27",
   "metadata": {},
   "source": [
    "- get_text() 함수를 통해 태그 내의 텍스트 데이터를 추출하는 것은 아래와 같다."
   ]
  },
  {
   "cell_type": "code",
   "execution_count": 340,
   "id": "35165fab-8dde-4902-bf5d-4d1bc9db703a",
   "metadata": {
    "tags": []
   },
   "outputs": [
    {
     "ename": "IndentationError",
     "evalue": "expected an indented block (Temp/ipykernel_2156/3185347682.py, line 10)",
     "output_type": "error",
     "traceback": [
      "\u001b[1;36m  File \u001b[1;32m\"C:\\Users\\BIT\\AppData\\Local\\Temp/ipykernel_2156/3185347682.py\"\u001b[1;36m, line \u001b[1;32m10\u001b[0m\n\u001b[1;33m    \u001b[0m\n\u001b[1;37m    ^\u001b[0m\n\u001b[1;31mIndentationError\u001b[0m\u001b[1;31m:\u001b[0m expected an indented block\n"
     ]
    }
   ],
   "source": [
    "li_list = list()\n",
    "\n",
    "li_list = soup.find_all('li')\n",
    "# print(li_list)\n",
    "# print(type(li_list))\n",
    "\n",
    "for li in li_list :\n",
    "    #print(type(li))\n",
    "    #print(li.get_text())\n",
    "    \n"
   ]
  },
  {
   "cell_type": "markdown",
   "id": "40ced82d-b0d9-4c89-b264-3ccef465f807",
   "metadata": {},
   "source": [
    "naver~"
   ]
  },
  {
   "cell_type": "code",
   "execution_count": 327,
   "id": "ca729c4f-8f56-4b9d-9dc6-b95e60e1bdc0",
   "metadata": {},
   "outputs": [],
   "source": [
    "import requests\n",
    "from bs4 import BeautifulSoup\n",
    "\n",
    "response = requests.get('https://www.naver.com')\n",
    "\n",
    "\n",
    "html_doc = response.text\n",
    "\n",
    "    \n",
    "soup = BeautifulSoup(html_doc, 'html.parser')\n",
    "#soup\n"
   ]
  },
  {
   "cell_type": "code",
   "execution_count": 328,
   "id": "4c637227-6c95-41e0-9a39-af1381875196",
   "metadata": {
    "tags": []
   },
   "outputs": [
    {
     "data": {
      "text/plain": [
       "[<a href=\"#newsstand\"><span>뉴스스탠드 바로가기</span></a>]"
      ]
     },
     "execution_count": 328,
     "metadata": {},
     "output_type": "execute_result"
    }
   ],
   "source": [
    "soup.find_all('a')    # href : 속성  으로 원하는 녀석들만 골라서 출력이 가능하다.\n",
    "soup.find_all('a', {'href' : '#newsstand'})  # 딕셔너리 형태로 넣어주는 것.\n",
    "#soup.find_all('button',{'type' : 'button'})"
   ]
  },
  {
   "cell_type": "markdown",
   "id": "2d13c2c4-eb95-4f87-b631-e91aec0cea41",
   "metadata": {
    "tags": []
   },
   "source": [
    "soup.select('a')\n",
    "soup.select('a > span ')   # a태그 자식의 span만 가져오라는 뜻. \n",
    "                            #   >  얘의 의미가 자식을 가져오라는 의미이다.\n"
   ]
  },
  {
   "cell_type": "code",
   "execution_count": 331,
   "id": "e999ec76-4c28-40fe-8d2f-57f924eb32dc",
   "metadata": {},
   "outputs": [],
   "source": [
    "import requests\n",
    "from bs4 import BeautifulSoup\n",
    "\n",
    "response = requests.get('https://search.naver.com/search.naver?where=nexearch&sm=top_hty&fbm=1&ie=utf8&query=bts')\n",
    "\n",
    "\n",
    "html_doc = response.text\n",
    "\n",
    "    \n",
    "soup = BeautifulSoup(html_doc, 'html.parser')\n",
    "#soup\n"
   ]
  },
  {
   "cell_type": "markdown",
   "id": "b1c89623-da61-4961-b5b4-4598b06c8bbe",
   "metadata": {
    "tags": []
   },
   "source": [
    "soup.select('#main_pack > section.sc_new.sp_nnews._prs_nws_all > div > div.group_news > ul')"
   ]
  },
  {
   "cell_type": "code",
   "execution_count": 332,
   "id": "5b1df2eb-6871-4d71-be1a-95247f319170",
   "metadata": {
    "tags": []
   },
   "outputs": [
    {
     "name": "stdout",
     "output_type": "stream",
     "text": [
      "한 벌에 12만원…BTS도 놀란 ‘BTS 잠옷’ 가격\n",
      "BTS 뷔가 부른 OST, 한국 첫 빌보드 ‘핫 100‘ 진입\n",
      "네이버웹툰, BTS 슈퍼캐스팅 옥외광고 코엑스 케이팝 스퀘어에 공개\n",
      "BTS 후보 오른 그래미 시상식, 오미크론 여파 연기 가능성\n"
     ]
    }
   ],
   "source": [
    "tag = soup.select_one('#main_pack > section.sc_new.sp_nnews._prs_nws_all > div > div.group_news > ul')\n",
    "#위의 .select_one 은 타입이 tag 이고, tag만 밑에처럼 또 .select 가 가능하다.\n",
    "\n",
    "news_list = tag.select('li > div > div > a')\n",
    "\n",
    "for n in news_list:\n",
    "    print(n.get_text())"
   ]
  },
  {
   "cell_type": "markdown",
   "id": "d50dc535-1b94-4a75-a525-4549d1f1ac40",
   "metadata": {
    "tags": []
   },
   "source": [
    "print(tag)"
   ]
  },
  {
   "cell_type": "code",
   "execution_count": 195,
   "id": "c551c79f-7758-47a9-8f71-0832cdace450",
   "metadata": {},
   "outputs": [
    {
     "name": "stdout",
     "output_type": "stream",
     "text": [
      "<class 'bs4.element.Tag'>\n"
     ]
    }
   ],
   "source": [
    "print(type(n))"
   ]
  },
  {
   "cell_type": "code",
   "execution_count": null,
   "id": "062c4691-3b30-4608-ab7f-7e9d1c129b22",
   "metadata": {},
   "outputs": [],
   "source": [
    "#main_pack > section.sc_new.sp_nnews._prs_nws_all > div > div.group_news"
   ]
  },
  {
   "cell_type": "code",
   "execution_count": 203,
   "id": "e1884378-ca3f-4cf5-aa90-e0f6e30cebba",
   "metadata": {},
   "outputs": [
    {
     "name": "stdout",
     "output_type": "stream",
     "text": [
      "한 벌에 12만원…BTS도 놀란 ‘BTS 잠옷’ 가격\n",
      "BTS 뷔가 부른 OST, 한국 첫 빌보드 ‘핫 100‘ 진입\n",
      "네이버웹툰, BTS 슈퍼캐스팅 옥외광고 코엑스 케이팝 스퀘어에 공개\n",
      "BTS 후보 오른 그래미 시상식, 오미크론 여파 연기 가능성\n"
     ]
    }
   ],
   "source": [
    "news_list1 = tag.select('#main_pack > section.sc_new.sp_nnews._prs_nws_all > div > div.group_news > ul > li > div > div > a')\n",
    "\n",
    "for n1 in news_list:\n",
    "    print(n1.get_text())"
   ]
  },
  {
   "cell_type": "code",
   "execution_count": 216,
   "id": "6634bec6-e60f-402c-b995-fdf9838eaf84",
   "metadata": {
    "collapsed": true,
    "jupyter": {
     "outputs_hidden": true
    },
    "tags": []
   },
   "outputs": [
    {
     "name": "stdout",
     "output_type": "stream",
     "text": [
      "[<a class=\"news_tit\" href=\"https://www.chosun.com/economy/industry-company/2022/01/04/5RBS7KTE6JFWVNJX4BCKC4VKJ4/?utm_source=naver&amp;utm_medium=referral&amp;utm_campaign=naver-news\" onclick=\"return goOtherCR(this, 'a=nws_all*h.tit&amp;r=1&amp;i=880000ED_000000000000000003663976&amp;g=023.0003663976&amp;u='+urlencode(this.href));\" target=\"_blank\" title=\"한 벌에 12만원…BTS도 놀란 ‘BTS 잠옷’ 가격\">한 벌에 12만원…<mark>BTS</mark>도 놀란 ‘<mark>BTS</mark> 잠옷’ 가격</a>, <a class=\"news_tit\" href=\"https://www.seoul.co.kr/news/newsView.php?id=20220105500019&amp;wlog_tag3=naver\" onclick=\"return goOtherCR(this, 'a=nws_all*h.tit&amp;r=4&amp;i=880000D1_000000000000000003242562&amp;g=081.0003242562&amp;u='+urlencode(this.href));\" target=\"_blank\" title=\"BTS 뷔가 부른 OST, 한국 첫 빌보드 ‘핫 100‘ 진입\"><mark>BTS</mark> 뷔가 부른 OST, 한국 첫 빌보드 ‘핫 100‘ 진입</a>, <a class=\"news_tit\" href=\"http://www.fnnews.com/news/202201040847465379\" onclick=\"return goOtherCR(this, 'a=nws_all*h.tit&amp;r=7&amp;i=880000FF_000000000000000004766273&amp;g=014.0004766273&amp;u='+urlencode(this.href));\" target=\"_blank\" title=\"네이버웹툰, BTS 슈퍼캐스팅 옥외광고 코엑스 케이팝 스퀘어에 공개\">네이버웹툰, <mark>BTS</mark> 슈퍼캐스팅 옥외광고 코엑스 케이팝 스퀘어에 공개</a>, <a class=\"news_tit\" href=\"http://yna.kr/AKR20220105005100075?did=1195m\" onclick=\"return goOtherCR(this, 'a=nws_all*a.tit&amp;r=10&amp;i=880000D8_000000000000000012897843&amp;g=001.0012897843&amp;u='+urlencode(this.href));\" target=\"_blank\" title=\"BTS 후보 오른 그래미 시상식, 오미크론 여파 연기 가능성\"><mark>BTS</mark> 후보 오른 그래미 시상식, 오미크론 여파 연기 가능성</a>]\n",
      "<class 'bs4.element.ResultSet'>\n"
     ]
    }
   ],
   "source": [
    "print(news_list1)\n",
    "print(type(news_list1))"
   ]
  },
  {
   "cell_type": "code",
   "execution_count": 206,
   "id": "68011141-5920-4767-9e25-42e7aa924668",
   "metadata": {},
   "outputs": [
    {
     "name": "stdout",
     "output_type": "stream",
     "text": [
      "<class 'bs4.element.Tag'>\n"
     ]
    }
   ],
   "source": [
    "print(type(n1))"
   ]
  },
  {
   "cell_type": "code",
   "execution_count": 224,
   "id": "a9ee8c93-ced8-4e44-b3d9-6a4ab567f78d",
   "metadata": {
    "collapsed": true,
    "jupyter": {
     "outputs_hidden": true
    },
    "tags": []
   },
   "outputs": [
    {
     "ename": "AttributeError",
     "evalue": "ResultSet object has no attribute 'get_text'. You're probably treating a list of elements like a single element. Did you call find_all() when you meant to call find()?",
     "output_type": "error",
     "traceback": [
      "\u001b[1;31m---------------------------------------------------------------------------\u001b[0m",
      "\u001b[1;31mAttributeError\u001b[0m                            Traceback (most recent call last)",
      "\u001b[1;32m~\\AppData\\Local\\Temp/ipykernel_2156/4017030633.py\u001b[0m in \u001b[0;36m<module>\u001b[1;34m\u001b[0m\n\u001b[1;32m----> 1\u001b[1;33m \u001b[0mprint\u001b[0m\u001b[1;33m(\u001b[0m\u001b[0mnews_list1\u001b[0m\u001b[1;33m.\u001b[0m\u001b[0mget_text\u001b[0m\u001b[1;33m(\u001b[0m\u001b[1;33m)\u001b[0m\u001b[1;33m)\u001b[0m \u001b[1;31m# 이거 조금 이따 해보자. 뭐지? #밑에 의문해결\u001b[0m\u001b[1;33m\u001b[0m\u001b[1;33m\u001b[0m\u001b[0m\n\u001b[0m",
      "\u001b[1;32m~\\anaconda3\\lib\\site-packages\\bs4\\element.py\u001b[0m in \u001b[0;36m__getattr__\u001b[1;34m(self, key)\u001b[0m\n\u001b[0;32m   2251\u001b[0m     \u001b[1;32mdef\u001b[0m \u001b[0m__getattr__\u001b[0m\u001b[1;33m(\u001b[0m\u001b[0mself\u001b[0m\u001b[1;33m,\u001b[0m \u001b[0mkey\u001b[0m\u001b[1;33m)\u001b[0m\u001b[1;33m:\u001b[0m\u001b[1;33m\u001b[0m\u001b[1;33m\u001b[0m\u001b[0m\n\u001b[0;32m   2252\u001b[0m         \u001b[1;34m\"\"\"Raise a helpful exception to explain a common code fix.\"\"\"\u001b[0m\u001b[1;33m\u001b[0m\u001b[1;33m\u001b[0m\u001b[0m\n\u001b[1;32m-> 2253\u001b[1;33m         raise AttributeError(\n\u001b[0m\u001b[0;32m   2254\u001b[0m             \u001b[1;34m\"ResultSet object has no attribute '%s'. You're probably treating a list of elements like a single element. Did you call find_all() when you meant to call find()?\"\u001b[0m \u001b[1;33m%\u001b[0m \u001b[0mkey\u001b[0m\u001b[1;33m\u001b[0m\u001b[1;33m\u001b[0m\u001b[0m\n\u001b[0;32m   2255\u001b[0m         )\n",
      "\u001b[1;31mAttributeError\u001b[0m: ResultSet object has no attribute 'get_text'. You're probably treating a list of elements like a single element. Did you call find_all() when you meant to call find()?"
     ]
    }
   ],
   "source": [
    "print(news_list1.get_text()) # 이거 조금 이따 해보자. 뭐지? #밑에 의문해결"
   ]
  },
  {
   "cell_type": "markdown",
   "id": "cbe7ca57-9427-4eb4-8213-251516c00d20",
   "metadata": {},
   "source": [
    "- 리스트 변수에는 get_text()라는 함수가 존재하지 않습니다. 하지만, 리스트 변수 안에 있는 각 데이터를 for 문으로 하나씩 꺼내면, 해당 데이터는 get_text()라는 함수를 쓸 수 있는 객체이기 때문에, 이와 같이 하나씩 꺼내서 get_text() 함수를 사용하는 것입니다.\n",
    "\n",
    "- 다른 것들이랑 결국에는 같은 이유로 for 문을 돌려서 꺼내 써야한다.\n",
    "\n",
    "- 간략히 사과 박스가 있고 그 안에 사과가 있는 상황으로 생각해보시면, 사과 박스는 먹을 수 없어서요. 사과 박스 안에서 각 사과를 꺼내야 해당 사과를 먹을 수 있는 이치와 동일하다고 보시면 좀더 낫지 않을까 생각합니다. 사과 박스가 리스트라고 보시면 좋고, 리스트 안에 있는 각 데이터가 사과 이고, 먹는다는 행위가 get_text() 함수라고 생각하시면 좀더 이해가 쉽지 않을까 생각합니다."
   ]
  },
  {
   "cell_type": "code",
   "execution_count": 223,
   "id": "f9701266-75b6-4a62-bf81-93bd21b4000d",
   "metadata": {},
   "outputs": [
    {
     "name": "stdout",
     "output_type": "stream",
     "text": [
      "['https://www.chosun.com/economy/industry-company/2022/01/04/5RBS7KTE6JFWVNJX4BCKC4VKJ4/?utm_source=naver&utm_medium=referral&utm_campaign=naver-news']\n",
      "['https://www.seoul.co.kr/news/newsView.php?id=20220105500019&wlog_tag3=naver']\n",
      "['http://www.fnnews.com/news/202201040847465379']\n",
      "['http://yna.kr/AKR20220105005100075?did=1195m']\n"
     ]
    }
   ],
   "source": [
    "tag = soup.select_one('#main_pack > section.sc_new.sp_nnews._prs_nws_all > div > div.group_news > ul')\n",
    "\n",
    "news_list = tag.select('li > div > div > a')\n",
    "\n",
    "# for n in news_list:\n",
    "#     print(n.get_attribute_list('title'))\n",
    "for n in news_list:\n",
    "    print(n.get_attribute_list('href'))"
   ]
  },
  {
   "cell_type": "code",
   "execution_count": null,
   "id": "5f28026b-36a3-4bba-95f8-d4075e595836",
   "metadata": {},
   "outputs": [],
   "source": [
    "for n in news_list:\n",
    "    print(n.get_attribute_list('href'))"
   ]
  },
  {
   "cell_type": "code",
   "execution_count": 286,
   "id": "5d62bf50-a87c-4a60-bb15-a5c2afbc3027",
   "metadata": {},
   "outputs": [],
   "source": [
    "import requests\n",
    "from bs4 import BeautifulSoup\n",
    "\n",
    "response = requests.get('https://fow.kr/ranking#1')\n",
    "\n",
    "\n",
    "html_doc = response.text\n",
    "\n",
    "    \n",
    "soup = BeautifulSoup(html_doc, 'html.parser')"
   ]
  },
  {
   "cell_type": "code",
   "execution_count": 287,
   "id": "9c0b2967-411f-4391-a5e7-d3811617739a",
   "metadata": {
    "tags": []
   },
   "outputs": [
    {
     "data": {
      "text/plain": [
       "[<table class=\"tablesorter rank_ranking\" style=\"width:100%;\">\n",
       " <thead>\n",
       " <tr>\n",
       " <th width=\"60\">순위</th>\n",
       " <th width=\"180\">소환사명</th>\n",
       " <th width=\"120\">티어</th>\n",
       " <th>LP</th>\n",
       " <th>승률</th>\n",
       " <th width=\"120\">모스트 챔프</th>\n",
       " </tr>\n",
       " </thead>\n",
       " <tbody id=\"r_out\">\n",
       " </tbody>\n",
       " </table>]"
      ]
     },
     "execution_count": 287,
     "metadata": {},
     "output_type": "execute_result"
    }
   ],
   "source": [
    "soup.select('body > div:nth-child(6) > div:nth-child(1) > div > table')\n",
    "#얘는 이 밑으로 자바스크립트 코드라서 찾지 못한다. ㅠㅜ\n",
    "# 이 사이트는 아무래도 동적 사이트라 잘 안되는 듯 싶다."
   ]
  },
  {
   "cell_type": "code",
   "execution_count": 292,
   "id": "d855420e-72a4-4eab-b19d-e5400c4f080b",
   "metadata": {},
   "outputs": [],
   "source": [
    "import requests\n",
    "from bs4 import BeautifulSoup\n",
    "\n",
    "response = requests.get('https://search.naver.com/search.naver?where=nexearch&sm=top_hty&fbm=1&ie=utf8&query=%EC%83%81%EB%8F%84%EB%8F%99+%EB%82%A0%EC%94%A8')\n",
    "\n",
    "\n",
    "html_doc = response.text\n",
    "\n",
    "    \n",
    "soup = BeautifulSoup(html_doc, 'html.parser')"
   ]
  },
  {
   "cell_type": "code",
   "execution_count": 293,
   "id": "9139f80f-91fe-4ad2-bf50-4a1f9dd1723c",
   "metadata": {
    "tags": []
   },
   "outputs": [],
   "source": [
    "a = soup.select('#main_pack > section.sc_new.cs_weather_new._cs_weather > div._tab_flicking > div.content_wrap > div.open > div:nth-child(2) > div > div')"
   ]
  },
  {
   "cell_type": "markdown",
   "id": "843f57d7-bbba-4000-a5c9-33c9477be9ef",
   "metadata": {
    "tags": []
   },
   "source": [
    "for n2 in a:\n",
    "    print(n2.get_text())"
   ]
  },
  {
   "cell_type": "code",
   "execution_count": 295,
   "id": "82584ea3-efda-4087-9cda-d5a3d0b7e1c8",
   "metadata": {},
   "outputs": [],
   "source": [
    "b = soup.select('#main_pack > section.sc_new.cs_weather_new._cs_weather > div._tab_flicking > div.content_wrap > div.content_area > div.inner > div > div> ul >li')"
   ]
  },
  {
   "cell_type": "markdown",
   "id": "9c839b5e-aa6a-4808-afd9-10a3418d70a4",
   "metadata": {
    "tags": []
   },
   "source": [
    "print(b)"
   ]
  },
  {
   "cell_type": "code",
   "execution_count": 296,
   "id": "b1b8d306-53db-4f93-b275-1f77cc9a8515",
   "metadata": {},
   "outputs": [
    {
     "name": "stdout",
     "output_type": "stream",
     "text": [
      "    오늘 1.05.      오전 10%  구름많음    오후 20%  구름많음     최저기온-7° / 최고기온4°    \n",
      "    내일 1.06.      10%  맑음    0%  맑음     최저기온-5° / 최고기온4°    \n",
      "    금 1.07.      0%  맑음    0%  맑음     최저기온-6° / 최고기온4°    \n",
      "    토 1.08.      30%  구름많음    30%  구름많음     최저기온-4° / 최고기온4°    \n",
      "    일 1.09.      30%  흐림    30%  구름많음     최저기온-1° / 최고기온4°    \n",
      "    월 1.10.      30%  구름많음    30%  구름많음     최저기온-4° / 최고기온3°    \n",
      "    화 1.11.      0%  맑음    0%  맑음     최저기온-8° / 최고기온-1°    \n",
      "    수 1.12.      0%  맑음    0%  맑음     최저기온-7° / 최고기온1°    \n",
      "    목 1.13.      30%  구름많음    30%  구름많음     최저기온-4° / 최고기온3°    \n",
      "    금 1.14.      0%  맑음    0%  맑음     최저기온-6° / 최고기온0°    \n"
     ]
    }
   ],
   "source": [
    "for n2 in b:\n",
    "    print(n2.get_text())"
   ]
  },
  {
   "cell_type": "markdown",
   "id": "157106dd-7e98-4c22-a6e0-a7b2b13b6a65",
   "metadata": {},
   "source": []
  },
  {
   "cell_type": "code",
   "execution_count": null,
   "id": "d9f906de-5f60-4c0d-9e41-5438671c5ccf",
   "metadata": {},
   "outputs": [],
   "source": []
  }
 ],
 "metadata": {
  "kernelspec": {
   "display_name": "Python 3 (ipykernel)",
   "language": "python",
   "name": "python3"
  },
  "language_info": {
   "codemirror_mode": {
    "name": "ipython",
    "version": 3
   },
   "file_extension": ".py",
   "mimetype": "text/x-python",
   "name": "python",
   "nbconvert_exporter": "python",
   "pygments_lexer": "ipython3",
   "version": "3.9.7"
  }
 },
 "nbformat": 4,
 "nbformat_minor": 5
}
