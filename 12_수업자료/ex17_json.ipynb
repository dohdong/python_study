{
 "cells": [
  {
   "cell_type": "markdown",
   "id": "593a809b-5e46-42c8-98f4-35c5e96c4e13",
   "metadata": {},
   "source": [
    "# JSON(JavaScript Object Notation)"
   ]
  },
  {
   "cell_type": "markdown",
   "id": "76181046-0f18-4baa-92d8-dbbcb2c05f5a",
   "metadata": {},
   "source": [
    "## 1. JSON\n",
    "* Javascript 객체 문법으로 구조화된 데이터를 표현하기 위한 문자 기반의 표준 포맷입니다.\n",
    "* JSON은 텍스트 기반이므로 어떠한 프로그래밍 언어에서도 JSON 데이터를 읽고 사용할 수 있습니다.\n",
    "* 이러한 JSON은 XML의 대안으로서 좀 더 쉽게 데이터를 교환하고 저장하기 위하여 고안되었습니다.\n",
    "\n",
    "1. JSON 데이터는 이름과 값의 쌍으로 이루어집니다.\n",
    "2. JSON 데이터는 쉼표(,)로 나열됩니다.\n",
    "3. 객체(object)는 중괄호({})로 둘러쌓아 표현합니다.\n",
    "4. 배열(array)은 대괄호([])로 둘러쌓아 표현합니다."
   ]
  },
  {
   "cell_type": "markdown",
   "id": "d71a28d1-a6e3-48fa-b295-293cbcb584b4",
   "metadata": {},
   "source": [
    "### (1) JSON 데이터 "
   ]
  },
  {
   "cell_type": "code",
   "execution_count": 6,
   "id": "ccd38d63-2c76-4e6f-8f80-03cf0ffbccc0",
   "metadata": {},
   "outputs": [
    {
     "ename": "SyntaxError",
     "evalue": "illegal target for annotation (3094610008.py, line 1)",
     "output_type": "error",
     "traceback": [
      "\u001b[0;36m  File \u001b[0;32m\"/tmp/ipykernel_396/3094610008.py\"\u001b[0;36m, line \u001b[0;32m1\u001b[0m\n\u001b[0;31m    \"데이터 이름\": 데이터의 값\u001b[0m\n\u001b[0m    ^\u001b[0m\n\u001b[0;31mSyntaxError\u001b[0m\u001b[0;31m:\u001b[0m illegal target for annotation\n"
     ]
    }
   ],
   "source": [
    "\"데이터 이름\": 데이터의 값"
   ]
  },
  {
   "cell_type": "markdown",
   "id": "e82ba74a-2b96-4007-bacd-5b5de45fedd4",
   "metadata": {},
   "source": [
    "* 데이터의 값으로는 다음과 같은 타입이 올 수 있습니다.\n",
    "\n",
    "1. 숫자(number)\n",
    "2. 문자열(string)\n",
    "3. 불리언(boolean)\n",
    "4. 객체(object)\n",
    "5. 배열(array)\n",
    "6. NULL"
   ]
  },
  {
   "cell_type": "markdown",
   "id": "2c30bbc0-5374-4b2d-9837-56cff332d55b",
   "metadata": {},
   "source": [
    "### (2) JSON 객체"
   ]
  },
  {
   "cell_type": "code",
   "execution_count": 3,
   "id": "5a30b1bc-0336-405b-abf5-08a941679741",
   "metadata": {},
   "outputs": [
    {
     "data": {
      "text/plain": [
       "{'name': '식빵', 'family': '웰시코기', 'age': 1, 'weight': 2.14}"
      ]
     },
     "execution_count": 3,
     "metadata": {},
     "output_type": "execute_result"
    }
   ],
   "source": [
    "{\n",
    "    \"name\": \"식빵\",\n",
    "    \"family\": \"웰시코기\",\n",
    "    \"age\": 1,\n",
    "    \"weight\": 2.14\n",
    "}"
   ]
  },
  {
   "cell_type": "markdown",
   "id": "008bbda2-32a6-40c7-a8fb-8f43074656e7",
   "metadata": {},
   "source": [
    "### (3) JSON 배열"
   ]
  },
  {
   "cell_type": "code",
   "execution_count": 9,
   "id": "f961a5ed-4219-4dd1-bc1a-b50115c1fb2d",
   "metadata": {},
   "outputs": [
    {
     "ename": "SyntaxError",
     "evalue": "illegal target for annotation (464809545.py, line 1)",
     "output_type": "error",
     "traceback": [
      "\u001b[0;36m  File \u001b[0;32m\"/tmp/ipykernel_396/464809545.py\"\u001b[0;36m, line \u001b[0;32m1\u001b[0m\n\u001b[0;31m    \"dog\": [\u001b[0m\n\u001b[0m    ^\u001b[0m\n\u001b[0;31mSyntaxError\u001b[0m\u001b[0;31m:\u001b[0m illegal target for annotation\n"
     ]
    }
   ],
   "source": [
    "\"dog\": [\n",
    "    {\"name\": \"식빵\", \"family\": \"웰시코기\", \"age\": 1, \"weight\": 2.14},\n",
    "    {\"name\": \"콩콩\", \"family\": \"포메라니안\", \"age\": 3, \"weight\": 2.5},\n",
    "    {\"name\": \"젤리\", \"family\": \"푸들\", \"age\": 7, \"weight\": 3.1}\n",
    "]"
   ]
  },
  {
   "cell_type": "markdown",
   "id": "b5a19cd4-2fd1-4939-bea5-a63923ca74d6",
   "metadata": {},
   "source": [
    "## 2. JSON 변환\n",
    "* loads() 함수: JSON 문자열을 Python 객체로 변환\n",
    "* dumps() 함수: Python 객체를 JSON 문자열로 변환"
   ]
  },
  {
   "cell_type": "markdown",
   "id": "76ab0427-06df-48f6-b2ec-d4a7d972da35",
   "metadata": {},
   "source": [
    "### (1) loads() : JSON 문자열을 Python 객체 Dictionary로 변환"
   ]
  },
  {
   "cell_type": "code",
   "execution_count": 18,
   "id": "ba52b90c-f69b-4bee-897e-18ed17809c52",
   "metadata": {},
   "outputs": [
    {
     "name": "stdout",
     "output_type": "stream",
     "text": [
      "<class 'dict'> {'name': 'John', 'age': 30, 'city': 'New York'}\n",
      "30\n"
     ]
    }
   ],
   "source": [
    "import json\n",
    "\n",
    "# JSON:\n",
    "json_string =  '{ \"name\":\"John\", \"age\":30, \"city\":\"New York\"}'\n",
    "\n",
    "# parse x:\n",
    "python_dict = json.loads(json_string)\n",
    "\n",
    "print(type(python_dict), python_dict)\n",
    "print(python_dict[\"age\"])"
   ]
  },
  {
   "cell_type": "code",
   "execution_count": 4,
   "id": "58690c24-7bbe-4b1a-9497-8e0fb45d1ac7",
   "metadata": {},
   "outputs": [
    {
     "name": "stdout",
     "output_type": "stream",
     "text": [
      "<class 'dict'> {'id': 1, 'username': 'Bret', 'email': 'Sincere@april.biz', 'address': {'street': 'Kulas Light', 'suite': 'Apt. 556', 'city': 'Gwenborough', 'zipcode': '92998-3874'}, 'admin': False, 'hobbies': None}\n"
     ]
    }
   ],
   "source": [
    "import json\n",
    "\n",
    "json_string = '''{\n",
    "    \"id\": 1,\n",
    "    \"username\": \"Bret\",\n",
    "    \"email\": \"Sincere@april.biz\",\n",
    "    \"address\": {\n",
    "        \"street\": \"Kulas Light\",\n",
    "        \"suite\": \"Apt. 556\",\n",
    "        \"city\": \"Gwenborough\",\n",
    "        \"zipcode\": \"92998-3874\"\n",
    "    },\n",
    "    \"admin\": false,\n",
    "    \"hobbies\": null\n",
    "}'''\n",
    "\n",
    "json_object = json.loads(json_string)\n",
    "\n",
    "print(type(json_object), json_object)"
   ]
  },
  {
   "cell_type": "code",
   "execution_count": 12,
   "id": "b6a7ee36-1db8-4295-9a03-32e7657e730b",
   "metadata": {},
   "outputs": [
    {
     "name": "stdout",
     "output_type": "stream",
     "text": [
      "id : 1\n",
      "username : Bret\n",
      "email : Sincere@april.biz\n",
      "address : {'street': 'Kulas Light', 'suite': 'Apt. 556', 'city': 'Gwenborough', 'zipcode': '92998-3874'}\n",
      "admin : False\n",
      "hobbies : None\n"
     ]
    }
   ],
   "source": [
    "for n in json_object :\n",
    "    print(n, ':', json_object[n])"
   ]
  },
  {
   "cell_type": "markdown",
   "id": "4dd11976-5140-4cc0-9467-dc4acd0441cf",
   "metadata": {},
   "source": [
    "### (2) dumps() : Python 객체 Dictionary을 JSON 문자열로 변환"
   ]
  },
  {
   "cell_type": "code",
   "execution_count": 15,
   "id": "48a7187c-da99-43fe-9226-08965a54dc76",
   "metadata": {},
   "outputs": [
    {
     "name": "stdout",
     "output_type": "stream",
     "text": [
      "{\"name\": \"John\", \"age\": 30, \"city\": \"New York\"} <class 'str'>\n"
     ]
    },
    {
     "ename": "TypeError",
     "evalue": "string indices must be integers",
     "output_type": "error",
     "traceback": [
      "\u001b[0;31m---------------------------------------------------------------------------\u001b[0m",
      "\u001b[0;31mTypeError\u001b[0m                                 Traceback (most recent call last)",
      "\u001b[0;32m/tmp/ipykernel_92/1980583248.py\u001b[0m in \u001b[0;36m<module>\u001b[0;34m\u001b[0m\n\u001b[1;32m     12\u001b[0m \u001b[0;34m\u001b[0m\u001b[0m\n\u001b[1;32m     13\u001b[0m \u001b[0mprint\u001b[0m\u001b[0;34m(\u001b[0m\u001b[0mjson_string\u001b[0m\u001b[0;34m,\u001b[0m \u001b[0mtype\u001b[0m\u001b[0;34m(\u001b[0m\u001b[0mjson_string\u001b[0m\u001b[0;34m)\u001b[0m\u001b[0;34m)\u001b[0m\u001b[0;34m\u001b[0m\u001b[0;34m\u001b[0m\u001b[0m\n\u001b[0;32m---> 14\u001b[0;31m \u001b[0mprint\u001b[0m\u001b[0;34m(\u001b[0m\u001b[0mjson_string\u001b[0m\u001b[0;34m[\u001b[0m\u001b[0;34m'name'\u001b[0m\u001b[0;34m]\u001b[0m\u001b[0;34m)\u001b[0m\u001b[0;34m\u001b[0m\u001b[0;34m\u001b[0m\u001b[0m\n\u001b[0m",
      "\u001b[0;31mTypeError\u001b[0m: string indices must be integers"
     ]
    }
   ],
   "source": [
    "import json\n",
    "\n",
    "# Python 객체 (dict):\n",
    "python_dict = {\n",
    "  \"name\": \"John\",\n",
    "  \"age\": 30,\n",
    "  \"city\": \"New York\"\n",
    "}\n",
    "\n",
    "# JSON 문자열로 변환\n",
    "json_string = json.dumps(python_dict)\n",
    "\n",
    "print(json_string, type(json_string))\n",
    "# print(json_string['name']) # error"
   ]
  },
  {
   "cell_type": "code",
   "execution_count": 17,
   "id": "5766753f-5bae-4e68-953a-7e28545ee8b3",
   "metadata": {},
   "outputs": [
    {
     "name": "stdout",
     "output_type": "stream",
     "text": [
      "{\"id\": 1, \"username\": \"Bret\", \"email\": \"Sincere@april.biz\", \"address\": {\"street\": \"Kulas Light\", \"suite\": \"Apt. 556\", \"city\": \"Gwenborough\", \"zipcode\": \"92998-3874\"}, \"admin\": false, \"hobbies\": null}\n"
     ]
    }
   ],
   "source": [
    "import json\n",
    "\n",
    "json_object = {\n",
    "    \"id\": 1,\n",
    "    \"username\": \"Bret\",\n",
    "    \"email\": \"Sincere@april.biz\",\n",
    "    \"address\": {\n",
    "        \"street\": \"Kulas Light\",\n",
    "        \"suite\": \"Apt. 556\",\n",
    "        \"city\": \"Gwenborough\",\n",
    "        \"zipcode\": \"92998-3874\"\n",
    "    },\n",
    "    \"admin\": False,\n",
    "    \"hobbies\": None\n",
    "}\n",
    "\n",
    "json_string = json.dumps(json_object)\n",
    "print(type(json_string), json_string)"
   ]
  },
  {
   "cell_type": "code",
   "execution_count": 16,
   "id": "496d7267-10bf-424a-9cd3-da336c80a6ef",
   "metadata": {},
   "outputs": [
    {
     "name": "stdout",
     "output_type": "stream",
     "text": [
      "{\"name\": \"John\", \"age\": 30}\n",
      "[\"apple\", \"bananas\"]\n",
      "[\"apple\", \"bananas\"]\n",
      "\"hello\"\n",
      "42\n",
      "31.76\n",
      "true\n",
      "false\n",
      "null\n"
     ]
    }
   ],
   "source": [
    "import json\n",
    "\n",
    "print(json.dumps({\"name\": \"John\", \"age\": 30}))\n",
    "print(json.dumps([\"apple\", \"bananas\"]))\n",
    "print(json.dumps((\"apple\", \"bananas\")))\n",
    "print(json.dumps(\"hello\"))\n",
    "print(json.dumps(42))\n",
    "print(json.dumps(31.76))\n",
    "print(json.dumps(True))\n",
    "print(json.dumps(False))\n",
    "print(json.dumps(None))"
   ]
  },
  {
   "cell_type": "code",
   "execution_count": 23,
   "id": "173c936e-bff1-41fc-8abd-f57db42503a8",
   "metadata": {},
   "outputs": [],
   "source": [
    "import json\n",
    "\n",
    "json_object = {\n",
    "    \"id\": 1,\n",
    "    \"username\": \"Bret\",\n",
    "    \"email\": \"Sincere@april.biz\",\n",
    "    \"address\": {\n",
    "        \"street\": \"Kulas Light\",\n",
    "        \"suite\": \"Apt. 556\",\n",
    "        \"city\": \"Gwenborough\",\n",
    "        \"zipcode\": \"92998-3874\"\n",
    "    },\n",
    "    \"admin\": False,\n",
    "    \"hobbies\": None\n",
    "}\n",
    "\n",
    "with open('ex17_json.json', 'w') as f:\n",
    "    json_string = json.dump(json_object, f, indent=2)"
   ]
  },
  {
   "cell_type": "code",
   "execution_count": 24,
   "id": "e26a4605-a9d0-4654-bb31-9f50b39553a8",
   "metadata": {},
   "outputs": [
    {
     "name": "stdout",
     "output_type": "stream",
     "text": [
      "<class 'dict'> {'id': 1, 'username': 'Bret', 'email': 'Sincere@april.biz', 'address': {'street': 'Kulas Light', 'suite': 'Apt. 556', 'city': 'Gwenborough', 'zipcode': '92998-3874'}, 'admin': False, 'hobbies': None}\n"
     ]
    }
   ],
   "source": [
    "import json\n",
    "\n",
    "with open('ex17_json.json') as f:\n",
    "    json_object = json.load(f)\n",
    "\n",
    "print(type(json_object), json_object)"
   ]
  }
 ],
 "metadata": {
  "kernelspec": {
   "display_name": "Python 3 (ipykernel)",
   "language": "python",
   "name": "python3"
  },
  "language_info": {
   "codemirror_mode": {
    "name": "ipython",
    "version": 3
   },
   "file_extension": ".py",
   "mimetype": "text/x-python",
   "name": "python",
   "nbconvert_exporter": "python",
   "pygments_lexer": "ipython3",
   "version": "3.9.7"
  }
 },
 "nbformat": 4,
 "nbformat_minor": 5
}
