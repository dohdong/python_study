{
 "cells": [
  {
   "cell_type": "markdown",
   "id": "9ae51fdd-268b-4b4a-9bd4-b241c0c550e5",
   "metadata": {},
   "source": [
    "# Exception Handling"
   ]
  },
  {
   "cell_type": "markdown",
   "id": "6475fcb9-d82b-454b-9983-ecfc33deace1",
   "metadata": {},
   "source": [
    "* 프로그래밍을 배우다 보면 생각지도 못한 여러가지 오류가 발생하는 것을 경험할 수 있을 것입니다.\n",
    "\n",
    "이렇게 발생하는 오류는 크게 다음과 같이 두 가지로 구분할 수 있습니다.\n",
    "\n",
    "1. 문법 오류(syntax errors)\n",
    "2. 예외(exceptions)"
   ]
  },
  {
   "cell_type": "markdown",
   "id": "399879d3-8377-4f65-8cca-a026713ca1e9",
   "metadata": {},
   "source": [
    "## 1. 문법 오류"
   ]
  },
  {
   "cell_type": "markdown",
   "id": "0bda84af-0628-41f9-a425-3b13a4cd9a97",
   "metadata": {},
   "source": [
    "* 문법 오류가 발생하면 파서(parser)는 오류가 발생한 라인과 함께 그 대략적인 위치까지도 ‘^’ 기호를 이용하여 알려줍니다.\n",
    "* 문법 오류는 대부분 파서가 그 원인까지도 함께 알려주므로, 쉽게 수정할 수 있습니다."
   ]
  },
  {
   "cell_type": "code",
   "execution_count": 9,
   "id": "5cea402c-ef8c-4035-801a-5c816c8c9871",
   "metadata": {},
   "outputs": [
    {
     "ename": "SyntaxError",
     "evalue": "invalid syntax (3675546090.py, line 1)",
     "output_type": "error",
     "traceback": [
      "\u001b[0;36m  File \u001b[0;32m\"/tmp/ipykernel_419/3675546090.py\"\u001b[0;36m, line \u001b[0;32m1\u001b[0m\n\u001b[0;31m    while True\u001b[0m\n\u001b[0m              ^\u001b[0m\n\u001b[0;31mSyntaxError\u001b[0m\u001b[0;31m:\u001b[0m invalid syntax\n"
     ]
    }
   ],
   "source": [
    "while True\n",
    "    print('안녕하세요!')"
   ]
  },
  {
   "cell_type": "markdown",
   "id": "7387604e-7905-48ab-9fdb-00178b61d100",
   "metadata": {},
   "source": [
    "## 2. 예외"
   ]
  },
  {
   "cell_type": "markdown",
   "id": "7256132f-c268-4c0f-8960-3fbf459497c3",
   "metadata": {},
   "source": [
    "* 예외(exception)란 프로그램을 작성한 후 실행하는 도중에 오류가 발생하여 실행되고 있던 프로그램이 중지되는 것을 가리킵니다."
   ]
  },
  {
   "cell_type": "markdown",
   "id": "1427191f-3830-4207-838d-34e22b9fa0f8",
   "metadata": {},
   "source": [
    "```\n",
    "try:\n",
    "    예외가 발생할 가능성이 있는 코드\n",
    "except [ 처리할 예외명 [ as 에러 메시지 변수 ]]:\n",
    "    try 절에서 발생한 예외를 처리할 코드\n",
    "[ else: ]\n",
    "    try 절에서 예외가 발생하지 않았을 경우에만 실행될 코드\n",
    "[ finally: ]\n",
    "    try 절이 실행되고 나면 언제나 마지막에 실행될 코드\n",
    "```"
   ]
  },
  {
   "cell_type": "markdown",
   "id": "53e014c3-1ea5-446e-931b-cdc5d540be56",
   "metadata": {},
   "source": [
    "파이썬에서 try, except 문은 다음과 같은 순서대로 동작하게 됩니다.\n",
    "\n",
    "1. try 블록에 포함된 코드가 순서대로 실행됩니다.\n",
    "2. 이때 예외가 발생하지 않으면, except 절은 실행되지 않고 try, except 문은 그대로 종료됩니다.\n",
    "3. 만약 try 블록을 실행하는 동안 예외가 발생했다면, 곧바로 발생한 예외명과 except 절에 명시한 예외명이 같은지를 순서대로 확인하게 됩니다.   \n",
    "    3-1. 만약 발생한 예외명과 명시된 예외명이 같다면, 해당 except 절이 실행되고 프로그램의 흐름은 try, except 문 다음으로 넘어갑니다.   \n",
    "    3-2. 만약 발생한 예외명과 명시된 예외명이 같지 않다면, 다음 except 절을 계속해서 확인합니다.   \n",
    "        3-2-1. 만약 발생한 예외명과 명시된 예외명이 같은 except 절을 찾지 못했다면, 해당 try, except 문보다 더 바깥쪽에 위치한 try, except 문의 except 절들까지 확인하게 됩니다.\n",
    "        3-2-2. 그래도 발생한 예외명과 명시된 예외명이 같은 except 절을 찾을 수 없었다면, 에러 메시지를 출력하고 프로그램은 강제 종료됩니다."
   ]
  },
  {
   "cell_type": "code",
   "execution_count": 1,
   "id": "3c7b28c1-6074-4b78-8a1e-d4afd108d2f7",
   "metadata": {},
   "outputs": [
    {
     "name": "stdout",
     "output_type": "stream",
     "text": [
      "An exception occurred\n"
     ]
    }
   ],
   "source": [
    "try:\n",
    "    print(x)\n",
    "except:\n",
    "    print(\"An exception occurred\")"
   ]
  },
  {
   "cell_type": "code",
   "execution_count": 3,
   "id": "f55bdd7a-b499-41d2-8149-be6bb23a349b",
   "metadata": {},
   "outputs": [
    {
     "name": "stdout",
     "output_type": "stream",
     "text": [
      "Variable x is not defined\n"
     ]
    }
   ],
   "source": [
    "try:\n",
    "    print(x)\n",
    "except NameError:\n",
    "    print(\"Variable x is not defined\")\n",
    "except:\n",
    "    print(\"Something else went wrong\")"
   ]
  },
  {
   "cell_type": "code",
   "execution_count": 4,
   "id": "e9a3bc90-a8d1-4ca4-b478-97d98b6f0415",
   "metadata": {},
   "outputs": [
    {
     "name": "stdout",
     "output_type": "stream",
     "text": [
      "Something went wrong\n",
      "The 'try except' is finished\n"
     ]
    }
   ],
   "source": [
    "try:\n",
    "    print(x)\n",
    "except:\n",
    "    print(\"Something went wrong\")\n",
    "finally:\n",
    "    print(\"The 'try except' is finished\")"
   ]
  },
  {
   "cell_type": "code",
   "execution_count": 10,
   "id": "881b8e3c-7c7d-4665-a2a5-3f511fe3f772",
   "metadata": {},
   "outputs": [
    {
     "name": "stdout",
     "output_type": "stream",
     "text": [
      "0으로 나누면 안돼요! division by zero\n",
      "finally\n",
      "프로그램이 정상적으로 종료됩니다!\n"
     ]
    }
   ],
   "source": [
    "try:\n",
    "    3 / 0\n",
    "    \n",
    "except IndexError as e:\n",
    "    print(\"인덱스가 안맞아요!\", e)\n",
    "\n",
    "except ZeroDivisionError as e:\n",
    "    print(\"0으로 나누면 안돼요!\", e)  \n",
    "    \n",
    "\n",
    "print(\"프로그램이 정상적으로 종료됩니다!\")"
   ]
  },
  {
   "cell_type": "code",
   "execution_count": 12,
   "id": "b0f4563c-0ed3-4411-89df-6741345bebf1",
   "metadata": {},
   "outputs": [
    {
     "name": "stdout",
     "output_type": "stream",
     "text": [
      "예외가 발생하지 않았어요!\n",
      "프로그램이 정상적으로 종료됩니다!\n"
     ]
    }
   ],
   "source": [
    "try:\n",
    "    pass\n",
    "\n",
    "except IndexError:\n",
    "    print(\"인덱스가 안맞아요!\")\n",
    "\n",
    "except ZeroDivisionError:\n",
    "    print(\"0으로 나누면 안돼요!\")\n",
    "\n",
    "else:\n",
    "    print(\"예외가 발생하지 않았어요!\")  \n",
    "\n",
    "print(\"프로그램이 정상적으로 종료됩니다!\")"
   ]
  },
  {
   "cell_type": "code",
   "execution_count": 13,
   "id": "815e67cd-b065-484a-8dc7-214f9cb1cf9f",
   "metadata": {},
   "outputs": [
    {
     "name": "stdout",
     "output_type": "stream",
     "text": [
      "0으로 나누면 안돼요!\n",
      "예외에 상관없이 언제나 실행되요!\n",
      "프로그램이 정상적으로 종료됩니다!\n"
     ]
    }
   ],
   "source": [
    "try:\n",
    "    3 / 0\n",
    "\n",
    "except IndexError:\n",
    "    print(\"인덱스가 안맞아요!\")\n",
    "\n",
    "except ZeroDivisionError:\n",
    "    print(\"0으로 나누면 안돼요!\")\n",
    "\n",
    "finally:\n",
    "    print(\"예외에 상관없이 언제나 실행되요!\")  \n",
    "\n",
    "print(\"프로그램이 정상적으로 종료됩니다!\")"
   ]
  },
  {
   "cell_type": "markdown",
   "id": "8d860ce8-b6ee-4cf4-949c-fa5b98b48aae",
   "metadata": {},
   "source": [
    "## 3. Exception 발생"
   ]
  },
  {
   "cell_type": "markdown",
   "id": "7e238041-1851-4d81-a25c-ca8cb9ae030e",
   "metadata": {},
   "source": [
    "*  사용자가 raise 키워드를 사용하여 예외를 강제로 발생시킬 수 있습니다."
   ]
  },
  {
   "cell_type": "code",
   "execution_count": 6,
   "id": "87a10948-c1ce-4c1a-a141-ca5640587a3d",
   "metadata": {},
   "outputs": [
    {
     "ename": "Exception",
     "evalue": "Sorry, no numbers below zero",
     "output_type": "error",
     "traceback": [
      "\u001b[0;31m---------------------------------------------------------------------------\u001b[0m",
      "\u001b[0;31mException\u001b[0m                                 Traceback (most recent call last)",
      "\u001b[0;32m/tmp/ipykernel_419/2163931431.py\u001b[0m in \u001b[0;36m<module>\u001b[0;34m\u001b[0m\n\u001b[1;32m      2\u001b[0m \u001b[0;34m\u001b[0m\u001b[0m\n\u001b[1;32m      3\u001b[0m \u001b[0;32mif\u001b[0m \u001b[0mx\u001b[0m \u001b[0;34m<\u001b[0m \u001b[0;36m0\u001b[0m\u001b[0;34m:\u001b[0m\u001b[0;34m\u001b[0m\u001b[0;34m\u001b[0m\u001b[0m\n\u001b[0;32m----> 4\u001b[0;31m     \u001b[0;32mraise\u001b[0m \u001b[0mException\u001b[0m\u001b[0;34m(\u001b[0m\u001b[0;34m\"Sorry, no numbers below zero\"\u001b[0m\u001b[0;34m)\u001b[0m\u001b[0;34m\u001b[0m\u001b[0;34m\u001b[0m\u001b[0m\n\u001b[0m",
      "\u001b[0;31mException\u001b[0m: Sorry, no numbers below zero"
     ]
    }
   ],
   "source": [
    "x = -1\n",
    "\n",
    "if x < 0:\n",
    "    raise Exception(\"Sorry, no numbers below zero\")\n"
   ]
  },
  {
   "cell_type": "code",
   "execution_count": 3,
   "id": "29dc9fbe-45b7-44cd-995f-90565d740121",
   "metadata": {},
   "outputs": [
    {
     "ename": "NotImplementedError",
     "evalue": "",
     "output_type": "error",
     "traceback": [
      "\u001b[0;31m---------------------------------------------------------------------------\u001b[0m",
      "\u001b[0;31mNotImplementedError\u001b[0m                       Traceback (most recent call last)",
      "\u001b[0;32m/tmp/ipykernel_937/4228621185.py\u001b[0m in \u001b[0;36m<module>\u001b[0;34m\u001b[0m\n\u001b[1;32m     10\u001b[0m \u001b[0;34m\u001b[0m\u001b[0m\n\u001b[1;32m     11\u001b[0m \u001b[0mmychicken\u001b[0m \u001b[0;34m=\u001b[0m \u001b[0mChicken\u001b[0m\u001b[0;34m(\u001b[0m\u001b[0;34m)\u001b[0m\u001b[0;34m\u001b[0m\u001b[0;34m\u001b[0m\u001b[0m\n\u001b[0;32m---> 12\u001b[0;31m \u001b[0mmychicken\u001b[0m\u001b[0;34m.\u001b[0m\u001b[0mbirdsong\u001b[0m\u001b[0;34m(\u001b[0m\u001b[0;34m)\u001b[0m\u001b[0;34m\u001b[0m\u001b[0;34m\u001b[0m\u001b[0m\n\u001b[0m",
      "\u001b[0;32m/tmp/ipykernel_937/4228621185.py\u001b[0m in \u001b[0;36mbirdsong\u001b[0;34m(self)\u001b[0m\n\u001b[1;32m      2\u001b[0m \u001b[0;34m\u001b[0m\u001b[0m\n\u001b[1;32m      3\u001b[0m     \u001b[0;32mdef\u001b[0m \u001b[0mbirdsong\u001b[0m\u001b[0;34m(\u001b[0m\u001b[0mself\u001b[0m\u001b[0;34m)\u001b[0m\u001b[0;34m:\u001b[0m\u001b[0;34m\u001b[0m\u001b[0;34m\u001b[0m\u001b[0m\n\u001b[0;32m----> 4\u001b[0;31m         \u001b[0;32mraise\u001b[0m \u001b[0mNotImplementedError\u001b[0m\u001b[0;34m\u001b[0m\u001b[0;34m\u001b[0m\u001b[0m\n\u001b[0m\u001b[1;32m      5\u001b[0m \u001b[0;34m\u001b[0m\u001b[0m\n\u001b[1;32m      6\u001b[0m \u001b[0;34m\u001b[0m\u001b[0m\n",
      "\u001b[0;31mNotImplementedError\u001b[0m: "
     ]
    }
   ],
   "source": [
    "class Bird:\n",
    "\n",
    "    def birdsong(self):\n",
    "        raise NotImplementedError\n",
    "\n",
    "        \n",
    "class Chicken(Bird):\n",
    "    pass\n",
    "\n",
    " \n",
    "mychicken = Chicken()\n",
    "mychicken.birdsong()"
   ]
  },
  {
   "cell_type": "code",
   "execution_count": 2,
   "id": "820eae61-f511-4882-ad2f-7b27775e12a3",
   "metadata": {},
   "outputs": [
    {
     "name": "stdout",
     "output_type": "stream",
     "text": [
      "짹짹\n"
     ]
    }
   ],
   "source": [
    "class Bird:\n",
    "\n",
    "    def birdsong(self):\n",
    "        raise NotImplementedError    \n",
    "\n",
    "        \n",
    "class Chicken(Bird):\n",
    "\n",
    "    def birdsong(self):\n",
    "        print(\"짹짹\")    \n",
    "\n",
    "mychicken = Chicken()\n",
    "mychicken.birdsong()"
   ]
  }
 ],
 "metadata": {
  "kernelspec": {
   "display_name": "Python 3 (ipykernel)",
   "language": "python",
   "name": "python3"
  },
  "language_info": {
   "codemirror_mode": {
    "name": "ipython",
    "version": 3
   },
   "file_extension": ".py",
   "mimetype": "text/x-python",
   "name": "python",
   "nbconvert_exporter": "python",
   "pygments_lexer": "ipython3",
   "version": "3.9.7"
  }
 },
 "nbformat": 4,
 "nbformat_minor": 5
}
