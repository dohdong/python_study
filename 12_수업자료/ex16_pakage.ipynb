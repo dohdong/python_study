{
 "cells": [
  {
   "cell_type": "markdown",
   "id": "e466974d-8d47-4ab7-93ad-c14fc59604e7",
   "metadata": {},
   "source": [
    "# Package"
   ]
  },
  {
   "cell_type": "markdown",
   "id": "ec051ea8-1015-4072-afb5-7da61c2f3909",
   "metadata": {},
   "source": [
    "* 도트(.)를 사용하여 파이썬 모듈을 계층적(디렉터리 구조)으로 관리할 수 있게 해준다. \n",
    "* 예를 들어, 모듈 이름이 A.B인 경우에 A는 패키지 이름이 되고 B는 A 패키지의 B 모듈이 된다.\n",
    "* 파이썬에서 모듈은 하나의 .py 파일이다.\n",
    "\n",
    "파이썬 패키지는 디렉터리와 파이썬 모듈로 이루어지며 구조는 다음과 같다.\n",
    "```\n",
    "game/\n",
    "    __init__.py\n",
    "    sound/\n",
    "        __init__.py\n",
    "        echo.py\n",
    "        wav.py\n",
    "    graphic/\n",
    "        __init__.py\n",
    "        screen.py\n",
    "        render.py\n",
    "    play/\n",
    "        __init__.py\n",
    "        run.py\n",
    "        test.py\n",
    "```"
   ]
  },
  {
   "cell_type": "markdown",
   "id": "3bf6e03c-dc68-4365-b1b1-8285053fb9d4",
   "metadata": {},
   "source": [
    "```\n",
    "1. import 패키지명\n",
    "2. from 패키지명 as 패키지별명\n",
    "3. from 패키지명 import *\n",
    "4. from 패키지명 import 함수명 또는 클래스명\n",
    "```"
   ]
  },
  {
   "cell_type": "markdown",
   "id": "96943616-52c7-4053-8531-d2c49b4a4fd8",
   "metadata": {},
   "source": [
    "## 1. Package"
   ]
  },
  {
   "cell_type": "code",
   "execution_count": 2,
   "id": "4d0f2ee2-c680-4556-88b9-fed91cc5b269",
   "metadata": {},
   "outputs": [
    {
     "name": "stdout",
     "output_type": "stream",
     "text": [
      "pip 21.2.4 from /home/studio-lab-user/.conda/envs/default/lib/python3.9/site-packages/pip (python 3.9)\n"
     ]
    }
   ],
   "source": [
    "! pip --version"
   ]
  },
  {
   "cell_type": "code",
   "execution_count": 1,
   "id": "0c6571a1-297d-4da9-9372-743ac891c49e",
   "metadata": {},
   "outputs": [
    {
     "name": "stdout",
     "output_type": "stream",
     "text": [
      "Requirement already satisfied: camelcase in /home/studio-lab-user/.conda/envs/default/lib/python3.9/site-packages (0.2)\n"
     ]
    }
   ],
   "source": [
    "! pip install camelcase"
   ]
  },
  {
   "cell_type": "code",
   "execution_count": 4,
   "id": "533e3658-e62a-445d-a946-6fb1d602604e",
   "metadata": {},
   "outputs": [
    {
     "name": "stdout",
     "output_type": "stream",
     "text": [
      "Hello World\n"
     ]
    }
   ],
   "source": [
    "import camelcase\n",
    "\n",
    "c = camelcase.CamelCase()\n",
    "\n",
    "txt = \"hello world\"\n",
    "\n",
    "print(c.hump(txt))"
   ]
  },
  {
   "cell_type": "code",
   "execution_count": 2,
   "id": "f9d932ee-c5c2-47cb-a10c-92f20538d810",
   "metadata": {},
   "outputs": [
    {
     "name": "stdout",
     "output_type": "stream",
     "text": [
      "Found existing installation: camelcase 0.2\n",
      "Uninstalling camelcase-0.2:\n",
      "  Would remove:\n",
      "    /home/studio-lab-user/.conda/envs/default/lib/python3.9/site-packages/camelcase-0.2.dist-info/*\n",
      "    /home/studio-lab-user/.conda/envs/default/lib/python3.9/site-packages/camelcase/*\n",
      "Proceed (Y/n)? ^C\n",
      "\u001b[31mERROR: Operation cancelled by user\u001b[0m\n"
     ]
    }
   ],
   "source": [
    "! pip uninstall camelcase"
   ]
  },
  {
   "cell_type": "code",
   "execution_count": 3,
   "id": "99df6cf9-58a1-4cb4-bc5d-f60644aef5a3",
   "metadata": {},
   "outputs": [
    {
     "name": "stdout",
     "output_type": "stream",
     "text": [
      "Package                       Version\n",
      "----------------------------- ---------\n",
      "argon2-cffi                   21.1.0\n",
      "async-generator               1.10\n",
      "attrs                         21.2.0\n",
      "backcall                      0.2.0\n",
      "backports.functools-lru-cache 1.6.4\n",
      "beautifulsoup4                4.10.0\n",
      "bleach                        4.1.0\n",
      "bs4                           0.0.1\n",
      "camelcase                     0.2\n",
      "certifi                       2021.10.8\n",
      "cffi                          1.15.0\n",
      "charset-normalizer            2.0.9\n",
      "cryptography                  36.0.1\n",
      "cycler                        0.11.0\n",
      "debugpy                       1.5.1\n",
      "decorator                     5.1.0\n",
      "defusedxml                    0.7.1\n",
      "entrypoints                   0.3\n",
      "fonttools                     4.28.5\n",
      "h11                           0.12.0\n",
      "idna                          3.3\n",
      "importlib-metadata            4.8.2\n",
      "importlib-resources           5.4.0\n",
      "ipykernel                     6.4.2\n",
      "ipython                       7.29.0\n",
      "ipython-genutils              0.2.0\n",
      "ipywidgets                    7.6.5\n",
      "jedi                          0.18.1\n",
      "Jinja2                        3.0.3\n",
      "jsonschema                    4.2.1\n",
      "jupyter-client                7.1.0\n",
      "jupyter-core                  4.9.1\n",
      "jupyterlab-pygments           0.1.2\n",
      "jupyterlab-widgets            1.0.2\n",
      "kiwisolver                    1.3.2\n",
      "MarkupSafe                    2.0.1\n",
      "matplotlib                    3.5.1\n",
      "matplotlib-inline             0.1.3\n",
      "mistune                       0.8.4\n",
      "nbclient                      0.5.9\n",
      "nbconvert                     6.3.0\n",
      "nbformat                      5.1.3\n",
      "nest-asyncio                  1.5.1\n",
      "notebook                      6.4.6\n",
      "numpy                         1.21.5\n",
      "outcome                       1.1.0\n",
      "packaging                     21.3\n",
      "pandas                        1.3.5\n",
      "pandocfilters                 1.5.0\n",
      "parso                         0.8.2\n",
      "pexpect                       4.8.0\n",
      "pickleshare                   0.7.5\n",
      "Pillow                        8.4.0\n",
      "pip                           21.2.4\n",
      "prometheus-client             0.12.0\n",
      "prompt-toolkit                3.0.22\n",
      "ptyprocess                    0.7.0\n",
      "pycparser                     2.21\n",
      "Pygments                      2.10.0\n",
      "pyOpenSSL                     21.0.0\n",
      "pyparsing                     3.0.6\n",
      "pyrsistent                    0.18.0\n",
      "python-dateutil               2.8.2\n",
      "pytz                          2021.3\n",
      "pyzmq                         22.3.0\n",
      "requests                      2.26.0\n",
      "selenium                      4.1.0\n",
      "Send2Trash                    1.8.0\n",
      "setuptools                    59.2.0\n",
      "six                           1.16.0\n",
      "sniffio                       1.2.0\n",
      "sortedcontainers              2.4.0\n",
      "soupsieve                     2.3.1\n",
      "terminado                     0.12.1\n",
      "testpath                      0.5.0\n",
      "tornado                       6.1\n",
      "traitlets                     5.1.1\n",
      "trio                          0.19.0\n",
      "trio-websocket                0.9.2\n",
      "urllib3                       1.26.7\n",
      "wcwidth                       0.2.5\n",
      "webencodings                  0.5.1\n",
      "wheel                         0.37.0\n",
      "widgetsnbextension            3.5.2\n",
      "wordcloud                     1.8.1\n",
      "wsproto                       1.0.0\n",
      "zipp                          3.6.0\n"
     ]
    }
   ],
   "source": [
    "! pip list"
   ]
  },
  {
   "cell_type": "code",
   "execution_count": null,
   "id": "5c1af62c-cf52-4f6c-8d79-f463d1a60702",
   "metadata": {},
   "outputs": [],
   "source": []
  }
 ],
 "metadata": {
  "kernelspec": {
   "display_name": "default:Python",
   "language": "python",
   "name": "conda-env-default-py"
  },
  "language_info": {
   "codemirror_mode": {
    "name": "ipython",
    "version": 3
   },
   "file_extension": ".py",
   "mimetype": "text/x-python",
   "name": "python",
   "nbconvert_exporter": "python",
   "pygments_lexer": "ipython3",
   "version": "3.9.7"
  }
 },
 "nbformat": 4,
 "nbformat_minor": 5
}
