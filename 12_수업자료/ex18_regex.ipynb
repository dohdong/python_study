{
 "cells": [
  {
   "cell_type": "markdown",
   "id": "155e07d1-e876-4341-bd49-67740b420628",
   "metadata": {},
   "source": [
    "# RegEx"
   ]
  },
  {
   "cell_type": "markdown",
   "id": "eefd03de-1daa-4ef7-8e90-dc6db938911e",
   "metadata": {},
   "source": [
    "* 정규표현식 (Regular expressions) 은 특정한 규칙을 가진 문자열의 집합을 표현하는 데 사용하는 형식 언어\n",
    "* 복잡한 문자열을 처리할 때 사용하는 기법으로, 파이썬만의 고유 문법이 아니라 문자열을 처리하는 모든 곳에서 사용한다. \n",
    "* 정규 표현식은 줄여서 간단히 \"정규식\"이라고도 말한다."
   ]
  },
  {
   "cell_type": "markdown",
   "id": "bc07a712-b49e-498c-a5b8-223b74e5b784",
   "metadata": {},
   "source": [
    "## 1. 메타 문자 (Meta characters)\n",
    "\n",
    "* 원래 그 문자가 가진 뜻이 아닌 특별한 용도로 사용하는 문자를 말한다.\n",
    "* . ^ $ * + ? { } [ ] \\ | ( )"
   ]
  },
  {
   "cell_type": "markdown",
   "id": "977eda9e-ca1b-46a0-9b7a-cba8aac097a5",
   "metadata": {},
   "source": [
    "### (1) [ ] 문자 클래스\n",
    "* 정규표현식에서 대괄호 [] 는 대괄호 안에 포함된 문자들 중 하나와 매치를 뜻한다.\n",
    "* [] 안의 두 문자에 -를 사용하면 두 문자 사이의 범위를 뜻한다.\n",
    "* [] 안에서 ^는 반대를 뜻한다."
   ]
  },
  {
   "cell_type": "markdown",
   "id": "1cd06a78-b04d-4d26-b2d8-e7a05422024d",
   "metadata": {},
   "source": [
    "* 문자 클래스\t설명\n",
    "* \\d\t숫자 [0-9]와 같다.\n",
    "* \\D\t비숫자 [^0-9]와 같다.\n",
    "* \\w\t숫자 + 문자 [a-zA-Z0-9]와 같다.\n",
    "* \\W\t숫자 + 문자가 아닌 것 [^a-zA-Z0-9]와 같다.\n",
    "* \\s\t공백 [ \\t\\n\\r\\f\\v]와 같다.\n",
    "* \\S\t비공백 [^ \\t\\n\\r\\f\\v]와 같다.\n",
    "* \\b\t단어 경계 (`\\w`와 `\\W`의 경계)\n",
    "* \\B\t비단어 경계"
   ]
  },
  {
   "cell_type": "markdown",
   "id": "e0ef69d5-28f0-4cca-9454-385e96b2cab3",
   "metadata": {},
   "source": [
    "```\n",
    "[abc] # abc 중 하나와 매치\n",
    "---\n",
    "'a' # a와 매치\n",
    "'boy' # b와 매치\n",
    "'dye' # a, b, c 중 어느 문자와도 매치되지 않음\n",
    "\n",
    "[a-c] # [abc]와 같음\n",
    "[0-5] # [012345]와 같음\n",
    "[a-zA-Z] # 모든 알파\n",
    "[0-9] # 숫자\n",
    "\n",
    "[^0-9] # 숫자를 제외한 문자만 매치\n",
    "[^abc] # a, b, c를 제외한 모든 문자와 매치\n",
    "```"
   ]
  },
  {
   "cell_type": "markdown",
   "id": "7bc1dee3-ab4c-4715-8914-2fe89ce0da2a",
   "metadata": {},
   "source": [
    "### (2) . 모든 문자\n",
    "* .은 줄바꿈 문자인 \\n 을 제외한 모든 문자와 매치된다.\n",
    "* ※ [] 사이에서 .을 사용할 경우 문자 원래의 의미인 마침표가 된다."
   ]
  },
  {
   "cell_type": "markdown",
   "id": "c9b69fc2-9cbb-4e6a-a2f2-a0aa28cc4a25",
   "metadata": {},
   "source": [
    "```\n",
    "a.b # 'a + 모든 문자 + b'를 뜻함\n",
    "---\n",
    "aab # a와 b 사이의 a는 모든 문자에 포함되므로 매치\n",
    "a0b # a와 b 사이의 0은 모든 문자에 포함되므로 매치\n",
    "abc # a와 b 사이에 문자가 없기 때문에 매치되지 않음\n",
    "```\n",
    "\n",
    "```\n",
    "a[.]b\n",
    "---\n",
    "a.b # a와 b 사이에 마침표가 있으므로 매치\n",
    "a0b # a와 b 사이에 마침표가 없으므로 매치 안됨\n",
    "```"
   ]
  },
  {
   "cell_type": "markdown",
   "id": "7380b14f-d41e-4298-8c7c-35d5577af8b9",
   "metadata": {},
   "source": [
    "### (3) 반복\n",
    "* \\* : 앞에 오는 문자가 0개를 포함하여 몇 개가 오든 모두 매치된다.\n",
    "* \\+ : 최소 한 번 이상 반복, + 앞에 있는 문자가 최소 한 번 이상 반복되어야 매치된다.\n",
    "* ? : 없거나 하나 있거나, ? 앞에 있는 문자가 없거나 하나 있을 때 매치된다.\n",
    "* {m, n} : 반복 횟수 지정, {m, n} 앞에 있는 문자가 m 번에서 n 번까지 반복될 때 매치된다.\n",
    "    * {m}의 형태로 사용하면 반드시 m 번 반복인 경우만 매치된다.\n",
    "    * {0,} 는 *, {1,} 는 +, {0,1} 는 ? 와 각각 동일하다."
   ]
  },
  {
   "cell_type": "markdown",
   "id": "f7fe79d7-70a4-4aad-90c3-81652212da69",
   "metadata": {},
   "source": [
    "```\n",
    "lo*l\n",
    "---\n",
    "ll # 매치\n",
    "lol # 매치\n",
    "looool # 매치\n",
    "looooooooooooooooooooool # 매치\n",
    "lbl # 매치 안됨\n",
    "loooooooooooobooooooool # 매치 안됨\n",
    "\n",
    "lo+l\n",
    "---\n",
    "ll # 매치\n",
    "lol # 매치\n",
    "looool # 매치\n",
    "looooooooooooooooooooool # 매치\n",
    "lbl # 매치 안됨\n",
    "loooooooooooobooooooool # 매치 안됨\n",
    "\n",
    "lo+l\n",
    "---\n",
    "ll # 매치 안됨\n",
    "lol # 매치\n",
    "looooool # 매치\n",
    "\n",
    " lo{3, 5}l\n",
    " ---\n",
    " ll # 매치 안됨\n",
    " lol # 매치 안됨\n",
    " loool # 매치\n",
    " loooool # 매치\n",
    " looooool # 매치 안됨\n",
    "```"
   ]
  },
  {
   "cell_type": "markdown",
   "id": "b4b1f5f3-8cd5-45a4-8ea8-688df3a580fe",
   "metadata": {},
   "source": [
    "### (4) | 여러 개의 표현식 중 하나\n",
    "* 여러 개의 정규표현식들을 | 로 구분하면 or 의 의미가 적용되어 정규표현식들 중 어느 하나와 매치된다."
   ]
  },
  {
   "cell_type": "markdown",
   "id": "613874b3-bce2-4eb1-9308-f3a223f03b31",
   "metadata": {},
   "source": [
    "```\n",
    "a|b|c # a or b or c\n",
    "---\n",
    "a # 매치\n",
    "b # 매치\n",
    "c # 매치\n",
    "a b # 매치\n",
    "a b c # 매치\n",
    "d # 매치 안됨\n",
    "```"
   ]
  },
  {
   "cell_type": "markdown",
   "id": "c9d28738-fc45-4790-9fb8-d4167939f75f",
   "metadata": {},
   "source": [
    "### (5) ^ 문자열의 제일 처음과 매치 ★\n",
    "\n",
    "* 문자열이 ^의 뒤에 있는 문자로 시작되면 매치된다. \n",
    "* 여러 줄의 문자열일 경우 첫 줄만 적용된다. (단, re.MULTILINE 옵션이 적용되면 각 줄의 첫 문자를 검사하여 매치된다.)\n",
    "* \\A 는 ^ 와 동일하지만 re.MULTILINE 옵션을 무시하고 항상 문자열 첫 줄의 시작 문자를 검사한다."
   ]
  },
  {
   "cell_type": "markdown",
   "id": "945fec6c-e0aa-4273-8a4e-850f7c957aba",
   "metadata": {},
   "source": [
    "```\n",
    "^a\n",
    "---\n",
    "a # 매치\n",
    "aaa # 매치\n",
    "baaa # 매치 안됨\n",
    "1aaa # 매치 안됨\n",
    "```"
   ]
  },
  {
   "cell_type": "markdown",
   "id": "1cbf2379-4a0f-4d0d-88d6-c47a1de15778",
   "metadata": {},
   "source": [
    "### (6) \\$ 문자열의 제일 마지막과 매치\n",
    "* 문자열이 $의 앞에 있는 문자로 끝나면 매치된다. \n",
    "* 여러 줄의 문자열일 경우 마지막 줄만 적용된다. (단, re.MULTILINE 옵션이 적용되면 각 줄의 마지막 문자를 검사하여 매치된다.)\n",
    "* \\Z 는 $ 와 동일하지만 re.MULTILINE 옵션을 무시하고 항상\n",
    "문자열 마지막 줄의 끝 문자를 검사한다."
   ]
  },
  {
   "cell_type": "markdown",
   "id": "a5b22d30-9cf8-433b-8e60-9e486230629b",
   "metadata": {},
   "source": [
    "```\n",
    "a$\n",
    "---\n",
    "a # 매치\n",
    "aa # 매치\n",
    "baa # 매치\n",
    "aabb # 매치안됨\n",
    "```"
   ]
  },
  {
   "cell_type": "markdown",
   "id": "e96d9062-ad61-48fa-866b-f916877751f1",
   "metadata": {},
   "source": [
    "### (7) 조건이 있는 표현식\n",
    "* 표현식1(?=표현식2): 표현식1 뒤의 문자열이 표현식2와 매치되면 표현식1 매치.\n",
    "* 표현식1(?!표현식2): 표현식1 뒤의 문자열이 표현식2와 매치되지 않으면 표현식1 매치.\n",
    "* (?<=표현식1)표현식2: 표현식2 앞의 문자열이 표현식1과 매치되면 표현식2 매치.\n",
    "* (?<!표현식1)표현식2: 표현식2 앞의 문자열이 표현식1과 매치되지 않으면 표현식2 매치."
   ]
  },
  {
   "cell_type": "markdown",
   "id": "f8e337d8-3535-4fca-91c1-8c1e5f264699",
   "metadata": {},
   "source": [
    "```\n",
    "'hello(?=world)' # hello 뒤에 world가 있으면 hello를 매치\n",
    "---\n",
    "helloworld # hello 뒤에 world가 있기 때문에 hello가 매치됨\n",
    "byeworld # hello가 없기 때문에 매치 안됨\n",
    "helloJames # hello 뒤에 world가 없기 때문에 매치 안됨\n",
    "\n",
    "'hello(?!world)' # hello 뒤에 world가 없으면 hello를 매치\n",
    "---\n",
    "helloworld # hello 뒤에 world가 있기 때문에 매치 안됨\n",
    "byeworld # hello가 없기 때문에 매치 안됨\n",
    "helloJames # hello 뒤에 world가 없기 때문에 hello가 매치됨\n",
    "\n",
    "'(?<=hello)world' # world 앞에 hello가 있으면 world를 매치\n",
    "---\n",
    "helloworld # world 앞에 hello가 있기 때문에 world가 매치됨\n",
    "byeworld # world 앞에 hello가 없기 때문에 매치 안됨\n",
    "helloJames # world가 없기 때문에 매치 안됨\n",
    "\n",
    "'(?<!hello)world' # world 앞에 hello가 없으면 world를 매치\n",
    "---\n",
    "helloworld # world 앞에 hello가 있기 때문에 매치 안됨\n",
    "byeworld # world 앞에 hello가 없기 때문에 world가 매치됨\n",
    "helloJames # world가 없기 때문에 매치 안됨\n",
    "\n",
    "```"
   ]
  },
  {
   "cell_type": "markdown",
   "id": "bdc16d78-43d1-4712-a6aa-1784d1022e9a",
   "metadata": {},
   "source": [
    "## 2. 정규표현식 모듈\n",
    "* compile() : 정규표현식을 컴파일하여 변수에 저장한 후 사용할 수 있다.\n",
    "* 옵션\n",
    "    * DOTALL(S) - . 이 줄바꿈 문자를 포함하여 모든 문자와 매치할 수 있도록 한다.\n",
    "    * IGNORECASE(I) - 대소문자에 관계없이 매치할 수 있도록 한다.\n",
    "    * MULTILINE(M) - 여러줄과 매치할 수 있도록 한다. (^, $ 메타문자의 사용과 관계가 있는 옵션이다)\n",
    "    * VERBOSE(X) - verbose 모드를 사용할 수 있도록 한다. (정규식을 보기 편하게 만들수 있고 주석등을 사용할 수 있게된다.)"
   ]
  },
  {
   "cell_type": "code",
   "execution_count": 1,
   "id": "9bdd4785-a492-4b3f-8805-f44d39817ef3",
   "metadata": {},
   "outputs": [
    {
     "name": "stdout",
     "output_type": "stream",
     "text": [
      "<class 're.Pattern'>\n"
     ]
    }
   ],
   "source": [
    "import re   #컴파일 할떄 re 써야함.(내가 정해주는건가?)\n",
    "\n",
    "p = re.compile('[abc]')\n",
    "print(type(p))"
   ]
  },
  {
   "cell_type": "code",
   "execution_count": 2,
   "id": "66e1a6a4-bd2a-4afa-a191-5df137a2f7de",
   "metadata": {},
   "outputs": [],
   "source": [
    "import re\n",
    "p = re.compile('a.b')\n",
    "#p = re.compile('a.b', re.DOTALL)\n",
    "\n",
    "p.match('a\\nb')"
   ]
  },
  {
   "cell_type": "code",
   "execution_count": 3,
   "id": "b0cfe29e-4e28-45aa-8cff-7bcad871fa0e",
   "metadata": {},
   "outputs": [],
   "source": [
    "import re\n",
    "\n",
    "p = re.compile('[a-z]')\n",
    "#p = re.compile('[a-z]', re.I)\n",
    "\n",
    "p.match('python')\n",
    "p.match('Python')\n",
    "p.match('PYTHON')"
   ]
  },
  {
   "cell_type": "code",
   "execution_count": 4,
   "id": "727cdb84-8431-4214-86a9-619a3aee3b22",
   "metadata": {},
   "outputs": [
    {
     "name": "stdout",
     "output_type": "stream",
     "text": [
      "['python one', 'python two', 'python three']\n"
     ]
    }
   ],
   "source": [
    "import re\n",
    "\n",
    "#p = re.compile(\"^python\\s\\w+\")\n",
    "p = re.compile(\"^python\\s\\w+\", re.MULTILINE)\n",
    "\n",
    "data = \"\"\"python one\n",
    "life is too short\n",
    "python two\n",
    "you need python\n",
    "python three\"\"\"\n",
    "\n",
    "print(p.findall(data))"
   ]
  },
  {
   "cell_type": "code",
   "execution_count": 5,
   "id": "b5d46d66-5d66-44d2-ae64-72c33bb23fca",
   "metadata": {},
   "outputs": [],
   "source": [
    "import re\n",
    "\n",
    "#charref = re.compile(r'&[#](0[0-7]+|[0-9]+|x[0-9a-fA-F]+);')\n",
    "\n",
    "charref = re.compile(r\"\"\"\n",
    " &[#]                # Start of a numeric entity reference\n",
    " (\n",
    "     0[0-7]+         # Octal form\n",
    "   | [0-9]+          # Decimal form\n",
    "   | x[0-9a-fA-F]+   # Hexadecimal form\n",
    " )\n",
    " ;                   # Trailing semicolon\n",
    "\"\"\", re.VERBOSE)"
   ]
  },
  {
   "cell_type": "markdown",
   "id": "d8d55f42-30e1-4c9d-8bc2-06923c3168d7",
   "metadata": {},
   "source": [
    "## 3. 패턴 객체 메소드"
   ]
  },
  {
   "cell_type": "code",
   "execution_count": 6,
   "id": "7dbd6368-4f7a-45b0-b9a9-2e84af118c49",
   "metadata": {},
   "outputs": [
    {
     "name": "stdout",
     "output_type": "stream",
     "text": [
      "re.compile('[a-z]+')\n"
     ]
    }
   ],
   "source": [
    "import re\n",
    "\n",
    "p = re.compile('[a-z]+') # 영문자 여러개\n",
    "print(p)"
   ]
  },
  {
   "cell_type": "markdown",
   "id": "c4e2e477-f118-4c73-9b03-e37ab7fd3017",
   "metadata": {},
   "source": [
    "### (1) match()\n",
    "* 시작부터 일치하는 패턴 찾기\n",
    "* 문자열의 처음 시작부터 검색하여 일치하지 않는 부분이 나올 때까지 찾는다.\n",
    "* 검색의 결과로 re.Match 객체를 리턴한다."
   ]
  },
  {
   "cell_type": "code",
   "execution_count": 7,
   "id": "85673701-834c-4ee7-94d9-4447a0c197c3",
   "metadata": {
    "tags": []
   },
   "outputs": [
    {
     "data": {
      "text/plain": [
       "<re.Match object; span=(0, 3), match='aaa'>"
      ]
     },
     "execution_count": 7,
     "metadata": {},
     "output_type": "execute_result"
    }
   ],
   "source": [
    "p.match('aaaaa')\n",
    "\n",
    "p.match('bbbbbbbbb')\n",
    "\n",
    "p.match('1aaaa')\n",
    "\n",
    "p.match('aaa1aaa')"
   ]
  },
  {
   "cell_type": "markdown",
   "id": "6abe9569-4ca5-4036-a634-40b006d4db3f",
   "metadata": {},
   "source": [
    "### (2) search\n",
    "* 전체 문자열에서 첫 번째 매치 찾기\n",
    "* 문자열 전체에서 검색하여 처음으로 매치되는 문자열을 찾는다.\n",
    "* 검색의 결과로 re.Match 객체를 리턴한다."
   ]
  },
  {
   "cell_type": "code",
   "execution_count": 8,
   "id": "525f5c46-0f9b-4013-afad-95af371a81b4",
   "metadata": {},
   "outputs": [
    {
     "data": {
      "text/plain": [
       "<re.Match object; span=(1, 4), match='aaa'>"
      ]
     },
     "execution_count": 8,
     "metadata": {},
     "output_type": "execute_result"
    }
   ],
   "source": [
    "p.search('aaaaa')\n",
    "\n",
    "p.search('11aaaa')\n",
    "\n",
    "p.search('aaa11aaa')\n",
    "\n",
    "p.search('1aaa11aaa1')"
   ]
  },
  {
   "cell_type": "markdown",
   "id": "3c82aed3-5278-49eb-9132-2e505e8f6d61",
   "metadata": {},
   "source": [
    "### (3) findall\n",
    "* 모든 매치를 찾아 리스트로 반환\n",
    "* 문자열 내에서 일치하는 모든 패턴을 찾아 리스트로 반환한다."
   ]
  },
  {
   "cell_type": "code",
   "execution_count": 9,
   "id": "64d9bf2d-8456-4b3c-ba28-c695d79f06c1",
   "metadata": {},
   "outputs": [
    {
     "data": {
      "text/plain": [
       "['aa', 'aaa', 'a', 'aa', 'aaa']"
      ]
     },
     "execution_count": 9,
     "metadata": {},
     "output_type": "execute_result"
    }
   ],
   "source": [
    "p.findall('aaa')\n",
    "\n",
    "p.findall('11aaa')\n",
    "\n",
    "p.findall('1a1a1a1a1a')\n",
    "\n",
    "p.findall('1aa1aaa1a1aa1aaa')"
   ]
  },
  {
   "cell_type": "markdown",
   "id": "2f91f6e2-add0-4ae4-b994-77c6db9c9780",
   "metadata": {},
   "source": [
    "### (4) finditer\n",
    "* 모든 매치를 찾아 반복가능 객체로 반환\n",
    "* callable_iterator라는 객체가 반환되었다. "
   ]
  },
  {
   "cell_type": "code",
   "execution_count": 10,
   "id": "5e359a8b-99bd-4b8e-bf82-cad84200d232",
   "metadata": {},
   "outputs": [
    {
     "data": {
      "text/plain": [
       "<callable_iterator at 0x10853671d90>"
      ]
     },
     "execution_count": 10,
     "metadata": {},
     "output_type": "execute_result"
    }
   ],
   "source": [
    "p.finditer('a1bb1ccc')"
   ]
  },
  {
   "cell_type": "code",
   "execution_count": 11,
   "id": "ec1932ee-b0b7-4958-931c-140cb05e3d4c",
   "metadata": {},
   "outputs": [
    {
     "name": "stdout",
     "output_type": "stream",
     "text": [
      "<re.Match object; span=(0, 1), match='a'>\n",
      "<re.Match object; span=(2, 4), match='bb'>\n",
      "<re.Match object; span=(5, 8), match='ccc'>\n"
     ]
    }
   ],
   "source": [
    "iterator = p.finditer('a1bb1ccc')\n",
    "\n",
    "for i in iterator:\n",
    "    print(i)"
   ]
  },
  {
   "cell_type": "markdown",
   "id": "a83afa3a-bb60-4fba-8457-b361a5610ed4",
   "metadata": {},
   "source": [
    "## 4. 매치 객체 메소드"
   ]
  },
  {
   "cell_type": "markdown",
   "id": "bfddd0e2-7705-4443-aa58-f8942d8f12a4",
   "metadata": {},
   "source": [
    "* group(): \t매치된 문자열 출력\n",
    "* start(): \t매치 시작지점 인덱스 출력\n",
    "* end(): \t매치 끝지점 인덱스 출력\n",
    "* span(): \t(start(), end())를 튜플로 출력"
   ]
  },
  {
   "cell_type": "code",
   "execution_count": 12,
   "id": "66b7fa73-5c29-4cf4-99e2-e5aec1cb31b0",
   "metadata": {},
   "outputs": [
    {
     "name": "stdout",
     "output_type": "stream",
     "text": [
      "<re.Match object; span=(1, 4), match='aaa'>\n",
      "aaa <class 'str'>\n",
      "1 <class 'int'>\n",
      "4 <class 'int'>\n",
      "(1, 4) <class 'tuple'>\n"
     ]
    }
   ],
   "source": [
    "p = re.compile('[a-z]+')\n",
    "result = p.search('1aaa11aaa1')\n",
    "print(result)\n",
    "print(result.group(), type(result.group()))\n",
    "print(result.start(), type(result.start()))\n",
    "print(result.end(), type(result.end()))\n",
    "print(result.span(), type(result.span()))"
   ]
  },
  {
   "cell_type": "markdown",
   "id": "c1012fa5-84fd-4a1c-a3e0-c5539c2245fa",
   "metadata": {},
   "source": [
    "## 5. 예제"
   ]
  },
  {
   "cell_type": "markdown",
   "id": "8763f32e-b9e9-4e3d-ae0b-4e8d46f1560d",
   "metadata": {},
   "source": [
    "### (1) 데이터 분리"
   ]
  },
  {
   "cell_type": "code",
   "execution_count": 13,
   "id": "9e5431d0-494b-4c5c-b1a7-5307459364b4",
   "metadata": {},
   "outputs": [
    {
     "name": "stdout",
     "output_type": "stream",
     "text": [
      "{'Janice': '22', 'Theon': '33', 'Gabriel': '44', 'Joey': '21'}\n"
     ]
    }
   ],
   "source": [
    "import re\n",
    " \n",
    "Nameage = '''\n",
    "Janice is 22 and Theon is 33\n",
    "Gabriel is 44 and Joey is 21\n",
    "'''\n",
    " \n",
    "ages = re.findall('\\d{1,3}', Nameage)\n",
    "names = re.findall('[A-Z][a-z]*', Nameage)\n",
    " \n",
    "ageDict = {}\n",
    "\n",
    "index = 0\n",
    "\n",
    "for eachname in names:\n",
    "    ageDict[eachname] = ages[index]\n",
    "    index += 1\n",
    "    \n",
    "print(ageDict)"
   ]
  },
  {
   "cell_type": "markdown",
   "id": "235c1993-c539-433b-9b36-b5e84672145f",
   "metadata": {},
   "source": [
    "### (2) 문자열에서 단어 찾기"
   ]
  },
  {
   "cell_type": "code",
   "execution_count": 15,
   "id": "fc441f85-bf27-4643-be68-f4c4df9b826c",
   "metadata": {},
   "outputs": [
    {
     "name": "stdin",
     "output_type": "stream",
     "text": [
      "찾고자 하는 단어를 입력하세요 12\n"
     ]
    },
    {
     "name": "stdout",
     "output_type": "stream",
     "text": [
      "12는 찾지 못했습니다.\n"
     ]
    }
   ],
   "source": [
    "import re\n",
    " \n",
    "# 문자열에서 단어 찾기\n",
    "word = input('찾고자 하는 단어를 입력하세요')\n",
    "\n",
    "if re.search(word, \"we need to inform him with the latest information\"):\n",
    "    print('{}는 찾았습니다.'.format(word))\n",
    "else :\n",
    "    print('{}는 찾지 못했습니다.'.format(word))"
   ]
  },
  {
   "cell_type": "code",
   "execution_count": null,
   "id": "24aa8986-61b4-4df8-b629-b907e8dc2530",
   "metadata": {},
   "outputs": [],
   "source": [
    "import re\n",
    " \n",
    "allinform = re.findall(\"inform\",\"We need to inform him with the latest information!\")\n",
    " \n",
    "count = 0\n",
    "\n",
    "for i in allinform:\n",
    "    print(i)\n",
    "    count += 1\n",
    "\n",
    "print('%d개 찾았습니다.' % count)"
   ]
  },
  {
   "cell_type": "code",
   "execution_count": null,
   "id": "306c57c8-e0e1-493a-a925-824ef94f92f1",
   "metadata": {},
   "outputs": [],
   "source": [
    "import re\n",
    " \n",
    "Str = \"we need to inform him with the latest information\"\n",
    " \n",
    "for i in re.finditer(\"inform.\", Str):\n",
    "    locTuple = i.span()  # 시작 인덱스, 끝 인덱스\n",
    "    print(locTuple)"
   ]
  },
  {
   "cell_type": "markdown",
   "id": "111d8f7f-e623-4826-9920-76a91d8bdda5",
   "metadata": {},
   "source": [
    "### (3) 패턴과 일치하는 단어"
   ]
  },
  {
   "cell_type": "code",
   "execution_count": 62,
   "id": "006a4ef6-d640-4084-b5bf-9cb74d2136eb",
   "metadata": {},
   "outputs": [
    {
     "name": "stdout",
     "output_type": "stream",
     "text": [
      "hat\n",
      "mat\n",
      "pat\n"
     ]
    }
   ],
   "source": [
    "import re\n",
    " \n",
    "Str = \"Sat, hat, mat, pat\"\n",
    " \n",
    "allStr = re.findall(\"[shmp]at\", Str)\n",
    " \n",
    "for i in allStr:\n",
    "    print(i)"
   ]
  },
  {
   "cell_type": "markdown",
   "id": "8e1a26a5-5cc3-4cb3-abbe-917e45ef342c",
   "metadata": {},
   "source": [
    "### (4) 일치하는 일련의 문자 범위"
   ]
  },
  {
   "cell_type": "code",
   "execution_count": 63,
   "id": "9d10e99e-10f7-4c78-b647-346bfd8b3d91",
   "metadata": {},
   "outputs": [
    {
     "name": "stdout",
     "output_type": "stream",
     "text": [
      "hat\n",
      "mat\n"
     ]
    }
   ],
   "source": [
    "import re\n",
    " \n",
    "Str = \"sat, hat, mat, pat\"\n",
    " \n",
    "someStr = re.findall(\"[h-m]at\", Str)\n",
    " \n",
    "for i in someStr:\n",
    "    print(i)"
   ]
  },
  {
   "cell_type": "markdown",
   "id": "242d9f6a-45ef-4598-9e2d-44b6179bd897",
   "metadata": {},
   "source": [
    "### (5) 문자열 바꾸기"
   ]
  },
  {
   "cell_type": "code",
   "execution_count": 65,
   "id": "ee4dd7b2-a79b-4e06-b098-b05ca1e4947a",
   "metadata": {},
   "outputs": [
    {
     "name": "stdout",
     "output_type": "stream",
     "text": [
      "I like apple And apple\n"
     ]
    }
   ],
   "source": [
    "import re\n",
    " \n",
    "import re\n",
    "\n",
    "text = \"I like apble And abple\"\n",
    "text_mod = re.sub('apble|abple', \"apple\", text) # re.sub（정규 표현식, 대상 문자열 , 치환 문자）\n",
    "print (text_mod)"
   ]
  },
  {
   "cell_type": "code",
   "execution_count": 67,
   "id": "3c1532a0-05c4-4e52-8e2d-f6906b80b80d",
   "metadata": {},
   "outputs": [
    {
     "name": "stdout",
     "output_type": "stream",
     "text": [
      "***-****-**** Kim\n",
      "***-****-**** Lee\n",
      "***-****-**** Han\n",
      "\n"
     ]
    }
   ],
   "source": [
    "import re\n",
    "\n",
    "text = \"\"\"\\\n",
    "010-1234-5678 Kim\n",
    "011-1234-5678 Lee\n",
    "016-1234-5678 Han\n",
    "\"\"\"\n",
    "# 정규 표현식 사용 치환\n",
    "text_mod = re.sub('^[0-9]{3}-[0-9]{4}-[0-9]{4}',\"***-****-****\",text, flags=re.MULTILINE) \n",
    "print (text_mod)"
   ]
  },
  {
   "cell_type": "code",
   "execution_count": 73,
   "id": "3c7f9ad8-b07d-449f-9276-5bcb02d48db6",
   "metadata": {},
   "outputs": [
    {
     "name": "stdout",
     "output_type": "stream",
     "text": [
      "***-****-**** Kim\n",
      "***-****-**** Lee\n",
      "***-****-**** Han\n",
      "\n"
     ]
    }
   ],
   "source": [
    "import re\n",
    "\n",
    "text = \"\"\"\\\n",
    "010-1234-5678 Kim\n",
    "011-1234-5678 Lee\n",
    "016-1234-5678 Han\n",
    "\"\"\"\n",
    "# 정규 표현식 사용 치환\n",
    "regex = re.compile('^[0-9]{3}-[0-9]{4}-[0-9]{4}', re.M)\n",
    "text_mod = re.sub(regex,\"***-****-****\",text)\n",
    "\n",
    "print (text_mod)"
   ]
  },
  {
   "cell_type": "markdown",
   "id": "25d80afe-6a24-4f2c-8a08-d78cdea2be00",
   "metadata": {},
   "source": [
    "### (6) \\ 문제 해결"
   ]
  },
  {
   "cell_type": "code",
   "execution_count": null,
   "id": "cf70b388-ff78-4086-8555-3e4706367b70",
   "metadata": {},
   "outputs": [],
   "source": [
    "import re\n",
    " \n",
    "randstr = \"Here is \\\\Edureka\"\n",
    " \n",
    "print(randstr)\n",
    "print(re.search(\"r\\\\Edureka\", randstr)) "
   ]
  },
  {
   "cell_type": "code",
   "execution_count": 78,
   "id": "68332ddb-eaf1-4207-8794-2020c6da08e9",
   "metadata": {},
   "outputs": [
    {
     "name": "stdout",
     "output_type": "stream",
     "text": [
      "<re.Match object; span=(8, 16), match='\\\\Edureka'>\n"
     ]
    }
   ],
   "source": [
    "import re\n",
    " \n",
    "randstr = \"Here is \\\\Edureka\"\n",
    " \n",
    "print(re.search(r\"\\\\Edureka\", randstr)) # r:  Raw string"
   ]
  },
  {
   "cell_type": "markdown",
   "id": "b6f0ce5f-c43b-486d-afc7-1cf21f8e4c46",
   "metadata": {},
   "source": [
    "### (7) 줄 바꿈 공백 제거"
   ]
  },
  {
   "cell_type": "code",
   "execution_count": 3,
   "id": "7497942d-4508-4398-b543-4e5833f1a702",
   "metadata": {},
   "outputs": [
    {
     "name": "stdout",
     "output_type": "stream",
     "text": [
      "Before : \n",
      "You Never\n",
      "Walk Alone\n",
      "Liverpool FC\n",
      "\n",
      "After :  You Never Walk Alone Liverpool FC \n"
     ]
    }
   ],
   "source": [
    "import re\n",
    " \n",
    "randstr = '''\n",
    "You Never\n",
    "Walk Alone\n",
    "Liverpool FC\n",
    "'''\n",
    " \n",
    "print('Before : ' + randstr)\n",
    " \n",
    "regex = re.compile(\"\\n\")\n",
    " \n",
    "randstr = re.sub(regex, \" \", randstr)\n",
    "\n",
    "print('After : ' + randstr)"
   ]
  },
  {
   "cell_type": "code",
   "execution_count": 21,
   "id": "9d1a6ba8-11aa-4c3e-93a1-37eaa0affc22",
   "metadata": {},
   "outputs": [
    {
     "name": "stdout",
     "output_type": "stream",
     "text": [
      "전화번호 형식이 틀림\n"
     ]
    }
   ],
   "source": [
    "import re\n",
    " \n",
    "# phone = \"412-555-1212\"\n",
    "phone = \"aaa-555-1212\"\n",
    "\n",
    "regex = re.compile(\"\\d{0,3}-\\d{4}-\\d{4}\")\n",
    "\n",
    "if re.search(regex, phone):\n",
    "    print(\"전화번호 형식이 올바름\")\n",
    "else:\n",
    "    print(\"전화번호 형식이 틀림\")"
   ]
  },
  {
   "cell_type": "code",
   "execution_count": 25,
   "id": "5701ddae-513f-4b22-9de2-3407c46eba42",
   "metadata": {},
   "outputs": [
    {
     "name": "stdout",
     "output_type": "stream",
     "text": [
      "Email Matches:  2\n"
     ]
    }
   ],
   "source": [
    "import re\n",
    " \n",
    "email = \"ac@aol.com md@.com @seo.com dc@.com abc@cc.com\"\n",
    "regex = re.compile(\"[\\w._%+-]{1,20}@[\\w.-]{2,20}.[A-Za-z]{2,3}\")\n",
    " \n",
    "print(\"Email Matches: \", \\\n",
    "      len(re.findall(regex, email)))"
   ]
  },
  {
   "cell_type": "code",
   "execution_count": 1,
   "id": "15bc7df4-20ae-488b-9317-75f0152b5a47",
   "metadata": {},
   "outputs": [],
   "source": [
    "import urllib.request\n",
    "import re\n",
    " \n",
    "url = \"http://www.summet.com/dmsi/html/codesamples/addresses.html\"\n",
    "\n",
    "response = urllib.request.urlopen(url)\n",
    " \n",
    "html = response.read()\n",
    "html_str = html.decode()\n",
    "\n",
    "phone_number = re.compile(\"\\(\\d{3}\\) \\d{3}-\\d{4}\")\n",
    "zip_code = re.compile('\\d{3}-\\d{4}')\n",
    " \n",
    "pdata = re.findall(phone_number, html_str)\n",
    "zdata = re.findall(zip_code, html_str)\n",
    "                      \n",
    "# for item in pdata:\n",
    "#     print(item)\n",
    "                      \n",
    "# for item in zdata:\n",
    "#     print(item)"
   ]
  },
  {
   "cell_type": "code",
   "execution_count": null,
   "id": "744b1c49-cb2e-4d88-ab78-7c3a8e222368",
   "metadata": {},
   "outputs": [],
   "source": []
  }
 ],
 "metadata": {
  "kernelspec": {
   "display_name": "Python 3 (ipykernel)",
   "language": "python",
   "name": "python3"
  },
  "language_info": {
   "codemirror_mode": {
    "name": "ipython",
    "version": 3
   },
   "file_extension": ".py",
   "mimetype": "text/x-python",
   "name": "python",
   "nbconvert_exporter": "python",
   "pygments_lexer": "ipython3",
   "version": "3.9.7"
  }
 },
 "nbformat": 4,
 "nbformat_minor": 5
}
