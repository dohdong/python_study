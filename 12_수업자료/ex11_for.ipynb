{
 "cells": [
  {
   "cell_type": "markdown",
   "id": "216848ed-12d7-422a-bcef-5bd1bc6416e3",
   "metadata": {},
   "source": [
    "# Iteration Statement"
   ]
  },
  {
   "cell_type": "markdown",
   "id": "4084dc65-dd7a-40ca-b490-f7b7bb1c0c7f",
   "metadata": {
    "tags": []
   },
   "source": [
    "## 1. For Loops"
   ]
  },
  {
   "cell_type": "markdown",
   "id": "4ecfbbd6-e93f-462b-a34b-c4b0323e3acd",
   "metadata": {},
   "source": [
    "* 리스트나 튜플, 문자열의 첫 번째 아이템부터 마지막 아이템까지 차례로 변수에 대입되어 반복적으로 문장을 수행한다.\n",
    "* in 뒤의 Collection_Data 값이 없을때 까지 하나씩 변수로 복사되어 반복됩니다.\n",
    "* Collection_Data로는 tuple, set, list, dictionary, string 등 데이터의 집합입니다."
   ]
  },
  {
   "cell_type": "markdown",
   "id": "8d1b74fe-4efc-4f74-825e-e6b9c88285a0",
   "metadata": {},
   "source": [
    "```\n",
    "for 변수 in 리스트(또는 튜플, 문자열):\n",
    "    수행할 문장1\n",
    "    수행할 문장2\n",
    "    ...\n",
    "```"
   ]
  },
  {
   "cell_type": "code",
   "execution_count": 2,
   "id": "144d8fb3-0913-4d31-9eec-129ab4d4ac39",
   "metadata": {},
   "outputs": [
    {
     "name": "stdout",
     "output_type": "stream",
     "text": [
      "apple\n",
      "banana\n",
      "cherry\n",
      "b\n",
      "a\n",
      "n\n",
      "a\n",
      "n\n",
      "a\n"
     ]
    }
   ],
   "source": [
    "fruits = [\"apple\", \"banana\", \"cherry\"]\n",
    "\n",
    "for x in fruits:\n",
    "  print(x)\n",
    "\n"
   ]
  },
  {
   "cell_type": "markdown",
   "id": "0273254a-19dd-4305-8f4c-441bd2ea075a",
   "metadata": {},
   "source": [
    "## 2. range()"
   ]
  },
  {
   "cell_type": "markdown",
   "id": "d76a1ade-d043-4f73-bb0e-c2ae2966dafe",
   "metadata": {},
   "source": [
    "* for문은 숫자 리스트를 자동으로 만들어 주는 range 함수와 함께 사용하는 경우가 많다."
   ]
  },
  {
   "cell_type": "code",
   "execution_count": 3,
   "id": "709e049b-b470-4b77-b981-4a09d4e080f0",
   "metadata": {},
   "outputs": [
    {
     "name": "stdout",
     "output_type": "stream",
     "text": [
      "0\n",
      "1\n",
      "2\n",
      "3\n",
      "4\n",
      "5\n"
     ]
    }
   ],
   "source": [
    "for x in range(6):\n",
    "    print(x)"
   ]
  },
  {
   "cell_type": "code",
   "execution_count": 4,
   "id": "0c2f9c6c-4890-47ba-9481-50ca1e86c8a2",
   "metadata": {},
   "outputs": [
    {
     "name": "stdout",
     "output_type": "stream",
     "text": [
      "2\n",
      "5\n",
      "8\n",
      "11\n",
      "14\n",
      "17\n",
      "20\n",
      "23\n",
      "26\n",
      "29\n"
     ]
    }
   ],
   "source": [
    "for x in range(2, 30, 3):\n",
    "    print(x)"
   ]
  },
  {
   "cell_type": "markdown",
   "id": "194ee2c4-796e-4092-83b0-7d823b759ee1",
   "metadata": {},
   "source": [
    "## 3. 컬렉션 데이터 출력"
   ]
  },
  {
   "cell_type": "code",
   "execution_count": 5,
   "id": "879eec07-f129-4218-8a68-00d27004cc4c",
   "metadata": {},
   "outputs": [
    {
     "name": "stdout",
     "output_type": "stream",
     "text": [
      "1번 학생 축하합니다. 합격입니다.\n",
      "3번 학생 축하합니다. 합격입니다.\n",
      "5번 학생 축하합니다. 합격입니다.\n"
     ]
    }
   ],
   "source": [
    "# 리스트 테이터\n",
    "marks = [90, 25, 67, 45, 80]\n",
    "for number in range(len(marks)):\n",
    "    if marks[number] < 60: \n",
    "        continue\n",
    "    print(\"%d번 학생 축하합니다. 합격입니다.\" % (number+1))\n"
   ]
  },
  {
   "cell_type": "code",
   "execution_count": 13,
   "id": "79e9efff-c3f5-437d-ab36-5211d1684b57",
   "metadata": {},
   "outputs": [
    {
     "name": "stdout",
     "output_type": "stream",
     "text": [
      " 메뉴는 cafelatte 입니다. \n",
      " 메뉴는 americano 입니다. \n",
      " 메뉴는 espresso 입니다. \n"
     ]
    }
   ],
   "source": [
    "# 튜플 데이터\n",
    "order_message=\" 메뉴는 %s 입니다. \" \n",
    "\n",
    "coffee = ( \"cafelatte\", \"americano\", \"espresso\" )\n",
    "for n in coffee :\n",
    "    print(order_message % n) "
   ]
  },
  {
   "cell_type": "code",
   "execution_count": 15,
   "id": "51b0a47c-8a2d-4a85-b41e-c1fafc0ef40c",
   "metadata": {},
   "outputs": [
    {
     "name": "stdout",
     "output_type": "stream",
     "text": [
      " 메뉴는 americano 입니다. \n",
      " 메뉴는 espresso 입니다. \n",
      " 메뉴는 cafelatte 입니다. \n"
     ]
    }
   ],
   "source": [
    "# 집합 데이터\n",
    "order_message=\" 메뉴는 %s 입니다. \" \n",
    "\n",
    "coffee = { \"cafelatte\", \"americano\", \"espresso\" }\n",
    "for n in coffee :\n",
    "    print(order_message % n) "
   ]
  },
  {
   "cell_type": "code",
   "execution_count": 14,
   "id": "d55ed382-e158-4edc-907a-f304ea0d70cd",
   "metadata": {
    "tags": []
   },
   "outputs": [
    {
     "name": "stdout",
     "output_type": "stream",
     "text": [
      "cafelatte\n",
      "americano\n",
      "espresso\n"
     ]
    }
   ],
   "source": [
    "# 딕셔너리 데이터\n",
    "coffee = { \"cafelatte\" : 3000,\n",
    "           \"americano\" : 2500,\n",
    "           \"espresso\" : 4000 }\n",
    "\n",
    "for n in coffee :    #딕셔너리의 키값이 하나씩 n에 전달됨\n",
    "    print(n) "
   ]
  },
  {
   "cell_type": "markdown",
   "id": "e69c8455-cecd-4eb9-9737-9157a90a6835",
   "metadata": {},
   "source": [
    "## 4. Break"
   ]
  },
  {
   "cell_type": "code",
   "execution_count": 11,
   "id": "defb6983-3d9e-4a53-a1bd-90d646cb2cb8",
   "metadata": {},
   "outputs": [
    {
     "name": "stdout",
     "output_type": "stream",
     "text": [
      "apple\n"
     ]
    }
   ],
   "source": [
    "fruits = [\"apple\", \"banana\", \"cherry\"]\n",
    "for x in fruits:\n",
    "\n",
    "    if x == \"banana\":\n",
    "        break\n",
    "    print(x)"
   ]
  },
  {
   "cell_type": "markdown",
   "id": "a3926247-fb3d-4bc7-9c9b-6c4b4c4eb239",
   "metadata": {},
   "source": [
    "## 5. Continue"
   ]
  },
  {
   "cell_type": "code",
   "execution_count": 9,
   "id": "c95b6dc2-2e79-4853-806b-b92322f0af55",
   "metadata": {},
   "outputs": [
    {
     "name": "stdout",
     "output_type": "stream",
     "text": [
      "apple\n",
      "cherry\n"
     ]
    }
   ],
   "source": [
    "fruits = [\"apple\", \"banana\", \"cherry\"]\n",
    "\n",
    "for x in fruits:\n",
    "    if x == \"banana\":\n",
    "        continue\n",
    "    print(x)"
   ]
  },
  {
   "cell_type": "markdown",
   "id": "8d2697b4-4c0b-47a5-a694-9f050299b306",
   "metadata": {},
   "source": [
    "## 6. For ~ Else"
   ]
  },
  {
   "cell_type": "markdown",
   "id": "2e781cac-fce2-43b4-8ec8-8683f8dfa4dc",
   "metadata": {},
   "source": [
    "* else 구절은 선택 사항입니다."
   ]
  },
  {
   "cell_type": "markdown",
   "id": "33beb306-8c45-4649-90b0-403c7b81b775",
   "metadata": {},
   "source": [
    "```\n",
    "for 변수명 in Collection_Data:\n",
    "    반복 실행할 명령\n",
    "    ....\n",
    "else:\n",
    "    데이터가 없을때 실행할 명령\n",
    "    ....\n",
    "```"
   ]
  },
  {
   "cell_type": "code",
   "execution_count": 7,
   "id": "590424b5-6dff-48e6-90f8-8255957a491e",
   "metadata": {},
   "outputs": [
    {
     "name": "stdout",
     "output_type": "stream",
     "text": [
      "0\n",
      "1\n",
      "2\n",
      "3\n",
      "4\n",
      "5\n",
      "Finally finished!\n"
     ]
    }
   ],
   "source": [
    "for x in range(6):\n",
    "    print(x)\n",
    "else:\n",
    "    print(\"Finally finished!\")"
   ]
  },
  {
   "cell_type": "code",
   "execution_count": 6,
   "id": "51d64cc1-f89f-407c-9c3a-0aaa8050be4c",
   "metadata": {},
   "outputs": [
    {
     "name": "stdout",
     "output_type": "stream",
     "text": [
      "0\n",
      "1\n",
      "2\n"
     ]
    }
   ],
   "source": [
    "for x in range(6):\n",
    "    if x == 3: break\n",
    "      print(x)\n",
    "else:\n",
    "    print(\"Finally finished!\")"
   ]
  },
  {
   "cell_type": "markdown",
   "id": "34b448c0-cf05-44e9-b86e-908f1706a613",
   "metadata": {},
   "source": [
    "## 7. 중첩 For"
   ]
  },
  {
   "cell_type": "code",
   "execution_count": 17,
   "id": "37f06af4-3420-450c-9a61-697d65b954b7",
   "metadata": {},
   "outputs": [
    {
     "name": "stdout",
     "output_type": "stream",
     "text": [
      "red apple\n",
      "red banana\n",
      "red cherry\n",
      "big apple\n",
      "big banana\n",
      "big cherry\n",
      "tasty apple\n",
      "tasty banana\n",
      "tasty cherry\n"
     ]
    }
   ],
   "source": [
    "adj = [\"red\", \"big\", \"tasty\"]\n",
    "fruits = [\"apple\", \"banana\", \"cherry\"]\n",
    "\n",
    "for x in adj:\n",
    "    for y in fruits:\n",
    "        print(x, y)"
   ]
  }
 ],
 "metadata": {
  "kernelspec": {
   "display_name": "default:Python",
   "language": "python",
   "name": "conda-env-default-py"
  },
  "language_info": {
   "codemirror_mode": {
    "name": "ipython",
    "version": 3
   },
   "file_extension": ".py",
   "mimetype": "text/x-python",
   "name": "python",
   "nbconvert_exporter": "python",
   "pygments_lexer": "ipython3",
   "version": "3.9.7"
  }
 },
 "nbformat": 4,
 "nbformat_minor": 5
}
