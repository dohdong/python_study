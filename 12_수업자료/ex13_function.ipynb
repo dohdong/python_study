{
 "cells": [
  {
   "cell_type": "markdown",
   "id": "aed453dc-fda6-4f0e-873e-3ce9575f9f36",
   "metadata": {},
   "source": [
    "# Function"
   ]
  },
  {
   "cell_type": "markdown",
   "id": "364466da-5d19-4755-84ee-225f2cac3b15",
   "metadata": {},
   "source": [
    "* 함수란? 자주 사용되는 코드를 별도로 만들어 놓고 필요시 불러서 재사용하는 방법입니다.\n",
    "* 함수를 만들때는 def 예약어를 사용합니다.\n",
    "* 함수의 내용은 들여쓰기를 합니다. 들여쓰기가 종료되면 함수 정의가 종료됩니다.\n",
    "* 함수의 이름은 변수명을 만들 듯이 사용자가 임의로 지정이 가능합니다.\n",
    "* 필요에 따라 괄호안에 매개 변수를 지정할 수 있습니다.\n",
    "* [] (대괄호)는 생략가능하다는 표시 입니다.\n",
    "* 매개 변수에 초기값을 지정할 수 있습니다.\n",
    "* 초기값을 지정하지 않으면 호출 시 반드시 인수를 지정해야 합니다."
   ]
  },
  {
   "cell_type": "markdown",
   "id": "a695d2dc-afa1-4f33-9ede-9e1ab651de20",
   "metadata": {},
   "source": [
    "## 1. 함수 정의"
   ]
  },
  {
   "cell_type": "markdown",
   "id": "6d49975b-6fb6-4498-a9a2-2ae9f105e4c4",
   "metadata": {},
   "source": [
    "```\n",
    "def 함수명([매개변수[=초기값], .....]):\n",
    "    수행할 문장1\n",
    "    수행할 문장2\n",
    "    ....\n",
    "    [return 리턴값]\n",
    "```"
   ]
  },
  {
   "cell_type": "markdown",
   "id": "623d45e1-46b2-44a5-88d9-b3692bb955cc",
   "metadata": {},
   "source": [
    "## 2. 함수 호출"
   ]
  },
  {
   "cell_type": "markdown",
   "id": "fd8c76c7-1a93-4953-9b4b-9a2320fc5e06",
   "metadata": {},
   "source": [
    "```\n",
    "함수명([매개변수값, .....])\n",
    "```"
   ]
  },
  {
   "cell_type": "code",
   "execution_count": 1,
   "id": "b7c98161-5144-4c3f-b1af-c977a162422a",
   "metadata": {},
   "outputs": [
    {
     "name": "stdout",
     "output_type": "stream",
     "text": [
      "Hello from a function\n"
     ]
    }
   ],
   "source": [
    "# 함수 정의\n",
    "def my_function():\n",
    "    print(\"Hello from a function\")\n",
    "\n",
    "# 함수 호출\n",
    "my_function()"
   ]
  },
  {
   "cell_type": "markdown",
   "id": "110a0169-51fd-4330-b8b7-43b069f4bbb3",
   "metadata": {},
   "source": [
    "## 3. 매개변수와 인수"
   ]
  },
  {
   "cell_type": "markdown",
   "id": "6180290b-55ab-4296-a778-a2c1479f3405",
   "metadata": {},
   "source": [
    "* 매개변수는 함수에 입력으로 전달된 값을 받는 변수를 의미하고 인수는 함수를 호출할 때 전달하는 입력값을 의미한다."
   ]
  },
  {
   "cell_type": "markdown",
   "id": "83af9ce5-7e8c-4420-b360-8043e1d3d8d5",
   "metadata": {
    "tags": []
   },
   "source": [
    "### (1) 매개변수 갯수"
   ]
  },
  {
   "cell_type": "code",
   "execution_count": null,
   "id": "bb2bee66-73c8-4d6b-a4cf-d49a6c311552",
   "metadata": {},
   "outputs": [],
   "source": [
    "# 함수 정의 - 매개변수 0개 : 입력값이 없는 함수\n",
    "def my_function():\n",
    "    print(\"Hello from a function\")\n",
    "\n",
    "# 함수 호출\n",
    "my_function()"
   ]
  },
  {
   "cell_type": "code",
   "execution_count": 4,
   "id": "27f2d855-3f3d-46e1-bf47-0d1ddb853ed3",
   "metadata": {},
   "outputs": [
    {
     "name": "stdout",
     "output_type": "stream",
     "text": [
      "Emil Refsnes\n",
      "Tobias Refsnes\n",
      "Linus Refsnes\n"
     ]
    }
   ],
   "source": [
    "# 함수 정의 - 매개변수 1개\n",
    "def my_function(fname):\n",
    "  print(fname + \" Refsnes\")\n",
    "\n",
    "# 함수 호출\n",
    "my_function(\"Emil\")\n",
    "my_function(\"Tobias\")\n",
    "my_function(\"Linus\")"
   ]
  },
  {
   "cell_type": "code",
   "execution_count": 5,
   "id": "2826092b-18e2-483d-bba7-1b381df1d4c8",
   "metadata": {},
   "outputs": [
    {
     "name": "stdout",
     "output_type": "stream",
     "text": [
      "7\n"
     ]
    }
   ],
   "source": [
    "# 함수 정의 - 매개변수 2개\n",
    "def add(a, b):  # a, b는 매개변수\n",
    "    return a+b\n",
    "\n",
    "# 함수 호출\n",
    "print(add(3, 4))  # 3, 4는 인수"
   ]
  },
  {
   "cell_type": "markdown",
   "id": "9233bdbe-b476-4ce7-b8f1-8e334eb1d0ef",
   "metadata": {
    "tags": []
   },
   "source": [
    "### (2) 매개변수 갯수를 모를 때\n",
    "* 파라미터를 몇개를 받을지 모르는 경우 사용한다. args 는 튜플 형태로 전달된다."
   ]
  },
  {
   "cell_type": "markdown",
   "id": "b4eb19bc-dfef-4f80-9be2-08e648cd65a7",
   "metadata": {},
   "source": [
    "```\n",
    "def 함수명(*args):\n",
    "    수행할 문장1\n",
    "    수행할 문장2\n",
    "    ....\n",
    "    [return 리턴값]\n",
    "```"
   ]
  },
  {
   "cell_type": "code",
   "execution_count": 1,
   "id": "934d6803-ad88-4831-9e0a-94844aa81d83",
   "metadata": {},
   "outputs": [
    {
     "name": "stdout",
     "output_type": "stream",
     "text": [
      "<class 'tuple'>\n",
      "Emil\n",
      "Tobias\n",
      "Linus\n",
      "<class 'tuple'>\n",
      "Youngji\n",
      "Yoo\n"
     ]
    }
   ],
   "source": [
    "# 함수 정의 - 매개변수 갯수를 모를 때\n",
    "def my_function(*kids):\n",
    "    print(type(kids))\n",
    "    for i in kids :\n",
    "        print(i)\n",
    "\n",
    "# 함수호출\n",
    "my_function(\"Emil\", \"Tobias\", \"Linus\")\n",
    "my_function(\"Youngji\", \"Yoo\")"
   ]
  },
  {
   "cell_type": "code",
   "execution_count": 25,
   "id": "a0354423-a8d6-4381-a1d2-77d70b934639",
   "metadata": {},
   "outputs": [
    {
     "name": "stdout",
     "output_type": "stream",
     "text": [
      "1\n",
      "3\n",
      "5\n",
      "7\n",
      "10\n"
     ]
    }
   ],
   "source": [
    "# 함수 정의 - 매개변수 갯수를 모를 때\n",
    "def print_num(*num) :\n",
    "    for i in num :\n",
    "        print(i)\n",
    "\n",
    "# 함수호출\n",
    "print_num(1,3,5,7)\n",
    "print_num(10)"
   ]
  },
  {
   "cell_type": "markdown",
   "id": "23f5862a-7689-4a99-958f-35136b9376c8",
   "metadata": {
    "tags": []
   },
   "source": [
    "### (3) 매개변수 이름 지정\n",
    "* 파라미터 명을 같이 보낼 수 있다. kwargs는 딕셔너리 형태로 전달된다"
   ]
  },
  {
   "cell_type": "markdown",
   "id": "ee882fd4-1cdd-4508-862c-46163beec9ef",
   "metadata": {},
   "source": [
    "```\n",
    "def 함수명(**kwargs):\n",
    "    수행할 문장1\n",
    "    수행할 문장2\n",
    "    ....\n",
    "    [return 리턴값]\n",
    "```"
   ]
  },
  {
   "cell_type": "code",
   "execution_count": 34,
   "id": "333aa534-b822-4762-99d0-f6fe90eda776",
   "metadata": {},
   "outputs": [
    {
     "name": "stdout",
     "output_type": "stream",
     "text": [
      "{'fname': 'Tobias', 'lname': 'Refsnes'}\n",
      "His name is Tobias Refsnes\n"
     ]
    }
   ],
   "source": [
    "# 함수 정의 - 매개변수 갯수를 모를 때\n",
    "def my_function(**kid):\n",
    "    print(kid)\n",
    "    print(\"His name is \" + kid[\"fname\"] + \" \" + kid[\"lname\"])\n",
    "\n",
    "# 함수호출\n",
    "my_function(fname = \"Tobias\", lname = \"Refsnes\")\n"
   ]
  },
  {
   "cell_type": "markdown",
   "id": "63ef5d38-cc42-46c7-8b8e-79a46479262b",
   "metadata": {
    "tags": []
   },
   "source": [
    "### (4) 디폴트값이 있는 매개변수 "
   ]
  },
  {
   "cell_type": "markdown",
   "id": "649dc989-eeda-4249-8115-da6806fcac29",
   "metadata": {},
   "source": [
    "```\n",
    "def 함수명(매개변수=초기값, .....]):\n",
    "    수행할 문장1\n",
    "    수행할 문장2\n",
    "    ....\n",
    "    [return 리턴값]\n",
    "```"
   ]
  },
  {
   "cell_type": "code",
   "execution_count": 35,
   "id": "537f0b7d-5b1a-4eaa-88ad-d76a0b4b5c5f",
   "metadata": {},
   "outputs": [
    {
     "name": "stdout",
     "output_type": "stream",
     "text": [
      "I am from Sweden\n",
      "I am from India\n",
      "I am from Norway\n",
      "I am from Brazil\n"
     ]
    }
   ],
   "source": [
    "# 함수 정의 - 매개변수 갯수를 모를 때\n",
    "def my_function(country = \"Norway\"):\n",
    "    print(\"I am from \" + country)\n",
    "\n",
    "# 함수호출\n",
    "my_function(\"Sweden\")\n",
    "my_function(\"India\")\n",
    "my_function()\n",
    "my_function(\"Brazil\")"
   ]
  },
  {
   "cell_type": "markdown",
   "id": "d249a5a4-d922-431c-bf34-c8c20a5358a5",
   "metadata": {},
   "source": [
    "### (5) 매개변수가 컬렉션인 경우"
   ]
  },
  {
   "cell_type": "code",
   "execution_count": 36,
   "id": "646022a2-ac61-485b-8284-0009318d72d1",
   "metadata": {},
   "outputs": [
    {
     "name": "stdout",
     "output_type": "stream",
     "text": [
      "apple\n",
      "banana\n",
      "cherry\n"
     ]
    }
   ],
   "source": [
    "# 함수 정의 - 매개변수 갯수를 모를 때\n",
    "def my_function(food):\n",
    "    for x in food:\n",
    "        print(x)\n",
    "\n",
    "# 함수호출\n",
    "fruits = [\"apple\", \"banana\", \"cherry\"]\n",
    "\n",
    "my_function(fruits)"
   ]
  },
  {
   "cell_type": "markdown",
   "id": "4e0f2c43-feed-4a2c-a94c-ae7d2a25c756",
   "metadata": {},
   "source": [
    "## 4. 리턴값\n",
    "\n",
    "* 어떠한 기능을 수행하고 그 결과를 호출한 곳으로 돌려주는 값을 말합니다. 함수가 어떠한 기능을 수행하고 돌려줄 값이 없으면 return 명령은 사용하지 않습니다.\n",
    "* 값을 되돌려 줄때 return 명령어를 사용합니다.\n",
    "* return 명령어를 만나면 함수가 종료됩니다.\n",
    "* return 명령어는 하나의 함수에 여러번 나올 수 있습니다. 하지만 1번만 사용하는것이 좋습니다."
   ]
  },
  {
   "cell_type": "code",
   "execution_count": 6,
   "id": "a8a0582b-6eaf-4b21-b084-5f86998e9a21",
   "metadata": {},
   "outputs": [
    {
     "name": "stdout",
     "output_type": "stream",
     "text": [
      "15\n",
      "25\n",
      "45\n"
     ]
    }
   ],
   "source": [
    "# 함수 정의 - 리턴값\n",
    "def my_function(x):\n",
    "    return 5 * x\n",
    "\n",
    "# 함수호출\n",
    "print(my_function(3))\n",
    "print(my_function(5))\n",
    "print(my_function(9))"
   ]
  },
  {
   "cell_type": "code",
   "execution_count": 38,
   "id": "f20d6f35-0ea0-47fd-9f6a-90b1b58eed72",
   "metadata": {},
   "outputs": [
    {
     "name": "stdout",
     "output_type": "stream",
     "text": [
      "(7, 12)\n"
     ]
    }
   ],
   "source": [
    "# 함수 정의 - 리턴값\n",
    "def add_and_mul(a,b): \n",
    "    return a+b, a*b\n",
    "\n",
    "# 함수호출\n",
    "result = add_and_mul(3,4)\n",
    "print(result)"
   ]
  },
  {
   "cell_type": "code",
   "execution_count": 39,
   "id": "44962bc4-247a-4f42-ba7e-dbd50e4267e2",
   "metadata": {},
   "outputs": [
    {
     "data": {
      "text/plain": [
       "True"
      ]
     },
     "execution_count": 39,
     "metadata": {},
     "output_type": "execute_result"
    }
   ],
   "source": [
    "# 함수 정의 - 매개변수, 리턴값이 모두 있는 함수\n",
    "def is_even_number(number):\n",
    "    if number % 2:\n",
    "        return False\n",
    "    else:\n",
    "        return True\n",
    "    \n",
    "# 함수호출\n",
    "is_even_number(10)"
   ]
  },
  {
   "cell_type": "markdown",
   "id": "a12d30dd-2867-4f2a-8b93-d8098634d43a",
   "metadata": {},
   "source": [
    "## 5. 내장 함수"
   ]
  },
  {
   "cell_type": "code",
   "execution_count": 40,
   "id": "329b8243-c5bb-4c9b-a8d3-cd4d5e3fbffc",
   "metadata": {},
   "outputs": [
    {
     "name": "stdout",
     "output_type": "stream",
     "text": [
      "5\n",
      "25\n"
     ]
    }
   ],
   "source": [
    "x = min(5, 10, 25)\n",
    "y = max(5, 10, 25)\n",
    "\n",
    "print(x)\n",
    "print(y)"
   ]
  },
  {
   "cell_type": "code",
   "execution_count": 41,
   "id": "56c846c9-6470-4ec7-b12f-840cd3bf381f",
   "metadata": {},
   "outputs": [
    {
     "name": "stdout",
     "output_type": "stream",
     "text": [
      "7.25\n"
     ]
    }
   ],
   "source": [
    "x = abs(-7.25)\n",
    "\n",
    "print(x)"
   ]
  },
  {
   "cell_type": "code",
   "execution_count": 42,
   "id": "e5a45f31-ae79-4a01-a518-4ae0a13eaf5c",
   "metadata": {},
   "outputs": [
    {
     "name": "stdout",
     "output_type": "stream",
     "text": [
      "64\n"
     ]
    }
   ],
   "source": [
    "x = pow(4, 3)\n",
    "\n",
    "print(x)"
   ]
  },
  {
   "cell_type": "code",
   "execution_count": 6,
   "id": "8c209637-f1ba-47b8-ad56-2846c03dedef",
   "metadata": {},
   "outputs": [
    {
     "name": "stdout",
     "output_type": "stream",
     "text": [
      "3\n"
     ]
    }
   ],
   "source": [
    "p=sum([1, 2])\n",
    "print(p)"
   ]
  },
  {
   "cell_type": "code",
   "execution_count": null,
   "id": "a3237d30-3855-4a45-8a28-bb08303ddf54",
   "metadata": {},
   "outputs": [],
   "source": []
  }
 ],
 "metadata": {
  "kernelspec": {
   "display_name": "default:Python",
   "language": "python",
   "name": "conda-env-default-py"
  },
  "language_info": {
   "codemirror_mode": {
    "name": "ipython",
    "version": 3
   },
   "file_extension": ".py",
   "mimetype": "text/x-python",
   "name": "python",
   "nbconvert_exporter": "python",
   "pygments_lexer": "ipython3",
   "version": "3.9.7"
  }
 },
 "nbformat": 4,
 "nbformat_minor": 5
}
