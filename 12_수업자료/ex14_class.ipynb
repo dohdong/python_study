{
 "cells": [
  {
   "cell_type": "markdown",
   "id": "b6151dbc-e4bc-4465-8cb9-4eaba0293106",
   "metadata": {},
   "source": [
    "# Class와 Object"
   ]
  },
  {
   "cell_type": "markdown",
   "id": "772fb49f-d539-4115-8570-6e771fdc1beb",
   "metadata": {},
   "source": [
    "클래스(class)란 똑같은 무엇인가를 계속해서 만들어 낼 수 있는 설계 도면이고(과자 틀), 객체(object)란 클래스로 만든 피조물(과자 틀을 사용해 만든 과자)을 뜻한다.\n",
    "\n",
    "* 과자 틀 → 클래스 (class)\n",
    "* 과자 틀에 의해서 만들어진 과자 → 객체 (object)\n",
    "\n",
    "[객체와 인스턴스의 차이]\n",
    "\n",
    "클래스로 만든 객체를 인스턴스라고도 한다. 그렇다면 객체와 인스턴스의 차이는 무엇일까? 이렇게 생각해 보자. a = Cookie() 이렇게 만든 a는 객체이다. 그리고 a 객체는 Cookie의 인스턴스이다. 즉 인스턴스라는 말은 특정 객체(a)가 어떤 클래스(Cookie)의 객체인지를 관계 위주로 설명할 때 사용한다. \"a는 인스턴스\"보다는 \"a는 객체\"라는 표현이 어울리며 \"a는 Cookie의 객체\"보다는 \"a는 Cookie의 인스턴스\"라는 표현이 훨씬 잘 어울린다."
   ]
  },
  {
   "cell_type": "markdown",
   "id": "757d4978-1c1b-481c-b292-5560893bd354",
   "metadata": {},
   "source": [
    "## 1. 클래스 정의"
   ]
  },
  {
   "cell_type": "code",
   "execution_count": 1,
   "id": "8d8615ea-26a4-42db-aa84-6f679e90c55d",
   "metadata": {},
   "outputs": [],
   "source": [
    "class Car() :  \n",
    "    carId = 0              # 자동차등록번호 \n",
    "    carOwnerName = \"\"      # 차주인 이름 \n",
    "    currentSpeed = 0       # 현재 자동차 속도\n",
    "\n",
    "\n",
    "\n",
    "# Car 클래스는 Car 객체(인스턴스) 생성 틀  "
   ]
  },
  {
   "cell_type": "markdown",
   "id": "eb008607-d5d9-4a82-b088-d68ac18adabb",
   "metadata": {},
   "source": [
    "## 2. 객체 생성"
   ]
  },
  {
   "cell_type": "code",
   "execution_count": 3,
   "id": "86eb1324-64b2-4475-81b8-13f4fb5699d1",
   "metadata": {},
   "outputs": [
    {
     "name": "stdout",
     "output_type": "stream",
     "text": [
      "0  0\n",
      "0  0\n"
     ]
    }
   ],
   "source": [
    "c1 = Car() #객체  Object \n",
    "c2 = Car() #객체  Object \n",
    "\n",
    "print(c1.carId, c1.carOwnerName, c1.currentSpeed)\n",
    "print(c2.carId, c2.carOwnerName, c2.currentSpeed)"
   ]
  },
  {
   "cell_type": "code",
   "execution_count": 4,
   "id": "d76ec883-00bf-49a5-985f-0ad2a8001532",
   "metadata": {
    "tags": []
   },
   "outputs": [
    {
     "name": "stdout",
     "output_type": "stream",
     "text": [
      "1 lee 10\n",
      "2 Smith 20\n"
     ]
    }
   ],
   "source": [
    "c1.carId = 1 \n",
    "c1.carOwnerName = \"lee\" \n",
    "c1.currentSpeed = 10\n",
    "\n",
    "c2.carId = 2 \n",
    "c2.carOwnerName = \"Smith\" \n",
    "c2.currentSpeed = 20 \n",
    "\n",
    "print(c1.carId, c1.carOwnerName, c1.currentSpeed)\n",
    "print(c2.carId, c2.carOwnerName, c2.currentSpeed)"
   ]
  },
  {
   "cell_type": "markdown",
   "id": "ceb46268-bfbb-4f64-b05e-7b73bea2dd90",
   "metadata": {},
   "source": [
    "## 3. 생성자"
   ]
  },
  {
   "cell_type": "code",
   "execution_count": 5,
   "id": "8ea956c1-ddc2-4e78-bc70-df67b6df9372",
   "metadata": {},
   "outputs": [
    {
     "name": "stdout",
     "output_type": "stream",
     "text": [
      "John\n",
      "36\n"
     ]
    }
   ],
   "source": [
    "class Person:\n",
    "    def __init__(self, name, age):\n",
    "        self.name = name\n",
    "        self.age = age\n",
    "\n",
    "p1 = Person(\"John\", 36)\n",
    "\n",
    "print(p1.name)\n",
    "print(p1.age)"
   ]
  },
  {
   "cell_type": "markdown",
   "id": "86bc9edb-4471-4097-914d-69566d53eceb",
   "metadata": {},
   "source": [
    "## 4. 객체 메소드 "
   ]
  },
  {
   "cell_type": "code",
   "execution_count": 6,
   "id": "43492c7f-f092-4cd0-8da9-e99385c2f11f",
   "metadata": {},
   "outputs": [
    {
     "name": "stdout",
     "output_type": "stream",
     "text": [
      "Hello my name is John\n"
     ]
    }
   ],
   "source": [
    "class Person:\n",
    "    def __init__(self, name, age):\n",
    "        self.name = name\n",
    "        self.age = age\n",
    "\n",
    "    def myfunc(self):\n",
    "        print(\"Hello my name is \" + self.name)\n",
    "\n",
    "p1 = Person(\"John\", 36)\n",
    "p1.myfunc()"
   ]
  },
  {
   "cell_type": "markdown",
   "id": "76b40e91-015b-4f77-a0ff-1ac76f6ea424",
   "metadata": {},
   "source": [
    "## 5. self 파라미터"
   ]
  },
  {
   "cell_type": "code",
   "execution_count": 1,
   "id": "5bf5cfe1-f4e9-4407-85aa-abc8a1de88f5",
   "metadata": {},
   "outputs": [
    {
     "name": "stdout",
     "output_type": "stream",
     "text": [
      "Hello my name is John\n"
     ]
    }
   ],
   "source": [
    "class Person:\n",
    "    def __init__(mysillyobject, name, age):\n",
    "        mysillyobject.name = name\n",
    "        mysillyobject.age = age\n",
    "\n",
    "    def myfunc(abc):\n",
    "        print(\"Hello my name is \" + abc.name)\n",
    "\n",
    "p1 = Person(\"John\", 36)\n",
    "p1.myfunc()"
   ]
  },
  {
   "cell_type": "markdown",
   "id": "418758bf-f361-43c8-81be-faa8de85a52e",
   "metadata": {},
   "source": [
    "## 6. 상속"
   ]
  },
  {
   "cell_type": "code",
   "execution_count": 8,
   "id": "16696cae-ca60-41b8-b665-9293469d5820",
   "metadata": {},
   "outputs": [],
   "source": [
    "class animal :\n",
    "    age = 0\n",
    "    def intro(self):\n",
    "        print(\"나는 동물입니다.\")\n",
    "\n",
    "class lion( animal ) :  #상속    lion is a animal.   하위클래스 is a 상위클래스\n",
    "    def hello(self):\n",
    "        print(\"제 나이는 %d 세입니다. \" %self.age)"
   ]
  },
  {
   "cell_type": "code",
   "execution_count": 10,
   "id": "cc5f8c2a-e529-4414-a8c8-3a2388762ae3",
   "metadata": {},
   "outputs": [
    {
     "name": "stdout",
     "output_type": "stream",
     "text": [
      "나는 동물입니다.\n",
      "제 나이는 0 세입니다. \n"
     ]
    }
   ],
   "source": [
    "j = lion()\n",
    "\n",
    "j.intro()\n",
    "j.hello()"
   ]
  },
  {
   "cell_type": "code",
   "execution_count": 11,
   "id": "25ebcd44-9228-43a8-bf91-7ae0cfa6a5af",
   "metadata": {},
   "outputs": [
    {
     "name": "stdout",
     "output_type": "stream",
     "text": [
      "제 나이는 10 세입니다. \n"
     ]
    }
   ],
   "source": [
    "j.age = 10\n",
    "j.hello()"
   ]
  },
  {
   "cell_type": "markdown",
   "id": "5981c61a-d712-439e-bd10-bd46ccfe3170",
   "metadata": {},
   "source": [
    "## 7. 클래스 활용"
   ]
  },
  {
   "cell_type": "code",
   "execution_count": 12,
   "id": "b9592c57-0793-4301-b4eb-450dfe61d165",
   "metadata": {},
   "outputs": [],
   "source": [
    "class Emp :\n",
    "    name =\"홍길동\" \n",
    "    dept =\"기획실\"\n",
    "    def print(self):\n",
    "        print(self.name, self.dept)"
   ]
  },
  {
   "cell_type": "code",
   "execution_count": 13,
   "id": "532afa74-f910-458d-b168-e3422973e8cf",
   "metadata": {},
   "outputs": [],
   "source": [
    "a = Emp()\n",
    "b = Emp() ; b.name=\"하연희\" ; b.dept=\"구현팀\""
   ]
  },
  {
   "cell_type": "code",
   "execution_count": 14,
   "id": "6d8a10f7-a842-4670-ab7b-99132128e875",
   "metadata": {},
   "outputs": [
    {
     "name": "stdout",
     "output_type": "stream",
     "text": [
      "홍길동 기획실\n",
      "하연희 구현팀\n",
      "홍길동 기획실\n",
      "하연희 구현팀\n"
     ]
    }
   ],
   "source": [
    "employees =[a, b]\n",
    "employees.append(a)\n",
    "employees.append(b)\n",
    "\n",
    "for i in employees :\n",
    "    i.print()"
   ]
  },
  {
   "cell_type": "code",
   "execution_count": 15,
   "id": "79846298-a735-48de-9271-111394306d53",
   "metadata": {},
   "outputs": [
    {
     "name": "stdout",
     "output_type": "stream",
     "text": [
      "<__main__.Emp object at 0x7f0f79fe9610>\n"
     ]
    }
   ],
   "source": [
    "dic ={\"홍길동\" : a ,\n",
    "      \"하연희\" : b } \n",
    "\n",
    "\n",
    "print( dic[\"홍길동\" ] ) "
   ]
  },
  {
   "cell_type": "code",
   "execution_count": 16,
   "id": "8c4838a5-975a-4e64-9bda-795095952350",
   "metadata": {},
   "outputs": [
    {
     "name": "stdout",
     "output_type": "stream",
     "text": [
      "홍길동\n",
      "기획실\n"
     ]
    }
   ],
   "source": [
    "print(dic[\"홍길동\" ].name) \n",
    "print(dic[\"홍길동\" ].dept) "
   ]
  },
  {
   "cell_type": "code",
   "execution_count": 17,
   "id": "0dae844c-938b-47d2-aaaa-4716f77b527a",
   "metadata": {},
   "outputs": [
    {
     "name": "stdout",
     "output_type": "stream",
     "text": [
      "홍길동\n",
      "기획실\n"
     ]
    }
   ],
   "source": [
    "obj = dic[\"홍길동\" ]\n",
    "print(obj.name )\n",
    "print(obj.dept )"
   ]
  },
  {
   "cell_type": "code",
   "execution_count": 18,
   "id": "7904f129-efc8-4a15-bf5e-f49f4413bb4d",
   "metadata": {},
   "outputs": [
    {
     "name": "stdout",
     "output_type": "stream",
     "text": [
      "홍길동 기획실 홍길동\n",
      "하연희 구현팀 하연희\n"
     ]
    }
   ],
   "source": [
    "for i in dic :   #딕셔너리의 키값이 하나씩 i 전달\n",
    "    print(i,   dic[i].dept   ,  dic[i].name)"
   ]
  },
  {
   "cell_type": "code",
   "execution_count": null,
   "id": "fcd1a41e-5d8b-4617-b3f9-56bc4d2707ff",
   "metadata": {},
   "outputs": [],
   "source": []
  }
 ],
 "metadata": {
  "kernelspec": {
   "display_name": "default:Python",
   "language": "python",
   "name": "conda-env-default-py"
  },
  "language_info": {
   "codemirror_mode": {
    "name": "ipython",
    "version": 3
   },
   "file_extension": ".py",
   "mimetype": "text/x-python",
   "name": "python",
   "nbconvert_exporter": "python",
   "pygments_lexer": "ipython3",
   "version": "3.9.7"
  }
 },
 "nbformat": 4,
 "nbformat_minor": 5
}
