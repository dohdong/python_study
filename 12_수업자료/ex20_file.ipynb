{
 "cells": [
  {
   "cell_type": "markdown",
   "id": "5c592390-ac68-477e-ab17-7ac6b97d961e",
   "metadata": {},
   "source": [
    "# File"
   ]
  },
  {
   "cell_type": "markdown",
   "id": "80bd4919-0447-417b-83d4-b2f37561a95a",
   "metadata": {},
   "source": [
    "* r\t읽기모드 - 파일을 읽기만 할 때 사용\n",
    "* w\t쓰기모드 - 파일에 내용을 쓸 때 사용\n",
    "* a\t추가모드 - 파일의 마지막에 새로운 내용을 추가 시킬 때 사용\n",
    "* x 생성모드 - 파일 생성, 파일 존재하지 않을 경우 에러 반환\n",
    "---\n",
    "* t - 기본값, 텍스트 모드\n",
    "* b - 바이너리 모드"
   ]
  },
  {
   "cell_type": "code",
   "execution_count": 1,
   "id": "bbfe0a4c-3c55-4bb1-9a9c-3f3027d90f52",
   "metadata": {},
   "outputs": [
    {
     "name": "stdout",
     "output_type": "stream",
     "text": [
      "/home/studio-lab-user/sagemaker-studiolab-notebooks/lecture/Data Science 01\n"
     ]
    }
   ],
   "source": [
    "import os\n",
    "print (os.getcwd())  # 현재 워킹 디렉토리 확인"
   ]
  },
  {
   "cell_type": "markdown",
   "id": "ba021a3f-6fd4-4f3e-a09d-dd6791c8b484",
   "metadata": {},
   "source": [
    "## 1. 텍스트 파일 읽기 / 쓰기"
   ]
  },
  {
   "cell_type": "code",
   "execution_count": 4,
   "id": "d49412d1-647c-40d5-8494-3834c6593730",
   "metadata": {},
   "outputs": [],
   "source": [
    "f = open(\"test.txt\", \"w\") \n",
    "# 쓰기 모드로 파읽 오픈 (기존에 파일 존재하면 삭제하고 새로 생성) \n",
    "\n",
    "f.write(\" 텍스트 파일을 새로 만들고 텍스트를 씁니다.\\n\")\n",
    "f.write(\" 텍스트 파일을 새로 만들고 텍스트를 씁니다.\\n\")\n",
    "f.close()"
   ]
  },
  {
   "cell_type": "code",
   "execution_count": 5,
   "id": "94cda074-b55e-4cd9-aec4-97713149ff33",
   "metadata": {},
   "outputs": [],
   "source": [
    "f = open(\"test.txt\", \"a\")  \n",
    "# 쓰기 모드로 파읽 오픈 (기존에 파일 존재하면 append) \n",
    "\n",
    "f.write(\" 코드를 추가 합니다.\")\n",
    "f.close()"
   ]
  },
  {
   "cell_type": "code",
   "execution_count": 6,
   "id": "d265effc-bc0a-44b0-8085-bcccad20f947",
   "metadata": {},
   "outputs": [],
   "source": [
    "f = open(\"test.txt\", \"w\" , encoding=\"utf-8\") \n",
    "# 쓰기 모드로 파읽 오픈 (기존에 파일 존재하면 삭제하고 새로 생성) \n",
    "\n",
    "f.write(\" 텍스트 파일을 새로 만들고 텍스트를 씁니다.\\n\")\n",
    "f.write(\" 텍스트 파일을 새로 만들고 텍스트를 씁니다.\\n\")\n",
    "f.close()"
   ]
  },
  {
   "cell_type": "code",
   "execution_count": 9,
   "id": "5a5303c5-f83f-490b-bb7f-533cf853debe",
   "metadata": {},
   "outputs": [
    {
     "name": "stdout",
     "output_type": "stream",
     "text": [
      " 텍스트 파일을 새로 만들고 텍스트를 씁니다.\n",
      "\n",
      " 텍스트 파일을 새로 만들고 텍스트를 씁니다.\n",
      "\n"
     ]
    }
   ],
   "source": [
    "f = open(\"test.txt\",\"r\", encoding=\"utf-8\") \n",
    "print (  f.readline() )   # 한 줄 읽음 \n",
    "print (  f.readline() )   # 한 줄 읽음  \n",
    "f.close()"
   ]
  },
  {
   "cell_type": "code",
   "execution_count": 10,
   "id": "46d79638-3e20-4b90-a0a0-8d0e0573b55b",
   "metadata": {},
   "outputs": [
    {
     "name": "stdout",
     "output_type": "stream",
     "text": [
      " 텍스트 파일을 새로 만들고 텍스트를 씁니다.\n",
      " 텍스트 파일을 새로 만들고 텍스트를 씁니다.\n",
      "테스트1 입니다. \n",
      "테스트2 입니다. \n",
      "테스트1 입니다. \n",
      "테스트2 입니다. \n",
      "\n"
     ]
    }
   ],
   "source": [
    "f = open(\"test.txt\",\"r\", encoding=\"utf-8\")  \n",
    "print (f.read())        # 모두 읽음 "
   ]
  },
  {
   "cell_type": "code",
   "execution_count": 12,
   "id": "f256acb7-469b-4adb-81a8-4feed8690dd5",
   "metadata": {},
   "outputs": [],
   "source": [
    "line = f.readlines()   # 모두 읽음 \n",
    "\n",
    "for i in line :\n",
    "    print (i)   "
   ]
  },
  {
   "cell_type": "markdown",
   "id": "dd60c91d-0ebf-4419-82f3-413081911cd4",
   "metadata": {},
   "source": [
    "## 2. 바이너리 파일 읽기 /쓰기"
   ]
  },
  {
   "cell_type": "code",
   "execution_count": 13,
   "id": "49c4ffb4-3165-43b9-bf74-a125781f921a",
   "metadata": {},
   "outputs": [
    {
     "ename": "FileNotFoundError",
     "evalue": "[Errno 2] No such file or directory: 'googlelogo.png'",
     "output_type": "error",
     "traceback": [
      "\u001b[0;31m---------------------------------------------------------------------------\u001b[0m",
      "\u001b[0;31mFileNotFoundError\u001b[0m                         Traceback (most recent call last)",
      "\u001b[0;32m/tmp/ipykernel_935/522211915.py\u001b[0m in \u001b[0;36m<module>\u001b[0;34m\u001b[0m\n\u001b[0;32m----> 1\u001b[0;31m \u001b[0mf1\u001b[0m \u001b[0;34m=\u001b[0m \u001b[0mopen\u001b[0m\u001b[0;34m(\u001b[0m\u001b[0;34m\"googlelogo.png\"\u001b[0m\u001b[0;34m,\u001b[0m\u001b[0;34m\"rb\"\u001b[0m\u001b[0;34m)\u001b[0m\u001b[0;34m\u001b[0m\u001b[0;34m\u001b[0m\u001b[0m\n\u001b[0m\u001b[1;32m      2\u001b[0m \u001b[0mf2\u001b[0m \u001b[0;34m=\u001b[0m \u001b[0mopen\u001b[0m\u001b[0;34m(\u001b[0m\u001b[0;34m\"googlelogo2.png\"\u001b[0m\u001b[0;34m,\u001b[0m\u001b[0;34m\"wb\"\u001b[0m\u001b[0;34m)\u001b[0m\u001b[0;34m\u001b[0m\u001b[0;34m\u001b[0m\u001b[0m\n\u001b[1;32m      3\u001b[0m \u001b[0mf2\u001b[0m\u001b[0;34m.\u001b[0m\u001b[0mwrite\u001b[0m\u001b[0;34m(\u001b[0m  \u001b[0mf1\u001b[0m\u001b[0;34m.\u001b[0m\u001b[0mread\u001b[0m\u001b[0;34m(\u001b[0m\u001b[0;34m)\u001b[0m   \u001b[0;34m)\u001b[0m   \u001b[0;31m# 복사\u001b[0m\u001b[0;34m\u001b[0m\u001b[0;34m\u001b[0m\u001b[0m\n\u001b[1;32m      4\u001b[0m \u001b[0mf1\u001b[0m\u001b[0;34m.\u001b[0m\u001b[0mclose\u001b[0m\u001b[0;34m(\u001b[0m\u001b[0;34m)\u001b[0m\u001b[0;34m\u001b[0m\u001b[0;34m\u001b[0m\u001b[0m\n\u001b[1;32m      5\u001b[0m \u001b[0mf2\u001b[0m\u001b[0;34m.\u001b[0m\u001b[0mclose\u001b[0m\u001b[0;34m(\u001b[0m\u001b[0;34m)\u001b[0m\u001b[0;34m\u001b[0m\u001b[0;34m\u001b[0m\u001b[0m\n",
      "\u001b[0;31mFileNotFoundError\u001b[0m: [Errno 2] No such file or directory: 'googlelogo.png'"
     ]
    }
   ],
   "source": [
    "f1 = open(\"googlelogo.png\",\"rb\")\n",
    "f2 = open(\"googlelogo2.png\",\"wb\")\n",
    "f2.write(  f1.read()   )   # 복사 \n",
    "f1.close()\n",
    "f2.close()"
   ]
  },
  {
   "cell_type": "markdown",
   "id": "295b9201-856c-47e2-a53b-15b7ca8cda17",
   "metadata": {},
   "source": [
    "## 3. with 절 이용"
   ]
  },
  {
   "cell_type": "markdown",
   "id": "18512aed-86cc-43fc-87bc-7332c8694203",
   "metadata": {},
   "source": [
    "* with 블럭이 끝나면 오픈되었던 파일이 자동으로  close 됨"
   ]
  },
  {
   "cell_type": "code",
   "execution_count": 8,
   "id": "b4ea7949-6269-442d-8bfd-f288bbe2394a",
   "metadata": {},
   "outputs": [],
   "source": [
    "with open(\"test.txt\",\"a\", encoding=\"utf-8\")   as  test  :  # 자동 close 됩니다.\n",
    "    test.write(\"테스트1 입니다. \\n\")\n",
    "    test.write(\"테스트2 입니다. \\n\") "
   ]
  },
  {
   "cell_type": "markdown",
   "id": "ef4706df-39c1-4370-bd69-0de45d2254fa",
   "metadata": {},
   "source": [
    "## 4. 파일 및 폴더 삭제"
   ]
  },
  {
   "cell_type": "code",
   "execution_count": 2,
   "id": "fdf3cff7-e89c-46b1-a18b-806dd47ed093",
   "metadata": {},
   "outputs": [],
   "source": [
    "import os\n",
    "os.remove(\"test.txt\")"
   ]
  },
  {
   "cell_type": "code",
   "execution_count": 3,
   "id": "75963cfe-6a34-4023-84ae-fc5eebed09db",
   "metadata": {},
   "outputs": [
    {
     "name": "stdout",
     "output_type": "stream",
     "text": [
      "The file does not exist\n"
     ]
    }
   ],
   "source": [
    "import os\n",
    "\n",
    "if os.path.exists(\"test.txt\"):\n",
    "    os.remove(\"test.txt\")\n",
    "else:\n",
    "    print(\"The file does not exist\")"
   ]
  },
  {
   "cell_type": "code",
   "execution_count": null,
   "id": "192ef048-5158-4780-a7f4-b0f2f31f0619",
   "metadata": {},
   "outputs": [],
   "source": [
    "import os\n",
    "\n",
    "# 폴더 삭제\n",
    "os.rmdir(\"test\")"
   ]
  }
 ],
 "metadata": {
  "kernelspec": {
   "display_name": "Python 3 (ipykernel)",
   "language": "python",
   "name": "python3"
  },
  "language_info": {
   "codemirror_mode": {
    "name": "ipython",
    "version": 3
   },
   "file_extension": ".py",
   "mimetype": "text/x-python",
   "name": "python",
   "nbconvert_exporter": "python",
   "pygments_lexer": "ipython3",
   "version": "3.9.7"
  }
 },
 "nbformat": 4,
 "nbformat_minor": 5
}
