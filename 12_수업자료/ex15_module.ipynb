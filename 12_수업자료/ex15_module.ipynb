{
 "cells": [
  {
   "cell_type": "markdown",
   "id": "5902eb34-904f-4446-8bc6-c0757f4eca82",
   "metadata": {},
   "source": [
    "# Module"
   ]
  },
  {
   "cell_type": "markdown",
   "id": "1c34116d-ec2e-4778-88bd-127ba7e4dddc",
   "metadata": {},
   "source": [
    "* 한 번 정의했던 변수나 함수, 클래스 등을 다른 파이썬 프로그램에서도 손쉽게 불러와 사용할 수 있도록 하나의 파일로 모아놓는 방법을 제공하며, 이것을 모듈(module)이라고 부릅니다.\n",
    "* 모듈은 파이썬 프로그램에서 사용할 수 있는 여러 정의들과 실행 가능한 구문들을 담고 있는 하나의 파이썬 파일(.py)로써, 파이썬에서 기본적으로 제공하는 모듈뿐만 아니라 다른 사람이 만든 모듈을 사용하거나 자신이 직접 새로운 모듈을 작성하여 사용할 수도 있습니다.\n",
    "* 함수나 변수 또는 클래스를 모아 놓은 파일이다. \n",
    "* 모듈은 다른 파이썬 프로그램에서 불러와 사용할 수 있게끔 만든 파이썬 파일이라고도 할 수 있다. \n",
    "* 다른 사람들이 이미 만들어 놓은 모듈을 사용할 수도 있고 우리가 직접 만들어서 사용할 수도 있다."
   ]
  },
  {
   "cell_type": "markdown",
   "id": "7662bdbf-c079-4fb0-ba43-a7d71d0ba239",
   "metadata": {
    "tags": []
   },
   "source": [
    "```\n",
    "1. import 모듈명\n",
    "2. import 모듈명 as 모듈별명\n",
    "3. from 모듈명 import *\n",
    "4. from 모듈명 import 함수명 또는 클래스명\n",
    "```"
   ]
  },
  {
   "cell_type": "markdown",
   "id": "b3f40952-a5b1-4d87-9de0-eb2854a994d8",
   "metadata": {},
   "source": [
    "## 1. Math Module"
   ]
  },
  {
   "cell_type": "code",
   "execution_count": 1,
   "id": "e4f9feaf-a3c5-4e87-8fb5-1648eff676bf",
   "metadata": {},
   "outputs": [
    {
     "name": "stdout",
     "output_type": "stream",
     "text": [
      "8.0\n"
     ]
    }
   ],
   "source": [
    "import math\n",
    "x = math.sqrt(64)\n",
    "\n",
    "print(x)"
   ]
  },
  {
   "cell_type": "code",
   "execution_count": 2,
   "id": "fcdc6471-b771-4218-9a2e-403ea03ed37a",
   "metadata": {},
   "outputs": [
    {
     "name": "stdout",
     "output_type": "stream",
     "text": [
      "2\n",
      "1\n"
     ]
    }
   ],
   "source": [
    "x = math.ceil(1.4)\n",
    "y = math.floor(1.4)\n",
    "\n",
    "print(x) # returns 2\n",
    "print(y) # returns 1"
   ]
  },
  {
   "cell_type": "markdown",
   "id": "66335695-75c7-4d2d-be33-2c6f006290c6",
   "metadata": {},
   "source": [
    "## 2. Datetime Module\n",
    "https://www.w3schools.com/python/python_datetime.asp"
   ]
  },
  {
   "cell_type": "code",
   "execution_count": 3,
   "id": "9160b598-ed0f-432d-b8fb-71285665d601",
   "metadata": {},
   "outputs": [
    {
     "name": "stdout",
     "output_type": "stream",
     "text": [
      "2021-12-25 06:41:15.596708\n",
      "2021\n",
      "Saturday\n"
     ]
    }
   ],
   "source": [
    "import datetime\n",
    "\n",
    "x = datetime.datetime.now()\n",
    "print(x)\n",
    "print(x.year)\n",
    "print(x.strftime(\"%A\"))"
   ]
  },
  {
   "cell_type": "markdown",
   "id": "18f827ee-cf64-401c-86ed-ba14f1f9b779",
   "metadata": {},
   "source": [
    "## 3.Platform Module "
   ]
  },
  {
   "cell_type": "code",
   "execution_count": 4,
   "id": "30b2bada-e433-4538-81be-2e66f9ae7dce",
   "metadata": {},
   "outputs": [
    {
     "name": "stdout",
     "output_type": "stream",
     "text": [
      "Linux\n"
     ]
    }
   ],
   "source": [
    "import platform\n",
    "\n",
    "x = platform.system()\n",
    "print(x)"
   ]
  },
  {
   "cell_type": "markdown",
   "id": "213d2cbc-e1a3-4f6f-8681-3a045bbcdc53",
   "metadata": {},
   "source": [
    "## 4. MyModule"
   ]
  },
  {
   "cell_type": "code",
   "execution_count": 10,
   "id": "8f52ac61-4c16-4141-a008-a4a4a97c2a72",
   "metadata": {},
   "outputs": [
    {
     "name": "stdout",
     "output_type": "stream",
     "text": [
      "Hello, hong\n",
      "3\n",
      "-1\n"
     ]
    }
   ],
   "source": [
    "import ex15_mymodule\n",
    "\n",
    "ex15_mymodule.greeting('hong')\n",
    "val1 = ex15_mymodule.add(1, 2)\n",
    "val2 = ex15_mymodule.sub(1, 2)\n",
    "\n",
    "print(val1)\n",
    "print(val2)"
   ]
  },
  {
   "cell_type": "code",
   "execution_count": 13,
   "id": "7b0c3f89-6137-4bd1-84b3-366174ec48b8",
   "metadata": {},
   "outputs": [
    {
     "name": "stdout",
     "output_type": "stream",
     "text": [
      "Hello, hong\n",
      "7\n",
      "-1\n"
     ]
    }
   ],
   "source": [
    "import ex15_mymodule as my\n",
    "\n",
    "my.greeting('hong')\n",
    "val1 = my.add(3, 4)\n",
    "val2 = my.sub(3, 4)\n",
    "\n",
    "print(val1)\n",
    "print(val2)"
   ]
  },
  {
   "cell_type": "code",
   "execution_count": 1,
   "id": "df5b40af-efb2-49c6-8359-6c9a0bc7a7d3",
   "metadata": {},
   "outputs": [
    {
     "name": "stdout",
     "output_type": "stream",
     "text": [
      "Hello, kim\n"
     ]
    },
    {
     "ename": "NameError",
     "evalue": "name 'add' is not defined",
     "output_type": "error",
     "traceback": [
      "\u001b[0;31m---------------------------------------------------------------------------\u001b[0m",
      "\u001b[0;31mNameError\u001b[0m                                 Traceback (most recent call last)",
      "\u001b[0;32m/tmp/ipykernel_803/2548650492.py\u001b[0m in \u001b[0;36m<module>\u001b[0;34m\u001b[0m\n\u001b[1;32m      3\u001b[0m \u001b[0;34m\u001b[0m\u001b[0m\n\u001b[1;32m      4\u001b[0m \u001b[0mgreeting\u001b[0m\u001b[0;34m(\u001b[0m\u001b[0;34m'kim'\u001b[0m\u001b[0;34m)\u001b[0m\u001b[0;34m\u001b[0m\u001b[0;34m\u001b[0m\u001b[0m\n\u001b[0;32m----> 5\u001b[0;31m \u001b[0mprint\u001b[0m\u001b[0;34m(\u001b[0m\u001b[0madd\u001b[0m\u001b[0;34m(\u001b[0m\u001b[0;36m1\u001b[0m\u001b[0;34m,\u001b[0m \u001b[0;36m2\u001b[0m\u001b[0;34m)\u001b[0m\u001b[0;34m)\u001b[0m\u001b[0;34m\u001b[0m\u001b[0;34m\u001b[0m\u001b[0m\n\u001b[0m",
      "\u001b[0;31mNameError\u001b[0m: name 'add' is not defined"
     ]
    }
   ],
   "source": [
    "from ex15_mymodule import greeting\n",
    "# from ex15_mymodule import *\n",
    "\n",
    "greeting('kim')\n",
    "print(add(1, 2))\n",
    "print(add(1, 2))"
   ]
  },
  {
   "cell_type": "code",
   "execution_count": null,
   "id": "f6bf4415-d4b2-462b-94d8-a2bd2a67984a",
   "metadata": {},
   "outputs": [],
   "source": []
  }
 ],
 "metadata": {
  "kernelspec": {
   "display_name": "default:Python",
   "language": "python",
   "name": "conda-env-default-py"
  },
  "language_info": {
   "codemirror_mode": {
    "name": "ipython",
    "version": 3
   },
   "file_extension": ".py",
   "mimetype": "text/x-python",
   "name": "python",
   "nbconvert_exporter": "python",
   "pygments_lexer": "ipython3",
   "version": "3.9.7"
  }
 },
 "nbformat": 4,
 "nbformat_minor": 5
}
