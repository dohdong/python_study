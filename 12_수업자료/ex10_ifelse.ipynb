{
 "cells": [
  {
   "cell_type": "markdown",
   "id": "5e7d4f14-5003-475e-a2c9-c1da89450800",
   "metadata": {},
   "source": [
    "# Conditional Statements"
   ]
  },
  {
   "cell_type": "markdown",
   "id": "8c50f219-f254-46a2-97ab-81c4389cf51a",
   "metadata": {},
   "source": [
    "* 숫자형 : 0은 거짓, 그외의 숫자는 참\n",
    "* 문자열 : 빈문자열만 거짓\n",
    "* 컬렉션 : {}, [], ()만 거짓\n",
    "* None : 거짓"
   ]
  },
  {
   "cell_type": "markdown",
   "id": "2406c948-14af-495c-8281-e20bd51d19b9",
   "metadata": {
    "tags": []
   },
   "source": [
    "## 1. if"
   ]
  },
  {
   "cell_type": "markdown",
   "id": "99583855-9787-4389-b76a-17937a160177",
   "metadata": {},
   "source": [
    "* 조건이 참인 경우에만 실행할 때 if 조건문을 사용합니다.\n",
    "* 참인 경우에 실행할 명령들은 들여쓰기를 합니다. 대부분 4칸 들여쓰기를 합니다.\n",
    "* 들여쓰기가 끝나면 조건문을 종료합니다.\n",
    "* 조건이 거짓이면 아무런 일도 하지 않습니다."
   ]
  },
  {
   "cell_type": "markdown",
   "id": "d65d6353-e064-4238-b599-e0cf478848b5",
   "metadata": {},
   "source": [
    "```\n",
    "if 조건:\n",
    "    참인경우 실행할 명령 1\n",
    "    참인경우 실행할 명령 2\n",
    "    참인경우 실행할 명령 3\n",
    "    ....\n",
    "다음 명령\n",
    "```"
   ]
  },
  {
   "cell_type": "code",
   "execution_count": 1,
   "id": "8badeb62-3a11-4577-8f27-9dfaccebb19c",
   "metadata": {},
   "outputs": [
    {
     "name": "stdout",
     "output_type": "stream",
     "text": [
      "b is greater than a\n"
     ]
    }
   ],
   "source": [
    "a = 33\n",
    "b = 200\n",
    "\n",
    "if b > a:\n",
    "     print(\"b is greater than a\")"
   ]
  },
  {
   "cell_type": "markdown",
   "id": "40ecfa70-c66c-43c5-8d3a-90d017b475c1",
   "metadata": {
    "tags": []
   },
   "source": [
    "## 2. if ~ elif"
   ]
  },
  {
   "cell_type": "markdown",
   "id": "208ab3e1-10df-4cfc-8543-42939ea25fe6",
   "metadata": {},
   "source": [
    "* 조건에 따라 참인 경우와 거짓인 경우에 다른 명령을 실행할 때 사용합니다."
   ]
  },
  {
   "cell_type": "markdown",
   "id": "b6531535-b69b-4376-9c5d-b0d7ea6d80c7",
   "metadata": {},
   "source": [
    "```\n",
    "if 조건:     참인 경우 실행할 명령 1\n",
    "    참인 경우 실행할 명령 2\n",
    "    참인 경우 실행할 명령 3\n",
    "[elif:     거짓인 경우 실행할 명령 1\n",
    "    거짓인 경우 실행할 명령 2\n",
    "    거짓인 경우 실행할 명령 3]\n",
    "다음 명령\n",
    "```"
   ]
  },
  {
   "cell_type": "code",
   "execution_count": 3,
   "id": "eef78b41-594f-4b26-9f73-48b8518e84a9",
   "metadata": {},
   "outputs": [
    {
     "name": "stdout",
     "output_type": "stream",
     "text": [
      "a and b are equal\n"
     ]
    }
   ],
   "source": [
    "a = 33\n",
    "b = 33\n",
    "if b > a:\n",
    "  print(\"b is greater than a\")\n",
    "elif a == b:\n",
    "  print(\"a and b are equal\")"
   ]
  },
  {
   "cell_type": "markdown",
   "id": "6cc544a3-3f76-4133-bc50-6c4afc002f71",
   "metadata": {
    "tags": []
   },
   "source": [
    "## 3. if ~ elif ~ else"
   ]
  },
  {
   "cell_type": "markdown",
   "id": "c249a6c0-4d1b-418a-be1f-e4b1c1aaf0f5",
   "metadata": {},
   "source": [
    "* 여러 개의 조건이 있을 경우 사용합니다.\n",
    "* 모든 명령문은 얼마든지 중첩이 가능합니다."
   ]
  },
  {
   "cell_type": "markdown",
   "id": "2a641c0c-45cf-4147-bc79-53f95c135e54",
   "metadata": {},
   "source": [
    "``` \n",
    "if 조건1:\n",
    "    조건1이 참인 경우 실행할 명령....\n",
    "elif 조건2:\n",
    "    조건2가 참인 경우 실행할 명령....\n",
    ".\n",
    ".\n",
    "else:\n",
    "    모든 조건이 거짓인 경우 실행할 명령....\n",
    "다음 명령\n",
    "```"
   ]
  },
  {
   "cell_type": "code",
   "execution_count": 3,
   "id": "17a4a76c-1e6e-4772-ac5e-c16acb71e599",
   "metadata": {},
   "outputs": [
    {
     "name": "stdout",
     "output_type": "stream",
     "text": [
      "a is greater than b\n"
     ]
    }
   ],
   "source": [
    "a = 200\n",
    "b = 33\n",
    "\n",
    "if b > a:\n",
    "  print(\"b is greater than a\")\n",
    "elif a == b:\n",
    "  print(\"a and b are equal\")\n",
    "else:\n",
    "  print(\"a is greater than b\")"
   ]
  }
 ],
 "metadata": {
  "kernelspec": {
   "display_name": "Python 3 (ipykernel)",
   "language": "python",
   "name": "python3"
  },
  "language_info": {
   "codemirror_mode": {
    "name": "ipython",
    "version": 3
   },
   "file_extension": ".py",
   "mimetype": "text/x-python",
   "name": "python",
   "nbconvert_exporter": "python",
   "pygments_lexer": "ipython3",
   "version": "3.9.7"
  }
 },
 "nbformat": 4,
 "nbformat_minor": 5
}
