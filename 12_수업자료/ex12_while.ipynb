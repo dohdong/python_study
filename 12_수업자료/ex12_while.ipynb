{
 "cells": [
  {
   "cell_type": "markdown",
   "id": "7ab9dc7a-8c4c-45ca-95a5-c64410d60503",
   "metadata": {},
   "source": [
    "# Iteration Statement\n"
   ]
  },
  {
   "cell_type": "markdown",
   "id": "24564818-c727-4c6d-a546-e03a186a31df",
   "metadata": {},
   "source": [
    "## 1. While"
   ]
  },
  {
   "cell_type": "markdown",
   "id": "6937f642-29b4-45d2-a6ee-8edd28e85620",
   "metadata": {},
   "source": [
    "* 조건이 참인 동안 반복 실행할 때 while 반복문을 사용합니다.\n",
    "* 참인 경우에 실행할 명령들은 들여쓰기를 합니다. 대부분 4칸 들여쓰기를 합니다.\n",
    "* 들여쓰기가 끝나면 반복문을 종료합니다.\n",
    "* 조건이 거짓이면 아무런 일도 하지 않습니다.\n",
    "* 반복문은 얼나든지 중첩이 가능합니다. 중첩할때 들여쓰기에 주의하세요\n",
    "* 반복문 내에서 break 명령을 만나면 현재의 반복문을 탈출합니다.\n",
    "* 반복문 내에서 continue 명령을 만나면 현재의 반복문의 처음으로 돌아가서 조건을 비교합니다."
   ]
  },
  {
   "cell_type": "markdown",
   "id": "caa0fa81-b2d1-4ff0-8292-f40f4fe7e75a",
   "metadata": {},
   "source": [
    "```\n",
    "while 조건:\n",
    "    조건이 참인동안 실행할 명령들....\n",
    "\n",
    "    [ break : 반복문을 탈출 합니다. ]\n",
    "    [ continue : 반복문의 처음으로 갑니다. ] \n",
    "```"
   ]
  },
  {
   "cell_type": "code",
   "execution_count": 2,
   "id": "029ce267-cd7d-4a42-a1fc-bef4ea7b1488",
   "metadata": {},
   "outputs": [
    {
     "name": "stdout",
     "output_type": "stream",
     "text": [
      "1\n",
      "2\n",
      "3\n",
      "4\n",
      "5\n"
     ]
    }
   ],
   "source": [
    "i = 1\n",
    "while i < 6:\n",
    "    print(i)\n",
    "    i += 1"
   ]
  },
  {
   "cell_type": "code",
   "execution_count": 9,
   "id": "1743d8b4-7da6-4f5f-b5ce-0a8fc24d5a25",
   "metadata": {},
   "outputs": [
    {
     "name": "stdout",
     "output_type": "stream",
     "text": [
      "1\n",
      "2\n"
     ]
    }
   ],
   "source": [
    "i = 1\n",
    "while i < 6:\n",
    "    if i == 3:\n",
    "        break\n",
    "    print(i)\n",
    "    \n",
    "    i += 1\n",
    "    #i++\n",
    "    #i = i + 1"
   ]
  },
  {
   "cell_type": "code",
   "execution_count": 4,
   "id": "2f42f54d-2b85-45e7-a4bf-2642b640e20e",
   "metadata": {
    "tags": []
   },
   "outputs": [
    {
     "name": "stdout",
     "output_type": "stream",
     "text": [
      "1\n",
      "2\n",
      "4\n",
      "5\n",
      "6\n"
     ]
    }
   ],
   "source": [
    "i = 0\n",
    "while i < 6:\n",
    "    i = i + 1\n",
    "    \n",
    "    if i == 3:\n",
    "        continue\n",
    "    print(i)"
   ]
  },
  {
   "cell_type": "code",
   "execution_count": 13,
   "id": "0f59c77c-8af1-49de-aa0a-2835f9289986",
   "metadata": {},
   "outputs": [
    {
     "name": "stdout",
     "output_type": "stream",
     "text": [
      "1\n",
      "2\n",
      "g\n"
     ]
    }
   ],
   "source": [
    "i = 1\n",
    "while i < 6:\n",
    "    if i == 3:\n",
    "        break\n",
    "    print(i)\n",
    "    i = i + 1\n",
    "else:\n",
    "    print(\"i is no longer less than 6\")\n",
    "    \n",
    "print('g')"
   ]
  }
 ],
 "metadata": {
  "kernelspec": {
   "display_name": "default:Python",
   "language": "python",
   "name": "conda-env-default-py"
  },
  "language_info": {
   "codemirror_mode": {
    "name": "ipython",
    "version": 3
   },
   "file_extension": ".py",
   "mimetype": "text/x-python",
   "name": "python",
   "nbconvert_exporter": "python",
   "pygments_lexer": "ipython3",
   "version": "3.9.7"
  }
 },
 "nbformat": 4,
 "nbformat_minor": 5
}
