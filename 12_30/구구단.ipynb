{
 "cells": [
  {
   "cell_type": "code",
   "execution_count": 30,
   "id": "ebfd1908-b074-4ccb-8ecf-d8219771d967",
   "metadata": {},
   "outputs": [],
   "source": [
    "def gugudan (dan) :\n",
    "    danList = list()\n",
    "    danRe = 1\n",
    "    # dan = 1\n",
    "    # dan = int(input('몇단?'))\n",
    "    for i in range(9) :\n",
    "        \n",
    "        danRe = ('%d x %d = %d' %(dan, (i+1),  dan * (i+1)))\n",
    "        danList.append(danRe)\n",
    "    return(danList)\n",
    "    # print(danList)"
   ]
  },
  {
   "cell_type": "code",
   "execution_count": 31,
   "id": "c273b54a-5990-4137-9534-d809eafe86d6",
   "metadata": {},
   "outputs": [
    {
     "name": "stdin",
     "output_type": "stream",
     "text": [
      "몇단? 3\n"
     ]
    },
    {
     "name": "stdout",
     "output_type": "stream",
     "text": [
      "['3 x 1 = 3', '3 x 2 = 6', '3 x 3 = 9', '3 x 4 = 12', '3 x 5 = 15', '3 x 6 = 18', '3 x 7 = 21', '3 x 8 = 24', '3 x 9 = 27']\n"
     ]
    }
   ],
   "source": [
    "whatDan = int(input('몇단?'))\n",
    "\n",
    "print(gugudan(whatDan))\n",
    "\n"
   ]
  },
  {
   "cell_type": "code",
   "execution_count": 34,
   "id": "904c5793-d4b2-43e6-aa16-750f064ad04e",
   "metadata": {},
   "outputs": [],
   "source": [
    "def gugudan (dan) :\n",
    "    danList = list()\n",
    "    danRe = 1\n",
    "\n",
    "    for i in range(9) :\n",
    "    \n",
    "        danRe =  dan * (i+1)\n",
    "        danList.append(danRe)\n",
    "    return(danList)"
   ]
  },
  {
   "cell_type": "code",
   "execution_count": 35,
   "id": "467817c7-f39a-4e92-8271-b9d7558c748e",
   "metadata": {},
   "outputs": [
    {
     "name": "stdin",
     "output_type": "stream",
     "text": [
      "몇단? 4\n"
     ]
    },
    {
     "name": "stdout",
     "output_type": "stream",
     "text": [
      "[4, 8, 12, 16, 20, 24, 28, 32, 36]\n"
     ]
    }
   ],
   "source": [
    "whatDan = int(input('몇단?'))\n",
    "\n",
    "print(gugudan(whatDan))\n",
    "\n"
   ]
  },
  {
   "cell_type": "code",
   "execution_count": 50,
   "id": "eca97af6-a495-4136-acb7-a89778853f0b",
   "metadata": {},
   "outputs": [
    {
     "name": "stdout",
     "output_type": "stream",
     "text": [
      "['9 x 2 = 18', '9 x 3 = 27', '9 x 4 = 36', '9 x 5 = 45', '9 x 6 = 54', '9 x 7 = 63', '9 x 8 = 72', '9 x 9 = 81', '9 x 10 = 90']\n"
     ]
    }
   ],
   "source": [
    "def gugudan2(dan2) :\n",
    "    for dan2 in range(2,10) :\n",
    "        print(dan2)\n",
    "        danList2 = list()\n",
    "        danRe2 = 1\n",
    "\n",
    "        for i in range(1,10) :\n",
    "            danRe2 = ('%d x %d = %d' %(dan2, (i+1),  dan2 * (i+1)))\n",
    "            danList2.append(danRe2)\n",
    "    return(danList2)\n",
    "print(danList2)"
   ]
  },
  {
   "cell_type": "code",
   "execution_count": 51,
   "id": "69e71366-227a-4f61-be4c-a9831fff751c",
   "metadata": {},
   "outputs": [
    {
     "name": "stdin",
     "output_type": "stream",
     "text": [
      "몇단? 3\n"
     ]
    },
    {
     "name": "stdout",
     "output_type": "stream",
     "text": [
      "2\n",
      "3\n",
      "4\n",
      "5\n",
      "6\n",
      "7\n",
      "8\n",
      "9\n",
      "['9 x 2 = 18', '9 x 3 = 27', '9 x 4 = 36', '9 x 5 = 45', '9 x 6 = 54', '9 x 7 = 63', '9 x 8 = 72', '9 x 9 = 81', '9 x 10 = 90']\n"
     ]
    }
   ],
   "source": [
    "whatDan2 = int(input('몇단?'))\n",
    "\n",
    "print(gugudan2(whatDan2))"
   ]
  },
  {
   "cell_type": "code",
   "execution_count": 71,
   "id": "2a0a3438-a21a-4475-b060-21944666c7ea",
   "metadata": {
    "collapsed": true,
    "jupyter": {
     "outputs_hidden": true
    },
    "tags": []
   },
   "outputs": [
    {
     "name": "stdout",
     "output_type": "stream",
     "text": [
      "2\n",
      "['2 x 1 = 2']\n",
      "['2 x 2 = 4']\n",
      "['2 x 3 = 6']\n",
      "['2 x 4 = 8']\n",
      "['2 x 5 = 10']\n",
      "['2 x 6 = 12']\n",
      "['2 x 7 = 14']\n",
      "['2 x 8 = 16']\n",
      "['2 x 9 = 18']\n",
      "3\n",
      "['3 x 1 = 3']\n",
      "['3 x 2 = 6']\n",
      "['3 x 3 = 9']\n",
      "['3 x 4 = 12']\n",
      "['3 x 5 = 15']\n",
      "['3 x 6 = 18']\n",
      "['3 x 7 = 21']\n",
      "['3 x 8 = 24']\n",
      "['3 x 9 = 27']\n",
      "4\n",
      "['4 x 1 = 4']\n",
      "['4 x 2 = 8']\n",
      "['4 x 3 = 12']\n",
      "['4 x 4 = 16']\n",
      "['4 x 5 = 20']\n",
      "['4 x 6 = 24']\n",
      "['4 x 7 = 28']\n",
      "['4 x 8 = 32']\n",
      "['4 x 9 = 36']\n",
      "5\n",
      "['5 x 1 = 5']\n",
      "['5 x 2 = 10']\n",
      "['5 x 3 = 15']\n",
      "['5 x 4 = 20']\n",
      "['5 x 5 = 25']\n",
      "['5 x 6 = 30']\n",
      "['5 x 7 = 35']\n",
      "['5 x 8 = 40']\n",
      "['5 x 9 = 45']\n",
      "6\n",
      "['6 x 1 = 6']\n",
      "['6 x 2 = 12']\n",
      "['6 x 3 = 18']\n",
      "['6 x 4 = 24']\n",
      "['6 x 5 = 30']\n",
      "['6 x 6 = 36']\n",
      "['6 x 7 = 42']\n",
      "['6 x 8 = 48']\n",
      "['6 x 9 = 54']\n",
      "7\n",
      "['7 x 1 = 7']\n",
      "['7 x 2 = 14']\n",
      "['7 x 3 = 21']\n",
      "['7 x 4 = 28']\n",
      "['7 x 5 = 35']\n",
      "['7 x 6 = 42']\n",
      "['7 x 7 = 49']\n",
      "['7 x 8 = 56']\n",
      "['7 x 9 = 63']\n",
      "8\n",
      "['8 x 1 = 8']\n",
      "['8 x 2 = 16']\n",
      "['8 x 3 = 24']\n",
      "['8 x 4 = 32']\n",
      "['8 x 5 = 40']\n",
      "['8 x 6 = 48']\n",
      "['8 x 7 = 56']\n",
      "['8 x 8 = 64']\n",
      "['8 x 9 = 72']\n",
      "9\n",
      "['9 x 1 = 9']\n",
      "['9 x 2 = 18']\n",
      "['9 x 3 = 27']\n",
      "['9 x 4 = 36']\n",
      "['9 x 5 = 45']\n",
      "['9 x 6 = 54']\n",
      "['9 x 7 = 63']\n",
      "['9 x 8 = 72']\n",
      "['9 x 9 = 81']\n"
     ]
    }
   ],
   "source": [
    "for dan2 in range(2,10) :\n",
    "    print(dan2)\n",
    "\n",
    "\n",
    "    for i in range(1,10) :\n",
    "        danList2 = list()\n",
    "        danRe2 = 1\n",
    "        danRe2 = ('%d x %d = %d' %(dan2, (i),  dan2 * (i)))\n",
    "        danList2.append(danRe2)\n",
    "        print(danList2)\n",
    "        # print(danRe2)\n"
   ]
  },
  {
   "cell_type": "code",
   "execution_count": null,
   "id": "f7ec6391-1cf2-4bb3-8268-b13506c04446",
   "metadata": {},
   "outputs": [],
   "source": []
  },
  {
   "cell_type": "code",
   "execution_count": 60,
   "id": "cd043d8d-8554-4dfc-b985-cbbd714a3113",
   "metadata": {},
   "outputs": [
    {
     "name": "stdout",
     "output_type": "stream",
     "text": [
      ":: 2단 ::\n",
      "2 x 1 = 2\n",
      "2 x 2 = 4\n",
      "2 x 3 = 6\n",
      "2 x 4 = 8\n",
      "2 x 5 = 10\n",
      "2 x 6 = 12\n",
      "2 x 7 = 14\n",
      "2 x 8 = 16\n",
      "2 x 9 = 18\n",
      "----------\n",
      ":: 3단 ::\n",
      "3 x 1 = 3\n",
      "3 x 2 = 6\n",
      "3 x 3 = 9\n",
      "3 x 4 = 12\n",
      "3 x 5 = 15\n",
      "3 x 6 = 18\n",
      "3 x 7 = 21\n",
      "3 x 8 = 24\n",
      "3 x 9 = 27\n",
      "----------\n",
      ":: 4단 ::\n",
      "4 x 1 = 4\n",
      "4 x 2 = 8\n",
      "4 x 3 = 12\n",
      "4 x 4 = 16\n",
      "4 x 5 = 20\n",
      "4 x 6 = 24\n",
      "4 x 7 = 28\n",
      "4 x 8 = 32\n",
      "4 x 9 = 36\n",
      "----------\n",
      ":: 5단 ::\n",
      "5 x 1 = 5\n",
      "5 x 2 = 10\n",
      "5 x 3 = 15\n",
      "5 x 4 = 20\n",
      "5 x 5 = 25\n",
      "5 x 6 = 30\n",
      "5 x 7 = 35\n",
      "5 x 8 = 40\n",
      "5 x 9 = 45\n",
      "----------\n",
      ":: 6단 ::\n",
      "6 x 1 = 6\n",
      "6 x 2 = 12\n",
      "6 x 3 = 18\n",
      "6 x 4 = 24\n",
      "6 x 5 = 30\n",
      "6 x 6 = 36\n",
      "6 x 7 = 42\n",
      "6 x 8 = 48\n",
      "6 x 9 = 54\n",
      "----------\n",
      ":: 7단 ::\n",
      "7 x 1 = 7\n",
      "7 x 2 = 14\n",
      "7 x 3 = 21\n",
      "7 x 4 = 28\n",
      "7 x 5 = 35\n",
      "7 x 6 = 42\n",
      "7 x 7 = 49\n",
      "7 x 8 = 56\n",
      "7 x 9 = 63\n",
      "----------\n",
      ":: 8단 ::\n",
      "8 x 1 = 8\n",
      "8 x 2 = 16\n",
      "8 x 3 = 24\n",
      "8 x 4 = 32\n",
      "8 x 5 = 40\n",
      "8 x 6 = 48\n",
      "8 x 7 = 56\n",
      "8 x 8 = 64\n",
      "8 x 9 = 72\n",
      "----------\n",
      ":: 9단 ::\n",
      "9 x 1 = 9\n",
      "9 x 2 = 18\n",
      "9 x 3 = 27\n",
      "9 x 4 = 36\n",
      "9 x 5 = 45\n",
      "9 x 6 = 54\n",
      "9 x 7 = 63\n",
      "9 x 8 = 72\n",
      "9 x 9 = 81\n",
      "----------\n"
     ]
    }
   ],
   "source": [
    "for dan3 in range(2, 10):\n",
    "    print(':: %d단 ::' %dan3)  # 몇단인지 표시\n",
    "    for i in range(1, 10):\n",
    "        print('%d x %d = %d' %(dan3, i , dan3 * i))\n",
    "    print('-'*10)"
   ]
  },
  {
   "cell_type": "code",
   "execution_count": null,
   "id": "82cc6520-56e2-4bb1-b4a4-b0127025e644",
   "metadata": {},
   "outputs": [],
   "source": []
  }
 ],
 "metadata": {
  "kernelspec": {
   "display_name": "Python 3 (ipykernel)",
   "language": "python",
   "name": "python3"
  },
  "language_info": {
   "codemirror_mode": {
    "name": "ipython",
    "version": 3
   },
   "file_extension": ".py",
   "mimetype": "text/x-python",
   "name": "python",
   "nbconvert_exporter": "python",
   "pygments_lexer": "ipython3",
   "version": "3.9.7"
  }
 },
 "nbformat": 4,
 "nbformat_minor": 5
}
