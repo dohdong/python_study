{
 "cells": [
  {
   "cell_type": "markdown",
   "id": "5cf87f4a-f5e0-44f6-9dfe-8dce33a19337",
   "metadata": {},
   "source": [
    "### Class"
   ]
  },
  {
   "cell_type": "markdown",
   "id": "c902bdf7-8813-4fd8-bce0-fc7f9e052626",
   "metadata": {},
   "source": [
    "오브젝트 = 데이터 , 데이터를 처리하는 함수가 묶여있는것이 객체,  변수+함수 =object\n",
    "\n"
   ]
  },
  {
   "cell_type": "code",
   "execution_count": 1,
   "id": "9a242fb8-5326-40d1-80fc-c5a68b289eaa",
   "metadata": {},
   "outputs": [],
   "source": [
    "class Car():\n",
    "    carId = '1234'\n",
    "    carName = 'bmw'\n",
    "    speed = 100\n"
   ]
  },
  {
   "cell_type": "code",
   "execution_count": 3,
   "id": "7e043310-2572-4295-805b-387fa72035c2",
   "metadata": {},
   "outputs": [
    {
     "ename": "NameError",
     "evalue": "name 'carId' is not defined",
     "output_type": "error",
     "traceback": [
      "\u001b[1;31m---------------------------------------------------------------------------\u001b[0m",
      "\u001b[1;31mNameError\u001b[0m                                 Traceback (most recent call last)",
      "\u001b[1;32m~\\AppData\\Local\\Temp/ipykernel_7132/2828715107.py\u001b[0m in \u001b[0;36m<module>\u001b[1;34m\u001b[0m\n\u001b[1;32m----> 1\u001b[1;33m \u001b[0mprint\u001b[0m\u001b[1;33m(\u001b[0m\u001b[0mcarId\u001b[0m\u001b[1;33m,\u001b[0m \u001b[0mcarName\u001b[0m\u001b[1;33m,\u001b[0m \u001b[0mspeed\u001b[0m\u001b[1;33m)\u001b[0m\u001b[1;33m\u001b[0m\u001b[1;33m\u001b[0m\u001b[0m\n\u001b[0m",
      "\u001b[1;31mNameError\u001b[0m: name 'carId' is not defined"
     ]
    }
   ],
   "source": [
    "print(carId, carName, speed)"
   ]
  },
  {
   "cell_type": "code",
   "execution_count": 6,
   "id": "1c5fb9a1-e482-46b1-96e5-147a01cc652c",
   "metadata": {},
   "outputs": [
    {
     "name": "stdout",
     "output_type": "stream",
     "text": [
      "1234 tesla 100\n"
     ]
    }
   ],
   "source": [
    "c1 = Car()  # 객체 생성\n",
    "c2 = Car()\n",
    "\n",
    "c1.id = '20'\n",
    "c1.carName = 'tesla'\n",
    "\n",
    "print(c1.carId, c1.carName, c1.speed)"
   ]
  },
  {
   "cell_type": "code",
   "execution_count": 5,
   "id": "14afa1a4-0fa1-41ed-b388-9db1b875398e",
   "metadata": {},
   "outputs": [
    {
     "name": "stdout",
     "output_type": "stream",
     "text": [
      "1234 bmw 100\n"
     ]
    }
   ],
   "source": [
    "print(c2.carId, c2.carName, c2.speed)"
   ]
  },
  {
   "cell_type": "code",
   "execution_count": 16,
   "id": "54d02337-b23d-48cb-9d89-c588b55f7194",
   "metadata": {},
   "outputs": [
    {
     "name": "stdout",
     "output_type": "stream",
     "text": [
      "<class 'str'>\n"
     ]
    }
   ],
   "source": [
    "print(type(c1.carId))"
   ]
  },
  {
   "cell_type": "code",
   "execution_count": 10,
   "id": "eab98e44-01f7-4863-a5f2-4d1cdb578f84",
   "metadata": {},
   "outputs": [],
   "source": [
    "class Person() :\n",
    "    name = '박성빈'\n",
    "    age = '24'\n",
    "    "
   ]
  },
  {
   "cell_type": "code",
   "execution_count": 11,
   "id": "2847f5dd-e7a8-44ba-831b-a176a145dc94",
   "metadata": {},
   "outputs": [
    {
     "name": "stdout",
     "output_type": "stream",
     "text": [
      "박성빈 24\n"
     ]
    }
   ],
   "source": [
    "p1 = Person()\n",
    "\n",
    "\n",
    "print(p1.name, p1.age)"
   ]
  },
  {
   "cell_type": "code",
   "execution_count": 47,
   "id": "1a8da51f-9d70-4198-bb52-98850ce626b9",
   "metadata": {},
   "outputs": [
    {
     "name": "stdout",
     "output_type": "stream",
     "text": [
      "<class 'type'>\n"
     ]
    }
   ],
   "source": [
    "print(type(Person))   # class 는 type 이 그냥 'type'으로 나오네... 뭐지?"
   ]
  },
  {
   "cell_type": "markdown",
   "id": "a5549191-0b5b-4e7e-93d2-08787a79bae2",
   "metadata": {},
   "source": [
    "###  생성자"
   ]
  },
  {
   "cell_type": "code",
   "execution_count": 109,
   "id": "2bba0bf5-0853-4fe1-acdd-2e9bf04a0805",
   "metadata": {},
   "outputs": [],
   "source": [
    "class Car():\n",
    "\n",
    "    def __init__(self, Id, Name) :\n",
    "        self.id = Id\n",
    "        self.name = Name\n",
    "        \n",
    "    def my_print(self) :\n",
    "        print(self.id, self.name)\n",
    "        \n",
    "    def get_id(self) :\n",
    "        return self.id\n",
    "    \n",
    "    def get_name(self) :\n",
    "        return self.name\n",
    "        \n"
   ]
  },
  {
   "cell_type": "code",
   "execution_count": 110,
   "id": "7e350e44-4c26-43ed-9536-cf762a1350af",
   "metadata": {},
   "outputs": [
    {
     "name": "stdout",
     "output_type": "stream",
     "text": [
      "5555 bmw\n",
      "4444 tesla\n"
     ]
    }
   ],
   "source": [
    "c1 = Car('5555', 'bmw')\n",
    "c2 = Car('4444', 'tesla')\n",
    "\n",
    "print(c1.id, c1.name)\n",
    "print(c2.id, c2.name)"
   ]
  },
  {
   "cell_type": "code",
   "execution_count": 117,
   "id": "fcda2d5f-ca85-48d3-9cfe-9358352146eb",
   "metadata": {},
   "outputs": [
    {
     "name": "stdout",
     "output_type": "stream",
     "text": [
      "5555\n",
      "4444\n",
      "<class 'list'>\n",
      "<__main__.Car object at 0x0000027C38C25B80>\n"
     ]
    }
   ],
   "source": [
    "f = c1.get_id()\n",
    "print(f)\n",
    "\n",
    "g = c2.get_id()\n",
    "print(g)\n",
    "\n",
    "cars = [c1, c2]\n",
    "\n",
    "print(type(cars))\n",
    "print(cars[0])\n",
    "x = cars[0].get_id() #여러개가 있으면 for 문으로 반복\n",
    "\n",
    "for x in cars : #이때 x 도 car type이다.\n",
    "    x.get_id()  #가 가능함"
   ]
  },
  {
   "cell_type": "code",
   "execution_count": 103,
   "id": "cc3b0088-93e5-4938-852c-2d7f3784a900",
   "metadata": {},
   "outputs": [
    {
     "name": "stdout",
     "output_type": "stream",
     "text": [
      "bmw\n",
      "tesla\n"
     ]
    }
   ],
   "source": [
    "h = c1.get_name()\n",
    "print(h)\n",
    "\n",
    "j = c2.get_name()\n",
    "print(j)"
   ]
  },
  {
   "cell_type": "code",
   "execution_count": 46,
   "id": "9779397d-7ed9-447f-ae76-2d4a915f7390",
   "metadata": {},
   "outputs": [
    {
     "name": "stdout",
     "output_type": "stream",
     "text": [
      "5555 bmw\n"
     ]
    }
   ],
   "source": [
    "c1.my_print()"
   ]
  },
  {
   "cell_type": "code",
   "execution_count": 42,
   "id": "67092b38-3d57-4575-8598-71b5d4bb542d",
   "metadata": {},
   "outputs": [
    {
     "name": "stdout",
     "output_type": "stream",
     "text": [
      "<class '__main__.Car'>\n"
     ]
    }
   ],
   "source": [
    "print(type(c1))\n"
   ]
  },
  {
   "cell_type": "code",
   "execution_count": 41,
   "id": "58d644d4-e374-4e1c-a087-e562e2a6b9dc",
   "metadata": {},
   "outputs": [
    {
     "name": "stdout",
     "output_type": "stream",
     "text": [
      "5555 bmw\n",
      "<class 'NoneType'>\n"
     ]
    }
   ],
   "source": [
    "print(type(c1.my_print()))\n"
   ]
  },
  {
   "cell_type": "code",
   "execution_count": 44,
   "id": "1dd44b3f-b34c-4a56-8afd-a36ebc552606",
   "metadata": {},
   "outputs": [
    {
     "name": "stdout",
     "output_type": "stream",
     "text": [
      "<class 'method'>\n"
     ]
    }
   ],
   "source": [
    "print(type(c1.my_print))"
   ]
  },
  {
   "cell_type": "code",
   "execution_count": 56,
   "id": "86ab67db-5510-4ddc-ae4b-cc22b6c28c8d",
   "metadata": {},
   "outputs": [],
   "source": [
    "class Person() :\n",
    "    def __init__(self, name, age):\n",
    "        self.name = name\n",
    "        self.age = age\n",
    "    def my_print1(self) :\n",
    "        print(self.name, self.age)"
   ]
  },
  {
   "cell_type": "code",
   "execution_count": 57,
   "id": "f4a31146-03ec-4430-9c70-1e2a109a3e2f",
   "metadata": {},
   "outputs": [
    {
     "name": "stdout",
     "output_type": "stream",
     "text": [
      "성빈 24\n"
     ]
    }
   ],
   "source": [
    "p1 = Person('성빈', '24')\n",
    "p2 = Person('현민', '23')\n",
    "\n",
    "print(p1.name,p1.age)"
   ]
  },
  {
   "cell_type": "code",
   "execution_count": 58,
   "id": "14296ed9-9436-4308-bed8-632004fcfe0f",
   "metadata": {},
   "outputs": [
    {
     "name": "stdout",
     "output_type": "stream",
     "text": [
      "현민 23\n"
     ]
    }
   ],
   "source": [
    "print(p2.name,p2.age)"
   ]
  },
  {
   "cell_type": "code",
   "execution_count": 63,
   "id": "707607f2-8cd6-4774-aa85-12079ae810be",
   "metadata": {},
   "outputs": [
    {
     "name": "stdout",
     "output_type": "stream",
     "text": [
      "성빈 24\n",
      "현민 23\n"
     ]
    }
   ],
   "source": [
    "p1.my_print1()\n",
    "p2.my_print1()"
   ]
  },
  {
   "cell_type": "markdown",
   "id": "c40098af-e5d4-4e43-9f24-eb87ff3a7b85",
   "metadata": {},
   "source": [
    "학생 5명 넣고 이름, 국어,영어,수학 해서 총점까지."
   ]
  },
  {
   "cell_type": "code",
   "execution_count": 186,
   "id": "e681d85a-b4bd-4b0b-93ca-682ece6790d5",
   "metadata": {
    "tags": []
   },
   "outputs": [],
   "source": [
    "# students = list()\n",
    "\n",
    "\n",
    "# for i in range(2) :\n",
    "#     personNew = dict()\n",
    "#     name = input('이름을 주세요')\n",
    "#     kor = int(input('국어점수는?'))\n",
    "#     eng = int(input('영어점수는?'))\n",
    "#     math = int(input('수학점수는?'))\n",
    "    \n",
    "#     personNew['name'] = name  \n",
    "#     personNew['kor'] = kor\n",
    "#     personNew['eng'] = eng\n",
    "#     personNew['math'] = math\n",
    "#     students.append(personNew)"
   ]
  },
  {
   "cell_type": "code",
   "execution_count": 254,
   "id": "232b3e1b-3733-442a-bc5a-ba45863c0237",
   "metadata": {},
   "outputs": [
    {
     "name": "stdin",
     "output_type": "stream",
     "text": [
      "이름을 주세요 k\n",
      "국어점수는? 10\n",
      "영어점수는? 20\n",
      "수학점수는? 30\n",
      "이름을 주세요 m\n",
      "국어점수는? 40\n",
      "영어점수는? 50\n",
      "수학점수는? 60\n",
      "이름을 주세요 s\n",
      "국어점수는? 70\n",
      "영어점수는? 80\n",
      "수학점수는? 90\n"
     ]
    }
   ],
   "source": [
    "s_list = list()\n",
    "for i in range(3) :\n",
    "    \n",
    "    name = input('이름을 주세요')\n",
    "    kor = int(input('국어점수는?'))\n",
    "    eng = int(input('영어점수는?'))\n",
    "    math = int(input('수학점수는?'))\n",
    "    students  = Student(name,kor,eng,math)\n",
    "    s_list.append(students)"
   ]
  },
  {
   "cell_type": "code",
   "execution_count": 259,
   "id": "cf212139-3c71-4ca3-9464-83a982c4aaef",
   "metadata": {},
   "outputs": [
    {
     "name": "stdout",
     "output_type": "stream",
     "text": [
      "<__main__.Student object at 0x0000027C3AB33910>\n"
     ]
    }
   ],
   "source": [
    "print(students)"
   ]
  },
  {
   "cell_type": "code",
   "execution_count": 255,
   "id": "18bd6a10-d797-46da-aff3-4b508c5cf3bb",
   "metadata": {},
   "outputs": [],
   "source": [
    "class Student() :\n",
    "    def __init__(self, name, kor, eng, math) :\n",
    "        self.name = name\n",
    "        self.kor = kor\n",
    "        self.eng = eng\n",
    "        self.math = math\n",
    "        \n",
    "    def get_name(self) :\n",
    "        return self.name\n",
    "    def get_kor(self) :\n",
    "        return self.kor\n",
    "    def get_eng(self) :\n",
    "        return self.eng\n",
    "    def get_math(self) :\n",
    "        return self.math\n",
    "    \n",
    "    def get_sum(self) :\n",
    "        \n",
    "        add =( kor + eng + math)\n",
    "        return add\n",
    "\n",
    "    "
   ]
  },
  {
   "cell_type": "code",
   "execution_count": 256,
   "id": "3a23f09a-c999-4562-a34a-5c81081401bc",
   "metadata": {},
   "outputs": [
    {
     "name": "stdout",
     "output_type": "stream",
     "text": [
      "이름은 k 국어는 10 영어는 20 수학은 30 총점은 240 \n",
      "이름은 m 국어는 40 영어는 50 수학은 60 총점은 240 \n",
      "이름은 s 국어는 70 영어는 80 수학은 90 총점은 240 \n",
      "국어 총점은 120\n",
      "영어 총점은 150\n",
      "수학 총점은 180\n"
     ]
    }
   ],
   "source": [
    "k_t = 0\n",
    "e_t = 0\n",
    "m_t = 0\n",
    "\n",
    "for x1 in s_list :\n",
    "    n = x1.get_name()\n",
    "    k = x1.get_kor()\n",
    "    e = x1.get_eng()\n",
    "    m = x1.get_math()\n",
    "    s = x1.get_sum()\n",
    "    k_t = k_t + k\n",
    "    e_t = e_t + e\n",
    "    m_t = m_t + m\n",
    "    print('이름은 %s 국어는 %d 영어는 %d 수학은 %d 총점은 %d ' %(n, k, e, m, s))\n",
    "\n",
    "print('국어 총점은 %d' %k_t)\n",
    "print('영어 총점은 %d' %e_t)\n",
    "print('수학 총점은 %d' %m_t)"
   ]
  },
  {
   "cell_type": "code",
   "execution_count": null,
   "id": "071c2287-776f-438b-8653-dc292f5faaa8",
   "metadata": {},
   "outputs": [],
   "source": []
  }
 ],
 "metadata": {
  "kernelspec": {
   "display_name": "Python 3 (ipykernel)",
   "language": "python",
   "name": "python3"
  },
  "language_info": {
   "codemirror_mode": {
    "name": "ipython",
    "version": 3
   },
   "file_extension": ".py",
   "mimetype": "text/x-python",
   "name": "python",
   "nbconvert_exporter": "python",
   "pygments_lexer": "ipython3",
   "version": "3.9.7"
  }
 },
 "nbformat": 4,
 "nbformat_minor": 5
}
