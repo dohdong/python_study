{
 "cells": [
  {
   "cell_type": "markdown",
   "id": "9d8c7e7f-f8cb-418a-a9af-1335e5856e5f",
   "metadata": {},
   "source": [
    "#### 함수에서 리턴 값. "
   ]
  },
  {
   "cell_type": "code",
   "execution_count": 331,
   "id": "0f614978-054d-4cef-af65-11f3908c3816",
   "metadata": {},
   "outputs": [],
   "source": [
    "def my_add(a,b) :\n",
    "    x = a + b\n",
    "    \n",
    "    #return x\n",
    "    return \n",
    "    "
   ]
  },
  {
   "cell_type": "code",
   "execution_count": 332,
   "id": "9065946f-8a17-4e64-91dd-91ea2a0d4ce5",
   "metadata": {},
   "outputs": [],
   "source": [
    "y = my_add(10, 20)"
   ]
  },
  {
   "cell_type": "code",
   "execution_count": 334,
   "id": "49b5751b-b464-462e-ada1-2850875293e5",
   "metadata": {},
   "outputs": [
    {
     "name": "stdout",
     "output_type": "stream",
     "text": [
      "None\n"
     ]
    }
   ],
   "source": [
    "print(y)            #위에서 return을 안해서 함수가 일을 안함 => none 나옴"
   ]
  },
  {
   "cell_type": "code",
   "execution_count": 56,
   "id": "a460f86f-6e35-4925-9f59-0918ca6fc450",
   "metadata": {
    "tags": []
   },
   "outputs": [],
   "source": [
    "def my_evenOdd(a) : \n",
    "    if a % 2 == 0 :\n",
    "        return '짝수'\n",
    "    \n",
    "    elif a % 2 != 0 :\n",
    "        return '홀수'\n",
    "        \n",
    "\n",
    "    "
   ]
  },
  {
   "cell_type": "code",
   "execution_count": 61,
   "id": "8076b574-f279-4aea-a4f8-56e91c22eb05",
   "metadata": {},
   "outputs": [],
   "source": [
    "y = my_evenOdd(10)"
   ]
  },
  {
   "cell_type": "code",
   "execution_count": 62,
   "id": "00ac9504-8db5-4080-bcf7-55475ba12e0f",
   "metadata": {},
   "outputs": [
    {
     "name": "stdout",
     "output_type": "stream",
     "text": [
      "짝수\n"
     ]
    }
   ],
   "source": [
    "print(y)"
   ]
  },
  {
   "cell_type": "code",
   "execution_count": 60,
   "id": "f0b4a85a-48dd-4b19-a152-fc23d8a9f2d5",
   "metadata": {},
   "outputs": [],
   "source": [
    "def my_evenOdd(a) : \n",
    "    if a % 2 == 0 :\n",
    "        s = '짝수'\n",
    "    \n",
    "    elif a % 2 != 0 :\n",
    "        s = '홀수'\n",
    "    return s\n",
    "        "
   ]
  },
  {
   "cell_type": "code",
   "execution_count": 64,
   "id": "5540312c-ac5e-4e6c-b237-d0881d89d6a7",
   "metadata": {},
   "outputs": [],
   "source": [
    "y = my_evenOdd(10)"
   ]
  },
  {
   "cell_type": "code",
   "execution_count": 65,
   "id": "43dc332c-5286-4e0b-8406-dcada2ef71cf",
   "metadata": {},
   "outputs": [
    {
     "name": "stdout",
     "output_type": "stream",
     "text": [
      "짝수\n"
     ]
    }
   ],
   "source": [
    "print(y)"
   ]
  },
  {
   "cell_type": "code",
   "execution_count": 86,
   "id": "d7afe197-b5d0-4bd3-987a-f45616b305d6",
   "metadata": {
    "tags": []
   },
   "outputs": [],
   "source": [
    "def my_addsub(a,b) :\n",
    "    add = a + b\n",
    "    sub = a - b\n",
    "    \n",
    "    return add,sub       # Java 같은데에서는 절대 안되는 일. 파이썬만 가능."
   ]
  },
  {
   "cell_type": "code",
   "execution_count": 87,
   "id": "663a996d-97ac-48a0-9175-18db6d6d6b82",
   "metadata": {},
   "outputs": [],
   "source": [
    "z = my_addsub(10,5)"
   ]
  },
  {
   "cell_type": "code",
   "execution_count": 88,
   "id": "81943bd3-a1a2-4623-a58d-b5402cb7fcb9",
   "metadata": {},
   "outputs": [
    {
     "name": "stdout",
     "output_type": "stream",
     "text": [
      "(15, 5)\n"
     ]
    }
   ],
   "source": [
    "print(z)"
   ]
  },
  {
   "cell_type": "code",
   "execution_count": 89,
   "id": "54d1d802-96b7-4036-abfd-e370a5f91f52",
   "metadata": {},
   "outputs": [
    {
     "data": {
      "text/plain": [
       "(14, 6)"
      ]
     },
     "execution_count": 89,
     "metadata": {},
     "output_type": "execute_result"
    }
   ],
   "source": [
    "my_addsub(10,4)"
   ]
  },
  {
   "cell_type": "code",
   "execution_count": 110,
   "id": "317c1341-5acf-451a-b444-8ac9b62feaf4",
   "metadata": {},
   "outputs": [
    {
     "name": "stdout",
     "output_type": "stream",
     "text": [
      "<class 'tuple'> 15 5\n"
     ]
    }
   ],
   "source": [
    "print(type(z), z[0], z[1] )          # Java에서는 이렇게 tuple 로는 절대 못받음."
   ]
  },
  {
   "cell_type": "code",
   "execution_count": 97,
   "id": "c1fb61ce-12e9-4e58-961b-8794d90693fd",
   "metadata": {},
   "outputs": [],
   "source": [
    "def cir (a) :\n",
    "    cirRe = a * a * 3.14\n",
    "    return cirRe"
   ]
  },
  {
   "cell_type": "code",
   "execution_count": 104,
   "id": "7999232a-f8c3-4f42-a1e1-82f41b8c1fe8",
   "metadata": {},
   "outputs": [
    {
     "name": "stdin",
     "output_type": "stream",
     "text": [
      "반지름의 길이는? 10\n"
     ]
    },
    {
     "name": "stdout",
     "output_type": "stream",
     "text": [
      "314.0 <class 'float'>\n"
     ]
    }
   ],
   "source": [
    "a2 = int(input('반지름의 길이는?'))\n",
    "\n",
    "y = cir(a2)\n",
    "\n",
    "print( y, type(y))\n"
   ]
  },
  {
   "cell_type": "code",
   "execution_count": 106,
   "id": "426c3519-e993-4446-af23-7891519a13a8",
   "metadata": {},
   "outputs": [
    {
     "name": "stdout",
     "output_type": "stream",
     "text": [
      "원의 넓이는 314.00 입니다\n"
     ]
    }
   ],
   "source": [
    "print('원의 넓이는 %.2f 입니다' %y)"
   ]
  },
  {
   "cell_type": "markdown",
   "id": "b8458ffa-bed6-4ab9-afa4-5bb4a2543e7a",
   "metadata": {},
   "source": [
    "매개변수의 개수를 모를때 ? 부터 한다고 하심."
   ]
  },
  {
   "cell_type": "markdown",
   "id": "ac0c8ae3-4eda-4113-9e6e-ac87fae59071",
   "metadata": {},
   "source": [
    "### 매개변수의 개수를 모를땐 def my_family(*name) : 으로  * 를 붙인다.\n"
   ]
  },
  {
   "cell_type": "code",
   "execution_count": 145,
   "id": "48d7b5d3-6d82-4279-a02b-321b1baee699",
   "metadata": {},
   "outputs": [],
   "source": [
    "def my_family(*name) :\n",
    "     \n",
    "    print(type(name))\n",
    "        \n",
    "    print(name)"
   ]
  },
  {
   "cell_type": "code",
   "execution_count": 146,
   "id": "23ce4150-ea54-4c1a-9cf4-7cbfe36f0169",
   "metadata": {},
   "outputs": [
    {
     "name": "stdout",
     "output_type": "stream",
     "text": [
      "<class 'tuple'>\n",
      "('lee',)\n",
      "<class 'tuple'>\n",
      "('lee', 'kim')\n",
      "<class 'tuple'>\n",
      "('lee', 'kim', 'park')\n"
     ]
    }
   ],
   "source": [
    "my_family('lee')\n",
    "my_family('lee','kim')\n",
    "my_family('lee', 'kim', 'park')"
   ]
  },
  {
   "cell_type": "code",
   "execution_count": 322,
   "id": "97b5eee0-8dc2-48c6-81cb-97e6b57d5527",
   "metadata": {},
   "outputs": [],
   "source": [
    "\n",
    "def my_family(*name) :\n",
    "     \n",
    "    for i in name :                # 이걸 못하네.. 이건 자연스럽게 할 수 있도록하자.\n",
    "        print(i)\n",
    "        \n",
    "    print(name)"
   ]
  },
  {
   "cell_type": "code",
   "execution_count": 163,
   "id": "57ffbbb7-69da-49dd-b259-02d4e839cabc",
   "metadata": {},
   "outputs": [
    {
     "name": "stdin",
     "output_type": "stream",
     "text": [
      "이름을 주세요 d\n",
      "이름을 주세요 e\n",
      "이름을 주세요 f\n"
     ]
    },
    {
     "name": "stdout",
     "output_type": "stream",
     "text": [
      "d\n",
      "e\n",
      "f\n",
      "('d', 'e', 'f')\n"
     ]
    }
   ],
   "source": [
    "name1 = input('이름을 주세요')\n",
    "name2 = input('이름을 주세요')\n",
    "name3 = input('이름을 주세요')\n",
    "\n",
    "\n",
    "my_family(name1,name2,name3)      #이게 다른언어에서는 안되는데 파이썬은 가능함.\n"
   ]
  },
  {
   "cell_type": "code",
   "execution_count": 167,
   "id": "06b6b60a-01db-4625-96ec-edf4f1ec335e",
   "metadata": {},
   "outputs": [
    {
     "name": "stdout",
     "output_type": "stream",
     "text": [
      "<class 'str'>\n"
     ]
    }
   ],
   "source": [
    "print(type(name1))"
   ]
  },
  {
   "cell_type": "markdown",
   "id": "6a145139-f788-415b-9ee0-8b203adc38dc",
   "metadata": {},
   "source": [
    "** 별표 2개는 key , value 값 둘다 보내주는 내용이다\n"
   ]
  },
  {
   "cell_type": "code",
   "execution_count": 160,
   "id": "84d1cf12-53db-44f8-b8f7-a99c19eae1d4",
   "metadata": {},
   "outputs": [],
   "source": [
    "def my_family (**name) :\n",
    "    # print(type(name))\n",
    "    print(name)\n",
    "    print(name['fname'])\n",
    "    "
   ]
  },
  {
   "cell_type": "code",
   "execution_count": 154,
   "id": "e3801393-a8d7-4652-a008-bd3909d00ae8",
   "metadata": {},
   "outputs": [
    {
     "name": "stdout",
     "output_type": "stream",
     "text": [
      "{'fname': 'seongbin', 'lname': 'min'}\n",
      "seongbin\n",
      "['lname']\n"
     ]
    }
   ],
   "source": [
    "my_family(fname='seongbin', lname= 'min')"
   ]
  },
  {
   "cell_type": "code",
   "execution_count": 247,
   "id": "e26919e2-a57f-437b-b831-70755dd7b6d5",
   "metadata": {},
   "outputs": [],
   "source": [
    "def add (*num) :\n",
    "    newAdd = 0\n",
    "    for i in num :\n",
    "        newAdd = newAdd + i\n",
    "    return newAdd"
   ]
  },
  {
   "cell_type": "code",
   "execution_count": 251,
   "id": "814a65fa-452d-45f0-a8c9-bd61f48726d6",
   "metadata": {},
   "outputs": [
    {
     "name": "stdout",
     "output_type": "stream",
     "text": [
      "10\n",
      "<class 'function'>\n"
     ]
    }
   ],
   "source": [
    "print(add(1,2,3,4))   # 얘는 여러개를 넣어준거고 밑에는 하나를 여러번 하는느낌임\n",
    "print(type(add))      # 입력받는 인수 개수를 조절하는게 안되기 때문이다."
   ]
  },
  {
   "cell_type": "code",
   "execution_count": 249,
   "id": "65772759-a32d-41c3-ba02-65b6c81d2081",
   "metadata": {},
   "outputs": [
    {
     "name": "stdin",
     "output_type": "stream",
     "text": [
      "숫자를 주세요 3\n",
      "숫자를 주세요 4\n"
     ]
    },
    {
     "name": "stdout",
     "output_type": "stream",
     "text": [
      "7\n"
     ]
    }
   ],
   "source": [
    "add1 = int(input('숫자를 주세요'))\n",
    "add2 = int(input('숫자를 주세요'))\n",
    "\n",
    "print(add(add1, add2))"
   ]
  },
  {
   "cell_type": "code",
   "execution_count": 226,
   "id": "5ccc3a24-96b6-4e7e-a18e-260596005ac6",
   "metadata": {},
   "outputs": [
    {
     "name": "stdin",
     "output_type": "stream",
     "text": [
      "숫자 몇개 넣으실건가요? 3\n",
      "숫자를 주세요 1\n"
     ]
    },
    {
     "name": "stdout",
     "output_type": "stream",
     "text": [
      "1\n"
     ]
    },
    {
     "name": "stdin",
     "output_type": "stream",
     "text": [
      "숫자를 주세요 2\n"
     ]
    },
    {
     "name": "stdout",
     "output_type": "stream",
     "text": [
      "2\n"
     ]
    },
    {
     "name": "stdin",
     "output_type": "stream",
     "text": [
      "숫자를 주세요 3\n"
     ]
    },
    {
     "name": "stdout",
     "output_type": "stream",
     "text": [
      "3\n",
      "3\n"
     ]
    }
   ],
   "source": [
    "n = int(input('숫자 몇개 넣으실건가요?'))\n",
    "\n",
    "for i in range(n):\n",
    "\n",
    "    add3 = int(input('숫자를 주세요'))\n",
    "    \n",
    "    print(add(add3))\n",
    "\n",
    "\n",
    "\n",
    "print(add(add3))"
   ]
  },
  {
   "cell_type": "code",
   "execution_count": 253,
   "id": "0495001d-b575-47ed-a161-fe8a5be318f0",
   "metadata": {},
   "outputs": [
    {
     "name": "stdout",
     "output_type": "stream",
     "text": [
      "<class 'int'>\n"
     ]
    }
   ],
   "source": [
    "print(type(add3))"
   ]
  },
  {
   "cell_type": "markdown",
   "id": "9c8ed9f2-de6b-476b-bbdb-fdb9a4dbac6a",
   "metadata": {},
   "source": [
    "위에거 는 그냥 안되는 거임.. 하려면 list로 받아서 그냥 num 으로 넣기를 해야함."
   ]
  },
  {
   "cell_type": "code",
   "execution_count": 286,
   "id": "5be8691a-c7ee-48b0-9d8d-639da514f8ab",
   "metadata": {},
   "outputs": [],
   "source": [
    "def add2 (num1) :\n",
    "    newAdd = 0\n",
    "    for i in num1 :\n",
    "        newAdd = newAdd + i\n",
    "    return newAdd\n"
   ]
  },
  {
   "cell_type": "code",
   "execution_count": 287,
   "id": "4103dfb2-02ac-47bf-b13c-08a0802b2b33",
   "metadata": {
    "tags": []
   },
   "outputs": [
    {
     "name": "stdout",
     "output_type": "stream",
     "text": [
      "10\n"
     ]
    }
   ],
   "source": [
    "print(add2([1,2,3,4]))"
   ]
  },
  {
   "cell_type": "code",
   "execution_count": 288,
   "id": "33e0e63e-ecb4-4e67-8a4e-24e815da8862",
   "metadata": {
    "tags": []
   },
   "outputs": [
    {
     "name": "stdin",
     "output_type": "stream",
     "text": [
      "숫자 몇개 넣으실건가요? 3\n",
      "숫자를 주세요 1\n"
     ]
    },
    {
     "name": "stdout",
     "output_type": "stream",
     "text": [
      "[1]\n"
     ]
    },
    {
     "name": "stdin",
     "output_type": "stream",
     "text": [
      "숫자를 주세요 2\n"
     ]
    },
    {
     "name": "stdout",
     "output_type": "stream",
     "text": [
      "[1, 2]\n"
     ]
    },
    {
     "name": "stdin",
     "output_type": "stream",
     "text": [
      "숫자를 주세요 3\n"
     ]
    },
    {
     "name": "stdout",
     "output_type": "stream",
     "text": [
      "[1, 2, 3]\n",
      "6\n"
     ]
    }
   ],
   "source": [
    "n = int(input('숫자 몇개 넣으실건가요?'))\n",
    "add3List = list()\n",
    "\n",
    "for i in range(n):\n",
    "\n",
    "\n",
    "    add3 = int(input('숫자를 주세요'))\n",
    "    \n",
    "    add3List.append(add3)\n",
    "    \n",
    "    print(add3List)\n",
    "\n",
    "\n",
    "print(add2(add3List))"
   ]
  },
  {
   "cell_type": "code",
   "execution_count": 252,
   "id": "77aadb2e-e13a-462e-adda-fd70f90bb8fd",
   "metadata": {},
   "outputs": [
    {
     "name": "stdout",
     "output_type": "stream",
     "text": [
      "<class 'list'>\n"
     ]
    }
   ],
   "source": [
    "print(type(add3List))"
   ]
  },
  {
   "cell_type": "markdown",
   "id": "1c64aa0a-e746-4b54-98d5-0d4788e35a09",
   "metadata": {},
   "source": [
    " 이렇게 리스트로 바꿔서 넣으면 되는구나~\n",
    "\n",
    "리스트로 넣을때는 * 필요없이 그냥 num 함수로 만들면 되네 ㅎㅎ"
   ]
  },
  {
   "cell_type": "code",
   "execution_count": 304,
   "id": "4ade8ae6-06b5-45c7-9880-b38cf55b346c",
   "metadata": {},
   "outputs": [],
   "source": [
    "def add7 (num1) :\n",
    "    newAdd = 0\n",
    "    for i in num1 :\n",
    "        newAdd = newAdd + i\n",
    "    return newAdd\n"
   ]
  },
  {
   "cell_type": "code",
   "execution_count": 321,
   "id": "c5965eef-3352-438b-8924-dedf710792e3",
   "metadata": {},
   "outputs": [],
   "source": [
    "\n",
    "def addInput ( n ) :\n",
    "    add4List = list()\n",
    "    \n",
    "    for i in range(n) :\n",
    "        add4 = int(input('숫자를 주세요'))\n",
    "    \n",
    "        add4List.append(add4)\n",
    "        \n",
    "    \n",
    "    return add4List"
   ]
  },
  {
   "cell_type": "code",
   "execution_count": 324,
   "id": "8171ca88-7318-4d83-8fba-b9cddf15eb5c",
   "metadata": {},
   "outputs": [
    {
     "name": "stdin",
     "output_type": "stream",
     "text": [
      "숫자를 몇개 하실 건가요? 3\n",
      "숫자를 주세요 1\n",
      "숫자를 주세요 2\n",
      "숫자를 주세요 3\n"
     ]
    },
    {
     "name": "stdout",
     "output_type": "stream",
     "text": [
      "6\n"
     ]
    }
   ],
   "source": [
    "n2 = int(input('숫자를 몇개 하실 건가요?'))\n",
    "\n",
    "x = addInput(n2)         # 여기서 x 가 addInput에 return 값임.\n",
    "z = add7(x)\n",
    "print(z)"
   ]
  },
  {
   "cell_type": "markdown",
   "id": "4fd3f6e3-ac3c-4aad-b2b0-aea254302268",
   "metadata": {},
   "source": [
    "return 을 어떻게 써야하는지 잘 모르겠음.. \n",
    "\n",
    "첫번째 함수에서는 그냥 함수 안에서 만든 변수로 return 했는데\n",
    "아래 꺼는 다른 함수로 return 시켜서 불러오긴 했는데 맞는지 잘 모르겠음.. 흠..\n",
    "\n",
    "\n",
    "그냥 새로 만든 변수로 return 하면 되고 , \n",
    "나중에 print 할 때는 2번에 걸쳐서 불러와주면 되는듯."
   ]
  },
  {
   "cell_type": "code",
   "execution_count": 209,
   "id": "81a95483-e578-4518-84f9-e44ae8092645",
   "metadata": {},
   "outputs": [],
   "source": [
    "def my_country(country='Korea' ) :\n",
    "    print(country)"
   ]
  },
  {
   "cell_type": "code",
   "execution_count": 210,
   "id": "9482f6d9-7e08-49f4-b148-7b5eb05bf44e",
   "metadata": {},
   "outputs": [
    {
     "name": "stdout",
     "output_type": "stream",
     "text": [
      "Korea\n"
     ]
    }
   ],
   "source": [
    "my_country()"
   ]
  },
  {
   "cell_type": "code",
   "execution_count": 212,
   "id": "a88c6c2c-95f9-4b09-8c59-7320ef7d5fca",
   "metadata": {},
   "outputs": [],
   "source": [
    "def my_country(country) :\n",
    "    print(country)\n"
   ]
  },
  {
   "cell_type": "code",
   "execution_count": 213,
   "id": "1793e0e8-42d7-477f-908a-8b37dc97c679",
   "metadata": {},
   "outputs": [
    {
     "name": "stdout",
     "output_type": "stream",
     "text": [
      "USA\n"
     ]
    }
   ],
   "source": [
    "my_country('USA')"
   ]
  },
  {
   "cell_type": "markdown",
   "id": "c599e484-3731-4c7f-8415-4716a43e2d10",
   "metadata": {},
   "source": [
    "#### 매개변수가 컬렉션인 경우"
   ]
  },
  {
   "cell_type": "markdown",
   "id": "b644bb4d-a2b1-4bae-9d02-98be2e4f4883",
   "metadata": {},
   "source": [
    "항상 함수를 찍어보는게 중요하다\n",
    "\n",
    "def     (    a   )\n",
    "     \n",
    "     print(a, type(a))"
   ]
  },
  {
   "cell_type": "code",
   "execution_count": 344,
   "id": "469bd7df-c297-4543-a152-d24088b79b65",
   "metadata": {},
   "outputs": [
    {
     "data": {
      "text/plain": [
       "125"
      ]
     },
     "execution_count": 344,
     "metadata": {},
     "output_type": "execute_result"
    }
   ],
   "source": [
    "pow(5, 3)"
   ]
  },
  {
   "cell_type": "code",
   "execution_count": 346,
   "id": "fde7d5f0-c500-40b2-8cd2-2b3268367759",
   "metadata": {},
   "outputs": [
    {
     "name": "stdout",
     "output_type": "stream",
     "text": [
      "3\n"
     ]
    }
   ],
   "source": [
    "p=sum([1,2])\n",
    "print(p)"
   ]
  },
  {
   "cell_type": "code",
   "execution_count": null,
   "id": "fb362d98-fdbe-4f27-b540-645a7e44a79e",
   "metadata": {},
   "outputs": [],
   "source": []
  }
 ],
 "metadata": {
  "kernelspec": {
   "display_name": "Python 3 (ipykernel)",
   "language": "python",
   "name": "python3"
  },
  "language_info": {
   "codemirror_mode": {
    "name": "ipython",
    "version": 3
   },
   "file_extension": ".py",
   "mimetype": "text/x-python",
   "name": "python",
   "nbconvert_exporter": "python",
   "pygments_lexer": "ipython3",
   "version": "3.9.7"
  }
 },
 "nbformat": 4,
 "nbformat_minor": 5
}
