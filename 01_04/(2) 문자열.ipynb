{
 "cells": [
  {
   "cell_type": "markdown",
   "id": "d6b41157-4683-48bf-b1df-3593fc73f2ed",
   "metadata": {},
   "source": [
    "### (1) [ ] 문자 클래스\n",
    "* 정규표현식에서 대괄호 [] 는 대괄호 안에 포함된 문자들 중 하나와 매치를 뜻한다.\n",
    "* [] 안의 두 문자에 -를 사용하면 두 문자 사이의 범위를 뜻한다.\n",
    "* [] 안에서 ^는 반대를 뜻한다."
   ]
  },
  {
   "cell_type": "markdown",
   "id": "b527bee0-6dc2-48b7-bf68-ef0d0fc529c2",
   "metadata": {},
   "source": [
    "* 문자 클래스\t설명\n",
    "* \\d\t숫자 [0-9]와 같다.\n",
    "* \\D\t비숫자 [^0-9]와 같다.\n",
    "* \\w\t숫자 + 문자 [a-zA-Z0-9]와 같다.\n",
    "* \\W\t숫자 + 문자가 아닌 것 [^a-zA-Z0-9]와 같다.\n",
    "* \\s\t공백 [ \\t\\n\\r\\f\\v]와 같다.\n",
    "* \\S\t비공백 [^ \\t\\n\\r\\f\\v]와 같다.\n",
    "* \\b\t단어 경계 (`\\w`와 `\\W`의 경계)\n",
    "* \\B\t비단어 경계"
   ]
  },
  {
   "cell_type": "markdown",
   "id": "1c97b5d3-ef59-4322-af41-1596cbefdf9f",
   "metadata": {},
   "source": [
    "```\n",
    "[abc] # abc 중 하나와 매치\n",
    "---\n",
    "'a' # a와 매치\n",
    "'boy' # b와 매치\n",
    "'dye' # a, b, c 중 어느 문자와도 매치되지 않음\n",
    "\n",
    "[a-c] # [abc]와 같음\n",
    "[0-5] # [012345]와 같음\n",
    "[a-zA-Z] # 모든 알파\n",
    "[0-9] # 숫자\n",
    "\n",
    "[^0-9] # 숫자를 제외한 문자만 매치\n",
    "[^abc] # a, b, c를 제외한 모든 문자와 매치\n",
    "```"
   ]
  },
  {
   "cell_type": "code",
   "execution_count": 2,
   "id": "c00b6fe0-1507-4d9b-b506-ea957e84ccfc",
   "metadata": {},
   "outputs": [
    {
     "name": "stdout",
     "output_type": "stream",
     "text": [
      "<class 're.Pattern'>\n",
      "<re.Match object; span=(0, 1), match='a'>\n",
      "<re.Match object; span=(0, 1), match='b'>\n",
      "<re.Match object; span=(0, 1), match='a'>\n"
     ]
    }
   ],
   "source": [
    "import re   #컴파일 할떄 re 써야함.(내가 정해주는건가?)\n",
    "\n",
    "p = re.compile('[abc]')\n",
    "print(type(p))\n",
    "print(p.match('a'))\n",
    "print(p.match('b'))\n",
    "\n",
    "print(p.match('ac'))"
   ]
  },
  {
   "cell_type": "code",
   "execution_count": 19,
   "id": "7f706eca-a48f-46c4-8c63-414c059318e8",
   "metadata": {},
   "outputs": [
    {
     "data": {
      "text/plain": [
       "<re.Match object; span=(0, 3), match='a\\nb'>"
      ]
     },
     "execution_count": 19,
     "metadata": {},
     "output_type": "execute_result"
    }
   ],
   "source": [
    "import re\n",
    "# 많이 안쓰임.\n",
    "#p = re.compile('a.b')  #이걸로 하면 안나오네 뭐지..\n",
    "p = re.compile('a.b', re.DOTALL)\n",
    "\n",
    "p.match('a\\nb')"
   ]
  },
  {
   "cell_type": "code",
   "execution_count": 40,
   "id": "3487dce1-b6c8-42bb-abc6-900ed6e78f7c",
   "metadata": {},
   "outputs": [
    {
     "name": "stdout",
     "output_type": "stream",
     "text": [
      "['p', 'y', 't', 'h', 'o', 'n']\n",
      "<re.Match object; span=(0, 1), match='P'>\n",
      "<re.Match object; span=(0, 1), match='P'>\n"
     ]
    }
   ],
   "source": [
    "import re\n",
    "\n",
    "#p = re.compile('[a-z]')\n",
    "p = re.compile('[a-z]', re.I)\n",
    "\n",
    "print(p.findall('python'))\n",
    "print(p.match('Python'))\n",
    "print(p.match('PYTHON'))"
   ]
  },
  {
   "cell_type": "markdown",
   "id": "90da1487-9f4b-4520-8c91-c6accf7f5336",
   "metadata": {},
   "source": [
    "### (5) ^ 문자열의 제일 처음과 매치 ★\n",
    "\n",
    "* 문자열이 ^의 뒤에 있는 문자로 시작되면 매치된다. \n",
    "* 여러 줄의 문자열일 경우 첫 줄만 적용된다. (단, re.MULTILINE 옵션이 적용되면 각 줄의 첫 문자를 검사하여 매치된다.)\n",
    "* \\A 는 ^ 와 동일하지만 re.MULTILINE 옵션을 무시하고 항상 문자열 첫 줄의 시작 문자를 검사한다."
   ]
  },
  {
   "cell_type": "code",
   "execution_count": 45,
   "id": "d0129bd3-e31b-4835-8461-6aae65fdd215",
   "metadata": {},
   "outputs": [
    {
     "name": "stdout",
     "output_type": "stream",
     "text": [
      "['python one', 'python two', 'python three']\n",
      "<re.Match object; span=(0, 10), match='python one'>\n"
     ]
    }
   ],
   "source": [
    "import re\n",
    "\n",
    "#p = re.compile(\"^python\\s\\w+\")\n",
    "p = re.compile(\"^python\\s\\w+\", re.MULTILINE) #multiline 과 \\s 등을 확인 가능\n",
    "\n",
    "data = \"\"\"python one\n",
    "life is too short\n",
    "python two\n",
    "you need python hello\n",
    "python three\"\"\"\n",
    "\n",
    "print(p.findall(data))\n",
    "print(p.match(data))"
   ]
  },
  {
   "cell_type": "markdown",
   "id": "bf37776c-aff3-4d4f-85f6-490a1d388705",
   "metadata": {},
   "source": [
    "### (1) match()\n",
    "* 시작부터 일치하는 패턴 찾기\n",
    "* 문자열의 처음 시작부터 검색하여 일치하지 않는 부분이 나올 때까지 찾는다.\n",
    "* 검색의 결과로 re.Match 객체를 리턴한다."
   ]
  },
  {
   "cell_type": "code",
   "execution_count": 47,
   "id": "3f004563-3a9a-4b04-b638-d1c1bb78f335",
   "metadata": {},
   "outputs": [
    {
     "name": "stdout",
     "output_type": "stream",
     "text": [
      "re.compile('[a-z]+')\n"
     ]
    }
   ],
   "source": [
    "import re\n",
    "\n",
    "p = re.compile('[a-z]+') # 영문자 여러개\n",
    "print(p)"
   ]
  },
  {
   "cell_type": "code",
   "execution_count": 66,
   "id": "d5c277d0-5e9f-4617-af1a-cbe55e78201d",
   "metadata": {},
   "outputs": [
    {
     "name": "stdout",
     "output_type": "stream",
     "text": [
      "<re.Match object; span=(0, 5), match='aaaaa'>\n",
      "<re.Match object; span=(0, 9), match='bbbbbbbbb'>\n",
      "None\n",
      "<class 're.Match'>\n"
     ]
    }
   ],
   "source": [
    "print(p.match('aaaaa'))\n",
    "\n",
    "print(p.match('bbbbbbbbb'))\n",
    "\n",
    "print(p.match('1aaaa'))\n",
    "\n",
    "print(type(p.match('aaa1aaa')))"
   ]
  },
  {
   "cell_type": "code",
   "execution_count": 53,
   "id": "acaba2d1-960a-42fc-9f1d-bae5599ae87a",
   "metadata": {},
   "outputs": [
    {
     "name": "stdout",
     "output_type": "stream",
     "text": [
      "<re.Match object; span=(0, 4), match='abab'>\n"
     ]
    }
   ],
   "source": [
    "print(p.match('abab'))"
   ]
  },
  {
   "cell_type": "code",
   "execution_count": 54,
   "id": "fdf25310-88ae-4137-bea7-e7babbb88aae",
   "metadata": {},
   "outputs": [
    {
     "name": "stdout",
     "output_type": "stream",
     "text": [
      "<re.Match object; span=(0, 9), match='wfejiovhn'>\n"
     ]
    }
   ],
   "source": [
    "print(p.match('wfejiovhn3iganov'))"
   ]
  },
  {
   "cell_type": "code",
   "execution_count": 59,
   "id": "70ec0b26-bf96-45ae-a8a2-1dc584fa6b12",
   "metadata": {},
   "outputs": [
    {
     "name": "stdout",
     "output_type": "stream",
     "text": [
      "0\n",
      "7\n"
     ]
    }
   ],
   "source": [
    "x = p.match('asdafds2')\n",
    "print(x.start())\n",
    "print(x.end())"
   ]
  },
  {
   "cell_type": "markdown",
   "id": "16860563-f77c-4fa1-be58-80d705332596",
   "metadata": {},
   "source": [
    "### (2) search\n",
    "* 전체 문자열에서 첫 번째 매치 찾기\n",
    "* 문자열 전체에서 검색하여 ☆처음으로 매치되는 문자열을 찾는다.\n",
    "* 검색의 결과로 re.Match 객체를 리턴한다."
   ]
  },
  {
   "cell_type": "code",
   "execution_count": 70,
   "id": "c723cd98-df47-4dcb-9292-06a167ca3beb",
   "metadata": {},
   "outputs": [
    {
     "name": "stdout",
     "output_type": "stream",
     "text": [
      "re.compile('[a-z]+')\n",
      "<re.Match object; span=(0, 5), match='aaaaa'>\n",
      "<re.Match object; span=(2, 6), match='aaaa'>\n",
      "<re.Match object; span=(0, 2), match='as'>\n",
      "<re.Match object; span=(1, 4), match='bbb'>\n",
      "1\n",
      "5\n"
     ]
    }
   ],
   "source": [
    "import re\n",
    "\n",
    "p = re.compile('[a-z]+') # 영문자 여러개\n",
    "print(p)\n",
    "print(p.search('aaaaa'))\n",
    "\n",
    "print(p.search('11aaaa'))\n",
    "\n",
    "print(p.search('as1abafwea'))\n",
    "\n",
    "print(p.search('1bbb11aaa1'))\n",
    "\n",
    "\n",
    "x = p.search('1bbaf1afs1')\n",
    "print(x.start())\n",
    "print(x.end())"
   ]
  },
  {
   "cell_type": "markdown",
   "id": "deef6f46-e161-497c-b436-0521d34206de",
   "metadata": {},
   "source": [
    "### (3) findall\n",
    "* 모든 매치를 찾아 리스트로 반환\n",
    "* 문자열 내에서 일치하는 모든 패턴을 찾아 리스트로 반환한다."
   ]
  },
  {
   "cell_type": "code",
   "execution_count": 80,
   "id": "655763dc-88e4-4e8f-9cb8-fcd4627316c1",
   "metadata": {},
   "outputs": [
    {
     "name": "stdout",
     "output_type": "stream",
     "text": [
      "['a', 'a', 'a', 'a', 'a']\n",
      "['aa', 'aaa', 'a', 'aa', 'aaa']\n",
      "bb\n",
      "bbbbb\n",
      "bbb\n",
      "b\n"
     ]
    }
   ],
   "source": [
    "print(p.findall('1a1a1a1a1a'))\n",
    "print(p.findall('1aa1aaa1a1aa1aaa'))\n",
    "\n",
    "mylist = p.findall('1bb11bbbbb1bbb1b')   \n",
    "for i in mylist :                         # 문자열로 잘 출력됨을 알 수 있다.\n",
    "    print(i)"
   ]
  },
  {
   "cell_type": "code",
   "execution_count": 81,
   "id": "9f2875d9-1eaa-4799-894b-d02117293759",
   "metadata": {},
   "outputs": [
    {
     "name": "stdout",
     "output_type": "stream",
     "text": [
      "<re.Match object; span=(0, 1), match='a'>\n",
      "<re.Match object; span=(2, 4), match='bb'>\n",
      "<re.Match object; span=(5, 8), match='ccc'>\n"
     ]
    }
   ],
   "source": [
    "iterator = p.finditer('a1bb1ccc')\n",
    "\n",
    "for i in iterator:                   # 반환되는 애가 객체라는 차이점이 있음.\n",
    "    print(i)"
   ]
  },
  {
   "cell_type": "code",
   "execution_count": null,
   "id": "b8fcb3da-761b-43cc-86ac-c9d874dda53a",
   "metadata": {},
   "outputs": [],
   "source": []
  },
  {
   "cell_type": "code",
   "execution_count": 118,
   "id": "51929c4f-878b-467b-be60-52b7d366d2a4",
   "metadata": {},
   "outputs": [
    {
     "name": "stdout",
     "output_type": "stream",
     "text": [
      "['25', '25', '21', '29']\n",
      "['Seongbin', 'Hyeonmin', 'Chaeun', 'Seoul']\n",
      "<class 'list'>\n"
     ]
    }
   ],
   "source": [
    "import re\n",
    "\n",
    "Nameage = '''\n",
    "Seongbin is 25 Hyeonmin is 25\n",
    "Chaeun is 21 Seoul is 29 \n",
    "''' \n",
    "age = re.compile('[0-9]+') # 이 숫자범위로는 어떻게 하지...? 굳. \n",
    "# age = re.compile('\\d{2}')\n",
    "print(age.findall(Nameage))\n",
    "\n",
    "\n",
    "name = re.compile('[A-Z][a-z]*')\n",
    "# name = re.compile('[a-z]+')\n",
    "print(name.findall(Nameage))\n",
    "\n",
    "print(type(name.findall(Nameage)))"
   ]
  },
  {
   "cell_type": "markdown",
   "id": "deec048e-1ea7-4de1-bd45-eb72ee2ae201",
   "metadata": {},
   "source": [
    "이렇게 만든 리스트들을 딕셔너리에 키값은 이름 value 값은 나이로 만들어서 \n",
    "json 으로 만들기...?"
   ]
  },
  {
   "cell_type": "code",
   "execution_count": 150,
   "id": "b61fae44-09c3-4f10-980c-6b39a724a0f6",
   "metadata": {},
   "outputs": [
    {
     "name": "stdout",
     "output_type": "stream",
     "text": [
      "{'Seongbin': '25', 'Hyeonmin': '25', 'Chaeun': '21', 'Seoul': '29'}\n"
     ]
    }
   ],
   "source": [
    "myDict = {}\n",
    "\n",
    "names = name.findall(Nameage)\n",
    "ages = age.findall(Nameage)\n",
    "\n",
    "i = 0\n",
    "for n in names :\n",
    "\n",
    "    myDict[n] = ages[i] # n 으로는 안되서 새로운 i 하나 만들어서 그거 증가시켜서 넣음..\n",
    "    i = i + 1           # 흠.. 지리긴하네... 근데 n 은 증가하는게.. list에서.. 인가..  \n",
    "print(myDict)"
   ]
  },
  {
   "cell_type": "code",
   "execution_count": null,
   "id": "f1b0fcd9-2019-40c2-a8d1-3bf6a364a370",
   "metadata": {},
   "outputs": [],
   "source": []
  },
  {
   "cell_type": "markdown",
   "id": "9c51f4a6-305b-4672-a3db-bd883ba16aff",
   "metadata": {},
   "source": [
    "사이트에 가서, 정보를 전부 긁어다가 전화번호만 뽑아서. phone.txt 파일에\n",
    "전화번호만 저장하는것. \n",
    "requests 쓰고 다 가져다가 전화번호만 뽑아다가 파일에 저장시키기. 흠... ? "
   ]
  },
  {
   "cell_type": "code",
   "execution_count": 175,
   "id": "bd20be03-3909-43c9-8cf5-2d3722961f2a",
   "metadata": {
    "tags": []
   },
   "outputs": [],
   "source": [
    "import requests\n",
    "import json\n",
    "import re\n",
    "response = requests.get( \"http://www.summet.com/dmsi/html/codesamples/addresses.html\")\n",
    "\n",
    "phonebook = response.text\n"
   ]
  },
  {
   "cell_type": "code",
   "execution_count": 176,
   "id": "cd82e74d-1f79-4c02-96ef-69d382b1c442",
   "metadata": {
    "collapsed": true,
    "jupyter": {
     "outputs_hidden": true
    },
    "tags": []
   },
   "outputs": [
    {
     "name": "stdout",
     "output_type": "stream",
     "text": [
      "<html>\n",
      "<head><title>Sample Addresses!</title></head>\n",
      "<body>\n",
      "<h1> A page full of sample addresses for your parsing enjoyment!</h1>\n",
      "<h2> (All data is random....)</h2>\n",
      "<ul>\n",
      "<li>Cecilia Chapman<br/>711-2880 Nulla St.<br/>Mankato Mississippi 96522<br/>(257) 563-7401</li>\n",
      "<li>Iris Watson<br/>P.O. Box 283 8562 Fusce Rd.<br/>Frederick Nebraska 20620<br/>(372) 587-2335</li>\n",
      "<li>Celeste Slater<br/>606-3727 Ullamcorper. Street<br/>Roseville NH 11523<br/>(786) 713-8616</li>\n",
      "<li>Theodore Lowe<br/>Ap #867-859 Sit Rd.<br/>Azusa New York 39531<br/>(793) 151-6230</li>\n",
      "<li>Calista Wise<br/>7292 Dictum Av.<br/>San Antonio MI 47096<br/>(492) 709-6392</li>\n",
      "<li>Kyla Olsen<br/>Ap #651-8679 Sodales Av.<br/>Tamuning PA 10855<br/>(654) 393-5734</li>\n",
      "<li>Forrest Ray<br/>191-103 Integer Rd.<br/>Corona New Mexico 08219<br/>(404) 960-3807</li>\n",
      "<li>Hiroko Potter<br/>P.O. Box 887 2508 Dolor. Av.<br/>Muskegon KY 12482<br/>(314) 244-6306</li>\n",
      "<li>Nyssa Vazquez<br/>511-5762 At Rd.<br/>Chelsea MI 67708<br/>(947) 278-5929</li>\n",
      "<li>Lawrence Moreno<br/>935-9940 Tortor. Street<br/>Santa Rosa MN 98804<br/>(684) 579-1879</li>\n",
      "<li>Ina Moran<br/>P.O. Box 929 4189 Nunc Road<br/>Lebanon KY 69409<br/>(389) 737-2852</li>\n",
      "<li>Aaron Hawkins<br/>5587 Nunc. Avenue<br/>Erie Rhode Island 24975<br/>(660) 663-4518</li>\n",
      "<li>Hedy Greene<br/>Ap #696-3279 Viverra. Avenue<br/>Latrobe DE 38100<br/>(608) 265-2215</li>\n",
      "<li>Melvin Porter<br/>P.O. Box 132 1599 Curabitur Rd.<br/>Bandera South Dakota 45149<br/>(959) 119-8364</li>\n",
      "<li>Keefe Sellers<br/>347-7666 Iaculis St.<br/>Woodruff SC 49854<br/>(468) 353-2641</li>\n",
      "<li>Joan Romero<br/>666-4366 Lacinia Avenue<br/>Idaho Falls Ohio 19253<br/>(248) 675-4007</li>\n",
      "<li>Davis Patrick<br/>P.O. Box 147 2546 Sociosqu Rd.<br/>Bethlehem Utah 02913<br/>(939) 353-1107</li>\n",
      "<li>Leilani Boyer<br/>557-6308 Lacinia Road<br/>San Bernardino ND 09289<br/>(570) 873-7090</li>\n",
      "<li>Colby Bernard<br/>Ap #285-7193 Ullamcorper Avenue<br/>Amesbury HI 93373<br/>(302) 259-2375</li>\n",
      "<li>Bryar Pitts<br/>5543 Aliquet St.<br/>Fort Dodge GA 20783<br/>(717) 450-4729</li>\n",
      "<li>Rahim Henderson<br/>5037 Diam Rd.<br/>Daly City Ohio 90255<br/>(453) 391-4650</li>\n",
      "<li>Noelle Adams<br/>6351 Fringilla Avenue<br/>Gardena Colorado 37547<br/>(559) 104-5475</li>\n",
      "<li>Lillith Daniel<br/>935-1670 Neque. St.<br/>Centennial Delaware 48432<br/>(387) 142-9434</li>\n",
      "<li>Adria Russell<br/>414-7533 Non Rd.<br/>Miami Beach North Dakota 58563<br/>(516) 745-4496</li>\n",
      "<li>Hilda Haynes<br/>778-9383 Suspendisse Av.<br/>Weirton IN 93479<br/>(326) 677-3419</li>\n",
      "<li>Sheila Mcintosh<br/>P.O. Box 360 4407 Et Rd.<br/>Santa Monica FL 30309<br/>(746) 679-2470</li>\n",
      "<li>Rebecca Chambers<br/>P.O. Box 813 5982 Sit Ave<br/>Liberal Vermont 51324<br/>(455) 430-0989</li>\n",
      "<li>Christian Emerson<br/>P.O. Box 886 4118 Arcu St.<br/>Rolling Hills Georgia 92358<br/>(490) 936-4694</li>\n",
      "<li>Nevada Ware<br/>P.O. Box 597 4156 Tincidunt Ave<br/>Green Bay Indiana 19759<br/>(985) 834-8285</li>\n",
      "<li>Margaret Joseph<br/>P.O. Box 508 3919 Gravida St.<br/>Tamuning Washington 55797<br/>(662) 661-1446</li>\n",
      "<li>Edward Nieves<br/>928-3313 Vel Av.<br/>Idaho Falls Rhode Island 37232<br/>(802) 668-8240</li>\n",
      "<li>Imani Talley<br/>P.O. Box 262 4978 Sit St.<br/>Yigo Massachusetts 50654<br/>(477) 768-9247</li>\n",
      "<li>Bertha Riggs<br/>P.O. Box 206 6639 In St.<br/>Easthampton TN 31626<br/>(791) 239-9057</li>\n",
      "<li>Wallace Ross<br/>313 Pellentesque Ave<br/>Villa Park Hawaii 43526<br/>(832) 109-0213</li>\n",
      "<li>Chester Bennett<br/>3476 Aliquet. Ave<br/>Minot AZ 95302<br/>(837) 196-3274</li>\n",
      "<li>Castor Richardson<br/>P.O. Box 902 3472 Ullamcorper Street<br/>Lynchburg DC 29738<br/>(268) 442-2428</li>\n",
      "<li>Sonya Jordan<br/>Ap #443-336 Ullamcorper. Street<br/>Visalia VA 54886<br/>(850) 676-5117</li>\n",
      "<li>Harrison Mcguire<br/>574-8633 Arcu Street<br/>San Fernando ID 77373<br/>(861) 546-5032</li>\n",
      "<li>Malcolm Long<br/>9291 Proin Road<br/>Lake Charles Maine 11292<br/>(176) 805-4108</li>\n",
      "<li>Raymond Levy<br/>Ap #643-7006 Risus St.<br/>Beaumont New Mexico 73585<br/>(715) 912-6931</li>\n",
      "<li>Hedley Ingram<br/>737-2580 At Street<br/>Independence Texas 87535<br/>(993) 554-0563</li>\n",
      "<li>David Mathews<br/>1011 Malesuada Road<br/>Moscow Kentucky 77382<br/>(357) 616-5411</li>\n",
      "<li>Xyla Cash<br/>969-1762 Tincidunt Rd.<br/>Boise CT 35282<br/>(121) 347-0086</li>\n",
      "<li>Madeline Gregory<br/>977-4841 Ut Ave<br/>Walla Walla Michigan 82776<br/>(304) 506-6314</li>\n",
      "<li>Griffith Daniels<br/>6818 Eget St.<br/>Tacoma AL 92508<br/>(425) 288-2332</li>\n",
      "<li>Anne Beasley<br/>987-4223 Urna St.<br/>Savannah Illinois 85794<br/>(145) 987-4962</li>\n",
      "<li>Chaney Bennett<br/>P.O. Box 721 902 Dolor Rd.<br/>Fremont AK 19408<br/>(187) 582-9707</li>\n",
      "<li>Daniel Bernard<br/>P.O. Box 567 1561 Duis Rd.<br/>Pomona TN 08609<br/>(750) 558-3965</li>\n",
      "<li>Willow Hunt<br/>Ap #784-1887 Lobortis Ave<br/>Cudahy Ohio 31522<br/>(492) 467-3131</li>\n",
      "<li>Judith Floyd<br/>361-7936 Feugiat St.<br/>Williston Nevada 58521<br/>(774) 914-2510</li>\n",
      "<li>Seth Farley<br/>6216 Aenean Avenue<br/>Seattle Utah 81202<br/>(888) 106-8550</li>\n",
      "<li>Zephania Sanders<br/>3714 Nascetur St.<br/>Hawthorne Louisiana 10626<br/>(539) 567-3573</li>\n",
      "<li>Calista Merritt<br/>Ap #938-5470 Posuere Ave<br/>Chickasha LA 58520<br/>(693) 337-2849</li>\n",
      "<li>Craig Williams<br/>P.O. Box 372 5634 Montes Rd.<br/>Springdale MO 57692<br/>(545) 604-9386</li>\n",
      "<li>Lee Preston<br/>981 Eget Rd.<br/>Clemson GA 04645<br/>(221) 156-5026</li>\n",
      "<li>Katelyn Cooper<br/>6059 Sollicitudin Road<br/>Burlingame Colorado 26278<br/>(414) 876-0865</li>\n",
      "<li>Lacy Eaton<br/>1379 Nulla. Av.<br/>Asbury Park Montana 69679<br/>(932) 726-8645</li>\n",
      "<li>Driscoll Leach<br/>P.O. Box 120 2410 Odio Avenue<br/>Pass Christian Delaware 03869<br/>(726) 710-9826</li>\n",
      "<li>Merritt Watson<br/>P.O. Box 686 7014 Amet Street<br/>Corona Oklahoma 55246<br/>(622) 594-1662</li>\n",
      "<li>Nehru Holmes<br/>P.O. Box 547 4764 Sed Road<br/>Grand Rapids CT 87323<br/>(948) 600-8503</li>\n",
      "<li>Quamar Rivera<br/>427-5827 Ac St.<br/>Schaumburg Arkansas 84872<br/>(605) 900-7508</li>\n",
      "<li>Hiram Mullins<br/>754-6427 Nunc Ave<br/>Kennewick AL 41329<br/>(716) 977-5775</li>\n",
      "<li>Kim Fletcher<br/>Ap #345-3847 Metus Road<br/>Independence CO 30135<br/>(368) 239-8275</li>\n",
      "<li>Rigel Koch<br/>P.O. Box 558 9561 Lacus. Road<br/>Laughlin Hawaii 99602<br/>(725) 342-0650</li>\n",
      "<li>Jeanette Sharpe<br/>Ap #364-2006 Ipsum Avenue<br/>Wilmington Ohio 91750<br/>(711) 993-5187</li>\n",
      "<li>Dahlia Lee<br/>1293 Tincidunt Street<br/>Atwater Pennsylvania 76865<br/>(882) 399-5084</li>\n",
      "<li>Howard Hayden<br/>P.O. Box 847 8019 Facilisis Street<br/>Joliet SC 73490<br/>(287) 755-9948</li>\n",
      "<li>Hyatt Kramer<br/>1011 Massa Av.<br/>Kent ID 63725<br/>(659) 551-3389</li>\n",
      "<li>Sonya Ray<br/>Ap #315-8441 Eleifend Street<br/>Fairbanks RI 96892<br/>(275) 730-6868</li>\n",
      "<li>Cara Whitehead<br/>4005 Praesent St.<br/>Torrance Wyoming 22767<br/>(725) 757-4047</li>\n",
      "<li>Blythe Carroll<br/>7709 Justo. Ave<br/>Princeton TX 77987<br/>(314) 882-1496</li>\n",
      "<li>Dale Griffin<br/>P.O. Box 854 8580 In Ave<br/>Revere South Dakota 43841<br/>(639) 360-7590</li>\n",
      "<li>McKenzie Hernandez<br/>Ap #367-674 Mi Street<br/>Greensboro VT 40684<br/>(168) 222-1592</li>\n",
      "<li>Haviva Holcomb<br/>P.O. Box 642 3450 In Road<br/>Isle of Palms New York 03828<br/>(896) 303-1164</li>\n",
      "<li>Ezra Duffy<br/>Ap #782-7348 Dis Rd.<br/>Austin KY 50710<br/>(203) 982-6130</li>\n",
      "<li>Eleanor Jennings<br/>9631 Semper Ave<br/>Astoria NJ 66309<br/>(906) 217-1470</li>\n",
      "<li>Remedios Hester<br/>487-5787 Mollis St.<br/>City of Industry Louisiana 67973<br/>(614) 514-1269</li>\n",
      "<li>Jasper Carney<br/>1195 Lobortis Rd.<br/>New Orleans New Hampshire 71983<br/>(763) 409-5446</li>\n",
      "<li>Vielka Nielsen<br/>Ap #517-7326 Elementum Rd.<br/>Fort Smith North Dakota 79637<br/>(836) 292-5324</li>\n",
      "<li>Wilma Pace<br/>Ap #676-6532 Odio Rd.<br/>Darlington CO 06963<br/>(926) 709-3295</li>\n",
      "<li>Palmer Gay<br/>557-2026 Purus St.<br/>Watertown TN 07367<br/>(963) 356-9268</li>\n",
      "<li>Lyle Sutton<br/>Ap #250-9843 Elementum St.<br/>South Gate Missouri 68999<br/>(736) 522-8584</li>\n",
      "<li>Ina Burt<br/>Ap #130-1685 Ut Street<br/>Tyler KS 73510<br/>(410) 483-0352</li>\n",
      "<li>Cleo Best<br/>282-8351 Tincidunt Ave<br/>Sedalia Utah 53700<br/>(252) 204-1434</li>\n",
      "<li>Hu Park<br/>1429 Netus Rd.<br/>Reedsport NY 48247<br/>(874) 886-4174</li>\n",
      "<li>Liberty Walton<br/>343-6527 Purus. Avenue<br/>Logan NV 12657<br/>(581) 379-7573</li>\n",
      "<li>Aaron Trujillo<br/>Ap #146-3132 Cras Rd.<br/>Kingsport NH 56618<br/>(983) 632-8597</li>\n",
      "<li>Elmo Lopez<br/>Ap #481-7473 Cum Rd.<br/>Yorba Linda South Carolina 28423<br/>(295) 983-3476</li>\n",
      "<li>Emerson Espinoza<br/>Ap #247-5577 Tincidunt St.<br/>Corpus Christi WI 97020<br/>(873) 392-8802</li>\n",
      "<li>Daniel Malone<br/>2136 Adipiscing Av.<br/>Lima RI 93490<br/>(360) 669-3923</li>\n",
      "<li>Dante Bennett<br/>481-8762 Nulla Street<br/>Dearborn OR 62401<br/>(840) 987-9449</li>\n",
      "<li>Sade Higgins<br/>Ap #287-3260 Ut St.<br/>Wilmington OR 05182<br/>(422) 517-6053</li>\n",
      "<li>Zorita Anderson<br/>1964 Facilisis Avenue<br/>Bell Gardens Texas 87065<br/>(126) 940-2753</li>\n",
      "<li>Jordan Calderon<br/>430-985 Eleifend St.<br/>Duluth Washington 92611<br/>(427) 930-5255</li>\n",
      "<li>Ivor Delgado<br/>Ap #310-1678 Ut Av.<br/>Santa Barbara MT 88317<br/>(689) 721-5145</li>\n",
      "<li>Pascale Patton<br/>P.O. Box 399 4275 Amet Street<br/>West Allis NC 36734<br/>(676) 334-2174</li>\n",
      "<li>Nasim Strong<br/>Ap #630-3889 Nulla. Street<br/>Watervliet Oklahoma 70863<br/>(437) 994-5270</li>\n",
      "<li>Keaton Underwood<br/>Ap #636-8082 Arcu Avenue<br/>Thiensville Maryland 19587<br/>(564) 908-6970</li>\n",
      "<li>Keegan Blair<br/>Ap #761-2515 Egestas. Rd.<br/>Manitowoc TN 07528<br/>(577) 333-6244</li>\n",
      "<li>Tamara Howe<br/>3415 Lobortis. Avenue<br/>Rocky Mount WA 48580<br/>(655) 840-6139</li>\n",
      " </ul> </body></html>\n"
     ]
    }
   ],
   "source": [
    "print(phonebook)"
   ]
  },
  {
   "cell_type": "code",
   "execution_count": 158,
   "id": "2cb75ffd-7055-42bb-a2bc-eafbb255d785",
   "metadata": {},
   "outputs": [
    {
     "name": "stdout",
     "output_type": "stream",
     "text": [
      "<Response [200]>\n"
     ]
    }
   ],
   "source": [
    "print(response)"
   ]
  },
  {
   "cell_type": "code",
   "execution_count": 173,
   "id": "582196f5-358c-4448-997d-20513969c741",
   "metadata": {},
   "outputs": [],
   "source": [
    "phoneNumber = re.compile('\\(\\d{3}\\)')"
   ]
  },
  {
   "cell_type": "code",
   "execution_count": 177,
   "id": "a33c9998-85fa-4952-9d36-9377b17689ff",
   "metadata": {},
   "outputs": [
    {
     "name": "stdout",
     "output_type": "stream",
     "text": [
      "['(257)', '(372)', '(786)', '(793)', '(492)', '(654)', '(404)', '(314)', '(947)', '(684)', '(389)', '(660)', '(608)', '(959)', '(468)', '(248)', '(939)', '(570)', '(302)', '(717)', '(453)', '(559)', '(387)', '(516)', '(326)', '(746)', '(455)', '(490)', '(985)', '(662)', '(802)', '(477)', '(791)', '(832)', '(837)', '(268)', '(850)', '(861)', '(176)', '(715)', '(993)', '(357)', '(121)', '(304)', '(425)', '(145)', '(187)', '(750)', '(492)', '(774)', '(888)', '(539)', '(693)', '(545)', '(221)', '(414)', '(932)', '(726)', '(622)', '(948)', '(605)', '(716)', '(368)', '(725)', '(711)', '(882)', '(287)', '(659)', '(275)', '(725)', '(314)', '(639)', '(168)', '(896)', '(203)', '(906)', '(614)', '(763)', '(836)', '(926)', '(963)', '(736)', '(410)', '(252)', '(874)', '(581)', '(983)', '(295)', '(873)', '(360)', '(840)', '(422)', '(126)', '(427)', '(689)', '(676)', '(437)', '(564)', '(577)', '(655)']\n"
     ]
    }
   ],
   "source": [
    "print(phoneNumber.findall(phonebook))"
   ]
  },
  {
   "cell_type": "code",
   "execution_count": 186,
   "id": "78c6c72d-110c-474e-a4f3-bc8ac0e7bc0a",
   "metadata": {},
   "outputs": [],
   "source": [
    "phoneNumber = re.compile('\\(\\d{3}\\) \\d{3}-\\d{4}')"
   ]
  },
  {
   "cell_type": "code",
   "execution_count": 187,
   "id": "12d073b2-70f6-4e3b-b781-c9e92d4d556e",
   "metadata": {},
   "outputs": [
    {
     "name": "stdout",
     "output_type": "stream",
     "text": [
      "['(257) 563-7401', '(372) 587-2335', '(786) 713-8616', '(793) 151-6230', '(492) 709-6392', '(654) 393-5734', '(404) 960-3807', '(314) 244-6306', '(947) 278-5929', '(684) 579-1879', '(389) 737-2852', '(660) 663-4518', '(608) 265-2215', '(959) 119-8364', '(468) 353-2641', '(248) 675-4007', '(939) 353-1107', '(570) 873-7090', '(302) 259-2375', '(717) 450-4729', '(453) 391-4650', '(559) 104-5475', '(387) 142-9434', '(516) 745-4496', '(326) 677-3419', '(746) 679-2470', '(455) 430-0989', '(490) 936-4694', '(985) 834-8285', '(662) 661-1446', '(802) 668-8240', '(477) 768-9247', '(791) 239-9057', '(832) 109-0213', '(837) 196-3274', '(268) 442-2428', '(850) 676-5117', '(861) 546-5032', '(176) 805-4108', '(715) 912-6931', '(993) 554-0563', '(357) 616-5411', '(121) 347-0086', '(304) 506-6314', '(425) 288-2332', '(145) 987-4962', '(187) 582-9707', '(750) 558-3965', '(492) 467-3131', '(774) 914-2510', '(888) 106-8550', '(539) 567-3573', '(693) 337-2849', '(545) 604-9386', '(221) 156-5026', '(414) 876-0865', '(932) 726-8645', '(726) 710-9826', '(622) 594-1662', '(948) 600-8503', '(605) 900-7508', '(716) 977-5775', '(368) 239-8275', '(725) 342-0650', '(711) 993-5187', '(882) 399-5084', '(287) 755-9948', '(659) 551-3389', '(275) 730-6868', '(725) 757-4047', '(314) 882-1496', '(639) 360-7590', '(168) 222-1592', '(896) 303-1164', '(203) 982-6130', '(906) 217-1470', '(614) 514-1269', '(763) 409-5446', '(836) 292-5324', '(926) 709-3295', '(963) 356-9268', '(736) 522-8584', '(410) 483-0352', '(252) 204-1434', '(874) 886-4174', '(581) 379-7573', '(983) 632-8597', '(295) 983-3476', '(873) 392-8802', '(360) 669-3923', '(840) 987-9449', '(422) 517-6053', '(126) 940-2753', '(427) 930-5255', '(689) 721-5145', '(676) 334-2174', '(437) 994-5270', '(564) 908-6970', '(577) 333-6244', '(655) 840-6139']\n"
     ]
    }
   ],
   "source": [
    "print(phoneNumber.findall(phonebook))"
   ]
  },
  {
   "cell_type": "code",
   "execution_count": 226,
   "id": "e7488332-6c80-47fc-8384-6d6ed73e5d19",
   "metadata": {},
   "outputs": [],
   "source": [
    "f = open(\"phone.txt\",\"w\", encoding=\"utf-8\") \n",
    "p = phoneNumber.findall(phonebook)\n",
    "\n",
    "# f.write(p)\n",
    "\n",
    "for i in p :\n",
    "    #print(i)\n",
    "    f.write(i+'\\n')\n",
    "\n",
    "f.close()"
   ]
  },
  {
   "cell_type": "code",
   "execution_count": 227,
   "id": "2adae2c0-5624-4f3a-88b7-2202c37d8d73",
   "metadata": {},
   "outputs": [
    {
     "name": "stdout",
     "output_type": "stream",
     "text": [
      "(257) 563-7401\n",
      "(372) 587-2335\n",
      "(786) 713-8616\n",
      "(793) 151-6230\n",
      "(492) 709-6392\n",
      "(654) 393-5734\n",
      "(404) 960-3807\n",
      "(314) 244-6306\n",
      "(947) 278-5929\n",
      "(684) 579-1879\n",
      "(389) 737-2852\n",
      "(660) 663-4518\n",
      "(608) 265-2215\n",
      "(959) 119-8364\n",
      "(468) 353-2641\n",
      "(248) 675-4007\n",
      "(939) 353-1107\n",
      "(570) 873-7090\n",
      "(302) 259-2375\n",
      "(717) 450-4729\n",
      "(453) 391-4650\n",
      "(559) 104-5475\n",
      "(387) 142-9434\n",
      "(516) 745-4496\n",
      "(326) 677-3419\n",
      "(746) 679-2470\n",
      "(455) 430-0989\n",
      "(490) 936-4694\n",
      "(985) 834-8285\n",
      "(662) 661-1446\n",
      "(802) 668-8240\n",
      "(477) 768-9247\n",
      "(791) 239-9057\n",
      "(832) 109-0213\n",
      "(837) 196-3274\n",
      "(268) 442-2428\n",
      "(850) 676-5117\n",
      "(861) 546-5032\n",
      "(176) 805-4108\n",
      "(715) 912-6931\n",
      "(993) 554-0563\n",
      "(357) 616-5411\n",
      "(121) 347-0086\n",
      "(304) 506-6314\n",
      "(425) 288-2332\n",
      "(145) 987-4962\n",
      "(187) 582-9707\n",
      "(750) 558-3965\n",
      "(492) 467-3131\n",
      "(774) 914-2510\n",
      "(888) 106-8550\n",
      "(539) 567-3573\n",
      "(693) 337-2849\n",
      "(545) 604-9386\n",
      "(221) 156-5026\n",
      "(414) 876-0865\n",
      "(932) 726-8645\n",
      "(726) 710-9826\n",
      "(622) 594-1662\n",
      "(948) 600-8503\n",
      "(605) 900-7508\n",
      "(716) 977-5775\n",
      "(368) 239-8275\n",
      "(725) 342-0650\n",
      "(711) 993-5187\n",
      "(882) 399-5084\n",
      "(287) 755-9948\n",
      "(659) 551-3389\n",
      "(275) 730-6868\n",
      "(725) 757-4047\n",
      "(314) 882-1496\n",
      "(639) 360-7590\n",
      "(168) 222-1592\n",
      "(896) 303-1164\n",
      "(203) 982-6130\n",
      "(906) 217-1470\n",
      "(614) 514-1269\n",
      "(763) 409-5446\n",
      "(836) 292-5324\n",
      "(926) 709-3295\n",
      "(963) 356-9268\n",
      "(736) 522-8584\n",
      "(410) 483-0352\n",
      "(252) 204-1434\n",
      "(874) 886-4174\n",
      "(581) 379-7573\n",
      "(983) 632-8597\n",
      "(295) 983-3476\n",
      "(873) 392-8802\n",
      "(360) 669-3923\n",
      "(840) 987-9449\n",
      "(422) 517-6053\n",
      "(126) 940-2753\n",
      "(427) 930-5255\n",
      "(689) 721-5145\n",
      "(676) 334-2174\n",
      "(437) 994-5270\n",
      "(564) 908-6970\n",
      "(577) 333-6244\n",
      "(655) 840-6139\n",
      "\n"
     ]
    },
    {
     "data": {
      "text/plain": [
       "<function TextIOWrapper.close()>"
      ]
     },
     "execution_count": 227,
     "metadata": {},
     "output_type": "execute_result"
    }
   ],
   "source": [
    "f = open(\"phone.txt\",\"r\", encoding=\"utf-8\") \n",
    "print (  f.read() )   \n",
    "f.close"
   ]
  },
  {
   "cell_type": "code",
   "execution_count": null,
   "id": "2618f24b-5cb3-4967-875c-2a643b9b42f8",
   "metadata": {},
   "outputs": [],
   "source": []
  }
 ],
 "metadata": {
  "kernelspec": {
   "display_name": "Python 3 (ipykernel)",
   "language": "python",
   "name": "python3"
  },
  "language_info": {
   "codemirror_mode": {
    "name": "ipython",
    "version": 3
   },
   "file_extension": ".py",
   "mimetype": "text/x-python",
   "name": "python",
   "nbconvert_exporter": "python",
   "pygments_lexer": "ipython3",
   "version": "3.9.7"
  }
 },
 "nbformat": 4,
 "nbformat_minor": 5
}
