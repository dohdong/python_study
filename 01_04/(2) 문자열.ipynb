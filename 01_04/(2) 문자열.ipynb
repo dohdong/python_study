{
 "cells": [
  {
   "cell_type": "markdown",
   "id": "fc8c56ab-192b-4143-b294-e7ec5a9c1ec0",
   "metadata": {},
   "source": [
    "### (5) ^ 문자열의 제일 처음과 매치 ★\n",
    "\n",
    "* 문자열이 ^의 뒤에 있는 문자로 시작되면 매치된다. \n",
    "* 여러 줄의 문자열일 경우 첫 줄만 적용된다. (단, re.MULTILINE 옵션이 적용되면 각 줄의 첫 문자를 검사하여 매치된다.)\n",
    "* \\A 는 ^ 와 동일하지만 re.MULTILINE 옵션을 무시하고 항상 문자열 첫 줄의 시작 문자를 검사한다."
   ]
  },
  {
   "cell_type": "code",
   "execution_count": 2,
   "id": "c00b6fe0-1507-4d9b-b506-ea957e84ccfc",
   "metadata": {},
   "outputs": [
    {
     "name": "stdout",
     "output_type": "stream",
     "text": [
      "<class 're.Pattern'>\n",
      "<re.Match object; span=(0, 1), match='a'>\n",
      "<re.Match object; span=(0, 1), match='b'>\n",
      "<re.Match object; span=(0, 1), match='a'>\n"
     ]
    }
   ],
   "source": [
    "import re   #컴파일 할떄 re 써야함.(내가 정해주는건가?)\n",
    "\n",
    "p = re.compile('[abc]')\n",
    "print(type(p))\n",
    "print(p.match('a'))\n",
    "print(p.match('b'))\n",
    "\n",
    "print(p.match('ac'))"
   ]
  },
  {
   "cell_type": "code",
   "execution_count": 3,
   "id": "7f706eca-a48f-46c4-8c63-414c059318e8",
   "metadata": {},
   "outputs": [
    {
     "data": {
      "text/plain": [
       "<re.Match object; span=(0, 1), match='a'>"
      ]
     },
     "execution_count": 3,
     "metadata": {},
     "output_type": "execute_result"
    }
   ],
   "source": [
    "import re\n",
    "p = re.compile('[a-z]')\n",
    "#p = re.compile('a.b', re.DOTALL)\n",
    "\n",
    "p.match('a\\nb')"
   ]
  },
  {
   "cell_type": "code",
   "execution_count": 4,
   "id": "fe64917e-c396-425f-9e19-67e8faf69ff3",
   "metadata": {},
   "outputs": [
    {
     "name": "stdout",
     "output_type": "stream",
     "text": [
      "Requirement already satisfied: requests in c:\\users\\bit\\anaconda3\\lib\\site-packages (2.26.0)\n",
      "Requirement already satisfied: idna<4,>=2.5 in c:\\users\\bit\\anaconda3\\lib\\site-packages (from requests) (3.2)\n",
      "Requirement already satisfied: certifi>=2017.4.17 in c:\\users\\bit\\anaconda3\\lib\\site-packages (from requests) (2021.10.8)\n",
      "Requirement already satisfied: urllib3<1.27,>=1.21.1 in c:\\users\\bit\\anaconda3\\lib\\site-packages (from requests) (1.26.7)\n",
      "Requirement already satisfied: charset-normalizer~=2.0.0 in c:\\users\\bit\\anaconda3\\lib\\site-packages (from requests) (2.0.4)\n",
      "Note: you may need to restart the kernel to use updated packages.\n"
     ]
    }
   ],
   "source": [
    "pip install requests"
   ]
  },
  {
   "cell_type": "code",
   "execution_count": null,
   "id": "3487dce1-b6c8-42bb-abc6-900ed6e78f7c",
   "metadata": {},
   "outputs": [],
   "source": []
  }
 ],
 "metadata": {
  "kernelspec": {
   "display_name": "Python 3 (ipykernel)",
   "language": "python",
   "name": "python3"
  },
  "language_info": {
   "codemirror_mode": {
    "name": "ipython",
    "version": 3
   },
   "file_extension": ".py",
   "mimetype": "text/x-python",
   "name": "python",
   "nbconvert_exporter": "python",
   "pygments_lexer": "ipython3",
   "version": "3.9.7"
  }
 },
 "nbformat": 4,
 "nbformat_minor": 5
}
