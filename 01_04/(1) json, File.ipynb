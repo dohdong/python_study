{
 "cells": [
  {
   "cell_type": "markdown",
   "id": "0eb0c354-1632-438a-bf6c-9257c248a131",
   "metadata": {},
   "source": [
    "### json 문자열을 Dict로 바꿀수있음."
   ]
  },
  {
   "cell_type": "code",
   "execution_count": 336,
   "id": "2689ef93-d4a4-4fc6-897f-32169b0374dd",
   "metadata": {},
   "outputs": [
    {
     "name": "stdout",
     "output_type": "stream",
     "text": [
      "<class 'list'> [{'name': 'John', 'age': 30, 'city': 'new york'}, {'name': 'park', 'age': 25, 'city': 'sang do'}]\n",
      "25\n"
     ]
    }
   ],
   "source": [
    "import json\n",
    "json_string =  '''[\n",
    "        {\"name\":\"John\",\n",
    "        \"age\" : 30,\n",
    "        \"city\" : \"new york\" },\n",
    "        {\"name\":\"park\",\n",
    "        \"age\" : 25,\n",
    "        \"city\" : \"sang do\" }\n",
    "        ]'''\n",
    "    \n",
    "# json_string['age']\n",
    "    \n",
    "python_list = json.loads(json_string) #문자열을 파이썬의 객체로 바꿔주는것.\n",
    "                                        # dump는 다시 떨궈주는것.\n",
    "\n",
    "print(type(python_list), python_list)\n",
    "\n",
    "print(python_dict[\"age\"])\n"
   ]
  },
  {
   "cell_type": "code",
   "execution_count": 309,
   "id": "c528665b-c822-4583-9e61-4923065226e2",
   "metadata": {},
   "outputs": [
    {
     "name": "stdout",
     "output_type": "stream",
     "text": [
      "{\"name\": \"park\", \"age\": 25, \"city\": \"sang do\"} <class 'str'>\n"
     ]
    }
   ],
   "source": [
    "json_string = json.dumps(python_dict)\n",
    "print(json_string, type(json_string))"
   ]
  },
  {
   "cell_type": "code",
   "execution_count": 310,
   "id": "52244904-536c-4ea0-9f79-99dfeec1b5e9",
   "metadata": {},
   "outputs": [
    {
     "name": "stdout",
     "output_type": "stream",
     "text": [
      "30\n",
      "25\n"
     ]
    }
   ],
   "source": [
    "for python_dict in python_list :\n",
    "    print(python_dict[\"age\"])"
   ]
  },
  {
   "cell_type": "code",
   "execution_count": 311,
   "id": "21ca384f-0bbf-4797-b934-7b76b6ca8b8b",
   "metadata": {},
   "outputs": [
    {
     "name": "stdout",
     "output_type": "stream",
     "text": [
      "30\n",
      "25\n"
     ]
    }
   ],
   "source": [
    "for python_dict in python_list :\n",
    "    if python_dict[\"age\"] > 23 :\n",
    "        print(python_dict[\"age\"])"
   ]
  },
  {
   "cell_type": "code",
   "execution_count": 312,
   "id": "1816b2c8-32e2-40c4-be66-6e6872349145",
   "metadata": {},
   "outputs": [
    {
     "ename": "SyntaxError",
     "evalue": "invalid syntax (Temp/ipykernel_7948/4144592524.py, line 2)",
     "output_type": "error",
     "traceback": [
      "\u001b[1;36m  File \u001b[1;32m\"C:\\Users\\BIT\\AppData\\Local\\Temp/ipykernel_7948/4144592524.py\"\u001b[1;36m, line \u001b[1;32m2\u001b[0m\n\u001b[1;33m    if\u001b[0m\n\u001b[1;37m       ^\u001b[0m\n\u001b[1;31mSyntaxError\u001b[0m\u001b[1;31m:\u001b[0m invalid syntax\n"
     ]
    }
   ],
   "source": [
    "for i in python_list : # 이렇게는 어떻게 하지..?\n",
    "    if "
   ]
  },
  {
   "cell_type": "code",
   "execution_count": 313,
   "id": "c70a9162-30bb-4cfd-a994-02e3590d6960",
   "metadata": {},
   "outputs": [
    {
     "name": "stdout",
     "output_type": "stream",
     "text": [
      "[{\"name\": \"John\", \"age\": 30, \"city\": \"new york\"}, {\"name\": \"park\", \"age\": 25, \"city\": \"sang do\"}] <class 'str'>\n"
     ]
    }
   ],
   "source": [
    "python_string = json.dumps(python_list)\n",
    "print(python_string, type(python_string))"
   ]
  },
  {
   "cell_type": "markdown",
   "id": "d5f26df0-2390-4867-918d-8188e3db4b33",
   "metadata": {},
   "source": [
    "파일에 저장했다가 로드. 파일 입출력을 배우나봄."
   ]
  },
  {
   "cell_type": "code",
   "execution_count": null,
   "id": "36f64e7d-c001-42ea-aec0-fe1aa609600c",
   "metadata": {},
   "outputs": [],
   "source": [
    "무슨파일타입인지, / 쓸때 append로 할지 등등 설정가능."
   ]
  },
  {
   "cell_type": "code",
   "execution_count": 315,
   "id": "ca818311-ed4a-4faa-a7dc-0b9ef1507b35",
   "metadata": {},
   "outputs": [
    {
     "name": "stdout",
     "output_type": "stream",
     "text": [
      "C:\\Users\\BIT\\datascience\\python\\01_04\n"
     ]
    }
   ],
   "source": [
    "import os\n",
    "print (os.getcwd())  # 현재 워킹 디렉토리 확인"
   ]
  },
  {
   "cell_type": "markdown",
   "id": "300f18f9-36d4-4fff-b70c-ceb99219eac2",
   "metadata": {},
   "source": [
    "## 파일 다루기."
   ]
  },
  {
   "cell_type": "code",
   "execution_count": 81,
   "id": "87a9e895-5a2f-404e-ba4f-f35ae76dac7a",
   "metadata": {},
   "outputs": [],
   "source": [
    "# 파일은 1.open 2.(stream) Read or Write 3. close 하는 방식!"
   ]
  },
  {
   "cell_type": "code",
   "execution_count": 316,
   "id": "50c8ec90-399a-4d55-a206-9be9a87babb8",
   "metadata": {},
   "outputs": [],
   "source": [
    "f = open(\"test.txt\", \"w\")#, encoding=\"utf-8\" )\n",
    "# 쓰기 모드로 파읽 오픈 (기존에 파일 존재하면 삭제하고 새로 생성) \n",
    "\n",
    "f.write(\" 텍스트 파일을 새로 만들고 텍스트를 씁니다.\\n\") #줄바꿈\n",
    "f.write(\" 텍스트 파일을 새로 만들고 텍스트를 씁니다.\\n\")\n",
    "f.close()"
   ]
  },
  {
   "cell_type": "code",
   "execution_count": 317,
   "id": "c780a328-a607-45a3-88f8-391b3c48c006",
   "metadata": {},
   "outputs": [
    {
     "name": "stdout",
     "output_type": "stream",
     "text": [
      " 텍스트 파일을 새로 만들고 텍스트를 씁니다.\n",
      "\n",
      " 텍스트 파일을 새로 만들고 텍스트를 씁니다.\n",
      "\n",
      "\n"
     ]
    }
   ],
   "source": [
    "f = open(\"test.txt\",\"r\")#, encoding=\"utf-8\") \n",
    "print (  f.readline() )   # 한 줄 읽음 \n",
    "print (  f.readline() )   # 한 줄 읽음  \n",
    "print (  f.readline() )   # 다 읽었으면 공백이 나옴.\n",
    "f.close()"
   ]
  },
  {
   "cell_type": "markdown",
   "id": "dddeb762-8d10-4475-a782-2af08bf4f2e8",
   "metadata": {},
   "source": [
    "흐름따라서 오는거라 순서대로 읽을 수 밖에 없음. \n",
    "그리고 읽으면 끝. \n",
    "그래서 다 읽고 나니까 아무것도 안나오는 공백 등장.\n"
   ]
  },
  {
   "cell_type": "code",
   "execution_count": 318,
   "id": "7a1e21e2-d1eb-4537-a96c-8e9479c5ee2d",
   "metadata": {},
   "outputs": [
    {
     "name": "stdout",
     "output_type": "stream",
     "text": [
      " 텍스트 파일을 새로 만들고 텍스트를 씁니다.\n",
      " 텍스트 파일을 새로 만들고 텍스트를 씁니다.\n",
      "\n"
     ]
    }
   ],
   "source": [
    "f = open(\"test.txt\",\"r\")#, encoding=\"utf-8\")  \n",
    "print (f.read())        # 모두 읽음 "
   ]
  },
  {
   "cell_type": "code",
   "execution_count": 319,
   "id": "9e5ec78c-6d3a-4f15-8706-e9a10acd1dc5",
   "metadata": {},
   "outputs": [
    {
     "name": "stdout",
     "output_type": "stream",
     "text": [
      " 텍스트 파일을 새로 만들고 텍스트를 씁니다.\n",
      "\n",
      " 텍스트 파일을 새로 만들고 텍스트를 씁니다.\n",
      "\n"
     ]
    }
   ],
   "source": [
    "f = open(\"test.txt\", \"r\") #, encoding=\"utf-8\" )\n",
    "\n",
    "while True :\n",
    "    x = f.readline()\n",
    "    if x :\n",
    "        print(x)\n",
    "    else :          #파이썬은 빈 문자열이 False 라서 이렇게 코딩이 가능함.\n",
    "\n",
    "        break\n",
    "f.close()\n",
    "        "
   ]
  },
  {
   "cell_type": "code",
   "execution_count": 320,
   "id": "e6685be5-1df0-4331-a7fc-5f52ebc4bc1c",
   "metadata": {},
   "outputs": [],
   "source": [
    "f = open(\"test.txt\", \"w\", encoding=\"utf-8\" )\n",
    "# 쓰기 모드로 파읽 오픈 (기존에 파일 존재하면 삭제하고 새로 생성) \n",
    "\n",
    "f.write(\" 텍스트 파일을 새로 만들고 텍스트를 씁니다.\\n\") #줄바꿈\n",
    "f.write(\" 텍스트 파일을 새로 만들고 텍스트를 씁니다.\\n\")\n",
    "f.close()"
   ]
  },
  {
   "cell_type": "code",
   "execution_count": 321,
   "id": "69080bdf-f23f-43e3-8ff7-b0d8edfd283f",
   "metadata": {},
   "outputs": [
    {
     "name": "stdout",
     "output_type": "stream",
     "text": [
      "[' 텍스트 파일을 새로 만들고 텍스트를 씁니다.\\n', ' 텍스트 파일을 새로 만들고 텍스트를 씁니다.\\n']\n",
      "<class 'list'>\n"
     ]
    }
   ],
   "source": [
    "f = open(\"test.txt\",\"r\", encoding=\"utf-8\") \n",
    "print (  f.readlines() )   # 한 줄 읽음 \n",
    "print(type(f.readlines()))\n",
    "f.close()"
   ]
  },
  {
   "cell_type": "code",
   "execution_count": 322,
   "id": "5654b9a2-dbbc-46b1-a1f5-ca2e34af570b",
   "metadata": {},
   "outputs": [],
   "source": [
    "## readlines 가 리스트 타입이니까 아래처럼 for 문을 활용해서 출력이 가능하다."
   ]
  },
  {
   "cell_type": "code",
   "execution_count": 323,
   "id": "49aec7d4-77ac-4b18-8a33-7a0ce804d881",
   "metadata": {},
   "outputs": [
    {
     "name": "stdout",
     "output_type": "stream",
     "text": [
      " 텍스트 파일을 새로 만들고 텍스트를 씁니다.\n",
      "\n",
      " 텍스트 파일을 새로 만들고 텍스트를 씁니다.\n",
      "\n"
     ]
    }
   ],
   "source": [
    "f = open(\"test.txt\",\"r\", encoding=\"utf-8\" )\n",
    "for i in f.readlines() :\n",
    "    print(i)\n",
    "    "
   ]
  },
  {
   "cell_type": "markdown",
   "id": "ac2acee8-1e53-4fd5-9430-54352d4b54a4",
   "metadata": {},
   "source": [
    "with 는 close를 안해도된다. /  요즘 많이 쓰인다. "
   ]
  },
  {
   "cell_type": "code",
   "execution_count": 324,
   "id": "27e04087-c3de-4b9d-bf9e-9daf61d819db",
   "metadata": {},
   "outputs": [
    {
     "name": "stdout",
     "output_type": "stream",
     "text": [
      " 텍스트 파일을 새로 만들고 텍스트를 씁니다.\n",
      " 텍스트 파일을 새로 만들고 텍스트를 씁니다.\n",
      "테스트1 입니다. \n",
      "테스트2 입니다. \n",
      "\n"
     ]
    }
   ],
   "source": [
    "with open(\"test.txt\",\"a\", encoding=\"utf-8\")   as  test  :\n",
    "    test.write(\"테스트1 입니다. \\n\")\n",
    "    test.write(\"테스트2 입니다. \\n\") \n",
    "with open(\"test.txt\",\"r\", encoding=\"utf-8\")   as  test  :\n",
    "    print(test.read())"
   ]
  },
  {
   "cell_type": "markdown",
   "id": "a321fb94-52e2-41ce-80a7-b6b860c77636",
   "metadata": {},
   "source": [
    "## json"
   ]
  },
  {
   "cell_type": "code",
   "execution_count": 325,
   "id": "851d373c-c9ab-45a6-859a-0021a4877582",
   "metadata": {},
   "outputs": [],
   "source": [
    "with open(\"new1.json\",\"w\", encoding=\"utf-8\")   as  test  :\n",
    "    test.write('''[\n",
    "        {\"name\":\"John\",\n",
    "        \"age\" : 30,\n",
    "        \"city\" : \"new york\" },\n",
    "        {\"name\":\"park\",\n",
    "        \"age\" : 25,\n",
    "        \"city\" : \"sang do\" }\n",
    "        ]''')"
   ]
  },
  {
   "cell_type": "code",
   "execution_count": 337,
   "id": "d6d82900-38dd-445f-a578-4b54a7534a33",
   "metadata": {},
   "outputs": [],
   "source": [
    "with open(\"new2.json\",\"w\", encoding=\"utf-8\")   as  test  :\n",
    "    test.write(json_string)"
   ]
  },
  {
   "cell_type": "code",
   "execution_count": 340,
   "id": "3ae8915a-405c-427d-b134-6293e2b11611",
   "metadata": {},
   "outputs": [
    {
     "name": "stdout",
     "output_type": "stream",
     "text": [
      "['[\\n', '        {\"name\":\"John\",\\n', '        \"age\" : 30,\\n', '        \"city\" : \"new york\" },\\n', '        {\"name\":\"park\",\\n', '        \"age\" : 25,\\n', '        \"city\" : \"sang do\" }\\n', '        ]']\n"
     ]
    }
   ],
   "source": [
    "with open(\"new2.json\",\"r\", encoding=\"utf-8\")   as  test  :\n",
    "    r = test.readlines()\n",
    "    print(r)"
   ]
  },
  {
   "cell_type": "code",
   "execution_count": 341,
   "id": "37ac5fe9-fe04-4ca5-854e-d210c1bc5e21",
   "metadata": {},
   "outputs": [
    {
     "name": "stdout",
     "output_type": "stream",
     "text": [
      "[{'name': 'John', 'age': 30, 'city': 'new york'}, {'name': 'park', 'age': 25, 'city': 'sang do'}]\n"
     ]
    }
   ],
   "source": [
    "with open(\"new2.json\",\"r\", encoding=\"utf-8\")   as  test  :\n",
    "    pp = json.load(test)\n",
    "    print(pp)"
   ]
  },
  {
   "cell_type": "code",
   "execution_count": 240,
   "id": "82de20f5-0625-46a8-9fd1-b724a8e9d4a6",
   "metadata": {},
   "outputs": [],
   "source": [
    "## 새로운 녀석"
   ]
  },
  {
   "cell_type": "code",
   "execution_count": 3,
   "id": "805926a3-a368-4d68-84ee-112cbfd62481",
   "metadata": {},
   "outputs": [],
   "source": [
    "import requests\n",
    "import json"
   ]
  },
  {
   "cell_type": "code",
   "execution_count": 4,
   "id": "cd372227-3d38-41e0-b3eb-01ab24b0b04b",
   "metadata": {},
   "outputs": [
    {
     "name": "stdout",
     "output_type": "stream",
     "text": [
      "<class 'requests.models.Response'>\n"
     ]
    },
    {
     "data": {
      "text/plain": [
       "200"
      ]
     },
     "execution_count": 4,
     "metadata": {},
     "output_type": "execute_result"
    }
   ],
   "source": [
    "response = requests.get('https://api.github.com')\n",
    "print(type(response))\n",
    "response.status_code  #을 활용해서 쓸수있다.\n",
    "# .status_code 가 200 이면 잘 되는거니까 \n",
    "# if .status_code == 200 :      이면 진행되게 하면 정확함."
   ]
  },
  {
   "cell_type": "code",
   "execution_count": 5,
   "id": "b1885d97-8902-42d0-9630-35a7e017592e",
   "metadata": {},
   "outputs": [
    {
     "name": "stdout",
     "output_type": "stream",
     "text": [
      "https://api.github.com/user\n"
     ]
    }
   ],
   "source": [
    "response = requests.get('https://api.github.com')\n",
    "# print(response.text)\n",
    "\n",
    "if response.status_code == 200 :\n",
    "    \n",
    "#     print(response.content)\n",
    "    json_object = json.loads(response.text)\n",
    "print(json_object['current_user_url'])"
   ]
  },
  {
   "cell_type": "markdown",
   "id": "b7d12107-b2c4-44a9-ad50-f59f14c3e71e",
   "metadata": {},
   "source": [
    "json 을 받아서  json.load  하는 식으로 가능함.\n",
    "response.text 파일 받아서 json.load 하면 된다.. 흠? "
   ]
  },
  {
   "cell_type": "code",
   "execution_count": 6,
   "id": "d0c3d2e1-f756-43b0-938e-0287eb17fc4e",
   "metadata": {},
   "outputs": [
    {
     "ename": "FileNotFoundError",
     "evalue": "[Errno 2] No such file or directory: 'new.json'",
     "output_type": "error",
     "traceback": [
      "\u001b[1;31m---------------------------------------------------------------------------\u001b[0m",
      "\u001b[1;31mFileNotFoundError\u001b[0m                         Traceback (most recent call last)",
      "\u001b[1;32m~\\AppData\\Local\\Temp/ipykernel_232/3662367542.py\u001b[0m in \u001b[0;36m<module>\u001b[1;34m\u001b[0m\n\u001b[1;32m----> 1\u001b[1;33m \u001b[1;32mwith\u001b[0m \u001b[0mopen\u001b[0m\u001b[1;33m(\u001b[0m\u001b[1;34m\"new.json\"\u001b[0m\u001b[1;33m,\u001b[0m\u001b[1;34m\"r\"\u001b[0m\u001b[1;33m,\u001b[0m \u001b[0mencoding\u001b[0m\u001b[1;33m=\u001b[0m\u001b[1;34m\"utf-8\"\u001b[0m\u001b[1;33m)\u001b[0m   \u001b[1;32mas\u001b[0m  \u001b[0mt\u001b[0m  \u001b[1;33m:\u001b[0m\u001b[1;33m\u001b[0m\u001b[1;33m\u001b[0m\u001b[0m\n\u001b[0m\u001b[0;32m      2\u001b[0m     \u001b[0mpp\u001b[0m \u001b[1;33m=\u001b[0m \u001b[0mjson\u001b[0m\u001b[1;33m.\u001b[0m\u001b[0mload\u001b[0m\u001b[1;33m(\u001b[0m\u001b[0mt\u001b[0m\u001b[1;33m)\u001b[0m\u001b[1;33m\u001b[0m\u001b[1;33m\u001b[0m\u001b[0m\n\u001b[0;32m      3\u001b[0m     \u001b[0mprint\u001b[0m\u001b[1;33m(\u001b[0m\u001b[0mpp\u001b[0m\u001b[1;33m)\u001b[0m\u001b[1;33m\u001b[0m\u001b[1;33m\u001b[0m\u001b[0m\n",
      "\u001b[1;31mFileNotFoundError\u001b[0m: [Errno 2] No such file or directory: 'new.json'"
     ]
    }
   ],
   "source": [
    "with open(\"new.json\",\"r\", encoding=\"utf-8\")   as  t  :\n",
    "    pp = json.load(t)\n",
    "    print(pp)"
   ]
  },
  {
   "cell_type": "code",
   "execution_count": 12,
   "id": "d44f367b-1528-45da-90cc-1d501d07f0e6",
   "metadata": {},
   "outputs": [
    {
     "name": "stdout",
     "output_type": "stream",
     "text": [
      "https://api.github.com/rate_limit\n"
     ]
    }
   ],
   "source": [
    "response = requests.get('https://api.github.com') # 웹에서 가져올때는 requests.get?\n",
    "\n",
    "if response.status_code == 200 :\n",
    "    json_object = json.loads(response.text) #loads 는 문자열로 올 때\n",
    "                                            #load는 파일로 올 때?\n",
    "print(json_object['rate_limit_url'])"
   ]
  },
  {
   "cell_type": "code",
   "execution_count": 8,
   "id": "cc0024e6-18a7-44cb-85eb-1f69143684d5",
   "metadata": {
    "tags": []
   },
   "outputs": [
    {
     "name": "stdout",
     "output_type": "stream",
     "text": [
      "{'current_user_url': 'https://api.github.com/user', 'current_user_authorizations_html_url': 'https://github.com/settings/connections/applications{/client_id}', 'authorizations_url': 'https://api.github.com/authorizations', 'code_search_url': 'https://api.github.com/search/code?q={query}{&page,per_page,sort,order}', 'commit_search_url': 'https://api.github.com/search/commits?q={query}{&page,per_page,sort,order}', 'emails_url': 'https://api.github.com/user/emails', 'emojis_url': 'https://api.github.com/emojis', 'events_url': 'https://api.github.com/events', 'feeds_url': 'https://api.github.com/feeds', 'followers_url': 'https://api.github.com/user/followers', 'following_url': 'https://api.github.com/user/following{/target}', 'gists_url': 'https://api.github.com/gists{/gist_id}', 'hub_url': 'https://api.github.com/hub', 'issue_search_url': 'https://api.github.com/search/issues?q={query}{&page,per_page,sort,order}', 'issues_url': 'https://api.github.com/issues', 'keys_url': 'https://api.github.com/user/keys', 'label_search_url': 'https://api.github.com/search/labels?q={query}&repository_id={repository_id}{&page,per_page}', 'notifications_url': 'https://api.github.com/notifications', 'organization_url': 'https://api.github.com/orgs/{org}', 'organization_repositories_url': 'https://api.github.com/orgs/{org}/repos{?type,page,per_page,sort}', 'organization_teams_url': 'https://api.github.com/orgs/{org}/teams', 'public_gists_url': 'https://api.github.com/gists/public', 'rate_limit_url': 'https://api.github.com/rate_limit', 'repository_url': 'https://api.github.com/repos/{owner}/{repo}', 'repository_search_url': 'https://api.github.com/search/repositories?q={query}{&page,per_page,sort,order}', 'current_user_repositories_url': 'https://api.github.com/user/repos{?type,page,per_page,sort}', 'starred_url': 'https://api.github.com/user/starred{/owner}{/repo}', 'starred_gists_url': 'https://api.github.com/gists/starred', 'topic_search_url': 'https://api.github.com/search/topics?q={query}{&page,per_page}', 'user_url': 'https://api.github.com/users/{user}', 'user_organizations_url': 'https://api.github.com/user/orgs', 'user_repositories_url': 'https://api.github.com/users/{user}/repos{?type,page,per_page,sort}', 'user_search_url': 'https://api.github.com/search/users?q={query}{&page,per_page,sort,order}'}\n"
     ]
    }
   ],
   "source": [
    "print(json_object)"
   ]
  },
  {
   "cell_type": "code",
   "execution_count": 9,
   "id": "c5384562-ff2f-4419-807c-56e0e56ae036",
   "metadata": {},
   "outputs": [
    {
     "data": {
      "text/plain": [
       "200"
      ]
     },
     "execution_count": 9,
     "metadata": {},
     "output_type": "execute_result"
    }
   ],
   "source": [
    "response.status_code"
   ]
  },
  {
   "cell_type": "code",
   "execution_count": null,
   "id": "39de2022-fbce-490b-9fea-aa9c16db5ae0",
   "metadata": {},
   "outputs": [],
   "source": [
    "web에서 받아와서 Myprog 으로 들여와서 File 로 만들 수 있음."
   ]
  },
  {
   "cell_type": "code",
   "execution_count": 365,
   "id": "b3011d98-1366-4d5d-a323-be4129004fee",
   "metadata": {},
   "outputs": [],
   "source": [
    "with open(\"new3.json\",\"w\", encoding=\"utf-8\")   as  test  :\n",
    "    test.write('hello')"
   ]
  },
  {
   "cell_type": "code",
   "execution_count": 366,
   "id": "96091cee-844e-41a2-ba10-69385b1a57fb",
   "metadata": {},
   "outputs": [
    {
     "name": "stdout",
     "output_type": "stream",
     "text": [
      "['hello']\n"
     ]
    }
   ],
   "source": [
    "with open(\"new3.json\",\"r\", encoding=\"utf-8\")   as  test  :\n",
    "    r = test.readlines()\n",
    "    print(r)"
   ]
  },
  {
   "cell_type": "code",
   "execution_count": 22,
   "id": "2bed70ef-7473-46cf-b611-b4e4150e6604",
   "metadata": {},
   "outputs": [],
   "source": [
    "response = requests.get('https://api.github.com') \n",
    "# json_object = json.loads(response.text)  .text가 str 문자열로 받아오는 거임.\n",
    "\n",
    "with open(\"new3.json\",\"w\", encoding=\"utf-8\")   as  test  :\n",
    "    test.write(response.text)"
   ]
  },
  {
   "cell_type": "code",
   "execution_count": 23,
   "id": "684a7ccd-8994-4bd8-927e-3c42a5de2dce",
   "metadata": {},
   "outputs": [
    {
     "name": "stdout",
     "output_type": "stream",
     "text": [
      "['{\\n', '  \"current_user_url\": \"https://api.github.com/user\",\\n', '  \"current_user_authorizations_html_url\": \"https://github.com/settings/connections/applications{/client_id}\",\\n', '  \"authorizations_url\": \"https://api.github.com/authorizations\",\\n', '  \"code_search_url\": \"https://api.github.com/search/code?q={query}{&page,per_page,sort,order}\",\\n', '  \"commit_search_url\": \"https://api.github.com/search/commits?q={query}{&page,per_page,sort,order}\",\\n', '  \"emails_url\": \"https://api.github.com/user/emails\",\\n', '  \"emojis_url\": \"https://api.github.com/emojis\",\\n', '  \"events_url\": \"https://api.github.com/events\",\\n', '  \"feeds_url\": \"https://api.github.com/feeds\",\\n', '  \"followers_url\": \"https://api.github.com/user/followers\",\\n', '  \"following_url\": \"https://api.github.com/user/following{/target}\",\\n', '  \"gists_url\": \"https://api.github.com/gists{/gist_id}\",\\n', '  \"hub_url\": \"https://api.github.com/hub\",\\n', '  \"issue_search_url\": \"https://api.github.com/search/issues?q={query}{&page,per_page,sort,order}\",\\n', '  \"issues_url\": \"https://api.github.com/issues\",\\n', '  \"keys_url\": \"https://api.github.com/user/keys\",\\n', '  \"label_search_url\": \"https://api.github.com/search/labels?q={query}&repository_id={repository_id}{&page,per_page}\",\\n', '  \"notifications_url\": \"https://api.github.com/notifications\",\\n', '  \"organization_url\": \"https://api.github.com/orgs/{org}\",\\n', '  \"organization_repositories_url\": \"https://api.github.com/orgs/{org}/repos{?type,page,per_page,sort}\",\\n', '  \"organization_teams_url\": \"https://api.github.com/orgs/{org}/teams\",\\n', '  \"public_gists_url\": \"https://api.github.com/gists/public\",\\n', '  \"rate_limit_url\": \"https://api.github.com/rate_limit\",\\n', '  \"repository_url\": \"https://api.github.com/repos/{owner}/{repo}\",\\n', '  \"repository_search_url\": \"https://api.github.com/search/repositories?q={query}{&page,per_page,sort,order}\",\\n', '  \"current_user_repositories_url\": \"https://api.github.com/user/repos{?type,page,per_page,sort}\",\\n', '  \"starred_url\": \"https://api.github.com/user/starred{/owner}{/repo}\",\\n', '  \"starred_gists_url\": \"https://api.github.com/gists/starred\",\\n', '  \"topic_search_url\": \"https://api.github.com/search/topics?q={query}{&page,per_page}\",\\n', '  \"user_url\": \"https://api.github.com/users/{user}\",\\n', '  \"user_organizations_url\": \"https://api.github.com/user/orgs\",\\n', '  \"user_repositories_url\": \"https://api.github.com/users/{user}/repos{?type,page,per_page,sort}\",\\n', '  \"user_search_url\": \"https://api.github.com/search/users?q={query}{&page,per_page,sort,order}\"\\n', '}\\n']\n"
     ]
    }
   ],
   "source": [
    "with open(\"new3.json\",\"r\", encoding=\"utf-8\")   as  test  :\n",
    "    r = test.readlines()\n",
    "    print(r)  #어떻게 하는지 확인할것. #굳/"
   ]
  },
  {
   "cell_type": "code",
   "execution_count": null,
   "id": "05987445-7863-45c1-8d1b-453b19d8a635",
   "metadata": {},
   "outputs": [],
   "source": []
  }
 ],
 "metadata": {
  "kernelspec": {
   "display_name": "Python 3 (ipykernel)",
   "language": "python",
   "name": "python3"
  },
  "language_info": {
   "codemirror_mode": {
    "name": "ipython",
    "version": 3
   },
   "file_extension": ".py",
   "mimetype": "text/x-python",
   "name": "python",
   "nbconvert_exporter": "python",
   "pygments_lexer": "ipython3",
   "version": "3.9.7"
  }
 },
 "nbformat": 4,
 "nbformat_minor": 5
}
