{
 "cells": [
  {
   "cell_type": "markdown",
   "id": "f11f9edf-9bdd-45ca-a759-bdb7005ce08d",
   "metadata": {},
   "source": [
    "# 첫번째 파이썬"
   ]
  },
  {
   "cell_type": "code",
   "execution_count": 11,
   "id": "3ec8c9b7-039f-4678-a6af-3ca1bc02218e",
   "metadata": {},
   "outputs": [
    {
     "name": "stdout",
     "output_type": "stream",
     "text": [
      "안녕하세요\n"
     ]
    }
   ],
   "source": [
    "print('안녕하세요')"
   ]
  },
  {
   "cell_type": "markdown",
   "id": "c195abd8-01f5-43a0-80c0-e4b8bb7a6703",
   "metadata": {},
   "source": [
    "**python**"
   ]
  },
  {
   "cell_type": "markdown",
   "id": "59305e04-17e0-453b-b650-d75aff369c1a",
   "metadata": {},
   "source": [
    "# 이거구나"
   ]
  },
  {
   "cell_type": "markdown",
   "id": "d3430c87-f21f-4a5a-9ac3-6b2c05bb7d62",
   "metadata": {},
   "source": [
    "*이렇게*"
   ]
  },
  {
   "cell_type": "markdown",
   "id": "8937749e-6a31-41ba-b5b9-986df87b2931",
   "metadata": {},
   "source": [
    "- python\n",
    "    - first\n",
    "    - good"
   ]
  },
  {
   "cell_type": "markdown",
   "id": "c234f5f6-58c2-4aa8-99db-44201bc81edd",
   "metadata": {},
   "source": [
    "<u>밑줄?</u>"
   ]
  },
  {
   "cell_type": "markdown",
   "id": "24adcb4f-0516-49a4-b997-acd8ed1e0ad9",
   "metadata": {},
   "source": [
    "줄바꿈이\\\n",
    "적용되는건가 \\\n",
    "흐음..."
   ]
  },
  {
   "cell_type": "markdown",
   "id": "845c4274-5079-41f1-8f52-f8bb670bc11b",
   "metadata": {},
   "source": [
    "수평규칙? 이건 뭐지\n",
    "___"
   ]
  },
  {
   "cell_type": "markdown",
   "id": "febd3a35-8ddd-44fe-b174-d67ca1df0d3c",
   "metadata": {},
   "source": [
    "***"
   ]
  },
  {
   "cell_type": "markdown",
   "id": "eb097ac4-3fd6-440f-b786-384136eff42d",
   "metadata": {},
   "source": [
    "별표\n",
    "\n",
    "***"
   ]
  },
  {
   "cell_type": "markdown",
   "id": "9f9832a0-c647-4771-987e-2177284016ea",
   "metadata": {},
   "source": [
    "~~~~\n",
    "This is a \n",
    "piece of code\n",
    "in a block\n",
    "~~~~"
   ]
  },
  {
   "cell_type": "markdown",
   "id": "bcc36e92-c1a0-49af-9422-eca1c5cb8f60",
   "metadata": {},
   "source": [
    "# 얘는 확장자가 .ipynb 네"
   ]
  },
  {
   "cell_type": "code",
   "execution_count": 29,
   "id": "31646dee-4031-44bb-8cfd-39a70e65c0f0",
   "metadata": {},
   "outputs": [],
   "source": [
    "#ac.kr ? 그거는 대학생 무료라는데 확인해보자"
   ]
  },
  {
   "cell_type": "markdown",
   "id": "8a84384d-3345-40fd-9357-20cf90a7ad63",
   "metadata": {},
   "source": [
    "<dl>\n",
    "    \n",
    "  <dt>아이템 1 제목</dt>\n",
    "  <dd>아이템 1 내용 입니다.</dd>\n",
    "\n",
    "  <dt>아이템 2 제목</dt>\n",
    "  <dd>아이템 2 내용 입니다.</dd>\n",
    "</dl>"
   ]
  },
  {
   "cell_type": "markdown",
   "id": "7c97cfdf-16ca-4531-90ec-813d74867db8",
   "metadata": {},
   "source": [
    "* 이거?"
   ]
  },
  {
   "cell_type": "markdown",
   "id": "8066bb43-a975-4913-bb3d-be45fe006e9f",
   "metadata": {},
   "source": [
    "- 똑같나?"
   ]
  },
  {
   "cell_type": "code",
   "execution_count": null,
   "id": "196b8d2f-f4da-4d51-8491-ef1a4d92125e",
   "metadata": {},
   "outputs": [],
   "source": []
  }
 ],
 "metadata": {
  "kernelspec": {
   "display_name": "Python 3 (ipykernel)",
   "language": "python",
   "name": "python3"
  },
  "language_info": {
   "codemirror_mode": {
    "name": "ipython",
    "version": 3
   },
   "file_extension": ".py",
   "mimetype": "text/x-python",
   "name": "python",
   "nbconvert_exporter": "python",
   "pygments_lexer": "ipython3",
   "version": "3.9.7"
  }
 },
 "nbformat": 4,
 "nbformat_minor": 5
}
