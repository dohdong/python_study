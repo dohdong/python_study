{
 "cells": [
  {
   "cell_type": "markdown",
   "id": "daacdc2f-16c5-4a78-9109-f96ceb46e3a8",
   "metadata": {},
   "source": [
    "# 변수.. Variables"
   ]
  },
  {
   "cell_type": "markdown",
   "id": "db415c2b-0815-4cf9-a49d-7ba1553db672",
   "metadata": {},
   "source": [
    "## 1. 변수 이름 규칙"
   ]
  },
  {
   "cell_type": "markdown",
   "id": "78778d82-d0a5-42fd-90e1-f99e67759c0a",
   "metadata": {},
   "source": [
    "- 변수 이름의 첫글자는 반드시 영문자 또는 언더바( _ ) 여야 한다.\n",
    "- 숫자나 특수문자로 시작x\n",
    "- 영문자의 대소문자 구분\n",
    "- 키워드는 사용불가\n",
    "- 카멜표기법으로 하자"
   ]
  },
  {
   "cell_type": "markdown",
   "id": "98d0e1bf-56be-4db2-8942-d200cc096707",
   "metadata": {},
   "source": [
    "정수 int  실수 float  문자열 string 의 자료형을 제대로 알고 구분해야지"
   ]
  },
  {
   "cell_type": "code",
   "execution_count": 19,
   "id": "ee4d9bbb-c51d-4b96-a15c-dcaa94af4edb",
   "metadata": {},
   "outputs": [
    {
     "name": "stdout",
     "output_type": "stream",
     "text": [
      "5\n",
      "7\n",
      "<class 'int'>\n"
     ]
    }
   ],
   "source": [
    "a = 5\n",
    "\n",
    "print(a)\n",
    "\n",
    "a = 7\n",
    "\n",
    "print(a)\n",
    "\n",
    "print(type(a))"
   ]
  },
  {
   "cell_type": "code",
   "execution_count": null,
   "id": "0538af41-00b3-48bc-8203-fdacf87437ef",
   "metadata": {},
   "outputs": [
    {
     "ename": "SyntaxError",
     "evalue": "cannot assign to literal (Temp/ipykernel_5272/1518929445.py, line 1)",
     "output_type": "error",
     "traceback": [
      "\u001b[1;36m  File \u001b[1;32m\"C:\\Users\\BIT\\AppData\\Local\\Temp/ipykernel_5272/1518929445.py\"\u001b[1;36m, line \u001b[1;32m1\u001b[0m\n\u001b[1;33m    3 = 5\u001b[0m\n\u001b[1;37m    ^\u001b[0m\n\u001b[1;31mSyntaxError\u001b[0m\u001b[1;31m:\u001b[0m cannot assign to literal\n"
     ]
    }
   ],
   "source": [
    "3 = 5"
   ]
  },
  {
   "cell_type": "code",
   "execution_count": 22,
   "id": "c20288ce-a3c4-44fd-9b6a-99d97a86fa2c",
   "metadata": {},
   "outputs": [
    {
     "name": "stdout",
     "output_type": "stream",
     "text": [
      "3.0\n",
      "<class 'float'>\n",
      "hello\n",
      "<class 'str'>\n"
     ]
    }
   ],
   "source": [
    "b = 3.0\n",
    "print(b)\n",
    "print(type(b))\n",
    "\n",
    "b = 'hello'\n",
    "print(b)\n",
    "print(type(b))"
   ]
  },
  {
   "cell_type": "code",
   "execution_count": 38,
   "id": "dce0d10e-08b5-4e26-97e9-7f7af73cedd8",
   "metadata": {},
   "outputs": [
    {
     "name": "stdout",
     "output_type": "stream",
     "text": [
      "12\n",
      "12\n",
      "a + b =  12\n",
      "5\n",
      "-2\n",
      "14\n",
      "35\n",
      "0.7142857142857143\n"
     ]
    }
   ],
   "source": [
    "a = 5 \n",
    "b = 7\n",
    "c = a + b\n",
    "d = a - b\n",
    "e = a * b\n",
    "f = a / b\n",
    "\n",
    "\n",
    "print(a + b)\n",
    "print(c)\n",
    "\n",
    "print('a + b = ', a + b)\n",
    "\n",
    "print(a)\n",
    "\n",
    "print(d)\n",
    "\n",
    "print(c-d)\n",
    "\n",
    "print(e)\n",
    "\n",
    "print(f)\n",
    "\n",
    "\n"
   ]
  },
  {
   "cell_type": "code",
   "execution_count": 54,
   "id": "b3d81b66-3089-407c-af6a-92c783e1a28f",
   "metadata": {},
   "outputs": [
    {
     "name": "stdout",
     "output_type": "stream",
     "text": [
      "16\n",
      "16\n",
      "16\n",
      "16\n",
      "<class 'int'>\n"
     ]
    }
   ],
   "source": [
    "a = 3\n",
    "b = 8\n",
    "c = a + b\n",
    "d = a - b\n",
    "\n",
    "print (c-d)\n",
    "\n",
    "a = 3\n",
    "b = 8\n",
    "c = a + b\n",
    "print (c-(a-b))\n",
    "\n",
    "a = 3 \n",
    "b = 8 \n",
    "c = a + b\n",
    "print( 2*b)\n",
    "\n",
    "\n",
    "\n",
    "\n",
    "a = 3\n",
    "b = 8\n",
    "c = (a + b) - (a - b)\n",
    "print( c)\n",
    "# 하긴 덧셈뺄셈에 새로운게 없지..\n",
    "\n",
    "print(type(c))"
   ]
  },
  {
   "cell_type": "code",
   "execution_count": 58,
   "id": "02d09754-256c-40d8-90ea-59a49277b52b",
   "metadata": {},
   "outputs": [
    {
     "name": "stdout",
     "output_type": "stream",
     "text": [
      "5.699999999999999\n",
      "1.1\n"
     ]
    }
   ],
   "source": [
    "a = 3.4\n",
    "b = 2.3\n",
    "c = a + b\n",
    "d = a - b\n",
    "print(c)\n",
    "print(d)"
   ]
  },
  {
   "cell_type": "code",
   "execution_count": 67,
   "id": "49b3962e-9f87-440f-a285-b2f19ef179c2",
   "metadata": {},
   "outputs": [
    {
     "name": "stdout",
     "output_type": "stream",
     "text": [
      "25.700000000000003\n"
     ]
    }
   ],
   "source": [
    "a = 13.4\n",
    "b = 12.3\n",
    "c = a + b\n",
    "print(c)"
   ]
  },
  {
   "cell_type": "markdown",
   "id": "448640da-575b-43bb-a6c2-a51ed60a71ff",
   "metadata": {},
   "source": []
  }
 ],
 "metadata": {
  "kernelspec": {
   "display_name": "Python 3 (ipykernel)",
   "language": "python",
   "name": "python3"
  },
  "language_info": {
   "codemirror_mode": {
    "name": "ipython",
    "version": 3
   },
   "file_extension": ".py",
   "mimetype": "text/x-python",
   "name": "python",
   "nbconvert_exporter": "python",
   "pygments_lexer": "ipython3",
   "version": "3.9.7"
  }
 },
 "nbformat": 4,
 "nbformat_minor": 5
}
