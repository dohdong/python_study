{
 "cells": [
  {
   "cell_type": "markdown",
   "id": "37a75741-2dcb-41bd-8a4f-5df51ce970c5",
   "metadata": {},
   "source": [
    "# Day1"
   ]
  },
  {
   "cell_type": "code",
   "execution_count": 5,
   "id": "4d280e01-63d7-4dbc-87ca-3ade7fd18416",
   "metadata": {},
   "outputs": [
    {
     "name": "stdout",
     "output_type": "stream",
     "text": [
      "1\n"
     ]
    }
   ],
   "source": [
    "print(1)"
   ]
  },
  {
   "cell_type": "code",
   "execution_count": 1,
   "id": "da2a1988-023f-4756-8af8-2608c0c77603",
   "metadata": {},
   "outputs": [
    {
     "name": "stdin",
     "output_type": "stream",
     "text": [
      "이름 ㅇ\n"
     ]
    },
    {
     "data": {
      "text/plain": [
       "'ㅇ'"
      ]
     },
     "execution_count": 1,
     "metadata": {},
     "output_type": "execute_result"
    }
   ],
   "source": [
    "input ('이름')"
   ]
  },
  {
   "cell_type": "markdown",
   "id": "3b6a8799-4430-47e5-b5c1-9f407cba6bc9",
   "metadata": {},
   "source": [
    "###### 정수 실수 "
   ]
  },
  {
   "cell_type": "code",
   "execution_count": 6,
   "id": "7f3b5ea1-dfce-4836-a36f-41d0ef4c1cab",
   "metadata": {},
   "outputs": [
    {
     "name": "stdout",
     "output_type": "stream",
     "text": [
      "0.3\n"
     ]
    }
   ],
   "source": [
    "print(0.3)"
   ]
  },
  {
   "cell_type": "code",
   "execution_count": 7,
   "id": "cfa44fca-dd9b-458f-a4c9-96a615be1fb0",
   "metadata": {},
   "outputs": [
    {
     "name": "stdout",
     "output_type": "stream",
     "text": [
      "5.0\n"
     ]
    }
   ],
   "source": [
    "print(5.0)"
   ]
  },
  {
   "cell_type": "code",
   "execution_count": 8,
   "id": "5b97abd2-6614-47e0-81e3-b33fd6fd34d2",
   "metadata": {},
   "outputs": [
    {
     "name": "stdout",
     "output_type": "stream",
     "text": [
      "hello\n"
     ]
    }
   ],
   "source": [
    "print('hello')"
   ]
  },
  {
   "cell_type": "code",
   "execution_count": 10,
   "id": "e491e2d0-59f6-472b-a350-af7a2d3cba68",
   "metadata": {},
   "outputs": [
    {
     "name": "stdout",
     "output_type": "stream",
     "text": [
      "\n",
      "안녕하세요\n"
     ]
    }
   ],
   "source": [
    "print()\n",
    "print('안녕하세요')"
   ]
  },
  {
   "cell_type": "code",
   "execution_count": 12,
   "id": "93d95d44-1396-4a4b-a1e6-4cbcfc0d817a",
   "metadata": {},
   "outputs": [
    {
     "name": "stdout",
     "output_type": "stream",
     "text": [
      "박성빈\n"
     ]
    }
   ],
   "source": [
    "print('박성빈')"
   ]
  },
  {
   "cell_type": "code",
   "execution_count": 17,
   "id": "de78d324-2f46-42e4-b154-9eae7ce0aaad",
   "metadata": {},
   "outputs": [
    {
     "name": "stdout",
     "output_type": "stream",
     "text": [
      "줄을 바꾸는\n",
      "\n",
      "\n",
      "\n",
      "\n",
      "\n",
      "방법\n"
     ]
    }
   ],
   "source": [
    "print('줄을 바꾸는\\n\\n\\n\\n\\n\\n방법')"
   ]
  },
  {
   "cell_type": "code",
   "execution_count": 14,
   "id": "2fe75cd4-2ed2-49d3-b52c-cbd3b9f78681",
   "metadata": {},
   "outputs": [
    {
     "name": "stdout",
     "output_type": "stream",
     "text": [
      "hello\\ boy\n"
     ]
    }
   ],
   "source": [
    "print('hello\\ boy')"
   ]
  },
  {
   "cell_type": "code",
   "execution_count": 25,
   "id": "feb9ae93-24ce-4ad4-8668-614379e7509d",
   "metadata": {},
   "outputs": [
    {
     "name": "stdout",
     "output_type": "stream",
     "text": [
      "안녕하세요\t 박성빈입니다\n"
     ]
    }
   ],
   "source": [
    "print('안녕하세요\\t 박성빈입니다') # \\t 탭문자 #은 주석이당"
   ]
  },
  {
   "cell_type": "code",
   "execution_count": 28,
   "id": "d7277abe-0c2f-4201-8706-d89154f9d431",
   "metadata": {},
   "outputs": [
    {
     "name": "stdin",
     "output_type": "stream",
     "text": [
      "이름이 뭐니 성빈\n"
     ]
    },
    {
     "data": {
      "text/plain": [
       "'성빈'"
      ]
     },
     "execution_count": 28,
     "metadata": {},
     "output_type": "execute_result"
    }
   ],
   "source": [
    "input('이름이 뭐니')"
   ]
  },
  {
   "cell_type": "code",
   "execution_count": 29,
   "id": "91cdb98b-45ea-4c02-8ff1-6c1fde96189d",
   "metadata": {},
   "outputs": [
    {
     "name": "stdout",
     "output_type": "stream",
     "text": [
      "hello\n",
      "hi\n"
     ]
    }
   ],
   "source": [
    "print('hello') ; print('hi')"
   ]
  },
  {
   "cell_type": "code",
   "execution_count": 30,
   "id": "25fb2203-1c55-4a64-9181-9e77b51e31d3",
   "metadata": {},
   "outputs": [
    {
     "name": "stdin",
     "output_type": "stream",
     "text": [
      "dh 3\n"
     ]
    },
    {
     "data": {
      "text/plain": [
       "'3'"
      ]
     },
     "execution_count": 30,
     "metadata": {},
     "output_type": "execute_result"
    }
   ],
   "source": [
    "input('dh')"
   ]
  },
  {
   "cell_type": "code",
   "execution_count": 32,
   "id": "623f4066-0deb-49ef-a4b5-2d119856107d",
   "metadata": {},
   "outputs": [
    {
     "name": "stdin",
     "output_type": "stream",
     "text": [
      "0.3 3\n"
     ]
    },
    {
     "data": {
      "text/plain": [
       "'3'"
      ]
     },
     "execution_count": 32,
     "metadata": {},
     "output_type": "execute_result"
    }
   ],
   "source": [
    "input('0.3')"
   ]
  },
  {
   "cell_type": "code",
   "execution_count": 33,
   "id": "fba6c58f-8758-4d5b-aa2e-7a72d7ed788e",
   "metadata": {},
   "outputs": [
    {
     "name": "stdin",
     "output_type": "stream",
     "text": [
      "3 2\n"
     ]
    },
    {
     "data": {
      "text/plain": [
       "'2'"
      ]
     },
     "execution_count": 33,
     "metadata": {},
     "output_type": "execute_result"
    }
   ],
   "source": [
    "input(3)"
   ]
  },
  {
   "cell_type": "markdown",
   "id": "909cf3cf-0973-4345-a463-b4b3b1c869a0",
   "metadata": {},
   "source": [
    "### 지금 이렇게 해도 자료형이 다르지만 파이썬은 해결되는데 이렇게 하면 안좋으니까 잘 맞춰서 해줘야함"
   ]
  },
  {
   "cell_type": "code",
   "execution_count": 35,
   "id": "d340ead4-ac0a-48b1-b5da-3751f7bd78a8",
   "metadata": {},
   "outputs": [
    {
     "name": "stdout",
     "output_type": "stream",
     "text": [
      "hello\n",
      "hi\n"
     ]
    }
   ],
   "source": [
    "print('hello') ; print('hi')"
   ]
  },
  {
   "cell_type": "code",
   "execution_count": 37,
   "id": "0040d7f4-ca6f-4e19-bf3c-c9d65dd34573",
   "metadata": {},
   "outputs": [
    {
     "name": "stdout",
     "output_type": "stream",
     "text": [
      "hello\n",
      "hi\n"
     ]
    }
   ],
   "source": [
    "print('hello') \n",
    "print('hi')"
   ]
  },
  {
   "cell_type": "code",
   "execution_count": 38,
   "id": "69c6d3cd-eed7-4d67-b749-b7a009689448",
   "metadata": {},
   "outputs": [
    {
     "ename": "SyntaxError",
     "evalue": "invalid syntax (Temp/ipykernel_6496/3841918912.py, line 1)",
     "output_type": "error",
     "traceback": [
      "\u001b[1;36m  File \u001b[1;32m\"C:\\Users\\BIT\\AppData\\Local\\Temp/ipykernel_6496/3841918912.py\"\u001b[1;36m, line \u001b[1;32m1\u001b[0m\n\u001b[1;33m    print('hello') print('hi')\u001b[0m\n\u001b[1;37m                   ^\u001b[0m\n\u001b[1;31mSyntaxError\u001b[0m\u001b[1;31m:\u001b[0m invalid syntax\n"
     ]
    }
   ],
   "source": [
    "print('hello') print('hi')"
   ]
  },
  {
   "cell_type": "code",
   "execution_count": null,
   "id": "cb0f4767-c5ec-4b3d-b41f-9de1f33d1b94",
   "metadata": {},
   "outputs": [],
   "source": []
  },
  {
   "cell_type": "code",
   "execution_count": null,
   "id": "7f69ca90-8280-4751-bfe2-af95f49e994d",
   "metadata": {},
   "outputs": [],
   "source": []
  },
  {
   "cell_type": "markdown",
   "id": "06360155-b72e-4384-a622-a1cfd9da9a25",
   "metadata": {},
   "source": [
    "# 블락 규칙"
   ]
  },
  {
   "cell_type": "markdown",
   "id": "8790c6ab-b9da-4ea1-a20a-a502cd07e2fa",
   "metadata": {
    "tags": []
   },
   "source": [
    "### 파이썬은 { } 이런거 안쓰고 들여쓰기로 해결함"
   ]
  },
  {
   "cell_type": "markdown",
   "id": "02d27b42-d074-4a4a-ad87-2a782e0be277",
   "metadata": {},
   "source": [
    "#### 주석이 되었군"
   ]
  },
  {
   "cell_type": "code",
   "execution_count": 54,
   "id": "945e1e68-e934-4bca-9e19-02db62332c3c",
   "metadata": {},
   "outputs": [],
   "source": [
    "age = 20\n",
    "\n",
    "# if(age >=20) :\n",
    "#     print('성인입니다.')\n",
    "# print('끝')\n",
    "\n",
    "# 드래그해서 주석은 ctrl + / 입니다."
   ]
  },
  {
   "cell_type": "markdown",
   "id": "7c46d528-67c3-4ab9-b410-ed36e1304387",
   "metadata": {},
   "source": [
    "###### doctring 이라고 합니다"
   ]
  },
  {
   "cell_type": "code",
   "execution_count": 56,
   "id": "907caeb7-eecc-44a7-a4e1-a21474247047",
   "metadata": {},
   "outputs": [
    {
     "name": "stdout",
     "output_type": "stream",
     "text": [
      "성인입니다.\n",
      "끝\n",
      "되는뎅\n"
     ]
    }
   ],
   "source": [
    "age = 20\n",
    "\n",
    "if(age >=20) :\n",
    "    print('성인입니다.')\n",
    "\"\"\"\n",
    "여러줄 주석은\n",
    "이렇게 추가할 수 있\n",
    "습\n",
    "니\n",
    "다\n",
    "\"\"\"\n",
    "\n",
    "print('끝')\n",
    "\n",
    "'''\n",
    "작은따옴표로도\n",
    "된답니다\n",
    "'''\n",
    "print('되는뎅')\n"
   ]
  },
  {
   "cell_type": "code",
   "execution_count": 57,
   "id": "e71e56b3-d579-4752-824a-6e30cb384487",
   "metadata": {},
   "outputs": [
    {
     "name": "stdout",
     "output_type": "stream",
     "text": [
      "new\n"
     ]
    }
   ],
   "source": [
    "print('new')"
   ]
  },
  {
   "cell_type": "code",
   "execution_count": 59,
   "id": "2268d3dc-5615-4f0b-ac1b-7be96d69c4fe",
   "metadata": {},
   "outputs": [
    {
     "name": "stdout",
     "output_type": "stream",
     "text": [
      "hello\n"
     ]
    }
   ],
   "source": [
    "'''\n",
    "안되는 건가 \n",
    "흐음\n",
    "'''\n",
    "print('hello')"
   ]
  },
  {
   "cell_type": "code",
   "execution_count": null,
   "id": "a5e4c48a-b9d8-44a4-ad0a-e63ecaba4e9b",
   "metadata": {},
   "outputs": [],
   "source": []
  },
  {
   "cell_type": "markdown",
   "id": "6ecf3f74-b13f-4cc0-9f97-bb8fe603b3bc",
   "metadata": {},
   "source": [
    "+ `+`,`-` 또는`*`를 사용하여 행을 시작하여 목록을 만들게 됩니다.\n",
    "+ 하위 목록은 2 칸을 들여서 만들어집니다:\n",
    "    - 마커 문자 변경으로 새로운 목록 시작:\n",
    "       * 하위 점이 있다면 대시 또는 별 앞에 두 칸을 놓으십시오.\n",
    "       + 이어서 테스트\n",
    "       - 대시는 잘 작동합니다.\n",
    "+ 매우 쉽습니다!\n",
    "\n",
    "- Dashes work just as well\n",
    "- And if you have sub points, put two spaces before the dash or star:\n",
    "    - 하위\n",
    "    - 하위 아이템\n",
    "- 대시는 잘 작동합니다.\n",
    "- 그리고 하위 점이 있다면 대시 또는 별 앞에 두 칸을 놓으십시오."
   ]
  },
  {
   "cell_type": "code",
   "execution_count": null,
   "id": "f2885be1-6abe-4c9d-bed4-35013d52ecf3",
   "metadata": {},
   "outputs": [],
   "source": []
  }
 ],
 "metadata": {
  "kernelspec": {
   "display_name": "Python 3 (ipykernel)",
   "language": "python",
   "name": "python3"
  },
  "language_info": {
   "codemirror_mode": {
    "name": "ipython",
    "version": 3
   },
   "file_extension": ".py",
   "mimetype": "text/x-python",
   "name": "python",
   "nbconvert_exporter": "python",
   "pygments_lexer": "ipython3",
   "version": "3.9.7"
  }
 },
 "nbformat": 4,
 "nbformat_minor": 5
}
