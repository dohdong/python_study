{
 "cells": [
  {
   "cell_type": "code",
   "execution_count": 3,
   "id": "b47e23f9-072b-40c4-87a6-e86ee044f23b",
   "metadata": {},
   "outputs": [],
   "source": [
    "class Account:\n",
    "    def __init__(self, name):\n",
    "        self.__name = name\n",
    "        self.__money = 0\n",
    "    \n",
    "    def get_name(self):\n",
    "        return self.__name\n",
    "    \n",
    "    def set_name(self, name):\n",
    "        self.__name = name\n",
    "        \n",
    "    def get_money(self):\n",
    "        return self.__money\n",
    "    \n",
    "    def set_money(self, money):\n",
    "        self.__money = money\n",
    "        \n",
    "    #     #이름변경\n",
    "    # def change_id(self, name):\n",
    "    #     self.set_name(name)\n",
    "        \n",
    "        #입금\n",
    "    def deposit(self, money):\n",
    "        self.__money = self.__money + money\n",
    "        \n",
    "        #출금\n",
    "    def withdraw(self, money):\n",
    "        if money > self.__money:                     #잔액 < 출금액\n",
    "            print('잔액이 부족합니다.') \n",
    "        else:\n",
    "            self.__money = self.__money - money\n",
    "            \n",
    "        #송금\n",
    "    def transfer(self, money, other):\n",
    "        if money > self.__money:\n",
    "            print('잔액이 부족합니다.')\n",
    "        else:\n",
    "            self.__money = self.__money - money\n",
    "            other.set_money(other.get_money() + money)"
   ]
  },
  {
   "cell_type": "code",
   "execution_count": 4,
   "id": "880d56cc-be3e-4473-9062-34a7f5c83b66",
   "metadata": {},
   "outputs": [],
   "source": [
    "name_l = list()\n",
    "def make_id():\n",
    "    name = input('이름을 입력하세요.')\n",
    "    name = Account(name)\n",
    "    name_l.append(name)"
   ]
  },
  {
   "cell_type": "code",
   "execution_count": 5,
   "id": "02d03ec3-d647-48c0-83f1-642f4bc78af6",
   "metadata": {},
   "outputs": [
    {
     "name": "stdin",
     "output_type": "stream",
     "text": [
      "1 : 계좌개설 / 2 : 입금 / 3 : 출금 / 4 : 송금 / 5 : 잔액확인 / 0 : 종료 1\n",
      "이름을 입력하세요. 박\n",
      "1 : 계좌개설 / 2 : 입금 / 3 : 출금 / 4 : 송금 / 5 : 잔액확인 / 0 : 종료 2\n",
      "계좌 이름을 입력하세요. 박\n",
      "금액을 입력하세요. 100\n"
     ]
    },
    {
     "name": "stdout",
     "output_type": "stream",
     "text": [
      "100\n"
     ]
    },
    {
     "name": "stdin",
     "output_type": "stream",
     "text": [
      "1 : 계좌개설 / 2 : 입금 / 3 : 출금 / 4 : 송금 / 5 : 잔액확인 / 0 : 종료 3\n",
      "계좌 이름을 입력하세요. 박\n",
      "금액을 입력하세요. 20\n"
     ]
    },
    {
     "name": "stdout",
     "output_type": "stream",
     "text": [
      "80\n"
     ]
    },
    {
     "name": "stdin",
     "output_type": "stream",
     "text": [
      "1 : 계좌개설 / 2 : 입금 / 3 : 출금 / 4 : 송금 / 5 : 잔액확인 / 0 : 종료 3\n",
      "계좌 이름을 입력하세요. 성\n",
      "1 : 계좌개설 / 2 : 입금 / 3 : 출금 / 4 : 송금 / 5 : 잔액확인 / 0 : 종료 100\n",
      "1 : 계좌개설 / 2 : 입금 / 3 : 출금 / 4 : 송금 / 5 : 잔액확인 / 0 : 종료 3\n",
      "계좌 이름을 입력하세요. 성\n",
      "1 : 계좌개설 / 2 : 입금 / 3 : 출금 / 4 : 송금 / 5 : 잔액확인 / 0 : 종료 0\n"
     ]
    }
   ],
   "source": [
    "while True:\n",
    "    num = input('1 : 계좌개설 / 2 : 입금 / 3 : 출금 / 4 : 송금 / 5 : 잔액확인 / 0 : 종료')\n",
    "    if num == '0':\n",
    "        break\n",
    "        #개설\n",
    "    elif num == '1':\n",
    "        make_id()\n",
    "        #입금\n",
    "    elif num == '2':\n",
    "        account_name = input('계좌 이름을 입력하세요.')\n",
    "        for i in name_l:                               # 이때 i 타입은 Account. \n",
    "                                                      # 그래서 i.get_name() 으로\n",
    "                                                      # 계좌번호 받아와서 비교가 가능.\n",
    "            if i.get_name() == account_name:\n",
    "                money = int(input('금액을 입력하세요.'))\n",
    "                i.deposit(money)\n",
    "                print(i.get_money())\n",
    "                break\n",
    "        #출금\n",
    "    elif num == '3':\n",
    "        account_name = input('계좌 이름을 입력하세요.')\n",
    "        for i in name_l:\n",
    "            if account_name == i.get_name():\n",
    "                money = int(input('금액을 입력하세요.'))\n",
    "                i.withdraw(money)\n",
    "                print(i.get_money())\n",
    "                break\n",
    "        #송금\n",
    "    elif num == '4':\n",
    "        account_name = input('출금계좌 이름을 입력하세요.')\n",
    "        for i in name_l:\n",
    "            if account_name == i.get_name():\n",
    "                receiver_name = input('입금계좌 이름을 입력하세요.')\n",
    "                for j in name_l:\n",
    "                    if receiver_name == j.get_name():\n",
    "                        money = int(input('금액을 입력하세요.'))\n",
    "                        i.transfer(money, j)\n",
    "                        print(i.get_money(), j.get_money())\n",
    "                        break\n",
    "                break\n",
    "        #잔액확인\n",
    "    elif num == '5':\n",
    "        account_name = input('출금계좌 이름을 입력하세요.')\n",
    "        for i in name_l:\n",
    "            if account_name == i.get_name():\n",
    "                print(i.get_money())\n",
    "                break"
   ]
  },
  {
   "cell_type": "code",
   "execution_count": null,
   "id": "59c77454-cf27-433f-a823-e5ea7a8fca0b",
   "metadata": {},
   "outputs": [],
   "source": []
  }
 ],
 "metadata": {
  "kernelspec": {
   "display_name": "Python 3 (ipykernel)",
   "language": "python",
   "name": "python3"
  },
  "language_info": {
   "codemirror_mode": {
    "name": "ipython",
    "version": 3
   },
   "file_extension": ".py",
   "mimetype": "text/x-python",
   "name": "python",
   "nbconvert_exporter": "python",
   "pygments_lexer": "ipython3",
   "version": "3.9.7"
  }
 },
 "nbformat": 4,
 "nbformat_minor": 5
}
