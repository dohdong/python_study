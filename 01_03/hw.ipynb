{
 "cells": [
  {
   "cell_type": "code",
   "execution_count": 93,
   "id": "57bca006-3937-47b9-8361-fed05511d3c9",
   "metadata": {},
   "outputs": [],
   "source": [
    "class Account :\n",
    "    account_cnt = 0\n",
    "    def __init__(self, num) : # 생성자\n",
    "        self.__num = num    \n",
    "        self.__balance = 0  # __ 를 붙여서 밖에서 불러올 수 없게 만든다.\n",
    "                            # __ 는 private 으로 만들어진것.\n",
    "                            # 이때 get 을 이용해서 불러올 수 있다.\n",
    "            \n",
    "        Account.account_cnt = Account.account_cnt + 1\n",
    "        #  print(Account.account_cnt)\n",
    "\n",
    "            \n",
    "    def get__name(self) :    # get 하는 법\n",
    "        return self.__num    # 객체 내부의 값을 외부로 내보내줌.\n",
    "     \n",
    "    def get__balance(self) :\n",
    "        return self.__balance \n",
    "    \n",
    "    def set__num(self, num) :    # set은 get 과 반대됨. get은 리턴값이 있고,\n",
    "        self.__num = num           #  set은 외부 값을 대입함.\n",
    "    \n",
    "    def set__balance(self, balance ) : \n",
    "        self.__balance = balance\n",
    "    \n",
    "    # 입금\n",
    "    def deposit(self, money) : \n",
    "        self.__balance = self.__balance + money\n",
    "        # return self.__balance\n",
    "        \n",
    "    # 출금   \n",
    "    def withdraw(self, money) :\n",
    "        if self.__balance >= money :\n",
    "            self.__balance = self.__balance - money\n",
    "        else :\n",
    "            print('잔액이 부족합니다.')\n",
    "    \n",
    "    # 송금\n",
    "    def transfer(self, money, other) :\n",
    "        # print(type(other)) #하면 <class '__main__.Account'> 즉 Account 타입.(Class)\n",
    "        self.__balance = self.__balance - money\n",
    "        other.__balance = other.__balance + money  \n",
    "        # other.set__balance(other.get__balance() + money) \n",
    "        # other 가 같은 class 안 이 아니라 밖에 있으면 이렇게 불러와야함.\n",
    "    \n",
    "    # 정보 출력\n",
    "    def print_info(self) :\n",
    "        print('계좌번호 %d 번 잔액은 %d 입니다.' %(self.__num,self.__balance) )\n",
    "    \n",
    "    # 계좌 갯수 출력    클래스 당 1개\n",
    "    @classmethod\n",
    "    def print_account_cnt(cls) :\n",
    "        print(cls.account_cnt)"
   ]
  },
  {
   "cell_type": "markdown",
   "id": "1a7434d6-2d0b-4cf5-97d8-bbc1383108d4",
   "metadata": {},
   "source": [
    "이 Account를 키보드로 입력받게 모든걸 다.\n",
    "\n",
    "1. 계좌 만들기\n",
    "2. 입금\n",
    "3. 출금\n",
    "4. 송금하기.\n",
    "\n",
    "계좌 만들고 나서는 번호랑, 입금해~ 이런식으로 \n",
    "입금은 얼마할건지...? \n",
    "출금은 얼마, 송금은 누구한테 얼마 등등. 이런식으로"
   ]
  },
  {
   "cell_type": "code",
   "execution_count": 30,
   "id": "b84931a8-307b-4e57-82bb-cc9754146f62",
   "metadata": {},
   "outputs": [
    {
     "name": "stdin",
     "output_type": "stream",
     "text": [
      "어느 것을 원하시나요? 1\n",
      "원하는 계좌번호를 입력해주세요. 10\n"
     ]
    },
    {
     "name": "stdout",
     "output_type": "stream",
     "text": [
      "계좌번호는 10 번 입니다.\n"
     ]
    }
   ],
   "source": [
    "question = int(input('어느 것을 원하시나요?'))\n",
    "\n",
    "if question == 1 :\n",
    "    a1 = int(input('원하는 계좌번호를 입력해주세요.'))\n",
    "    Account(a1)\n",
    "    print('계좌번호는 %s 번 입니다.' %Account(a1).get__name())\n",
    "    "
   ]
  },
  {
   "cell_type": "code",
   "execution_count": 87,
   "id": "fc868264-4237-4515-ad72-55b8673b03d5",
   "metadata": {},
   "outputs": [
    {
     "name": "stdin",
     "output_type": "stream",
     "text": [
      "어느 것을 원하시나요? 4\n"
     ]
    }
   ],
   "source": [
    "question = int(input('어느 것을 원하시나요?'))\n",
    "if question == 2 :\n",
    "    a2 = int(input('얼마를 입금하실건가요?'))\n",
    "    Account(a1).deposit(a2)\n",
    "    print('잔액은 %d 원 입니다.' %Account(a1).get__balance())"
   ]
  },
  {
   "cell_type": "code",
   "execution_count": 32,
   "id": "f3eb020f-9840-4e68-bfb8-1388df9d389a",
   "metadata": {},
   "outputs": [
    {
     "data": {
      "text/plain": [
       "0"
      ]
     },
     "execution_count": 32,
     "metadata": {},
     "output_type": "execute_result"
    }
   ],
   "source": [
    "Account(a1).get__balance()"
   ]
  },
  {
   "cell_type": "code",
   "execution_count": 22,
   "id": "f2f57e92-8fa5-48c9-97e9-8d4ddde3f04b",
   "metadata": {},
   "outputs": [],
   "source": [
    "Account(a1).deposit(a2)"
   ]
  },
  {
   "cell_type": "code",
   "execution_count": 23,
   "id": "65d39503-f8e6-4884-bd30-41497d3f1835",
   "metadata": {},
   "outputs": [
    {
     "name": "stdout",
     "output_type": "stream",
     "text": [
      "<__main__.Account object at 0x00000231991D7640>\n"
     ]
    }
   ],
   "source": [
    "print(Account(a1))"
   ]
  },
  {
   "cell_type": "code",
   "execution_count": 40,
   "id": "2579133d-c7e9-43a1-8d52-4594d0ee4a8c",
   "metadata": {},
   "outputs": [
    {
     "data": {
      "text/plain": [
       "10"
      ]
     },
     "execution_count": 40,
     "metadata": {},
     "output_type": "execute_result"
    }
   ],
   "source": [
    "Account(a1).get__name()"
   ]
  },
  {
   "cell_type": "code",
   "execution_count": 41,
   "id": "2146e467-2562-46b6-8997-110547573b8b",
   "metadata": {},
   "outputs": [],
   "source": [
    "Account(a1).deposit(100)"
   ]
  },
  {
   "cell_type": "code",
   "execution_count": 42,
   "id": "a3d5830f-da97-45c2-b0c6-1832cc7b86e2",
   "metadata": {},
   "outputs": [
    {
     "data": {
      "text/plain": [
       "0"
      ]
     },
     "execution_count": 42,
     "metadata": {},
     "output_type": "execute_result"
    }
   ],
   "source": [
    "Account(a1).get__balance()"
   ]
  },
  {
   "cell_type": "code",
   "execution_count": 153,
   "id": "a1dce709-da3e-485b-86ef-ad4e7c6382e8",
   "metadata": {},
   "outputs": [],
   "source": [
    "account_list1 = list()"
   ]
  },
  {
   "cell_type": "code",
   "execution_count": 156,
   "id": "d8c0e43e-1a76-4368-aa74-ef0281ce9c4a",
   "metadata": {},
   "outputs": [],
   "source": [
    "account_list1.append(10)"
   ]
  },
  {
   "cell_type": "code",
   "execution_count": 154,
   "id": "ce1e418a-53c1-43eb-8587-0a0c80ecc209",
   "metadata": {},
   "outputs": [],
   "source": [
    "account_list1.append(20)"
   ]
  },
  {
   "cell_type": "code",
   "execution_count": 157,
   "id": "8a33ed67-0805-4b82-9d94-8808230ee93e",
   "metadata": {},
   "outputs": [
    {
     "name": "stdout",
     "output_type": "stream",
     "text": [
      "[20, 10]\n"
     ]
    }
   ],
   "source": [
    "print(account_list1)"
   ]
  },
  {
   "cell_type": "code",
   "execution_count": 80,
   "id": "8ca365f9-2f69-4520-9a45-0882124e7279",
   "metadata": {},
   "outputs": [
    {
     "name": "stdin",
     "output_type": "stream",
     "text": [
      "계좌번호를 입력하세요. 10\n",
      "얼마를 입금하실건가요? 20\n"
     ]
    },
    {
     "name": "stdout",
     "output_type": "stream",
     "text": [
      "잔액은 20 원 입니다.\n"
     ]
    }
   ],
   "source": [
    "if question == 2 : \n",
    "    a3 = int(input('계좌번호를 입력하세요.'))\n",
    "    if a3 in account_list : \n",
    "        user = Account(a3)\n",
    "        a4 = int(input('얼마를 입금하실건가요?'))\n",
    "        user.deposit(a4)\n",
    "        print('잔액은 %d 원 입니다.' %user.get__balance())"
   ]
  },
  {
   "cell_type": "code",
   "execution_count": 76,
   "id": "be42653b-824e-46a2-b0ed-768c056096ce",
   "metadata": {},
   "outputs": [
    {
     "name": "stdin",
     "output_type": "stream",
     "text": [
      "얼마를 입금하실건가요? 20\n"
     ]
    },
    {
     "name": "stdout",
     "output_type": "stream",
     "text": [
      "잔액은 20 원 입니다.\n"
     ]
    }
   ],
   "source": [
    "user1 = Account(1)\n",
    "a4 = int(input('얼마를 입금하실건가요?'))\n",
    "user1.deposit(a4)\n",
    "print('잔액은 %d 원 입니다.' %user1.get__balance())"
   ]
  },
  {
   "cell_type": "code",
   "execution_count": 77,
   "id": "222e32fb-cceb-4981-af41-3d44aa7d0f11",
   "metadata": {},
   "outputs": [
    {
     "data": {
      "text/plain": [
       "20"
      ]
     },
     "execution_count": 77,
     "metadata": {},
     "output_type": "execute_result"
    }
   ],
   "source": [
    "user1.get__balance()"
   ]
  },
  {
   "cell_type": "code",
   "execution_count": 83,
   "id": "535702a5-fd27-47eb-89b6-60f0e366baf7",
   "metadata": {},
   "outputs": [
    {
     "name": "stdin",
     "output_type": "stream",
     "text": [
      "계좌번호를 입력하세요. 10\n",
      "얼마를 출금하실건가요? 2\n"
     ]
    },
    {
     "name": "stdout",
     "output_type": "stream",
     "text": [
      "잔액이 부족합니다.\n",
      "잔액은 0원입니다.\n"
     ]
    }
   ],
   "source": [
    "if question == 3 : \n",
    "    a5 = int(input('계좌번호를 입력하세요.'))\n",
    "    if a5 in account_list : \n",
    "        user = Account(a5)\n",
    "        a6 = int(input('얼마를 출금하실건가요?'))\n",
    "        user.withdraw(a6)\n",
    "        print('잔액은 %d원입니다.' %user.get__balance())"
   ]
  },
  {
   "cell_type": "code",
   "execution_count": 118,
   "id": "d13d56f1-b632-4006-ae1c-84bd0fae520c",
   "metadata": {},
   "outputs": [
    {
     "name": "stdin",
     "output_type": "stream",
     "text": [
      "계좌번호를 입력하세요. 10\n",
      "받는 계좌를 입력하세요. 20\n",
      "얼마를 송금하실건가요? 4\n"
     ]
    }
   ],
   "source": [
    "if question == 4 : \n",
    "    a7 = int(input('계좌번호를 입력하세요.'))\n",
    "    a9 = int(input('받는 계좌를 입력하세요.'))\n",
    "    if a7 in account_list and a9 in account_list : \n",
    "        user1 = Account(a7)\n",
    "        user2 = Account(a9)\n",
    "        a8 = int(input('얼마를 송금하실건가요?'))\n",
    "        user.transfer(a8,user2)\n",
    "        "
   ]
  },
  {
   "cell_type": "code",
   "execution_count": 119,
   "id": "af002adb-8c50-4c27-ac5e-2f483fe8a4d8",
   "metadata": {},
   "outputs": [
    {
     "data": {
      "text/plain": [
       "0"
      ]
     },
     "execution_count": 119,
     "metadata": {},
     "output_type": "execute_result"
    }
   ],
   "source": [
    "user1.get__balance()"
   ]
  },
  {
   "cell_type": "code",
   "execution_count": 120,
   "id": "6f413c2e-5188-4458-b7ba-47b344cad9e4",
   "metadata": {},
   "outputs": [
    {
     "data": {
      "text/plain": [
       "0"
      ]
     },
     "execution_count": 120,
     "metadata": {},
     "output_type": "execute_result"
    }
   ],
   "source": [
    "Account(a7).get__balance()"
   ]
  },
  {
   "cell_type": "code",
   "execution_count": 159,
   "id": "f305b5e4-d3d3-4de0-b779-404d7f4230a9",
   "metadata": {},
   "outputs": [
    {
     "data": {
      "text/plain": [
       "0"
      ]
     },
     "execution_count": 159,
     "metadata": {},
     "output_type": "execute_result"
    }
   ],
   "source": [
    "Account(a9).get__balance()"
   ]
  },
  {
   "cell_type": "code",
   "execution_count": 342,
   "id": "6891ba0a-308d-4e3d-93e0-ca1849869cc7",
   "metadata": {},
   "outputs": [],
   "source": [
    "account_list = list()"
   ]
  },
  {
   "cell_type": "code",
   "execution_count": 349,
   "id": "33111ccc-33c2-4662-8cda-f7d90445fa92",
   "metadata": {},
   "outputs": [
    {
     "name": "stdin",
     "output_type": "stream",
     "text": [
      "어느 것을 원하시나요? 2\n",
      "계좌번호를 입력하세요. 10\n"
     ]
    }
   ],
   "source": [
    "\n",
    "question = int(input('어느 것을 원하시나요?'))\n",
    "\n",
    "\n",
    "\n",
    "\n",
    "if question == 1 :\n",
    "\n",
    "    a1 = int(input('원하는 계좌번호를 입력해주세요.'))\n",
    "    user1 = Account(a1)\n",
    "    print('계좌번호는 %d 번 입니다.' %user1.get__name())\n",
    "    account_list.append(user1.get__name())\n",
    "    \n",
    "elif question == 2 : \n",
    "    a3 = int(input('계좌번호를 입력하세요.'))\n",
    "    for i in account_list :\n",
    "        if a3 == account_list :\n",
    "    \n",
    "        \n",
    "            a4 = int(input('얼마를 입금하실건가요?'))\n",
    "            user2.deposit(a4)\n",
    "            print('잔액은 %d 원 입니다.' %user2.get__balance())\n",
    "        \n",
    "elif question == 3 : \n",
    "    a5 = int(input('계좌번호를 입력하세요.'))\n",
    "    if a5 in account_list : \n",
    "        user3 = Account(a5)\n",
    "        a6 = int(input('얼마를 출금하실건가요?'))\n",
    "        user3.withdraw(a6)\n",
    "        print('잔액은 %d원입니다.' %user3.get__balance()) \n",
    "        \n",
    "elif question == 4 : \n",
    "    a7 = int(input('계좌번호를 입력하세요.'))\n",
    "    a9 = int(input('받는 계좌를 입력하세요.'))\n",
    "    if a7 in account_list and a9 in account_list : \n",
    "        user4 = Account(a7)\n",
    "        user5 = Account(a9)\n",
    "        a8 = int(input('얼마를 송금하실건가요?'))\n",
    "        user4.transfer(a8,user5)"
   ]
  },
  {
   "cell_type": "code",
   "execution_count": 348,
   "id": "cb6fb1cd-eb11-452b-a393-ada2e17c56f2",
   "metadata": {},
   "outputs": [
    {
     "name": "stdout",
     "output_type": "stream",
     "text": [
      "[10, 20]\n"
     ]
    }
   ],
   "source": [
    "print(account_list)"
   ]
  },
  {
   "cell_type": "code",
   "execution_count": 313,
   "id": "0a9fa5a3-28a6-4172-92f4-8fd72dc3f5a7",
   "metadata": {},
   "outputs": [
    {
     "name": "stdout",
     "output_type": "stream",
     "text": [
      "<class 'list'>\n"
     ]
    }
   ],
   "source": [
    "print(type(account_list))"
   ]
  },
  {
   "cell_type": "code",
   "execution_count": null,
   "id": "b2e96251-20ef-4c7f-941b-04b5c60063cd",
   "metadata": {},
   "outputs": [],
   "source": []
  }
 ],
 "metadata": {
  "kernelspec": {
   "display_name": "Python 3 (ipykernel)",
   "language": "python",
   "name": "python3"
  },
  "language_info": {
   "codemirror_mode": {
    "name": "ipython",
    "version": 3
   },
   "file_extension": ".py",
   "mimetype": "text/x-python",
   "name": "python",
   "nbconvert_exporter": "python",
   "pygments_lexer": "ipython3",
   "version": "3.9.7"
  }
 },
 "nbformat": 4,
 "nbformat_minor": 5
}
