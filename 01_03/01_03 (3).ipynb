{
 "cells": [
  {
   "cell_type": "code",
   "execution_count": 144,
   "id": "0c27554a-6a66-4dac-bbaa-4a00743c1c45",
   "metadata": {
    "jp-MarkdownHeadingCollapsed": true,
    "tags": []
   },
   "outputs": [],
   "source": [
    "class Rectangle :\n",
    "    \n",
    "\n",
    "    def __init__ (self, garo, sero ) :\n",
    "        self.__garo = garo\n",
    "        self.__sero = sero\n",
    "        \n",
    "    # def __repr__(self) :\n",
    "    #     return 'gg'\n",
    "    def __str__(self) :\n",
    "        return ' 가로 : %d ' %self.__garo       \n",
    "\n",
    "    \n",
    "    def get__garo(self) :   \n",
    "        return self.__garo \n",
    "     \n",
    "    def get__sero(self) :\n",
    "        return self.__sero \n",
    "    \n",
    "    def set__garo(self, garo) :   \n",
    "        self.__garo = garo           \n",
    "    \n",
    "    def set__sero(self, sero ) : \n",
    "        self.__sero = sero\n",
    "\n",
    "    def Rec__round(self) :\n",
    "        return (2 * ( self.__garo + self.__sero ))  #return 할때 이렇게...\n",
    "\n",
    "    def Rec__area(self) :\n",
    "        return ( self.__garo * self.__sero )\n",
    "    \n",
    "    def __eq__(self, other_rect) :\n",
    "        return self.Rec__area() == other_rect.Rec__area()\n",
    "    \n",
    "    def __gt__(self, other_rect1) :\n",
    "        return self.Rec__area() > other_rect1.Rec__area()\n",
    "    \n",
    "    def __ge__(self, other_rect2) :\n",
    "        return self.Rec__area() >= other_rect2.Rec__area()"
   ]
  },
  {
   "cell_type": "code",
   "execution_count": 118,
   "id": "dcf47c5c-f239-4189-9195-6abd08e51eb7",
   "metadata": {},
   "outputs": [
    {
     "name": "stdout",
     "output_type": "stream",
     "text": [
      "14\n",
      "12\n"
     ]
    }
   ],
   "source": [
    "rec1 = Rectangle(3, 4)\n",
    "print(rec1.Rec__round())\n",
    "print(rec1.Rec__area())"
   ]
  },
  {
   "cell_type": "code",
   "execution_count": 119,
   "id": "4f129238-171a-413f-8584-06f66de8e3f3",
   "metadata": {},
   "outputs": [],
   "source": [
    "rect_list = list()\n",
    "rec1 = Rectangle(3, 4)\n",
    "rec2 = Rectangle(4, 4)\n",
    "rec3 = Rectangle(5, 4)\n",
    "rec4 = Rectangle(6, 4)\n",
    "rec5 = Rectangle(7, 4)\n",
    "\n",
    "rect_list.append(rec1)\n",
    "rect_list.append(rec2)\n",
    "rect_list.append(rec3)\n",
    "rect_list.append(rec4)\n",
    "rect_list.append(rec5)"
   ]
  },
  {
   "cell_type": "code",
   "execution_count": 120,
   "id": "41f9215d-8b0d-4887-aa52-1ffb9b9fda9b",
   "metadata": {},
   "outputs": [
    {
     "name": "stdout",
     "output_type": "stream",
     "text": [
      "[<__main__.Rectangle object at 0x000002145B3DE520>, <__main__.Rectangle object at 0x000002145B3DE3A0>, <__main__.Rectangle object at 0x000002145A361DF0>, <__main__.Rectangle object at 0x000002145B3E1730>, <__main__.Rectangle object at 0x000002145B3E1BE0>]\n"
     ]
    }
   ],
   "source": [
    "print(rect_list)"
   ]
  },
  {
   "cell_type": "code",
   "execution_count": 121,
   "id": "3312d854-52bf-48b5-9855-c8b3993c76da",
   "metadata": {},
   "outputs": [
    {
     "name": "stdout",
     "output_type": "stream",
     "text": [
      "16\n"
     ]
    }
   ],
   "source": [
    "print(rec2.Rec__round())"
   ]
  },
  {
   "cell_type": "code",
   "execution_count": 122,
   "id": "69847123-5e25-4605-862b-bca60170f979",
   "metadata": {},
   "outputs": [
    {
     "name": "stdout",
     "output_type": "stream",
     "text": [
      " 가로 : 3 \n"
     ]
    }
   ],
   "source": [
    "print(rec1)"
   ]
  },
  {
   "cell_type": "code",
   "execution_count": 123,
   "id": "bf045e2c-859d-4520-ba23-0a4107458bd4",
   "metadata": {},
   "outputs": [
    {
     "name": "stdout",
     "output_type": "stream",
     "text": [
      " 가로 : 4 \n"
     ]
    }
   ],
   "source": [
    "print(rec2)"
   ]
  },
  {
   "cell_type": "code",
   "execution_count": 124,
   "id": "e7ad808e-c141-4ce3-a0ec-586d689ab181",
   "metadata": {},
   "outputs": [
    {
     "data": {
      "text/plain": [
       "<__main__.Rectangle at 0x2145b3de520>"
      ]
     },
     "execution_count": 124,
     "metadata": {},
     "output_type": "execute_result"
    }
   ],
   "source": [
    "rect_list[0]"
   ]
  },
  {
   "cell_type": "code",
   "execution_count": 125,
   "id": "dcb1bc9d-c0a6-4319-83b9-d5cae065a175",
   "metadata": {},
   "outputs": [
    {
     "data": {
      "text/plain": [
       "12"
      ]
     },
     "execution_count": 125,
     "metadata": {},
     "output_type": "execute_result"
    }
   ],
   "source": [
    "rect_list[0].Rec__area()\n"
   ]
  },
  {
   "cell_type": "code",
   "execution_count": 126,
   "id": "43889be0-caba-40d5-846b-2295cc329fb1",
   "metadata": {},
   "outputs": [
    {
     "name": "stdout",
     "output_type": "stream",
     "text": [
      "12\n",
      "16\n",
      "20\n",
      "24\n",
      "28\n"
     ]
    }
   ],
   "source": [
    "for r in rect_list :\n",
    "    print(r.Rec__area())"
   ]
  },
  {
   "cell_type": "code",
   "execution_count": 127,
   "id": "05e5134d-9bbf-432b-8d70-4c6c26c70749",
   "metadata": {},
   "outputs": [
    {
     "name": "stdout",
     "output_type": "stream",
     "text": [
      "12\n"
     ]
    }
   ],
   "source": [
    "print(rect_list[0].Rec__area())"
   ]
  },
  {
   "cell_type": "code",
   "execution_count": 128,
   "id": "1f86a690-eafc-4a38-9ce7-80bf3e8aa112",
   "metadata": {},
   "outputs": [],
   "source": [
    "# __eq__ 를 이용해서... 몸통만 살짝 바꿔서.. True, False. 가 나오게 한다..\n",
    "# 근데 이게 뭐지..?"
   ]
  },
  {
   "cell_type": "code",
   "execution_count": 136,
   "id": "a529f688-17da-408f-a762-cd4daa689e98",
   "metadata": {},
   "outputs": [
    {
     "name": "stdout",
     "output_type": "stream",
     "text": [
      "False\n"
     ]
    }
   ],
   "source": [
    "rect_list = list()\n",
    "r1 = Rectangle(10,20)\n",
    "r2 = Rectangle(20,15)\n",
    "\n",
    "print(r1 == r2)"
   ]
  },
  {
   "cell_type": "code",
   "execution_count": 143,
   "id": "2e2a2aa1-d63d-41c1-ba6b-72696dad02f1",
   "metadata": {},
   "outputs": [
    {
     "name": "stdout",
     "output_type": "stream",
     "text": [
      "True\n"
     ]
    }
   ],
   "source": [
    "rect_list = list()\n",
    "r1 = Rectangle(30,20)\n",
    "r2 = Rectangle(20,15)\n",
    "print(r1 > r2)"
   ]
  },
  {
   "cell_type": "code",
   "execution_count": 145,
   "id": "507cd054-4f1e-4bd6-b8fd-d02112e4bb9b",
   "metadata": {},
   "outputs": [
    {
     "name": "stdout",
     "output_type": "stream",
     "text": [
      "True\n"
     ]
    }
   ],
   "source": [
    "rect_list = list()\n",
    "r1 = Rectangle(30,20)\n",
    "r2 = Rectangle(20,15)\n",
    "print(r1 >= r2)"
   ]
  },
  {
   "cell_type": "markdown",
   "id": "0b09a8e4-a991-45d8-bd98-6a5769a96f2a",
   "metadata": {},
   "source": [
    "###  module ~"
   ]
  },
  {
   "cell_type": "code",
   "execution_count": 146,
   "id": "c849b36e-7157-4ad3-afa1-6786690f4346",
   "metadata": {},
   "outputs": [
    {
     "data": {
      "text/plain": [
       "-0.4161468365471424"
      ]
     },
     "execution_count": 146,
     "metadata": {},
     "output_type": "execute_result"
    }
   ],
   "source": [
    "import math\n",
    "\n",
    "math.cos(2)\n"
   ]
  },
  {
   "cell_type": "code",
   "execution_count": 147,
   "id": "84821106-5216-4025-9567-1e5d32b830f6",
   "metadata": {
    "collapsed": true,
    "jupyter": {
     "outputs_hidden": true
    },
    "tags": []
   },
   "outputs": [
    {
     "data": {
      "text/plain": [
       "['__doc__',\n",
       " '__loader__',\n",
       " '__name__',\n",
       " '__package__',\n",
       " '__spec__',\n",
       " 'acos',\n",
       " 'acosh',\n",
       " 'asin',\n",
       " 'asinh',\n",
       " 'atan',\n",
       " 'atan2',\n",
       " 'atanh',\n",
       " 'ceil',\n",
       " 'comb',\n",
       " 'copysign',\n",
       " 'cos',\n",
       " 'cosh',\n",
       " 'degrees',\n",
       " 'dist',\n",
       " 'e',\n",
       " 'erf',\n",
       " 'erfc',\n",
       " 'exp',\n",
       " 'expm1',\n",
       " 'fabs',\n",
       " 'factorial',\n",
       " 'floor',\n",
       " 'fmod',\n",
       " 'frexp',\n",
       " 'fsum',\n",
       " 'gamma',\n",
       " 'gcd',\n",
       " 'hypot',\n",
       " 'inf',\n",
       " 'isclose',\n",
       " 'isfinite',\n",
       " 'isinf',\n",
       " 'isnan',\n",
       " 'isqrt',\n",
       " 'lcm',\n",
       " 'ldexp',\n",
       " 'lgamma',\n",
       " 'log',\n",
       " 'log10',\n",
       " 'log1p',\n",
       " 'log2',\n",
       " 'modf',\n",
       " 'nan',\n",
       " 'nextafter',\n",
       " 'perm',\n",
       " 'pi',\n",
       " 'pow',\n",
       " 'prod',\n",
       " 'radians',\n",
       " 'remainder',\n",
       " 'sin',\n",
       " 'sinh',\n",
       " 'sqrt',\n",
       " 'tan',\n",
       " 'tanh',\n",
       " 'tau',\n",
       " 'trunc',\n",
       " 'ulp']"
      ]
     },
     "execution_count": 147,
     "metadata": {},
     "output_type": "execute_result"
    }
   ],
   "source": [
    "dir(math)"
   ]
  },
  {
   "cell_type": "code",
   "execution_count": 150,
   "id": "9f0445cd-5000-49b0-87ef-c88eb8dd216a",
   "metadata": {},
   "outputs": [
    {
     "data": {
      "text/plain": [
       "0.6483608274590866"
      ]
     },
     "execution_count": 150,
     "metadata": {},
     "output_type": "execute_result"
    }
   ],
   "source": [
    "math.tan(10)"
   ]
  },
  {
   "cell_type": "code",
   "execution_count": 151,
   "id": "65e33b75-b860-4121-935b-26c16d472333",
   "metadata": {},
   "outputs": [
    {
     "name": "stdout",
     "output_type": "stream",
     "text": [
      "2022-01-03 15:31:20.747620\n"
     ]
    }
   ],
   "source": [
    "import datetime\n",
    "# from datetime import datetime\n",
    "\n",
    "x = datetime.datetime.now()\n",
    "\n",
    "print(x)"
   ]
  },
  {
   "cell_type": "code",
   "execution_count": 152,
   "id": "99e2daa2-e89f-454c-8243-ef1115bf63ee",
   "metadata": {},
   "outputs": [
    {
     "name": "stdout",
     "output_type": "stream",
     "text": [
      "Monday\n"
     ]
    }
   ],
   "source": [
    "s = x.strftime('%A')\n",
    "print (s)"
   ]
  },
  {
   "cell_type": "code",
   "execution_count": 155,
   "id": "52218c45-d50a-44d1-bb8b-f1b9fabef8a1",
   "metadata": {},
   "outputs": [
    {
     "name": "stdout",
     "output_type": "stream",
     "text": [
      "01/03/22\n"
     ]
    }
   ],
   "source": [
    "s = x.strftime('%x')\n",
    "print(s)"
   ]
  },
  {
   "cell_type": "code",
   "execution_count": 159,
   "id": "2a6172ba-6e03-472c-bb81-5801513380a5",
   "metadata": {},
   "outputs": [
    {
     "name": "stdout",
     "output_type": "stream",
     "text": [
      "Collecting camelcase\n",
      "  Downloading camelcase-0.2.tar.gz (1.3 kB)\n",
      "Building wheels for collected packages: camelcase\n",
      "  Building wheel for camelcase (setup.py): started\n",
      "  Building wheel for camelcase (setup.py): finished with status 'done'\n",
      "  Created wheel for camelcase: filename=camelcase-0.2-py3-none-any.whl size=1789 sha256=01f4079263e1304b3db61cd0e47cd051af9e579455c2b3efeddc53a88dfe0c7d\n",
      "  Stored in directory: c:\\users\\bit\\appdata\\local\\pip\\cache\\wheels\\c3\\9a\\eb\\7eca0b069ef85183fd3215aa793d8ffa56ae5b424912c311df\n",
      "Successfully built camelcase\n",
      "Installing collected packages: camelcase\n",
      "Successfully installed camelcase-0.2\n",
      "Note: you may need to restart the kernel to use updated packages.\n"
     ]
    }
   ],
   "source": [
    "\n",
    "pip install camelcase"
   ]
  },
  {
   "cell_type": "code",
   "execution_count": 160,
   "id": "c0ffa428-2f47-4eee-846c-f4036f7bee6f",
   "metadata": {},
   "outputs": [],
   "source": [
    "import camelcase "
   ]
  },
  {
   "cell_type": "code",
   "execution_count": 164,
   "id": "1ff2a0b6-bc2a-4f27-baeb-d1a1b06f3bd8",
   "metadata": {
    "collapsed": true,
    "jupyter": {
     "outputs_hidden": true
    },
    "tags": []
   },
   "outputs": [
    {
     "name": "stdout",
     "output_type": "stream",
     "text": [
      "Package                            VersionNote: you may need to restart the kernel to use updated packages.\n",
      "\n",
      "---------------------------------- --------------------\n",
      "alabaster                          0.7.12\n",
      "anaconda-client                    1.9.0\n",
      "anaconda-navigator                 2.1.1\n",
      "anaconda-project                   0.10.1\n",
      "anyio                              2.2.0\n",
      "appdirs                            1.4.4\n",
      "argh                               0.26.2\n",
      "argon2-cffi                        20.1.0\n",
      "arrow                              0.13.1\n",
      "asn1crypto                         1.4.0\n",
      "astroid                            2.6.6\n",
      "astropy                            4.3.1\n",
      "async-generator                    1.10\n",
      "atomicwrites                       1.4.0\n",
      "attrs                              21.2.0\n",
      "autopep8                           1.5.7\n",
      "Babel                              2.9.1\n",
      "backcall                           0.2.0\n",
      "backports.functools-lru-cache      1.6.4\n",
      "backports.shutil-get-terminal-size 1.0.0\n",
      "backports.tempfile                 1.0\n",
      "backports.weakref                  1.0.post1\n",
      "bcrypt                             3.2.0\n",
      "beautifulsoup4                     4.10.0\n",
      "binaryornot                        0.4.4\n",
      "bitarray                           2.3.0\n",
      "bkcharts                           0.2\n",
      "black                              19.10b0\n",
      "bleach                             4.0.0\n",
      "bokeh                              2.4.1\n",
      "boto                               2.49.0\n",
      "Bottleneck                         1.3.2\n",
      "brotlipy                           0.7.0\n",
      "cached-property                    1.5.2\n",
      "camelcase                          0.2\n",
      "certifi                            2021.10.8\n",
      "cffi                               1.14.6\n",
      "chardet                            4.0.0\n",
      "charset-normalizer                 2.0.4\n",
      "click                              8.0.3\n",
      "cloudpickle                        2.0.0\n",
      "clyent                             1.2.2\n",
      "colorama                           0.4.4\n",
      "comtypes                           1.1.10\n",
      "conda                              4.10.3\n",
      "conda-build                        3.21.6\n",
      "conda-content-trust                0+unknown\n",
      "conda-pack                         0.6.0\n",
      "conda-package-handling             1.7.3\n",
      "conda-repo-cli                     1.0.4\n",
      "conda-token                        0.3.0\n",
      "conda-verify                       3.4.2\n",
      "contextlib2                        0.6.0.post1\n",
      "cookiecutter                       1.7.2\n",
      "cryptography                       3.4.8\n",
      "cycler                             0.10.0\n",
      "Cython                             0.29.24\n",
      "cytoolz                            0.11.0\n",
      "daal4py                            2021.3.0\n",
      "dask                               2021.10.0\n",
      "debugpy                            1.4.1\n",
      "decorator                          5.1.0\n",
      "defusedxml                         0.7.1\n",
      "diff-match-patch                   20200713\n",
      "distributed                        2021.10.0\n",
      "docutils                           0.17.1\n",
      "entrypoints                        0.3\n",
      "et-xmlfile                         1.1.0\n",
      "fastcache                          1.1.0\n",
      "filelock                           3.3.1\n",
      "flake8                             3.9.2\n",
      "Flask                              1.1.2\n",
      "fonttools                          4.25.0\n",
      "fsspec                             2021.10.1\n",
      "future                             0.18.2\n",
      "gevent                             21.8.0\n",
      "glob2                              0.7\n",
      "greenlet                           1.1.1\n",
      "h5py                               3.2.1\n",
      "HeapDict                           1.0.1\n",
      "html5lib                           1.1\n",
      "idna                               3.2\n",
      "imagecodecs                        2021.8.26\n",
      "imageio                            2.9.0\n",
      "imagesize                          1.2.0\n",
      "importlib-metadata                 4.8.1\n",
      "inflection                         0.5.1\n",
      "iniconfig                          1.1.1\n",
      "intervaltree                       3.1.0\n",
      "ipykernel                          6.4.1\n",
      "ipython                            7.29.0\n",
      "ipython-genutils                   0.2.0\n",
      "ipywidgets                         7.6.5\n",
      "isort                              5.9.3\n",
      "itsdangerous                       2.0.1\n",
      "jdcal                              1.4.1\n",
      "jedi                               0.18.0\n",
      "Jinja2                             2.11.3\n",
      "jinja2-time                        0.2.0\n",
      "joblib                             1.1.0\n",
      "json5                              0.9.6\n",
      "jsonschema                         3.2.0\n",
      "jupyter                            1.0.0\n",
      "jupyter-client                     6.1.12\n",
      "jupyter-console                    6.4.0\n",
      "jupyter-core                       4.8.1\n",
      "jupyter-server                     1.4.1\n",
      "jupyterlab                         3.2.1\n",
      "jupyterlab-pygments                0.1.2\n",
      "jupyterlab-server                  2.8.2\n",
      "jupyterlab-widgets                 1.0.0\n",
      "keyring                            23.1.0\n",
      "kiwisolver                         1.3.1\n",
      "lazy-object-proxy                  1.6.0\n",
      "libarchive-c                       2.9\n",
      "llvmlite                           0.37.0\n",
      "locket                             0.2.1\n",
      "lxml                               4.6.3\n",
      "MarkupSafe                         1.1.1\n",
      "matplotlib                         3.4.3\n",
      "matplotlib-inline                  0.1.2\n",
      "mccabe                             0.6.1\n",
      "menuinst                           1.4.18\n",
      "mistune                            0.8.4\n",
      "mkl-fft                            1.3.1\n",
      "mkl-random                         1.2.2\n",
      "mkl-service                        2.4.0\n",
      "mock                               4.0.3\n",
      "more-itertools                     8.10.0\n",
      "mpmath                             1.2.1\n",
      "msgpack                            1.0.2\n",
      "multipledispatch                   0.6.0\n",
      "munkres                            1.1.4\n",
      "mypy-extensions                    0.4.3\n",
      "navigator-updater                  0.2.1\n",
      "nbclassic                          0.2.6\n",
      "nbclient                           0.5.3\n",
      "nbconvert                          6.1.0\n",
      "nbformat                           5.1.3\n",
      "nest-asyncio                       1.5.1\n",
      "networkx                           2.6.3\n",
      "nltk                               3.6.5\n",
      "nose                               1.3.7\n",
      "notebook                           6.4.5\n",
      "numba                              0.54.1\n",
      "numexpr                            2.7.3\n",
      "numpy                              1.20.3\n",
      "numpydoc                           1.1.0\n",
      "olefile                            0.46\n",
      "openpyxl                           3.0.9\n",
      "packaging                          21.0\n",
      "pandas                             1.3.4\n",
      "pandocfilters                      1.4.3\n",
      "paramiko                           2.7.2\n",
      "parso                              0.8.2\n",
      "partd                              1.2.0\n",
      "path                               16.0.0\n",
      "pathlib2                           2.3.6\n",
      "pathspec                           0.7.0\n",
      "patsy                              0.5.2\n",
      "pep8                               1.7.1\n",
      "pexpect                            4.8.0\n",
      "pickleshare                        0.7.5\n",
      "Pillow                             8.4.0\n",
      "pip                                21.2.4\n",
      "pkginfo                            1.7.1\n",
      "pluggy                             0.13.1\n",
      "ply                                3.11\n",
      "poyo                               0.5.0\n",
      "prometheus-client                  0.11.0\n",
      "prompt-toolkit                     3.0.20\n",
      "psutil                             5.8.0\n",
      "ptyprocess                         0.7.0\n",
      "py                                 1.10.0\n",
      "pycodestyle                        2.7.0\n",
      "pycosat                            0.6.3\n",
      "pycparser                          2.20\n",
      "pycurl                             7.44.1\n",
      "pydocstyle                         6.1.1\n",
      "pyerfa                             2.0.0\n",
      "pyflakes                           2.3.1\n",
      "Pygments                           2.10.0\n",
      "PyJWT                              2.1.0\n",
      "pylint                             2.9.6\n",
      "pyls-spyder                        0.4.0\n",
      "PyNaCl                             1.4.0\n",
      "pyodbc                             4.0.0-unsupported\n",
      "pyOpenSSL                          21.0.0\n",
      "pyparsing                          3.0.4\n",
      "pyreadline                         2.1\n",
      "pyrsistent                         0.18.0\n",
      "PySocks                            1.7.1\n",
      "pytest                             6.2.4\n",
      "python-dateutil                    2.8.2\n",
      "python-lsp-black                   1.0.0\n",
      "python-lsp-jsonrpc                 1.0.0\n",
      "python-lsp-server                  1.2.4\n",
      "python-slugify                     5.0.2\n",
      "pytz                               2021.3\n",
      "PyWavelets                         1.1.1\n",
      "pywin32                            228\n",
      "pywin32-ctypes                     0.2.0\n",
      "pywinpty                           0.5.7\n",
      "PyYAML                             6.0\n",
      "pyzmq                              22.2.1\n",
      "QDarkStyle                         3.0.2\n",
      "qstylizer                          0.1.10\n",
      "QtAwesome                          1.0.2\n",
      "qtconsole                          5.1.1\n",
      "QtPy                               1.10.0\n",
      "regex                              2021.8.3\n",
      "requests                           2.26.0\n",
      "rope                               0.19.0\n",
      "Rtree                              0.9.7\n",
      "ruamel-yaml-conda                  0.15.100\n",
      "scikit-image                       0.18.3\n",
      "scikit-learn                       0.24.2\n",
      "scikit-learn-intelex               2021.20210714.120553\n",
      "scipy                              1.7.1\n",
      "seaborn                            0.11.2\n",
      "Send2Trash                         1.8.0\n",
      "setuptools                         58.0.4\n",
      "simplegeneric                      0.8.1\n",
      "singledispatch                     3.7.0\n",
      "sip                                4.19.13\n",
      "six                                1.16.0\n",
      "sniffio                            1.2.0\n",
      "snowballstemmer                    2.1.0\n",
      "sortedcollections                  2.1.0\n",
      "sortedcontainers                   2.4.0\n",
      "soupsieve                          2.2.1\n",
      "Sphinx                             4.2.0\n",
      "sphinxcontrib-applehelp            1.0.2\n",
      "sphinxcontrib-devhelp              1.0.2\n",
      "sphinxcontrib-htmlhelp             2.0.0\n",
      "sphinxcontrib-jsmath               1.0.1\n",
      "sphinxcontrib-qthelp               1.0.3\n",
      "sphinxcontrib-serializinghtml      1.1.5\n",
      "sphinxcontrib-websupport           1.2.4\n",
      "spyder                             5.1.5\n",
      "spyder-kernels                     2.1.3\n",
      "SQLAlchemy                         1.4.22\n",
      "statsmodels                        0.12.2\n",
      "sympy                              1.9\n",
      "tables                             3.6.1\n",
      "TBB                                0.2\n",
      "tblib                              1.7.0\n",
      "terminado                          0.9.4\n",
      "testpath                           0.5.0\n",
      "text-unidecode                     1.3\n",
      "textdistance                       4.2.1\n",
      "threadpoolctl                      2.2.0\n",
      "three-merge                        0.1.1\n",
      "tifffile                           2021.7.2\n",
      "tinycss                            0.4\n",
      "toml                               0.10.2\n",
      "toolz                              0.11.1\n",
      "tornado                            6.1\n",
      "tqdm                               4.62.3\n",
      "traitlets                          5.1.0\n",
      "typed-ast                          1.4.3\n",
      "typing-extensions                  3.10.0.2\n",
      "ujson                              4.0.2\n",
      "unicodecsv                         0.14.1\n",
      "Unidecode                          1.2.0\n",
      "urllib3                            1.26.7\n",
      "watchdog                           2.1.3\n",
      "wcwidth                            0.2.5\n",
      "webencodings                       0.5.1\n",
      "Werkzeug                           2.0.2\n",
      "wheel                              0.37.0\n",
      "whichcraft                         0.6.1\n",
      "widgetsnbextension                 3.5.1\n",
      "win-inet-pton                      1.1.0\n",
      "win-unicode-console                0.5\n",
      "wincertstore                       0.2\n",
      "wrapt                              1.12.1\n",
      "xlrd                               2.0.1\n",
      "XlsxWriter                         3.0.1\n",
      "xlwings                            0.24.9\n",
      "xlwt                               1.3.0\n",
      "xmltodict                          0.12.0\n",
      "yapf                               0.31.0\n",
      "zict                               2.0.0\n",
      "zipp                               3.6.0\n",
      "zope.event                         4.5.0\n",
      "zope.interface                     5.4.0\n"
     ]
    }
   ],
   "source": [
    "pip list"
   ]
  },
  {
   "cell_type": "markdown",
   "id": "af3f22ad-dee2-4687-b95f-3ee439ea7d7c",
   "metadata": {},
   "source": [
    "### (1) loads() : JSON 문자열을 Python 객체 Dictionary로 변환"
   ]
  },
  {
   "cell_type": "code",
   "execution_count": 178,
   "id": "551b0eef-b373-4fcf-b03f-027068963eb9",
   "metadata": {},
   "outputs": [
    {
     "name": "stdout",
     "output_type": "stream",
     "text": [
      "<class 'dict'> {'name': 'John', 'age': 30, 'city': 'new york'}\n",
      "30\n"
     ]
    }
   ],
   "source": [
    "import json\n",
    "json_string =  ' {\"name\":\"John\",\\\n",
    "\"age\" : 30,\\\n",
    "\"city\" : \"new york\" }'\n",
    "    \n",
    "# json_string['age']\n",
    "    \n",
    "python_dict = json.loads(json_string)\n",
    "\n",
    "print(type(python_dict), python_dict)\n",
    "\n",
    "print(python_dict['age'])\n"
   ]
  },
  {
   "cell_type": "code",
   "execution_count": 180,
   "id": "081691d2-0f38-4697-9e3a-a604d4e61777",
   "metadata": {},
   "outputs": [
    {
     "name": "stdout",
     "output_type": "stream",
     "text": [
      "{\"name\": \"John\", \"age\": 30, \"city\": \"new york\"} <class 'str'>\n"
     ]
    }
   ],
   "source": [
    "json_string = json.dumps(python_dict)\n",
    "print(json_string, type(json_string))"
   ]
  },
  {
   "cell_type": "code",
   "execution_count": null,
   "id": "b80fb397-8f67-4560-bbcc-78ebd9cd34d6",
   "metadata": {},
   "outputs": [],
   "source": []
  }
 ],
 "metadata": {
  "kernelspec": {
   "display_name": "Python 3 (ipykernel)",
   "language": "python",
   "name": "python3"
  },
  "language_info": {
   "codemirror_mode": {
    "name": "ipython",
    "version": 3
   },
   "file_extension": ".py",
   "mimetype": "text/x-python",
   "name": "python",
   "nbconvert_exporter": "python",
   "pygments_lexer": "ipython3",
   "version": "3.9.7"
  }
 },
 "nbformat": 4,
 "nbformat_minor": 5
}
