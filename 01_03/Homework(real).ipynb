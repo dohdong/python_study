{
 "cells": [
  {
   "cell_type": "code",
   "execution_count": 47,
   "id": "6b169295-37a6-4295-95b6-162750226233",
   "metadata": {},
   "outputs": [],
   "source": [
    "class Account :\n",
    "    account_cnt = 0\n",
    "    def __init__(self, num) : # 생성자\n",
    "        self.__num = num    \n",
    "        self.__balance = 0  # __ 를 붙여서 밖에서 불러올 수 없게 만든다.\n",
    "                            # __ 는 private 으로 만들어진것.\n",
    "                            # 이때 get 을 이용해서 불러올 수 있다.\n",
    "            \n",
    "        Account.account_cnt = Account.account_cnt + 1\n",
    "        #  print(Account.account_cnt)\n",
    "\n",
    "            \n",
    "    def get__name(self) :    # get 하는 법\n",
    "        return self.__num    # 객체 내부의 값을 외부로 내보내줌.\n",
    "     \n",
    "    def get__balance(self) :\n",
    "        return self.__balance \n",
    "    \n",
    "    def set__num(self, num) :    # set은 get 과 반대됨. get은 리턴값이 있고,\n",
    "        self.__num = num           #  set은 외부 값을 대입함.\n",
    "    \n",
    "    def set__balance(self, balance ) : \n",
    "        self.__balance = balance\n",
    "    \n",
    "    # 입금\n",
    "    def deposit(self, money) : \n",
    "        self.__balance = self.__balance + money\n",
    "        # return self.__balance\n",
    "        \n",
    "    # 출금   \n",
    "    def withdraw(self, money) :\n",
    "        if self.__balance >= money :\n",
    "            self.__balance = self.__balance - money\n",
    "        else :\n",
    "            print('잔액이 부족합니다.')\n",
    "    \n",
    "    # 송금\n",
    "    def transfer(self, money, other) :\n",
    "        # print(type(other)) #하면 <class '__main__.Account'> 즉 Account 타입.(Class)\n",
    "        if self.money >= money:\n",
    "            \n",
    "            self.__balance = self.__balance - money\n",
    "            other.__balance = other.__balance + money \n",
    "        else : \n",
    "            print('잔액이 부족합니다')\n",
    "        # other.set__balance(other.get__balance() + money) \n",
    "        # other 가 같은 class 안 이 아니라 밖에 있으면 이렇게 불러와야함.\n",
    "    \n",
    "    # 정보 출력\n",
    "    def print_info(self) :\n",
    "        print('계좌번호 %d 번 잔액은 %d 입니다.' %(self.__num,self.__balance) )\n",
    "    \n",
    "    # 계좌 갯수 출력    클래스 당 1개\n",
    "    @classmethod\n",
    "    def print_account_cnt(cls) :\n",
    "        print(cls.account_cnt)"
   ]
  },
  {
   "cell_type": "code",
   "execution_count": 48,
   "id": "98f317be-7c6e-4ad9-8d50-dcdec083c23f",
   "metadata": {},
   "outputs": [],
   "source": [
    "account_list = list()"
   ]
  },
  {
   "cell_type": "code",
   "execution_count": 67,
   "id": "6c28369a-1e9b-402e-b547-eeb2d579bd37",
   "metadata": {},
   "outputs": [
    {
     "name": "stdin",
     "output_type": "stream",
     "text": [
      "어느 것을 원하시나요? 2\n",
      "계좌번호를 입력하세요. 20\n",
      "얼마를 입금하실건가요? 10\n"
     ]
    },
    {
     "name": "stdout",
     "output_type": "stream",
     "text": [
      "잔액은 10 원 입니다.\n"
     ]
    }
   ],
   "source": [
    "\n",
    "question = int(input('어느 것을 원하시나요?'))\n",
    "\n",
    "\n",
    "if question == 1 :\n",
    "\n",
    "    a1 = int(input('원하는 계좌번호를 입력해주세요.'))\n",
    "    user1 = Account(a1)\n",
    "    print('계좌번호는 %d 번 입니다.' %user1.get__name())\n",
    "    account_list.append(user1.get__name())\n",
    "\n",
    "elif question == 2 : \n",
    "    a3 = int(input('계좌번호를 입력하세요.'))\n",
    "    \n",
    "    if a3 in account_list : \n",
    "        user2 = Account(a3)\n",
    "        \n",
    "        a4 = int(input('얼마를 입금하실건가요?'))\n",
    "        user2.deposit(a4)\n",
    "        print('잔액은 %d 원 입니다.' %user2.get__balance())\n",
    "        \n",
    "elif question == 3 : \n",
    "    a5 = int(input('계좌번호를 입력하세요.'))\n",
    "    if a5 in account_list : \n",
    "        user3 = Account(a5)\n",
    "        a6 = int(input('얼마를 출금하실건가요?'))\n",
    "        user3.withdraw(a6)\n",
    "        print('잔액은 %d원입니다.' %user3.get__balance()) \n",
    "        \n",
    "elif question == 4 : \n",
    "    a7 = int(input('계좌번호를 입력하세요.'))\n",
    "    a9 = int(input('받는 계좌를 입력하세요.'))\n",
    "    if a7 in account_list and a9 in account_list : \n",
    "        user4 = Account(a7)\n",
    "        user5 = Account(a9)\n",
    "        a8 = int(input('얼마를 송금하실건가요?'))\n",
    "        user4.transfer(a8,user5)\n"
   ]
  },
  {
   "cell_type": "code",
   "execution_count": 69,
   "id": "0ab1555c-1499-432e-8713-8d5f184394b0",
   "metadata": {},
   "outputs": [
    {
     "name": "stdout",
     "output_type": "stream",
     "text": [
      "[10, 20]\n"
     ]
    }
   ],
   "source": [
    "print(account_list)"
   ]
  },
  {
   "cell_type": "code",
   "execution_count": 71,
   "id": "4b85ec4b-f151-4ed6-b57c-f21aa26f0104",
   "metadata": {},
   "outputs": [
    {
     "data": {
      "text/plain": [
       "0"
      ]
     },
     "execution_count": 71,
     "metadata": {},
     "output_type": "execute_result"
    }
   ],
   "source": [
    "Account(10).get__balance()"
   ]
  },
  {
   "cell_type": "code",
   "execution_count": null,
   "id": "672b7c58-eda5-4b1b-af9c-f39dbce51ccf",
   "metadata": {},
   "outputs": [],
   "source": []
  }
 ],
 "metadata": {
  "kernelspec": {
   "display_name": "Python 3 (ipykernel)",
   "language": "python",
   "name": "python3"
  },
  "language_info": {
   "codemirror_mode": {
    "name": "ipython",
    "version": 3
   },
   "file_extension": ".py",
   "mimetype": "text/x-python",
   "name": "python",
   "nbconvert_exporter": "python",
   "pygments_lexer": "ipython3",
   "version": "3.9.7"
  }
 },
 "nbformat": 4,
 "nbformat_minor": 5
}
