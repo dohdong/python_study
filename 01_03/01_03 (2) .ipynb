{
 "cells": [
  {
   "cell_type": "code",
   "execution_count": 110,
   "id": "eb6a278b-0b18-4d2a-a1a5-980995db204f",
   "metadata": {},
   "outputs": [],
   "source": [
    "class Account :\n",
    "    def __init__(self, num) :\n",
    "        self.__num = num    \n",
    "        self.__balance = 0  # __ 를 붙여서 밖에서 불러올 수 없게 만든다.\n",
    "                            # 이때 .get 을 이용해서 불러올 수 있다.\n",
    "\n",
    "            \n",
    "    def get__name(self) :    # get 하는 법\n",
    "        return self.__num\n",
    "    \n",
    "    def get__balance(self) :\n",
    "        print('----잔액----')\n",
    "        return self.__balance \n",
    "    \n",
    "    def set__num(self, num) :    # set은 get 과 반대됨. get은 리턴값이 있고,\n",
    "        self.__num = num           #  set은 외부 값을 대입함.\n",
    "    \n",
    "    def set__balance(self, balance ) : \n",
    "        self.__balance = balance\n",
    "    \n",
    "    def deposit(self, money) : \n",
    "        print('----입금----')\n",
    "        self.__balance = self.__balance + money\n",
    "        return self.__balance\n",
    "        \n",
    "    def withdraw(self, money) :\n",
    "        print('----출금----')\n",
    "        if self.__balance >= money :\n",
    "            self.__balance = self.__balance - money\n",
    "\n",
    "        else :\n",
    "            print('잔액이 부족합니다.')\n",
    "        return self.__balance\n",
    "    \n",
    "    # 송금\n",
    "    def transfer(self, money, other) :\n",
    "        # print(type(other)) #하면 <class '__main__.Account'> 즉 Account 타입.(Class)\n",
    "        self.__balance = self.__balance - money\n",
    "        other.__balance = other.__balance + money        \n",
    "    \n",
    "    # 정보 출력\n",
    "    def print_info(self) :\n",
    "        print('계좌번호 %d 번 잔액은 %d 입니다.' %(self.__num,self.__balance) )\n",
    "    \n",
    "    # 계좌 갯수 출력    \n",
    "    @classmethod\n",
    "    \n",
    "    def print_account_cnt(cls) :\n",
    "        print(cls.account_cnt)"
   ]
  },
  {
   "cell_type": "code",
   "execution_count": 111,
   "id": "cc2d8367-2fb0-436f-96f9-363edcf50bd6",
   "metadata": {},
   "outputs": [
    {
     "name": "stdout",
     "output_type": "stream",
     "text": [
      "----잔액----\n",
      "----잔액----\n",
      "0\n",
      "----잔액----\n",
      "0\n"
     ]
    }
   ],
   "source": [
    "user1 = Account(1)\n",
    "a = user1.get__balance()\n",
    "user2 = Account(2)\n",
    "a = user2.get__balance()\n",
    "print(a)\n",
    "print(user1.get__balance())"
   ]
  },
  {
   "cell_type": "code",
   "execution_count": 112,
   "id": "1c63c5ee-82a6-4f06-9500-b629ff57bef5",
   "metadata": {},
   "outputs": [
    {
     "name": "stdout",
     "output_type": "stream",
     "text": [
      "----입금----\n",
      "10\n"
     ]
    }
   ],
   "source": [
    "print(user1.deposit(10))"
   ]
  },
  {
   "cell_type": "code",
   "execution_count": 113,
   "id": "4865b639-578f-4801-a74d-95bf4a57e46e",
   "metadata": {},
   "outputs": [
    {
     "name": "stdout",
     "output_type": "stream",
     "text": [
      "----입금----\n"
     ]
    },
    {
     "data": {
      "text/plain": [
       "220"
      ]
     },
     "execution_count": 113,
     "metadata": {},
     "output_type": "execute_result"
    }
   ],
   "source": [
    "user1.deposit(210)"
   ]
  },
  {
   "cell_type": "code",
   "execution_count": 114,
   "id": "3b6a081b-e93f-40a6-acf0-8a0f09d8a3e2",
   "metadata": {},
   "outputs": [
    {
     "name": "stdout",
     "output_type": "stream",
     "text": [
      "----출금----\n",
      "215\n"
     ]
    }
   ],
   "source": [
    "a=user1.withdraw(5)\n",
    "print(a)"
   ]
  },
  {
   "cell_type": "code",
   "execution_count": 115,
   "id": "9442d37c-c311-4600-a0a2-6f5fe22d4307",
   "metadata": {},
   "outputs": [
    {
     "name": "stdout",
     "output_type": "stream",
     "text": [
      "----출금----\n"
     ]
    },
    {
     "data": {
      "text/plain": [
       "195"
      ]
     },
     "execution_count": 115,
     "metadata": {},
     "output_type": "execute_result"
    }
   ],
   "source": [
    "user1.withdraw(20)"
   ]
  },
  {
   "cell_type": "code",
   "execution_count": 117,
   "id": "dc64c8ca-a561-4156-81c1-e33e3233dc38",
   "metadata": {},
   "outputs": [],
   "source": [
    "user1.transfer(100,user2)"
   ]
  },
  {
   "cell_type": "code",
   "execution_count": 118,
   "id": "8717fae3-b3d4-4fc3-8d89-cf672f556491",
   "metadata": {},
   "outputs": [
    {
     "name": "stdout",
     "output_type": "stream",
     "text": [
      "----잔액----\n"
     ]
    },
    {
     "data": {
      "text/plain": [
       "95"
      ]
     },
     "execution_count": 118,
     "metadata": {},
     "output_type": "execute_result"
    }
   ],
   "source": [
    "user1.get__balance()"
   ]
  },
  {
   "cell_type": "code",
   "execution_count": 119,
   "id": "aab8fcba-8d2a-483c-ab6c-0dee8c1d0574",
   "metadata": {},
   "outputs": [
    {
     "name": "stdout",
     "output_type": "stream",
     "text": [
      "----잔액----\n"
     ]
    },
    {
     "data": {
      "text/plain": [
       "100"
      ]
     },
     "execution_count": 119,
     "metadata": {},
     "output_type": "execute_result"
    }
   ],
   "source": [
    "\n",
    "user2.get__balance()"
   ]
  },
  {
   "cell_type": "code",
   "execution_count": null,
   "id": "95c5c524-9da0-424f-ac69-ade14cb3f5c4",
   "metadata": {},
   "outputs": [],
   "source": [
    "이 Account를 키보드로 입력받게 모든걸 다.\n",
    "\n",
    "1. 계좌 만들기\n",
    "2. 입금\n",
    "3. 출금\n",
    "4. 송금하기.\n",
    "\n",
    "계좌 만들고 나서는 번호랑, 입금해~ 이런식으로 \n",
    "입금은 얼마할건지...? \n",
    "출금은 얼마, 송금은 누구한테 얼마 등등. 이런식으로"
   ]
  },
  {
   "cell_type": "code",
   "execution_count": null,
   "id": "8542b5bc-e29d-4f83-afc6-48e7487c4b5a",
   "metadata": {},
   "outputs": [],
   "source": []
  },
  {
   "cell_type": "code",
   "execution_count": null,
   "id": "9cf0ab5d-102e-4f24-a8ac-9aa277db251d",
   "metadata": {},
   "outputs": [],
   "source": [
    "question = int(input('어느 것을 원하시나요?'))\n",
    "\n",
    "if question == 1 :\n",
    "    a1 = int(input('계좌번호를 입력해주세요.'))"
   ]
  }
 ],
 "metadata": {
  "kernelspec": {
   "display_name": "Python 3 (ipykernel)",
   "language": "python",
   "name": "python3"
  },
  "language_info": {
   "codemirror_mode": {
    "name": "ipython",
    "version": 3
   },
   "file_extension": ".py",
   "mimetype": "text/x-python",
   "name": "python",
   "nbconvert_exporter": "python",
   "pygments_lexer": "ipython3",
   "version": "3.9.7"
  }
 },
 "nbformat": 4,
 "nbformat_minor": 5
}
