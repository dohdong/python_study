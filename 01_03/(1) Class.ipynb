{
 "cells": [
  {
   "cell_type": "markdown",
   "id": "e4cd313d-0ff7-4d1d-8e4b-df2f39b195a3",
   "metadata": {},
   "source": [
    "#### Class에서 get 으로 불러오는법."
   ]
  },
  {
   "cell_type": "markdown",
   "id": "e6558e4a-56a2-4d9b-b80d-62a98658dc6f",
   "metadata": {},
   "source": [
    "class 에서\n",
    "번호,잔액 은 속성\n",
    "입/출/송 은 메소드"
   ]
  },
  {
   "cell_type": "code",
   "execution_count": 580,
   "id": "9069cef3-9c93-478c-9f5c-d45263d709a9",
   "metadata": {},
   "outputs": [],
   "source": [
    "class Account :\n",
    "    account_cnt = 0\n",
    "    def __init__(self, num) : # 생성자\n",
    "        self.__num = num    \n",
    "        self.__balance = 0  # __ 를 붙여서 밖에서 불러올 수 없게 만든다.\n",
    "                            # __ 는 private 으로 만들어진것.\n",
    "                            # 이때 get 을 이용해서 불러올 수 있다.\n",
    "            \n",
    "        Account.account_cnt = Account.account_cnt + 1\n",
    "        #  print(Account.account_cnt)\n",
    "\n",
    "            \n",
    "    def get__name(self) :    # get 하는 법\n",
    "        return self.__num    # 객체 내부의 값을 외부로 내보내줌.\n",
    "     \n",
    "    def get__balance(self) :\n",
    "        return self.__balance \n",
    "    \n",
    "    def set__num(self, num) :    # set은 get 과 반대됨. get은 리턴값이 있고,\n",
    "        self.__num = num           #  set은 외부 값을 대입함.\n",
    "    \n",
    "    def set__balance(self, balance ) : \n",
    "        self.__balance = balance\n",
    "    \n",
    "    # 입금\n",
    "    def deposit(self, money) : \n",
    "        \n",
    "        self.__balance = self.__balance + money\n",
    "        # return self.__balance\n",
    "        \n",
    "    # 출금   \n",
    "    def withdraw(self, money) :\n",
    "        if self.__balance >= money :\n",
    "            self.__balance = self.__balance - money\n",
    "        else :\n",
    "            print('잔액이 부족합니다.')\n",
    "    \n",
    "    # 송금\n",
    "    def transfer(self, money, other) :\n",
    "        # print(type(other)) #하면 <class '__main__.Account'> 즉 Account 타입.(Class)\n",
    "        self.__balance = self.__balance - money\n",
    "        # other.__balance = other.__balance + money  \n",
    "        other.set__balance(other.get__balance() + money) \n",
    "        # other 가 같은 class 안 이 아니라 밖에 있으면 이렇게 불러와야함.\n",
    "    \n",
    "    # 정보 출력\n",
    "    def print_info(self) :\n",
    "        print('계좌번호 %d 번 잔액은 %d 입니다.' %(self.__num,self.__balance) )\n",
    "    \n",
    "    # 계좌 갯수 출력    클래스 당 1개\n",
    "    @classmethod\n",
    "    def print_account_cnt(cls) :\n",
    "        print(cls.account_cnt)"
   ]
  },
  {
   "cell_type": "code",
   "execution_count": null,
   "id": "07bdbc07-e96c-4ac1-8cca-ff6fcb6e04cb",
   "metadata": {},
   "outputs": [],
   "source": []
  },
  {
   "cell_type": "code",
   "execution_count": 581,
   "id": "6e90a1c7-e9d0-45fa-80e9-0b79ea40659e",
   "metadata": {},
   "outputs": [],
   "source": [
    "# Function"
   ]
  },
  {
   "cell_type": "code",
   "execution_count": 582,
   "id": "0b2d2cdb-6f3e-4e8a-bef0-56891b5ec94f",
   "metadata": {},
   "outputs": [
    {
     "name": "stdout",
     "output_type": "stream",
     "text": [
      "0\n",
      "0\n"
     ]
    }
   ],
   "source": [
    "# Main\n",
    "\n",
    "user1 = Account(1)\n",
    "a = user1.get__balance()\n",
    "\n",
    "print(a)\n",
    "print(user1.get__balance())\n"
   ]
  },
  {
   "cell_type": "code",
   "execution_count": 583,
   "id": "3b8662be-9fb3-4034-91fd-4587f7ec8d08",
   "metadata": {},
   "outputs": [
    {
     "name": "stdout",
     "output_type": "stream",
     "text": [
      "0\n",
      "2\n"
     ]
    }
   ],
   "source": [
    "user2 = Account(2)\n",
    "b = user2.get__balance()\n",
    "\n",
    "print(b)\n",
    "print(user2.get__name())"
   ]
  },
  {
   "cell_type": "code",
   "execution_count": 584,
   "id": "54811c95-1589-49fb-b471-077dd13426ea",
   "metadata": {},
   "outputs": [
    {
     "data": {
      "text/plain": [
       "0"
      ]
     },
     "execution_count": 584,
     "metadata": {},
     "output_type": "execute_result"
    }
   ],
   "source": [
    "# 다른 함수에 return 이 없을때\n",
    "user1.get__balance()  # 를 이용해서 잔액 확인만 하는 용도로 \n",
    "                      # return이 있는 get을 사용이 가능하다."
   ]
  },
  {
   "cell_type": "code",
   "execution_count": 600,
   "id": "bc5da9ff-0eff-4365-9162-9faa3cc2c94e",
   "metadata": {},
   "outputs": [],
   "source": [
    "user1.deposit(500)"
   ]
  },
  {
   "cell_type": "code",
   "execution_count": 601,
   "id": "e218d068-df9b-426b-b578-86e22baca16c",
   "metadata": {},
   "outputs": [
    {
     "data": {
      "text/plain": [
       "1500"
      ]
     },
     "execution_count": 601,
     "metadata": {},
     "output_type": "execute_result"
    }
   ],
   "source": [
    "user1.get__balance()"
   ]
  },
  {
   "cell_type": "code",
   "execution_count": 663,
   "id": "fd2e0c57-2050-46e3-9e89-ad6d08647670",
   "metadata": {},
   "outputs": [],
   "source": [
    "a1 = 10\n",
    "Account(a1).deposit(110)"
   ]
  },
  {
   "cell_type": "code",
   "execution_count": 665,
   "id": "b3f6190f-4794-480f-bfd5-8fd35e44ed52",
   "metadata": {},
   "outputs": [
    {
     "data": {
      "text/plain": [
       "0"
      ]
     },
     "execution_count": 665,
     "metadata": {},
     "output_type": "execute_result"
    }
   ],
   "source": [
    "Account(a1).get__balance()"
   ]
  },
  {
   "cell_type": "code",
   "execution_count": 666,
   "id": "551994bc-cf90-476b-a526-b7066b566f6e",
   "metadata": {},
   "outputs": [],
   "source": [
    "\n",
    "Account(10).deposit(100)\n"
   ]
  },
  {
   "cell_type": "code",
   "execution_count": 667,
   "id": "33905b8c-136b-4b06-8277-4f81d502504b",
   "metadata": {},
   "outputs": [
    {
     "data": {
      "text/plain": [
       "0"
      ]
     },
     "execution_count": 667,
     "metadata": {},
     "output_type": "execute_result"
    }
   ],
   "source": [
    "Account(10).get__balance()"
   ]
  },
  {
   "cell_type": "code",
   "execution_count": 672,
   "id": "a99127c9-948a-4fb5-bc3b-17faade385f2",
   "metadata": {},
   "outputs": [],
   "source": [
    "x = Account(a1)\n",
    "x.deposit(100)  "
   ]
  },
  {
   "cell_type": "code",
   "execution_count": 670,
   "id": "b5161405-c70c-4a49-95c1-f84c1848abd0",
   "metadata": {},
   "outputs": [],
   "source": [
    "x.deposit(100)"
   ]
  },
  {
   "cell_type": "code",
   "execution_count": 673,
   "id": "5c29455e-219a-4a7a-a57a-172cf816f39d",
   "metadata": {},
   "outputs": [
    {
     "data": {
      "text/plain": [
       "100"
      ]
     },
     "execution_count": 673,
     "metadata": {},
     "output_type": "execute_result"
    }
   ],
   "source": [
    "x.get__balance()"
   ]
  },
  {
   "cell_type": "code",
   "execution_count": 608,
   "id": "d4beb5fd-702d-437a-ab7d-8a772ad13f08",
   "metadata": {},
   "outputs": [
    {
     "name": "stdout",
     "output_type": "stream",
     "text": [
      "None\n"
     ]
    }
   ],
   "source": [
    "# 혹은 deposit 안에 return을 만들어서 (첫번째 셀 def deposit 안에 #처리한 내용.)\n",
    "print(user1.deposit(10))    # return 이 있으면 get__balance로 다시 할 필요없이 \n",
    "                            # 되는 거 아닌가..?\n",
    "    \n",
    "    # 근데 하나의 함수에 한 가지 기능만 하기 위해서 return을 하지 않고\n",
    "    \n",
    "    # 잔액 확인 기능 1개 , \n",
    "    # 입출 기능  1개. 이런 식으로 하는 것임."
   ]
  },
  {
   "cell_type": "code",
   "execution_count": 609,
   "id": "498e7f9a-1d6f-4461-8a87-c6d0c59e74ef",
   "metadata": {},
   "outputs": [
    {
     "name": "stdout",
     "output_type": "stream",
     "text": [
      "계좌번호 1 번 잔액은 1410 입니다.\n"
     ]
    }
   ],
   "source": [
    "user1.print_info()"
   ]
  },
  {
   "cell_type": "code",
   "execution_count": 610,
   "id": "cd97a5f1-964c-482c-9500-b043f63ce63b",
   "metadata": {},
   "outputs": [
    {
     "name": "stdout",
     "output_type": "stream",
     "text": [
      "계좌번호 2 번 잔액은 100 입니다.\n"
     ]
    }
   ],
   "source": [
    "user2.print_info()"
   ]
  },
  {
   "cell_type": "code",
   "execution_count": 396,
   "id": "d7028236-d8ba-46ba-8e76-18149662cd33",
   "metadata": {},
   "outputs": [],
   "source": [
    "user1.withdraw(100)"
   ]
  },
  {
   "cell_type": "code",
   "execution_count": 397,
   "id": "5ca6c44c-c0e6-4960-bda2-c7c2ebaf7a5e",
   "metadata": {},
   "outputs": [
    {
     "data": {
      "text/plain": [
       "410"
      ]
     },
     "execution_count": 419,
     "metadata": {},
     "output_type": "execute_result"
    }
   ],
   "source": [
    "user1.get__balance()"
   ]
  },
  {
   "cell_type": "code",
   "execution_count": 398,
   "id": "1da14c78-642b-47e5-bc44-25a36f4eaa8a",
   "metadata": {},
   "outputs": [
    {
     "name": "stdout",
     "output_type": "stream",
     "text": [
      "잔액이 부족합니다.\n"
     ]
    }
   ],
   "source": [
    "user1.withdraw(500)"
   ]
  },
  {
   "cell_type": "code",
   "execution_count": 399,
   "id": "fc80e059-64fa-4897-8285-e69e4a67040d",
   "metadata": {},
   "outputs": [
    {
     "name": "stdout",
     "output_type": "stream",
     "text": [
      "2\n"
     ]
    }
   ],
   "source": [
    "print(Account.account_cnt)"
   ]
  },
  {
   "cell_type": "code",
   "execution_count": 400,
   "id": "7cc48e88-1981-4bf6-8b4c-e9308dd996b7",
   "metadata": {},
   "outputs": [
    {
     "data": {
      "text/plain": [
       "2"
      ]
     },
     "execution_count": 422,
     "metadata": {},
     "output_type": "execute_result"
    }
   ],
   "source": [
    "Account.account_cnt"
   ]
  },
  {
   "cell_type": "code",
   "execution_count": 401,
   "id": "5a88fd93-f6f0-4e84-b1df-8c20c7b7855a",
   "metadata": {},
   "outputs": [
    {
     "name": "stdout",
     "output_type": "stream",
     "text": [
      "2\n"
     ]
    }
   ],
   "source": [
    "Account.print_account_cnt()"
   ]
  },
  {
   "cell_type": "code",
   "execution_count": 429,
   "id": "6c8d929e-140b-4a5a-92ca-fcb7baf55889",
   "metadata": {},
   "outputs": [],
   "source": [
    "user3  = Account(3)         # 계좌 갯수는 클래스 당 1개"
   ]
  },
  {
   "cell_type": "code",
   "execution_count": 430,
   "id": "dde9f993-84cd-40b6-925a-02c8f7345883",
   "metadata": {},
   "outputs": [
    {
     "name": "stdout",
     "output_type": "stream",
     "text": [
      "4\n"
     ]
    }
   ],
   "source": [
    "Account.print_account_cnt() # 클래스 당 1개! 니까 클래스 명을 써준다.\n",
    "                            # Java에서는 많이 쓰인다."
   ]
  },
  {
   "cell_type": "code",
   "execution_count": 603,
   "id": "b2e17247-fb2d-40d1-9a5e-6f826e17f8c3",
   "metadata": {},
   "outputs": [],
   "source": [
    "user1.transfer(100,user2)"
   ]
  },
  {
   "cell_type": "code",
   "execution_count": 604,
   "id": "3fe797b0-e6ba-4774-943f-6375182726a6",
   "metadata": {},
   "outputs": [
    {
     "data": {
      "text/plain": [
       "1400"
      ]
     },
     "execution_count": 604,
     "metadata": {},
     "output_type": "execute_result"
    }
   ],
   "source": [
    "user1.get__balance()"
   ]
  },
  {
   "cell_type": "code",
   "execution_count": 605,
   "id": "d39910b9-e356-4d05-a22b-5f2a98a3c8d7",
   "metadata": {},
   "outputs": [
    {
     "data": {
      "text/plain": [
       "100"
      ]
     },
     "execution_count": 605,
     "metadata": {},
     "output_type": "execute_result"
    }
   ],
   "source": [
    "user2.get__balance()"
   ]
  },
  {
   "cell_type": "markdown",
   "id": "4333a362-7ca0-4aed-a24e-3cc12a0a7650",
   "metadata": {},
   "source": [
    "###  직사각형"
   ]
  },
  {
   "cell_type": "code",
   "execution_count": 570,
   "id": "ced82ff9-4121-4e6e-b055-e222a47ef984",
   "metadata": {},
   "outputs": [],
   "source": [
    "class Rectangle :\n",
    "    \n",
    "\n",
    "    def __init__ (self, garo, sero ) :\n",
    "        self.__garo = garo\n",
    "        self.__sero = sero\n",
    "        \n",
    "        \n",
    "        \n",
    "\n",
    "    \n",
    "    def get__garo(self) :   \n",
    "        return self.__garo \n",
    "     \n",
    "    def get__sero(self) :\n",
    "        return self.__sero \n",
    "    \n",
    "    def set__garo(self, garo) :   \n",
    "        self.__garo = garo           \n",
    "    \n",
    "    def set__sero(self, sero ) : \n",
    "        self.__sero = sero\n",
    "\n",
    "    def Rec__round(self) :\n",
    "        return (2 * ( self.__garo + self.__sero ))\n",
    "\n",
    "    def Rec__area(self) :\n",
    "        return ( self.__garo * self.__sero )\n",
    "    \n",
    "\n",
    "       \n"
   ]
  },
  {
   "cell_type": "code",
   "execution_count": 571,
   "id": "5fdf68b2-aeb1-4f52-86da-18811a15de94",
   "metadata": {},
   "outputs": [
    {
     "name": "stdout",
     "output_type": "stream",
     "text": [
      "14\n",
      "12\n"
     ]
    }
   ],
   "source": [
    "rec1 = Rectangle(3, 4)\n",
    "print(rec1.Rec__round())\n",
    "print(rec1.Rec__area())"
   ]
  },
  {
   "cell_type": "code",
   "execution_count": 572,
   "id": "27cf641c-7d25-44be-a6f7-63ca4bc0ccc0",
   "metadata": {},
   "outputs": [
    {
     "data": {
      "text/plain": [
       "3"
      ]
     },
     "execution_count": 572,
     "metadata": {},
     "output_type": "execute_result"
    }
   ],
   "source": [
    "rec1.get__garo()"
   ]
  },
  {
   "cell_type": "code",
   "execution_count": 573,
   "id": "e9ef85e0-0a2e-4444-bf17-786f613ba068",
   "metadata": {},
   "outputs": [
    {
     "data": {
      "text/plain": [
       "4"
      ]
     },
     "execution_count": 573,
     "metadata": {},
     "output_type": "execute_result"
    }
   ],
   "source": [
    "rec1.get__sero()"
   ]
  },
  {
   "cell_type": "code",
   "execution_count": 576,
   "id": "3c624efe-23bc-4ba8-98dd-44542f7f415e",
   "metadata": {},
   "outputs": [
    {
     "data": {
      "text/plain": [
       "12"
      ]
     },
     "execution_count": 576,
     "metadata": {},
     "output_type": "execute_result"
    }
   ],
   "source": [
    "rec1.Rec__area()"
   ]
  },
  {
   "cell_type": "code",
   "execution_count": 577,
   "id": "4bbda2ca-9c7b-4c5a-b752-bbce99d7d6f6",
   "metadata": {},
   "outputs": [
    {
     "name": "stdout",
     "output_type": "stream",
     "text": [
      "12\n"
     ]
    }
   ],
   "source": [
    "print(rec1.Rec__area())"
   ]
  },
  {
   "cell_type": "code",
   "execution_count": null,
   "id": "34fb0d5a-4308-4d1b-bae8-196340d12ebf",
   "metadata": {},
   "outputs": [],
   "source": []
  },
  {
   "cell_type": "code",
   "execution_count": null,
   "id": "6fbb631c-b73b-449b-a077-0cfc7e02fa92",
   "metadata": {},
   "outputs": [],
   "source": []
  }
 ],
 "metadata": {
  "kernelspec": {
   "display_name": "Python 3 (ipykernel)",
   "language": "python",
   "name": "python3"
  },
  "language_info": {
   "codemirror_mode": {
    "name": "ipython",
    "version": 3
   },
   "file_extension": ".py",
   "mimetype": "text/x-python",
   "name": "python",
   "nbconvert_exporter": "python",
   "pygments_lexer": "ipython3",
   "version": "3.9.7"
  }
 },
 "nbformat": 4,
 "nbformat_minor": 5
}
