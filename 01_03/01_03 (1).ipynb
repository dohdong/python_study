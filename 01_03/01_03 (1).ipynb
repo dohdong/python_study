{
 "cells": [
  {
   "cell_type": "markdown",
   "id": "e4cd313d-0ff7-4d1d-8e4b-df2f39b195a3",
   "metadata": {},
   "source": [
    "#### Class에서 get 으로 불러오는법."
   ]
  },
  {
   "cell_type": "markdown",
   "id": "e6558e4a-56a2-4d9b-b80d-62a98658dc6f",
   "metadata": {},
   "source": [
    "class 에서\n",
    "번호,잔액 은 속성\n",
    "입/출/송 은 메소드"
   ]
  },
  {
   "cell_type": "code",
   "execution_count": 203,
   "id": "9069cef3-9c93-478c-9f5c-d45263d709a9",
   "metadata": {},
   "outputs": [],
   "source": [
    "class Account :\n",
    "    def __init__(self, num) :\n",
    "        self.__num = num    \n",
    "        self.__balance = 0  # __ 를 붙여서 밖에서 불러올 수 없게 만든다.\n",
    "                            # 이때 .get 을 이용해서 불러올 수 있다.\n",
    "\n",
    "            \n",
    "    def get__name(self) :    # get 하는 법\n",
    "        return self.__num\n",
    "    \n",
    "    def get__balance(self) :\n",
    "        return self.__balance \n",
    "    \n",
    "    def deposit(self, money) : \n",
    "        self.__balance = self.__balance + money\n",
    "        # return self.__balance\n",
    "        \n",
    "    def withdraw(self, money) :\n",
    "        if self.__balance >= money :\n",
    "            self.__balance = self.__balance - money\n",
    "        else :\n",
    "            print('잔액이 부족합니다.')\n",
    "        \n",
    "    def print_info(self) :\n",
    "        print('계좌번호 %d 번 잔액은 %d 입니다.' %(self.__num,self.__balance) )"
   ]
  },
  {
   "cell_type": "code",
   "execution_count": 204,
   "id": "6e90a1c7-e9d0-45fa-80e9-0b79ea40659e",
   "metadata": {},
   "outputs": [],
   "source": [
    "# Function"
   ]
  },
  {
   "cell_type": "code",
   "execution_count": 205,
   "id": "0b2d2cdb-6f3e-4e8a-bef0-56891b5ec94f",
   "metadata": {},
   "outputs": [
    {
     "name": "stdout",
     "output_type": "stream",
     "text": [
      "0\n",
      "0\n"
     ]
    }
   ],
   "source": [
    "# Main\n",
    "\n",
    "user1 = Account(1)\n",
    "a = user1.get__balance()\n",
    "\n",
    "print(a)\n",
    "print(user1.get__balance())\n"
   ]
  },
  {
   "cell_type": "code",
   "execution_count": 206,
   "id": "3b8662be-9fb3-4034-91fd-4587f7ec8d08",
   "metadata": {},
   "outputs": [
    {
     "name": "stdout",
     "output_type": "stream",
     "text": [
      "0\n",
      "2\n"
     ]
    }
   ],
   "source": [
    "user2 = Account(2)\n",
    "b = user2.get__balance()\n",
    "\n",
    "print(b)\n",
    "print(user2.get__name())"
   ]
  },
  {
   "cell_type": "code",
   "execution_count": 207,
   "id": "54811c95-1589-49fb-b471-077dd13426ea",
   "metadata": {},
   "outputs": [
    {
     "data": {
      "text/plain": [
       "0"
      ]
     },
     "execution_count": 207,
     "metadata": {},
     "output_type": "execute_result"
    }
   ],
   "source": [
    "# 다른 함수에 return 이 없을때\n",
    "user1.get__balance()  #를 이용해서 잔액 확인만 하는 용도로 사용 가능하다."
   ]
  },
  {
   "cell_type": "code",
   "execution_count": 208,
   "id": "bc5da9ff-0eff-4365-9162-9faa3cc2c94e",
   "metadata": {},
   "outputs": [],
   "source": [
    "user1.deposit(500)"
   ]
  },
  {
   "cell_type": "code",
   "execution_count": 209,
   "id": "e218d068-df9b-426b-b578-86e22baca16c",
   "metadata": {},
   "outputs": [
    {
     "data": {
      "text/plain": [
       "500"
      ]
     },
     "execution_count": 209,
     "metadata": {},
     "output_type": "execute_result"
    }
   ],
   "source": [
    "user1.get__balance()"
   ]
  },
  {
   "cell_type": "code",
   "execution_count": 210,
   "id": "d4beb5fd-702d-437a-ab7d-8a772ad13f08",
   "metadata": {},
   "outputs": [
    {
     "name": "stdout",
     "output_type": "stream",
     "text": [
      "None\n"
     ]
    }
   ],
   "source": [
    "# 혹은 deposit 안에 return을 만들어서 (첫번째 셀 def deposit 안에 #처리한 내용.)\n",
    "print(user1.deposit(10))    # return 이 있으면 get__balance로 다시 할 필요없이 \n",
    "                            # 되는 거 아닌가..?\n",
    "    \n",
    "    # 근데 하나의 함수에 한 가지 기능만 하기 위해서 return을 하지 않고\n",
    "    \n",
    "    # 잔액 확인 기능 1개 , \n",
    "    # 입출 기능  1개. 이런 식으로 하는 것임."
   ]
  },
  {
   "cell_type": "code",
   "execution_count": 211,
   "id": "498e7f9a-1d6f-4461-8a87-c6d0c59e74ef",
   "metadata": {},
   "outputs": [
    {
     "name": "stdout",
     "output_type": "stream",
     "text": [
      "계좌번호 1 번 잔액은 510 입니다.\n"
     ]
    }
   ],
   "source": [
    "user1.print_info()"
   ]
  },
  {
   "cell_type": "code",
   "execution_count": 212,
   "id": "cd97a5f1-964c-482c-9500-b043f63ce63b",
   "metadata": {},
   "outputs": [
    {
     "name": "stdout",
     "output_type": "stream",
     "text": [
      "계좌번호 2 번 잔액은 0 입니다.\n"
     ]
    }
   ],
   "source": [
    "user2.print_info()"
   ]
  },
  {
   "cell_type": "code",
   "execution_count": 213,
   "id": "d7028236-d8ba-46ba-8e76-18149662cd33",
   "metadata": {},
   "outputs": [],
   "source": [
    "user1.withdraw(100)"
   ]
  },
  {
   "cell_type": "code",
   "execution_count": 214,
   "id": "5ca6c44c-c0e6-4960-bda2-c7c2ebaf7a5e",
   "metadata": {},
   "outputs": [
    {
     "data": {
      "text/plain": [
       "410"
      ]
     },
     "execution_count": 214,
     "metadata": {},
     "output_type": "execute_result"
    }
   ],
   "source": [
    "user1.get__balance()"
   ]
  },
  {
   "cell_type": "code",
   "execution_count": 215,
   "id": "1da14c78-642b-47e5-bc44-25a36f4eaa8a",
   "metadata": {},
   "outputs": [
    {
     "name": "stdout",
     "output_type": "stream",
     "text": [
      "잔액이 부족합니다.\n"
     ]
    }
   ],
   "source": [
    "user1.withdraw(500)"
   ]
  },
  {
   "cell_type": "code",
   "execution_count": null,
   "id": "fc80e059-64fa-4897-8285-e69e4a67040d",
   "metadata": {},
   "outputs": [],
   "source": []
  },
  {
   "cell_type": "code",
   "execution_count": null,
   "id": "7cc48e88-1981-4bf6-8b4c-e9308dd996b7",
   "metadata": {},
   "outputs": [],
   "source": []
  }
 ],
 "metadata": {
  "kernelspec": {
   "display_name": "Python 3 (ipykernel)",
   "language": "python",
   "name": "python3"
  },
  "language_info": {
   "codemirror_mode": {
    "name": "ipython",
    "version": 3
   },
   "file_extension": ".py",
   "mimetype": "text/x-python",
   "name": "python",
   "nbconvert_exporter": "python",
   "pygments_lexer": "ipython3",
   "version": "3.9.7"
  }
 },
 "nbformat": 4,
 "nbformat_minor": 5
}
