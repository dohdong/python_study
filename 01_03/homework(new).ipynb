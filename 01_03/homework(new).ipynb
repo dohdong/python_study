{
 "cells": [
  {
   "cell_type": "code",
   "execution_count": 16,
   "id": "7df2ecbd-1cfa-45be-9348-48837a92d6d7",
   "metadata": {},
   "outputs": [],
   "source": [
    "class Account :\n",
    "\n",
    "    def __init__(self, name) : # 생성자\n",
    "        self.__name = name    \n",
    "        self.__money = 0 \n",
    "\n",
    "            \n",
    "    def get_name(self) :    \n",
    "        return self.__name    \n",
    "     \n",
    "    def get_money(self) :\n",
    "        return self.__money \n",
    "    \n",
    "    \n",
    "    # 입금\n",
    "    def deposit(self, money) : \n",
    "        self.__money = self.__money + money\n",
    "\n",
    "        \n",
    "    # 출금   \n",
    "    def withdraw(self, money) :\n",
    "        if self.__money >= money :\n",
    "            self.__money = self.__money - money\n",
    "        else :\n",
    "            print('잔액이 부족합니다.')\n",
    "    \n",
    "    # 송금\n",
    "    def transfer(self, money, other) :\n",
    "        \n",
    "        if self.money >= money:\n",
    "            \n",
    "            self.__money = self.__money - money\n",
    "            other.__money = other.__money + money \n",
    "        else : \n",
    "            print('잔액이 부족합니다')\n"
   ]
  },
  {
   "cell_type": "code",
   "execution_count": 17,
   "id": "26e290c9-a4af-4d7c-8042-33bfcfaf28c3",
   "metadata": {},
   "outputs": [],
   "source": [
    "account_list = list()\n",
    "def make_id():\n",
    "    name = input('이름을 입력하세요.')\n",
    "    name = Account(name)\n",
    "    account_list.append(name)"
   ]
  },
  {
   "cell_type": "code",
   "execution_count": 19,
   "id": "fd3874a7-775c-4e3c-9cab-08b342127940",
   "metadata": {},
   "outputs": [
    {
     "name": "stdin",
     "output_type": "stream",
     "text": [
      "어느 것을 원하시나요? 2\n",
      "계좌 이름은? 박\n",
      "얼마 입금? 100\n"
     ]
    },
    {
     "name": "stdout",
     "output_type": "stream",
     "text": [
      "잔액은 100\n"
     ]
    }
   ],
   "source": [
    "question = int(input('어느 것을 원하시나요?'))\n",
    "\n",
    "\n",
    "if question == 1 :\n",
    "    make_id()\n",
    "    \n",
    "elif question == 2 :\n",
    "    account_name = input('계좌 이름은?')\n",
    "    for i in account_list :\n",
    "        if account_name == i.get_name() :       # 흠.. 쉽지 않네...\n",
    "            money = int(input('얼마 입금?'))\n",
    "            i.deposit(money)\n",
    "            print('잔액은 %d' %i.get_money())\n",
    "            break\n"
   ]
  },
  {
   "cell_type": "code",
   "execution_count": 22,
   "id": "b6c4b99f-e63f-4768-ac25-a9b8f4c6c23f",
   "metadata": {},
   "outputs": [
    {
     "ename": "NameError",
     "evalue": "name '박' is not defined",
     "output_type": "error",
     "traceback": [
      "\u001b[1;31m---------------------------------------------------------------------------\u001b[0m",
      "\u001b[1;31mNameError\u001b[0m                                 Traceback (most recent call last)",
      "\u001b[1;32m~\\AppData\\Local\\Temp/ipykernel_6248/3400523971.py\u001b[0m in \u001b[0;36m<module>\u001b[1;34m\u001b[0m\n\u001b[1;32m----> 1\u001b[1;33m \u001b[0mprint\u001b[0m\u001b[1;33m(\u001b[0m\u001b[0mAccount\u001b[0m\u001b[1;33m(\u001b[0m\u001b[0m박\u001b[0m\u001b[1;33m)\u001b[0m\u001b[1;33m.\u001b[0m\u001b[0mget__money\u001b[0m\u001b[1;33m)\u001b[0m\u001b[1;33m\u001b[0m\u001b[1;33m\u001b[0m\u001b[0m\n\u001b[0m",
      "\u001b[1;31mNameError\u001b[0m: name '박' is not defined"
     ]
    }
   ],
   "source": [
    "print(Account(박).get__money)"
   ]
  },
  {
   "cell_type": "code",
   "execution_count": null,
   "id": "a0597471-7d16-4d43-baf4-e13a78766d2a",
   "metadata": {},
   "outputs": [],
   "source": []
  }
 ],
 "metadata": {
  "kernelspec": {
   "display_name": "Python 3 (ipykernel)",
   "language": "python",
   "name": "python3"
  },
  "language_info": {
   "codemirror_mode": {
    "name": "ipython",
    "version": 3
   },
   "file_extension": ".py",
   "mimetype": "text/x-python",
   "name": "python",
   "nbconvert_exporter": "python",
   "pygments_lexer": "ipython3",
   "version": "3.9.7"
  }
 },
 "nbformat": 4,
 "nbformat_minor": 5
}
