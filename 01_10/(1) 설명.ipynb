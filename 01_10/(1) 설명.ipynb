{
 "cells": [
  {
   "cell_type": "code",
   "execution_count": 1,
   "id": "0c98fb4a-d504-4787-afd2-5994a7998ed9",
   "metadata": {},
   "outputs": [],
   "source": [
    "# ex05 pandas 의   ' ## 7. Pandas 연습 ' 이후를 연습하였다."
   ]
  },
  {
   "cell_type": "code",
   "execution_count": 2,
   "id": "bb678f84-5b7c-4fde-a9d5-6acf03a0e766",
   "metadata": {},
   "outputs": [],
   "source": [
    "# 점심 이후"
   ]
  },
  {
   "cell_type": "code",
   "execution_count": 3,
   "id": "79a59028-c076-410e-b9c5-a46eb1540d18",
   "metadata": {},
   "outputs": [],
   "source": [
    "# 09_matplotlib의 그래프 그리기"
   ]
  },
  {
   "cell_type": "code",
   "execution_count": 4,
   "id": "6c641fc6-e2c1-4e17-ab7b-57ddeb631120",
   "metadata": {},
   "outputs": [],
   "source": [
    "# 결국 05~08 의 pandas 와 09의 그래프 그리기를 알아야함."
   ]
  },
  {
   "cell_type": "code",
   "execution_count": 5,
   "id": "219321c4-0d69-4b6f-bb5c-003b907d1520",
   "metadata": {},
   "outputs": [],
   "source": [
    "# 이후 10의 seaborn 에서 샘플데이터등을 배움."
   ]
  },
  {
   "cell_type": "code",
   "execution_count": null,
   "id": "6b025f52-c4fd-428a-941c-ffbac42a5799",
   "metadata": {},
   "outputs": [],
   "source": []
  }
 ],
 "metadata": {
  "kernelspec": {
   "display_name": "Python 3 (ipykernel)",
   "language": "python",
   "name": "python3"
  },
  "language_info": {
   "codemirror_mode": {
    "name": "ipython",
    "version": 3
   },
   "file_extension": ".py",
   "mimetype": "text/x-python",
   "name": "python",
   "nbconvert_exporter": "python",
   "pygments_lexer": "ipython3",
   "version": "3.9.7"
  }
 },
 "nbformat": 4,
 "nbformat_minor": 5
}
